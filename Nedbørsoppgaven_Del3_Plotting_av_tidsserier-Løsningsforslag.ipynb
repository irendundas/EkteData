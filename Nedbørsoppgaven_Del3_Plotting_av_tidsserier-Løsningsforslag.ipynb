{
 "cells": [
  {
   "cell_type": "markdown",
   "metadata": {},
   "source": [
    "## Nedbørsoppgaven Del 3: Plotting av tidsserier\n",
    "\n",
    "*Nedbørsoppgavene Del 1 til 5 er laget som støtte-oppgaver til oppgaven \"Nedbør i Norge\". Oppgaven \"Nedbør i Norge\" er en lengre oppgave som kommer innom mange forskjellige programerings-elementer. Intensjonen er at hvis man først gjør deloppgavene 1 til 5 og så går gjennom det nokså omfattende eksempelet på starten av oppgaven \"Nedbør i Norge\" så vil det programeringstekniske i oppgaven \"Nedbør i Norge\" være repetisjon, slik at man kan fokusere på den naturvitenskaplige tolkningen av dataene. På denne måten får man både trening i programmering og erfaring med hvordan det kan brukes til å studere og forstå naturvitenskaplige prosesser.*\n",
    "\n",
    "-------------------"
   ]
  },
  {
   "cell_type": "markdown",
   "metadata": {},
   "source": [
    "Når man skal jobbe med et datasett er å lage figurer et av de viktigste verktøyene man har. Dette gjelder i starten når man prøver å få oversikten over dataene, men også seinere når man skal presentere resultater.\n",
    "\n",
    "I denne oppgaven skal vi se på tidsserier. I oppgaven \"Figurer\" er denne oppgaven inkludert, men også et par flere måter å visualiere data. \n",
    "Vi kommer også såvidt innom hvordan man bruker dokumentasjonen til funksjonene man bruker.\n",
    "\n",
    "#### Last inn pakkene som trengs"
   ]
  },
  {
   "cell_type": "code",
   "execution_count": null,
   "metadata": {},
   "outputs": [],
   "source": [
    "import numpy as np # for regneoperasjoner\n",
    "import matplotlib.pyplot as plt # for figurer\n",
    "from EkteDataFunk import loadData # for filinnlasting"
   ]
  },
  {
   "cell_type": "markdown",
   "metadata": {},
   "source": [
    "En av de aller enkleste figurene er et linjeplot. For en funksjon f(x) er x langs første-aksen, og f(x) langs andre-aksen. I dette eksempelet har vi temperatur som en funksjon av tid, så vi får tid langs første-aksen og temperatur langs andre-aksen. \n",
    "\n",
    "\n",
    "#### 1. Last inn et datasett\n",
    "Last inn et datasett å jobbe med. I denne oppgaven bruker vi års-temperatur i Bergen fra 1860 til 2020. Siden funkjsonen her er en funksjon av tid er dette en tidsserie. \n",
    "I oppgaven \"RyddDatasett\" og \"Funksjoner\" er det detaljer på hvordan filinnlastingen fungerer."
   ]
  },
  {
   "cell_type": "code",
   "execution_count": null,
   "metadata": {},
   "outputs": [],
   "source": [
    "file='TempBergenYearlyNonan.txt'\n",
    "temp,tid = loadData(file)"
   ]
  },
  {
   "cell_type": "markdown",
   "metadata": {},
   "source": [
    "#### 2. Lag en figur \n",
    "Vi lagde figurer i både del 1 og 2, men man kan lage veldig mye mer ryddige og informative figurer enn det vi så på i de to delene. Aller helst skal man kunne se på en figur uten caption og ganske lett kunne skjønne hva dataene viser. Men dette forutsetter gode figurer med navn på aksene, tittel, fargekoding av linjer dersom det er flere og \"legends\" (symbol/fargeforklaring av linjene). \n",
    "\n",
    "I denne oppgaven går vi kun gjennom eksempler på linjeplot, men om du er interessert i flere eksempler kan du titte på oppgaven \"Figurer.ipynb\" som også ligge i GitHub repoet til EkteData. "
   ]
  },
  {
   "cell_type": "code",
   "execution_count": null,
   "metadata": {},
   "outputs": [],
   "source": [
    "# Lag akser å plotte i. Dette er ikke strengt tatt nødvendig for å lage en \n",
    "# figur, men gjør at du lettere kan definere størrelsen på figuren, definere \n",
    "# grid, tekst osv. på ryddig vis som under. \n",
    "ax=plt.axes()\n",
    "\n",
    "# Plot tidsserien\n",
    "ax.plot(tid, temp)\n",
    "\n",
    "# Definer grid, tekst etc.\n",
    "ax.set(\n",
    "    title='Temperatur 1860-2020',\n",
    "    xlabel='År',\n",
    "    ylabel='Temperatur [\\u2103]', # \\u2103 er koden for grader celcius. \n",
    "    xlim=[1860,2020], # Sett grense for x-aksen\n",
    "    ylim=[5.5,10.5]) # Sett grense for y-aksen\n",
    "ax.grid()  # Legg til rutenett (grid) i bakgrunnen\n",
    "plt.show() # Denne linjen er kun med så vi slipper unødvendig tekstoutput. \n",
    "           # Du kan jo kommentere den ut for å se om du vil. "
   ]
  },
  {
   "cell_type": "markdown",
   "metadata": {},
   "source": [
    "#### Eksempel på løsing av feilmeldinger\n",
    "- paranteser\n",
    "- feil rekkefølge\n",
    "- ulik lengde\n",
    "- parantes vs. brakker"
   ]
  },
  {
   "cell_type": "code",
   "execution_count": null,
   "metadata": {},
   "outputs": [],
   "source": [
    "# Lag akser å plotte i. Dette er ikke strengt tatt nødvendig for å lage en \n",
    "# figur, men gjør at du lettere kan definere størrelsen på figuren, definere \n",
    "# grid, tekst osv. på ryddig vis som under. \n",
    "fig=plt.figure(figsize=(10, 4))\n",
    "ax = fig.add_subplot(111) # Se figur i bolk 6 for forklaring på dette\n",
    "\n",
    "# Plot tidsserien\n",
    "ax.plot(tid, temp)\n",
    "\n",
    "# Definer grid, tekst etc.\n",
    "ax.set(\n",
    "    title='Temperatur 1860-2020',\n",
    "    xlabel='År',\n",
    "    ylabel='Temperatur [\\u2103]', # \\u2103 er koden for grader celcius. \n",
    "    xlim=[1860,2020], # Sett grense for x-aksen\n",
    "    ylim=[5.5,10.5]) # Sett grense for y-aksen\n",
    "ax.grid()  # Legg til rutenett (grid) i bakgrunnen\n",
    "ax.set_xticks(ticks=np.arange(1865,2015,10))\n",
    "plt.show() # Denne linjen er kun med så vi slipper unødvendig tekstoutput. \n",
    "           # Du kan jo kommentere den ut for å se om du vil. "
   ]
  },
  {
   "cell_type": "markdown",
   "metadata": {},
   "source": [
    "#### 3. Spesifisering av farger, linjestil, markører etc. \n",
    "\n",
    "**Notat på å bruke dokumentasjon**\n",
    "Man har mye valgfrihet når man skal lage figurer. Alle farger, tekststørrelse, figurstørrelse, akser, grenser, verdier/tekst langs aksene og mye mer kan endres. Det enkleste å gjøre når man skal finne ut hvordan man skal endre på noe er å lese dokumentasjon til funksjoner i `matplotlib`. `matplotlib` er et stort bibliotek for plotting av figurer i python, og det meste du trenger finnes her. Det skal sies at det å lese dokumentasjon er en treningssak. Det kan være overveldende i starten, og vanskelig å finne ut hvor i all informasjonen den informasjonen du er på jakt etter finnes, men dette blir lettere etterhvert.\n",
    "\n",
    "Si at du vil at linjen heller skal være oransje og at alle faktiske datapunkt skal være markert med en grønn femkant. Da ville jeg googlet f.eks. \"matplotlib line color python\", trykket meg inn på dokumentasjonslinken som kommer opp. I dette tilfellet kommer jeg til denne nettsiden https://matplotlib.org/stable/api/_as_gen/matplotlib.pyplot.plot.html. \n",
    "Dette er en under-side i dokumentasjonen til Matplotlib. Ganske tidlig på siden er det noen eksempler på å endre linjefarge og sette markør, men for å finne informasjon om hvordan jeg setter markøren til en femkant og gjøre den grønn må man skrolle lengre ned på siden til man finner \"Other Parameters:\". Under ** kwargs (keyword arguemts) kommer en lang liste. Kolonnen \"Properties\" er det vi er ute etter. Dette er alle \"keywordene\" man kan gi til `plt.plot`, f.eks \"color\". Måten man bruker dette er f.eks. `plt.plot(tid,temp), color='green')`. Dette gir en grønn linje istedet for en blå. `color='green'` er et \"keyword argument pair\". For informasjon om hvert enkelt keyword trykker man på lenken deres og finner hvile mulige input de kan få."
   ]
  },
  {
   "cell_type": "code",
   "execution_count": null,
   "metadata": {},
   "outputs": [],
   "source": [
    "ax=plt.axes()\n",
    "\n",
    "# Plot tidsserien, og definer hvordan linjen skal se ut\n",
    "ax.plot(\n",
    "    tid,temp,\n",
    "    color='orange',\n",
    "    marker='p',\n",
    "    markerfacecolor='green',\n",
    "    markeredgecolor='red'\n",
    ")\n",
    "\n",
    "# Definer grid, tekst etc.\n",
    "ax.set(\n",
    "    title='Temperatur 1860-2020',\n",
    "    xlabel='År',\n",
    "    ylabel='Temperatur [\\u2103]', # \\u2103 er koden for grader celcius. \n",
    "    xlim=[1860,2020], # sett grense for x-aksen\n",
    "    ylim=[5.5,10.5]) # sett grense for y-aksen\n",
    "ax.grid() # legg til rutenett (grid) i bakgrunnen\n",
    "plt.show() "
   ]
  },
  {
   "cell_type": "markdown",
   "metadata": {},
   "source": [
    "#### Oppgave 1:\n",
    "Lag samme figur som over, men bruk røde stjerner med oransje kant som markør og blå linje istedet."
   ]
  },
  {
   "cell_type": "code",
   "execution_count": null,
   "metadata": {},
   "outputs": [],
   "source": [
    "ax=plt.axes()\n",
    "\n",
    "# Plot tidsserien, og definer hvordan linjen skal se ut\n",
    "ax.plot(\n",
    "    tid,temp,\n",
    "    color='blue',\n",
    "    marker='p',\n",
    "    markerfacecolor='red',\n",
    "    markeredgecolor='orange'\n",
    ")\n",
    "\n",
    "# Definer grid, tekst etc.\n",
    "ax.set(\n",
    "    title='Temperatur 1860-2020',\n",
    "    xlabel='År',\n",
    "    ylabel='Temperatur [\\u2103]', # \\u2103 er koden for grader celcius. \n",
    "    xlim=[1860,2020], # sett grense for x-aksen\n",
    "    ylim=[5.5,10.5]) # sett grense for y-aksen\n",
    "ax.grid() # legg til rutenett (grid) i bakgrunnen\n",
    "plt.show() "
   ]
  },
  {
   "cell_type": "markdown",
   "metadata": {},
   "source": [
    "#### Oppgave 2:\n",
    "Lag samme figur som over, men bruk røde stjerner med oransje kant som markør og ingen linje istedet."
   ]
  },
  {
   "cell_type": "code",
   "execution_count": null,
   "metadata": {},
   "outputs": [],
   "source": [
    "ax=plt.axes()\n",
    "\n",
    "# Plot tidsserien, og definer hvordan linjen skal se ut\n",
    "ax.plot(\n",
    "    tid,temp,\n",
    "    color='none',\n",
    "    marker='p',\n",
    "    markerfacecolor='red',\n",
    "    markeredgecolor='orange'\n",
    ")\n",
    "\n",
    "# Definer grid, tekst etc.\n",
    "ax.set(\n",
    "    title='Temperatur 1860-2020',\n",
    "    xlabel='År',\n",
    "    ylabel='Temperatur [\\u2103]', # \\u2103 er koden for grader celcius. \n",
    "    xlim=[1860,2020], # sett grense for x-aksen\n",
    "    ylim=[5.5,10.5]) # sett grense for y-aksen\n",
    "ax.grid() # legg til rutenett (grid) i bakgrunnen\n",
    "plt.show() "
   ]
  },
  {
   "cell_type": "markdown",
   "metadata": {},
   "source": [
    "#### Oppgave 3:\n",
    "Lag samme figur som over, men lag tittlen større. Dette krever et nytt søk i dokumentasjonen. Tips: inkluder \"title\" og \"fontsize\" i søkeordene dine. Plot i nye farger, markører og linjestil."
   ]
  },
  {
   "cell_type": "code",
   "execution_count": null,
   "metadata": {},
   "outputs": [],
   "source": [
    "# googlet \"make title larger pyplot using ax.set()\"\n",
    "\n",
    "ax=plt.axes()\n",
    "\n",
    "# Plot tidsserien, og definer hvordan linjen skal se ut\n",
    "ax.plot(\n",
    "    tid,temp,\n",
    "    color='none',\n",
    "    marker='p',\n",
    "    markerfacecolor='red',\n",
    "    markeredgecolor='orange'\n",
    ")\n",
    "\n",
    "# Definer grid, tekst etc.\n",
    "ax.set(\n",
    "    xlabel='År',\n",
    "    ylabel='Temperatur [\\u2103]', # \\u2103 er koden for grader celcius. \n",
    "    xlim=[1860,2020], # sett grense for x-aksen\n",
    "    ylim=[5.5,10.5]\n",
    ") # sett grense for y-aksen\n",
    "ax.grid() # legg til rutenett (grid) i bakgrunnen\n",
    "\n",
    "ax.set_title('Temperatur 1860-2020',fontsize=20)\n",
    "\n",
    "\n",
    "plt.show() "
   ]
  },
  {
   "cell_type": "markdown",
   "metadata": {},
   "source": [
    "#### 4. Bestem figurstørrelsen\n",
    "Default-størrelsen til figurene i Python er ikke alltid den beste til å presentere de dataene du vil visualisere. En tidsserie vil man f.eks. ofte strekke ut i horisontalen, mens iblant er det viktig at x- og y-aksene har like dimensjoner. Som med alt mulig annet i programmering finnes det mange måter å gjøre dette på, vi viser en måte her. I kompliserte figurer kan det iblant være vanskelig å finne et system i når man må bruke f.eks. `ax.` eller `fig.` eller `plt.`. Generelt er det slik at disse knaggene (\"handles\") hører til ulike akser i figuren. I eksempelet under er f.eks. \"fig\" hele figurområdet, mens \"ax\" kun er den aksen det faktisk plottes i. Forskjellen på dette blir tydelig når man har flere panel (\"subplots\", små figurer) på et stort figurområde. Figuren i bolk 6 er et eksempel på dette.   "
   ]
  },
  {
   "cell_type": "code",
   "execution_count": null,
   "metadata": {},
   "outputs": [],
   "source": [
    "# Lag akser å plotte i, og bestem at den skal være 10 enheter langs x-aksen \n",
    "# og 4 enheter langs y-aksen.\n",
    "fig=plt.figure(figsize=(10, 4))\n",
    "ax = fig.add_subplot(111) # Se figur i bolk 6 for forklaring på dette\n",
    "\n",
    "# Plot tidsserien\n",
    "ax.plot(tid,temp)\n",
    "\n",
    "ax.set(\n",
    "    title='Temperatur 1860-2020',\n",
    "    xlabel='År',\n",
    "    ylabel='Temperatur [\\u2103]', # \\u2103 er koden for grader celcius. \n",
    "    xlim=(tid[0],tid[-1]), # sett grense for x-aksen\n",
    "    ylim=[5.5,10.5]) # sett grense for y-aksen\n",
    "plt.grid()\n",
    "plt.show()"
   ]
  },
  {
   "cell_type": "markdown",
   "metadata": {},
   "source": [
    "#### Oppgave 4.\n",
    "Lag en figur som viser 1925-2000 ved å endre `xlim`, og endre figurstørrelsen til å være høyere og smalere enn den over. "
   ]
  },
  {
   "cell_type": "code",
   "execution_count": null,
   "metadata": {},
   "outputs": [],
   "source": [
    "# Lag akser å plotte i, og bestem at den skal være 10 enheter langs x-aksen \n",
    "# og 4 enheter langs y-aksen.\n",
    "fig=plt.figure(figsize=(8, 5))\n",
    "ax = fig.add_subplot(111) # Se figur i bolk 6 for forklaring på dette\n",
    "\n",
    "# Plot tidsserien\n",
    "ax.plot(tid,temp)\n",
    "\n",
    "ax.set(\n",
    "    title='Temperatur 1860-2020',\n",
    "    xlabel='År',\n",
    "    ylabel='Temperatur [\\u2103]', # \\u2103 er koden for grader celcius. \n",
    "    xlim=(1925,2000), # sett grense for x-aksen\n",
    "    ylim=[5.5,10.5]) # sett grense for y-aksen\n",
    "plt.grid()\n",
    "plt.show()"
   ]
  },
  {
   "cell_type": "markdown",
   "metadata": {},
   "source": [
    "#### 5. Flere element i ett plot\n",
    "Ofte har man flere elementer, f.eks., flere linjer i samme plot. Da trenger man informasjon om hva de ulike linjene representerer. For dette bruker vi `plt.legend`. \"legend\" er boksen med navn på linjene. Teksten som skal høre til hver linje defineres med \"label\" for hver linje. \n",
    "\n",
    "Man kan f.eks. lage en figur med både tidsserien og gjennomsnittet over hele perioden som en linje. "
   ]
  },
  {
   "cell_type": "code",
   "execution_count": null,
   "metadata": {},
   "outputs": [],
   "source": [
    "fig=plt.figure(figsize=(10, 4))\n",
    "ax = fig.add_subplot(111) # Se neste figur for forklaring på dette\n",
    "\n",
    "\n",
    "string=('Mean','Temp')\n",
    "ax.plot((tid[0],tid[-1]),(np.mean(temp),np.mean(temp)), label=string[0])\n",
    "ax.plot(tid,temp, label=string[1]) \n",
    "\n",
    "ax.set(\n",
    "    xlim=(1861,2020),\n",
    "    xlabel='Tid',\n",
    "    ylabel='Temperatur [\\u2103]',\n",
    "    title='Temperatur i Bergen (1861-2020)'\n",
    ")\n",
    "\n",
    "# loc=hvor \"legend-boksen\" skal plasseres\n",
    "# ncol=antall kolonner. Her setter jeg ncol=2, så derfor blir et to kolonner i\n",
    "# \"legend-boksen\": en kolonne der det står \"mean\", og en der det står \"Temp\".\n",
    "ax.legend(loc='lower right', ncol=len(string))\n",
    "\n",
    "\n",
    "plt.grid()"
   ]
  },
  {
   "cell_type": "markdown",
   "metadata": {},
   "source": [
    "#### Oppgave 5. \n",
    "Lag en figur som den over, men plot i tillegg markørene som et eget element. Det skal altså være tre ting i `legend`: \"Mean\", \"Temp\", og \"Markør\". "
   ]
  },
  {
   "cell_type": "code",
   "execution_count": null,
   "metadata": {},
   "outputs": [],
   "source": [
    "fig=plt.figure(figsize=(10, 4))\n",
    "ax = fig.add_subplot(111) # Se neste figur for forklaring på dette\n",
    "\n",
    "\n",
    "string=('Mean','Temp','Markør')\n",
    "ax.plot((tid[0],tid[-1]),(np.mean(temp),np.mean(temp)), label=string[0])\n",
    "ax.plot(tid,temp, label=string[1]) \n",
    "ax.plot(\n",
    "    tid, temp, \n",
    "    color='none', marker='o', markerfacecolor='red', label=string[2]) \n",
    "\n",
    "ax.set(\n",
    "    xlim=(1861,2020),\n",
    "    xlabel='Tid',\n",
    "    ylabel='Temperatur [\\u2103]',\n",
    "    title='Temperatur i Bergen (1861-2020)'\n",
    ")\n",
    "\n",
    "# loc=hvor \"legend-boksen\" skal plasseres\n",
    "# ncol=antall kolonner. Her setter jeg ncol=2, så derfor blir et to kolonner i\n",
    "# \"legend-boksen\": en kolonne der det står \"mean\", og en der det står \"Temp\".\n",
    "ax.legend(loc='lower right', ncol=len(string))\n",
    "\n",
    "\n",
    "plt.grid()"
   ]
  },
  {
   "cell_type": "markdown",
   "metadata": {},
   "source": [
    "#### 6. Vis anomalier\n",
    "Tenk tilbake til oppgaven om indeksering og rydding av datasettet. Her jobbet vi med hvordan man kunne finne indeksen til elementer basert på et kriterie. Dette er nyttig også her. Det kan for eksempel være veldig illustrativt å plotte punktene over og under gjennomsnittet i ulike farger. Eller for eksempel alt som er over eller under gjennomsnittet pluss/minus standardavviket i klare farger hvis det man er interessert i er ekstremer. I figuren under er alle punkter over gjennomsnittet i rødt og alle punktene under i blått. "
   ]
  },
  {
   "cell_type": "code",
   "execution_count": null,
   "metadata": {},
   "outputs": [],
   "source": [
    "fig=plt.figure(figsize=(10, 4))\n",
    "ax = fig.add_subplot(111) # Se neste figur for forklaring på dette\n",
    "\n",
    "indp=np.where(temp>np.mean(temp))[0] # \"indp\": index positive\n",
    "indn=np.where(temp<np.mean(temp))[0] # \"indn\": index negative\n",
    "\n",
    "string=('Mean','Temp','warm','cold')\n",
    "\n",
    "ax.plot((tid[0],tid[-1]),(np.mean(temp),np.mean(temp)), label=string[0])\n",
    "ax.plot(tid,temp, label=string[1]) \n",
    "ax.plot(\n",
    "    tid[indp], temp[indp], \n",
    "    color='none', marker='o', markerfacecolor='red', label=string[2]) \n",
    "ax.plot(\n",
    "    tid[indn], temp[indn], \n",
    "    color='none', marker='o', markerfacecolor='blue', label=string[2]) \n",
    "\n",
    "\n",
    "ax.set(\n",
    "    xlim=(1861,2020),\n",
    "    xlabel='Tid',\n",
    "    ylabel='Temperatur [\\u2103]',\n",
    "    title='Temperatur i Bergen (1861-2020)'\n",
    ")\n",
    "\n",
    "# loc=hvor \"legend-boksen\" skal plasseres\n",
    "# ncol=antall kolonner. Her setter jeg ncol=2, så derfor blir et to kolonner i\n",
    "# \"legend-boksen\": en kolonne der det står \"mean\", og en der det står \"Temp\".\n",
    "ax.legend(loc='lower right', ncol=len(string))\n",
    "\n",
    "\n",
    "plt.grid()"
   ]
  },
  {
   "cell_type": "markdown",
   "metadata": {},
   "source": [
    "#### Oppgave 6.\n",
    "Lag samme figur som over, men marker punktene som er pluss/minus ett standardavvik istedet for over/under gjennomsnittet. Numpy sin funksjon for standardavvik er np.std(). "
   ]
  },
  {
   "cell_type": "code",
   "execution_count": null,
   "metadata": {},
   "outputs": [],
   "source": [
    "fig=plt.figure(figsize=(10, 4))\n",
    "ax = fig.add_subplot(111) # Se neste figur for forklaring på dette\n",
    "\n",
    "indp=np.where(temp>np.mean(temp)+np.std(temp))[0] # \"indp\": index positive\n",
    "indn=np.where(temp<np.mean(temp)-np.std(temp))[0] # \"indn\": index negative\n",
    "\n",
    "string=('Mean','Temp','warm','cold')\n",
    "\n",
    "ax.plot((tid[0],tid[-1]),(np.mean(temp),np.mean(temp)), label=string[0])\n",
    "ax.plot(tid,temp, label=string[1]) \n",
    "ax.plot(\n",
    "    tid[indp], temp[indp], \n",
    "    color='none', marker='o', markerfacecolor='red', label=string[2]) \n",
    "ax.plot(\n",
    "    tid[indn], temp[indn], \n",
    "    color='none', marker='o', markerfacecolor='blue', label=string[2]) \n",
    "\n",
    "\n",
    "ax.set(\n",
    "    xlim=(1861,2020),\n",
    "    xlabel='Tid',\n",
    "    ylabel='Temperatur [\\u2103]',\n",
    "    title='Temperatur i Bergen (1861-2020)'\n",
    ")\n",
    "\n",
    "# loc=hvor \"legend-boksen\" skal plasseres\n",
    "# ncol=antall kolonner. Her setter jeg ncol=2, så derfor blir et to kolonner i\n",
    "# \"legend-boksen\": en kolonne der det står \"mean\", og en der det står \"Temp\".\n",
    "ax.legend(loc='lower right', ncol=len(string))\n",
    "\n",
    "\n",
    "plt.grid()"
   ]
  },
  {
   "cell_type": "markdown",
   "metadata": {},
   "source": [
    "#### 7. Subplot\n",
    "Med \"subplots\" kan man ha flere panel i samme figur. Dette er nyttig f.eks. hvis man har tidsserier over samme periode for ulike variabler som temperatur, lufttrykk, og nedbør, eller havtemperatur og saltholdighet. \n",
    "\n",
    "Vi introduserer ikke et nytt datasett her i denne oppgaven, men plotter samme tidsserie i alle panelene. Linjen `ax = fig.add_subplot(xyz)` bestemmer hvor mange panel det skal være i figuren. `x` er antall rader med panel, `y` er antall kolonner med panel, og `z` er hvilket panel du plotter i akkurat nå. Over, der vi brukte `ax = fig.add_subplot(111)` var det altså 1 rad med panel, 1 kolonne med panel, og vi jobbet med det første panelet. \n",
    "\n",
    "Numereringen på subplottene starter i øvre venstre hjørne og ender i nedre høyre hjørne. Har man f.eks. `fig.add_subplot(23z)` er `z=1` øverst til venstre, `z=2` på midten øverst, og `z=6` nederst til høyre. "
   ]
  },
  {
   "cell_type": "code",
   "execution_count": null,
   "metadata": {},
   "outputs": [],
   "source": [
    "fig=plt.figure(figsize=(10, 8))\n",
    "\n",
    "#-----Plot i panel nr1--------------------------------------------------------\n",
    "ax = fig.add_subplot(231) \n",
    "ax.plot(tid,temp)\n",
    "ax.set(\n",
    "    title='Temperatur 1860-2020',\n",
    "    xlabel='År',\n",
    "    ylabel='Temperatur [\\u2103]', # \\u2103 er koden for grader celcius. \n",
    "    xlim=(tid[0],tid[-1]), # sett grense for x-aksen\n",
    "    ylim=[5.5,10.5]) # sett grense for y-aksen\n",
    "plt.grid()\n",
    "\n",
    "#-----Plot i panel nr2-------------------------------------------------------------------------------\n",
    "ax = fig.add_subplot(232) \n",
    "ax.plot(tid,temp)\n",
    "ax.set(\n",
    "    title='Temperatur 1860-2020',\n",
    "    xlabel='År',\n",
    "    ylabel='Temperatur [\\u2103]', # \\u2103 er koden for grader celcius. \n",
    "    xlim=(tid[0],tid[-1]), # sett grense for x-aksen\n",
    "    ylim=[5.5,10.5]) # sett grense for y-aksen\n",
    "plt.grid()\n",
    "\n",
    "#-----Plot i panel nr5-------------------------------------------------------------------------------\n",
    "ax = fig.add_subplot(235) \n",
    "ax.plot(tid,temp)\n",
    "ax.set(\n",
    "    title='Temperatur 1860-2020',\n",
    "    xlabel='År',\n",
    "    ylabel='Temperatur [\\u2103]', # \\u2103 er koden for grader celcius. \n",
    "    xlim=(tid[0],tid[-1]), # sett grense for x-aksen\n",
    "    ylim=[5.5,10.5]) # sett grense for y-aksen\n",
    "plt.grid()\n",
    "#-------------------------------------------------------------------------------\n",
    "\n",
    "\n",
    "plt.show()"
   ]
  },
  {
   "cell_type": "markdown",
   "metadata": {},
   "source": [
    "Man må ikke ha et perfekt grid med subplot slik som over, man kan f.eks. ha tre små panel i øvre rad og et langt panel i nedre rad, men dette krever behandling av aksene, noe vi ikke går gjennom her. Men det er mulig. "
   ]
  },
  {
   "cell_type": "markdown",
   "metadata": {},
   "source": [
    "#### Oppgave 7: \n",
    "Lag to nye figurer. I den ene figuren, plot alt i listen under i samme figur.  \n",
    "- hele tidsserien, \n",
    "- hvert tiende datapunkt. Se på oppgaven om indeksering (Del 1) for tips. \n",
    "- hvert av disse datapunktene +/- standardavviket for hele tidsserien i lysegrå linjer. Numpy sin funksjon for standardavvik er np.std(). \n",
    "\n",
    "I figur nr 2, plot hele tidserien i et subplot, og resten i et annet subplot. \n",
    "\n",
    "Husk legend!"
   ]
  },
  {
   "cell_type": "code",
   "execution_count": null,
   "metadata": {},
   "outputs": [],
   "source": [
    "# Figur 1\n",
    "\n",
    "ax=plt.axes() # Lag akser å plotte i\n",
    "\n",
    "string=('Temp','10th values','p/m std')\n",
    "\n",
    "# Plot tidsserien\n",
    "ax.plot(tid[::10], temp[::10]+np.std(temp), color='grey', label=string[2])\n",
    "ax.plot(tid[::10], temp[::10]-np.std(temp), color='grey')\n",
    "ax.plot(tid[::10], temp[::10], label=string[1])\n",
    "ax.plot(tid, temp, label=string[0])\n",
    "\n",
    "# Definer grid, tekst etc.\n",
    "ax.set(\n",
    "    title='Temperatur 1860-2020',\n",
    "    xlabel='År',\n",
    "    ylabel='Temperatur [\\u2103]', # \\u2103 er koden for grader celcius. \n",
    "    xlim=[1860,2020], # Sett grense for x-aksen\n",
    "    ylim=[5.5,10.5]) # Sett grense for y-aksen\n",
    "ax.grid() # Legg til rutenett (grid) i bakgrunnen\n",
    "\n",
    "ax.legend(loc='lower right', ncol=len(string))\n",
    "\n",
    "plt.show() # Denne linjen er kun med så vi slipper unødvendig tekstoutput. \n",
    "    "
   ]
  },
  {
   "cell_type": "code",
   "execution_count": null,
   "metadata": {},
   "outputs": [],
   "source": [
    "# Figur 2\n",
    "\n",
    "fig=plt.figure(figsize=(10, 8))\n",
    "\n",
    "string=('Temp','10th values','p/m std')\n",
    "\n",
    "\n",
    "#-----Plot i panel nr1--------------------------------------------------------\n",
    "ax = fig.add_subplot(211) \n",
    "ax.plot(tid,temp, label=string[0], color='orange')\n",
    "ax.set(\n",
    "    title='Temperatur 1860-2020',\n",
    "    xlabel='År',\n",
    "    ylabel='Temperatur [\\u2103]', # \\u2103 er koden for grader celcius. \n",
    "    xlim=(tid[0],tid[-1]), # sett grense for x-aksen\n",
    "    ylim=[5.5,10.5]) # sett grense for y-aksen\n",
    "plt.grid()\n",
    "ax.legend(loc='lower right')\n",
    "\n",
    "\n",
    "#-----Plot i panel nr2-------------------------------------------------------------------------------\n",
    "ax = fig.add_subplot(212) \n",
    "ax.plot(tid[::10], temp[::10]+np.std(temp), color='grey', label=string[2])\n",
    "ax.plot(tid[::10], temp[::10]-np.std(temp), color='grey')\n",
    "ax.plot(tid[::10], temp[::10], label=string[1])\n",
    "ax.set(\n",
    "    title='Temperatur 1860-2020',\n",
    "    xlabel='År',\n",
    "    ylabel='Temperatur [\\u2103]', # \\u2103 er koden for grader celcius. \n",
    "    xlim=(tid[0],tid[-1]), # sett grense for x-aksen\n",
    "    ylim=[5.5,10.5]) # sett grense for y-aksen\n",
    "\n",
    "ax.legend(loc='lower right', ncol=2)\n",
    "\n",
    "plt.grid()\n",
    "\n",
    "#-------------------------------------------------------------------------------\n",
    "\n",
    "\n",
    "plt.show()"
   ]
  },
  {
   "cell_type": "markdown",
   "metadata": {},
   "source": [
    "Hvordan synes du hver tiende datapunkt representerer den originale tidsserien? Holder det å bare plotte hvert tiende datapunkt for å få frem hovedbudskapet? Hvilken informasjon får du ut av linjene med standardavvik?\n",
    "\n",
    "Det er nok mange ting å forbedre med denne figuren, men to ting skal vi se på i oppgaven om \"for-løkker\" og til slutt i hovedoppgaven. **Det første** er at det ofte er bedre å se på gjennomsnittet av intervaller heller enn en eksempelverdi fra intervallet. I dette eksempelet ville man f.eks. plottet et gjennmonsnitt av hver tiårsperiode heller enn hver tiende verdi. **Det andre** er at verdier som standardavviket ofte endrer seg over tid. Derfor er det gjerne mer informativt å plotte standaravvik for intervallet, f.eks. hver tiårsperiode som her, heller enn standardavviket for hele tidsserien. Men for dette må man iterere gjennom intervallene man vil dele datasettet sitt inn i, og for dette trenger man ofte for-løkker. Vi kommer tilbake til dette i Del 5. \n",
    "\n"
   ]
  },
  {
   "cell_type": "code",
   "execution_count": null,
   "metadata": {},
   "outputs": [],
   "source": []
  }
 ],
 "metadata": {
  "kernelspec": {
   "display_name": "Python 3",
   "language": "python",
   "name": "python3"
  },
  "language_info": {
   "codemirror_mode": {
    "name": "ipython",
    "version": 3
   },
   "file_extension": ".py",
   "mimetype": "text/x-python",
   "name": "python",
   "nbconvert_exporter": "python",
   "pygments_lexer": "ipython3",
   "version": "3.8.5"
  }
 },
 "nbformat": 4,
 "nbformat_minor": 5
}

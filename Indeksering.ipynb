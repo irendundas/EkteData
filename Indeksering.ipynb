{
 "cells": [
  {
   "cell_type": "markdown",
   "metadata": {},
   "source": [
    "# Indekseringsoppgaven\n",
    "\n",
    "Generelle regler for indeksering i Python:\n",
    "- Når man angir indekser i Python bruker man brakkeparanteser []. \n",
    "- Indekser MÅ være integers - altså det kan ikke være noen desimaler, og det holder ikke at desimalen er 0. \n",
    "- Python starter indekseringen sin på 0. \n",
    "- Den siste indeksen er -1. Den nest siste er -2 etc. \n",
    "- Skal man ha alle indekser i en rad eller kolonne bruker man kolon.\n",
    "- I en matrise med to dimensjoner er den første indeksen alltid radene, mens den andre indeksen er kolonnene.\n",
    "- Skal man ha tak i mer enn en, men ikke alle, elementene skriver man [a:b]. Dette betyr element a til *men ikke med* b. \n",
    "- Hvis man har en matrise og skal ha tak i rad a til men ikke med b, og alle kolonnene skriver man  [a:b,:]. Rader og kolonner skilles altså med komma. \n",
    "- Vil man ha fra start frem til (og ikke med) en indeks skriver man [:a]. Vil man ha fra (og med) en indeks til slutten skriver man [a:]. \n",
    "\n",
    "Vi bruker datasettet over årlig temperatur i Bergen til å gå gjennom disse punktene. "
   ]
  },
  {
   "cell_type": "code",
   "execution_count": 1,
   "metadata": {},
   "outputs": [],
   "source": [
    "import numpy as np\n",
    "import matplotlib.pyplot as plt # for figurer\n"
   ]
  },
  {
   "cell_type": "markdown",
   "metadata": {},
   "source": [
    "Last inn datasettet \"TempBergenYearly.txt\". Se på oppgaven \"RyddDatasett\" for flere detaljer på hvordan filinnlastingen fungerer. "
   ]
  },
  {
   "cell_type": "code",
   "execution_count": 2,
   "metadata": {},
   "outputs": [
    {
     "name": "stdout",
     "output_type": "stream",
     "text": [
      "(161, 2)\n"
     ]
    },
    {
     "data": {
      "text/plain": [
       "array([[ 1.86100000e+03,  8.33636364e+00],\n",
       "       [ 1.86200000e+03,  7.71666667e+00],\n",
       "       [ 1.86300000e+03,  7.75833333e+00],\n",
       "       [ 1.86400000e+03,  6.86666667e+00],\n",
       "       [ 1.86500000e+03,  7.22500000e+00],\n",
       "       [ 1.86600000e+03,  7.41666667e+00],\n",
       "       [ 1.86700000e+03,  6.55000000e+00],\n",
       "       [ 1.86800000e+03,  7.97500000e+00],\n",
       "       [ 1.86900000e+03,  6.45000000e+00],\n",
       "       [ 1.87000000e+03,  6.57500000e+00],\n",
       "       [ 1.87100000e+03,  7.64545455e+00],\n",
       "       [ 1.87200000e+03,  8.27500000e+00],\n",
       "       [ 1.87300000e+03,  7.83333333e+00],\n",
       "       [ 1.87400000e+03,  7.17500000e+00],\n",
       "       [ 1.87500000e+03,  7.01666667e+00],\n",
       "       [ 1.87600000e+03,  6.78333333e+00],\n",
       "       [ 1.87700000e+03,  6.55000000e+00],\n",
       "       [ 1.87800000e+03,  7.06666667e+00],\n",
       "       [ 1.87900000e+03,  6.69166667e+00],\n",
       "       [ 1.88000000e+03,  7.53333333e+00],\n",
       "       [ 1.88100000e+03,  6.36666667e+00],\n",
       "       [ 1.88200000e+03,  7.90000000e+00],\n",
       "       [ 1.88300000e+03,  7.60000000e+00],\n",
       "       [ 1.88400000e+03,  8.20833333e+00],\n",
       "       [ 1.88500000e+03,  6.70833333e+00],\n",
       "       [ 1.88600000e+03,  6.83333333e+00],\n",
       "       [ 1.88700000e+03,  6.99166667e+00],\n",
       "       [ 1.88800000e+03,  6.55000000e+00],\n",
       "       [ 1.88900000e+03,  7.92500000e+00],\n",
       "       [ 1.89000000e+03,  7.78333333e+00],\n",
       "       [ 1.89100000e+03,  7.73333333e+00],\n",
       "       [ 1.89200000e+03,  6.26666667e+00],\n",
       "       [ 1.89300000e+03,  7.49166667e+00],\n",
       "       [ 1.89400000e+03,  8.33333333e+00],\n",
       "       [ 1.89500000e+03,  6.75833333e+00],\n",
       "       [ 1.89600000e+03,  7.40833333e+00],\n",
       "       [ 1.89700000e+03,  7.25000000e+00],\n",
       "       [ 1.89800000e+03,  7.15000000e+00],\n",
       "       [ 1.89900000e+03,  6.96666667e+00],\n",
       "       [ 1.90000000e+03,  6.70833333e+00],\n",
       "       [ 1.90100000e+03,  7.67500000e+00],\n",
       "       [ 1.90200000e+03,  6.40833333e+00],\n",
       "       [ 1.90300000e+03,  7.18333333e+00],\n",
       "       [ 1.90400000e+03,  6.89166667e+00],\n",
       "       [ 1.90500000e+03,  7.08333333e+00],\n",
       "       [ 1.90600000e+03,  7.38333333e+00],\n",
       "       [ 1.90700000e+03,  6.95000000e+00],\n",
       "       [ 1.90800000e+03,  7.57500000e+00],\n",
       "       [ 1.90900000e+03,  6.53333333e+00],\n",
       "       [ 1.91000000e+03,  7.79166667e+00],\n",
       "       [ 1.91100000e+03,  7.56666667e+00],\n",
       "       [ 1.91200000e+03,  7.59166667e+00],\n",
       "       [ 1.91300000e+03,  7.81666667e+00],\n",
       "       [ 1.91400000e+03,  7.93333333e+00],\n",
       "       [ 1.91500000e+03,  5.95833333e+00],\n",
       "       [ 1.91600000e+03,  7.10000000e+00],\n",
       "       [ 1.91700000e+03,  6.60833333e+00],\n",
       "       [ 1.91800000e+03,  7.50000000e+00],\n",
       "       [ 1.91900000e+03,  6.12500000e+00],\n",
       "       [ 1.92000000e+03,  7.68333333e+00],\n",
       "       [ 1.92100000e+03,  7.20000000e+00],\n",
       "       [ 1.92200000e+03,  6.42500000e+00],\n",
       "       [ 1.92300000e+03,  6.46666667e+00],\n",
       "       [ 1.92400000e+03,  7.28333333e+00],\n",
       "       [ 1.92500000e+03,  7.85833333e+00],\n",
       "       [ 1.92600000e+03,  7.73333333e+00],\n",
       "       [ 1.92700000e+03,  7.19166667e+00],\n",
       "       [ 1.92800000e+03,  7.14166667e+00],\n",
       "       [ 1.92900000e+03,  7.04166667e+00],\n",
       "       [ 1.93000000e+03,  8.50833333e+00],\n",
       "       [ 1.93100000e+03,  6.70833333e+00],\n",
       "       [ 1.93200000e+03,  7.58333333e+00],\n",
       "       [ 1.93300000e+03,  8.25833333e+00],\n",
       "       [ 1.93400000e+03,  8.55833333e+00],\n",
       "       [ 1.93500000e+03,  7.69166667e+00],\n",
       "       [ 1.93600000e+03,  8.27500000e+00],\n",
       "       [ 1.93700000e+03,  7.98333333e+00],\n",
       "       [ 1.93800000e+03,  8.30833333e+00],\n",
       "       [ 1.93900000e+03,  8.23333333e+00],\n",
       "       [ 1.94000000e+03,  7.10833333e+00],\n",
       "       [ 1.94100000e+03,  6.97500000e+00],\n",
       "       [ 1.94200000e+03,  6.47500000e+00],\n",
       "       [ 1.94300000e+03,  8.20000000e+00],\n",
       "       [ 1.94400000e+03,  7.75833333e+00],\n",
       "       [ 1.94500000e+03,  8.27500000e+00],\n",
       "       [ 1.94600000e+03,  7.93333333e+00],\n",
       "       [ 1.94700000e+03,  7.94166667e+00],\n",
       "       [ 1.94800000e+03,  8.15833333e+00],\n",
       "       [ 1.94900000e+03,  8.12500000e+00],\n",
       "       [ 1.95000000e+03,  8.27500000e+00],\n",
       "       [ 1.95100000e+03,  7.60000000e+00],\n",
       "       [ 1.95200000e+03,  7.12500000e+00],\n",
       "       [ 1.95300000e+03,  8.62500000e+00],\n",
       "       [ 1.95400000e+03,  7.70833333e+00],\n",
       "       [ 1.95500000e+03,  7.30000000e+00],\n",
       "       [ 1.95600000e+03,  7.22500000e+00],\n",
       "       [ 1.95700000e+03,  7.93333333e+00],\n",
       "       [ 1.95800000e+03,  7.40000000e+00],\n",
       "       [ 1.95900000e+03,  8.56666667e+00],\n",
       "       [ 1.96000000e+03,  8.18333333e+00],\n",
       "       [ 1.96100000e+03,  8.25833333e+00],\n",
       "       [ 1.96200000e+03,  7.01666667e+00],\n",
       "       [ 1.96300000e+03,  7.23333333e+00],\n",
       "       [ 1.96400000e+03,  7.52500000e+00],\n",
       "       [ 1.96500000e+03,  7.25000000e+00],\n",
       "       [ 1.96600000e+03,  6.90833333e+00],\n",
       "       [ 1.96700000e+03,  7.72500000e+00],\n",
       "       [ 1.96800000e+03,  7.48333333e+00],\n",
       "       [ 1.96900000e+03,  7.40000000e+00],\n",
       "       [ 1.97000000e+03,  7.09166667e+00],\n",
       "       [ 1.97100000e+03,  7.77500000e+00],\n",
       "       [ 1.97200000e+03,  7.83333333e+00],\n",
       "       [ 1.97300000e+03,  7.39166667e+00],\n",
       "       [ 1.97400000e+03,  8.59166667e+00],\n",
       "       [ 1.97500000e+03,  8.20833333e+00],\n",
       "       [ 1.97600000e+03,  7.50000000e+00],\n",
       "       [ 1.97700000e+03,  7.46666667e+00],\n",
       "       [ 1.97800000e+03,  7.36666667e+00],\n",
       "       [ 1.97900000e+03,  6.40833333e+00],\n",
       "       [ 1.98000000e+03,  7.67500000e+00],\n",
       "       [ 1.98100000e+03,  6.90000000e+00],\n",
       "       [ 1.98200000e+03,  8.10000000e+00],\n",
       "       [ 1.98300000e+03,  7.78333333e+00],\n",
       "       [ 1.98400000e+03,  7.95833333e+00],\n",
       "       [ 1.98500000e+03,  6.80000000e+00],\n",
       "       [ 1.98600000e+03,  7.10833333e+00],\n",
       "       [ 1.98700000e+03,  7.23333333e+00],\n",
       "       [ 1.98800000e+03,  8.22500000e+00],\n",
       "       [ 1.98900000e+03,  8.47500000e+00],\n",
       "       [ 1.99000000e+03,  8.91666667e+00],\n",
       "       [ 1.99100000e+03,  8.15833333e+00],\n",
       "       [ 1.99200000e+03,  8.53333333e+00],\n",
       "       [ 1.99300000e+03,  7.56666667e+00],\n",
       "       [ 1.99400000e+03,  7.67500000e+00],\n",
       "       [ 1.99500000e+03,  7.75000000e+00],\n",
       "       [ 1.99600000e+03,  7.16666667e+00],\n",
       "       [ 1.99700000e+03,  8.59166667e+00],\n",
       "       [ 1.99800000e+03,  7.97500000e+00],\n",
       "       [ 1.99900000e+03,  8.57500000e+00],\n",
       "       [ 2.00000000e+03,  8.81666667e+00],\n",
       "       [ 2.00100000e+03,  7.68333333e+00],\n",
       "       [ 2.00200000e+03,  8.71666667e+00],\n",
       "       [ 2.00300000e+03,  8.73333333e+00],\n",
       "       [ 2.00400000e+03,  8.55000000e+00],\n",
       "       [ 2.00500000e+03,  8.40000000e+00],\n",
       "       [ 2.00600000e+03,  9.31666667e+00],\n",
       "       [ 2.00700000e+03,  8.40000000e+00],\n",
       "       [ 2.00800000e+03,  8.87500000e+00],\n",
       "       [ 2.00900000e+03,  8.60000000e+00],\n",
       "       [ 2.01000000e+03,  6.36666667e+00],\n",
       "       [ 2.01100000e+03,  8.78333333e+00],\n",
       "       [ 2.01200000e+03,  7.83333333e+00],\n",
       "       [ 2.01300000e+03,  7.96666667e+00],\n",
       "       [ 2.01400000e+03,  9.90833333e+00],\n",
       "       [ 2.01500000e+03,  8.73333333e+00],\n",
       "       [ 2.01600000e+03,  8.60000000e+00],\n",
       "       [ 2.01700000e+03,  8.62500000e+00],\n",
       "       [ 2.01800000e+03,  8.69166667e+00],\n",
       "       [ 2.01900000e+03,  8.83333333e+00],\n",
       "       [ 2.02000000e+03,  9.43333333e+00],\n",
       "       [ 2.02100000e+03, -8.00000000e-01]])"
      ]
     },
     "execution_count": 2,
     "metadata": {},
     "output_type": "execute_result"
    }
   ],
   "source": [
    "file='TempBergenYearlyNonan.txt'\n",
    "data = np.genfromtxt('https://raw.githubusercontent.com/irendundas/EkteData/'\n",
    "                     'main/'+file, dtype=float, delimiter=',',skip_header=1)\n",
    "print(data.shape)\n",
    "data"
   ]
  },
  {
   "cell_type": "code",
   "execution_count": 3,
   "metadata": {},
   "outputs": [
    {
     "data": {
      "image/png": "[encoded data removed]",
      "text/plain": [
       "<Figure size 432x288 with 1 Axes>"
      ]
     },
     "metadata": {
      "needs_background": "light"
     },
     "output_type": "display_data"
    }
   ],
   "source": [
    "# Her ser vi alle verdiene i kolonne #2\n",
    "plt.plot(data[:,1])\n",
    "plt.show()"
   ]
  },
  {
   "cell_type": "markdown",
   "metadata": {},
   "source": [
    "data.shape viser oss at datasettet over temperatur har 161 rader og 2 kolonner. Hvis vi vil ha tak i alle årene og lagre dem i en vektor som vi kaller \"tid\" skriver vi `tid=data[:,0]`, altså *alle radene* (:), men kun den *første kolonnen* (0)\n"
   ]
  },
  {
   "cell_type": "code",
   "execution_count": null,
   "metadata": {},
   "outputs": [],
   "source": [
    "tid=data[:,0]\n",
    "tid"
   ]
  },
  {
   "cell_type": "markdown",
   "metadata": {},
   "source": [
    "Lag en variabel \"temp\" som inneholder kolonnen med temperatur."
   ]
  },
  {
   "cell_type": "code",
   "execution_count": null,
   "metadata": {},
   "outputs": [],
   "source": []
  },
  {
   "cell_type": "markdown",
   "metadata": {},
   "source": [
    "Skriv ut årene og temperatur for alle årene fra året du ble født frem til slutten av datasettet. Da må du finne indeksen til året du ble født - husk at `tid[0]` gir deg startåret. Når du regner deg frem til en indeks-verdi er gjerne resultatet en \"float\" (tall med desimal). For å konvertere en float til integer kan du skrive int(a). "
   ]
  },
  {
   "cell_type": "code",
   "execution_count": null,
   "metadata": {},
   "outputs": [],
   "source": []
  },
  {
   "cell_type": "markdown",
   "metadata": {},
   "source": [
    "Finn de fem siste årene i datasettet."
   ]
  },
  {
   "cell_type": "code",
   "execution_count": null,
   "metadata": {},
   "outputs": [],
   "source": []
  },
  {
   "cell_type": "markdown",
   "metadata": {},
   "source": [
    "Finn tidsserien for temperatur på hele 1900-tallet. Skriv også ut årene. "
   ]
  },
  {
   "cell_type": "code",
   "execution_count": null,
   "metadata": {},
   "outputs": [],
   "source": []
  },
  {
   "cell_type": "markdown",
   "metadata": {},
   "source": [
    "Iblant trenger man å hente ut data med jevne intervall - f.eks. hvis man har et datasett med daglig oppløsning og bare vil ha tak i onsdagene, eller man bare vil ha tak i bursdagen sin fra en tidsserie med daglig oppløsning som spenner over flere år. Eller kanskje man vil hente ut data fra kl 12 for å sjekke solstyrke midt på dagen... \n",
    "\n",
    "Med indeksering bruker man tre verdier: [start:stop:step]. Skal man f.eks. ha annenhver verdi mellom indeks a og b skriver man [a:b:2]. Husk at det fremdeles er a *til og ikke med* b. \n",
    "\n",
    "Finn temperaturen for hvert tiende år siden 1870 frem til 2020. Skriv igjen ut årene i tillegg (for å sjekke at indekseringen du har satt stemmer)."
   ]
  },
  {
   "cell_type": "code",
   "execution_count": null,
   "metadata": {},
   "outputs": [],
   "source": []
  },
  {
   "cell_type": "markdown",
   "metadata": {},
   "source": [
    "Lag en figur som viser hele temperaturtidsserien, og plot hvert tiende år på samme figur. Synes du tidsserien blir godt representert ved å bare se på hvert tiende år? I en seinere oppgave, f.eks. den om for-løkker, ser vi på hvordan man kan representere datasettet ved å ta gjennomsnittet over tiårsperioder. Hvordan tror du denne tidsserien representerer datasettet i forhold til den figuren vi har her?"
   ]
  },
  {
   "cell_type": "code",
   "execution_count": null,
   "metadata": {},
   "outputs": [],
   "source": [
    "tid[0]"
   ]
  },
  {
   "cell_type": "code",
   "execution_count": null,
   "metadata": {},
   "outputs": [],
   "source": []
  },
  {
   "cell_type": "markdown",
   "metadata": {},
   "source": [
    "Plukk ut bare april, og lag en figur. "
   ]
  },
  {
   "cell_type": "code",
   "execution_count": null,
   "metadata": {},
   "outputs": [],
   "source": []
  }
 ],
 "metadata": {
  "kernelspec": {
   "display_name": "Python 3",
   "language": "python",
   "name": "python3"
  },
  "language_info": {
   "codemirror_mode": {
    "name": "ipython",
    "version": 3
   },
   "file_extension": ".py",
   "mimetype": "text/x-python",
   "name": "python",
   "nbconvert_exporter": "python",
   "pygments_lexer": "ipython3",
   "version": "3.8.5"
  }
 },
 "nbformat": 4,
 "nbformat_minor": 4
}

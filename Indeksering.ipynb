{
 "cells": [
  {
   "cell_type": "markdown",
   "metadata": {},
   "source": [
    "# Indekseringsoppgaven\n",
    "\n",
    "Generelle regler for indeksering i Python:\n",
    "- Når man angir indekser i Python bruker man brakkeparanteser []. \n",
    "- Indekser MÅ være integers - altså det kan ikke være noen desimaler, og det holder ikke at desimalen er 0. \n",
    "- Python starter indekseringen sin på 0. \n",
    "- Den siste indeksen er -1. Den nest siste er -2 etc. \n",
    "- Skal man ha alle indekser i en rad eller kolonne bruker man kolon.\n",
    "- I en matrise med to dimensjoner er den første indeksen alltid radene, mens den andre indeksen er kolonnene.\n",
    "- Skal man ha tak i mer enn en, men ikke alle, elementene skriver man [a:b]. Dette betyr element a til *men ikke med* b. \n",
    "- Hvis man har en matrise og skal ha tak i rad a til men ikke med b, og alle kolonnene skriver man  [a:b,:]. Rader og kolonner skilles altså med komma. \n",
    "- Vil man ha fra start frem til (og ikke med) en indeks skriver man [:a]. Vil man ha fra (og med) en indeks til slutten skriver man [a:]. \n",
    "\n",
    "Vi bruker datasettet over årlig temperatur i Bergen til å gå gjennom disse punktene. "
   ]
  },
  {
   "cell_type": "code",
   "execution_count": 85,
   "metadata": {},
   "outputs": [],
   "source": [
    "import numpy as np\n",
    "import matplotlib.pyplot as plt # for figurer\n"
   ]
  },
  {
   "cell_type": "code",
   "execution_count": 105,
   "metadata": {},
   "outputs": [],
   "source": [
    "import requests\n",
    "\n",
    "\n",
    "url = 'https://raw.githubusercontent.com/irendundas/EkteData/main/TempBergenYearlyNonan.txt'\n",
    "req = requests.get(url)\n",
    "\n",
    "file=req.text"
   ]
  },
  {
   "cell_type": "code",
   "execution_count": 106,
   "metadata": {},
   "outputs": [
    {
     "data": {
      "text/plain": [
       "'Year,Temperature\\n1861.0,8.336363636363636\\n1862.0,7.716666666666666\\n1863.0,7.758333333333334\\n1864.0,6.866666666666667\\n1865.0,7.2250000000000005\\n1866.0,7.416666666666668\\n1867.0,6.550000000000002\\n1868.0,7.9750000000000005\\n1869.0,6.449999999999999\\n1870.0,6.574999999999999\\n1871.0,7.645454545454546\\n1872.0,8.274999999999999\\n1873.0,7.833333333333333\\n1874.0,7.175000000000001\\n1875.0,7.016666666666667\\n1876.0,6.783333333333331\\n1877.0,6.550000000000001\\n1878.0,7.066666666666666\\n1879.0,6.691666666666666\\n1880.0,7.533333333333332\\n1881.0,6.366666666666668\\n1882.0,7.900000000000001\\n1883.0,7.6000000000000005\\n1884.0,8.208333333333334\\n1885.0,6.708333333333335\\n1886.0,6.833333333333332\\n1887.0,6.991666666666667\\n1888.0,6.550000000000001\\n1889.0,7.925000000000001\\n1890.0,7.783333333333332\\n1891.0,7.733333333333333\\n1892.0,6.266666666666666\\n1893.0,7.491666666666666\\n1894.0,8.333333333333334\\n1895.0,6.758333333333334\\n1896.0,7.408333333333334\\n1897.0,7.25\\n1898.0,7.150000000000001\\n1899.0,6.966666666666668\\n1900.0,6.708333333333333\\n1901.0,7.674999999999998\\n1902.0,6.408333333333332\\n1903.0,7.183333333333333\\n1904.0,6.891666666666667\\n1905.0,7.083333333333335\\n1906.0,7.383333333333334\\n1907.0,6.95\\n1908.0,7.574999999999999\\n1909.0,6.533333333333332\\n1910.0,7.791666666666667\\n1911.0,7.566666666666667\\n1912.0,7.591666666666668\\n1913.0,7.816666666666667\\n1914.0,7.933333333333331\\n1915.0,5.958333333333332\\n1916.0,7.099999999999999\\n1917.0,6.608333333333334\\n1918.0,7.5\\n1919.0,6.125000000000001\\n1920.0,7.683333333333333\\n1921.0,7.2\\n1922.0,6.425000000000001\\n1923.0,6.466666666666668\\n1924.0,7.283333333333334\\n1925.0,7.858333333333333\\n1926.0,7.733333333333332\\n1927.0,7.191666666666666\\n1928.0,7.141666666666667\\n1929.0,7.041666666666667\\n1930.0,8.508333333333335\\n1931.0,6.708333333333333\\n1932.0,7.583333333333336\\n1933.0,8.258333333333335\\n1934.0,8.558333333333334\\n1935.0,7.691666666666667\\n1936.0,8.274999999999999\\n1937.0,7.983333333333334\\n1938.0,8.308333333333334\\n1939.0,8.233333333333334\\n1940.0,7.108333333333333\\n1941.0,6.974999999999999\\n1942.0,6.4750000000000005\\n1943.0,8.200000000000001\\n1944.0,7.758333333333334\\n1945.0,8.274999999999999\\n1946.0,7.933333333333334\\n1947.0,7.941666666666666\\n1948.0,8.158333333333333\\n1949.0,8.124999999999998\\n1950.0,8.274999999999999\\n1951.0,7.6000000000000005\\n1952.0,7.125\\n1953.0,8.625000000000002\\n1954.0,7.708333333333333\\n1955.0,7.299999999999998\\n1956.0,7.225000000000001\\n1957.0,7.933333333333334\\n1958.0,7.3999999999999995\\n1959.0,8.566666666666666\\n1960.0,8.183333333333335\\n1961.0,8.258333333333335\\n1962.0,7.016666666666667\\n1963.0,7.233333333333332\\n1964.0,7.525000000000001\\n1965.0,7.25\\n1966.0,6.908333333333332\\n1967.0,7.724999999999999\\n1968.0,7.483333333333334\\n1969.0,7.3999999999999995\\n1970.0,7.091666666666666\\n1971.0,7.774999999999999\\n1972.0,7.833333333333335\\n1973.0,7.391666666666667\\n1974.0,8.591666666666667\\n1975.0,8.208333333333334\\n1976.0,7.5\\n1977.0,7.466666666666668\\n1978.0,7.366666666666667\\n1979.0,6.408333333333335\\n1980.0,7.675\\n1981.0,6.900000000000001\\n1982.0,8.1\\n1983.0,7.783333333333332\\n1984.0,7.958333333333335\\n1985.0,6.8\\n1986.0,7.108333333333333\\n1987.0,7.233333333333334\\n1988.0,8.225\\n1989.0,8.475\\n1990.0,8.916666666666666\\n1991.0,8.158333333333333\\n1992.0,8.533333333333335\\n1993.0,7.566666666666666\\n1994.0,7.675\\n1995.0,7.750000000000001\\n1996.0,7.166666666666667\\n1997.0,8.591666666666667\\n1998.0,7.9750000000000005\\n1999.0,8.575\\n2000.0,8.816666666666668\\n2001.0,7.683333333333333\\n2002.0,8.716666666666667\\n2003.0,8.733333333333334\\n2004.0,8.55\\n2005.0,8.4\\n2006.0,9.316666666666666\\n2007.0,8.4\\n2008.0,8.875000000000002\\n2009.0,8.6\\n2010.0,6.366666666666667\\n2011.0,8.783333333333331\\n2012.0,7.833333333333333\\n2013.0,7.966666666666666\\n2014.0,9.908333333333333\\n2015.0,8.733333333333333\\n2016.0,8.6\\n2017.0,8.625\\n2018.0,8.691666666666668\\n2019.0,8.833333333333332\\n2020.0,9.433333333333335\\n'"
      ]
     },
     "execution_count": 106,
     "metadata": {},
     "output_type": "execute_result"
    }
   ],
   "source": [
    "file"
   ]
  },
  {
   "cell_type": "code",
   "execution_count": 107,
   "metadata": {},
   "outputs": [],
   "source": [
    "import io\n",
    "\n",
    "f = io.StringIO(file)\n"
   ]
  },
  {
   "cell_type": "code",
   "execution_count": 108,
   "metadata": {},
   "outputs": [],
   "source": [
    "f.seek(0) # set cursor to the top\n",
    "data=np.genfromtxt(f,dtype=float)\n",
    "#data=np.genfromtxt(f,dtype=float, delimiter=',',skip_header=1)"
   ]
  },
  {
   "cell_type": "markdown",
   "metadata": {},
   "source": [
    "Last inn datasettet \"TempBergenYearly.txt\". Se på oppgaven \"RyddDatasett\" for flere detaljer på hvordan filinnlastingen fungerer. "
   ]
  },
  {
   "cell_type": "code",
   "execution_count": null,
   "metadata": {},
   "outputs": [],
   "source": [
    "file='TempBergenYearlyNonan.txt'\n",
    "data = np.genfromtxt('https://raw.githubusercontent.com/irendundas/EkteData/'\n",
    "                     'main/'+file, dtype=float, delimiter=',',skip_header=1)\n",
    "print(data.shape)\n",
    "data"
   ]
  },
  {
   "cell_type": "code",
   "execution_count": null,
   "metadata": {},
   "outputs": [],
   "source": [
    "# Her ser vi alle verdiene i kolonne #2\n",
    "plt.plot(data[:,1])\n",
    "plt.show()"
   ]
  },
  {
   "cell_type": "markdown",
   "metadata": {},
   "source": [
    "data.shape viser oss at datasettet over temperatur har 161 rader og 2 kolonner. Hvis vi vil ha tak i alle årene og lagre dem i en vektor som vi kaller \"tid\" skriver vi `tid=data[:,0]`, altså *alle radene* (:), men kun den *første kolonnen* (0)\n"
   ]
  },
  {
   "cell_type": "code",
   "execution_count": null,
   "metadata": {},
   "outputs": [],
   "source": [
    "tid=data[:,0]\n",
    "tid"
   ]
  },
  {
   "cell_type": "markdown",
   "metadata": {},
   "source": [
    "Lag en variabel \"temp\" som inneholder kolonnen med temperatur."
   ]
  },
  {
   "cell_type": "code",
   "execution_count": null,
   "metadata": {},
   "outputs": [],
   "source": []
  },
  {
   "cell_type": "markdown",
   "metadata": {},
   "source": [
    "Skriv ut årene og temperatur for alle årene fra året du ble født frem til slutten av datasettet. Da må du finne indeksen til året du ble født - husk at `tid[0]` gir deg startåret. Når du regner deg frem til en indeks-verdi er gjerne resultatet en \"float\" (tall med desimal). For å konvertere en float til integer kan du skrive int(a). "
   ]
  },
  {
   "cell_type": "code",
   "execution_count": null,
   "metadata": {},
   "outputs": [],
   "source": []
  },
  {
   "cell_type": "markdown",
   "metadata": {},
   "source": [
    "Finn de fem siste årene i datasettet."
   ]
  },
  {
   "cell_type": "code",
   "execution_count": null,
   "metadata": {},
   "outputs": [],
   "source": []
  },
  {
   "cell_type": "markdown",
   "metadata": {},
   "source": [
    "Finn tidsserien for temperatur på hele 1900-tallet. Skriv også ut årene. "
   ]
  },
  {
   "cell_type": "code",
   "execution_count": null,
   "metadata": {},
   "outputs": [],
   "source": []
  },
  {
   "cell_type": "markdown",
   "metadata": {},
   "source": [
    "Iblant trenger man å hente ut data med jevne intervall - f.eks. hvis man har et datasett med daglig oppløsning og bare vil ha tak i onsdagene, eller man bare vil ha tak i bursdagen sin fra en tidsserie med daglig oppløsning som spenner over flere år. Eller kanskje man vil hente ut data fra kl 12 for å sjekke solstyrke midt på dagen... \n",
    "\n",
    "Med indeksering bruker man tre verdier: [start:stop:step]. Skal man f.eks. ha annenhver verdi mellom indeks a og b skriver man [a:b:2]. Husk at det fremdeles er a *til og ikke med* b. \n",
    "\n",
    "Finn temperaturen for hvert tiende år siden 1870 frem til 2020. Skriv igjen ut årene i tillegg (for å sjekke at indekseringen du har satt stemmer)."
   ]
  },
  {
   "cell_type": "code",
   "execution_count": null,
   "metadata": {},
   "outputs": [],
   "source": []
  },
  {
   "cell_type": "markdown",
   "metadata": {},
   "source": [
    "Lag en figur som viser hele temperaturtidsserien, og plot hvert tiende år på samme figur. Synes du tidsserien blir godt representert ved å bare se på hvert tiende år? I en seinere oppgave, f.eks. den om for-løkker, ser vi på hvordan man kan representere datasettet ved å ta gjennomsnittet over tiårsperioder. Hvordan tror du denne tidsserien representerer datasettet i forhold til den figuren vi har her?"
   ]
  },
  {
   "cell_type": "code",
   "execution_count": null,
   "metadata": {},
   "outputs": [],
   "source": [
    "tid[0]"
   ]
  },
  {
   "cell_type": "code",
   "execution_count": null,
   "metadata": {},
   "outputs": [],
   "source": []
  },
  {
   "cell_type": "markdown",
   "metadata": {},
   "source": [
    "Plukk ut bare april, og lag en figur. "
   ]
  },
  {
   "cell_type": "code",
   "execution_count": null,
   "metadata": {},
   "outputs": [],
   "source": []
  }
 ],
 "metadata": {
  "kernelspec": {
   "display_name": "Python 3",
   "language": "python",
   "name": "python3"
  },
  "language_info": {
   "codemirror_mode": {
    "name": "ipython",
    "version": 3
   },
   "file_extension": ".py",
   "mimetype": "text/x-python",
   "name": "python",
   "nbconvert_exporter": "python",
   "pygments_lexer": "ipython3",
   "version": "3.8.5"
  }
 },
 "nbformat": 4,
 "nbformat_minor": 4
}

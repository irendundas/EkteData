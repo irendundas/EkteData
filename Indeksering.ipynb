{
 "cells": [
  {
   "cell_type": "markdown",
   "metadata": {},
   "source": [
    "# Indekseringsoppgaven\n",
    "\n",
    "Generelle regler for indeksering i Python:\n",
    "- Når man angir indekser i Python bruker man brakkeparanteser []. \n",
    "- Indekser MÅ være integers - altså det kan ikke være noen desimaler, og det holder ikke at desimalen er 0. \n",
    "- Python starter indekseringen sin på 0. \n",
    "- Den siste indeksen er -1. Den nest siste er -2 etc. \n",
    "- Skal man ha alle indekser i en rad eller kolonne bruker man kolon.\n",
    "- I en matrise med to dimensjoner er den første indeksen alltid radene, mens den andre indeksen er kolonnene.\n",
    "- Skal man ha tak i mer enn en, men ikke alle, elementene skriver man [a:b]. Dette betyr element a til *men ikke med* b. \n",
    "- Hvis man har en matrise og skal ha tak i rad a til men ikke med b, og alle kolonnene skriver man  [a:b,:]. Rader og kolonner skilles altså med komma. \n",
    "- Vil man ha fra start frem til (og ikke med) en indeks skriver man [:a]. Vil man ha fra (og med) en indeks til slutten skriver man [a:]. \n",
    "\n",
    "Vi bruker datasettet over årlig temperatur i Bergen til å gå gjennom disse punktene. "
   ]
  },
  {
   "cell_type": "code",
   "execution_count": null,
   "metadata": {},
   "outputs": [],
   "source": [
    "import numpy as np\n",
    "import matplotlib.pyplot as plt # for figurer\n"
   ]
  },
  {
   "cell_type": "markdown",
   "metadata": {},
   "source": [
    "Last inn datasettet \"TempBergenYearly.txt\". Se på oppgaven \"RyddDatasett\" for flere detaljer på hvordan filinnlastingen fungerer. "
   ]
  },
  {
   "cell_type": "code",
   "execution_count": null,
   "metadata": {},
   "outputs": [],
   "source": [
    "file='TempBergenYearlyNonan.txt'\n",
    "data = np.genfromtxt('https://raw.githubusercontent.com/irendundas/EkteData/'\n",
    "                     'main/'+file, dtype=float, delimiter=',',skip_header=1)\n",
    "print(data.shape)\n",
    "data"
   ]
  },
  {
   "cell_type": "code",
   "execution_count": null,
   "metadata": {},
   "outputs": [],
   "source": [
    "# Her ser vi alle verdiene i kolonne #2\n",
    "plt.plot(data[:,1])\n",
    "plt.show()"
   ]
  },
  {
   "cell_type": "markdown",
   "metadata": {},
   "source": [
    "data.shape viser oss at datasettet over temperatur har 161 rader og 2 kolonner. Hvis vi vil ha tak i alle årene og lagre dem i en vektor som vi kaller \"tid\" skriver vi `tid=data[:,0]`, altså *alle radene* (:), men kun den *første kolonnen* (0)\n"
   ]
  },
  {
   "cell_type": "code",
   "execution_count": null,
   "metadata": {},
   "outputs": [],
   "source": [
    "tid=data[:,0]\n",
    "tid"
   ]
  },
  {
   "cell_type": "markdown",
   "metadata": {},
   "source": [
    "Lag en variabel \"temp\" som inneholder kolonnen med temperatur."
   ]
  },
  {
   "cell_type": "code",
   "execution_count": null,
   "metadata": {},
   "outputs": [],
   "source": []
  },
  {
   "cell_type": "markdown",
   "metadata": {},
   "source": [
    "Skriv ut årene og temperatur for alle årene fra året du ble født frem til slutten av datasettet. Da må du finne indeksen til året du ble født - husk at `tid[0]` gir deg startåret. Når du regner deg frem til en indeks-verdi er gjerne resultatet en \"float\" (tall med desimal). For å konvertere en float til integer kan du skrive int(a). "
   ]
  },
  {
   "cell_type": "code",
   "execution_count": null,
   "metadata": {},
   "outputs": [],
   "source": []
  },
  {
   "cell_type": "markdown",
   "metadata": {},
   "source": [
    "Finn de fem siste årene i datasettet."
   ]
  },
  {
   "cell_type": "code",
   "execution_count": null,
   "metadata": {},
   "outputs": [],
   "source": []
  },
  {
   "cell_type": "markdown",
   "metadata": {},
   "source": [
    "Finn tidsserien for temperatur på hele 1900-tallet. Skriv også ut årene. "
   ]
  },
  {
   "cell_type": "code",
   "execution_count": null,
   "metadata": {},
   "outputs": [],
   "source": []
  },
  {
   "cell_type": "markdown",
   "metadata": {},
   "source": [
    "Iblant trenger man å hente ut data med jevne intervall - f.eks. hvis man har et datasett med daglig oppløsning og bare vil ha tak i onsdagene, eller man bare vil ha tak i bursdagen sin fra en tidsserie med daglig oppløsning som spenner over flere år. Eller kanskje man vil hente ut data fra kl 12 for å sjekke solstyrke midt på dagen... \n",
    "\n",
    "Med indeksering bruker man tre verdier: [start:stop:step]. Skal man f.eks. ha annenhver verdi mellom indeks a og b skriver man [a:b:2]. Husk at det fremdeles er a *til og ikke med* b. \n",
    "\n",
    "Finn temperaturen for hvert tiende år siden 1870 frem til 2020. Skriv igjen ut årene i tillegg (for å sjekke at indekseringen du har satt stemmer)."
   ]
  },
  {
   "cell_type": "code",
   "execution_count": null,
   "metadata": {},
   "outputs": [],
   "source": []
  },
  {
   "cell_type": "markdown",
   "metadata": {},
   "source": [
    "Lag en figur som viser hele temperaturtidsserien, og plot hvert tiende år på samme figur. Synes du tidsserien blir godt representert ved å bare se på hvert tiende år? I en seinere oppgave, f.eks. den om for-løkker, ser vi på hvordan man kan representere datasettet ved å ta gjennomsnittet over tiårsperioder. Hvordan tror du denne tidsserien representerer datasettet i forhold til den figuren vi har her?"
   ]
  },
  {
   "cell_type": "code",
   "execution_count": null,
   "metadata": {},
   "outputs": [],
   "source": [
    "tid[0]"
   ]
  },
  {
   "cell_type": "code",
   "execution_count": null,
   "metadata": {},
   "outputs": [],
   "source": []
  },
  {
   "cell_type": "markdown",
   "metadata": {},
   "source": [
    "Plukk ut bare april, og lag en figur. "
   ]
  },
  {
   "cell_type": "code",
   "execution_count": null,
   "metadata": {},
   "outputs": [],
   "source": []
  }
 ],
 "metadata": {
  "kernelspec": {
   "display_name": "Python 3",
   "language": "python",
   "name": "python3"
  },
  "language_info": {
   "codemirror_mode": {
    "name": "ipython",
    "version": 3
   },
   "file_extension": ".py",
   "mimetype": "text/x-python",
   "name": "python",
   "nbconvert_exporter": "python",
   "pygments_lexer": "ipython3",
   "version": "3.8.5"
  }
 },
 "nbformat": 4,
 "nbformat_minor": 4
}

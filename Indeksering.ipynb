{
 "cells": [
  {
   "cell_type": "markdown",
   "metadata": {},
   "source": [
    "# Indekseringsoppgaven\n",
    "\n",
    "Generelle regler for indeksering i Python:\n",
    "- Når man angir indekser i Python bruker man brakkeparanteser []. \n",
    "- Indekser MÅ være integers - altså det kan ikke være noen desimaler, og det holder ikke at desimalen er 0. \n",
    "- Python starter indekseringen sin på 0. \n",
    "- Den siste indeksen er -1. Den nest siste er -2 etc. \n",
    "- Skal man ha alle indekser i en rad eller kolonne bruker man kolon.\n",
    "- I en matrise med to dimensjoner er den første indeksen alltid radene, mens den andre indeksen er kolonnene.\n",
    "- Skal man ha tak i mer enn en, men ikke alle, elementene skriver man [a:b]. Dette betyr element a til *men ikke med* b. \n",
    "- Hvis man har en matrise og skal ha tak i rad a til men ikke med b, og alle kolonnene skriver man  [a:b,:]. Rader og kolonner skilles altså med komma. \n",
    "- Vil man ha fra start frem til (og ikke med) en indeks skriver man [:a]. Vil man ha fra (og med) en indeks til slutten skriver man [a:]. \n",
    "\n",
    "Vi bruker datasettet over årlig temperatur i Bergen til å gå gjennom disse punktene. "
   ]
  },
  {
   "cell_type": "code",
   "execution_count": 1,
   "metadata": {},
   "outputs": [],
   "source": [
    "import numpy as np"
   ]
  },
  {
   "cell_type": "markdown",
   "metadata": {},
   "source": [
    "Last inn datasettet \"TempBergenYearly.txt\". Se på oppgaven \"RyddDatasett\" for flere detaljer på hvordan filinnlastingen fungerer. "
   ]
  },
  {
   "cell_type": "code",
   "execution_count": 12,
   "metadata": {},
   "outputs": [
    {
     "name": "stdout",
     "output_type": "stream",
     "text": [
      "(161, 2)\n"
     ]
    },
    {
     "data": {
      "text/plain": [
       "array([[1861.        , -999.99      ],\n",
       "       [1862.        ,    7.71666667],\n",
       "       [1863.        ,    7.75833333],\n",
       "       [1864.        ,    6.86666667],\n",
       "       [1865.        ,    7.225     ],\n",
       "       [1866.        ,    7.41666667],\n",
       "       [1867.        ,    6.55      ],\n",
       "       [1868.        ,    7.975     ],\n",
       "       [1869.        ,    6.45      ],\n",
       "       [1870.        ,    6.575     ],\n",
       "       [1871.        , -999.99      ],\n",
       "       [1872.        , -999.99      ],\n",
       "       [1873.        ,    7.83333333],\n",
       "       [1874.        ,    7.175     ],\n",
       "       [1875.        ,    7.01666667],\n",
       "       [1876.        ,    6.78333333],\n",
       "       [1877.        ,    6.55      ],\n",
       "       [1878.        , -999.99      ],\n",
       "       [1879.        ,    6.69166667],\n",
       "       [1880.        ,    7.53333333],\n",
       "       [1881.        ,    6.36666667],\n",
       "       [1882.        ,    7.9       ],\n",
       "       [1883.        ,    7.6       ],\n",
       "       [1884.        ,    8.20833333],\n",
       "       [1885.        ,    6.70833333],\n",
       "       [1886.        ,    6.83333333],\n",
       "       [1887.        ,    6.99166667],\n",
       "       [1888.        ,    6.55      ],\n",
       "       [1889.        ,    7.925     ],\n",
       "       [1890.        ,    7.78333333],\n",
       "       [1891.        ,    7.73333333],\n",
       "       [1892.        ,    6.26666667],\n",
       "       [1893.        ,    7.49166667],\n",
       "       [1894.        ,    8.33333333],\n",
       "       [1895.        , -999.99      ],\n",
       "       [1896.        ,    7.40833333],\n",
       "       [1897.        ,    7.25      ],\n",
       "       [1898.        ,    7.15      ],\n",
       "       [1899.        ,    6.96666667],\n",
       "       [1900.        ,    6.70833333],\n",
       "       [1901.        ,    7.675     ],\n",
       "       [1902.        ,    6.40833333],\n",
       "       [1903.        ,    7.18333333],\n",
       "       [1904.        ,    6.89166667],\n",
       "       [1905.        ,    7.08333333],\n",
       "       [1906.        ,    7.38333333],\n",
       "       [1907.        ,    6.95      ],\n",
       "       [1908.        ,    7.575     ],\n",
       "       [1909.        ,    6.53333333],\n",
       "       [1910.        ,    7.79166667],\n",
       "       [1911.        ,    7.56666667],\n",
       "       [1912.        ,    7.59166667],\n",
       "       [1913.        ,    7.81666667],\n",
       "       [1914.        ,    7.93333333],\n",
       "       [1915.        ,    5.95833333],\n",
       "       [1916.        ,    7.1       ],\n",
       "       [1917.        , -999.99      ],\n",
       "       [1918.        ,    7.5       ],\n",
       "       [1919.        ,    6.125     ],\n",
       "       [1920.        ,    7.68333333],\n",
       "       [1921.        ,    7.2       ],\n",
       "       [1922.        ,    6.425     ],\n",
       "       [1923.        ,    6.46666667],\n",
       "       [1924.        ,    7.28333333],\n",
       "       [1925.        ,    7.85833333],\n",
       "       [1926.        , -999.99      ],\n",
       "       [1927.        ,    7.19166667],\n",
       "       [1928.        ,    7.14166667],\n",
       "       [1929.        , -999.99      ],\n",
       "       [1930.        , -999.99      ],\n",
       "       [1931.        ,    6.70833333],\n",
       "       [1932.        ,    7.58333333],\n",
       "       [1933.        ,    8.25833333],\n",
       "       [1934.        ,    8.55833333],\n",
       "       [1935.        ,    7.69166667],\n",
       "       [1936.        ,    8.275     ],\n",
       "       [1937.        ,    7.98333333],\n",
       "       [1938.        ,    8.30833333],\n",
       "       [1939.        , -999.99      ],\n",
       "       [1940.        ,    7.10833333],\n",
       "       [1941.        ,    6.975     ],\n",
       "       [1942.        , -999.99      ],\n",
       "       [1943.        ,    8.2       ],\n",
       "       [1944.        , -999.99      ],\n",
       "       [1945.        ,    8.275     ],\n",
       "       [1946.        ,    7.93333333],\n",
       "       [1947.        ,    7.94166667],\n",
       "       [1948.        ,    8.15833333],\n",
       "       [1949.        ,    8.125     ],\n",
       "       [1950.        ,    8.275     ],\n",
       "       [1951.        ,    7.6       ],\n",
       "       [1952.        ,    7.125     ],\n",
       "       [1953.        ,    8.625     ],\n",
       "       [1954.        ,    7.70833333],\n",
       "       [1955.        ,    7.3       ],\n",
       "       [1956.        ,    7.225     ],\n",
       "       [1957.        ,    7.93333333],\n",
       "       [1958.        ,    7.4       ],\n",
       "       [1959.        ,    8.56666667],\n",
       "       [1960.        , -999.99      ],\n",
       "       [1961.        ,    8.25833333],\n",
       "       [1962.        ,    7.01666667],\n",
       "       [1963.        ,    7.23333333],\n",
       "       [1964.        ,    7.525     ],\n",
       "       [1965.        ,    7.25      ],\n",
       "       [1966.        ,    6.90833333],\n",
       "       [1967.        ,    7.725     ],\n",
       "       [1968.        ,    7.48333333],\n",
       "       [1969.        ,    7.4       ],\n",
       "       [1970.        ,    7.09166667],\n",
       "       [1971.        ,    7.775     ],\n",
       "       [1972.        ,    7.83333333],\n",
       "       [1973.        ,    7.39166667],\n",
       "       [1974.        ,    8.59166667],\n",
       "       [1975.        ,    8.20833333],\n",
       "       [1976.        ,    7.5       ],\n",
       "       [1977.        ,    7.46666667],\n",
       "       [1978.        ,    7.36666667],\n",
       "       [1979.        ,    6.40833333],\n",
       "       [1980.        ,    7.675     ],\n",
       "       [1981.        ,    6.9       ],\n",
       "       [1982.        ,    8.1       ],\n",
       "       [1983.        , -999.99      ],\n",
       "       [1984.        ,    7.95833333],\n",
       "       [1985.        ,    6.8       ],\n",
       "       [1986.        ,    7.10833333],\n",
       "       [1987.        ,    7.23333333],\n",
       "       [1988.        ,    8.225     ],\n",
       "       [1989.        ,    8.475     ],\n",
       "       [1990.        ,    8.91666667],\n",
       "       [1991.        ,    8.15833333],\n",
       "       [1992.        ,    8.53333333],\n",
       "       [1993.        ,    7.56666667],\n",
       "       [1994.        ,    7.675     ],\n",
       "       [1995.        ,    7.75      ],\n",
       "       [1996.        ,    7.16666667],\n",
       "       [1997.        ,    8.59166667],\n",
       "       [1998.        ,    7.975     ],\n",
       "       [1999.        ,    8.575     ],\n",
       "       [2000.        ,    8.81666667],\n",
       "       [2001.        ,    7.68333333],\n",
       "       [2002.        , -999.99      ],\n",
       "       [2003.        ,    8.73333333],\n",
       "       [2004.        , -999.99      ],\n",
       "       [2005.        ,    8.4       ],\n",
       "       [2006.        ,    9.31666667],\n",
       "       [2007.        ,    8.4       ],\n",
       "       [2008.        ,    8.875     ],\n",
       "       [2009.        ,    8.6       ],\n",
       "       [2010.        ,    6.36666667],\n",
       "       [2011.        ,    8.78333333],\n",
       "       [2012.        , -999.99      ],\n",
       "       [2013.        ,    7.96666667],\n",
       "       [2014.        ,    9.90833333],\n",
       "       [2015.        ,    8.73333333],\n",
       "       [2016.        ,    8.6       ],\n",
       "       [2017.        ,    8.625     ],\n",
       "       [2018.        ,    8.69166667],\n",
       "       [2019.        ,    8.83333333],\n",
       "       [2020.        ,    9.43333333],\n",
       "       [2021.        , -999.99      ]])"
      ]
     },
     "execution_count": 12,
     "metadata": {},
     "output_type": "execute_result"
    }
   ],
   "source": [
    "file='TempBergenYearly.txt'\n",
    "data = np.genfromtxt('https://raw.githubusercontent.com/irendundas/EkteData/'\n",
    "                     'main/'+file, dtype=float, delimiter=',',skip_header=1)\n",
    "print(data.shape)\n",
    "data"
   ]
  },
  {
   "cell_type": "markdown",
   "metadata": {},
   "source": [
    "data.shape viser oss at datasettet over temperatur har 161 rader og 2 kolonner. Hvis vi vil ha tak i alle årene og lagre dem i en vektor som vi kaller \"tid\" skriver vi `tid=data[:,0]`, altså *alle radene* (:), men kun den *første kolonnen* (0)\n"
   ]
  },
  {
   "cell_type": "code",
   "execution_count": 13,
   "metadata": {},
   "outputs": [
    {
     "data": {
      "text/plain": [
       "array([1861., 1862., 1863., 1864., 1865., 1866., 1867., 1868., 1869.,\n",
       "       1870., 1871., 1872., 1873., 1874., 1875., 1876., 1877., 1878.,\n",
       "       1879., 1880., 1881., 1882., 1883., 1884., 1885., 1886., 1887.,\n",
       "       1888., 1889., 1890., 1891., 1892., 1893., 1894., 1895., 1896.,\n",
       "       1897., 1898., 1899., 1900., 1901., 1902., 1903., 1904., 1905.,\n",
       "       1906., 1907., 1908., 1909., 1910., 1911., 1912., 1913., 1914.,\n",
       "       1915., 1916., 1917., 1918., 1919., 1920., 1921., 1922., 1923.,\n",
       "       1924., 1925., 1926., 1927., 1928., 1929., 1930., 1931., 1932.,\n",
       "       1933., 1934., 1935., 1936., 1937., 1938., 1939., 1940., 1941.,\n",
       "       1942., 1943., 1944., 1945., 1946., 1947., 1948., 1949., 1950.,\n",
       "       1951., 1952., 1953., 1954., 1955., 1956., 1957., 1958., 1959.,\n",
       "       1960., 1961., 1962., 1963., 1964., 1965., 1966., 1967., 1968.,\n",
       "       1969., 1970., 1971., 1972., 1973., 1974., 1975., 1976., 1977.,\n",
       "       1978., 1979., 1980., 1981., 1982., 1983., 1984., 1985., 1986.,\n",
       "       1987., 1988., 1989., 1990., 1991., 1992., 1993., 1994., 1995.,\n",
       "       1996., 1997., 1998., 1999., 2000., 2001., 2002., 2003., 2004.,\n",
       "       2005., 2006., 2007., 2008., 2009., 2010., 2011., 2012., 2013.,\n",
       "       2014., 2015., 2016., 2017., 2018., 2019., 2020., 2021.])"
      ]
     },
     "execution_count": 13,
     "metadata": {},
     "output_type": "execute_result"
    }
   ],
   "source": [
    "tid=data[:,0]\n",
    "tid"
   ]
  },
  {
   "cell_type": "markdown",
   "metadata": {},
   "source": [
    "Lag en variabel \"temp\" som inneholder kolonnen med temperatur."
   ]
  },
  {
   "cell_type": "code",
   "execution_count": null,
   "metadata": {},
   "outputs": [],
   "source": []
  },
  {
   "cell_type": "markdown",
   "metadata": {},
   "source": [
    "Skriv ut årene og temperatur for alle årene fra året du ble født frem til slutten av datasettet. Da må du finne indeksen til året du ble født - husk at `tid[0]` gir deg startåret. Når du regner deg frem til en indeks-verdi er gjerne resultatet en \"float\" (tall med desimal). For å konvertere en float til integer kan du skrive int(a). "
   ]
  },
  {
   "cell_type": "code",
   "execution_count": null,
   "metadata": {},
   "outputs": [],
   "source": []
  },
  {
   "cell_type": "markdown",
   "metadata": {},
   "source": [
    "Finn de fem siste årene i datasettet."
   ]
  },
  {
   "cell_type": "code",
   "execution_count": null,
   "metadata": {},
   "outputs": [],
   "source": []
  },
  {
   "cell_type": "markdown",
   "metadata": {},
   "source": [
    "Finn tidsserien for temperatur på hele 1900-tallet. Skriv også ut årene. "
   ]
  },
  {
   "cell_type": "code",
   "execution_count": null,
   "metadata": {},
   "outputs": [],
   "source": []
  },
  {
   "cell_type": "markdown",
   "metadata": {},
   "source": [
    "Iblant trenger man å hente ut data med jevne intervall - f.eks. hvis man har et datasett med daglig oppløsning og bare vil ha tak i onsdagene, eller man bare vil ha tak i bursdagen sin fra en tidsserie med daglig oppløsning som spenner over flere år. Eller kanskje man vil hente ut data fra kl 12 for å sjekke solstyrke midt på dagen... \n",
    "\n",
    "Med indeksering bruker man tre verdier: [start:stop:step]. Skal man f.eks. ha annenhver verdi mellom indeks a og b skriver man [a:b:2]. Husk at det fremdeles er a *til og ikke med* b. \n",
    "\n",
    "Finn temperaturen for hvert tiende år siden 1870 frem til 2020. Skriv igjen ut årene i tillegg (for å sjekke at indekseringen du har satt stemmer)."
   ]
  },
  {
   "cell_type": "code",
   "execution_count": null,
   "metadata": {},
   "outputs": [],
   "source": []
  },
  {
   "cell_type": "markdown",
   "metadata": {},
   "source": [
    "Lag en figur som viser hele temperaturtidsserien, og plot hvert tiende år på samme figur. Synes du tidsserien blir godt representert ved å bare se på hvert tiende år? I en seinere oppgave, f.eks. den om for-løkker, ser vi på hvordan man kan representere datasettet ved å ta gjennomsnittet over tiårsperioder. Hvordan tror du denne tidsserien representerer datasettet i forhold til den figuren vi har her?"
   ]
  },
  {
   "cell_type": "code",
   "execution_count": 8,
   "metadata": {},
   "outputs": [
    {
     "data": {
      "text/plain": [
       "1861.0"
      ]
     },
     "execution_count": 8,
     "metadata": {},
     "output_type": "execute_result"
    }
   ],
   "source": [
    "tid[0]"
   ]
  },
  {
   "cell_type": "code",
   "execution_count": null,
   "metadata": {},
   "outputs": [],
   "source": []
  },
  {
   "cell_type": "markdown",
   "metadata": {},
   "source": [
    "Plukk ut bare april"
   ]
  },
  {
   "cell_type": "code",
   "execution_count": null,
   "metadata": {},
   "outputs": [],
   "source": []
  }
 ],
 "metadata": {
  "kernelspec": {
   "display_name": "Python 3",
   "language": "python",
   "name": "python3"
  },
  "language_info": {
   "codemirror_mode": {
    "name": "ipython",
    "version": 3
   },
   "file_extension": ".py",
   "mimetype": "text/x-python",
   "name": "python",
   "nbconvert_exporter": "python",
   "pygments_lexer": "ipython3",
   "version": "3.8.5"
  }
 },
 "nbformat": 4,
 "nbformat_minor": 4
}

{
 "cells": [
  {
   "cell_type": "markdown",
   "metadata": {},
   "source": [
    "## Nedbørsoppgaven Del 4: Manipulering av datasett\n",
    "\n",
    "*Nedbørsoppgavene Del 1 til 5 er laget som støtte-oppgaver til oppgaven \"Nedbør i Norge\". Oppgaven \"Nedbør i Norge\" er en lengre oppgave som kommer innom mange forskjellige programerings-elementer. Intensjonen er at hvis man først gjør deloppgavene 1 til 5 og så går gjennom det nokså omfattende eksempelet på starten av oppgaven \"Nedbør i Norge\" så vil det programeringstekniske i oppgaven \"Nedbør i Norge\" være repetisjon, slik at man kan fokusere på den naturvitenskaplige tolkningen av dataene. På denne måten får man både trening i programmering og erfaring med hvordan det kan brukes til å studere og forstå naturvitenskaplige prosesser.*\n",
    "\n",
    "-------------"
   ]
  },
  {
   "cell_type": "markdown",
   "metadata": {},
   "source": [
    "I del 1 og 3 har vi gått gjennom \n",
    "- indeksering og hvordan man kan dele inn en tidsserie ved helg av indeksering, \n",
    "- hvordan man plotter tidsserier ved hjelp av pakken `matplotlib`. \n",
    "\n",
    "Nå skal vi bruke dette til å se på hvordan man kan velge ut spesifikke indekser fra et datasett og sette dette sammen til et nytt datasett. Ved hjelp av Del 3 kan vi fremstille resultatet på en oversiktlig måte. \n",
    "\n",
    "#### Last inn pakkene som tengs"
   ]
  },
  {
   "cell_type": "code",
   "execution_count": 1,
   "metadata": {},
   "outputs": [],
   "source": [
    "import numpy as np # for regneoperasjoner\n",
    "import matplotlib.pyplot as plt # for figurer\n",
    "from EkteDataFunk import loadData # for filinnlasting"
   ]
  },
  {
   "cell_type": "markdown",
   "metadata": {},
   "source": [
    "#### 1. Last inn et datasett\n",
    "For denne delen bruker vi et større datasett enn i Del 1 til 3 slik at vi har litt mer å ta utgangspunkt i. Dette datasettet har like mange rader, men 13 kolonner: en for tid, og tolv for hver av månedene.  "
   ]
  },
  {
   "cell_type": "code",
   "execution_count": 2,
   "metadata": {},
   "outputs": [],
   "source": [
    "file='TempBergen.txt'\n",
    "temp,tid = loadData(file)"
   ]
  },
  {
   "cell_type": "code",
   "execution_count": 7,
   "metadata": {},
   "outputs": [
    {
     "name": "stdout",
     "output_type": "stream",
     "text": [
      "[1861. 1862. 1863. 1864. 1865. 1866. 1867. 1868. 1869. 1870. 1871. 1872.\n",
      " 1873. 1874. 1875. 1876. 1877. 1878. 1879. 1880. 1881. 1882. 1883. 1884.\n",
      " 1885. 1886. 1887. 1888. 1889. 1890. 1891. 1892. 1893. 1894. 1895. 1896.\n",
      " 1897. 1898. 1899. 1900. 1901. 1902. 1903. 1904. 1905. 1906. 1907. 1908.\n",
      " 1909. 1910. 1911. 1912. 1913. 1914. 1915. 1916. 1917. 1918. 1919. 1920.\n",
      " 1921. 1922. 1923. 1924. 1925. 1926. 1927. 1928. 1929. 1930. 1931. 1932.\n",
      " 1933. 1934. 1935. 1936. 1937. 1938. 1939. 1940. 1941. 1942. 1943. 1944.\n",
      " 1945. 1946. 1947. 1948. 1949. 1950. 1951. 1952. 1953. 1954. 1955. 1956.\n",
      " 1957. 1958. 1959. 1960. 1961. 1962. 1963. 1964. 1965. 1966. 1967. 1968.\n",
      " 1969. 1970. 1971. 1972. 1973. 1974. 1975. 1976. 1977. 1978. 1979. 1980.\n",
      " 1981. 1982. 1983. 1984. 1985. 1986. 1987. 1988. 1989. 1990. 1991. 1992.\n",
      " 1993. 1994. 1995. 1996. 1997. 1998. 1999. 2000. 2001. 2002. 2003. 2004.\n",
      " 2005. 2006. 2007. 2008. 2009. 2010. 2011. 2012. 2013. 2014. 2015. 2016.\n",
      " 2017. 2018. 2019. 2020. 2021.]\n",
      "[[ nan  1.1  3.1 ... 10.9  2.8  4.7]\n",
      " [ 0.4  0.8  1.9 ...  9.3  4.   4.5]\n",
      " [ 2.4  3.3  3.6 ...  9.5  5.9  2.2]\n",
      " ...\n",
      " [ 2.6  5.3  4.6 ...  8.   3.   5. ]\n",
      " [ 5.5  4.   4.7 ...  9.9  7.9  5.2]\n",
      " [-0.8  nan  nan ...  nan  nan  nan]]\n",
      "temp shape= (161, 12)\n"
     ]
    }
   ],
   "source": [
    "print(tid)\n",
    "print(temp)\n",
    "print('temp shape=',temp.shape)"
   ]
  },
  {
   "cell_type": "markdown",
   "metadata": {},
   "source": [
    "\"temp\" er for stor til å vise hele - matrisen har 161 rader og 12 kolonner. Derfor er det  \"...\" for å vise at ikke hele datasettet vises. \n",
    "\n",
    "#### 2. Del datasettet inn i sesonger\n",
    "Siden vi nå har verdier for alle månedene, og ikke bare års-gjennomsnitt, kan vi sammenligne månedene mot hverandre, men vi kan også se på sesongene i forhold til hverandre. Det er lettere å sammenligne fire tidsserier enn 12 tidsserier, og det er ikke sikkert man alltid trenger alle detaljene fra hver måned selv om årsoppløsningen er for lav. Det er dette vi skal gjøre i denne delen: sette månedene sammen til sesonger, og se på endringen i sesongene over tid. "
   ]
  },
  {
   "cell_type": "code",
   "execution_count": 4,
   "metadata": {},
   "outputs": [],
   "source": [
    "# Spring: alle rader utenom den siste (kun NaN) og kolonne 2 til og ikke med 5,\n",
    "# altså mars, april og mai\n",
    "spring=temp[:-1,2:5] \n",
    "\n",
    "# Summer: alle rader utenom den siste (kun NaN) og kolonnene for juni, juli \n",
    "# og august\n",
    "summer=temp[:-1,5:8]\n",
    "\n",
    "# Fall: alle rader utenom den siste (kun NaN) og kolonnenen for september, \n",
    "# oktober og november\n",
    "fall=temp[:-1,8:11]"
   ]
  },
  {
   "cell_type": "code",
   "execution_count": 8,
   "metadata": {},
   "outputs": [
    {
     "data": {
      "text/plain": [
       "((160, 3), (160, 3), (160, 3))"
      ]
     },
     "execution_count": 8,
     "metadata": {},
     "output_type": "execute_result"
    }
   ],
   "source": [
    "spring.shape, summer.shape, fall.shape"
   ]
  },
  {
   "cell_type": "markdown",
   "metadata": {},
   "source": [
    "#### 3. Spesialbehandling for vinter\n",
    "Vinter er litt tricky: januar og februar, og desember samme år hører ikke til samme vinter. Vi deler derfor vinter inn i Des (desember) og JanFeb  (januar og februar), og setter dem sammen igjen til en matrise etterpå. Vinter 1862 blir den første vinter-verdien vi har, og består av demeber 1861 og januar og februar 1862. Vinter 2021 er den siste vinteren (demeber 2020 og januar og februar 2021). Vi har altså like mange vinter-verdiene som vår, sommer og høst-verdier, men vinter-verdiene er forskjøvet med ett år. Ta en titt på hvordan datasettet ser ut her, så blir det tydeligere hvorfor vinterverdiene er forskjøvet: https://github.com/irendundas/EkteData/blob/main/TempBergen.txt"
   ]
  },
  {
   "cell_type": "code",
   "execution_count": 14,
   "metadata": {},
   "outputs": [],
   "source": [
    "Des=temp[:-1,11] \n",
    "# Vi må bruke :-1 fordi vi vil ha 1861 til og med 2020: vi vil ikke ha med den \n",
    "# aller siste desember-verdien\n",
    "\n",
    "JanFeb=temp[1:,1:3] # Jan og Feb fra og med 1862, kolonne 1 og 2. "
   ]
  },
  {
   "cell_type": "code",
   "execution_count": 15,
   "metadata": {},
   "outputs": [
    {
     "data": {
      "text/plain": [
       "((160,), (160, 2))"
      ]
     },
     "execution_count": 15,
     "metadata": {},
     "output_type": "execute_result"
    }
   ],
   "source": [
    "Des.shape, JanFeb.shape"
   ]
  },
  {
   "cell_type": "markdown",
   "metadata": {},
   "source": [
    "Nå er \"JanFeb\" alle januar og februar-månedene fra 1862 til 2021, mens \"Des\" er desember fra 1861 til 2020. Vi lar Januar og Februar \"bestemme\" hvilket år vinteren hører til, så vi har altså vinter-data fra 1862-2021. \n",
    "\n",
    "Vi vil sette disse to arrayene sammen til ett array slik at det får likt oppsett som de andre sesongene. Det finnes mange måter å gjøre dette på, og vi går gjennom tre metoder her\n",
    "\n",
    "**Metode 1:**\n",
    "Lag et tomt array med rette dimensjoner og plugg arrayene du vil sette sammen inn i det tomme arrayet. Dette forutsetter at du vet de endelige dimensjonene på forhånd. "
   ]
  },
  {
   "cell_type": "code",
   "execution_count": 17,
   "metadata": {},
   "outputs": [
    {
     "data": {
      "text/plain": [
       "array([[ 4.7,  0.8,  1.9],\n",
       "       [ 4.5,  3.3,  3.6],\n",
       "       [ 2.2, -0.5,  1.5],\n",
       "       [ 3.2, -1.8,  0.9],\n",
       "       [ 6.1,  1.2, -0.4],\n",
       "       [ 1.9,  3. , -0.3],\n",
       "       [ 1.4,  2.6,  4.9],\n",
       "       [ 4.1,  2.9,  0.9],\n",
       "       [ 0.1, -1.1,  1.8],\n",
       "       [-2.2,  nan,  5.5],\n",
       "       [ 2. ,  3.4,  3.9],\n",
       "       [ 0.1,  1.2,  4.3],\n",
       "       [ 6.5,  3.4,  4.5],\n",
       "       [-3.5, -1.7,  1.8],\n",
       "       [ 3.4,  0. ,  2.4],\n",
       "       [-1.2,  0. ,  0.1],\n",
       "       [ 3.4,  2.9,  2.3],\n",
       "       [-5.1, -1. ,  0.7],\n",
       "       [ 2. ,  3.7,  3.9],\n",
       "       [-0.1, -1.6, -1.5],\n",
       "       [ 5.9,  3.1,  4.7],\n",
       "       [-1.5,  2.8,  0.1],\n",
       "       [ 3.4,  2.9,  5.7],\n",
       "       [ 3.2,  3.2,  1.9],\n",
       "       [ 3.9, -0.5,  1.5],\n",
       "       [ 0. ,  3.3,  4.7],\n",
       "       [ 0.3, -2. , -0.9],\n",
       "       [ 5.9, -1.5,  0.1],\n",
       "       [ 3.7,  1.1,  5.3],\n",
       "       [ 0.1,  3.2, -0.3],\n",
       "       [ 4.6, -0.1,  2.3],\n",
       "       [ 0.1,  0.5,  5. ],\n",
       "       [ 5.8,  1.9,  6.5],\n",
       "       [ 4.9, -3.6,  2.7],\n",
       "       [ 0.8,  2.4,  3.4],\n",
       "       [ 1.6,  0.8,  3.4],\n",
       "       [ 3.4,  1.3,  2.2],\n",
       "       [ 3.6,  1.8,  1.7],\n",
       "       [ 0.6, -1.8,  1.7],\n",
       "       [ 3.8, -0.7,  2. ],\n",
       "       [ 1.1, -0.4,  3.4],\n",
       "       [ 0.1,  2.2,  4.8],\n",
       "       [ 2.6, -0.6,  1.9],\n",
       "       [ 2.5,  1.3,  4.8],\n",
       "       [ 3.9,  1.2,  1.8],\n",
       "       [ 1. ,  1.3,  3.3],\n",
       "       [ 2.3,  1.7,  2.9],\n",
       "       [ 3.3,  0.9,  1. ],\n",
       "       [ 1.7,  2.3,  4.4],\n",
       "       [ 3.4,  1.8,  2.7],\n",
       "       [ 4.2,  1.5,  5.3],\n",
       "       [ 4.2,  2.1,  4.2],\n",
       "       [ 1.5,  4. ,  3.7],\n",
       "       [ 2.6,  1.9,  0.7],\n",
       "       [-1. ,  1.3,  0.4],\n",
       "       [ 2.8,  0.1,  0.1],\n",
       "       [ 0.9,  2.1,  3.8],\n",
       "       [ 2.8, -0.8,  1.7],\n",
       "       [ 0.4,  2.8,  5.6],\n",
       "       [ 1.6,  2.2,  5.1],\n",
       "       [ 3.4,  0.5,  2.9],\n",
       "       [ 3.2,  0.4,  5.1],\n",
       "       [ 1. ,  0.5,  1. ],\n",
       "       [ 4. ,  2.6,  2.1],\n",
       "       [ 0.9,  1.3,  3. ],\n",
       "       [ 2.1,  1.9,  5.1],\n",
       "       [ 0.1,  1.8,  4.1],\n",
       "       [ 1.9, -1. ,  4.1],\n",
       "       [ 3.2,  1.3,  3. ],\n",
       "       [ 2.9,  0.5,  0.6],\n",
       "       [ 2.1,  2.6,  2.4],\n",
       "       [ 2.9,  0.9,  3.8],\n",
       "       [ 2.3,  3.3,  4.2],\n",
       "       [ 4.3,  1.8,  3.3],\n",
       "       [ 1.9,  1.1,  4.4],\n",
       "       [ 3.3,  0.9,  0.8],\n",
       "       [ 1. ,  2.3,  5.5],\n",
       "       [ 2.4,  2.7,  4.3],\n",
       "       [ 1.7, -0.7,  2.6],\n",
       "       [ 1.6, -0.5,  1.5],\n",
       "       [ 4.1, -1.7,  0.2],\n",
       "       [ 5.2,  4.1,  5.8],\n",
       "       [ 3.7,  2. ,  2.3],\n",
       "       [ 3.8,  3.7,  5.5],\n",
       "       [ 3.3,  1.5,  2.9],\n",
       "       [ 2.7, -1.7,  0.6],\n",
       "       [ 2.5,  1.5,  4.5],\n",
       "       [ 4. ,  3. ,  2.9],\n",
       "       [ 3.1,  1.8,  4.6],\n",
       "       [ 1.3,  1.6,  1. ],\n",
       "       [ 3.5,  1.6,  2.6],\n",
       "       [ 2.1,  1. ,  4.8],\n",
       "       [ 3.5,  0.3,  2.8],\n",
       "       [ 3.2,  0. ,  2.1],\n",
       "       [ 1.6, -0.5,  2.6],\n",
       "       [ 2.9,  2.2,  5.5],\n",
       "       [ 3.1, -1. ,  0.2],\n",
       "       [ 1.6,  2.1,  5.7],\n",
       "       [ 3.8,  1.2,  4.8],\n",
       "       [ 2.4,  4. ,  4.7],\n",
       "       [ 1.5,  2.2,  0.3],\n",
       "       [ 1.2, -2.1,  3.7],\n",
       "       [ 2.1,  2.2,  3.9],\n",
       "       [ 2.5,  1.7,  2.3],\n",
       "       [ 0. , -0.4,  2.9],\n",
       "       [ 1.9,  3.4,  3.8],\n",
       "       [ 2. ,  0.3,  2.8],\n",
       "       [ 2. , -2. ,  0.7],\n",
       "       [ 0.9, -1.1,  1.4],\n",
       "       [ 2.5,  3.2,  2. ],\n",
       "       [ 5. ,  2.1,  4.6],\n",
       "       [ 5.7,  2.1,  5.1],\n",
       "       [ 2. ,  4.4,  4.9],\n",
       "       [ 4.3,  3.1,  3.5],\n",
       "       [ 3.9,  2.2,  1.8],\n",
       "       [ 0. ,  0.7,  4.6],\n",
       "       [ 4.6, -0.5,  3.3],\n",
       "       [-0.6, -0.6,  2.3],\n",
       "       [ 1.8,  0.8,  1.9],\n",
       "       [ 3.1,  1. ,  2.8],\n",
       "       [-3.1,  3.2,  4.4],\n",
       "       [ 3.3,  0.8,  3.9],\n",
       "       [ 3.1,  1.6,  2. ],\n",
       "       [ 4.4,  0.1,  3. ],\n",
       "       [ 1.1, -2.1,  4.2],\n",
       "       [ 2.9,  1.4,  1.4],\n",
       "       [ 3.9,  3.3,  2.3],\n",
       "       [ 3.6,  4.7,  5.1],\n",
       "       [ 2.9,  5.5,  5.3],\n",
       "       [ 3.9,  0.4,  5.5],\n",
       "       [ 4.6,  4.3,  4.1],\n",
       "       [ 3.9,  3.5,  3.8],\n",
       "       [ 1.2, -0.8,  2.9],\n",
       "       [ 4.3,  2.6,  3.6],\n",
       "       [-0.8,  0.3,  2.7],\n",
       "       [ 0.9,  3.6,  4.1],\n",
       "       [ 3.3,  4.9,  3. ],\n",
       "       [ 4. ,  1.8,  4.6],\n",
       "       [ 2. ,  3.3,  3.2],\n",
       "       [ 3.9, -0.3,  1.9],\n",
       "       [ 1.1,  3.1,  3.7],\n",
       "       [ 0.7,  2. ,  4.8],\n",
       "       [ 3.7,  2.3,  4.6],\n",
       "       [ 4.5,  2.2,  3.6],\n",
       "       [ 3. ,  3. ,  0.7],\n",
       "       [ 6.6,  2.2,  6.2],\n",
       "       [ 3.4,  4.6,  3.2],\n",
       "       [ 2.9,  0.8,  4.7],\n",
       "       [ 1.3, -1.5,  3.4],\n",
       "       [-2.6,  1.3,  3.2],\n",
       "       [ 3.5,  2.7,  6.2],\n",
       "       [-0.1,  0.6,  0.9],\n",
       "       [ 5.7,  5.5,  6. ],\n",
       "       [ 3.2,  3.4,  5.2],\n",
       "       [ 5.8,  2.1,  4.9],\n",
       "       [ 6.1,  3. ,  4.7],\n",
       "       [ 3.3,  0.9,  0.8],\n",
       "       [ 4.2,  5.3,  4.6],\n",
       "       [ 5. ,  4. ,  4.7],\n",
       "       [ 5.2,  nan,  nan]])"
      ]
     },
     "execution_count": 17,
     "metadata": {},
     "output_type": "execute_result"
    }
   ],
   "source": [
    "winter=np.zeros((160,3)) # 160 år, 3 måneder\n",
    "winter[:,0]=Des\n",
    "winter[:,1:]=JanFeb\n",
    "winter"
   ]
  },
  {
   "cell_type": "markdown",
   "metadata": {},
   "source": [
    "**Metode 2:**\n",
    "Bruk en ny funksjon: `np.concatenate`. Denne funksjonen tar et sett med matriser eller vektorer og setter dem sammen langs den aksen du spesifiserer. Vektorene/matrisene må være like lange langs en av aksene, i dette tilfellet tidsaksen. Matrisen kan bygges på i den retningen som har ulik dimensjon. \n",
    "\n",
    "Se for deg at du skal stable tallerkner. Alle tallerknene må ha lik diameter. Dette er den dimensjonen som må være lik for å stable. Men du kan ha en tallerken og stable oppå tre nye samtidig. Dette er den dimensjonen som ikke trenger å være lik. I vårt tilfelle er tidsaksen lik, mens antall måneder kan være ulik. `axis=1` betyr altså at vi stabler måneder. "
   ]
  },
  {
   "cell_type": "code",
   "execution_count": 25,
   "metadata": {},
   "outputs": [
    {
     "ename": "AxisError",
     "evalue": "axis 1 is out of bounds for array of dimension 1",
     "output_type": "error",
     "traceback": [
      "\u001b[1;31m---------------------------------------------------------------------------\u001b[0m",
      "\u001b[1;31mAxisError\u001b[0m                                 Traceback (most recent call last)",
      "\u001b[1;32m<ipython-input-25-7aca15e623bd>\u001b[0m in \u001b[0;36m<module>\u001b[1;34m\u001b[0m\n\u001b[1;32m----> 1\u001b[1;33m \u001b[0mwinter\u001b[0m\u001b[1;33m=\u001b[0m\u001b[0mnp\u001b[0m\u001b[1;33m.\u001b[0m\u001b[0mconcatenate\u001b[0m\u001b[1;33m(\u001b[0m\u001b[1;33m(\u001b[0m\u001b[0mDes\u001b[0m\u001b[1;33m,\u001b[0m\u001b[0mJanFeb\u001b[0m\u001b[1;33m)\u001b[0m\u001b[1;33m,\u001b[0m\u001b[0maxis\u001b[0m\u001b[1;33m=\u001b[0m\u001b[1;36m1\u001b[0m\u001b[1;33m)\u001b[0m\u001b[1;33m\u001b[0m\u001b[1;33m\u001b[0m\u001b[0m\n\u001b[0m",
      "\u001b[1;32m<__array_function__ internals>\u001b[0m in \u001b[0;36mconcatenate\u001b[1;34m(*args, **kwargs)\u001b[0m\n",
      "\u001b[1;31mAxisError\u001b[0m: axis 1 is out of bounds for array of dimension 1"
     ]
    }
   ],
   "source": [
    "winter=np.concatenate((Des,JanFeb),axis=1)"
   ]
  },
  {
   "cell_type": "markdown",
   "metadata": {},
   "source": [
    "Her får vi en feilmelding. Se på `ValueError:` *axis 1 is out of bounds for array of dimension 1*. Probelmet er altså noe med dimensjonene. Se tilbake på `Des.shape` og `JanFeb.shape` som var `(160,)` og `(160, 2)`. Vi prøver altså å bygge på langs `axis=1`, men `Des` har kun en dimensjon. "
   ]
  },
  {
   "cell_type": "markdown",
   "metadata": {},
   "source": [
    "For at dimensjonene skal stemme må vi altså legge til en dimensjon for \"Des\". Dette kan vi gjøre med funksjonen `np.newaxis`. `Des[:,np.newaxis].shape = (160,1)`, altså to dimensjoner, så da fungerer np.concatenate. \n",
    "\n",
    "Vi prøver på nytt: "
   ]
  },
  {
   "cell_type": "code",
   "execution_count": 26,
   "metadata": {},
   "outputs": [
    {
     "data": {
      "text/plain": [
       "array([[ 4.7,  0.8,  1.9],\n",
       "       [ 4.5,  3.3,  3.6],\n",
       "       [ 2.2, -0.5,  1.5],\n",
       "       [ 3.2, -1.8,  0.9],\n",
       "       [ 6.1,  1.2, -0.4],\n",
       "       [ 1.9,  3. , -0.3],\n",
       "       [ 1.4,  2.6,  4.9],\n",
       "       [ 4.1,  2.9,  0.9],\n",
       "       [ 0.1, -1.1,  1.8],\n",
       "       [-2.2,  nan,  5.5],\n",
       "       [ 2. ,  3.4,  3.9],\n",
       "       [ 0.1,  1.2,  4.3],\n",
       "       [ 6.5,  3.4,  4.5],\n",
       "       [-3.5, -1.7,  1.8],\n",
       "       [ 3.4,  0. ,  2.4],\n",
       "       [-1.2,  0. ,  0.1],\n",
       "       [ 3.4,  2.9,  2.3],\n",
       "       [-5.1, -1. ,  0.7],\n",
       "       [ 2. ,  3.7,  3.9],\n",
       "       [-0.1, -1.6, -1.5],\n",
       "       [ 5.9,  3.1,  4.7],\n",
       "       [-1.5,  2.8,  0.1],\n",
       "       [ 3.4,  2.9,  5.7],\n",
       "       [ 3.2,  3.2,  1.9],\n",
       "       [ 3.9, -0.5,  1.5],\n",
       "       [ 0. ,  3.3,  4.7],\n",
       "       [ 0.3, -2. , -0.9],\n",
       "       [ 5.9, -1.5,  0.1],\n",
       "       [ 3.7,  1.1,  5.3],\n",
       "       [ 0.1,  3.2, -0.3],\n",
       "       [ 4.6, -0.1,  2.3],\n",
       "       [ 0.1,  0.5,  5. ],\n",
       "       [ 5.8,  1.9,  6.5],\n",
       "       [ 4.9, -3.6,  2.7],\n",
       "       [ 0.8,  2.4,  3.4],\n",
       "       [ 1.6,  0.8,  3.4],\n",
       "       [ 3.4,  1.3,  2.2],\n",
       "       [ 3.6,  1.8,  1.7],\n",
       "       [ 0.6, -1.8,  1.7],\n",
       "       [ 3.8, -0.7,  2. ],\n",
       "       [ 1.1, -0.4,  3.4],\n",
       "       [ 0.1,  2.2,  4.8],\n",
       "       [ 2.6, -0.6,  1.9],\n",
       "       [ 2.5,  1.3,  4.8],\n",
       "       [ 3.9,  1.2,  1.8],\n",
       "       [ 1. ,  1.3,  3.3],\n",
       "       [ 2.3,  1.7,  2.9],\n",
       "       [ 3.3,  0.9,  1. ],\n",
       "       [ 1.7,  2.3,  4.4],\n",
       "       [ 3.4,  1.8,  2.7],\n",
       "       [ 4.2,  1.5,  5.3],\n",
       "       [ 4.2,  2.1,  4.2],\n",
       "       [ 1.5,  4. ,  3.7],\n",
       "       [ 2.6,  1.9,  0.7],\n",
       "       [-1. ,  1.3,  0.4],\n",
       "       [ 2.8,  0.1,  0.1],\n",
       "       [ 0.9,  2.1,  3.8],\n",
       "       [ 2.8, -0.8,  1.7],\n",
       "       [ 0.4,  2.8,  5.6],\n",
       "       [ 1.6,  2.2,  5.1],\n",
       "       [ 3.4,  0.5,  2.9],\n",
       "       [ 3.2,  0.4,  5.1],\n",
       "       [ 1. ,  0.5,  1. ],\n",
       "       [ 4. ,  2.6,  2.1],\n",
       "       [ 0.9,  1.3,  3. ],\n",
       "       [ 2.1,  1.9,  5.1],\n",
       "       [ 0.1,  1.8,  4.1],\n",
       "       [ 1.9, -1. ,  4.1],\n",
       "       [ 3.2,  1.3,  3. ],\n",
       "       [ 2.9,  0.5,  0.6],\n",
       "       [ 2.1,  2.6,  2.4],\n",
       "       [ 2.9,  0.9,  3.8],\n",
       "       [ 2.3,  3.3,  4.2],\n",
       "       [ 4.3,  1.8,  3.3],\n",
       "       [ 1.9,  1.1,  4.4],\n",
       "       [ 3.3,  0.9,  0.8],\n",
       "       [ 1. ,  2.3,  5.5],\n",
       "       [ 2.4,  2.7,  4.3],\n",
       "       [ 1.7, -0.7,  2.6],\n",
       "       [ 1.6, -0.5,  1.5],\n",
       "       [ 4.1, -1.7,  0.2],\n",
       "       [ 5.2,  4.1,  5.8],\n",
       "       [ 3.7,  2. ,  2.3],\n",
       "       [ 3.8,  3.7,  5.5],\n",
       "       [ 3.3,  1.5,  2.9],\n",
       "       [ 2.7, -1.7,  0.6],\n",
       "       [ 2.5,  1.5,  4.5],\n",
       "       [ 4. ,  3. ,  2.9],\n",
       "       [ 3.1,  1.8,  4.6],\n",
       "       [ 1.3,  1.6,  1. ],\n",
       "       [ 3.5,  1.6,  2.6],\n",
       "       [ 2.1,  1. ,  4.8],\n",
       "       [ 3.5,  0.3,  2.8],\n",
       "       [ 3.2,  0. ,  2.1],\n",
       "       [ 1.6, -0.5,  2.6],\n",
       "       [ 2.9,  2.2,  5.5],\n",
       "       [ 3.1, -1. ,  0.2],\n",
       "       [ 1.6,  2.1,  5.7],\n",
       "       [ 3.8,  1.2,  4.8],\n",
       "       [ 2.4,  4. ,  4.7],\n",
       "       [ 1.5,  2.2,  0.3],\n",
       "       [ 1.2, -2.1,  3.7],\n",
       "       [ 2.1,  2.2,  3.9],\n",
       "       [ 2.5,  1.7,  2.3],\n",
       "       [ 0. , -0.4,  2.9],\n",
       "       [ 1.9,  3.4,  3.8],\n",
       "       [ 2. ,  0.3,  2.8],\n",
       "       [ 2. , -2. ,  0.7],\n",
       "       [ 0.9, -1.1,  1.4],\n",
       "       [ 2.5,  3.2,  2. ],\n",
       "       [ 5. ,  2.1,  4.6],\n",
       "       [ 5.7,  2.1,  5.1],\n",
       "       [ 2. ,  4.4,  4.9],\n",
       "       [ 4.3,  3.1,  3.5],\n",
       "       [ 3.9,  2.2,  1.8],\n",
       "       [ 0. ,  0.7,  4.6],\n",
       "       [ 4.6, -0.5,  3.3],\n",
       "       [-0.6, -0.6,  2.3],\n",
       "       [ 1.8,  0.8,  1.9],\n",
       "       [ 3.1,  1. ,  2.8],\n",
       "       [-3.1,  3.2,  4.4],\n",
       "       [ 3.3,  0.8,  3.9],\n",
       "       [ 3.1,  1.6,  2. ],\n",
       "       [ 4.4,  0.1,  3. ],\n",
       "       [ 1.1, -2.1,  4.2],\n",
       "       [ 2.9,  1.4,  1.4],\n",
       "       [ 3.9,  3.3,  2.3],\n",
       "       [ 3.6,  4.7,  5.1],\n",
       "       [ 2.9,  5.5,  5.3],\n",
       "       [ 3.9,  0.4,  5.5],\n",
       "       [ 4.6,  4.3,  4.1],\n",
       "       [ 3.9,  3.5,  3.8],\n",
       "       [ 1.2, -0.8,  2.9],\n",
       "       [ 4.3,  2.6,  3.6],\n",
       "       [-0.8,  0.3,  2.7],\n",
       "       [ 0.9,  3.6,  4.1],\n",
       "       [ 3.3,  4.9,  3. ],\n",
       "       [ 4. ,  1.8,  4.6],\n",
       "       [ 2. ,  3.3,  3.2],\n",
       "       [ 3.9, -0.3,  1.9],\n",
       "       [ 1.1,  3.1,  3.7],\n",
       "       [ 0.7,  2. ,  4.8],\n",
       "       [ 3.7,  2.3,  4.6],\n",
       "       [ 4.5,  2.2,  3.6],\n",
       "       [ 3. ,  3. ,  0.7],\n",
       "       [ 6.6,  2.2,  6.2],\n",
       "       [ 3.4,  4.6,  3.2],\n",
       "       [ 2.9,  0.8,  4.7],\n",
       "       [ 1.3, -1.5,  3.4],\n",
       "       [-2.6,  1.3,  3.2],\n",
       "       [ 3.5,  2.7,  6.2],\n",
       "       [-0.1,  0.6,  0.9],\n",
       "       [ 5.7,  5.5,  6. ],\n",
       "       [ 3.2,  3.4,  5.2],\n",
       "       [ 5.8,  2.1,  4.9],\n",
       "       [ 6.1,  3. ,  4.7],\n",
       "       [ 3.3,  0.9,  0.8],\n",
       "       [ 4.2,  5.3,  4.6],\n",
       "       [ 5. ,  4. ,  4.7],\n",
       "       [ 5.2,  nan,  nan]])"
      ]
     },
     "execution_count": 26,
     "metadata": {},
     "output_type": "execute_result"
    }
   ],
   "source": [
    "winter=np.concatenate((Des[:,np.newaxis],JanFeb),axis=1)\n",
    "winter"
   ]
  },
  {
   "cell_type": "markdown",
   "metadata": {},
   "source": [
    "#### Oppgave 1: \n",
    "Prøv å lage `winter`-vektoren ved å sette sammen Des og JanFeb i motsatt rekkefølge, altså `winter=np.concatenate((JanFeb, Des),axis=1)`. Da får du en ny litt annerledes feilmelding. Prøv å finne ut av hvilken informasjon meldingen gir det, og finn en løsning til probelemet. "
   ]
  },
  {
   "cell_type": "code",
   "execution_count": null,
   "metadata": {},
   "outputs": [],
   "source": []
  },
  {
   "cell_type": "markdown",
   "metadata": {},
   "source": [
    "#### Oppgave 2:\n",
    "Alternativt kunne man definert `Des=temp[0:len(temp)-1,11:]`. Da får `Des` automatisk dimensjonene `(160,1)`. `\"11:\"` gjør at `Des` kommer på tabell-format (array) slik som `JanFeb` og ikke en liste. Lag `winter`-vektoren på denne måten. "
   ]
  },
  {
   "cell_type": "code",
   "execution_count": null,
   "metadata": {},
   "outputs": [],
   "source": []
  },
  {
   "cell_type": "markdown",
   "metadata": {},
   "source": [
    "#### Oppgave 3: Gjennomsnitt av hver sesong \n",
    "Finn gjennomsnittet av hver årstid. Siden det finnes NaN-verdier i datasettet må vi bruke np.nanmean"
   ]
  },
  {
   "cell_type": "code",
   "execution_count": 28,
   "metadata": {},
   "outputs": [],
   "source": [
    "winter=\n",
    "spring=\n",
    "summer=\n",
    "fall="
   ]
  },
  {
   "cell_type": "markdown",
   "metadata": {},
   "source": [
    "#### Oppgave 4: Lag en figur\n",
    "Vi kan nå plotte alle sesongene i samme figur, se tilbake til **Nedbørsoppgaven Del 3** for tips. Husk legend og tekst på aksene. \n",
    "\n",
    "For denne figuren må du også passe på at du plotter de ulike årstidene for riktige år. Hvilket år begynner vinter på? Hvilken år begynner vår, sommer og høst på?\n"
   ]
  },
  {
   "cell_type": "code",
   "execution_count": null,
   "metadata": {},
   "outputs": [],
   "source": []
  },
  {
   "cell_type": "markdown",
   "metadata": {},
   "source": [
    "#### 4. Månedlig oppløsning med `np.reshape`\n",
    "En annen nyttig ting kan være å plotte hele tidsserien med månedlig oppløsning. Men da må radene med måneder settes etter hverandre til en lang tidsserie. \n",
    "\n",
    "En enkel måte å gjøre dette på er med np.reshape. Denne funksjonen bevarer alle verdiene men endrer dimensjonene. \"temp\" har nå dimensjoner (161, 12). Med np.reshape kan man gi \"temp\" dimensjonene (161x12,1) istedet."
   ]
  },
  {
   "cell_type": "code",
   "execution_count": 30,
   "metadata": {},
   "outputs": [
    {
     "data": {
      "image/png": "[encoded data removed]",
      "text/plain": [
       "<Figure size 720x432 with 1 Axes>"
      ]
     },
     "metadata": {
      "needs_background": "light"
     },
     "output_type": "display_data"
    }
   ],
   "source": [
    "temp_mo=np.reshape(temp,(161*12,1))\n",
    "\n",
    "fig=plt.figure(figsize=(10, 6)) # Lag akser å plotte i\n",
    "ax = fig.add_subplot(111)\n",
    "\n",
    "# Plot tidsserien\n",
    "ax.plot(temp_mo)\n",
    "\n",
    "ax.set(\n",
    "    title='Temperatur 1860-2020',\n",
    "    xlabel='År',\n",
    "    ylabel='Temperatur [\\u2103]', # \\u2103 er koden for grader celcius. \n",
    "    xlim=(0,len(temp_mo)) # sett grense for x-aksen\n",
    ") \n",
    "\n",
    "plt.show()"
   ]
  },
  {
   "cell_type": "markdown",
   "metadata": {},
   "source": [
    "#### Oppgave 5:\n",
    "Dette ble veldig rotete. Gi en forklaring på hvorfor, utover at det er mange flere datapunkt. \n",
    "\n",
    "#### 5. Månedlig oppløsning og årlig oppløsning i samme figur\n",
    "Det skjer mye på midten av plottet, mens toppen og bunnen virker mer organisert. Vi vil plotte tidsserien sammen med sommer- og vinter-gjennomsnittene for å se om det finnes en sammenheng. "
   ]
  },
  {
   "cell_type": "markdown",
   "metadata": {},
   "source": [
    "**Lag en tidsvektor manuelt.**\n",
    "Vi har imidlertid ingen tidvektor for den månedlige tidsserien. De må vi lage selv. Det finnes funksjoner for slikt i Python, men siden vi opererer med måneder og ikke trenger å ta stilling til skuddår og slikt kan det gjøres manuelt. Vi tar utgangspunkt i tidsvektoren over år. Hver måned skal være `1/12` år lengre enn forrige måned. \n",
    "\n",
    "Vi bruker denne fremgangsmåten:\n",
    "\n",
    "- Lager igjen en matrise med kun nuller, som da vi satte sammen vinter-månedene i Metode 1, men denne ganger med `shape.temp=(161,12)`"
   ]
  },
  {
   "cell_type": "code",
   "execution_count": 31,
   "metadata": {},
   "outputs": [],
   "source": [
    "time_mo=np.zeros(temp.shape) # 161 år, 12 måneder"
   ]
  },
  {
   "cell_type": "markdown",
   "metadata": {},
   "source": [
    "- Januar er året uten noen desimaler, altså `året + 1/12*0`. Sett derfor kolonne 0 = tid"
   ]
  },
  {
   "cell_type": "code",
   "execution_count": 32,
   "metadata": {},
   "outputs": [],
   "source": [
    "time_mo[:,0]=tid"
   ]
  },
  {
   "cell_type": "markdown",
   "metadata": {},
   "source": [
    "- Februar skal være `året + 1/12*1`, mars er `året + 1/12*2` etc"
   ]
  },
  {
   "cell_type": "code",
   "execution_count": 33,
   "metadata": {},
   "outputs": [],
   "source": [
    "# Dette kunne man gjort mye mer elegant med hjelp av en for-løkke, det kommer \n",
    "# vi til i neste del, Del 5. \n",
    "\n",
    "time_mo[:,1]=tid+1/12*1\n",
    "time_mo[:,2]=tid+1/12*2\n",
    "time_mo[:,3]=tid+1/12*3\n",
    "time_mo[:,4]=tid+1/12*4\n",
    "time_mo[:,5]=tid+1/12*5\n",
    "time_mo[:,6]=tid+1/12*6\n",
    "time_mo[:,7]=tid+1/12*7\n",
    "time_mo[:,8]=tid+1/12*8\n",
    "time_mo[:,9]=tid+1/12*9\n",
    "time_mo[:,10]=tid+1/12*10\n",
    "time_mo[:,11]=tid+1/12*11"
   ]
  },
  {
   "cell_type": "code",
   "execution_count": 34,
   "metadata": {},
   "outputs": [
    {
     "data": {
      "text/plain": [
       "array([[1861.        , 1861.08333333, 1861.16666667, ..., 1861.75      ,\n",
       "        1861.83333333, 1861.91666667],\n",
       "       [1862.        , 1862.08333333, 1862.16666667, ..., 1862.75      ,\n",
       "        1862.83333333, 1862.91666667],\n",
       "       [1863.        , 1863.08333333, 1863.16666667, ..., 1863.75      ,\n",
       "        1863.83333333, 1863.91666667],\n",
       "       ...,\n",
       "       [2019.        , 2019.08333333, 2019.16666667, ..., 2019.75      ,\n",
       "        2019.83333333, 2019.91666667],\n",
       "       [2020.        , 2020.08333333, 2020.16666667, ..., 2020.75      ,\n",
       "        2020.83333333, 2020.91666667],\n",
       "       [2021.        , 2021.08333333, 2021.16666667, ..., 2021.75      ,\n",
       "        2021.83333333, 2021.91666667]])"
      ]
     },
     "execution_count": 34,
     "metadata": {},
     "output_type": "execute_result"
    }
   ],
   "source": [
    "time_mo"
   ]
  },
  {
   "cell_type": "markdown",
   "metadata": {},
   "source": [
    "#### Oppgave 6:\n",
    "Bruk np.reshape akkurat som for temperatur for å lage en lang vektor heller enn en matrise"
   ]
  },
  {
   "cell_type": "code",
   "execution_count": 35,
   "metadata": {},
   "outputs": [
    {
     "data": {
      "text/plain": [
       "array([[1861.        ],\n",
       "       [1861.08333333],\n",
       "       [1861.16666667],\n",
       "       ...,\n",
       "       [2021.75      ],\n",
       "       [2021.83333333],\n",
       "       [2021.91666667]])"
      ]
     },
     "execution_count": 35,
     "metadata": {},
     "output_type": "execute_result"
    }
   ],
   "source": [
    "time_mo="
   ]
  },
  {
   "cell_type": "markdown",
   "metadata": {},
   "source": [
    "#### Oppgave 7: \n",
    "Lag en figur som viser både den månedlige tidsserien og vinter og sommer sammen."
   ]
  },
  {
   "cell_type": "code",
   "execution_count": null,
   "metadata": {},
   "outputs": [],
   "source": []
  },
  {
   "cell_type": "markdown",
   "metadata": {},
   "source": [
    "Diskuter igjen forklaring på hvorfor det skjer så mye på midten av plottet, og kommenter på sommer- og vinter-gjennomsnittene i forhold til månedsgjennomsnittene."
   ]
  },
  {
   "cell_type": "markdown",
   "metadata": {},
   "source": [
    "#### Oppgave 8:\n",
    "Lag en tilsvarende figur som den over, men plot januar og juli istedet for sommer og vinter. Inkluder en legend i figuren.\n",
    "\n",
    "Diskuter forskjellene."
   ]
  },
  {
   "cell_type": "code",
   "execution_count": null,
   "metadata": {},
   "outputs": [],
   "source": []
  },
  {
   "cell_type": "code",
   "execution_count": null,
   "metadata": {},
   "outputs": [],
   "source": []
  }
 ],
 "metadata": {
  "kernelspec": {
   "display_name": "Python 3",
   "language": "python",
   "name": "python3"
  },
  "language_info": {
   "codemirror_mode": {
    "name": "ipython",
    "version": 3
   },
   "file_extension": ".py",
   "mimetype": "text/x-python",
   "name": "python",
   "nbconvert_exporter": "python",
   "pygments_lexer": "ipython3",
   "version": "3.8.5"
  }
 },
 "nbformat": 4,
 "nbformat_minor": 5
}

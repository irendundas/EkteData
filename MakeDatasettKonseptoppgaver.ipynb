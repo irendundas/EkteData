{
 "cells": [
  {
   "cell_type": "markdown",
   "metadata": {},
   "source": [
    "# Lag enkle datasett til konseptoppgavene\n",
    "Årlige gjennomsnitt basert på månedlige datasett"
   ]
  },
  {
   "cell_type": "code",
   "execution_count": 2,
   "metadata": {},
   "outputs": [],
   "source": [
    "import numpy as np \n",
    "import os\n",
    "import os.path\n",
    "import random\n",
    "\n",
    "\n",
    "outfile='TempBergenYearlyNonan.txt' # CHANGE\n",
    "fileid='C:/Users/vdu001/Documents/EkteData/'+outfile\n",
    "extranan=0 # CHANGE. If the dataset should have som extra nan-values, set extranan to 1. \n",
    "\n",
    "\n",
    "# Check whether the outfile file already exists before writing.\n",
    "if os.path.isfile(fileid):\n",
    "    print(\"File exist\")\n",
    "    \n",
    "else:\n",
    "    infile='TempBergen.txt' # CHANGE\n",
    "    header='Temperature' # CHANGE\n",
    "    path='https://raw.githubusercontent.com/irendundas/EkteData/main/'\n",
    "    \n",
    "    data = np.genfromtxt(path+infile, dtype=float)\n",
    "\n",
    "    data[data==-999.99]=np.nan\n",
    "    \n",
    "    L1=data[:,0]\n",
    "    L2=np.nanmean(data[:,1:],axis=1)\n",
    "    L=np.zeros((len(L1),2))\n",
    "    L[:,0]=L1\n",
    "    L[:,1]=L2\n",
    "    L[np.isnan(L)]=-999.99\n",
    "    \n",
    "    # Set some more values to nan, just to make the example more illustarative. \n",
    "    if extranan==1:\n",
    "        ind=random.sample(list(np.linspace(0,len(L),len(L)+1)),15)\n",
    "        ind=[int(num) for num in ind]\n",
    "        L[ind,1]=-999.99\n",
    "    \n",
    "    with open('C:/Users/vdu001/Documents/EkteData/'+outfile, 'w') as f:\n",
    "        # legg på en header\n",
    "        f.write('Year' + ',' + header + '\\n')\n",
    "        for i in range(len(L)):\n",
    "            f.write(str(L[i,0]) + ',' + str(L[i,1]) + '\\n')\n",
    "            \n",
    "            \n",
    "            \n",
    "\n"
   ]
  },
  {
   "cell_type": "code",
   "execution_count": null,
   "metadata": {},
   "outputs": [],
   "source": [
    "os.path.exists('https://raw.githubusercontent.com/irendundas/EkteData/main/PrecipVestlandYearly.txt')"
   ]
  },
  {
   "cell_type": "code",
   "execution_count": null,
   "metadata": {},
   "outputs": [],
   "source": [
    "os.path.exists('C:/Users/vdu001/Documents/EkteData/PrecipVestlandYearly.txt')"
   ]
  },
  {
   "cell_type": "code",
   "execution_count": null,
   "metadata": {},
   "outputs": [],
   "source": []
  }
 ],
 "metadata": {
  "kernelspec": {
   "display_name": "Python 3",
   "language": "python",
   "name": "python3"
  },
  "language_info": {
   "codemirror_mode": {
    "name": "ipython",
    "version": 3
   },
   "file_extension": ".py",
   "mimetype": "text/x-python",
   "name": "python",
   "nbconvert_exporter": "python",
   "pygments_lexer": "ipython3",
   "version": "3.8.5"
  }
 },
 "nbformat": 4,
 "nbformat_minor": 2
}

{
 "cells": [
  {
   "cell_type": "markdown",
   "metadata": {},
   "source": [
    "# Lag enkelt datasett til konseptoppgavene"
   ]
  },
  {
   "cell_type": "code",
   "execution_count": 1,
   "metadata": {},
   "outputs": [],
   "source": [
    "import numpy as np \n",
    "\n",
    "infile='PrecipVestlandMonthly.txt'\n",
    "outfile='PrecipVestlandYearly.txt'\n",
    "header='Precipitation'\n",
    "path='https://raw.githubusercontent.com/irendundas/EkteData/main/'\n",
    "data = np.genfromtxt(path+infile, dtype=float)\n",
    "\n",
    "extranan=1 # If the dataset should have som extra nan-values, set extranan to 1. \n",
    "data[data==-999.99]=np.nan"
   ]
  },
  {
   "cell_type": "code",
   "execution_count": 2,
   "metadata": {},
   "outputs": [],
   "source": [
    "L1=data[:,0]\n",
    "L2=np.mean(data[:,1:],axis=1)\n",
    "L=np.zeros((len(L1),2))\n",
    "L[:,0]=L1\n",
    "L[:,1]=L2\n",
    "L[np.isnan(L)]=-999.99"
   ]
  },
  {
   "cell_type": "markdown",
   "metadata": {},
   "source": [
    "#### Set some more values to nan, just to make the example more illustarative. "
   ]
  },
  {
   "cell_type": "code",
   "execution_count": 3,
   "metadata": {},
   "outputs": [],
   "source": [
    "if extranan==1:\n",
    "    import random\n",
    "    ind=random.sample(list(np.linspace(0,len(L),len(L)+1)),15)\n",
    "    ind=[int(num) for num in ind]\n",
    "    L[ind,1]=-999.99"
   ]
  },
  {
   "cell_type": "code",
   "execution_count": 4,
   "metadata": {},
   "outputs": [
    {
     "data": {
      "text/plain": [
       "array([[1899.        , -999.99      ],\n",
       "       [1900.        ,  131.85083333],\n",
       "       [1901.        , -999.99      ],\n",
       "       [1902.        ,  130.59833333],\n",
       "       [1903.        ,  158.87166667],\n",
       "       [1904.        ,  123.3425    ],\n",
       "       [1905.        ,  169.73583333],\n",
       "       [1906.        ,  162.235     ],\n",
       "       [1907.        ,  133.41916667],\n",
       "       [1908.        ,  139.94583333],\n",
       "       [1909.        ,  144.9425    ],\n",
       "       [1910.        , -999.99      ],\n",
       "       [1911.        ,  142.715     ],\n",
       "       [1912.        ,  125.1475    ],\n",
       "       [1913.        ,  141.995     ],\n",
       "       [1914.        ,  157.14916667],\n",
       "       [1915.        ,   94.88333333],\n",
       "       [1916.        ,  140.005     ],\n",
       "       [1917.        ,  156.24083333],\n",
       "       [1918.        ,  141.2825    ],\n",
       "       [1919.        ,  115.72833333],\n",
       "       [1920.        ,  156.05666667],\n",
       "       [1921.        ,  208.91416667],\n",
       "       [1922.        ,  140.53416667],\n",
       "       [1923.        ,  159.6625    ],\n",
       "       [1924.        ,  143.74166667],\n",
       "       [1925.        ,  165.09      ],\n",
       "       [1926.        ,  138.43333333],\n",
       "       [1927.        ,  124.92583333],\n",
       "       [1928.        ,  142.93333333],\n",
       "       [1929.        , -999.99      ],\n",
       "       [1930.        ,  127.73583333],\n",
       "       [1931.        ,  129.60333333],\n",
       "       [1932.        ,  148.23166667],\n",
       "       [1933.        ,  108.56583333],\n",
       "       [1934.        ,  170.41416667],\n",
       "       [1935.        ,  142.90333333],\n",
       "       [1936.        ,  133.45833333],\n",
       "       [1937.        ,  103.56166667],\n",
       "       [1938.        ,  200.80333333],\n",
       "       [1939.        ,  136.33583333],\n",
       "       [1940.        ,  127.64333333],\n",
       "       [1941.        ,  108.1275    ],\n",
       "       [1942.        , -999.99      ],\n",
       "       [1943.        ,  183.8075    ],\n",
       "       [1944.        ,  150.965     ],\n",
       "       [1945.        ,  139.02      ],\n",
       "       [1946.        ,  143.13083333],\n",
       "       [1947.        ,  123.2275    ],\n",
       "       [1948.        ,  160.6775    ],\n",
       "       [1949.        ,  189.3425    ],\n",
       "       [1950.        ,  154.77083333],\n",
       "       [1951.        ,  121.585     ],\n",
       "       [1952.        ,  137.65916667],\n",
       "       [1953.        , -999.99      ],\n",
       "       [1954.        ,  146.7025    ],\n",
       "       [1955.        ,  143.2025    ],\n",
       "       [1956.        , -999.99      ],\n",
       "       [1957.        ,  180.0525    ],\n",
       "       [1958.        ,  123.49916667],\n",
       "       [1959.        ,  114.83666667],\n",
       "       [1960.        ,  101.56666667],\n",
       "       [1961.        ,  155.2575    ],\n",
       "       [1962.        ,  145.51583333],\n",
       "       [1963.        ,  119.8675    ],\n",
       "       [1964.        , -999.99      ],\n",
       "       [1965.        ,  114.09083333],\n",
       "       [1966.        ,  133.33916667],\n",
       "       [1967.        ,  207.755     ],\n",
       "       [1968.        ,  123.40833333],\n",
       "       [1969.        ,  137.77666667],\n",
       "       [1970.        ,  131.53833333],\n",
       "       [1971.        ,  193.31666667],\n",
       "       [1972.        ,  127.01916667],\n",
       "       [1973.        ,  196.09333333],\n",
       "       [1974.        ,  144.59416667],\n",
       "       [1975.        ,  187.18583333],\n",
       "       [1976.        , -999.99      ],\n",
       "       [1977.        ,  121.47666667],\n",
       "       [1978.        , -999.99      ],\n",
       "       [1979.        ,  156.48      ],\n",
       "       [1980.        ,  144.26333333],\n",
       "       [1981.        ,  152.6225    ],\n",
       "       [1982.        ,  157.00416667],\n",
       "       [1983.        ,  219.97      ],\n",
       "       [1984.        ,  129.9675    ],\n",
       "       [1985.        ,  145.805     ],\n",
       "       [1986.        ,  169.55666667],\n",
       "       [1987.        ,  128.185     ],\n",
       "       [1988.        ,  157.30666667],\n",
       "       [1989.        ,  206.5875    ],\n",
       "       [1990.        ,  221.41833333],\n",
       "       [1991.        ,  159.67916667],\n",
       "       [1992.        ,  195.68083333],\n",
       "       [1993.        ,  145.41333333],\n",
       "       [1994.        ,  170.18      ],\n",
       "       [1995.        ,  167.76      ],\n",
       "       [1996.        , -999.99      ],\n",
       "       [1997.        , -999.99      ],\n",
       "       [1998.        ,  171.395     ],\n",
       "       [1999.        ,  178.24333333],\n",
       "       [2000.        , -999.99      ],\n",
       "       [2001.        ,  145.02083333],\n",
       "       [2002.        ,  128.16083333],\n",
       "       [2003.        ,  164.06333333],\n",
       "       [2004.        ,  175.63416667],\n",
       "       [2005.        ,  191.26166667],\n",
       "       [2006.        ,  152.05083333],\n",
       "       [2007.        ,  200.8475    ],\n",
       "       [2008.        ,  179.04333333],\n",
       "       [2009.        ,  149.3425    ],\n",
       "       [2010.        ,  112.48166667],\n",
       "       [2011.        , -999.99      ],\n",
       "       [2012.        ,  166.87916667],\n",
       "       [2013.        ,  160.97583333],\n",
       "       [2014.        , -999.99      ],\n",
       "       [2015.        ,  201.2175    ],\n",
       "       [2016.        ,  162.70333333],\n",
       "       [2017.        ,  200.51916667],\n",
       "       [2018.        ,  158.26916667],\n",
       "       [2019.        ,  158.9125    ],\n",
       "       [2020.        , -999.99      ]])"
      ]
     },
     "execution_count": 4,
     "metadata": {},
     "output_type": "execute_result"
    }
   ],
   "source": [
    "L"
   ]
  },
  {
   "cell_type": "code",
   "execution_count": 5,
   "metadata": {},
   "outputs": [
    {
     "ename": "FileNotFoundError",
     "evalue": "[Errno 2] No such file or directory: 'C:/Users/iren_/Documents/EkteData/Data/PrecipVestlandYearly.txt'",
     "output_type": "error",
     "traceback": [
      "\u001b[1;31m---------------------------------------------------------------------------\u001b[0m",
      "\u001b[1;31mFileNotFoundError\u001b[0m                         Traceback (most recent call last)",
      "\u001b[1;32m<ipython-input-5-e3eae857f1de>\u001b[0m in \u001b[0;36m<module>\u001b[1;34m\u001b[0m\n\u001b[1;32m----> 1\u001b[1;33m \u001b[1;32mwith\u001b[0m \u001b[0mopen\u001b[0m\u001b[1;33m(\u001b[0m\u001b[1;34m'C:/Users/iren_/Documents/EkteData/Data/'\u001b[0m\u001b[1;33m+\u001b[0m\u001b[0moutfile\u001b[0m\u001b[1;33m,\u001b[0m \u001b[1;34m'w'\u001b[0m\u001b[1;33m)\u001b[0m \u001b[1;32mas\u001b[0m \u001b[0mf\u001b[0m\u001b[1;33m:\u001b[0m\u001b[1;33m\u001b[0m\u001b[1;33m\u001b[0m\u001b[0m\n\u001b[0m\u001b[0;32m      2\u001b[0m     \u001b[1;31m# legg på en header\u001b[0m\u001b[1;33m\u001b[0m\u001b[1;33m\u001b[0m\u001b[1;33m\u001b[0m\u001b[0m\n\u001b[0;32m      3\u001b[0m     \u001b[0mf\u001b[0m\u001b[1;33m.\u001b[0m\u001b[0mwrite\u001b[0m\u001b[1;33m(\u001b[0m\u001b[1;34m'Year'\u001b[0m \u001b[1;33m+\u001b[0m \u001b[1;34m','\u001b[0m \u001b[1;33m+\u001b[0m \u001b[0mheader\u001b[0m \u001b[1;33m+\u001b[0m \u001b[1;34m'\\n'\u001b[0m\u001b[1;33m)\u001b[0m\u001b[1;33m\u001b[0m\u001b[1;33m\u001b[0m\u001b[0m\n\u001b[0;32m      4\u001b[0m     \u001b[1;32mfor\u001b[0m \u001b[0mi\u001b[0m \u001b[1;32min\u001b[0m \u001b[0mrange\u001b[0m\u001b[1;33m(\u001b[0m\u001b[0mlen\u001b[0m\u001b[1;33m(\u001b[0m\u001b[0mL\u001b[0m\u001b[1;33m)\u001b[0m\u001b[1;33m)\u001b[0m\u001b[1;33m:\u001b[0m\u001b[1;33m\u001b[0m\u001b[1;33m\u001b[0m\u001b[0m\n\u001b[0;32m      5\u001b[0m         \u001b[0mf\u001b[0m\u001b[1;33m.\u001b[0m\u001b[0mwrite\u001b[0m\u001b[1;33m(\u001b[0m\u001b[0mstr\u001b[0m\u001b[1;33m(\u001b[0m\u001b[0mL\u001b[0m\u001b[1;33m[\u001b[0m\u001b[0mi\u001b[0m\u001b[1;33m,\u001b[0m\u001b[1;36m0\u001b[0m\u001b[1;33m]\u001b[0m\u001b[1;33m)\u001b[0m \u001b[1;33m+\u001b[0m \u001b[1;34m','\u001b[0m \u001b[1;33m+\u001b[0m \u001b[0mstr\u001b[0m\u001b[1;33m(\u001b[0m\u001b[0mL\u001b[0m\u001b[1;33m[\u001b[0m\u001b[0mi\u001b[0m\u001b[1;33m,\u001b[0m\u001b[1;36m1\u001b[0m\u001b[1;33m]\u001b[0m\u001b[1;33m)\u001b[0m \u001b[1;33m+\u001b[0m \u001b[1;34m'\\n'\u001b[0m\u001b[1;33m)\u001b[0m\u001b[1;33m\u001b[0m\u001b[1;33m\u001b[0m\u001b[0m\n",
      "\u001b[1;31mFileNotFoundError\u001b[0m: [Errno 2] No such file or directory: 'C:/Users/iren_/Documents/EkteData/Data/PrecipVestlandYearly.txt'"
     ]
    }
   ],
   "source": [
    "import os\n",
    "import os.path\n",
    "fileid=path+outfile\n",
    "# Check whether the outfile file already exists before writing.\n",
    "if os.path.isfile(fileid):\n",
    "    print(\"File exist\")\n",
    "else:\n",
    "    with open('C:/Users/iren_/Documents/EkteData/Data/'+outfile, 'w') as f:\n",
    "        # legg på en header\n",
    "        f.write('Year' + ',' + header + '\\n')\n",
    "        for i in range(len(L)):\n",
    "            f.write(str(L[i,0]) + ',' + str(L[i,1]) + '\\n')"
   ]
  },
  {
   "cell_type": "code",
   "execution_count": null,
   "metadata": {},
   "outputs": [],
   "source": []
  }
 ],
 "metadata": {
  "kernelspec": {
   "display_name": "Python 3",
   "language": "python",
   "name": "python3"
  },
  "language_info": {
   "codemirror_mode": {
    "name": "ipython",
    "version": 3
   },
   "file_extension": ".py",
   "mimetype": "text/x-python",
   "name": "python",
   "nbconvert_exporter": "python",
   "pygments_lexer": "ipython3",
   "version": "3.8.5"
  }
 },
 "nbformat": 4,
 "nbformat_minor": 2
}

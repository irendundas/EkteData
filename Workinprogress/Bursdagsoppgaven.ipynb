{
 "cells": [
  {
   "cell_type": "markdown",
   "metadata": {},
   "source": [
    "### Bursdagsoppgaven\n",
    "\n",
    "Temperatur på bursdagen din som en tidsserie.\n",
    "Hvordan ser din tidsserie ut i forhold til årsgjennomsnittet?\n",
    "\n",
    "Hvordan er std til tidsserien din? iforhold til årsgjennomsnittet? \n",
    "Kan du gi en forklaring på dette utifra når på året du har bursdag? Føler du at det stemmer at std er stor/liten med din erfaring av været på bursdagen din? \n",
    "\n",
    "Gjennomsnitt av alle tidsserie\n",
    "Dette gjennomsnittet i forhold til årsgjennomsnittet?\n",
    "Er den f.eks. litt varmere? \n",
    "\n",
    "Hvordan er fordelingen av bursdager i klassen? \n",
    "Når har de fleste bursdag?\n",
    "Kan dette forklare hvordan klassegjennomsnittet er i forhold til årsgjennomsnittet?\n",
    "\n"
   ]
  },
  {
   "cell_type": "code",
   "execution_count": null,
   "metadata": {},
   "outputs": [],
   "source": []
  }
 ],
 "metadata": {
  "kernelspec": {
   "display_name": "Python 3",
   "language": "python",
   "name": "python3"
  },
  "language_info": {
   "codemirror_mode": {
    "name": "ipython",
    "version": 3
   },
   "file_extension": ".py",
   "mimetype": "text/x-python",
   "name": "python",
   "nbconvert_exporter": "python",
   "pygments_lexer": "ipython3",
   "version": "3.8.5"
  }
 },
 "nbformat": 4,
 "nbformat_minor": 4
}

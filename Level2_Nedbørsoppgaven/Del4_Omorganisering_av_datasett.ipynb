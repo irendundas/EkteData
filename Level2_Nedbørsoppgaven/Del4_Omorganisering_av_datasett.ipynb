{
 "cells": [
  {
   "cell_type": "markdown",
   "id": "63f3db87",
   "metadata": {},
   "source": [
    "# Del 4: Omorganisering av datasett\n",
    "\n",
    "*Nedbørsoppgavene Del 1 til 5 er laget som støtte-oppgaver til oppgaven \"Nedbør i Norge\". Oppgaven \"Nedbør i Norge\" er en lengre oppgave som kommer innom mange forskjellige programerings-elementer. Intensjonen er at hvis man først gjør deloppgavene 1 til 5 og så går gjennom det nokså omfattende eksempelet på starten av oppgaven \"Nedbør i Norge\" så vil det programeringstekniske i oppgaven \"Nedbør i Norge\" være repetisjon, slik at man kan fokusere på den naturvitenskaplige tolkningen av dataene. På denne måten får man både trening i programmering og erfaring med hvordan det kan brukes til å studere og forstå naturvitenskaplige prosesser.*\n",
    "\n",
    "-------------"
   ]
  },
  {
   "cell_type": "markdown",
   "id": "dbb44d09",
   "metadata": {},
   "source": [
    "I [Del 1: indeksering](https://github.com/irendundas/EkteData/blob/main/Level2_Nedb%C3%B8rsoppgaven/Del1_Indeksering.ipynb) og [Del 3: plotting av tidsserier](https://github.com/irendundas/EkteData/blob/main/Level2_Nedb%C3%B8rsoppgaven/Del3_Plotting_av_tidsserier.ipynb) av dette oppgavesettet har vi gått gjennom \n",
    "- indeksering og hvordan man kan dele inn en tidsserie ved help av indeksering, \n",
    "- hvordan man plotter tidsserier ved hjelp av pakken `matplotlib`. \n",
    "\n",
    "Nå skal vi bruke dette til å se på hvordan man kan velge ut spesifikke indekser fra et større datasett og sette dette sammen til et nytt datasett. Ved hjelp av [Del 3: plotting av tidsserier](https://github.com/irendundas/EkteData/blob/main/Level2_Nedb%C3%B8rsoppgaven/Del3_Plotting_av_tidsserier.ipynb) kan vi fremstille resultatet på en oversiktlig måte. \n",
    "\n",
    "#### Last inn pakkene som tengs"
   ]
  },
  {
   "cell_type": "code",
   "execution_count": null,
   "id": "af806cbb",
   "metadata": {},
   "outputs": [],
   "source": [
    "import numpy as np # for regneoperasjoner\n",
    "import matplotlib.pyplot as plt # for figurer\n",
    "\n",
    "import sys\n",
    "# Bytt ut stien under slik at den peker på hvor på din PC du har \n",
    "# lagret mappen \"Funksjoner\".\n",
    "#sys.path.append(r\"W:\\Work\\Documents\\EkteData\\EkteData\\Funksjoner\")\n",
    "sys.path.append(r\"C:\\Users\\iren_\\Documents\\EkteData\\Funksjoner\")\n",
    "from EkteDataFunk import loadData # for filinnlasting"
   ]
  },
  {
   "cell_type": "markdown",
   "id": "80f0767d",
   "metadata": {},
   "source": [
    "#### 1. Last inn et datasett\n",
    "For denne delen bruker vi et større datasett enn i Del 1 til 3 slik at vi har litt mer å ta utgangspunkt i. Dette datasettet har like mange rader, men 13 kolonner: en for tid, og tolv for hver av månedene.  "
   ]
  },
  {
   "cell_type": "code",
   "execution_count": null,
   "id": "7825e292",
   "metadata": {},
   "outputs": [],
   "source": [
    "file='TempBergen.txt'\n",
    "temp, tid = loadData(file)"
   ]
  },
  {
   "cell_type": "code",
   "execution_count": null,
   "id": "14da2f62",
   "metadata": {},
   "outputs": [],
   "source": [
    "print(tid)\n",
    "print(temp)\n",
    "print('temp shape=',temp.shape)"
   ]
  },
  {
   "cell_type": "markdown",
   "id": "0ab89688",
   "metadata": {},
   "source": [
    "Matrisen `temp` er for stor til at alle dataverdiene vises: `temp` har 161 rader og 12 kolonner. Derfor står det  `...` for å vise at ikke hele datasettet vises. \n",
    "\n",
    "Datasettene vi har sett på frem til nå ha hatt to kolonner: en for år og en for gjennomsnittstemperatur det året. Nå har vi 12 kolonner i `temp`, altså en kolonne for hver måned. \n",
    "\n",
    "#### 2. Del datasettet inn i sesonger\n",
    "Siden vi nå har temperaturverdier for alle månedene, og ikke bare års-gjennomsnitt, kan vi sammenligne månedene mot hverandre, for eksempel januar-temperatur sammenlignet med juli-temperatur:"
   ]
  },
  {
   "cell_type": "code",
   "execution_count": null,
   "id": "06d6272d",
   "metadata": {},
   "outputs": [],
   "source": [
    "ax=plt.axes()\n",
    "\n",
    "# Plot tidsserien for januar\n",
    "ax.plot(tid, temp[:,0], label='Januar')\n",
    "\n",
    "# Plot tidsserien for juli\n",
    "ax.plot(tid, temp[:,6], label='Juli')\n",
    "\n",
    "ax.set(\n",
    "    title='Temperatur 1860-2020',\n",
    "    xlabel='År',\n",
    "    ylabel='Temperatur [\\u2103]',\n",
    "    xlim=(tid[0], tid[-1]), \n",
    ") \n",
    "ax.grid() \n",
    "ax.legend()\n",
    "plt.show() "
   ]
  },
  {
   "cell_type": "markdown",
   "id": "7bc3bd11",
   "metadata": {},
   "source": [
    "Det er tydlig at temperaturen er veldig forskjellig i januar og i juli i Bergen. Hvis vi plotter gjennomsnittet for hver år sammen med januar og juli-kurvene ser vi at månedlig oppløsning tilfører mye informasjon:"
   ]
  },
  {
   "cell_type": "code",
   "execution_count": null,
   "id": "c7692e14",
   "metadata": {},
   "outputs": [],
   "source": [
    "ax=plt.axes()\n",
    "\n",
    "# Plot tidsserien for januar\n",
    "ax.plot(tid, temp[:,0], label='Januar')\n",
    "\n",
    "# Plot tidsserien for juli\n",
    "ax.plot(tid, temp[:,6], label='Juli')\n",
    "\n",
    "# Plot tidsserien for gjennomsnittlig års-temperatur\n",
    "ax.plot(tid, np.mean(temp, axis=1), label='Gjennomsnitt')\n",
    "\n",
    "ax.set(\n",
    "    title='Temperatur 1860-2020',\n",
    "    xlabel='År',\n",
    "    ylabel='Temperatur [\\u2103]',\n",
    "    xlim=(tid[0], tid[-1]), \n",
    ") \n",
    "ax.grid() \n",
    "ax.legend(ncol=3)\n",
    "plt.show() "
   ]
  },
  {
   "cell_type": "markdown",
   "id": "e0adab06",
   "metadata": {},
   "source": [
    "Vi kan også se på sesongene i forhold til hverandre. Det er lettere å sammenligne fire tidsserier enn 12 tidsserier, og det er ikke sikkert man alltid trenger alle detaljene fra hver måned selv om årsoppløsningen er for lav. Dette gjøre vi i denne oppgaven: vi setter månedene sammen til sesonger, og ser på endringen i sesongene over tid. "
   ]
  },
  {
   "cell_type": "code",
   "execution_count": null,
   "id": "9674d301",
   "metadata": {},
   "outputs": [],
   "source": [
    "# Vår: alle rader utenom den siste (den er kun NaN) og kolonnene 2 til og \n",
    "# ikke med 5, altså mars, april og mai\n",
    "vår=temp[:-1,2:5] \n",
    "\n",
    "# Sommer: alle rader utenom den siste (kun NaN) og kolonnene for juni, juli \n",
    "# og august\n",
    "sommer=temp[:-1,5:8]\n",
    "\n",
    "# Høst: alle rader utenom den siste (kun NaN) og kolonnenen for september, \n",
    "# oktober og november\n",
    "høst=temp[:-1,8:11]"
   ]
  },
  {
   "cell_type": "code",
   "execution_count": null,
   "id": "4810004f",
   "metadata": {},
   "outputs": [],
   "source": [
    "vår.shape, sommer.shape, høst.shape"
   ]
  },
  {
   "cell_type": "markdown",
   "id": "3408a5a4",
   "metadata": {},
   "source": [
    "#### 3. Spesialbehandling for vinter\n",
    "Vinter er litt tricky: januar og februar, og desember samme år hører ikke til samme vinter. Vi deler derfor vinter inn i `Des` (desember) og `JanFeb`  (januar og februar), og setter dem sammen igjen til en matrise etterpå. Vinter 1862 er den første vinter-verdien vi har, og består av desember 1861 og januar og februar 1862. Vinter 2021 er den siste vinteren (desember 2020 og januar og februar 2021). Vi har altså like mange vinter-verdiene som vår, sommer og høst-verdier, men vinter-verdiene er forskjøvet med ett år. Ta en titt på hvordan datasettet ser ut [her](https://github.com/irendundas/EkteData/blob/main/data/TempBergen.txt), så blir det tydeligere hvorfor vinterverdiene er forskjøvet."
   ]
  },
  {
   "cell_type": "code",
   "execution_count": null,
   "id": "edaaa092",
   "metadata": {},
   "outputs": [],
   "source": [
    "Des=temp[:-1,11] \n",
    "# Vi må bruke :-1 fordi vi vil ha 1861 til og med 2020: vi vil ikke ha med den \n",
    "# aller siste desember-verdien\n",
    "\n",
    "JanFeb=temp[1:,0:2] # Jan og Feb fra og med 1862, kolonne 1 og 2. "
   ]
  },
  {
   "cell_type": "code",
   "execution_count": null,
   "id": "45b7cacc",
   "metadata": {},
   "outputs": [],
   "source": [
    "Des.shape, JanFeb.shape"
   ]
  },
  {
   "cell_type": "markdown",
   "id": "ee09bf05",
   "metadata": {},
   "source": [
    "Nå er \"JanFeb\" alle januar og februar-månedene fra 1862 til og med 2021, mens \"Des\" er desember fra 1861 til og med 2020. Vi lar Januar og Februar \"bestemme\" hvilket år vinteren hører til, så vi har altså vinter-data fra 1862-2021. \n",
    "\n",
    "Vi vil sette disse to arrayene sammen til ett array slik at det får likt oppsett som de andre sesongene. Det finnes mange måter å gjøre dette på, og vi går gjennom to metoder her\n",
    "\n",
    "**Metode 1:**\n",
    "Lag et tomt array med rette dimensjoner og plugg arrayene du vil sette sammen inn i det tomme arrayet. Dette forutsetter at du vet de endelige dimensjonene på forhånd. "
   ]
  },
  {
   "cell_type": "code",
   "execution_count": null,
   "id": "e00711bf",
   "metadata": {},
   "outputs": [],
   "source": [
    "# Lag et array med dimensjoner 160 x 3 (160 år, 3 måneder) som er fylt med 0\n",
    "vinter=np.zeros((160,3)) \n",
    "\n",
    "# Putt desember-vektoren til den første kolonnen i \"vinter\"\n",
    "vinter[:,0]=Des\n",
    "\n",
    "# Putt januar/februar-vektoren til andre og tredje kolonne i \"vinter\"\n",
    "vinter[:,1:]=JanFeb\n",
    "\n",
    "# Skriv ut vinter for å se at det ser rett ut\n",
    "vinter"
   ]
  },
  {
   "cell_type": "markdown",
   "id": "03dcbe51",
   "metadata": {},
   "source": [
    "**Metode 2:**\n",
    "Bruk en ny funksjon: `np.concatenate`. Denne funksjonen tar et sett med matriser eller vektorer og setter dem sammen langs den aksen du spesifiserer. Vektorene/matrisene må være like lange langs en av aksene, i dette tilfellet tidsaksen. Matrisen kan bygges på i den retningen som har ulik dimensjon. \n",
    "\n",
    "Se for deg at du skal stable tallerkner. Alle tallerknene må ha lik diameter. Dette er den dimensjonen som må være lik for å stable. Men du kan ha en tallerken og stable oppå tre nye samtidig. Dette er den dimensjonen som ikke trenger å være lik. I vårt tilfelle er tidsaksen lik, mens antall måneder kan være ulik. `axis=1` betyr at vi stabler måneder. "
   ]
  },
  {
   "cell_type": "code",
   "execution_count": null,
   "id": "869331d6",
   "metadata": {},
   "outputs": [],
   "source": [
    "vinter=np.concatenate((Des, JanFeb), axis=1)"
   ]
  },
  {
   "cell_type": "markdown",
   "id": "26eace2f",
   "metadata": {},
   "source": [
    "Her får vi en **feilmelding**. Se på `ValueError:` *axis 1 is out of bounds for array of dimension 1*. Probelmet er altså noe med dimensjonene. Se tilbake på `Des.shape` og `JanFeb.shape` som var `(160,)` og `(160, 2)`. Vi prøver altså å bygge på langs `axis=1`, men `Des` har kun en dimensjon. "
   ]
  },
  {
   "cell_type": "markdown",
   "id": "1db8ee58",
   "metadata": {},
   "source": [
    "For at dimensjonene skal stemme må vi legge til en dimensjon for \"Des\". Dette kan vi gjøre med funksjonen `np.newaxis`. `Des[:,np.newaxis].shape = (160,1)`, altså to dimensjoner, så da fungerer np.concatenate. \n",
    "\n",
    "Vi prøver på nytt: "
   ]
  },
  {
   "cell_type": "code",
   "execution_count": null,
   "id": "eb692a4d",
   "metadata": {},
   "outputs": [],
   "source": [
    "vinter=np.concatenate((Des[:,np.newaxis], JanFeb), axis=1)\n",
    "vinter"
   ]
  },
  {
   "cell_type": "markdown",
   "id": "cb833285",
   "metadata": {},
   "source": [
    "#### Oppgave 1: \n",
    "Prøv å lage `vinter`-vektoren ved å sette sammen Des og JanFeb i motsatt rekkefølge, altså `vinter=np.concatenate((JanFeb, Des), axis=1)`. Da får du en ny litt annerledes feilmelding. Prøv å finne ut av hvilken informasjon meldingen gir deg, og finn en løsning til probelemet. "
   ]
  },
  {
   "cell_type": "code",
   "execution_count": null,
   "id": "89e2bffb",
   "metadata": {},
   "outputs": [],
   "source": [
    "vinter=np.concatenate((JanFeb, Des), axis=1)"
   ]
  },
  {
   "cell_type": "markdown",
   "id": "d78f1a9f",
   "metadata": {},
   "source": [
    "#### Oppgave 2:\n",
    "Alternativt kunne man definert `Des=temp[:-1,11:]`. Da får `Des` automatisk dimensjonene `(160,1)`. `\"11:\"` gjør at `Des` kommer på tabell-format (array) slik som `JanFeb` og ikke en liste. Lag `winter`-vektoren på denne måten. "
   ]
  },
  {
   "cell_type": "code",
   "execution_count": null,
   "id": "7ea218bf",
   "metadata": {},
   "outputs": [],
   "source": [
    "Des=temp[:-1,11:]\n",
    "vinter=np.concatenate((JanFeb, Des), axis=1)"
   ]
  },
  {
   "cell_type": "markdown",
   "id": "0379f42a",
   "metadata": {},
   "source": [
    "#### Oppgave 3: Gjennomsnitt av hver sesong \n",
    "Finn gjennomsnittet av hver årstid. Siden det finnes `NaN`-verdier i datasettet må vi bruke `np.nanmean()`."
   ]
  },
  {
   "cell_type": "code",
   "execution_count": null,
   "id": "34af0cb7",
   "metadata": {},
   "outputs": [],
   "source": [
    "vinter=\n",
    "vår=\n",
    "sommer=\n",
    "høst="
   ]
  },
  {
   "cell_type": "markdown",
   "id": "688dfc16",
   "metadata": {},
   "source": [
    "#### Oppgave 4: Lag en figur\n",
    "Vi kan nå plotte alle sesongene i samme figur, se tilbake til [Del 3: plotting av tidsserier](https://github.com/irendundas/EkteData/blob/main/Level2_Nedb%C3%B8rsoppgaven/Del3_Plotting_av_tidsserier.ipynb) for tips. Husk legend og tekst på aksene. \n",
    "\n",
    "For denne figuren må du også passe på at du plotter de ulike årstidene for riktige år. Hvilket år begynner vinter på? Hvilken år begynner vår, sommer og høst på?\n"
   ]
  },
  {
   "cell_type": "code",
   "execution_count": null,
   "id": "54af6fee",
   "metadata": {},
   "outputs": [],
   "source": []
  },
  {
   "cell_type": "markdown",
   "id": "d8c7a398",
   "metadata": {},
   "source": [
    "#### 4. Månedlig oppløsning med `np.reshape`\n",
    "Det kan også være nyttig å plotte hele tidsserien med månedlig oppløsning. Da må radene med måneder settes etter hverandre til en lang tidsserie. \n",
    "\n",
    "En enkel måte å gjøre dette på er med `np.reshape()`. Denne funksjonen bevarer alle verdiene men endrer dimensjonene. `temp` har nå dimensjoner (161, 12). Med `np.reshape()` kan man gi `temp` dimensjonene (161x12, 1) istedet."
   ]
  },
  {
   "cell_type": "code",
   "execution_count": null,
   "id": "d4f456a5",
   "metadata": {},
   "outputs": [],
   "source": [
    "temp_mo=np.reshape(temp, (161*12, 1))\n",
    "\n",
    "plt.figure(figsize=(10, 4)) # Lag akser å plotte i\n",
    "ax=plt.axes()\n",
    "\n",
    "# Plot tidsserien\n",
    "ax.plot(temp_mo)\n",
    "\n",
    "ax.set(\n",
    "    title='Temperatur 1860-2020',\n",
    "    ylabel='Temperatur [\\u2103]',  \n",
    "    xlim=(0, len(temp_mo)) # sett grense for x-aksen\n",
    ")  \n",
    "\n",
    "plt.show()"
   ]
  },
  {
   "cell_type": "markdown",
   "id": "ddf6b834",
   "metadata": {},
   "source": [
    "#### Oppgave 5:\n",
    "Dette ble veldig rotete. Gi en forklaring på hvorfor, utover at det er mange flere datapunkt. \n",
    "\n",
    "#### 5. Månedlig oppløsning og årlig oppløsning i samme figur\n",
    "Det skjer mye på midten av plottet, mens toppen og bunnen virker mer organisert. Vi vil plotte tidsserien sammen med sommer- og vinter-gjennomsnittene for å se om det finnes en sammenheng. "
   ]
  },
  {
   "cell_type": "markdown",
   "id": "7b3c6cc3",
   "metadata": {},
   "source": [
    "**Lag en tidsvektor manuelt.**\n",
    "Vi har imidlertid ingen tidvektor for den månedlige tidsserien. Den må vi lage selv. Det finnes funksjoner for slikt i Python, men siden vi opererer med måneder og ikke trenger å ta stilling til skuddår og slikt gjør vi det manuelt. Vi tar utgangspunkt i tidsvektoren over år. Hver måned skal være `1/12` år lengre enn forrige måned. \n",
    "\n",
    "Vi bruker denne fremgangsmåten:\n",
    "\n",
    "- Lag en matrise med kun nuller, som vi gjorde da vi satte sammen vinter-månedene i Metode 1, men denne gangen med størrelse `temp.shape=(161,12)`."
   ]
  },
  {
   "cell_type": "code",
   "execution_count": null,
   "id": "8e65e3f1",
   "metadata": {},
   "outputs": [],
   "source": [
    "time_mo=np.zeros(temp.shape) # 161 år, 12 måneder"
   ]
  },
  {
   "cell_type": "markdown",
   "id": "f05fafad",
   "metadata": {},
   "source": [
    "- Januar er året uten noen desimaler, altså det samme som tidsserien over år: `tid + 1/12*0`. Sett derfor kolonne `0` til `tid`."
   ]
  },
  {
   "cell_type": "code",
   "execution_count": null,
   "id": "32d77b95",
   "metadata": {},
   "outputs": [],
   "source": [
    "time_mo[:,0]=tid"
   ]
  },
  {
   "cell_type": "markdown",
   "id": "ad27f13a",
   "metadata": {},
   "source": [
    "- Februar skal være `tid + 1/12*1`, mars er `tid + 1/12*2` etc"
   ]
  },
  {
   "cell_type": "code",
   "execution_count": null,
   "id": "27c66b32",
   "metadata": {},
   "outputs": [],
   "source": [
    "# Dette kunne man gjort mye mer elegant med hjelp av en for-løkke, det kommer \n",
    "# vi til i neste del, Del 5. \n",
    "\n",
    "time_mo[:,1]=tid+1/12*1\n",
    "time_mo[:,2]=tid+1/12*2\n",
    "time_mo[:,3]=tid+1/12*3\n",
    "time_mo[:,4]=tid+1/12*4\n",
    "time_mo[:,5]=tid+1/12*5\n",
    "time_mo[:,6]=tid+1/12*6\n",
    "time_mo[:,7]=tid+1/12*7\n",
    "time_mo[:,8]=tid+1/12*8\n",
    "time_mo[:,9]=tid+1/12*9\n",
    "time_mo[:,10]=tid+1/12*10\n",
    "time_mo[:,11]=tid+1/12*11"
   ]
  },
  {
   "cell_type": "code",
   "execution_count": null,
   "id": "0388c053",
   "metadata": {},
   "outputs": [],
   "source": [
    "time_mo"
   ]
  },
  {
   "cell_type": "markdown",
   "id": "dec7f7cd",
   "metadata": {},
   "source": [
    "#### Oppgave 6:\n",
    "Bruk np.reshape akkurat som for temperatur for å lage en lang vektor heller enn en matrise"
   ]
  },
  {
   "cell_type": "code",
   "execution_count": null,
   "id": "038cc137",
   "metadata": {},
   "outputs": [],
   "source": [
    "time_mo="
   ]
  },
  {
   "cell_type": "markdown",
   "id": "0b07d467",
   "metadata": {},
   "source": [
    "#### Oppgave 7: \n",
    "Lag en figur som viser både den månedlige tidsserien, vinter og sommer sammen."
   ]
  },
  {
   "cell_type": "code",
   "execution_count": null,
   "id": "a65db34d",
   "metadata": {},
   "outputs": [],
   "source": []
  },
  {
   "cell_type": "markdown",
   "id": "18a3e395",
   "metadata": {},
   "source": [
    "Diskuter igjen forklaring på hvorfor det skjer så mye på midten av plottet, og kommenter på sommer- og vinter-gjennomsnittene i forhold til månedsgjennomsnittene."
   ]
  },
  {
   "cell_type": "markdown",
   "id": "f68aa9be",
   "metadata": {},
   "source": [
    "#### Oppgave 8:\n",
    "Lag en tilsvarende figur som den over, men plot januar og juli istedet for sommer og vinter. Inkluder en legend i figuren.\n",
    "\n",
    "Diskuter forskjellene."
   ]
  },
  {
   "cell_type": "code",
   "execution_count": null,
   "id": "06ac5920",
   "metadata": {},
   "outputs": [],
   "source": []
  },
  {
   "cell_type": "code",
   "execution_count": null,
   "id": "14b6f5b1",
   "metadata": {},
   "outputs": [],
   "source": []
  }
 ],
 "metadata": {
  "kernelspec": {
   "display_name": "Python 3",
   "language": "python",
   "name": "python3"
  },
  "language_info": {
   "codemirror_mode": {
    "name": "ipython",
    "version": 3
   },
   "file_extension": ".py",
   "mimetype": "text/x-python",
   "name": "python",
   "nbconvert_exporter": "python",
   "pygments_lexer": "ipython3",
   "version": "3.8.8"
  }
 },
 "nbformat": 4,
 "nbformat_minor": 5
}

{
 "cells": [
  {
   "cell_type": "markdown",
   "metadata": {},
   "source": [
    "## Sammenlign selvsamlede data med data fra seklima.no\n",
    "\n",
    "I denne oppgaven skal vi\n",
    "\n",
    "1) laste ned et datasett fra [seklima](seklima.met.no)\n",
    "\n",
    "2) inspisere datasettet\n",
    "\n",
    "3) lese datasettet inn i Python med pandas\n",
    "\n",
    "4) konvertere til numpy\n",
    "\n",
    "5) lage en figur\n",
    "\n",
    "6) lese inn test-datasettet til Ragnhild\n",
    "\n",
    "7) lage en figur med både data fra seklima.no og temperaturmålingene."
   ]
  },
  {
   "cell_type": "markdown",
   "metadata": {},
   "source": [
    "#### 1) Last ned datasettet\n",
    "\n",
    "For det datasettet jeg har brukt i denne oppgaven har jeg valgt:\n",
    "- start: 4 Jan 22\n",
    "- slutt: 6 Jan 22\n",
    "- timesoppløsning\n",
    "- lufttemperatur\n",
    "- Bergen - Florida\n",
    "\n",
    "Når man har valgt de variablene (du kan velge flere samtidig) og den tidsperioden/stedet du vil ha:\n",
    "- vis resulatat - sjekk at det er rett periode\n",
    "- Last ned csv.\n",
    "\n",
    "- kopier table.csv til en fornuftig mappe slik at du finner den igjen\n",
    "- lag nytt og forståelig navn til filen."
   ]
  },
  {
   "cell_type": "markdown",
   "metadata": {},
   "source": [
    "#### 2) Inspiser datasettet\n",
    "Åpne filen i notepad (eller lignende) for å sjekke informasjonen og format, er det header (en linje øverst med besrkivende tekst), etc.\n",
    "\n",
    "#### 3) Last inn datasettet \n",
    "Vi bruker pakken/biblioteket `Pandas` for dette. Dette er et bibliotek på linje med `Numpy` som vi er godt vandt med. `Pandas` har en veldig grei funksjon for å laste inn csv-filer. \n",
    "\n",
    "- sep=';' beskriver hva som deler kolonnene i filen. Hvis du åpner filen i f.eks. notepad ser du at dette er semikolon i vårt tilfelle, men det er ofte tab, komma (default), eller kolon.\n",
    "- decimal=',' må være med fordi verdiene i denne csv-filen er lagret med komma som desimaltegn istedet for punktum. For at verdien skal tolkes som ett tall og ikke to må komma endres til punktum.\n",
    "- parse_dates=['Tid(norsk normaltid)'] konverterer innholdet i denne kolonnen til dato-format.\n",
    "- dayfirst=True sørger for at datoen tolkes riktig. Uten denne tolkes det første tallet i datoen som måned.\n",
    "\n",
    "Det finnes mange slike spesifiseringer som dette (se dokumentasjonen til funskjonen pd.read_csv [her](https://pandas.pydata.org/docs/reference/api/pandas.read_csv.html)). De spesifiseringene vi bruker i denne oppgaven fungere i vårt tilfelle, men det betyr ikke at det vil fungere i alle andre tilfeller. Helt sist i oppgaven laster vi inn et temperaturdatasett som Ragnhild har samlet inn, og der er spesifiseringene litt annerledes. Men oppsettet er likt. \n",
    "\n"
   ]
  },
  {
   "cell_type": "code",
   "execution_count": 8,
   "metadata": {},
   "outputs": [],
   "source": [
    "import numpy as np\n",
    "import matplotlib.pyplot as plt\n",
    "import pandas as pd"
   ]
  },
  {
   "cell_type": "code",
   "execution_count": 9,
   "metadata": {},
   "outputs": [],
   "source": [
    "sti='O:/Work/Documents/EkteData/MyProg'\n",
    "fil='/timesnedbør_Bergen_Januar.csv'"
   ]
  },
  {
   "cell_type": "code",
   "execution_count": 10,
   "metadata": {},
   "outputs": [],
   "source": [
    "df = pd.read_csv(\n",
    "    sti+fil, \n",
    "    sep=';',\n",
    "    decimal=',',\n",
    "    parse_dates=['Tid(norsk normaltid)'],\n",
    "    dayfirst=True\n",
    ")"
   ]
  },
  {
   "cell_type": "code",
   "execution_count": 11,
   "metadata": {},
   "outputs": [
    {
     "data": {
      "text/html": [
       "<div>\n",
       "<style scoped>\n",
       "    .dataframe tbody tr th:only-of-type {\n",
       "        vertical-align: middle;\n",
       "    }\n",
       "\n",
       "    .dataframe tbody tr th {\n",
       "        vertical-align: top;\n",
       "    }\n",
       "\n",
       "    .dataframe thead th {\n",
       "        text-align: right;\n",
       "    }\n",
       "</style>\n",
       "<table border=\"1\" class=\"dataframe\">\n",
       "  <thead>\n",
       "    <tr style=\"text-align: right;\">\n",
       "      <th></th>\n",
       "      <th>Navn</th>\n",
       "      <th>Stasjon</th>\n",
       "      <th>Tid(norsk normaltid)</th>\n",
       "      <th>Lufttemperatur</th>\n",
       "    </tr>\n",
       "  </thead>\n",
       "  <tbody>\n",
       "    <tr>\n",
       "      <th>0</th>\n",
       "      <td>Bergen - Florida</td>\n",
       "      <td>SN50540</td>\n",
       "      <td>2022-01-04 01:00:00</td>\n",
       "      <td>2.5</td>\n",
       "    </tr>\n",
       "    <tr>\n",
       "      <th>1</th>\n",
       "      <td>Bergen - Florida</td>\n",
       "      <td>SN50540</td>\n",
       "      <td>2022-01-04 02:00:00</td>\n",
       "      <td>2.9</td>\n",
       "    </tr>\n",
       "    <tr>\n",
       "      <th>2</th>\n",
       "      <td>Bergen - Florida</td>\n",
       "      <td>SN50540</td>\n",
       "      <td>2022-01-04 03:00:00</td>\n",
       "      <td>3.6</td>\n",
       "    </tr>\n",
       "    <tr>\n",
       "      <th>3</th>\n",
       "      <td>Bergen - Florida</td>\n",
       "      <td>SN50540</td>\n",
       "      <td>2022-01-04 04:00:00</td>\n",
       "      <td>3.2</td>\n",
       "    </tr>\n",
       "    <tr>\n",
       "      <th>4</th>\n",
       "      <td>Bergen - Florida</td>\n",
       "      <td>SN50540</td>\n",
       "      <td>2022-01-04 05:00:00</td>\n",
       "      <td>3.3</td>\n",
       "    </tr>\n",
       "    <tr>\n",
       "      <th>...</th>\n",
       "      <td>...</td>\n",
       "      <td>...</td>\n",
       "      <td>...</td>\n",
       "      <td>...</td>\n",
       "    </tr>\n",
       "    <tr>\n",
       "      <th>68</th>\n",
       "      <td>Bergen - Florida</td>\n",
       "      <td>SN50540</td>\n",
       "      <td>2022-01-06 21:00:00</td>\n",
       "      <td>3.1</td>\n",
       "    </tr>\n",
       "    <tr>\n",
       "      <th>69</th>\n",
       "      <td>Bergen - Florida</td>\n",
       "      <td>SN50540</td>\n",
       "      <td>2022-01-06 22:00:00</td>\n",
       "      <td>3.5</td>\n",
       "    </tr>\n",
       "    <tr>\n",
       "      <th>70</th>\n",
       "      <td>Bergen - Florida</td>\n",
       "      <td>SN50540</td>\n",
       "      <td>2022-01-06 23:00:00</td>\n",
       "      <td>3.1</td>\n",
       "    </tr>\n",
       "    <tr>\n",
       "      <th>71</th>\n",
       "      <td>Bergen - Florida</td>\n",
       "      <td>SN50540</td>\n",
       "      <td>2022-01-07 00:00:00</td>\n",
       "      <td>2.4</td>\n",
       "    </tr>\n",
       "    <tr>\n",
       "      <th>72</th>\n",
       "      <td>Data er gyldig per 22.02.2022 (CC BY 4.0), Met...</td>\n",
       "      <td>NaN</td>\n",
       "      <td>NaT</td>\n",
       "      <td>NaN</td>\n",
       "    </tr>\n",
       "  </tbody>\n",
       "</table>\n",
       "<p>73 rows × 4 columns</p>\n",
       "</div>"
      ],
      "text/plain": [
       "                                                 Navn  Stasjon  \\\n",
       "0                                    Bergen - Florida  SN50540   \n",
       "1                                    Bergen - Florida  SN50540   \n",
       "2                                    Bergen - Florida  SN50540   \n",
       "3                                    Bergen - Florida  SN50540   \n",
       "4                                    Bergen - Florida  SN50540   \n",
       "..                                                ...      ...   \n",
       "68                                   Bergen - Florida  SN50540   \n",
       "69                                   Bergen - Florida  SN50540   \n",
       "70                                   Bergen - Florida  SN50540   \n",
       "71                                   Bergen - Florida  SN50540   \n",
       "72  Data er gyldig per 22.02.2022 (CC BY 4.0), Met...      NaN   \n",
       "\n",
       "   Tid(norsk normaltid)  Lufttemperatur  \n",
       "0   2022-01-04 01:00:00             2.5  \n",
       "1   2022-01-04 02:00:00             2.9  \n",
       "2   2022-01-04 03:00:00             3.6  \n",
       "3   2022-01-04 04:00:00             3.2  \n",
       "4   2022-01-04 05:00:00             3.3  \n",
       "..                  ...             ...  \n",
       "68  2022-01-06 21:00:00             3.1  \n",
       "69  2022-01-06 22:00:00             3.5  \n",
       "70  2022-01-06 23:00:00             3.1  \n",
       "71  2022-01-07 00:00:00             2.4  \n",
       "72                  NaT             NaN  \n",
       "\n",
       "[73 rows x 4 columns]"
      ]
     },
     "execution_count": 11,
     "metadata": {},
     "output_type": "execute_result"
    }
   ],
   "source": [
    "df"
   ]
  },
  {
   "cell_type": "markdown",
   "metadata": {},
   "source": [
    "Man får ut en fin tabell. Informasjonen som lå i headeren har kommet som titler på kolonnene, og man ser indeksen til hver rad helt til venstre. \n",
    "\n",
    "For å få tak i en av kolonnene skriver man som dette: "
   ]
  },
  {
   "cell_type": "code",
   "execution_count": 12,
   "metadata": {},
   "outputs": [
    {
     "data": {
      "text/plain": [
       "0     2.5\n",
       "1     2.9\n",
       "2     3.6\n",
       "3     3.2\n",
       "4     3.3\n",
       "     ... \n",
       "68    3.1\n",
       "69    3.5\n",
       "70    3.1\n",
       "71    2.4\n",
       "72    NaN\n",
       "Name: Lufttemperatur, Length: 73, dtype: float64"
      ]
     },
     "execution_count": 12,
     "metadata": {},
     "output_type": "execute_result"
    }
   ],
   "source": [
    "df['Lufttemperatur']"
   ]
  },
  {
   "cell_type": "code",
   "execution_count": 13,
   "metadata": {},
   "outputs": [
    {
     "data": {
      "text/plain": [
       "0    2022-01-04 01:00:00\n",
       "1    2022-01-04 02:00:00\n",
       "2    2022-01-04 03:00:00\n",
       "3    2022-01-04 04:00:00\n",
       "4    2022-01-04 05:00:00\n",
       "             ...        \n",
       "68   2022-01-06 21:00:00\n",
       "69   2022-01-06 22:00:00\n",
       "70   2022-01-06 23:00:00\n",
       "71   2022-01-07 00:00:00\n",
       "72                   NaT\n",
       "Name: Tid(norsk normaltid), Length: 73, dtype: datetime64[ns]"
      ]
     },
     "execution_count": 13,
     "metadata": {},
     "output_type": "execute_result"
    }
   ],
   "source": [
    "df['Tid(norsk normaltid)']"
   ]
  },
  {
   "cell_type": "markdown",
   "metadata": {},
   "source": [
    "Vi lagrer kolonnen med tid som `tid_Florida` og kolonnen med temperatur som `temp_Florida`. Vi utelukker det siste elementet i begge radene fordi dette bare er NaN."
   ]
  },
  {
   "cell_type": "code",
   "execution_count": 14,
   "metadata": {},
   "outputs": [],
   "source": [
    "tid_Florida=df['Tid(norsk normaltid)'][:-1]\n",
    "temp_Florida=df['Lufttemperatur'][:-1]"
   ]
  },
  {
   "cell_type": "code",
   "execution_count": 15,
   "metadata": {},
   "outputs": [
    {
     "data": {
      "text/plain": [
       "0    2022-01-04 01:00:00\n",
       "1    2022-01-04 02:00:00\n",
       "2    2022-01-04 03:00:00\n",
       "3    2022-01-04 04:00:00\n",
       "4    2022-01-04 05:00:00\n",
       "             ...        \n",
       "67   2022-01-06 20:00:00\n",
       "68   2022-01-06 21:00:00\n",
       "69   2022-01-06 22:00:00\n",
       "70   2022-01-06 23:00:00\n",
       "71   2022-01-07 00:00:00\n",
       "Name: Tid(norsk normaltid), Length: 72, dtype: datetime64[ns]"
      ]
     },
     "execution_count": 15,
     "metadata": {},
     "output_type": "execute_result"
    }
   ],
   "source": [
    "tid_Florida"
   ]
  },
  {
   "cell_type": "markdown",
   "metadata": {},
   "source": [
    "#### 4) Konverter til Numpy\n",
    "Plottebiblioteket vi bruker, `Matplotlib` er flinkere til å behandle data på `Numpy`-format enn `Pandas`-format. Dersom f.eks. tiden mellom måletidspunkt ikke er konstant vil `Pandas` likevel plotte dette med jevne intervall, mens `Numpy` tar stilling til selve tidverdien og plotter datapunktene med så stor avstand de skal ha. Derfor konverterer vi variablene våre fra `pandas` til `Numpy` arrays. "
   ]
  },
  {
   "cell_type": "code",
   "execution_count": 16,
   "metadata": {},
   "outputs": [
    {
     "data": {
      "text/plain": [
       "array(['2022-01-04T01:00:00.000000000', '2022-01-04T02:00:00.000000000',\n",
       "       '2022-01-04T03:00:00.000000000', '2022-01-04T04:00:00.000000000',\n",
       "       '2022-01-04T05:00:00.000000000', '2022-01-04T06:00:00.000000000',\n",
       "       '2022-01-04T07:00:00.000000000', '2022-01-04T08:00:00.000000000',\n",
       "       '2022-01-04T09:00:00.000000000', '2022-01-04T10:00:00.000000000',\n",
       "       '2022-01-04T11:00:00.000000000', '2022-01-04T12:00:00.000000000',\n",
       "       '2022-01-04T13:00:00.000000000', '2022-01-04T14:00:00.000000000',\n",
       "       '2022-01-04T15:00:00.000000000', '2022-01-04T16:00:00.000000000',\n",
       "       '2022-01-04T17:00:00.000000000', '2022-01-04T18:00:00.000000000',\n",
       "       '2022-01-04T19:00:00.000000000', '2022-01-04T20:00:00.000000000',\n",
       "       '2022-01-04T21:00:00.000000000', '2022-01-04T22:00:00.000000000',\n",
       "       '2022-01-04T23:00:00.000000000', '2022-01-05T00:00:00.000000000',\n",
       "       '2022-01-05T01:00:00.000000000', '2022-01-05T02:00:00.000000000',\n",
       "       '2022-01-05T03:00:00.000000000', '2022-01-05T04:00:00.000000000',\n",
       "       '2022-01-05T05:00:00.000000000', '2022-01-05T06:00:00.000000000',\n",
       "       '2022-01-05T07:00:00.000000000', '2022-01-05T08:00:00.000000000',\n",
       "       '2022-01-05T09:00:00.000000000', '2022-01-05T10:00:00.000000000',\n",
       "       '2022-01-05T11:00:00.000000000', '2022-01-05T12:00:00.000000000',\n",
       "       '2022-01-05T13:00:00.000000000', '2022-01-05T14:00:00.000000000',\n",
       "       '2022-01-05T15:00:00.000000000', '2022-01-05T16:00:00.000000000',\n",
       "       '2022-01-05T17:00:00.000000000', '2022-01-05T18:00:00.000000000',\n",
       "       '2022-01-05T19:00:00.000000000', '2022-01-05T20:00:00.000000000',\n",
       "       '2022-01-05T21:00:00.000000000', '2022-01-05T22:00:00.000000000',\n",
       "       '2022-01-05T23:00:00.000000000', '2022-01-06T00:00:00.000000000',\n",
       "       '2022-01-06T01:00:00.000000000', '2022-01-06T02:00:00.000000000',\n",
       "       '2022-01-06T03:00:00.000000000', '2022-01-06T04:00:00.000000000',\n",
       "       '2022-01-06T05:00:00.000000000', '2022-01-06T06:00:00.000000000',\n",
       "       '2022-01-06T07:00:00.000000000', '2022-01-06T08:00:00.000000000',\n",
       "       '2022-01-06T09:00:00.000000000', '2022-01-06T10:00:00.000000000',\n",
       "       '2022-01-06T11:00:00.000000000', '2022-01-06T12:00:00.000000000',\n",
       "       '2022-01-06T13:00:00.000000000', '2022-01-06T14:00:00.000000000',\n",
       "       '2022-01-06T15:00:00.000000000', '2022-01-06T16:00:00.000000000',\n",
       "       '2022-01-06T17:00:00.000000000', '2022-01-06T18:00:00.000000000',\n",
       "       '2022-01-06T19:00:00.000000000', '2022-01-06T20:00:00.000000000',\n",
       "       '2022-01-06T21:00:00.000000000', '2022-01-06T22:00:00.000000000',\n",
       "       '2022-01-06T23:00:00.000000000', '2022-01-07T00:00:00.000000000'],\n",
       "      dtype='datetime64[ns]')"
      ]
     },
     "execution_count": 16,
     "metadata": {},
     "output_type": "execute_result"
    }
   ],
   "source": [
    "tid_Florida=tid_Florida.to_numpy()\n",
    "tid_Florida"
   ]
  },
  {
   "cell_type": "code",
   "execution_count": 17,
   "metadata": {},
   "outputs": [],
   "source": [
    "temp_Florida=temp_Florida.to_numpy()"
   ]
  },
  {
   "cell_type": "code",
   "execution_count": 18,
   "metadata": {},
   "outputs": [
    {
     "data": {
      "text/plain": [
       "array([ 2.5,  2.9,  3.6,  3.2,  3.3,  3.8,  2.9,  3.4,  2.9,  1.5,  2.7,\n",
       "        3.5,  4.7,  3.6,  3.8,  2.8,  3.7,  3.6,  2.7,  2.4,  2.4,  2.5,\n",
       "        2.1,  2.2,  2.3,  2. ,  2.3,  1.8,  2.1,  2.3,  2.4,  2.2,  2.5,\n",
       "        2.3,  2.6,  2.3,  3. ,  2.9,  2.6,  2.5,  2.4,  2.5,  0.9,  0.1,\n",
       "        1.4,  1. ,  0.7,  0.3, -1.1, -1.3, -1.6, -1.9, -2.4, -2.3, -2.3,\n",
       "       -2.5, -2.1, -2.2, -0.8,  0.7,  0.9,  1. ,  1.4,  1.5,  1.7,  2.4,\n",
       "        2.6,  3. ,  3.1,  3.5,  3.1,  2.4])"
      ]
     },
     "execution_count": 18,
     "metadata": {},
     "output_type": "execute_result"
    }
   ],
   "source": [
    "temp_Florida"
   ]
  },
  {
   "cell_type": "markdown",
   "metadata": {},
   "source": [
    "#### 5) Lag en figur"
   ]
  },
  {
   "cell_type": "code",
   "execution_count": 14,
   "metadata": {},
   "outputs": [
    {
     "data": {
      "image/png": "[encoded data removed]",
      "text/plain": [
       "<Figure size 720x216 with 1 Axes>"
      ]
     },
     "metadata": {
      "needs_background": "light"
     },
     "output_type": "display_data"
    }
   ],
   "source": [
    "plt.figure(figsize=(10,3))\n",
    "plt.plot(tid_Florida, temp_Florida)\n",
    "plt.grid()\n",
    "plt.show()"
   ]
  },
  {
   "cell_type": "markdown",
   "metadata": {},
   "source": [
    "#### 6) Sammenlign observasjonene ved Florida med observasjonene til Ragnhild"
   ]
  },
  {
   "cell_type": "code",
   "execution_count": 21,
   "metadata": {},
   "outputs": [],
   "source": [
    "sti='O:/Work/Documents/EkteData/EkteData/data'\n",
    "fil='/4-6_januar_Temperaturegistrering_AB-vei.csv'"
   ]
  },
  {
   "cell_type": "markdown",
   "metadata": {},
   "source": [
    "Datasettet til Ragnhild er satt opp litt annerledes enn datasettene til seklima.no. Men begge datsettene er på csv-format, så vi bruker fremdeles funksjonen pd.read_csv(). Spesifiseringene vi tregner nå er:\n",
    "- sep=',': kolonnene i csv-filen er skilt med komma. Dette er default for csv-filer, så denne spesifiseringen er strengt tatt overflødig.\n",
    "- engine=python: siden Celcius en angitt med grad-tegn (special character) må man spesifisere engine.\n",
    "- parse:dates=['Time']: konverterer kolonnen med tid til \"Timestamp\" som er lett å jobbe med for tid.\n",
    "\n",
    "Og som jeg nevnte i timen, dette er ikke spesifiseringer man husker i hodet. Man bruker dokumentasjonen, ser på hva man får ut eller feilmeldingen, og justerer til man får ut en tabell som inneholder all informasjonen i datafilen du leser inn. Som en tommelfingerregel trenger man nesten alltid `sep=''` og `parse_dates=['']`."
   ]
  },
  {
   "cell_type": "code",
   "execution_count": 22,
   "metadata": {},
   "outputs": [],
   "source": [
    "df=pd.read_csv(\n",
    "    sti+fil, \n",
    "    sep=',', \n",
    "    engine='python',\n",
    "    parse_dates=['Time']\n",
    ")"
   ]
  },
  {
   "cell_type": "code",
   "execution_count": 23,
   "metadata": {},
   "outputs": [
    {
     "data": {
      "text/html": [
       "<div>\n",
       "<style scoped>\n",
       "    .dataframe tbody tr th:only-of-type {\n",
       "        vertical-align: middle;\n",
       "    }\n",
       "\n",
       "    .dataframe tbody tr th {\n",
       "        vertical-align: top;\n",
       "    }\n",
       "\n",
       "    .dataframe thead th {\n",
       "        text-align: right;\n",
       "    }\n",
       "</style>\n",
       "<table border=\"1\" class=\"dataframe\">\n",
       "  <thead>\n",
       "    <tr style=\"text-align: right;\">\n",
       "      <th></th>\n",
       "      <th>Temp AB-vei</th>\n",
       "      <th>Time</th>\n",
       "      <th>Celsius(°C)</th>\n",
       "      <th>Comments</th>\n",
       "      <th>Serial Number</th>\n",
       "    </tr>\n",
       "  </thead>\n",
       "  <tbody>\n",
       "    <tr>\n",
       "      <th>0</th>\n",
       "      <td>1</td>\n",
       "      <td>2022-01-04 15:00:00</td>\n",
       "      <td>4.0</td>\n",
       "      <td>NaN</td>\n",
       "      <td>60039020.0</td>\n",
       "    </tr>\n",
       "    <tr>\n",
       "      <th>1</th>\n",
       "      <td>2</td>\n",
       "      <td>2022-01-04 15:01:00</td>\n",
       "      <td>4.0</td>\n",
       "      <td>NaN</td>\n",
       "      <td>NaN</td>\n",
       "    </tr>\n",
       "    <tr>\n",
       "      <th>2</th>\n",
       "      <td>3</td>\n",
       "      <td>2022-01-04 15:02:00</td>\n",
       "      <td>4.0</td>\n",
       "      <td>NaN</td>\n",
       "      <td>NaN</td>\n",
       "    </tr>\n",
       "    <tr>\n",
       "      <th>3</th>\n",
       "      <td>4</td>\n",
       "      <td>2022-01-04 15:03:00</td>\n",
       "      <td>4.0</td>\n",
       "      <td>NaN</td>\n",
       "      <td>NaN</td>\n",
       "    </tr>\n",
       "    <tr>\n",
       "      <th>4</th>\n",
       "      <td>5</td>\n",
       "      <td>2022-01-04 15:04:00</td>\n",
       "      <td>4.0</td>\n",
       "      <td>NaN</td>\n",
       "      <td>NaN</td>\n",
       "    </tr>\n",
       "    <tr>\n",
       "      <th>...</th>\n",
       "      <td>...</td>\n",
       "      <td>...</td>\n",
       "      <td>...</td>\n",
       "      <td>...</td>\n",
       "      <td>...</td>\n",
       "    </tr>\n",
       "    <tr>\n",
       "      <th>2569</th>\n",
       "      <td>2570</td>\n",
       "      <td>2022-01-06 09:49:00</td>\n",
       "      <td>9.5</td>\n",
       "      <td>NaN</td>\n",
       "      <td>NaN</td>\n",
       "    </tr>\n",
       "    <tr>\n",
       "      <th>2570</th>\n",
       "      <td>2571</td>\n",
       "      <td>2022-01-06 09:50:00</td>\n",
       "      <td>10.5</td>\n",
       "      <td>NaN</td>\n",
       "      <td>NaN</td>\n",
       "    </tr>\n",
       "    <tr>\n",
       "      <th>2571</th>\n",
       "      <td>2572</td>\n",
       "      <td>2022-01-06 09:51:00</td>\n",
       "      <td>11.0</td>\n",
       "      <td>NaN</td>\n",
       "      <td>NaN</td>\n",
       "    </tr>\n",
       "    <tr>\n",
       "      <th>2572</th>\n",
       "      <td>2573</td>\n",
       "      <td>2022-01-06 09:52:00</td>\n",
       "      <td>12.0</td>\n",
       "      <td>NaN</td>\n",
       "      <td>NaN</td>\n",
       "    </tr>\n",
       "    <tr>\n",
       "      <th>2573</th>\n",
       "      <td>2574</td>\n",
       "      <td>2022-01-06 09:53:00</td>\n",
       "      <td>12.5</td>\n",
       "      <td>NaN</td>\n",
       "      <td>NaN</td>\n",
       "    </tr>\n",
       "  </tbody>\n",
       "</table>\n",
       "<p>2574 rows × 5 columns</p>\n",
       "</div>"
      ],
      "text/plain": [
       "      Temp AB-vei                Time  Celsius(°C)  Comments  Serial Number\n",
       "0               1 2022-01-04 15:00:00          4.0       NaN     60039020.0\n",
       "1               2 2022-01-04 15:01:00          4.0       NaN            NaN\n",
       "2               3 2022-01-04 15:02:00          4.0       NaN            NaN\n",
       "3               4 2022-01-04 15:03:00          4.0       NaN            NaN\n",
       "4               5 2022-01-04 15:04:00          4.0       NaN            NaN\n",
       "...           ...                 ...          ...       ...            ...\n",
       "2569         2570 2022-01-06 09:49:00          9.5       NaN            NaN\n",
       "2570         2571 2022-01-06 09:50:00         10.5       NaN            NaN\n",
       "2571         2572 2022-01-06 09:51:00         11.0       NaN            NaN\n",
       "2572         2573 2022-01-06 09:52:00         12.0       NaN            NaN\n",
       "2573         2574 2022-01-06 09:53:00         12.5       NaN            NaN\n",
       "\n",
       "[2574 rows x 5 columns]"
      ]
     },
     "execution_count": 23,
     "metadata": {},
     "output_type": "execute_result"
    }
   ],
   "source": [
    "df"
   ]
  },
  {
   "cell_type": "code",
   "execution_count": 25,
   "metadata": {},
   "outputs": [],
   "source": [
    "# Lagre kolonnene med tid og temp som nye variabler\n",
    "tid=df['Time']\n",
    "temp=df['Celsius(°C)']"
   ]
  },
  {
   "cell_type": "code",
   "execution_count": 26,
   "metadata": {},
   "outputs": [],
   "source": [
    "# Konverter tid og temp til numpy-arrays\n",
    "temp=temp.to_numpy()\n",
    "tid=tid.to_numpy()"
   ]
  },
  {
   "cell_type": "code",
   "execution_count": 27,
   "metadata": {},
   "outputs": [
    {
     "data": {
      "image/png": "[encoded data removed]",
      "text/plain": [
       "<Figure size 720x216 with 1 Axes>"
      ]
     },
     "metadata": {
      "needs_background": "light"
     },
     "output_type": "display_data"
    }
   ],
   "source": [
    "# Lag en figur med både dataene fra seklima og de Ragnhild har samler inn\n",
    "plt.figure(figsize=(10,3))\n",
    "plt.plot(tid,temp) # Ragnhild sine observasjoner\n",
    "plt.plot(tid_Florida,temp_Florida) # seklima sine data\n",
    "plt.grid()\n",
    "plt.xlim(tid[0], tid[-1]) # Begrens xaksen til tidsperioden Ragnhild observerte\n",
    "plt.show()"
   ]
  },
  {
   "cell_type": "markdown",
   "metadata": {},
   "source": [
    "--------------\n",
    "#### Et lite notat:\n",
    "Man kan også konvertere hele dataframen (df) til numpy på en gang istedet for å plukke ut de kolonnene vi trenger og så konvertere disse (slik som vi gjorde over). Hvis man konvertere hele dataframen til numpy med en gang kan man indeksere kolonnene som vanlig:"
   ]
  },
  {
   "cell_type": "code",
   "execution_count": 28,
   "metadata": {},
   "outputs": [],
   "source": [
    "data=df.to_numpy()"
   ]
  },
  {
   "cell_type": "code",
   "execution_count": 29,
   "metadata": {},
   "outputs": [
    {
     "data": {
      "text/plain": [
       "array([[1, Timestamp('2022-01-04 15:00:00'), 4.0, nan, 60039020.0],\n",
       "       [2, Timestamp('2022-01-04 15:01:00'), 4.0, nan, nan],\n",
       "       [3, Timestamp('2022-01-04 15:02:00'), 4.0, nan, nan],\n",
       "       ...,\n",
       "       [2572, Timestamp('2022-01-06 09:51:00'), 11.0, nan, nan],\n",
       "       [2573, Timestamp('2022-01-06 09:52:00'), 12.0, nan, nan],\n",
       "       [2574, Timestamp('2022-01-06 09:53:00'), 12.5, nan, nan]],\n",
       "      dtype=object)"
      ]
     },
     "execution_count": 29,
     "metadata": {},
     "output_type": "execute_result"
    }
   ],
   "source": [
    "data"
   ]
  },
  {
   "cell_type": "code",
   "execution_count": 30,
   "metadata": {},
   "outputs": [],
   "source": [
    "# Vanlig indekseing: \":\" for alle radene, og \"1\" for kolonne med indeks 1\n",
    "tid=data[:,1] "
   ]
  },
  {
   "cell_type": "code",
   "execution_count": 31,
   "metadata": {},
   "outputs": [
    {
     "data": {
      "text/plain": [
       "array([Timestamp('2022-01-04 15:00:00'), Timestamp('2022-01-04 15:01:00'),\n",
       "       Timestamp('2022-01-04 15:02:00'), ...,\n",
       "       Timestamp('2022-01-06 09:51:00'), Timestamp('2022-01-06 09:52:00'),\n",
       "       Timestamp('2022-01-06 09:53:00')], dtype=object)"
      ]
     },
     "execution_count": 31,
     "metadata": {},
     "output_type": "execute_result"
    }
   ],
   "source": [
    "tid"
   ]
  },
  {
   "cell_type": "code",
   "execution_count": 32,
   "metadata": {},
   "outputs": [],
   "source": [
    "temp=data[:,2]"
   ]
  },
  {
   "cell_type": "code",
   "execution_count": 33,
   "metadata": {},
   "outputs": [
    {
     "data": {
      "text/plain": [
       "array([4.0, 4.0, 4.0, ..., 11.0, 12.0, 12.5], dtype=object)"
      ]
     },
     "execution_count": 33,
     "metadata": {},
     "output_type": "execute_result"
    }
   ],
   "source": [
    "temp"
   ]
  },
  {
   "cell_type": "code",
   "execution_count": 35,
   "metadata": {},
   "outputs": [
    {
     "data": {
      "image/png": "[encoded data removed]",
      "text/plain": [
       "<Figure size 720x216 with 1 Axes>"
      ]
     },
     "metadata": {
      "needs_background": "light"
     },
     "output_type": "display_data"
    }
   ],
   "source": [
    "plt.figure(figsize=(10,3))\n",
    "plt.plot(tid,temp)\n",
    "plt.show()"
   ]
  },
  {
   "cell_type": "code",
   "execution_count": null,
   "metadata": {},
   "outputs": [],
   "source": []
  }
 ],
 "metadata": {
  "kernelspec": {
   "display_name": "Python 3",
   "language": "python",
   "name": "python3"
  },
  "language_info": {
   "codemirror_mode": {
    "name": "ipython",
    "version": 3
   },
   "file_extension": ".py",
   "mimetype": "text/x-python",
   "name": "python",
   "nbconvert_exporter": "python",
   "pygments_lexer": "ipython3",
   "version": "3.8.5"
  }
 },
 "nbformat": 4,
 "nbformat_minor": 4
}

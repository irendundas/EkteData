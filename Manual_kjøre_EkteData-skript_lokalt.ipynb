{
 "cells": [
  {
   "cell_type": "markdown",
   "metadata": {},
   "source": [
    "### Manual for å kjøre EkteData-skript lokalt\n",
    "\n",
    "*Denne manualen er ikke testet, men jeg tror det skal fungere*\n",
    "\n",
    "For å kjøre skriptene som ligger i Ekte Data sine programmeringsoppgaver ([her](https://ektedata.uib.no/oppgaver/?_sft_oppgavetype=programmering)) trenger man data og et par funksjoner fra \"GitHub\"-siden til Ekte Data ([her](https://github.com/irendundas/EkteData)). En enkel måte å gjøre dette på er å kjøre skriptene i Google CoLab ved å følge [denne](https://ektedata.uib.no/oppgaver/manual-for-a-kjore-ektedata-skript-med-google-colab/) manualen. Hvis du vil kjøre skriptene lokalt må datafilene og noen pakker lastes ned før skriptene kan kjøres. \n",
    "\n",
    "Jeg har inntrykk av at det er standard å ha anaconda installert, så jeg tar utgangspunkt i at dette er på plass. \n",
    "\n",
    "Gjør dette i anaconda-terminalen:\n",
    "\n",
    "#### Lag et nytt \"environment\" for Ekte Data\n",
    "\n",
    "`conda create -n EkteData`\n",
    "\n",
    "#### Aktiver environmentet\n",
    "\n",
    "`conda activate EkteData`. \n",
    "\n",
    "#### Last ned nødvendige pakker\n",
    "\n",
    "`conda install -c anaconda numpy`\n",
    "`conda install -c anaconda matplotlib`\n",
    "`conda install -c anaconda git`\n",
    "\n",
    "#### \"Clone\" filer fra \"GitHub\"-siden til Ekte Data\n",
    "Stå i mappen du vil jobbe fra med kommandoen `cd \"stien til mappen du vil jobbe i`. Dette kan være tilsvarende `cd C:\\Username\\Documents\\EkteDataWork`.\n",
    "\n",
    "Kjør kommandoen `git clone https://github.com/irendundas/EkteData.git`. Dette vil lage en ny undermappe som heter EkteData der alt fra [denne](https://github.com/irendundas/EkteData) nettsiden ligger. \n",
    "\n",
    "Hvis du nå prøver å kjøre skriptene fra dette mappesystemet *tror jeg* alt skal fungere. \n",
    "\n",
    "Om du jobber fra mappen EkteDataWork må du sannsynligvis endre linjen `from EkteDataFunk import loadData # for filinnlasting` til `from EkteData.EkteDataFunk import loadData # for filinnlasting` i EkteData-skriptene. Dette er fordi du står i mappen din EkteDataWork, og mappen EkteData som du klonet fra GitHub er en undermappe som ligger i EkteDataWork. \n"
   ]
  },
  {
   "cell_type": "code",
   "execution_count": null,
   "metadata": {},
   "outputs": [],
   "source": []
  }
 ],
 "metadata": {
  "kernelspec": {
   "display_name": "Python 3",
   "language": "python",
   "name": "python3"
  },
  "language_info": {
   "codemirror_mode": {
    "name": "ipython",
    "version": 3
   },
   "file_extension": ".py",
   "mimetype": "text/x-python",
   "name": "python",
   "nbconvert_exporter": "python",
   "pygments_lexer": "ipython3",
   "version": "3.8.5"
  }
 },
 "nbformat": 4,
 "nbformat_minor": 4
}

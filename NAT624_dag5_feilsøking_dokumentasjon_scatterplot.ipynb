{
 "cells": [
  {
   "cell_type": "markdown",
   "metadata": {},
   "source": [
    "I denne oppgaven skal vi se videre på tre ting: *feilsøking*, bruk av *dokumentsjon* og en ny type figur, *scatterplot*. \n",
    "\n",
    "Vi bruker tid spesifikt på **feilsøking** og å bruke **dokumentasjon** fordi dette er en av de siste kursdagene vi har, og dette er to ting det er veldig nyttig å være litt trygg på når dere skal bruke programmering i Python på egenhånd seinere. I denne biten er det flere deloppgaver med feil i som dere skal finne. I andre deloppgaver i denne biten må dere google dere frem for å løse en oppgave. \n",
    "\n",
    "**Scatterplot** bruker vi tid på fordi dette er en enkel og veldig beskrivende metode for å se etter sammenhenger mellom to variabler. Flere av dere sammenligner hverandres datasett i oppgavene deres, og dere sammenligner med værmeldingen sine data. Noen av dere vil sikkert også sammenligne med datasett over andre variabler enn temperatur som dere laster ned fra f.eks. seklima.met.no. Å sammenligne to tidsserier kan gi mye informasjon, men scatterplot konsenterer sammenhenger på en litt annen måte som kan være nyttig. I denne biten viser jeg et eksempel, men dere kan gjøre de endringene dere vil. \n",
    "\n",
    "---------------\n",
    "\n",
    "#### Del 1: Feilsøking og bruk av dokumentasjon\n",
    "- indeksering\n",
    "- paranteser (mangel på og feile)\n",
    "- "
   ]
  },
  {
   "cell_type": "code",
   "execution_count": null,
   "metadata": {},
   "outputs": [],
   "source": [
    "import numpy as np # for regneoperasjoner\n",
    "import matplotlib.pyplot as plt # for figurer\n",
    "from EkteDataFunk import loadData # for filinnlasting"
   ]
  },
  {
   "cell_type": "code",
   "execution_count": null,
   "metadata": {},
   "outputs": [],
   "source": [
    "file='TempBergenYearlyNonan.txt'\n",
    "temp,tid = loadData(file)"
   ]
  },
  {
   "cell_type": "code",
   "execution_count": null,
   "metadata": {},
   "outputs": [],
   "source": [
    "tid.shape, np.squeeze(temp).shape"
   ]
  },
  {
   "cell_type": "code",
   "execution_count": null,
   "metadata": {},
   "outputs": [],
   "source": [
    "temp=np.squeeze(temp)"
   ]
  },
  {
   "cell_type": "code",
   "execution_count": null,
   "metadata": {},
   "outputs": [],
   "source": [
    "ax=plt.axes() # Lag akser å plotte i\n",
    "\n",
    "# Plot tidsserien\n",
    "ax.plot(tid, temp)\n",
    "\n",
    "# Definer grid, tekst etc.\n",
    "ax.set(\n",
    "    title='Temperatur 1860-2020',\n",
    "    xlabel='År',\n",
    "    ylabel='Temperatur [\\u2103]', \n",
    "    xlim=[1860,2020], # Sett grense for x-aksen\n",
    "    ylim=[5.5,10.5]) # Sett grense for y-aksen\n",
    "ax.grid() # Legg til rutenett (grid) i bakgrunnen\n",
    "plt.show() "
   ]
  },
  {
   "cell_type": "markdown",
   "metadata": {},
   "source": [
    "Finn gjennomsnittstemperaturen til hele perioden"
   ]
  },
  {
   "cell_type": "code",
   "execution_count": null,
   "metadata": {},
   "outputs": [],
   "source": [
    "# tips: np.mean()\n"
   ]
  },
  {
   "cell_type": "markdown",
   "metadata": {},
   "source": [
    "Finn standardavviket til hele perioden"
   ]
  },
  {
   "cell_type": "code",
   "execution_count": null,
   "metadata": {},
   "outputs": [],
   "source": [
    "# tips: google \"numpy standard deviation\"\n"
   ]
  },
  {
   "cell_type": "markdown",
   "metadata": {},
   "source": [
    "Finn indeksen til år 1900. Sjekk at du har riktig indeks ved å skrive ut verdien på denne indeksen i tidsvektoren."
   ]
  },
  {
   "cell_type": "code",
   "execution_count": null,
   "metadata": {},
   "outputs": [],
   "source": [
    "# tips1: husk funksjonen np.where(). \n",
    "# tips2: husk at vi har brukt denne funksjonen før. Du kan altså enten bruke \n",
    "# google til å finne dokumentasjonen på hvordan denne funksjonen brukes ELLER \n",
    "# du kan finne filen der du jobbet med dette tidligere og se hva du gjorde da.\n"
   ]
  },
  {
   "cell_type": "markdown",
   "metadata": {},
   "source": [
    "Lag en figur som viser temperatur fra år 1900 til slutten av tidsperioden. Bruk dokumentasjonen til matplotlib.pyplot til å velge linjefarge, markør og markørfarger. "
   ]
  },
  {
   "cell_type": "code",
   "execution_count": null,
   "metadata": {},
   "outputs": [],
   "source": [
    "# tips: Nedbørsoppgaven_del3_plotting_av_tidsserier\n"
   ]
  },
  {
   "cell_type": "markdown",
   "metadata": {},
   "source": [
    "I figuren under har jeg lagt til \"minor\" grid-linjer og spesifisert farge, linjestil og gjennomsiktighet. Gjør de små grid-linjene oransje og gjør hoved-grid-linjene tykkere. "
   ]
  },
  {
   "cell_type": "code",
   "execution_count": null,
   "metadata": {},
   "outputs": [],
   "source": [
    "ax=plt.axes()\n",
    "\n",
    "ax.plot(tid, temp)\n",
    "\n",
    "ax.set(\n",
    "    title='Temperatur 1860-2020',\n",
    "    xlabel='År',\n",
    "    ylabel='Temperatur [\\u2103]', \n",
    "    xlim=[1860,2020], \n",
    "    ylim=[5.5,10.5]\n",
    ") \n",
    "ax.minorticks_on()\n",
    "ax.grid(which='minor', color=[.4, .5, .2], alpha=.3, linestyle=':') \n",
    "ax.grid(which='major', linestyle='-') \n",
    "\n",
    "plt.show() "
   ]
  },
  {
   "cell_type": "markdown",
   "metadata": {},
   "source": [
    "Hva er feil med kodecellen under? Svaret finnes i feilmeldingen under. \n",
    "Tips: husk at den mest nyttige informasjonen i en feilmelding sjelden finnes midt i feilmeldingen. "
   ]
  },
  {
   "cell_type": "code",
   "execution_count": null,
   "metadata": {},
   "outputs": [],
   "source": [
    "ax=plt.axes()\n",
    "\n",
    "ax.plot(tid, temp)\n",
    "\n",
    "ax.set(\n",
    "    title='Temperatur 1860-2020',\n",
    "    xlabel='År',\n",
    "    ylabel='Temperatur [\\u2103]', \n",
    "    xlim=[1860,2020], \n",
    "    ylim=[5.5,10.5]\n",
    ") \n",
    "ax.minorticks_on()\n",
    "ax.grid(which='minor', color=[.4, .5, 2], alpha=.3, linestyle=':') \n",
    "ax.grid(which='major', linestyle='-') \n",
    "\n",
    "plt.show() "
   ]
  },
  {
   "cell_type": "markdown",
   "metadata": {},
   "source": [
    "Under finner jeg indeksene som deler tidsperioden inn i fire like deler. Men det blir feil når jeg prøver å bruke resultatet til å indeksere tid (for å sjekke at det funket). Hvorfor blir det feil?"
   ]
  },
  {
   "cell_type": "code",
   "execution_count": null,
   "metadata": {},
   "outputs": [],
   "source": [
    "indeks=[\n",
    "    0, \n",
    "    len(tid)*1/4, \n",
    "    len(tid)*2/4, \n",
    "    len(tid)*3/4,\n",
    "    len(tid)\n",
    "]\n",
    "\n",
    "tid[indeks]"
   ]
  },
  {
   "cell_type": "code",
   "execution_count": null,
   "metadata": {},
   "outputs": [],
   "source": [
    "int(indeks[3])"
   ]
  },
  {
   "cell_type": "code",
   "execution_count": null,
   "metadata": {},
   "outputs": [],
   "source": [
    "# Hva om jeg vil konvertere alle elementene i \"indeks\" til integers?\n",
    "# Dette går ikke\n",
    "int(indeks)"
   ]
  },
  {
   "cell_type": "code",
   "execution_count": null,
   "metadata": {},
   "outputs": [],
   "source": [
    "indeks[3]=int(indeks[3])\n",
    "indeks"
   ]
  },
  {
   "cell_type": "code",
   "execution_count": null,
   "metadata": {},
   "outputs": [],
   "source": [
    "# Dette går, men det er ganske tungvindt. Hva om \"indeks\" var 20 elementer lang?\n",
    "indeks[1]=int(indeks[1])\n",
    "indeks[2]=int(indeks[2])\n",
    "indeks[3]=int(indeks[3])\n",
    "indeks[4]=int(indeks[4])"
   ]
  },
  {
   "cell_type": "code",
   "execution_count": null,
   "metadata": {},
   "outputs": [],
   "source": [
    "indeks"
   ]
  },
  {
   "cell_type": "markdown",
   "metadata": {},
   "source": [
    "## For-løkker\n",
    "\n",
    "Vi tar utgangspunkt i problemet over (å finne indeksene som deler tidsperioden vår inn i fire like deler) til å introdusere **for-løkker**.\n",
    "\n",
    "Den letteste måten å endre alle elementene i vektoren `indeks` til integers er ved hjelp av en **for-løkke**. Dette er nyttig når man skal gjøre samme operasjon flere ganger. \n",
    "\n",
    "*Det finnes en hel oppgave om for-løkker i Ekte Data-filene: \"Nedbørsoppgaven_Del5_forløkke.ipynb\"*"
   ]
  },
  {
   "cell_type": "code",
   "execution_count": null,
   "metadata": {},
   "outputs": [],
   "source": [
    "file='TempBergenYearlyNonan.txt'\n",
    "temp,tid = loadData(file)\n",
    "temp=np.squeeze(temp)"
   ]
  },
  {
   "cell_type": "markdown",
   "metadata": {},
   "source": [
    "Aller først et par veldig simple eksempler:"
   ]
  },
  {
   "cell_type": "code",
   "execution_count": null,
   "metadata": {},
   "outputs": [],
   "source": [
    "for ind in range(6):\n",
    "    print(ind)"
   ]
  },
  {
   "cell_type": "code",
   "execution_count": null,
   "metadata": {},
   "outputs": [],
   "source": [
    "list(range(6))"
   ]
  },
  {
   "cell_type": "code",
   "execution_count": null,
   "metadata": {},
   "outputs": [],
   "source": [
    "for i in range(6):\n",
    "    print(temp[i])"
   ]
  },
  {
   "cell_type": "code",
   "execution_count": null,
   "metadata": {},
   "outputs": [],
   "source": [
    "temp[:6]"
   ]
  },
  {
   "cell_type": "code",
   "execution_count": null,
   "metadata": {},
   "outputs": [],
   "source": [
    "for k in range(4):\n",
    "    print(temp[k]+temp[k+1])"
   ]
  },
  {
   "cell_type": "markdown",
   "metadata": {},
   "source": [
    "**Tilbake til de ekte datasettene:**"
   ]
  },
  {
   "cell_type": "code",
   "execution_count": null,
   "metadata": {},
   "outputs": [],
   "source": [
    "# Vi lager \"indeks\" på nytt og konverterer alle elementene til integers ved hjelp av en for-løkke\n",
    "indeks=[\n",
    "    0, \n",
    "    len(tid)*1/4, \n",
    "    len(tid)*2/4, \n",
    "    len(tid)*3/4,\n",
    "    len(tid)\n",
    "]\n",
    "indeks"
   ]
  },
  {
   "cell_type": "markdown",
   "metadata": {},
   "source": [
    "for-løkker gjør en operasjon mange ganger etter hverandre. Hvor mange ganger bestemmes i den første linjen: `for i in range(5)` betyr feks at operasjonen skal gjøres fem ganger. `range(5)` iterer fra 0 til og med 4, altså 5 iterasjoner. `i` blir da `0` i første iterasjon, `1` i neste iterasjon osv. "
   ]
  },
  {
   "cell_type": "code",
   "execution_count": null,
   "metadata": {},
   "outputs": [],
   "source": [
    "for i in range(len(indeks)):\n",
    "    indeks[i]=int(indeks[i])\n",
    "    print('i=',i,', indeks[i]=',indeks[i])\n",
    "\n",
    "indeks"
   ]
  },
  {
   "cell_type": "markdown",
   "metadata": {},
   "source": [
    "Nå kan vi f.eks. sammelingne de fire 40-årsperiodene ved å beregne gjennomsnittstemperaturen i hver periode."
   ]
  },
  {
   "cell_type": "code",
   "execution_count": null,
   "metadata": {},
   "outputs": [],
   "source": [
    "for i in range(4):\n",
    "    Gjsnitt=np.mean(temp[indeks[i]:indeks[i+1]])\n",
    "    print('Gj.snitt temp for periode nr.', i, '=', np.round(Gjsnitt, 4))"
   ]
  },
  {
   "cell_type": "markdown",
   "metadata": {},
   "source": [
    "Gjennomsnittstemperaturen for den siste 40-årsperioden er en hel grad varmere enn gjennomsnittstemperaturen for den første 40-årsperioden.\n",
    "\n",
    "Vi kan også sammenligne de fire 40-årsperiodene ved å se på en figur:"
   ]
  },
  {
   "cell_type": "code",
   "execution_count": null,
   "metadata": {},
   "outputs": [],
   "source": [
    "plt.plot(temp[indeks[0]:indeks[1]], label='1')\n",
    "plt.plot(temp[indeks[1]:indeks[2]], label='2')\n",
    "plt.plot(temp[indeks[2]:indeks[3]], label='3')\n",
    "plt.plot(temp[indeks[3]:indeks[4]], label='4')\n",
    "plt.legend(ncol=4)\n",
    "plt.show()"
   ]
  },
  {
   "cell_type": "markdown",
   "metadata": {},
   "source": [
    "Dette kan vi også gjøre med en for-løkke, så slipper vi så mange nesten like kodelinjer:"
   ]
  },
  {
   "cell_type": "code",
   "execution_count": null,
   "metadata": {},
   "outputs": [],
   "source": [
    "for i in range(4):\n",
    "    plt.plot(temp[indeks[i]:indeks[i+1]], label=str(i+1))\n",
    "plt.legend(ncol=4)\n",
    "plt.show()"
   ]
  },
  {
   "cell_type": "markdown",
   "metadata": {},
   "source": [
    "Fordelen med for-løkker er at man slipper å skrive så mange nesten helt like kode-linjer. \n",
    "\n",
    "I eksemplene over har vi brukt `for in in range(x)`. Da er `i` indeksen til hver iterasjon. Men man kan også la `i` være faktiske verdier slik som under:"
   ]
  },
  {
   "cell_type": "code",
   "execution_count": null,
   "metadata": {},
   "outputs": [],
   "source": [
    "for val in indeks: \n",
    "    print(val)"
   ]
  },
  {
   "cell_type": "markdown",
   "metadata": {},
   "source": [
    "Ved å bruke dette kan man gjøre for-løkken for plotting en del penere:"
   ]
  },
  {
   "cell_type": "code",
   "execution_count": null,
   "metadata": {},
   "outputs": [],
   "source": [
    "diff=int(len(tid)/4) # Fordi vi vet at vi har delt tidsserien inn i fire like deler\n",
    "diff"
   ]
  },
  {
   "cell_type": "code",
   "execution_count": null,
   "metadata": {},
   "outputs": [],
   "source": [
    "for ind in indeks[:-1]:\n",
    "    plt.plot(temp[ind:ind+diff], label=str(ind))\n",
    "plt.legend(ncol=4)\n",
    "plt.show()"
   ]
  },
  {
   "cell_type": "markdown",
   "metadata": {},
   "source": [
    "I blant trenger man **både** en faktisk verdi **og** indeksen. Da kan man bruke `enumerate` istedet for `range`:"
   ]
  },
  {
   "cell_type": "code",
   "execution_count": null,
   "metadata": {},
   "outputs": [],
   "source": [
    "for count, val in enumerate(indeks):\n",
    "    print('count:', count, 'val:', val)"
   ]
  },
  {
   "cell_type": "markdown",
   "metadata": {},
   "source": [
    "Ved å bruke dette kan man gjøre begge de to siste stegene vi har gjort over (1: konvertere til integers og 2: plotte) inne i samme løkke. "
   ]
  },
  {
   "cell_type": "code",
   "execution_count": null,
   "metadata": {},
   "outputs": [],
   "source": [
    "indeks=[\n",
    "    0, \n",
    "    len(tid)*1/4, \n",
    "    len(tid)*2/4, \n",
    "    len(tid)*3/4,\n",
    "    len(tid)\n",
    "]\n",
    "indeks"
   ]
  },
  {
   "cell_type": "code",
   "execution_count": null,
   "metadata": {},
   "outputs": [],
   "source": [
    "for count, val in enumerate(indeks[:-1]):\n",
    "    ind=int(val) # konverter indeksen til integer\n",
    "    plt.plot(temp[ind:ind+diff], label=str(ind))\n",
    "\n",
    "plt.legend(ncol=4)\n",
    "plt.show()    \n"
   ]
  },
  {
   "cell_type": "markdown",
   "metadata": {},
   "source": [
    "For å gjøre poenget med for-løkker enda tydeligere: Hva om vi vil beregne gjennomsnitt og standardavvik for ti-årsperiode, og så lage en figur over alle disse punktene?"
   ]
  },
  {
   "cell_type": "code",
   "execution_count": null,
   "metadata": {},
   "outputs": [],
   "source": [
    "# lag ny indekseringsvektor: \n",
    "diff=10 # Fordi vi vet at vi vil se på tiårsperioder\n",
    "indeks=np.arange(0, len(tid), diff) # Vi bruker np.arange fordi vi vet tidssteget vi vil ha\n",
    "indeks"
   ]
  },
  {
   "cell_type": "code",
   "execution_count": null,
   "metadata": {},
   "outputs": [],
   "source": [
    "for count, val in enumerate(indeks):\n",
    "    mean=np.mean(temp[val:val+diff])\n",
    "    std=np.std(temp[val:val+diff])\n",
    "    tid_mean=tid[int(val+diff/2)] # Vi vil plotte punktene midt i perioden de representerer\n",
    "\n",
    "    \n",
    "    plt.plot(tid_mean, mean, 'rp')\n",
    "    plt.plot(tid_mean, mean+std, 'cp')\n",
    "    plt.plot(tid_mean, mean-std, 'cp')"
   ]
  },
  {
   "cell_type": "markdown",
   "metadata": {},
   "source": [
    "Det ville vært lettere å se på denne figuren om det var linjer mellom punktene. For å få det til må vi lagre verdiene til `mean` og `std` i egne vektorer slik at vi kan plotte dem i sin helhet etter at vi har beregnet alle. "
   ]
  },
  {
   "cell_type": "code",
   "execution_count": null,
   "metadata": {},
   "outputs": [],
   "source": [
    "# Lag to vektorer som kan fylles med verdier: en for gjennomsnitt og en for std. \n",
    "mean=np.zeros(len(indeks))\n",
    "std=np.zeros(len(indeks))\n",
    "tid_mean=np.zeros(len(indeks))"
   ]
  },
  {
   "cell_type": "code",
   "execution_count": null,
   "metadata": {},
   "outputs": [],
   "source": [
    "for count, val in enumerate(indeks):\n",
    "    mean[count]=np.mean(temp[val:val+diff])\n",
    "    std[count]=np.std(temp[val:val+diff])\n",
    "    tid_mean[count]=tid[int(val+diff/2)]\n",
    "    \n",
    "    plt.plot(tid_mean[count], mean[count], 'rp')\n",
    "    plt.plot(tid_mean[count], mean[count]+std[count], 'cp')\n",
    "    plt.plot(tid_mean[count], mean[count]-std[count], 'cp')\n",
    "    \n",
    "plt.plot(tid_mean, mean, 'r')\n",
    "plt.plot(tid_mean, mean+std, 'c')\n",
    "plt.plot(tid_mean, mean-std, 'c')"
   ]
  },
  {
   "cell_type": "markdown",
   "metadata": {},
   "source": [
    "### Andre løkker\n",
    "Det finner flere løkker enn for-løkker, f.eks. `if-løkker`. Jeg tenker ikke at vi skal gå gjennom det nå (med mindre det er ønskelig), men her er et enkelt eksempel for å vise hvordan det fungerer:"
   ]
  },
  {
   "cell_type": "code",
   "execution_count": null,
   "metadata": {},
   "outputs": [],
   "source": [
    "diff=3\n",
    "if diff==3:\n",
    "    print(diff)"
   ]
  },
  {
   "cell_type": "code",
   "execution_count": null,
   "metadata": {},
   "outputs": [],
   "source": [
    "if diff==4:\n",
    "    print(diff)\n",
    "elif diff > 4:\n",
    "    print(diff)\n",
    "else:\n",
    "    print('diff is not equal or larger than 4')"
   ]
  },
  {
   "cell_type": "markdown",
   "metadata": {},
   "source": [
    "Vi kan bruke en if-løkke dersom vi f.eks. vil plotte en linje med punkter som skal være røde om det er varmere enn gjennomsnittet, og blå om det er kaldere enn gjennom snittet: "
   ]
  },
  {
   "cell_type": "code",
   "execution_count": null,
   "metadata": {},
   "outputs": [],
   "source": [
    "mean=np.mean(temp)\n",
    "\n",
    "plt.plot(tid, temp)\n",
    "for count, T in enumerate(temp):\n",
    "    if T > mean:\n",
    "        plt.plot(tid[count], T, 'rp')\n",
    "    elif T < mean:\n",
    "        plt.plot(tid[count], T, 'bp')\n",
    "\n",
    "plt.hlines(mean, 1860, 2020, 'k', alpha=.3)\n",
    "plt.show()"
   ]
  },
  {
   "cell_type": "markdown",
   "metadata": {},
   "source": [
    "Her kunne man imidlertid også brukt indeksering:"
   ]
  },
  {
   "cell_type": "code",
   "execution_count": null,
   "metadata": {},
   "outputs": [],
   "source": [
    "plt.plot(tid, temp)\n",
    "plt.plot(tid[temp>mean], temp[temp>mean], 'rp')\n",
    "plt.plot(tid[temp<mean], temp[temp<mean], 'bp')\n",
    "plt.hlines(mean, 1860, 2020, 'k', alpha=.3)\n",
    "plt.show()"
   ]
  }
 ],
 "metadata": {
  "kernelspec": {
   "display_name": "Python 3",
   "language": "python",
   "name": "python3"
  },
  "language_info": {
   "codemirror_mode": {
    "name": "ipython",
    "version": 3
   },
   "file_extension": ".py",
   "mimetype": "text/x-python",
   "name": "python",
   "nbconvert_exporter": "python",
   "pygments_lexer": "ipython3",
   "version": "3.8.5"
  }
 },
 "nbformat": 4,
 "nbformat_minor": 4
}

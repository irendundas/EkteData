{
 "cells": [
  {
   "cell_type": "markdown",
   "metadata": {},
   "source": [
    "## NAT624: Samling nr 4 - Observasjoner og data\n",
    "\n",
    "Husk:\n",
    "- `Shift+Enter` for å kjøre en celle og gå ned til neste celle, og \n",
    "- `Ctrl+Enter` for å kjøre cellen og bli i samme celle. \n",
    "- Tekstblokkene er også celler som kan kjøres med disse kommandoene, men det eneste som skjer er at teksten formatteres. \n",
    "- å kjøre cellene i kronologisk rekkefølge."
   ]
  },
  {
   "cell_type": "code",
   "execution_count": 14,
   "metadata": {},
   "outputs": [],
   "source": [
    "import numpy as np # for matematikk m.m."
   ]
  },
  {
   "cell_type": "markdown",
   "metadata": {},
   "source": [
    "### Del 1: Tall og variabler \n",
    "Til å begynne med trenger man å vite hvordan man lager og bruker variabler, og hvordan man kan jobbe videre med disse variablene. Vi starter med en variabel som vi kaller `x`."
   ]
  },
  {
   "cell_type": "code",
   "execution_count": 25,
   "metadata": {},
   "outputs": [],
   "source": [
    "x=3"
   ]
  },
  {
   "cell_type": "markdown",
   "metadata": {},
   "source": [
    "Så snart man har `=` har man en ny variabel. For å se variabelen kan man skrive:"
   ]
  },
  {
   "cell_type": "code",
   "execution_count": 2,
   "metadata": {},
   "outputs": [
    {
     "data": {
      "text/plain": [
       "3"
      ]
     },
     "execution_count": 2,
     "metadata": {},
     "output_type": "execute_result"
    }
   ],
   "source": [
    "x"
   ]
  },
  {
   "cell_type": "markdown",
   "metadata": {},
   "source": [
    "Eller om man vil ha litt mer informasjon:"
   ]
  },
  {
   "cell_type": "code",
   "execution_count": 5,
   "metadata": {},
   "outputs": [
    {
     "name": "stdout",
     "output_type": "stream",
     "text": [
      "variabelen som heter x = 3\n"
     ]
    }
   ],
   "source": [
    "print('variabelen som heter x =',x)"
   ]
  },
  {
   "cell_type": "markdown",
   "metadata": {},
   "source": [
    "Vi lager en ny variabel "
   ]
  },
  {
   "cell_type": "code",
   "execution_count": 6,
   "metadata": {},
   "outputs": [],
   "source": [
    "y=5"
   ]
  },
  {
   "cell_type": "markdown",
   "metadata": {},
   "source": [
    "For å printe ut begge disse variablene kan man skrive "
   ]
  },
  {
   "cell_type": "code",
   "execution_count": 7,
   "metadata": {},
   "outputs": [
    {
     "name": "stdout",
     "output_type": "stream",
     "text": [
      "3\n"
     ]
    },
    {
     "data": {
      "text/plain": [
       "5"
      ]
     },
     "execution_count": 7,
     "metadata": {},
     "output_type": "execute_result"
    }
   ],
   "source": [
    "print(x)\n",
    "y"
   ]
  },
  {
   "cell_type": "markdown",
   "metadata": {},
   "source": [
    "Det er kun den siste linjen i en celle som printes ut automatisk. Skriver man f.eks. kun som under blir bare veridien til `y` skrevet ut."
   ]
  },
  {
   "cell_type": "code",
   "execution_count": 9,
   "metadata": {},
   "outputs": [
    {
     "data": {
      "text/plain": [
       "5"
      ]
     },
     "execution_count": 9,
     "metadata": {},
     "output_type": "execute_result"
    }
   ],
   "source": [
    "x\n",
    "y"
   ]
  },
  {
   "cell_type": "markdown",
   "metadata": {},
   "source": [
    "Siden disse `x` og `y` er på samme format kan vi f.eks. addere dem sammen og lagre i en ny variabel som kan hete hva du vil, f.eks. `resultat`. "
   ]
  },
  {
   "cell_type": "code",
   "execution_count": 116,
   "metadata": {},
   "outputs": [],
   "source": [
    "resultat=x+y"
   ]
  },
  {
   "cell_type": "code",
   "execution_count": 117,
   "metadata": {},
   "outputs": [
    {
     "data": {
      "text/plain": [
       "8"
      ]
     },
     "execution_count": 117,
     "metadata": {},
     "output_type": "execute_result"
    }
   ],
   "source": [
    "resultat"
   ]
  },
  {
   "cell_type": "code",
   "execution_count": 38,
   "metadata": {},
   "outputs": [
    {
     "name": "stdout",
     "output_type": "stream",
     "text": [
      "15\n",
      "-2\n",
      "0.6\n"
     ]
    }
   ],
   "source": [
    "print(x+y) # Addere x og y samme\n",
    "print(x*y) # Eller gange dem sammen\n",
    "print(x-y) # Eller subtrahere dem \n",
    "print(x/y) # Eller dele dem\n"
   ]
  },
  {
   "cell_type": "markdown",
   "metadata": {},
   "source": [
    "Stort sett jobber man ikke med enkelt-tall, vanligvis har man lister eller matriser med verdier. Det kan f.eks. se ut slik som dette:"
   ]
  },
  {
   "cell_type": "code",
   "execution_count": 12,
   "metadata": {},
   "outputs": [
    {
     "data": {
      "text/plain": [
       "[1, 2, 3, 4, 5, 6]"
      ]
     },
     "execution_count": 12,
     "metadata": {},
     "output_type": "execute_result"
    }
   ],
   "source": [
    "z=[1,2,3,4,5,6] # Lag variabelen z\n",
    "z               # Skriv ut innholdet til variabelen z"
   ]
  },
  {
   "cell_type": "markdown",
   "metadata": {},
   "source": [
    "Listen `z` er på python sitt innebygde format for lister. Slike lister er en ok måte å lagre noen typer informasjon på, f.eks. indekser, men helst ikke faktiske data. Grunnen til dette er at vanlige matematiske vektorregler ikke gjelder. \n",
    "\n",
    "Hvis vi ganger `x` med `z` ville man forvente at alle elementene i `z` ble ganget med 3. Men dette er ikke det som skjer:"
   ]
  },
  {
   "cell_type": "code",
   "execution_count": 39,
   "metadata": {},
   "outputs": [
    {
     "data": {
      "text/plain": [
       "[1, 2, 3, 4, 5, 6, 1, 2, 3, 4, 5, 6, 1, 2, 3, 4, 5, 6]"
      ]
     },
     "execution_count": 39,
     "metadata": {},
     "output_type": "execute_result"
    }
   ],
   "source": [
    "x*z"
   ]
  },
  {
   "cell_type": "markdown",
   "metadata": {},
   "source": [
    "I stedet legges `x=3` versjoner av `z` seg etter hverandre.\n",
    "På grunn av dette styrer vi unna denne måten å lage lister på, og jobber heller med `numpy arrays`. Et array er det samme som en matrise. [Numpy](https://numpy.org/) er et bibliotek for matriseregning - dette er akkurat det vi trenger når vi skal jobbe med ekte datasett!\n",
    "\n",
    "I `numpy` definerer man en enkel vektor (en en-dimensjonal matrise) slik som dette:"
   ]
  },
  {
   "cell_type": "code",
   "execution_count": 48,
   "metadata": {},
   "outputs": [
    {
     "data": {
      "text/plain": [
       "array([1, 2, 3, 4, 5, 6])"
      ]
     },
     "execution_count": 48,
     "metadata": {},
     "output_type": "execute_result"
    }
   ],
   "source": [
    "arr1=np.array([1,2,3,4,5,6])\n",
    "arr1"
   ]
  },
  {
   "cell_type": "markdown",
   "metadata": {},
   "source": [
    "For `Numpy` gjelder vanlige vektorregler - vi kan addere `arr1` og `arr2`, men ikke `arr1` og `arr3`:"
   ]
  },
  {
   "cell_type": "code",
   "execution_count": 49,
   "metadata": {},
   "outputs": [
    {
     "name": "stdout",
     "output_type": "stream",
     "text": [
      "arr1+arr2: [ 6  5  8  6  9 12]\n"
     ]
    },
    {
     "ename": "ValueError",
     "evalue": "operands could not be broadcast together with shapes (6,) (4,) ",
     "output_type": "error",
     "traceback": [
      "\u001b[1;31m---------------------------------------------------------------------------\u001b[0m",
      "\u001b[1;31mValueError\u001b[0m                                Traceback (most recent call last)",
      "\u001b[1;32m<ipython-input-49-626f712bdd80>\u001b[0m in \u001b[0;36m<module>\u001b[1;34m\u001b[0m\n\u001b[0;32m      2\u001b[0m \u001b[0marr3\u001b[0m\u001b[1;33m=\u001b[0m\u001b[0mnp\u001b[0m\u001b[1;33m.\u001b[0m\u001b[0marray\u001b[0m\u001b[1;33m(\u001b[0m\u001b[1;33m[\u001b[0m\u001b[1;36m5\u001b[0m\u001b[1;33m,\u001b[0m\u001b[1;36m2\u001b[0m\u001b[1;33m,\u001b[0m\u001b[1;36m4\u001b[0m\u001b[1;33m,\u001b[0m\u001b[1;36m6\u001b[0m\u001b[1;33m]\u001b[0m\u001b[1;33m)\u001b[0m\u001b[1;33m\u001b[0m\u001b[1;33m\u001b[0m\u001b[0m\n\u001b[0;32m      3\u001b[0m \u001b[0mprint\u001b[0m\u001b[1;33m(\u001b[0m\u001b[1;34m'arr1+arr2:'\u001b[0m\u001b[1;33m,\u001b[0m\u001b[0marr1\u001b[0m\u001b[1;33m+\u001b[0m\u001b[0marr2\u001b[0m\u001b[1;33m)\u001b[0m\u001b[1;33m\u001b[0m\u001b[1;33m\u001b[0m\u001b[0m\n\u001b[1;32m----> 4\u001b[1;33m \u001b[0marr1\u001b[0m\u001b[1;33m+\u001b[0m\u001b[0marr3\u001b[0m\u001b[1;33m\u001b[0m\u001b[1;33m\u001b[0m\u001b[0m\n\u001b[0m",
      "\u001b[1;31mValueError\u001b[0m: operands could not be broadcast together with shapes (6,) (4,) "
     ]
    }
   ],
   "source": [
    "arr2=np.array([5,3,5,2,4,6])\n",
    "arr3=np.array([5,2,4,6])\n",
    "print('arr1+arr2:',arr1+arr2)\n",
    "arr1+arr3"
   ]
  },
  {
   "cell_type": "markdown",
   "metadata": {},
   "source": [
    "Hvis vi nå ganger `x` med `arr1` skjer det vi forventet da vi ganget `x` med `z`: alle elemetene i `arr1` blir ganget med 3:"
   ]
  },
  {
   "cell_type": "code",
   "execution_count": 50,
   "metadata": {},
   "outputs": [
    {
     "data": {
      "text/plain": [
       "array([ 3,  6,  9, 12, 15, 18])"
      ]
     },
     "execution_count": 50,
     "metadata": {},
     "output_type": "execute_result"
    }
   ],
   "source": [
    "x*arr1"
   ]
  },
  {
   "cell_type": "markdown",
   "metadata": {},
   "source": [
    "Ønsker man en matrise med f.eks. to dimensjoner kan man også bruke `np.array()`. Disse to dimensjonene kan være for tid og temperatur - slik som i datasettet dere skal jobbe med seinere. "
   ]
  },
  {
   "cell_type": "code",
   "execution_count": 51,
   "metadata": {},
   "outputs": [
    {
     "data": {
      "text/plain": [
       "array([[1, 2, 3],\n",
       "       [3, 4, 5]])"
      ]
     },
     "execution_count": 51,
     "metadata": {},
     "output_type": "execute_result"
    }
   ],
   "source": [
    "arr4=np.array([[1,2,3],[3,4,5]])\n",
    "arr4"
   ]
  },
  {
   "cell_type": "markdown",
   "metadata": {},
   "source": [
    "To veldig nyttige hjelpemiddel når man jobber med lister og matriser er `x.shape` og `len(x)`, der x er variabelen. Med `shape` sjekker man dimensjonene til et `array`, mens `len()` kan brukes til å sjekke lengden til en liste. "
   ]
  },
  {
   "cell_type": "code",
   "execution_count": 52,
   "metadata": {},
   "outputs": [
    {
     "data": {
      "text/plain": [
       "6"
      ]
     },
     "execution_count": 52,
     "metadata": {},
     "output_type": "execute_result"
    }
   ],
   "source": [
    "len(z) # listen `z` er len(z)=6 elementer lang"
   ]
  },
  {
   "cell_type": "code",
   "execution_count": 55,
   "metadata": {},
   "outputs": [
    {
     "data": {
      "text/plain": [
       "(6,)"
      ]
     },
     "execution_count": 55,
     "metadata": {},
     "output_type": "execute_result"
    }
   ],
   "source": [
    "arr1.shape # matrisen arr1 har kun 6 rader, altså er arr1 en vektor. "
   ]
  },
  {
   "cell_type": "code",
   "execution_count": 54,
   "metadata": {},
   "outputs": [
    {
     "data": {
      "text/plain": [
       "(2, 3)"
      ]
     },
     "execution_count": 54,
     "metadata": {},
     "output_type": "execute_result"
    }
   ],
   "source": [
    "arr4.shape # matrisen arr4 har 2 rader og 3 kolonner. "
   ]
  },
  {
   "cell_type": "markdown",
   "metadata": {},
   "source": [
    "Her kommer et viktig poeng: I python er **rader** første element og **kolonner** andre element. Når `shape` til matrisen/arrayet `arr4` er `(2,3)` betyr dette altså at `arr4` har **2 rader** og **3 kolonner**. Dette er viktig for indeksering - det kommer vi tilbake til i neste bolk. \n",
    "\n",
    "Tenk **R**ace **C**ar: **r**ows then **c**olumns."
   ]
  },
  {
   "cell_type": "markdown",
   "metadata": {},
   "source": [
    "#### Oppgave: \n",
    "- Lag tre variabler x, y, og z. Når du lager disse overskrives variablene vi laget over. La x og y være heltall eller desimaltall, og la z være et 1D-array. \n",
    "- Lag en ny variabel som er lik `x+y`. Print ut resultatet. \n",
    "- Lag enda en ny variabel som er lik variabelen `x+y` ganget med `z`. \n",
    "- Lag en ny variabel som er et 2D-array med 2 rader og 3 kolonner. Adder dette arrayet med arr4. \n",
    "- Lag et array med 4 rader og 2 kolonner. Sjekk at dimensjonene er riktige med `.shape`\n",
    "\n",
    "For å lage nye celler for å lage en variabel eller gjøre en beregning trykker du på `+`-tegnet oppe til venstre. "
   ]
  },
  {
   "cell_type": "code",
   "execution_count": null,
   "metadata": {},
   "outputs": [],
   "source": []
  },
  {
   "cell_type": "markdown",
   "metadata": {},
   "source": [
    "### Del 2: Indeksering\n",
    "Her er er par nyttige huskeregler for indeksering i python:\n",
    "- Første indeks er alltid 0. Har du f.eks. listen `x=[1,2,3,4,5,6]` vil `x[0]=1`. \n",
    "- Hvis du kun vil bruke de tre første elementene i x, så skriver du `x[0:3]`. \n",
    "- Hvis du kun vil bruke de to siste elementene i x, så skriver du `x[4:]`. Dette er det samme som `x[4:6]`. \n",
    "- Den siste indeksen du oppgir blir altså ikke med i resultatet: skriver du `x[2:5]` velger du ut element 2 til MEN IKKE MED element 5. \n",
    "\n",
    "Vi tar utgangspunkt i variablene vi lagde i forrige del, `arr1` som er 1D og `arr4` som er 2D.\n",
    "\n",
    "**1D-indeksering**"
   ]
  },
  {
   "cell_type": "code",
   "execution_count": 62,
   "metadata": {},
   "outputs": [
    {
     "data": {
      "text/plain": [
       "array([1, 2, 3, 4, 5, 6])"
      ]
     },
     "execution_count": 62,
     "metadata": {},
     "output_type": "execute_result"
    }
   ],
   "source": [
    "arr1"
   ]
  },
  {
   "cell_type": "markdown",
   "metadata": {},
   "source": [
    "Hvis vi skal ha tak i \n",
    "- første element i `arr1`\n",
    "- siste element i `arr1`\n",
    "- første til og med andre element i `arr1`\n",
    "- de tre siste elementene i `arr1`"
   ]
  },
  {
   "cell_type": "code",
   "execution_count": 65,
   "metadata": {},
   "outputs": [
    {
     "name": "stdout",
     "output_type": "stream",
     "text": [
      "1\n",
      "6\n",
      "[1 2]\n",
      "[4 5 6]\n"
     ]
    }
   ],
   "source": [
    "print(arr1[0])\n",
    "print(arr1[5])\n",
    "print(arr1[:2])\n",
    "print(arr1[3:])"
   ]
  },
  {
   "cell_type": "markdown",
   "metadata": {},
   "source": [
    "Man kan også starte indekseringen på slutten av matrisen og telle bakover. Dette er praktisk når man jobber med lange matriser, eller hvis man f.eks. vil ha tak i de ti siste elementene. Da er det lettere å lese koden om man teller baklengs. Syntaksen er slik: det siste elementet er `-1`. Det nest siste er `-2`. \n",
    "\n",
    "Hvis vi skal ha tak i det siste elementet i `arr1` har man altså to muligheter:"
   ]
  },
  {
   "cell_type": "code",
   "execution_count": 68,
   "metadata": {},
   "outputs": [
    {
     "name": "stdout",
     "output_type": "stream",
     "text": [
      "6\n",
      "6\n"
     ]
    }
   ],
   "source": [
    "print(arr1[5]) \n",
    "print(arr1[-1])"
   ]
  },
  {
   "cell_type": "markdown",
   "metadata": {},
   "source": [
    "Dersom `arr1` var f.eks. 23135 elementer langt er det mye ryddigere å skrive `arr1[-1]` enn `arr1[23134]`. Med `arr1[-1]` skjønner man med en gang at det er snakk om siste element. Med `arr1[23134]` må man vite på forhånd at `arr1` har 23135 elementer for å skjønne at det er siste element man er ute etter. \n",
    "\n",
    "For å ha tak i de tre siste elementene i `arr1` skriver man:"
   ]
  },
  {
   "cell_type": "code",
   "execution_count": 69,
   "metadata": {},
   "outputs": [
    {
     "data": {
      "text/plain": [
       "array([4, 5, 6])"
      ]
     },
     "execution_count": 69,
     "metadata": {},
     "output_type": "execute_result"
    }
   ],
   "source": [
    "arr1[-3:]"
   ]
  },
  {
   "cell_type": "markdown",
   "metadata": {},
   "source": [
    "#### Oppgave:\n",
    "- Lag et array `x` med numpy med 5 elementer. \n",
    "- Finn det første elementet i `x`\n",
    "- Finn element to til og med 4 i `x`. \n",
    "- Finn det siste elementet i `x` på to forskjellige måter.\n",
    "- Finn de tre siste elementene i `x` ved å telle baklengs. "
   ]
  },
  {
   "cell_type": "code",
   "execution_count": null,
   "metadata": {},
   "outputs": [],
   "source": []
  },
  {
   "cell_type": "markdown",
   "metadata": {},
   "source": [
    "**2D-indeksering**"
   ]
  },
  {
   "cell_type": "code",
   "execution_count": 70,
   "metadata": {},
   "outputs": [
    {
     "data": {
      "text/plain": [
       "array([[1, 2, 3],\n",
       "       [3, 4, 5]])"
      ]
     },
     "execution_count": 70,
     "metadata": {},
     "output_type": "execute_result"
    }
   ],
   "source": [
    "arr4"
   ]
  },
  {
   "cell_type": "markdown",
   "metadata": {},
   "source": [
    "Hvis vi skal ha tak i elementet på første rad i første kolonne av `arr4` skriver man:"
   ]
  },
  {
   "cell_type": "code",
   "execution_count": 71,
   "metadata": {},
   "outputs": [
    {
     "data": {
      "text/plain": [
       "1"
      ]
     },
     "execution_count": 71,
     "metadata": {},
     "output_type": "execute_result"
    }
   ],
   "source": [
    "arr4[0,0]"
   ]
  },
  {
   "cell_type": "markdown",
   "metadata": {},
   "source": [
    "For å få tak i elementene på\n",
    "- første rad og andre kolonne\n",
    "- første rad og andre til og med tredje kolonne\n",
    "- siste rad og nest siste til og med siste kolonne\n",
    "- begge rader og de to første kolonnene"
   ]
  },
  {
   "cell_type": "code",
   "execution_count": 76,
   "metadata": {},
   "outputs": [
    {
     "name": "stdout",
     "output_type": "stream",
     "text": [
      "1) 2\n",
      "2) [2 3]\n",
      "3) [4 5]\n",
      "4) [[1 2]\n",
      " [3 4]]\n"
     ]
    }
   ],
   "source": [
    "print('1)', arr4[0,1])\n",
    "print('2)', arr4[0,1:])\n",
    "print('3)', arr4[1,-2:])\n",
    "print('4)', arr4[:,:2])"
   ]
  },
  {
   "cell_type": "markdown",
   "metadata": {},
   "source": [
    "#### Oppgave:\n",
    "- Lag et nytt array `y` med tre rader og 4 kolonner. \n",
    "- Finn elementene på første rad og de tre første kolonnene\n",
    "- Finn elementene på de to siste radene og den siste kolonnen på to forskjellige måter. \n"
   ]
  },
  {
   "cell_type": "code",
   "execution_count": null,
   "metadata": {},
   "outputs": [],
   "source": []
  },
  {
   "cell_type": "markdown",
   "metadata": {},
   "source": [
    "### Del 3: Last inn et ekte datasett\n",
    "I denne delen laster vi inn et datasett med årlig temperatur i Bergen siden 1861. Vi bruker en funksjon som heter `loadData` som er definert i filen \"EkteDataFunk.py\". Denne filen er en del av alt dere har lestet ned, og filen \"TempBergenYearlyNonan.txt\" ligger i mappen \"data\"."
   ]
  },
  {
   "cell_type": "code",
   "execution_count": 77,
   "metadata": {},
   "outputs": [],
   "source": [
    "from EkteDataFunk import loadData # for filinnlasting"
   ]
  },
  {
   "cell_type": "code",
   "execution_count": 82,
   "metadata": {},
   "outputs": [
    {
     "data": {
      "text/plain": [
       "array([[1861.        ,    8.33636364],\n",
       "       [1862.        ,    7.71666667],\n",
       "       [1863.        ,    7.75833333],\n",
       "       [1864.        ,    6.86666667],\n",
       "       [1865.        ,    7.225     ],\n",
       "       [1866.        ,    7.41666667],\n",
       "       [1867.        ,    6.55      ],\n",
       "       [1868.        ,    7.975     ],\n",
       "       [1869.        ,    6.45      ],\n",
       "       [1870.        ,    6.575     ],\n",
       "       [1871.        ,    7.64545455],\n",
       "       [1872.        ,    8.275     ],\n",
       "       [1873.        ,    7.83333333],\n",
       "       [1874.        ,    7.175     ],\n",
       "       [1875.        ,    7.01666667],\n",
       "       [1876.        ,    6.78333333],\n",
       "       [1877.        ,    6.55      ],\n",
       "       [1878.        ,    7.06666667],\n",
       "       [1879.        ,    6.69166667],\n",
       "       [1880.        ,    7.53333333],\n",
       "       [1881.        ,    6.36666667],\n",
       "       [1882.        ,    7.9       ],\n",
       "       [1883.        ,    7.6       ],\n",
       "       [1884.        ,    8.20833333],\n",
       "       [1885.        ,    6.70833333],\n",
       "       [1886.        ,    6.83333333],\n",
       "       [1887.        ,    6.99166667],\n",
       "       [1888.        ,    6.55      ],\n",
       "       [1889.        ,    7.925     ],\n",
       "       [1890.        ,    7.78333333],\n",
       "       [1891.        ,    7.73333333],\n",
       "       [1892.        ,    6.26666667],\n",
       "       [1893.        ,    7.49166667],\n",
       "       [1894.        ,    8.33333333],\n",
       "       [1895.        ,    6.75833333],\n",
       "       [1896.        ,    7.40833333],\n",
       "       [1897.        ,    7.25      ],\n",
       "       [1898.        ,    7.15      ],\n",
       "       [1899.        ,    6.96666667],\n",
       "       [1900.        ,    6.70833333],\n",
       "       [1901.        ,    7.675     ],\n",
       "       [1902.        ,    6.40833333],\n",
       "       [1903.        ,    7.18333333],\n",
       "       [1904.        ,    6.89166667],\n",
       "       [1905.        ,    7.08333333],\n",
       "       [1906.        ,    7.38333333],\n",
       "       [1907.        ,    6.95      ],\n",
       "       [1908.        ,    7.575     ],\n",
       "       [1909.        ,    6.53333333],\n",
       "       [1910.        ,    7.79166667],\n",
       "       [1911.        ,    7.56666667],\n",
       "       [1912.        ,    7.59166667],\n",
       "       [1913.        ,    7.81666667],\n",
       "       [1914.        ,    7.93333333],\n",
       "       [1915.        ,    5.95833333],\n",
       "       [1916.        ,    7.1       ],\n",
       "       [1917.        ,    6.60833333],\n",
       "       [1918.        ,    7.5       ],\n",
       "       [1919.        ,    6.125     ],\n",
       "       [1920.        ,    7.68333333],\n",
       "       [1921.        ,    7.2       ],\n",
       "       [1922.        ,    6.425     ],\n",
       "       [1923.        ,    6.46666667],\n",
       "       [1924.        ,    7.28333333],\n",
       "       [1925.        ,    7.85833333],\n",
       "       [1926.        ,    7.73333333],\n",
       "       [1927.        ,    7.19166667],\n",
       "       [1928.        ,    7.14166667],\n",
       "       [1929.        ,    7.04166667],\n",
       "       [1930.        ,    8.50833333],\n",
       "       [1931.        ,    6.70833333],\n",
       "       [1932.        ,    7.58333333],\n",
       "       [1933.        ,    8.25833333],\n",
       "       [1934.        ,    8.55833333],\n",
       "       [1935.        ,    7.69166667],\n",
       "       [1936.        ,    8.275     ],\n",
       "       [1937.        ,    7.98333333],\n",
       "       [1938.        ,    8.30833333],\n",
       "       [1939.        ,    8.23333333],\n",
       "       [1940.        ,    7.10833333],\n",
       "       [1941.        ,    6.975     ],\n",
       "       [1942.        ,    6.475     ],\n",
       "       [1943.        ,    8.2       ],\n",
       "       [1944.        ,    7.75833333],\n",
       "       [1945.        ,    8.275     ],\n",
       "       [1946.        ,    7.93333333],\n",
       "       [1947.        ,    7.94166667],\n",
       "       [1948.        ,    8.15833333],\n",
       "       [1949.        ,    8.125     ],\n",
       "       [1950.        ,    8.275     ],\n",
       "       [1951.        ,    7.6       ],\n",
       "       [1952.        ,    7.125     ],\n",
       "       [1953.        ,    8.625     ],\n",
       "       [1954.        ,    7.70833333],\n",
       "       [1955.        ,    7.3       ],\n",
       "       [1956.        ,    7.225     ],\n",
       "       [1957.        ,    7.93333333],\n",
       "       [1958.        ,    7.4       ],\n",
       "       [1959.        ,    8.56666667],\n",
       "       [1960.        ,    8.18333333],\n",
       "       [1961.        ,    8.25833333],\n",
       "       [1962.        ,    7.01666667],\n",
       "       [1963.        ,    7.23333333],\n",
       "       [1964.        ,    7.525     ],\n",
       "       [1965.        ,    7.25      ],\n",
       "       [1966.        ,    6.90833333],\n",
       "       [1967.        ,    7.725     ],\n",
       "       [1968.        ,    7.48333333],\n",
       "       [1969.        ,    7.4       ],\n",
       "       [1970.        ,    7.09166667],\n",
       "       [1971.        ,    7.775     ],\n",
       "       [1972.        ,    7.83333333],\n",
       "       [1973.        ,    7.39166667],\n",
       "       [1974.        ,    8.59166667],\n",
       "       [1975.        ,    8.20833333],\n",
       "       [1976.        ,    7.5       ],\n",
       "       [1977.        ,    7.46666667],\n",
       "       [1978.        ,    7.36666667],\n",
       "       [1979.        ,    6.40833333],\n",
       "       [1980.        ,    7.675     ],\n",
       "       [1981.        ,    6.9       ],\n",
       "       [1982.        ,    8.1       ],\n",
       "       [1983.        ,    7.78333333],\n",
       "       [1984.        ,    7.95833333],\n",
       "       [1985.        ,    6.8       ],\n",
       "       [1986.        ,    7.10833333],\n",
       "       [1987.        ,    7.23333333],\n",
       "       [1988.        ,    8.225     ],\n",
       "       [1989.        ,    8.475     ],\n",
       "       [1990.        ,    8.91666667],\n",
       "       [1991.        ,    8.15833333],\n",
       "       [1992.        ,    8.53333333],\n",
       "       [1993.        ,    7.56666667],\n",
       "       [1994.        ,    7.675     ],\n",
       "       [1995.        ,    7.75      ],\n",
       "       [1996.        ,    7.16666667],\n",
       "       [1997.        ,    8.59166667],\n",
       "       [1998.        ,    7.975     ],\n",
       "       [1999.        ,    8.575     ],\n",
       "       [2000.        ,    8.81666667],\n",
       "       [2001.        ,    7.68333333],\n",
       "       [2002.        ,    8.71666667],\n",
       "       [2003.        ,    8.73333333],\n",
       "       [2004.        ,    8.55      ],\n",
       "       [2005.        ,    8.4       ],\n",
       "       [2006.        ,    9.31666667],\n",
       "       [2007.        ,    8.4       ],\n",
       "       [2008.        ,    8.875     ],\n",
       "       [2009.        ,    8.6       ],\n",
       "       [2010.        ,    6.36666667],\n",
       "       [2011.        ,    8.78333333],\n",
       "       [2012.        ,    7.83333333],\n",
       "       [2013.        ,    7.96666667],\n",
       "       [2014.        ,    9.90833333],\n",
       "       [2015.        ,    8.73333333],\n",
       "       [2016.        ,    8.6       ],\n",
       "       [2017.        ,    8.625     ],\n",
       "       [2018.        ,    8.69166667],\n",
       "       [2019.        ,    8.83333333],\n",
       "       [2020.        ,    9.43333333]])"
      ]
     },
     "execution_count": 82,
     "metadata": {},
     "output_type": "execute_result"
    }
   ],
   "source": [
    "file='TempBergenYearlyNonan.txt' # Navnet på filen vi skal laste inn\n",
    "data = loadData(file, rydd='N')  # Bruk funksjonen loadData til å laste inn filen\n",
    "\n",
    "data   # Dette printer ut alle verdiene i \"data\""
   ]
  },
  {
   "cell_type": "markdown",
   "metadata": {},
   "source": [
    "Variabelen `data` er på nøyaktig samme format som arrayet `arr4` vi så på over. Forskjellen er at `arr4` hadde to rader og tre kolonner, mens `data` har 160 rader og to kolonner.  "
   ]
  },
  {
   "cell_type": "code",
   "execution_count": 84,
   "metadata": {},
   "outputs": [
    {
     "name": "stdout",
     "output_type": "stream",
     "text": [
      "(2, 3)\n"
     ]
    },
    {
     "data": {
      "text/plain": [
       "(160, 2)"
      ]
     },
     "execution_count": 84,
     "metadata": {},
     "output_type": "execute_result"
    }
   ],
   "source": [
    "print(arr4.shape)\n",
    "data.shape"
   ]
  },
  {
   "cell_type": "markdown",
   "metadata": {},
   "source": [
    "Nå kan vi bruke det vi har gått gjennom om variabler og indeksering til å lage to nye variabler: en over årene, altså alle radene i den første kolonnen, og en over temperaturen, altså alle radene i den andre kolonnen. "
   ]
  },
  {
   "cell_type": "code",
   "execution_count": 87,
   "metadata": {},
   "outputs": [
    {
     "data": {
      "text/plain": [
       "array([1861., 1862., 1863., 1864., 1865., 1866., 1867., 1868., 1869.,\n",
       "       1870., 1871., 1872., 1873., 1874., 1875., 1876., 1877., 1878.,\n",
       "       1879., 1880., 1881., 1882., 1883., 1884., 1885., 1886., 1887.,\n",
       "       1888., 1889., 1890., 1891., 1892., 1893., 1894., 1895., 1896.,\n",
       "       1897., 1898., 1899., 1900., 1901., 1902., 1903., 1904., 1905.,\n",
       "       1906., 1907., 1908., 1909., 1910., 1911., 1912., 1913., 1914.,\n",
       "       1915., 1916., 1917., 1918., 1919., 1920., 1921., 1922., 1923.,\n",
       "       1924., 1925., 1926., 1927., 1928., 1929., 1930., 1931., 1932.,\n",
       "       1933., 1934., 1935., 1936., 1937., 1938., 1939., 1940., 1941.,\n",
       "       1942., 1943., 1944., 1945., 1946., 1947., 1948., 1949., 1950.,\n",
       "       1951., 1952., 1953., 1954., 1955., 1956., 1957., 1958., 1959.,\n",
       "       1960., 1961., 1962., 1963., 1964., 1965., 1966., 1967., 1968.,\n",
       "       1969., 1970., 1971., 1972., 1973., 1974., 1975., 1976., 1977.,\n",
       "       1978., 1979., 1980., 1981., 1982., 1983., 1984., 1985., 1986.,\n",
       "       1987., 1988., 1989., 1990., 1991., 1992., 1993., 1994., 1995.,\n",
       "       1996., 1997., 1998., 1999., 2000., 2001., 2002., 2003., 2004.,\n",
       "       2005., 2006., 2007., 2008., 2009., 2010., 2011., 2012., 2013.,\n",
       "       2014., 2015., 2016., 2017., 2018., 2019., 2020.])"
      ]
     },
     "execution_count": 87,
     "metadata": {},
     "output_type": "execute_result"
    }
   ],
   "source": [
    "tid=data[:,0] # alle rader, første kolonne\n",
    "tid"
   ]
  },
  {
   "cell_type": "code",
   "execution_count": 88,
   "metadata": {},
   "outputs": [
    {
     "data": {
      "text/plain": [
       "array([8.33636364, 7.71666667, 7.75833333, 6.86666667, 7.225     ,\n",
       "       7.41666667, 6.55      , 7.975     , 6.45      , 6.575     ,\n",
       "       7.64545455, 8.275     , 7.83333333, 7.175     , 7.01666667,\n",
       "       6.78333333, 6.55      , 7.06666667, 6.69166667, 7.53333333,\n",
       "       6.36666667, 7.9       , 7.6       , 8.20833333, 6.70833333,\n",
       "       6.83333333, 6.99166667, 6.55      , 7.925     , 7.78333333,\n",
       "       7.73333333, 6.26666667, 7.49166667, 8.33333333, 6.75833333,\n",
       "       7.40833333, 7.25      , 7.15      , 6.96666667, 6.70833333,\n",
       "       7.675     , 6.40833333, 7.18333333, 6.89166667, 7.08333333,\n",
       "       7.38333333, 6.95      , 7.575     , 6.53333333, 7.79166667,\n",
       "       7.56666667, 7.59166667, 7.81666667, 7.93333333, 5.95833333,\n",
       "       7.1       , 6.60833333, 7.5       , 6.125     , 7.68333333,\n",
       "       7.2       , 6.425     , 6.46666667, 7.28333333, 7.85833333,\n",
       "       7.73333333, 7.19166667, 7.14166667, 7.04166667, 8.50833333,\n",
       "       6.70833333, 7.58333333, 8.25833333, 8.55833333, 7.69166667,\n",
       "       8.275     , 7.98333333, 8.30833333, 8.23333333, 7.10833333,\n",
       "       6.975     , 6.475     , 8.2       , 7.75833333, 8.275     ,\n",
       "       7.93333333, 7.94166667, 8.15833333, 8.125     , 8.275     ,\n",
       "       7.6       , 7.125     , 8.625     , 7.70833333, 7.3       ,\n",
       "       7.225     , 7.93333333, 7.4       , 8.56666667, 8.18333333,\n",
       "       8.25833333, 7.01666667, 7.23333333, 7.525     , 7.25      ,\n",
       "       6.90833333, 7.725     , 7.48333333, 7.4       , 7.09166667,\n",
       "       7.775     , 7.83333333, 7.39166667, 8.59166667, 8.20833333,\n",
       "       7.5       , 7.46666667, 7.36666667, 6.40833333, 7.675     ,\n",
       "       6.9       , 8.1       , 7.78333333, 7.95833333, 6.8       ,\n",
       "       7.10833333, 7.23333333, 8.225     , 8.475     , 8.91666667,\n",
       "       8.15833333, 8.53333333, 7.56666667, 7.675     , 7.75      ,\n",
       "       7.16666667, 8.59166667, 7.975     , 8.575     , 8.81666667,\n",
       "       7.68333333, 8.71666667, 8.73333333, 8.55      , 8.4       ,\n",
       "       9.31666667, 8.4       , 8.875     , 8.6       , 6.36666667,\n",
       "       8.78333333, 7.83333333, 7.96666667, 9.90833333, 8.73333333,\n",
       "       8.6       , 8.625     , 8.69166667, 8.83333333, 9.43333333])"
      ]
     },
     "execution_count": 88,
     "metadata": {},
     "output_type": "execute_result"
    }
   ],
   "source": [
    "temp=data[:,1] # alle rader, andre kolonne\n",
    "temp"
   ]
  },
  {
   "cell_type": "markdown",
   "metadata": {},
   "source": [
    "For å få litt oversikt over den årlige temperaturen i Bergen siden 1861 kan det være nyttig å se på verdier som gjennomsnitt, maksverdi, minverdi, og standardavvik. `Numpy` har innebygde funksjoner for dette:"
   ]
  },
  {
   "cell_type": "code",
   "execution_count": 90,
   "metadata": {},
   "outputs": [
    {
     "data": {
      "text/plain": [
       "7.6283759469696975"
      ]
     },
     "execution_count": 90,
     "metadata": {},
     "output_type": "execute_result"
    }
   ],
   "source": [
    "np.mean(temp)"
   ]
  },
  {
   "cell_type": "code",
   "execution_count": 94,
   "metadata": {},
   "outputs": [
    {
     "name": "stdout",
     "output_type": "stream",
     "text": [
      "Gjennomsnittstemperatur:  7.6283759469696975 ℃\n",
      "Maks-temperatur:  9.908333333333333 ℃\n",
      "Min-temperatur:  5.958333333333332 ℃\n",
      "Standardavvik:  0.7350653423327863 ℃\n"
     ]
    }
   ],
   "source": [
    "print('Gjennomsnittstemperatur: ', np.mean(temp), '\\u2103')\n",
    "print('Maks-temperatur: ', np.max(temp), '\\u2103')\n",
    "print('Min-temperatur: ', np.min(temp), '\\u2103')\n",
    "print('Standardavvik: ', np.std(temp), '\\u2103')"
   ]
  },
  {
   "cell_type": "markdown",
   "metadata": {},
   "source": [
    "De nye variablene `temp` og `tid` kan indekseres på samme måte som i eksemplene over. Skal vi f.eks. beregne gjennomsnittet av de 10 første årene gjør vi som dette: "
   ]
  },
  {
   "cell_type": "code",
   "execution_count": 95,
   "metadata": {},
   "outputs": [
    {
     "data": {
      "text/plain": [
       "7.286969696969697"
      ]
     },
     "execution_count": 95,
     "metadata": {},
     "output_type": "execute_result"
    }
   ],
   "source": [
    "np.mean(temp[:10])"
   ]
  },
  {
   "cell_type": "markdown",
   "metadata": {},
   "source": [
    "Som en test på at dette faktisk er gjennomsnittet av de ti første årene kan du sjekke lengden av `temp[:10]`:"
   ]
  },
  {
   "cell_type": "code",
   "execution_count": 96,
   "metadata": {},
   "outputs": [
    {
     "data": {
      "text/plain": [
       "(10,)"
      ]
     },
     "execution_count": 96,
     "metadata": {},
     "output_type": "execute_result"
    }
   ],
   "source": [
    "temp[:10].shape"
   ]
  },
  {
   "cell_type": "markdown",
   "metadata": {},
   "source": [
    "#### Oppgave: \n",
    "- Finn gjennomsnittstemperatur og standardavvik for de 50 første årene.\n",
    "- Finn gjennomsnittstemperatur og standardavvik for de 50 siste årene.\n"
   ]
  },
  {
   "cell_type": "code",
   "execution_count": null,
   "metadata": {},
   "outputs": [],
   "source": []
  },
  {
   "cell_type": "markdown",
   "metadata": {},
   "source": [
    "Selv om variabler som gjennomsnitt er nyttige for å beskrive en variabel som temperatur er det vanskelig å få et ordentlig inntrykk av hvordan den årlige temperaturen siden 1861 har variert kun ved å se på verdier slik som dette. Det beste er å se på en figur av tidsserien. "
   ]
  },
  {
   "cell_type": "markdown",
   "metadata": {},
   "source": [
    "#### Del 4: Lag en figur\n",
    "Akkurat som at vi trengte biblioteket `Numpy` for å lage matriser og utføre matematiske operasjoner som å ginne gjennomsnitt trenger vi et bibliotek for å lage figurer. Vi bruker `matplotlib`."
   ]
  },
  {
   "cell_type": "code",
   "execution_count": 100,
   "metadata": {},
   "outputs": [],
   "source": [
    "import matplotlib.pyplot as plt"
   ]
  },
  {
   "cell_type": "code",
   "execution_count": 104,
   "metadata": {},
   "outputs": [
    {
     "data": {
      "text/plain": [
       "[<matplotlib.lines.Line2D at 0x2ce38091100>]"
      ]
     },
     "execution_count": 104,
     "metadata": {},
     "output_type": "execute_result"
    },
    {
     "data": {
      "image/png": "[encoded data removed]",
      "text/plain": [
       "<Figure size 432x288 with 1 Axes>"
      ]
     },
     "metadata": {
      "needs_background": "light"
     },
     "output_type": "display_data"
    }
   ],
   "source": [
    "plt.plot(tid, temp)"
   ]
  },
  {
   "cell_type": "markdown",
   "metadata": {},
   "source": [
    "Figuren over gjenspeiler det vi fant med å beregne gjennomsnitt: de første 50 årene var kaldere enn de siste 50 årene, makstemperatur er nesten 10 grader, min temperatur er ca 6 grader, og verdiene holder seg stort sett under en grad unna gjennomsnittet. Men vi får mye mer informasjon på kjøpet, som *når* det var varmest og kaldest, og at temperaturen ikke har økt jevnt. \n",
    "\n",
    "Figurer bør imidlertid alltid kunne forstår uten særlig mye tilhørende tekst - vi må legge på tittel, navn på aksene etc. "
   ]
  },
  {
   "cell_type": "code",
   "execution_count": 109,
   "metadata": {},
   "outputs": [
    {
     "data": {
      "image/png": "[encoded data removed]",
      "text/plain": [
       "<Figure size 432x288 with 1 Axes>"
      ]
     },
     "metadata": {
      "needs_background": "light"
     },
     "output_type": "display_data"
    }
   ],
   "source": [
    "plt.plot(tid, temp)\n",
    "plt.title('Gjennomsnittlig årsnedbør Bergen')\n",
    "plt.xlabel('År')\n",
    "plt.ylabel('Temperatur [\\u2103]')\n",
    "plt.xlim(tid[0], tid[-1]) # Dette avgrenser x-aksen slik at det ikke er\n",
    "                          # \"whitespace\" på endene slik som i figuren over\n",
    "plt.show() # Dette gjør bare at informasjon om forrige linje ikke printes ut. \n",
    "           # Du kan kommentere den ut og kjøre denne cellen på nytt for å se"
   ]
  },
  {
   "cell_type": "markdown",
   "metadata": {},
   "source": [
    "Man kan lage en figur over kun en del av datasettet ved å indeksere på samme måte som vi har gjort over. For å f.eks kun plotte de 100 siste årene gjør man som dette:"
   ]
  },
  {
   "cell_type": "code",
   "execution_count": 112,
   "metadata": {},
   "outputs": [
    {
     "data": {
      "image/png": "[encoded data removed]",
      "text/plain": [
       "<Figure size 432x288 with 1 Axes>"
      ]
     },
     "metadata": {
      "needs_background": "light"
     },
     "output_type": "display_data"
    }
   ],
   "source": [
    "plt.plot(tid[-100:], temp[-100:])\n",
    "plt.title('Gjennomsnittlig årsnedbør Bergen')\n",
    "plt.xlabel('År')\n",
    "plt.ylabel('Temperatur [\\u2103]')\n",
    "plt.xlim(tid[-100], tid[-1]) \n",
    "plt.show()"
   ]
  },
  {
   "cell_type": "markdown",
   "metadata": {},
   "source": [
    "Man kan også plotte flere linjer i samme figur. Da bare legger man til en linje med `plt.plot()` for hver ting man vil plotte. plottelinjene lages da i den rekkefølgen man skriver dem:"
   ]
  },
  {
   "cell_type": "code",
   "execution_count": 115,
   "metadata": {},
   "outputs": [
    {
     "data": {
      "image/png": "[encoded data removed]",
      "text/plain": [
       "<Figure size 432x288 with 1 Axes>"
      ]
     },
     "metadata": {
      "needs_background": "light"
     },
     "output_type": "display_data"
    }
   ],
   "source": [
    "plt.plot(tid, temp)\n",
    "plt.plot(tid[-100:], temp[-100:])\n",
    "plt.hlines(np.mean(temp), tid[0], tid[-1], color='red')\n",
    "plt.title('Gjennomsnittlig årsnedbør Bergen')\n",
    "plt.xlabel('År')\n",
    "plt.ylabel('Temperatur [\\u2103]')\n",
    "plt.xlim(tid[0], tid[-1]) \n",
    "plt.show()"
   ]
  },
  {
   "cell_type": "markdown",
   "metadata": {},
   "source": [
    "Den oransje linjen er nå de 100 siste årene og er plottet oppå den blå linjen som viser hele tidsserien. Den røde linjen viser gjennomsnittet til hele tidsserien. For å lage denne bruker vi funksjonen `plt.hlines()` som står for \"horizontal lines\". Man gir funksjonen 1) y-verdien linjen skal krysse, 2) startverdien til linjen, og 3) sluttverdien til linjen langs x-aksen. I eksempelet over er dette 1) `np.mean(temp)`, 2) `tid[0]`, og 3) `tid[-1]`."
   ]
  },
  {
   "cell_type": "markdown",
   "metadata": {},
   "source": [
    "#### Oppgave:\n",
    "Lag en figur som viser disse tingene:\n",
    "- hele tidsserien\n",
    "- de første 75 årene\n",
    "- gjennomsnittet til hele tidsserien\n",
    "- gjennomsnittet til de 75 første årene. \n",
    "\n",
    "Lag så en ny figur som viser \n",
    "- årene fra det 50ende året frem til det 50ende siste året\n",
    "- gjennomsnittet til denne perioden\n",
    "- gjennomsnittet pluss og minus standardavviket til denne perioden. "
   ]
  },
  {
   "cell_type": "code",
   "execution_count": null,
   "metadata": {},
   "outputs": [],
   "source": []
  }
 ],
 "metadata": {
  "kernelspec": {
   "display_name": "Python 3",
   "language": "python",
   "name": "python3"
  },
  "language_info": {
   "codemirror_mode": {
    "name": "ipython",
    "version": 3
   },
   "file_extension": ".py",
   "mimetype": "text/x-python",
   "name": "python",
   "nbconvert_exporter": "python",
   "pygments_lexer": "ipython3",
   "version": "3.8.5"
  }
 },
 "nbformat": 4,
 "nbformat_minor": 4
}

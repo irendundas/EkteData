{
 "cells": [
  {
   "cell_type": "markdown",
   "metadata": {},
   "source": [
    "# Rydd datasettet ditt\n",
    "\n",
    "I denne oppgaven går vi gjennom et eksempel på:\n",
    "- Hvordan man kan gå frem for å få oversikten over datasettet man skal bruke, og\n",
    "- Hvordan man kan rydde i det om nødvendig (og når og hvorfor det i blant er nødvendig).\n",
    "\n",
    "Når man jobber med datasett med observasjoner fra naturen er det ofte slik at man mangler et par verdier. Har man f.eks. en gammel tidsserie over snødybde på et gitt sted kan det være at en dag mangler fordi det var storm og utrygt å gå ut for å måle snødybden. I dag har vi mange metoder for å automatisk hente inn data, men hull kan likevel oppstå i et datasett. Et skydekke vil hindre noen satellitter i å ta målinger, en alge kan legge seg over en sensor i havet og bli skylt vekk av en sterk strøm dager eller uker seinere, eller en is- eller sediment-kjerne kan knekke nettopp der du hadde tenkt å bore et hull for å måle temperatur. Mye kan skje, og det er viktig å sjekke om datasettet du skal bruke er \"good to go\" eller om det krever en gjennomgang før det kan brukes. \n",
    "\n",
    "I dette eksempelet bruker vi en tidsserie over temperatur i Bergen siden 1861. Datasettet har to kolonner: år og gjennomsnitlig års-temperatur."
   ]
  },
  {
   "cell_type": "code",
   "execution_count": 1,
   "metadata": {},
   "outputs": [],
   "source": [
    "import numpy as np # for matematikk, filinnlasting mm.\n",
    "import matplotlib.pyplot as plt # for figurer\n",
    "from EkteDataFunk import loadData # for filinnlasting"
   ]
  },
  {
   "cell_type": "markdown",
   "metadata": {},
   "source": [
    "Last inn datasettet. Vi bruker funksjonen loadData som ligger i GitHub mappen til Ekte Data. Vi setter `rydd = 'N'` for at funksjonen ikke skal rydde datasettet automatisk. \n"
   ]
  },
  {
   "cell_type": "code",
   "execution_count": 2,
   "metadata": {},
   "outputs": [],
   "source": [
    "file='TempBergenYearly.txt'\n",
    "data = loadData(file, rydd='N')\n"
   ]
  },
  {
   "cell_type": "markdown",
   "metadata": {},
   "source": [
    "Nå er filen lastet inn, og innholdet er lagret i variabelen `data`. Vi skriver den ut for å sjekke hvordan dataene våre er strukturert."
   ]
  },
  {
   "cell_type": "code",
   "execution_count": 3,
   "metadata": {},
   "outputs": [
    {
     "data": {
      "text/plain": [
       "array([[1861.        , -999.99      ],\n",
       "       [1862.        ,    7.71666667],\n",
       "       [1863.        ,    7.75833333],\n",
       "       [1864.        ,    6.86666667],\n",
       "       [1865.        ,    7.225     ],\n",
       "       [1866.        ,    7.41666667],\n",
       "       [1867.        ,    6.55      ],\n",
       "       [1868.        ,    7.975     ],\n",
       "       [1869.        ,    6.45      ],\n",
       "       [1870.        ,    6.575     ],\n",
       "       [1871.        , -999.99      ],\n",
       "       [1872.        , -999.99      ],\n",
       "       [1873.        ,    7.83333333],\n",
       "       [1874.        ,    7.175     ],\n",
       "       [1875.        ,    7.01666667],\n",
       "       [1876.        ,    6.78333333],\n",
       "       [1877.        ,    6.55      ],\n",
       "       [1878.        , -999.99      ],\n",
       "       [1879.        ,    6.69166667],\n",
       "       [1880.        ,    7.53333333],\n",
       "       [1881.        ,    6.36666667],\n",
       "       [1882.        ,    7.9       ],\n",
       "       [1883.        ,    7.6       ],\n",
       "       [1884.        ,    8.20833333],\n",
       "       [1885.        ,    6.70833333],\n",
       "       [1886.        ,    6.83333333],\n",
       "       [1887.        ,    6.99166667],\n",
       "       [1888.        ,    6.55      ],\n",
       "       [1889.        ,    7.925     ],\n",
       "       [1890.        ,    7.78333333],\n",
       "       [1891.        ,    7.73333333],\n",
       "       [1892.        ,    6.26666667],\n",
       "       [1893.        ,    7.49166667],\n",
       "       [1894.        ,    8.33333333],\n",
       "       [1895.        , -999.99      ],\n",
       "       [1896.        ,    7.40833333],\n",
       "       [1897.        ,    7.25      ],\n",
       "       [1898.        ,    7.15      ],\n",
       "       [1899.        ,    6.96666667],\n",
       "       [1900.        ,    6.70833333],\n",
       "       [1901.        ,    7.675     ],\n",
       "       [1902.        ,    6.40833333],\n",
       "       [1903.        ,    7.18333333],\n",
       "       [1904.        ,    6.89166667],\n",
       "       [1905.        ,    7.08333333],\n",
       "       [1906.        ,    7.38333333],\n",
       "       [1907.        ,    6.95      ],\n",
       "       [1908.        ,    7.575     ],\n",
       "       [1909.        ,    6.53333333],\n",
       "       [1910.        ,    7.79166667],\n",
       "       [1911.        ,    7.56666667],\n",
       "       [1912.        ,    7.59166667],\n",
       "       [1913.        ,    7.81666667],\n",
       "       [1914.        ,    7.93333333],\n",
       "       [1915.        ,    5.95833333],\n",
       "       [1916.        ,    7.1       ],\n",
       "       [1917.        , -999.99      ],\n",
       "       [1918.        ,    7.5       ],\n",
       "       [1919.        ,    6.125     ],\n",
       "       [1920.        ,    7.68333333],\n",
       "       [1921.        ,    7.2       ],\n",
       "       [1922.        ,    6.425     ],\n",
       "       [1923.        ,    6.46666667],\n",
       "       [1924.        ,    7.28333333],\n",
       "       [1925.        ,    7.85833333],\n",
       "       [1926.        , -999.99      ],\n",
       "       [1927.        ,    7.19166667],\n",
       "       [1928.        ,    7.14166667],\n",
       "       [1929.        , -999.99      ],\n",
       "       [1930.        , -999.99      ],\n",
       "       [1931.        ,    6.70833333],\n",
       "       [1932.        ,    7.58333333],\n",
       "       [1933.        ,    8.25833333],\n",
       "       [1934.        ,    8.55833333],\n",
       "       [1935.        ,    7.69166667],\n",
       "       [1936.        ,    8.275     ],\n",
       "       [1937.        ,    7.98333333],\n",
       "       [1938.        ,    8.30833333],\n",
       "       [1939.        , -999.99      ],\n",
       "       [1940.        ,    7.10833333],\n",
       "       [1941.        ,    6.975     ],\n",
       "       [1942.        , -999.99      ],\n",
       "       [1943.        ,    8.2       ],\n",
       "       [1944.        , -999.99      ],\n",
       "       [1945.        ,    8.275     ],\n",
       "       [1946.        ,    7.93333333],\n",
       "       [1947.        ,    7.94166667],\n",
       "       [1948.        ,    8.15833333],\n",
       "       [1949.        ,    8.125     ],\n",
       "       [1950.        ,    8.275     ],\n",
       "       [1951.        ,    7.6       ],\n",
       "       [1952.        ,    7.125     ],\n",
       "       [1953.        ,    8.625     ],\n",
       "       [1954.        ,    7.70833333],\n",
       "       [1955.        ,    7.3       ],\n",
       "       [1956.        ,    7.225     ],\n",
       "       [1957.        ,    7.93333333],\n",
       "       [1958.        ,    7.4       ],\n",
       "       [1959.        ,    8.56666667],\n",
       "       [1960.        , -999.99      ],\n",
       "       [1961.        ,    8.25833333],\n",
       "       [1962.        ,    7.01666667],\n",
       "       [1963.        ,    7.23333333],\n",
       "       [1964.        ,    7.525     ],\n",
       "       [1965.        ,    7.25      ],\n",
       "       [1966.        ,    6.90833333],\n",
       "       [1967.        ,    7.725     ],\n",
       "       [1968.        ,    7.48333333],\n",
       "       [1969.        ,    7.4       ],\n",
       "       [1970.        ,    7.09166667],\n",
       "       [1971.        ,    7.775     ],\n",
       "       [1972.        ,    7.83333333],\n",
       "       [1973.        ,    7.39166667],\n",
       "       [1974.        ,    8.59166667],\n",
       "       [1975.        ,    8.20833333],\n",
       "       [1976.        ,    7.5       ],\n",
       "       [1977.        ,    7.46666667],\n",
       "       [1978.        ,    7.36666667],\n",
       "       [1979.        ,    6.40833333],\n",
       "       [1980.        ,    7.675     ],\n",
       "       [1981.        ,    6.9       ],\n",
       "       [1982.        ,    8.1       ],\n",
       "       [1983.        , -999.99      ],\n",
       "       [1984.        ,    7.95833333],\n",
       "       [1985.        ,    6.8       ],\n",
       "       [1986.        ,    7.10833333],\n",
       "       [1987.        ,    7.23333333],\n",
       "       [1988.        ,    8.225     ],\n",
       "       [1989.        ,    8.475     ],\n",
       "       [1990.        ,    8.91666667],\n",
       "       [1991.        ,    8.15833333],\n",
       "       [1992.        ,    8.53333333],\n",
       "       [1993.        ,    7.56666667],\n",
       "       [1994.        ,    7.675     ],\n",
       "       [1995.        ,    7.75      ],\n",
       "       [1996.        ,    7.16666667],\n",
       "       [1997.        ,    8.59166667],\n",
       "       [1998.        ,    7.975     ],\n",
       "       [1999.        ,    8.575     ],\n",
       "       [2000.        ,    8.81666667],\n",
       "       [2001.        ,    7.68333333],\n",
       "       [2002.        , -999.99      ],\n",
       "       [2003.        ,    8.73333333],\n",
       "       [2004.        , -999.99      ],\n",
       "       [2005.        ,    8.4       ],\n",
       "       [2006.        ,    9.31666667],\n",
       "       [2007.        ,    8.4       ],\n",
       "       [2008.        ,    8.875     ],\n",
       "       [2009.        ,    8.6       ],\n",
       "       [2010.        ,    6.36666667],\n",
       "       [2011.        ,    8.78333333],\n",
       "       [2012.        , -999.99      ],\n",
       "       [2013.        ,    7.96666667],\n",
       "       [2014.        ,    9.90833333],\n",
       "       [2015.        ,    8.73333333],\n",
       "       [2016.        ,    8.6       ],\n",
       "       [2017.        ,    8.625     ],\n",
       "       [2018.        ,    8.69166667],\n",
       "       [2019.        ,    8.83333333],\n",
       "       [2020.        ,    9.43333333],\n",
       "       [2021.        , -999.99      ]])"
      ]
     },
     "execution_count": 3,
     "metadata": {},
     "output_type": "execute_result"
    }
   ],
   "source": [
    "data"
   ]
  },
  {
   "cell_type": "markdown",
   "metadata": {},
   "source": [
    "#### Studer outputtet og undersøk punktene:\n",
    "- Hva beskriver kolonne en og to?\n",
    "- Hvilken type dataformat er det?\n",
    "- Hva er dimensjonene?\n",
    "- Finnes det Nan-verdier eller andre verdier som representerer at data mangler?\n",
    "\n",
    "For å svare på punkt 1 er det lurt å åpne filen i notepad fordi det ofte er en *header* i .txt-filer som dette. I første linje til denne filen står det *Year* og *Temperature*, altså *år* og *temperatur*. Kolonne en er år, kolonne to er nedbør. Det varierer litt fra filformat til filformat hvor informasjon som dette ligger, og det er heller ikke alltid datafiler har en tydelig header. Men stort sett er dette lett tilgjengelig informasjon, og i datasettene vi bruker her vil det alltid enten være en header, eller så vil det stå i oppgaveteksten."
   ]
  },
  {
   "cell_type": "markdown",
   "metadata": {},
   "source": [
    "Punkt 2 er hvilket format vi har. Som det står når vi printer `data` er dette et array, altså en matrise. `data.shape` gir oss dimensjonene, altså `161 x 2` (punkt 3). Matrisen `data` har 161 rader og 2 kolonner."
   ]
  },
  {
   "cell_type": "code",
   "execution_count": 4,
   "metadata": {},
   "outputs": [
    {
     "data": {
      "text/plain": [
       "(161, 2)"
      ]
     },
     "execution_count": 4,
     "metadata": {},
     "output_type": "execute_result"
    }
   ],
   "source": [
    "data.shape"
   ]
  },
  {
   "cell_type": "markdown",
   "metadata": {},
   "source": [
    "For å gjøre datasettet enklere å jobbe med lagrer vi tid-kolonnen i vektoren *tid*, og temperatur-kolonnen i vektoren *temp*.  "
   ]
  },
  {
   "cell_type": "code",
   "execution_count": 7,
   "metadata": {},
   "outputs": [],
   "source": [
    "tid=data[:,0]\n",
    "temp=data[:,1]"
   ]
  },
  {
   "cell_type": "markdown",
   "metadata": {},
   "source": [
    "Nå som vi vet hva datasettet vårt inneholder kan vi lage en figur."
   ]
  },
  {
   "cell_type": "code",
   "execution_count": 8,
   "metadata": {},
   "outputs": [
    {
     "data": {
      "image/png": "[encoded data removed]",
      "text/plain": [
       "<Figure size 432x288 with 1 Axes>"
      ]
     },
     "metadata": {
      "needs_background": "light"
     },
     "output_type": "display_data"
    }
   ],
   "source": [
    "plt.plot(tid, temp)\n",
    "plt.xlabel('År')\n",
    "plt.ylabel('Temperatur')\n",
    "plt.show()"
   ]
  },
  {
   "cell_type": "markdown",
   "metadata": {},
   "source": [
    "Dette ser veldig rart ut. Ser vi tilbake på tabellen med dataverdier over, så ser vi at det står -999.99 flere steder. Den laveste teoretiske temperaturen man kan ha er -273.15. Dette finnes ikke naturlig, og i allefall ikke i Bergen. Disse verdiene er altså opplagt fyll-verdier som er satt inn fordi data mangler. Ved å sette inn slike verdier blir datasettet lett å jobbe med til tross for manglende verdier. Det hadde vært mye mer knotete om disse årene bare ble tatt ut. Da kunne man plutselig ha et hopp i tid fra f.eks 1923 til 1927 som man måtte identifisere før man kunne f.eks. plotte og analysere dataene. \n",
    "\n",
    "Dette oppsettet med fyll-verdier krever imidlertid litt opprenskning det også. Det enkleste er å sette alle steder med -999.99 til `NaN`. Da er det lett å utelukke verdiene i beregninger med numpy-pakken (np.nanmean, np.nanstd...), men det er også lett å lage figurer uten at man risikerer hopp i tid. \n",
    "\n",
    "**Sett -999.99 til `NaN`**:\n",
    "\n",
    "Dette gjør vi ved hjelp av *logisk indeksering*. Logisk indeksering vil si at man setter et kriterie, og sjekker om veridene i en variabel tilfredstiller kriteriet eller ikke. Svaret et alltid *True* eller *False*. Dette kalles også *Boolean logic*. Et kort eksempel viser dette bedre:"
   ]
  },
  {
   "cell_type": "code",
   "execution_count": 9,
   "metadata": {},
   "outputs": [
    {
     "name": "stdout",
     "output_type": "stream",
     "text": [
      "[2 4 1 5 3 6]\n",
      "[False  True False False False False]\n"
     ]
    }
   ],
   "source": [
    "x=np.array([2,4,1,5,3,6]) # et array (i dette tilfellet en vektor)\n",
    "print(x)\n",
    "print(x==4) # Det doble likhetstegnet betyr at vi bruker logisk indeksering: \n",
    "            # \"For alle elementer i x, sjekk om ellementet er lik 4\"\n",
    "            # Resultatet er et array med like dimensjoner som x, men alle \n",
    "            # elementene er \"True\" eller \"False\". I dette eksempelet er kun \n",
    "            # element nr 1 \"True\", altså er x[1]=4. "
   ]
  },
  {
   "cell_type": "markdown",
   "metadata": {},
   "source": [
    "Dette er veldig nyttig når man skal gjøre noe med elementer som tilfredstiller et kriterie. Vil vi for eksempel at alle elementer som er 4 skal være 7 i stedet kan vi bruke den logiske rekken vår og si at der denne er \"True\" skal verdien byttes til 7. "
   ]
  },
  {
   "cell_type": "code",
   "execution_count": 10,
   "metadata": {},
   "outputs": [
    {
     "data": {
      "text/plain": [
       "array([2, 7, 1, 5, 3, 6])"
      ]
     },
     "execution_count": 10,
     "metadata": {},
     "output_type": "execute_result"
    }
   ],
   "source": [
    "ind = x==4 # Lagre den logiske vektoren som en variabel \"ind\" (for indeks)\n",
    "x[ind]=7 # Sett elementene i x der ind=True til 7\n",
    "x"
   ]
  },
  {
   "cell_type": "code",
   "execution_count": null,
   "metadata": {},
   "outputs": [],
   "source": [
    "# Dette kan også komprimeres til en linje\n",
    "x=np.array([2,4,1,5,3,6]) \n",
    "x[x==4]=7 # \"der x=4 skal verdien byttes til 7\"\n",
    "x"
   ]
  },
  {
   "cell_type": "markdown",
   "metadata": {},
   "source": [
    "Hvis man vil ha tak i selve indeksen kan man bruke np.where slik som vi så på i Del 1: Ideksering. \n",
    "I dette tilfelle er imidlertid det en mer knotete metode, men det viser at mye kan gjøres på mange ulike måter. "
   ]
  },
  {
   "cell_type": "code",
   "execution_count": 17,
   "metadata": {},
   "outputs": [
    {
     "name": "stdout",
     "output_type": "stream",
     "text": [
      "(array([1], dtype=int64),)\n",
      "[1]\n",
      "1\n"
     ]
    },
    {
     "data": {
      "text/plain": [
       "array([2, 7, 1, 5, 3, 6])"
      ]
     },
     "execution_count": 17,
     "metadata": {},
     "output_type": "execute_result"
    }
   ],
   "source": [
    "x=np.array([2,4,1,5,3,6]) \n",
    "ind=np.where(x==4)\n",
    "print(ind)\n",
    "print(ind[0])\n",
    "print(ind[0][0])\n",
    "x[ind[0][0]]=7\n",
    "x"
   ]
  },
  {
   "cell_type": "markdown",
   "metadata": {},
   "source": [
    "Vi kan bruke logisk indeksering på datasettet vårt og si at \"der `x=-999.99` skal verdien byttes til `NaN`\""
   ]
  },
  {
   "cell_type": "code",
   "execution_count": 20,
   "metadata": {},
   "outputs": [],
   "source": [
    "data[data==-999.99]=np.nan\n",
    "tid=data[:,0]\n",
    "temp=data[:,1]"
   ]
  },
  {
   "cell_type": "code",
   "execution_count": 21,
   "metadata": {},
   "outputs": [
    {
     "data": {
      "text/plain": [
       "array([[1861.        ,           nan],\n",
       "       [1862.        ,    7.71666667],\n",
       "       [1863.        ,    7.75833333],\n",
       "       [1864.        ,    6.86666667],\n",
       "       [1865.        ,    7.225     ],\n",
       "       [1866.        ,    7.41666667],\n",
       "       [1867.        ,    6.55      ],\n",
       "       [1868.        ,    7.975     ],\n",
       "       [1869.        ,    6.45      ],\n",
       "       [1870.        ,    6.575     ],\n",
       "       [1871.        ,           nan],\n",
       "       [1872.        ,           nan],\n",
       "       [1873.        ,    7.83333333],\n",
       "       [1874.        ,    7.175     ],\n",
       "       [1875.        ,    7.01666667],\n",
       "       [1876.        ,    6.78333333],\n",
       "       [1877.        ,    6.55      ],\n",
       "       [1878.        ,           nan],\n",
       "       [1879.        ,    6.69166667],\n",
       "       [1880.        ,    7.53333333],\n",
       "       [1881.        ,    6.36666667],\n",
       "       [1882.        ,    7.9       ],\n",
       "       [1883.        ,    7.6       ],\n",
       "       [1884.        ,    8.20833333],\n",
       "       [1885.        ,    6.70833333],\n",
       "       [1886.        ,    6.83333333],\n",
       "       [1887.        ,    6.99166667],\n",
       "       [1888.        ,    6.55      ],\n",
       "       [1889.        ,    7.925     ],\n",
       "       [1890.        ,    7.78333333],\n",
       "       [1891.        ,    7.73333333],\n",
       "       [1892.        ,    6.26666667],\n",
       "       [1893.        ,    7.49166667],\n",
       "       [1894.        ,    8.33333333],\n",
       "       [1895.        ,           nan],\n",
       "       [1896.        ,    7.40833333],\n",
       "       [1897.        ,    7.25      ],\n",
       "       [1898.        ,    7.15      ],\n",
       "       [1899.        ,    6.96666667],\n",
       "       [1900.        ,    6.70833333],\n",
       "       [1901.        ,    7.675     ],\n",
       "       [1902.        ,    6.40833333],\n",
       "       [1903.        ,    7.18333333],\n",
       "       [1904.        ,    6.89166667],\n",
       "       [1905.        ,    7.08333333],\n",
       "       [1906.        ,    7.38333333],\n",
       "       [1907.        ,    6.95      ],\n",
       "       [1908.        ,    7.575     ],\n",
       "       [1909.        ,    6.53333333],\n",
       "       [1910.        ,    7.79166667],\n",
       "       [1911.        ,    7.56666667],\n",
       "       [1912.        ,    7.59166667],\n",
       "       [1913.        ,    7.81666667],\n",
       "       [1914.        ,    7.93333333],\n",
       "       [1915.        ,    5.95833333],\n",
       "       [1916.        ,    7.1       ],\n",
       "       [1917.        ,           nan],\n",
       "       [1918.        ,    7.5       ],\n",
       "       [1919.        ,    6.125     ],\n",
       "       [1920.        ,    7.68333333],\n",
       "       [1921.        ,    7.2       ],\n",
       "       [1922.        ,    6.425     ],\n",
       "       [1923.        ,    6.46666667],\n",
       "       [1924.        ,    7.28333333],\n",
       "       [1925.        ,    7.85833333],\n",
       "       [1926.        ,           nan],\n",
       "       [1927.        ,    7.19166667],\n",
       "       [1928.        ,    7.14166667],\n",
       "       [1929.        ,           nan],\n",
       "       [1930.        ,           nan],\n",
       "       [1931.        ,    6.70833333],\n",
       "       [1932.        ,    7.58333333],\n",
       "       [1933.        ,    8.25833333],\n",
       "       [1934.        ,    8.55833333],\n",
       "       [1935.        ,    7.69166667],\n",
       "       [1936.        ,    8.275     ],\n",
       "       [1937.        ,    7.98333333],\n",
       "       [1938.        ,    8.30833333],\n",
       "       [1939.        ,           nan],\n",
       "       [1940.        ,    7.10833333],\n",
       "       [1941.        ,    6.975     ],\n",
       "       [1942.        ,           nan],\n",
       "       [1943.        ,    8.2       ],\n",
       "       [1944.        ,           nan],\n",
       "       [1945.        ,    8.275     ],\n",
       "       [1946.        ,    7.93333333],\n",
       "       [1947.        ,    7.94166667],\n",
       "       [1948.        ,    8.15833333],\n",
       "       [1949.        ,    8.125     ],\n",
       "       [1950.        ,    8.275     ],\n",
       "       [1951.        ,    7.6       ],\n",
       "       [1952.        ,    7.125     ],\n",
       "       [1953.        ,    8.625     ],\n",
       "       [1954.        ,    7.70833333],\n",
       "       [1955.        ,    7.3       ],\n",
       "       [1956.        ,    7.225     ],\n",
       "       [1957.        ,    7.93333333],\n",
       "       [1958.        ,    7.4       ],\n",
       "       [1959.        ,    8.56666667],\n",
       "       [1960.        ,           nan],\n",
       "       [1961.        ,    8.25833333],\n",
       "       [1962.        ,    7.01666667],\n",
       "       [1963.        ,    7.23333333],\n",
       "       [1964.        ,    7.525     ],\n",
       "       [1965.        ,    7.25      ],\n",
       "       [1966.        ,    6.90833333],\n",
       "       [1967.        ,    7.725     ],\n",
       "       [1968.        ,    7.48333333],\n",
       "       [1969.        ,    7.4       ],\n",
       "       [1970.        ,    7.09166667],\n",
       "       [1971.        ,    7.775     ],\n",
       "       [1972.        ,    7.83333333],\n",
       "       [1973.        ,    7.39166667],\n",
       "       [1974.        ,    8.59166667],\n",
       "       [1975.        ,    8.20833333],\n",
       "       [1976.        ,    7.5       ],\n",
       "       [1977.        ,    7.46666667],\n",
       "       [1978.        ,    7.36666667],\n",
       "       [1979.        ,    6.40833333],\n",
       "       [1980.        ,    7.675     ],\n",
       "       [1981.        ,    6.9       ],\n",
       "       [1982.        ,    8.1       ],\n",
       "       [1983.        ,           nan],\n",
       "       [1984.        ,    7.95833333],\n",
       "       [1985.        ,    6.8       ],\n",
       "       [1986.        ,    7.10833333],\n",
       "       [1987.        ,    7.23333333],\n",
       "       [1988.        ,    8.225     ],\n",
       "       [1989.        ,    8.475     ],\n",
       "       [1990.        ,    8.91666667],\n",
       "       [1991.        ,    8.15833333],\n",
       "       [1992.        ,    8.53333333],\n",
       "       [1993.        ,    7.56666667],\n",
       "       [1994.        ,    7.675     ],\n",
       "       [1995.        ,    7.75      ],\n",
       "       [1996.        ,    7.16666667],\n",
       "       [1997.        ,    8.59166667],\n",
       "       [1998.        ,    7.975     ],\n",
       "       [1999.        ,    8.575     ],\n",
       "       [2000.        ,    8.81666667],\n",
       "       [2001.        ,    7.68333333],\n",
       "       [2002.        ,           nan],\n",
       "       [2003.        ,    8.73333333],\n",
       "       [2004.        ,           nan],\n",
       "       [2005.        ,    8.4       ],\n",
       "       [2006.        ,    9.31666667],\n",
       "       [2007.        ,    8.4       ],\n",
       "       [2008.        ,    8.875     ],\n",
       "       [2009.        ,    8.6       ],\n",
       "       [2010.        ,    6.36666667],\n",
       "       [2011.        ,    8.78333333],\n",
       "       [2012.        ,           nan],\n",
       "       [2013.        ,    7.96666667],\n",
       "       [2014.        ,    9.90833333],\n",
       "       [2015.        ,    8.73333333],\n",
       "       [2016.        ,    8.6       ],\n",
       "       [2017.        ,    8.625     ],\n",
       "       [2018.        ,    8.69166667],\n",
       "       [2019.        ,    8.83333333],\n",
       "       [2020.        ,    9.43333333],\n",
       "       [2021.        ,           nan]])"
      ]
     },
     "execution_count": 21,
     "metadata": {},
     "output_type": "execute_result"
    }
   ],
   "source": [
    "data\n"
   ]
  },
  {
   "cell_type": "markdown",
   "metadata": {},
   "source": [
    "Hvis vi nå plotter dataene igjen får vi mye mer informasjon. All variabiliteten (høye of lave verdier, trender etc.) vi ser her fantes også i figuren over, men den ble overskygget at -999.99 verdiene. Hadde vi zoomet inn på y-aksen, f.eks. satt `plt.ylim([6,10])`, ville vi fått noe som lignet på figuren under. \n",
    "\n",
    "Det er noen hull i figuren under, spesielt rundt 1940, men slik er det - man har ikke alltid et fullstendig datasett - og dette gir oss likevel et godt inntrykk av temperatur mellom 1860 og 2020. Man kan estimere verdier som mangler med interpolasjon, men det ser vi på i en annen oppgave. "
   ]
  },
  {
   "cell_type": "code",
   "execution_count": 22,
   "metadata": {},
   "outputs": [
    {
     "data": {
      "image/png": "[encoded data removed]",
      "text/plain": [
       "<Figure size 432x288 with 1 Axes>"
      ]
     },
     "metadata": {
      "needs_background": "light"
     },
     "output_type": "display_data"
    }
   ],
   "source": [
    "plt.plot(tid, temp)\n",
    "plt.xlim([1860,2021])\n",
    "plt.xlabel('År')\n",
    "plt.ylabel('Temperatur')\n",
    "plt.show()"
   ]
  },
  {
   "cell_type": "markdown",
   "metadata": {},
   "source": [
    "Datasettet er nå klart til at vi kan sette igang å jobbe med det. I tillegg har vi fått oversikten over dimensjonene til datasettet og hva kolonnene inneholder.\n",
    "__________________________"
   ]
  },
  {
   "cell_type": "markdown",
   "metadata": {},
   "source": [
    "# Oppgave\n",
    "Prøv deg frem med datasettet: `PrecipVestlandYearly.txt`. Det ligner, men er ikke helt likt som det i eksempelet over."
   ]
  },
  {
   "cell_type": "code",
   "execution_count": null,
   "metadata": {},
   "outputs": [],
   "source": []
  }
 ],
 "metadata": {
  "kernelspec": {
   "display_name": "Python 3",
   "language": "python",
   "name": "python3"
  },
  "language_info": {
   "codemirror_mode": {
    "name": "ipython",
    "version": 3
   },
   "file_extension": ".py",
   "mimetype": "text/x-python",
   "name": "python",
   "nbconvert_exporter": "python",
   "pygments_lexer": "ipython3",
   "version": "3.8.8"
  }
 },
 "nbformat": 4,
 "nbformat_minor": 2
}

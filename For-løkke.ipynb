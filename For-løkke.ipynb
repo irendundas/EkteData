{
 "cells": [
  {
   "cell_type": "markdown",
   "metadata": {},
   "source": [
    "# For-løkker\n",
    "\n",
    "For-løkker er nyttige når man skal gjøre nesten det samme flere ganger på rad. Det gjør koden ryddig og oversiktlig, og det er greit å holde oversikten på hvilke beregninger som egentlig gjøres. I blant kan de samme operasjonene gjøres med både for-løkker og vektoroperasjoner. Når man jobber med veldig store datasett er det ofte lurt å bruke vektorregning fordi dette er raskere enn store for-løkker. I starten blir det iblant litt vanskeligere å holde oversikten med vektoroperasjonen, og for datasettene vi jobber med her har ikke tidsbruken ikke så mye å si.\n",
    "\n",
    "Det kan likevel bli forvirrende å holde kontroll på indekseringen til også forløkker i blnt, særlig hvis det er flere \"nivåer\" med for-løkker. \n",
    "\n",
    "I denne oppgaven bruker vi data av årlig gjennomsnittstemperatur i Bergen fra 1861 til 2021 for å vise et eksempel på hvordan en for-løkke kan brukes. Til slutt bruker vi et tilsvarende datasett inndelt i måneder for et eksempel på en dobbel for-løkke. \n"
   ]
  },
  {
   "cell_type": "code",
   "execution_count": 6,
   "metadata": {},
   "outputs": [],
   "source": [
    "import numpy as np\n",
    "file='TempBergenYearly.txt'\n",
    "data = np.genfromtxt('https://raw.githubusercontent.com/irendundas/EkteData/main/'+file, \n",
    "                     dtype=float, delimiter=',',skip_header=1)"
   ]
  },
  {
   "cell_type": "code",
   "execution_count": 11,
   "metadata": {},
   "outputs": [],
   "source": [
    "data[data==-999.99]=np.nan # Se oppgaven/eksempelet om rydding i datasett eller boolske operasjoner \n",
    "                           # om du er usikker på hva som skjer her"
   ]
  },
  {
   "cell_type": "markdown",
   "metadata": {},
   "source": [
    "Tenk deg at du vil gjøre en beregning (for ekesmpel ta gjennomsnittet) over hvert tiår med data. Da må du 1) dele datasettet inn i tiårs-bolker, og 2) ta gjennomsnittet over hver bolk."
   ]
  },
  {
   "cell_type": "markdown",
   "metadata": {},
   "source": [
    "#### 1. Del datasettet inn i tiårs-bolker"
   ]
  },
  {
   "cell_type": "code",
   "execution_count": 14,
   "metadata": {},
   "outputs": [
    {
     "data": {
      "text/plain": [
       "161"
      ]
     },
     "execution_count": 14,
     "metadata": {},
     "output_type": "execute_result"
    }
   ],
   "source": [
    "len(data) # Datasettet spenner 161 år"
   ]
  },
  {
   "cell_type": "markdown",
   "metadata": {},
   "source": [
    "For enkelhets skyld kutter vi det siste året slik at vi får 160 år, som er lett å dele inn i tiårs-bolker"
   ]
  },
  {
   "cell_type": "code",
   "execution_count": 38,
   "metadata": {},
   "outputs": [
    {
     "data": {
      "text/plain": [
       "array([  0.,  10.,  20.,  30.,  40.,  50.,  60.,  70.,  80.,  90., 100.,\n",
       "       110., 120., 130., 140., 150., 160.])"
      ]
     },
     "execution_count": 38,
     "metadata": {},
     "output_type": "execute_result"
    }
   ],
   "source": [
    "ind=np.linspace(0,len(data)-1,int(len(data)/10)+1) # Husk: np.linspace(start,stop,number of values)\n",
    "ind # Start- og slutt-indeks til hver av de 16 tiårs-bolkene (0 er start-indeks og 10 er slutt-indeks til den første bolken etc)"
   ]
  },
  {
   "cell_type": "code",
   "execution_count": 66,
   "metadata": {},
   "outputs": [],
   "source": [
    "meanTemp=np.zeros((len(ind)-1,1)) # Lag en variabel som du skriver gjennomsnittsverdiene til inni for-løkken. \n",
    "                                  # Denne må ha plass til 16 elementer - ett for hvert av de 16 tiårs-bolkene.\n",
    "\n",
    "for i in ind[0:-1]: # Husk: indeks -1 betyr det siste elementet. \n",
    "                    # ind[0:-1] blir derfor elementene i ind fra starten til og IKKE med det siste elementet \n",
    "    i=int(i)        # Verdier som brukes til indeksering MÅ være heltall/integers. \n",
    "    meanTemp[int(i/10)]=np.nanmean(data[i:i+10,1]) # Ta gjennomsnitt med nanmean fordi det er NaN-verdier i datasettet. \n",
    "                                                   # skriv verdiene til meanTemp. indeksen her er int(i/10)=1...16\n"
   ]
  },
  {
   "cell_type": "code",
   "execution_count": 68,
   "metadata": {},
   "outputs": [
    {
     "data": {
      "text/plain": [
       "array([[7.17037037],\n",
       "       [7.08333333],\n",
       "       [7.28666667],\n",
       "       [7.25648148],\n",
       "       [7.1475    ],\n",
       "       [7.25277778],\n",
       "       [7.08095238],\n",
       "       [7.83055556],\n",
       "       [7.98541667],\n",
       "       [7.72037037],\n",
       "       [7.38916667],\n",
       "       [7.62166667],\n",
       "       [7.7462963 ],\n",
       "       [8.08083333],\n",
       "       [8.296875  ],\n",
       "       [8.84166667]])"
      ]
     },
     "execution_count": 68,
     "metadata": {},
     "output_type": "execute_result"
    }
   ],
   "source": [
    "meanTemp"
   ]
  },
  {
   "cell_type": "code",
   "execution_count": 69,
   "metadata": {},
   "outputs": [
    {
     "data": {
      "text/plain": [
       "17"
      ]
     },
     "execution_count": 69,
     "metadata": {},
     "output_type": "execute_result"
    }
   ],
   "source": [
    "int(len(data)/10)+1"
   ]
  },
  {
   "cell_type": "code",
   "execution_count": null,
   "metadata": {},
   "outputs": [],
   "source": []
  }
 ],
 "metadata": {
  "kernelspec": {
   "display_name": "Python 3",
   "language": "python",
   "name": "python3"
  },
  "language_info": {
   "codemirror_mode": {
    "name": "ipython",
    "version": 3
   },
   "file_extension": ".py",
   "mimetype": "text/x-python",
   "name": "python",
   "nbconvert_exporter": "python",
   "pygments_lexer": "ipython3",
   "version": "3.7.4"
  }
 },
 "nbformat": 4,
 "nbformat_minor": 2
}

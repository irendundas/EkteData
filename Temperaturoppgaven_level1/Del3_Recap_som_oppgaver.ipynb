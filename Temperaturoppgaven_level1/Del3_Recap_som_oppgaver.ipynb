{
 "cells": [
  {
   "cell_type": "markdown",
   "metadata": {},
   "source": [
    "## Recap etter Del 1 og 2: Hva har vi egentlig gått gjennom til nå?\n",
    "------------\n",
    "\n",
    "### Indeksering i 1D og 2D: \n",
    "Rader og kolonner skilles med komma, mens kolon brukes til å angi mange rader/kolonner på en gang."
   ]
  },
  {
   "cell_type": "code",
   "execution_count": null,
   "metadata": {},
   "outputs": [],
   "source": [
    "import numpy as np"
   ]
  },
  {
   "cell_type": "code",
   "execution_count": null,
   "metadata": {},
   "outputs": [],
   "source": [
    "arr=np.array([[2,45,6,34], [7,4,12,76], [3,5,0,13]])\n",
    "arr, arr.shape"
   ]
  },
  {
   "cell_type": "markdown",
   "metadata": {},
   "source": [
    "Finn dette i `arr`:\n",
    "- Første element\n",
    "- Første rad\n",
    "- Tredje kolonne \n",
    "- Første tre kolonner i to siste rader"
   ]
  },
  {
   "cell_type": "code",
   "execution_count": null,
   "metadata": {},
   "outputs": [],
   "source": [
    "# Første element\n"
   ]
  },
  {
   "cell_type": "code",
   "execution_count": null,
   "metadata": {},
   "outputs": [],
   "source": [
    "# Første rad\n"
   ]
  },
  {
   "cell_type": "code",
   "execution_count": null,
   "metadata": {},
   "outputs": [],
   "source": [
    "# Tredje kolonne\n"
   ]
  },
  {
   "cell_type": "code",
   "execution_count": null,
   "metadata": {},
   "outputs": [],
   "source": [
    "# Første tre kolonner i de to siste radene\n"
   ]
  },
  {
   "cell_type": "markdown",
   "metadata": {},
   "source": [
    "### Bruke funksjoner:\n",
    "Husk at brakkeparantes brukes for indeksering, mens vanlig parantes brukes til funksjoner."
   ]
  },
  {
   "cell_type": "code",
   "execution_count": null,
   "metadata": {},
   "outputs": [],
   "source": [
    "# Bruk funksjonen np.mean() til å finne gjennomsnitt av hele \"arr\"\n"
   ]
  },
  {
   "cell_type": "code",
   "execution_count": null,
   "metadata": {},
   "outputs": [],
   "source": [
    "# Finn gjennomsnitt av første rad \n"
   ]
  },
  {
   "cell_type": "code",
   "execution_count": null,
   "metadata": {},
   "outputs": [],
   "source": [
    "# Finn gjennomsnitt av rad nr 2 og 3, kolonne nr 1. \n"
   ]
  },
  {
   "cell_type": "markdown",
   "metadata": {},
   "source": [
    "----------\n",
    "### Laste inn data og lagre dataene til variabler:\n"
   ]
  },
  {
   "cell_type": "code",
   "execution_count": null,
   "metadata": {},
   "outputs": [],
   "source": [
    "import sys\n",
    "# Bytt ut stien under slik at den peker på hvor på din PC du har \n",
    "# lagret mappen \"Funksjoner\".\n",
    "sys.path.append(r\"W:\\Work\\Documents\\EkteData\\EkteData\\Funksjoner\")\n",
    "from EkteDataFunk import loadData # for filinnlasting"
   ]
  },
  {
   "cell_type": "code",
   "execution_count": null,
   "metadata": {},
   "outputs": [],
   "source": [
    "file='TempBergenYearlyNonan.txt'\n",
    "data = loadData(file, rydd='N')\n",
    "data.shape, data  "
   ]
  },
  {
   "cell_type": "code",
   "execution_count": null,
   "metadata": {},
   "outputs": [],
   "source": [
    "# Lagre den første kolonnen som en variabel du kaller tid\n"
   ]
  },
  {
   "cell_type": "code",
   "execution_count": null,
   "metadata": {},
   "outputs": [],
   "source": [
    "# Lagre den andre kolonnen som en variabel du kaller temp\n"
   ]
  },
  {
   "cell_type": "markdown",
   "metadata": {},
   "source": [
    "### Velge ut en spesifikk tidsperiode fra en tidsserie med årlig oppløsning."
   ]
  },
  {
   "cell_type": "code",
   "execution_count": null,
   "metadata": {},
   "outputs": [],
   "source": [
    "# Finn indeksen til året 1862 i vektoren \"tid\". Bruk funksjonen np.where()\n"
   ]
  },
  {
   "cell_type": "code",
   "execution_count": null,
   "metadata": {},
   "outputs": [],
   "source": [
    "# Skriv ut verdien til tid ved den indeksen du fikk over for å kontrollere at det er riktig indeks\n"
   ]
  },
  {
   "cell_type": "code",
   "execution_count": null,
   "metadata": {},
   "outputs": [],
   "source": [
    "# Finn indeksen til året 1873 i vektoren \"tid\". Bruk funksjonen np.where()\n"
   ]
  },
  {
   "cell_type": "code",
   "execution_count": null,
   "metadata": {},
   "outputs": [],
   "source": [
    "# Skriv ut verdien til tid ved den indeksen du fikk over for å kontrollere at det er riktig indeks\n"
   ]
  },
  {
   "cell_type": "code",
   "execution_count": null,
   "metadata": {},
   "outputs": [],
   "source": [
    "# Finn indeksene til årene fra 1870 til og med 1893 i vektoren \"tid\". Bruk funksjonen np.where()\n"
   ]
  },
  {
   "cell_type": "code",
   "execution_count": null,
   "metadata": {},
   "outputs": [],
   "source": [
    "# Skriv ut verdiene til tid ved de indekse du fikk over for å kontrollere at det er riktige indekser\n"
   ]
  },
  {
   "cell_type": "markdown",
   "metadata": {},
   "source": [
    "---------\n",
    "### Lage figurer"
   ]
  },
  {
   "cell_type": "code",
   "execution_count": null,
   "metadata": {},
   "outputs": [],
   "source": [
    "import matplotlib.pyplot as plt"
   ]
  },
  {
   "cell_type": "code",
   "execution_count": null,
   "metadata": {},
   "outputs": [],
   "source": [
    "# Lag en figur som viser temperatur som en funksjon av tid. \n",
    "# Inkluder tittel, navn på x-aksen, og navn på y-aksen. \n"
   ]
  },
  {
   "cell_type": "code",
   "execution_count": null,
   "metadata": {},
   "outputs": [],
   "source": [
    "# Plot temperatur for kun 1862 til 1872\n",
    "# Inkluder tittel, navn på x-aksen, og navn på y-aksen. \n"
   ]
  },
  {
   "cell_type": "markdown",
   "metadata": {},
   "source": [
    "Plot flere tidsserier i samme figur:\n",
    "- hele tidsserien, \n",
    "- hver femte verdi, \n",
    "- verdiene fra indeks 50 til og med 149. "
   ]
  },
  {
   "cell_type": "code",
   "execution_count": null,
   "metadata": {},
   "outputs": [],
   "source": [
    "# Hele tidsserien\n",
    "\n",
    "# Hver femte verdi\n",
    "\n",
    "# Verdiene fra indeks 50 til og med 149\n",
    "\n",
    "# Inkluder tittel, navn på x-aksen, og navn på y-aksen. \n",
    "\n",
    "plt.show()"
   ]
  },
  {
   "cell_type": "markdown",
   "metadata": {},
   "source": [
    "--------------\n",
    "### Feilmeldinger\n",
    "##### Vi har ikke snakket så mye om feilmeldinger enda, men prøv å rette opp i kodelinjene under. \n",
    "\n",
    "Husk at feilmeldingene er der for å være hjelsomme. Tenk så vanskelig det ville vært å skrive god og korrekt kode om man ikke fikk noen feilmelding når koden var feil!\n",
    "\n",
    "En feil vi ofte har sett er f.eks. `NameError: name 'plt' is not defined`, eller `NameError: name 'temp' is not defined`. Dette forteller deg at kodecellen der `plt` blir imortert aller `temp` blir definert ikke er kjørt. "
   ]
  },
  {
   "cell_type": "code",
   "execution_count": null,
   "metadata": {},
   "outputs": [],
   "source": [
    "# Hint: NameError gir info om hva som er galt\n",
    "tid[2.0:4]"
   ]
  },
  {
   "cell_type": "code",
   "execution_count": null,
   "metadata": {},
   "outputs": [],
   "source": [
    "tid(2:4)"
   ]
  },
  {
   "cell_type": "code",
   "execution_count": null,
   "metadata": {},
   "outputs": [],
   "source": [
    "# Hint: Her gir ikke NameError så mye informasjon. MEN nettopp denne \n",
    "# feilmeldingen \"SyntaxError: unexpected EOF while parsing\" kommer av en veldig\n",
    "# vanlig feil, så når man ser denne er det sannsynligvis et ufullstendig \n",
    "# uttrykk et sted, en manglende parantes, hermetegn, den slags\n",
    "tid[2:4"
   ]
  },
  {
   "cell_type": "code",
   "execution_count": null,
   "metadata": {
    "scrolled": true
   },
   "outputs": [],
   "source": [
    "# Hint: Når man får lange feilmeldinger er stort sett informasjonen man trenger \n",
    "# helt nederst i feilmeldingen\n",
    "plt.plot(tid[3:],temp[5:])"
   ]
  },
  {
   "cell_type": "code",
   "execution_count": null,
   "metadata": {},
   "outputs": [],
   "source": [
    "plt.plot(tid,temp)\n",
    "plt.xlabel('tid)\n",
    "plt.ylabel('temp')\n",
    "plt.title('Årlig temperatur fra 1861 til 2020')\n"
   ]
  },
  {
   "cell_type": "markdown",
   "metadata": {},
   "source": [
    "---------------\n",
    "### Dele en tidserie inn i like lange bolker"
   ]
  },
  {
   "cell_type": "code",
   "execution_count": null,
   "metadata": {},
   "outputs": [],
   "source": [
    "# Finn indeksene som deler vektoren \"tid\" inn i fire like lange bolker\n"
   ]
  },
  {
   "cell_type": "code",
   "execution_count": null,
   "metadata": {},
   "outputs": [],
   "source": [
    "# Skriv ut indeksene du har funnet og sjekk at de er heltall og at de er \n",
    "# \"integers\" (uten desimaltall), og ikke \"floats\" (med desimatall).\n"
   ]
  },
  {
   "cell_type": "code",
   "execution_count": null,
   "metadata": {},
   "outputs": [],
   "source": [
    "# Plot hver av de fire delene i samme figur. \n",
    "\n",
    "\n",
    "# Inkluder tittel, navn på x-aksen, og navn på y-aksen. \n"
   ]
  },
  {
   "cell_type": "code",
   "execution_count": null,
   "metadata": {},
   "outputs": [],
   "source": [
    "# Finn makstemperaturen til hver av fireårsperiodene. \n",
    "\n",
    "\n",
    "# Plot disse for å se om makstemperaturen har 1) holdt seg stabil, \n",
    "# 2) steget, eller 3) sunket. "
   ]
  }
 ],
 "metadata": {
  "kernelspec": {
   "display_name": "Python 3",
   "language": "python",
   "name": "python3"
  },
  "language_info": {
   "codemirror_mode": {
    "name": "ipython",
    "version": 3
   },
   "file_extension": ".py",
   "mimetype": "text/x-python",
   "name": "python",
   "nbconvert_exporter": "python",
   "pygments_lexer": "ipython3",
   "version": "3.8.5"
  }
 },
 "nbformat": 4,
 "nbformat_minor": 4
}

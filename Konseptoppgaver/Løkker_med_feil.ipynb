{
 "cells": [
  {
   "cell_type": "markdown",
   "metadata": {},
   "source": [
    "### Dette eksempelet inneholder to figur-eksempler: 1) bruke en for-løkke og 2) bruke en if-løkke\n",
    "\n",
    "### Det er akkurat samme oppgave som den som kun heter \"løkker.ipynb\" men inneholder noen feil og oppgaver som går på å lese dokumentasjon"
   ]
  },
  {
   "cell_type": "code",
   "execution_count": null,
   "metadata": {},
   "outputs": [],
   "source": [
    "import numpy as np # for regneoperasjoner\n",
    "import matplotlib.pyplot as plt # for figurer\n",
    "from matplotlib import cm # for å lage fargeskalaer\n",
    "\n",
    "\n",
    "import sys\n",
    "# Bytt ut stien under slik at den peker på hvor på din PC du har \n",
    "# lagret mappen \"Funksjoner\".\n",
    "sys.path.append(\"W:\\Work\\Documents\\EkteData\\EkteData\\Funksjoner\")\n",
    "from EkteDataFunk import loadData # for filinnlasting"
   ]
  },
  {
   "cell_type": "code",
   "execution_count": null,
   "metadata": {},
   "outputs": [],
   "source": [
    "SMALL_SIZE = 10\n",
    "MEDIUM_SIZE = 12\n",
    "BIGGER_SIZE = 14\n",
    "\n",
    "plt.rc('font', size=SMALL_SIZE)          # controls default text sizes\n",
    "plt.rc('axes', titlesize=MEDIUM_SIZE)    # fontsize of the axes title\n",
    "plt.rc('axes', labelsize=MEDIUM_SIZE)    # fontsize of the x and y labels\n",
    "plt.rc('xtick', labelsize=SMALL_SIZE)    # fontsize of the tick labels\n",
    "plt.rc('ytick', labelsize=SMALL_SIZE)    # fontsize of the tick labels\n",
    "plt.rc('legend', fontsize=SMALL_SIZE)    # legend fontsize\n",
    "plt.rc('figure', titlesize=BIGGER_SIZE)  # fontsize of the figure title"
   ]
  },
  {
   "cell_type": "code",
   "execution_count": null,
   "metadata": {},
   "outputs": [],
   "source": [
    "file='TempBergenYearlyNonan.txt'\n",
    "temp,tid = loadData(file)"
   ]
  },
  {
   "cell_type": "code",
   "execution_count": null,
   "metadata": {},
   "outputs": [],
   "source": [
    "ax=plt.axes() # Lag akser å plotte i\n",
    "\n",
    "# Plot tidsserien\n",
    "ax.plot(tid, temp)\n",
    "\n",
    "# Definer grid, tekst etc.\n",
    "ax.set(\n",
    "    title='Temperatur 1860-2020',\n",
    "    xlabel='År',\n",
    "    ylabel='Temperatur [\\u2103]', \n",
    "    xlim=[1860,2020], # Sett grense for x-aksen\n",
    "    ylim=[5.5,10.5] # Sett grense for y-aksen\n",
    ") # Sett grense for y-aksen\n",
    "ax.grid() # Legg til rutenett (grid) i bakgrunnen\n",
    "plt.show() "
   ]
  },
  {
   "cell_type": "markdown",
   "metadata": {},
   "source": [
    "### Hva er en for-løkke?"
   ]
  },
  {
   "cell_type": "code",
   "execution_count": null,
   "metadata": {
    "scrolled": true
   },
   "outputs": [],
   "source": [
    "tid"
   ]
  },
  {
   "cell_type": "code",
   "execution_count": null,
   "metadata": {},
   "outputs": [],
   "source": [
    "for val in tid[:10]:\n",
    "    print(val)"
   ]
  },
  {
   "cell_type": "code",
   "execution_count": null,
   "metadata": {},
   "outputs": [],
   "source": [
    "for count, val in enumerate(tid[:10]):\n",
    "    print(count, val)"
   ]
  },
  {
   "cell_type": "code",
   "execution_count": null,
   "metadata": {},
   "outputs": [],
   "source": []
  },
  {
   "cell_type": "markdown",
   "metadata": {},
   "source": [
    "### Hva er en if-løkke?"
   ]
  },
  {
   "cell_type": "code",
   "execution_count": null,
   "metadata": {},
   "outputs": [],
   "source": [
    "start=1861\n",
    "\n",
    "if start>=1861:\n",
    "    print('startyear is '+str(start))"
   ]
  },
  {
   "cell_type": "code",
   "execution_count": null,
   "metadata": {},
   "outputs": [],
   "source": [
    "if start>=1900:\n",
    "    print(start)\n",
    "else:\n",
    "    print('startyear is '+str(start)+', not 1900')"
   ]
  },
  {
   "cell_type": "code",
   "execution_count": null,
   "metadata": {},
   "outputs": [],
   "source": [
    "for count, T in enumerate(temp):\n",
    "    if T>=9:\n",
    "        print(count, T)\n",
    "    elif T<6.5:\n",
    "        print(count, T)"
   ]
  },
  {
   "cell_type": "markdown",
   "metadata": {},
   "source": [
    "### Bruk en if-løkke til å plotte blå punkte når temperaturen er under gjennomsnittet og røde punkter når temperaturen er over gjennomsnittet"
   ]
  },
  {
   "cell_type": "code",
   "execution_count": null,
   "metadata": {
    "scrolled": false
   },
   "outputs": [],
   "source": [
    "mean=np.mean(temp)\n",
    "\n",
    "plt.plot(tid, temp, label='Temperatur')\n",
    "\n",
    "for count, T in enumerate(temp):\n",
    "    if T > mean:\n",
    "        plt.plot(tid[count], T, 'rv', markeredgecolor='o')\n",
    "    elif T < mean:\n",
    "        plt.plot(tid[count], T, 'bp')\n",
    "\n",
    "plt.plot(np.nan, np.nan, 'rv', markeredgecolor='orange', label=\"warmer than mean\")\n",
    "plt.plot(np.nan, np.nan, 'bp', label='colder than mean')\n",
    "plt.legend()\n",
    "\n",
    "plt.hlines(mean, 1860, 2020, 'k', alpha=.3)\n",
    "plt.ylabel('Temperatur')\n",
    "plt.xlabel('År')\n",
    "plt.show()"
   ]
  },
  {
   "cell_type": "markdown",
   "metadata": {},
   "source": [
    "#### Oppgave 1: Hvorfor plottes ikke de varme markørene?\n",
    "\n",
    "#### Oppgave 2: Endre de positive markørene til en rød trekant med oransje kant\n",
    "\n",
    "#### Oppgave 3: Gjør temperatur-kurven i bakgrunnen litt gjennomsiktig\n",
    "_______________"
   ]
  },
  {
   "cell_type": "markdown",
   "metadata": {},
   "source": [
    "### Bruk en for-løkke til å finne standardavvik og gjennomsnitt for 10-års perioder"
   ]
  },
  {
   "cell_type": "code",
   "execution_count": null,
   "metadata": {},
   "outputs": [],
   "source": [
    "# Siden datasettet vårt er har frekvens på 1 år trenger vi å dele \n",
    "# datasettet inn i ti og ti verdier. Derfor er diff=10\n",
    "diff=10.\n",
    "indeks=np.arrange(0, len(tid), diff) \n",
    "indeks"
   ]
  },
  {
   "cell_type": "code",
   "execution_count": null,
   "metadata": {},
   "outputs": [],
   "source": [
    "# Lag to vektorer som kan fylles med verdier: \n",
    "# En for gjennomsnitt og en for std. \n",
    "mean=np.zeros(len(indeks))\n",
    "std=np.zeros(len(indeks))"
   ]
  },
  {
   "cell_type": "code",
   "execution_count": null,
   "metadata": {},
   "outputs": [],
   "source": [
    "for count, val in enumerate(indeks):\n",
    "    mean[count]=np.mean(temp[val:val+diff])\n",
    "    std[count]=np.std(temp[val:val+diff])\n"
   ]
  },
  {
   "cell_type": "code",
   "execution_count": null,
   "metadata": {},
   "outputs": [],
   "source": [
    "tid_mean=np.arange(tid[0]+5, tid[-1], 11)\n",
    "tid_mean"
   ]
  },
  {
   "cell_type": "code",
   "execution_count": null,
   "metadata": {},
   "outputs": [],
   "source": [
    "ax=plt.axes() # Lag akser å plotte i\n",
    "\n",
    "# Plot tidsserien\n",
    "ax.plot(tid, temp, label='Temp')\n",
    "ax.plot(tid_mean, mean, label='10yr mean temp')\n",
    "\n",
    "# Definer grid, tekst etc.\n",
    "ax.set(\n",
    "    title='Temperatur 1860-2020',\n",
    "    xlabel='År',\n",
    "    ylabel='Temperatur [\\u2103]', \n",
    "    xlim=[1860,2020], # Sett grense for x-aksen\n",
    "    ylim=[5.9,10] # Sett grense for y-aksen\n",
    ")\n",
    "\n",
    "ax.fill( \n",
    "    np.append(tid_mean, np.flip(tid_mean)),\n",
    "    np.append(mean-std, np.flip(mean+std)), \n",
    "    color='b', alpha=.15, edgecolor=None, label='Std'\n",
    ")\n",
    "ax.grid() # Legg til rutenett (grid) i bakgrunnen\n",
    "plt.legend()\n",
    "plt.show() "
   ]
  },
  {
   "cell_type": "markdown",
   "metadata": {},
   "source": [
    "#### Oppgave 3: Hvorfor plottes ikke mean og std feltet i figuren over?\n"
   ]
  },
  {
   "cell_type": "code",
   "execution_count": null,
   "metadata": {},
   "outputs": [],
   "source": []
  }
 ],
 "metadata": {
  "kernelspec": {
   "display_name": "Python 3",
   "language": "python",
   "name": "python3"
  },
  "language_info": {
   "codemirror_mode": {
    "name": "ipython",
    "version": 3
   },
   "file_extension": ".py",
   "mimetype": "text/x-python",
   "name": "python",
   "nbconvert_exporter": "python",
   "pygments_lexer": "ipython3",
   "version": "3.8.5"
  }
 },
 "nbformat": 4,
 "nbformat_minor": 4
}

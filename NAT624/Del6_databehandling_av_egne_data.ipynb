{
 "cells": [
  {
   "cell_type": "markdown",
   "metadata": {},
   "source": [
    "## Les selvsamlede data inn i python\n",
    "\n",
    "I denne oppgaven ser vi videre på datasettet som Ragnhild Hannaas har hentet inn. Vi sammenlignet dataverdiene med verdier fra Seklima.met.no i oppgaven [Del4_les_csv_fil](https://github.com/irendundas/EkteData/blob/main/NAT624/Del4_les_csv_fil.ipynb), og nå ser vi videre på hvordan man kan behandle feil eller mangler i et datasett. Datasettet er på samme format som datasettene NAT624-studentene samler inn selv.\n",
    "\n",
    "**Importer pakkene du trenger og last inn datasettet med Pandas**"
   ]
  },
  {
   "cell_type": "code",
   "execution_count": 1,
   "metadata": {},
   "outputs": [],
   "source": [
    "import pandas as pd\n",
    "import matplotlib.pyplot as plt\n",
    "import numpy as np"
   ]
  },
  {
   "cell_type": "code",
   "execution_count": 2,
   "metadata": {},
   "outputs": [],
   "source": [
    "# Endre denne stien til der du har EkteData filene på din PC\n",
    "sti='W:/Work/Documents/EkteData/EkteData/data'\n",
    "# Endre dette filnavnet til det du har kalt filen du nettopp lastet ned. \n",
    "fil='/4-6_januar_Temperaturegistrering_AB-vei.csv'"
   ]
  },
  {
   "cell_type": "markdown",
   "metadata": {},
   "source": [
    "Husk at du finner informasjon om hvordan man leser inn csv-filer i python i både forrige oppgave [Del4_les_csv_fil.ipynb](https://github.com/irendundas/EkteData/blob/main/NAT624/Del4_les_csv_fil.ipynb), i oversikten over [huskeregler](https://github.com/irendundas/EkteData/blob/main/Kom_i_gang/Huskeregler.ipynb), og i dokumentasjonen til funksjonen [her](https://pandas.pydata.org/docs/reference/api/pandas.read_csv.html)."
   ]
  },
  {
   "cell_type": "code",
   "execution_count": 3,
   "metadata": {},
   "outputs": [],
   "source": [
    "df=pd.read_csv(\n",
    "    sti+fil, sep=',', engine='python',\n",
    "    parse_dates=['Time'], \n",
    "    encoding= 'unicode_escape'\n",
    ")"
   ]
  },
  {
   "cell_type": "code",
   "execution_count": 4,
   "metadata": {},
   "outputs": [
    {
     "data": {
      "text/html": [
       "<div>\n",
       "<style scoped>\n",
       "    .dataframe tbody tr th:only-of-type {\n",
       "        vertical-align: middle;\n",
       "    }\n",
       "\n",
       "    .dataframe tbody tr th {\n",
       "        vertical-align: top;\n",
       "    }\n",
       "\n",
       "    .dataframe thead th {\n",
       "        text-align: right;\n",
       "    }\n",
       "</style>\n",
       "<table border=\"1\" class=\"dataframe\">\n",
       "  <thead>\n",
       "    <tr style=\"text-align: right;\">\n",
       "      <th></th>\n",
       "      <th>Temp AB-vei</th>\n",
       "      <th>Time</th>\n",
       "      <th>Celsius(°C)</th>\n",
       "      <th>Comments</th>\n",
       "      <th>Serial Number</th>\n",
       "    </tr>\n",
       "  </thead>\n",
       "  <tbody>\n",
       "    <tr>\n",
       "      <th>0</th>\n",
       "      <td>1</td>\n",
       "      <td>2022-01-04 15:00:00</td>\n",
       "      <td>4.0</td>\n",
       "      <td>NaN</td>\n",
       "      <td>60039020.0</td>\n",
       "    </tr>\n",
       "    <tr>\n",
       "      <th>1</th>\n",
       "      <td>2</td>\n",
       "      <td>2022-01-04 15:01:00</td>\n",
       "      <td>4.0</td>\n",
       "      <td>NaN</td>\n",
       "      <td>NaN</td>\n",
       "    </tr>\n",
       "    <tr>\n",
       "      <th>2</th>\n",
       "      <td>3</td>\n",
       "      <td>2022-01-04 15:02:00</td>\n",
       "      <td>4.0</td>\n",
       "      <td>NaN</td>\n",
       "      <td>NaN</td>\n",
       "    </tr>\n",
       "    <tr>\n",
       "      <th>3</th>\n",
       "      <td>4</td>\n",
       "      <td>2022-01-04 15:03:00</td>\n",
       "      <td>4.0</td>\n",
       "      <td>NaN</td>\n",
       "      <td>NaN</td>\n",
       "    </tr>\n",
       "    <tr>\n",
       "      <th>4</th>\n",
       "      <td>5</td>\n",
       "      <td>2022-01-04 15:04:00</td>\n",
       "      <td>4.0</td>\n",
       "      <td>NaN</td>\n",
       "      <td>NaN</td>\n",
       "    </tr>\n",
       "    <tr>\n",
       "      <th>...</th>\n",
       "      <td>...</td>\n",
       "      <td>...</td>\n",
       "      <td>...</td>\n",
       "      <td>...</td>\n",
       "      <td>...</td>\n",
       "    </tr>\n",
       "    <tr>\n",
       "      <th>2569</th>\n",
       "      <td>2570</td>\n",
       "      <td>2022-01-06 09:49:00</td>\n",
       "      <td>9.5</td>\n",
       "      <td>NaN</td>\n",
       "      <td>NaN</td>\n",
       "    </tr>\n",
       "    <tr>\n",
       "      <th>2570</th>\n",
       "      <td>2571</td>\n",
       "      <td>2022-01-06 09:50:00</td>\n",
       "      <td>10.5</td>\n",
       "      <td>NaN</td>\n",
       "      <td>NaN</td>\n",
       "    </tr>\n",
       "    <tr>\n",
       "      <th>2571</th>\n",
       "      <td>2572</td>\n",
       "      <td>2022-01-06 09:51:00</td>\n",
       "      <td>11.0</td>\n",
       "      <td>NaN</td>\n",
       "      <td>NaN</td>\n",
       "    </tr>\n",
       "    <tr>\n",
       "      <th>2572</th>\n",
       "      <td>2573</td>\n",
       "      <td>2022-01-06 09:52:00</td>\n",
       "      <td>12.0</td>\n",
       "      <td>NaN</td>\n",
       "      <td>NaN</td>\n",
       "    </tr>\n",
       "    <tr>\n",
       "      <th>2573</th>\n",
       "      <td>2574</td>\n",
       "      <td>2022-01-06 09:53:00</td>\n",
       "      <td>12.5</td>\n",
       "      <td>NaN</td>\n",
       "      <td>NaN</td>\n",
       "    </tr>\n",
       "  </tbody>\n",
       "</table>\n",
       "<p>2574 rows × 5 columns</p>\n",
       "</div>"
      ],
      "text/plain": [
       "      Temp AB-vei                Time  Celsius(°C)  Comments  Serial Number\n",
       "0               1 2022-01-04 15:00:00          4.0       NaN     60039020.0\n",
       "1               2 2022-01-04 15:01:00          4.0       NaN            NaN\n",
       "2               3 2022-01-04 15:02:00          4.0       NaN            NaN\n",
       "3               4 2022-01-04 15:03:00          4.0       NaN            NaN\n",
       "4               5 2022-01-04 15:04:00          4.0       NaN            NaN\n",
       "...           ...                 ...          ...       ...            ...\n",
       "2569         2570 2022-01-06 09:49:00          9.5       NaN            NaN\n",
       "2570         2571 2022-01-06 09:50:00         10.5       NaN            NaN\n",
       "2571         2572 2022-01-06 09:51:00         11.0       NaN            NaN\n",
       "2572         2573 2022-01-06 09:52:00         12.0       NaN            NaN\n",
       "2573         2574 2022-01-06 09:53:00         12.5       NaN            NaN\n",
       "\n",
       "[2574 rows x 5 columns]"
      ]
     },
     "execution_count": 4,
     "metadata": {},
     "output_type": "execute_result"
    }
   ],
   "source": [
    "df"
   ]
  },
  {
   "cell_type": "markdown",
   "metadata": {},
   "source": [
    "Konverter pandas DataFramen til et numpy array. Dette tar hånd om tidsaksen bedre når man plotter. "
   ]
  },
  {
   "cell_type": "code",
   "execution_count": 5,
   "metadata": {},
   "outputs": [],
   "source": [
    "data=df.to_numpy()"
   ]
  },
  {
   "cell_type": "code",
   "execution_count": 6,
   "metadata": {},
   "outputs": [
    {
     "data": {
      "text/plain": [
       "array([[1, Timestamp('2022-01-04 15:00:00'), 4.0, nan, 60039020.0],\n",
       "       [2, Timestamp('2022-01-04 15:01:00'), 4.0, nan, nan],\n",
       "       [3, Timestamp('2022-01-04 15:02:00'), 4.0, nan, nan],\n",
       "       ...,\n",
       "       [2572, Timestamp('2022-01-06 09:51:00'), 11.0, nan, nan],\n",
       "       [2573, Timestamp('2022-01-06 09:52:00'), 12.0, nan, nan],\n",
       "       [2574, Timestamp('2022-01-06 09:53:00'), 12.5, nan, nan]],\n",
       "      dtype=object)"
      ]
     },
     "execution_count": 6,
     "metadata": {},
     "output_type": "execute_result"
    }
   ],
   "source": [
    "data"
   ]
  },
  {
   "cell_type": "markdown",
   "metadata": {},
   "source": [
    "Lagre tidskolonnen og temperaturkolonnen i hver sine vektorer: `tid` og `temp`"
   ]
  },
  {
   "cell_type": "code",
   "execution_count": 7,
   "metadata": {},
   "outputs": [],
   "source": [
    "tid=np.copy(data[:,1])\n",
    "temp=np.copy(data[:,2])"
   ]
  },
  {
   "cell_type": "markdown",
   "metadata": {},
   "source": [
    "## Del 1: Oppdag avvik i et datasett\n",
    "Lag en figur for å inspisere datasettet. "
   ]
  },
  {
   "cell_type": "code",
   "execution_count": 8,
   "metadata": {
    "scrolled": true
   },
   "outputs": [
    {
     "data": {
      "image/png": "[encoded data removed]",
      "text/plain": [
       "<Figure size 720x216 with 1 Axes>"
      ]
     },
     "metadata": {
      "needs_background": "light"
     },
     "output_type": "display_data"
    }
   ],
   "source": [
    "plt.figure(figsize=(10,3))\n",
    "plt.plot(tid,temp)\n",
    "plt.xlim(tid[0], tid[-1])\n",
    "plt.title('Temperatur')\n",
    "plt.ylabel('Temperatur')\n",
    "plt.show()"
   ]
  },
  {
   "cell_type": "markdown",
   "metadata": {},
   "source": [
    "Dette ser litt rart ut - her trenger vi å vite litt om datainnhentingsprosessen for å forstå hva som må forklares av feilkilder og hva som er faktiske temperaturendringer. \n",
    "\n",
    "**Mulig feilkilde nr 1**\n",
    "Det er for eksempel to hopp i temperatur: ett etter kl 12 den 5. januar, og ett helt på slutten av tidsserien. Er instrumentet blitt flyttet? Lå instrumentet i skyggen eller i solen? Når man samler inn data er det viktig å holde oversikten over slike forhold som kan påvirke datasettet, for eksempel notere ting ned i en log-bok. Man vet ikke alltid hva slags detaljer man kan ha nytte av å ha notert ned i etterkant, så noter heller litt mye enn litt lite.  \n",
    "\n",
    "**Mulig feilkilde nr 2**\n",
    "En annen ting som kan være lurt å sjekke om man bruker et instrument man ikke kjenner til så godt er om den har lagret data med konstant frekvens. I figuren over ser det ut som om at noen perioder har høyere oppløsning enn andre. Er det hull i datasettet eller er bare temperaturen veldig jevn i noen perioder? `Pandas` har en funksjon for å sjekke dette: `pd.infer_freq()`."
   ]
  },
  {
   "cell_type": "code",
   "execution_count": 9,
   "metadata": {},
   "outputs": [
    {
     "data": {
      "text/plain": [
       "'T'"
      ]
     },
     "execution_count": 9,
     "metadata": {},
     "output_type": "execute_result"
    }
   ],
   "source": [
    "# Resultatet er 'T', altså er det konstant frekvens på timesoppløsning.\n",
    "pd.infer_freq(df['Time'])"
   ]
  },
  {
   "cell_type": "markdown",
   "metadata": {},
   "source": [
    "Datapunktene har altså jevn frekvens, så feilkilde nr 2 er ikke en faktisk feilkilde, dataveridiene er bare veldig jevne i perioder. \n",
    "\n",
    "## Oppgave 1\n",
    "Hvorfor er det viktig å identifisere slike feil i datasettet? Hva slags feil kan man få om man ikke oppdager dette? \n",
    "\n",
    "Beregn gjennomsnittstemperatur og standardavvik til den ubehandlede temperatur-tidsserien. Finn også medianen. Det har vi ikke beregnet før, så her trengs et google-søk. Lengre ned ser vi på forskjellen etter at datasettet er behandlet. "
   ]
  },
  {
   "cell_type": "code",
   "execution_count": 10,
   "metadata": {},
   "outputs": [
    {
     "data": {
      "text/plain": [
       "(1.0, 0.5864413364413364, 2.3583010493594996)"
      ]
     },
     "execution_count": 10,
     "metadata": {},
     "output_type": "execute_result"
    }
   ],
   "source": [
    "np.median(temp), np.mean(temp), np.std(temp)"
   ]
  },
  {
   "cell_type": "markdown",
   "metadata": {},
   "source": [
    "### Del 2: Hvordan behandle slike avvik?\n",
    "\n",
    "De tre metodene under er alle gyldige og gode. Hvilken metode man bruker må man vurdere ut ifra avviket og datasettet. \n",
    "- sett ugyldige verdier til NaN\n",
    "- erstatt ugyldige verdier med gjennomsnittsverdier\n",
    "- fjern de ugyldige verdiene og interpoler med en funksjon\n",
    "\n",
    "Ofte er det en god løsning å sette verdier man mangler eller er usikre på om er gyldige til `NaN`. Da får man et hull i datasettet sitt, men det er bedre å basere et gjennomsnitt på litt færre verdier eller å ha et hull i en figur, enn å bruke verdier man vet man ikke kan stole på. \n",
    "\n",
    "\n",
    "### Del 3: sett spiken i slutten av datasettet til NaN\n",
    "Den siste \"spiken\" i figuren over er et tilfelle hvor det er en god ide å sette verdien til `NaN`. Siden det er helt på slutten av tidsserien har det veldig lite å si å fjerne disse datapunktene. Første steg er å finne verdiene som må settes til `NaN` for å få fjernet denne spiken. \n",
    "\n",
    "**Metode 1**: Siden dette er et så lite datasett kan man inspisere de siste verdiene for å finne hva man vil sette til NaN."
   ]
  },
  {
   "cell_type": "code",
   "execution_count": 11,
   "metadata": {},
   "outputs": [
    {
     "data": {
      "text/plain": [
       "array([-4.0, -4.0, -4.0, -4.0, -4.0, -4.0, -4.0, -4.0, -4.0, -4.0, -0.5,\n",
       "       3.5, 6.0, 7.5, 8.5, 9.5, 10.5, 11.0, 12.0, 12.5], dtype=object)"
      ]
     },
     "execution_count": 11,
     "metadata": {},
     "output_type": "execute_result"
    }
   ],
   "source": [
    "temp[-20:]"
   ]
  },
  {
   "cell_type": "code",
   "execution_count": 12,
   "metadata": {},
   "outputs": [
    {
     "data": {
      "text/plain": [
       "array([-0.5, 3.5, 6.0, 7.5, 8.5, 9.5, 10.5, 11.0, 12.0, 12.5],\n",
       "      dtype=object)"
      ]
     },
     "execution_count": 12,
     "metadata": {},
     "output_type": "execute_result"
    }
   ],
   "source": [
    "temp[-10:]"
   ]
  },
  {
   "cell_type": "code",
   "execution_count": 13,
   "metadata": {},
   "outputs": [],
   "source": [
    "# Jeg setter de siste 10 verdiene til NaN: det er lenge stabilt \n",
    "# på -4 før det begynner å øke\n",
    "temp[-10:]=np.nan"
   ]
  },
  {
   "cell_type": "code",
   "execution_count": 14,
   "metadata": {},
   "outputs": [
    {
     "data": {
      "image/png": "[encoded data removed]",
      "text/plain": [
       "<Figure size 720x216 with 1 Axes>"
      ]
     },
     "metadata": {
      "needs_background": "light"
     },
     "output_type": "display_data"
    }
   ],
   "source": [
    "plt.figure(figsize=(10,3))\n",
    "plt.plot(tid,temp)\n",
    "plt.xlim(tid[0], tid[-1])\n",
    "plt.title('Temperatur')\n",
    "plt.ylabel('Temperatur')\n",
    "plt.show()"
   ]
  },
  {
   "cell_type": "code",
   "execution_count": 15,
   "metadata": {},
   "outputs": [
    {
     "data": {
      "text/plain": [
       "array([-4.0, -4.0, -4.0, -4.0, -4.0, -4.0, -4.0, -4.0, -4.0, -4.0, nan,\n",
       "       nan, nan, nan, nan, nan, nan, nan, nan, nan], dtype=object)"
      ]
     },
     "execution_count": 15,
     "metadata": {},
     "output_type": "execute_result"
    }
   ],
   "source": [
    "temp[-20:]"
   ]
  },
  {
   "cell_type": "markdown",
   "metadata": {},
   "source": [
    "**Metode 2: Hva om det ikke er praktisk mulig å fikse det manuelt?**\n",
    "\n",
    "Hadde dette vært et større datasett ville ikke manuell inspeksjon fungert. Det samme gjelder om det var flere slike spiker. En fremgangsmåte som kan fungere er å finne hvor det skjer store endringer i verdier. Dette vil identifisere spiker. Vi prøver:"
   ]
  },
  {
   "cell_type": "code",
   "execution_count": 16,
   "metadata": {},
   "outputs": [],
   "source": [
    "# Last inn temp på nytt for et nytt forsøk:\n",
    "temp=np.copy(data[:,2])"
   ]
  },
  {
   "cell_type": "code",
   "execution_count": 17,
   "metadata": {},
   "outputs": [
    {
     "data": {
      "image/png": "[encoded data removed]",
      "text/plain": [
       "<Figure size 720x216 with 1 Axes>"
      ]
     },
     "metadata": {
      "needs_background": "light"
     },
     "output_type": "display_data"
    }
   ],
   "source": [
    "# plot differansen mellom hvert datapunkt med np.diff():\n",
    "plt.figure(figsize=(10,3))\n",
    "diff=np.diff(temp)\n",
    "plt.plot(diff)\n",
    "plt.title('Temperatur-endring')\n",
    "plt.ylabel('Temperatur')\n",
    "plt.show()"
   ]
  },
  {
   "cell_type": "markdown",
   "metadata": {},
   "source": [
    "Figuren over viser hvor mye temperaturen endrer seg mellom hvert tidssteg. Dette kan hjelpe oss med å sette en grense for hvor mye endring vi ser på som fysisk realistisk. Jeg velger å sette grensen på 1 grad mellom hvert tidssteg."
   ]
  },
  {
   "cell_type": "code",
   "execution_count": 18,
   "metadata": {},
   "outputs": [
    {
     "data": {
      "image/png": "[encoded data removed]",
      "text/plain": [
       "<Figure size 720x216 with 1 Axes>"
      ]
     },
     "metadata": {
      "needs_background": "light"
     },
     "output_type": "display_data"
    }
   ],
   "source": [
    "plt.figure(figsize=(10,3))\n",
    "# plot kun indeksene der diff er større enn eller lik 1\n",
    "plt.plot(diff>=1)\n",
    "plt.title('Temperatur-endring større enn eller lik 1')\n",
    "plt.show()\n"
   ]
  },
  {
   "cell_type": "markdown",
   "metadata": {},
   "source": [
    "Alle disse tilfellene er konsentrert i slutten av tidsserien, som forventet siden det er der vi ser den største spiken. \n",
    "\n",
    "Nå trenger vi å vite indeksen til tidsstegene med større temperaturendring enn 1 grad. "
   ]
  },
  {
   "cell_type": "code",
   "execution_count": 19,
   "metadata": {},
   "outputs": [
    {
     "data": {
      "text/plain": [
       "array([False, False, False, ..., False,  True, False])"
      ]
     },
     "execution_count": 19,
     "metadata": {},
     "output_type": "execute_result"
    }
   ],
   "source": [
    "diff>=1"
   ]
  },
  {
   "cell_type": "markdown",
   "metadata": {},
   "source": [
    "Dette er en lang liste med enten `True` eller `False`. Der diff er strørre eller lik 1 står det `True`. Vi kan nå finne indeksene der `diff>=1` er `True` med funksjonen `np.where()` som vi er kjent med fra tidligere, f.eks. i [oppgave 2](https://github.com/irendundas/EkteData/blob/main/NAT624/Del2_Indeksering.ipynb)."
   ]
  },
  {
   "cell_type": "code",
   "execution_count": 20,
   "metadata": {},
   "outputs": [
    {
     "data": {
      "text/plain": [
       "(array([2563, 2564, 2565, 2566, 2567, 2568, 2569, 2571], dtype=int64),)"
      ]
     },
     "execution_count": 20,
     "metadata": {},
     "output_type": "execute_result"
    }
   ],
   "source": [
    "np.where((diff>=1)==True)"
   ]
  },
  {
   "cell_type": "markdown",
   "metadata": {},
   "source": [
    "Vi setter alle verdiene fra og med den første ugyldige verdiene til NaN"
   ]
  },
  {
   "cell_type": "code",
   "execution_count": 21,
   "metadata": {},
   "outputs": [
    {
     "data": {
      "text/plain": [
       "2563"
      ]
     },
     "execution_count": 21,
     "metadata": {},
     "output_type": "execute_result"
    }
   ],
   "source": [
    "nanid=np.where((diff>=1)==1)[0][0]\n",
    "nanid"
   ]
  },
  {
   "cell_type": "code",
   "execution_count": 22,
   "metadata": {},
   "outputs": [],
   "source": [
    "temp[nanid:]=np.nan"
   ]
  },
  {
   "cell_type": "code",
   "execution_count": 23,
   "metadata": {},
   "outputs": [
    {
     "data": {
      "image/png": "[encoded data removed]",
      "text/plain": [
       "<Figure size 720x216 with 1 Axes>"
      ]
     },
     "metadata": {
      "needs_background": "light"
     },
     "output_type": "display_data"
    }
   ],
   "source": [
    "plt.figure(figsize=(10,3))\n",
    "plt.plot(temp)\n",
    "plt.title('Temperatur')\n",
    "plt.show()"
   ]
  },
  {
   "cell_type": "markdown",
   "metadata": {},
   "source": [
    "I dette tilfelle virket kanskje ikke dette så effektivt i forhold til den manuelle metoden, men hvis det var mange spiker strødd ut i datsettet hadde metode 2 absolutt vært mest effektiv fordi man finner indeksene til de ugyldige verdiene automatisk heller enn med inspeksjon. \n",
    "\n",
    "\n",
    "### Del 4: spiken i midten av tidsserien\n",
    "\n",
    "Men hva med **spiken i midten av tidsserien**? Denne er ikke like lett å identifisere i tid: Endringen er ikke så sterk som spiken på slutten var, og verdiene er ikke så høye. Siden tidsseriene vi jobber med i dette kurset generelt ikke er så lange identifiserer vi denne manuelt og ser på tre forskjellige måter å behandle disse datapunktene:\n",
    "- sett til NaN\n",
    "- sett til gjennomsnittet av punktene ved siden\n",
    "- bruk en funksjon til å interpolere. \n",
    "\n",
    "Om det ikke var praktisk mulig å identifisere spiken manuelt måtte vi laget en metode (en algoritme) som identifiserte den for oss. I figuren over differanse har f.eks. mange tidssteg på rad stor differanse der midt-spiken er. Dette kunne vært et kritere i en slik algoritme. "
   ]
  },
  {
   "cell_type": "code",
   "execution_count": 24,
   "metadata": {},
   "outputs": [
    {
     "data": {
      "image/png": "[encoded data removed]",
      "text/plain": [
       "<Figure size 216x504 with 1 Axes>"
      ]
     },
     "metadata": {
      "needs_background": "light"
     },
     "output_type": "display_data"
    }
   ],
   "source": [
    "plt.figure(figsize=(3,7))\n",
    "plt.plot(temp)\n",
    "plt.grid()\n",
    "plt.xlim(1250, 1450)\n",
    "plt.ylim(0, 7.5)\n",
    "\n",
    "plt.vlines(1299, 0, 7.5, 'k')\n",
    "plt.vlines(1436, 0, 7.5, 'k')\n",
    "plt.ylabel('Temperatur')\n",
    "plt.show()"
   ]
  },
  {
   "cell_type": "markdown",
   "metadata": {},
   "source": [
    "Vi begrenser området vi vil behandle til verdiene mellom indeks 1299 og 1436. I denne manuelle metoden kan man rett og slett prøve seg frem med x-verdiene i `plt.vlines()` frem til man identifiserer grensene til spiken. \n",
    "\n",
    "#### Metode 1: Sett til NaN:"
   ]
  },
  {
   "cell_type": "code",
   "execution_count": 25,
   "metadata": {},
   "outputs": [],
   "source": [
    "# Bruk 1436+1 for å få med den siste indeksen\n",
    "temp[1299:1436+1]=np.nan"
   ]
  },
  {
   "cell_type": "code",
   "execution_count": 26,
   "metadata": {},
   "outputs": [
    {
     "data": {
      "image/png": "[encoded data removed]",
      "text/plain": [
       "<Figure size 432x288 with 1 Axes>"
      ]
     },
     "metadata": {
      "needs_background": "light"
     },
     "output_type": "display_data"
    }
   ],
   "source": [
    "plt.plot(temp)\n",
    "plt.ylabel('Temperatur')\n",
    "plt.show()"
   ]
  },
  {
   "cell_type": "markdown",
   "metadata": {},
   "source": [
    "#### Metode 2: Sett verdiene der spiken er til gjennomsnittet av punktene til sidene"
   ]
  },
  {
   "cell_type": "markdown",
   "metadata": {},
   "source": [
    "Finn gjennomsnittet til punktene ved siden av. Bruk f.eks. 10 punkter fra hver side."
   ]
  },
  {
   "cell_type": "code",
   "execution_count": 27,
   "metadata": {},
   "outputs": [
    {
     "data": {
      "text/plain": [
       "2.0"
      ]
     },
     "execution_count": 27,
     "metadata": {},
     "output_type": "execute_result"
    }
   ],
   "source": [
    "# Finn gjennomsnittet til punktene ved siden av. Bruk f.eks. 10 punkter fra hver side.\n",
    "mean=np.nanmean(temp[1299-10:1437+10], dtype='float64')\n",
    "mean"
   ]
  },
  {
   "cell_type": "code",
   "execution_count": 28,
   "metadata": {},
   "outputs": [
    {
     "data": {
      "image/png": "[encoded data removed]",
      "text/plain": [
       "<Figure size 432x288 with 1 Axes>"
      ]
     },
     "metadata": {
      "needs_background": "light"
     },
     "output_type": "display_data"
    }
   ],
   "source": [
    "temp[1299:1436+1]=mean\n",
    "\n",
    "plt.plot(temp)\n",
    "plt.ylabel('Temperatur')\n",
    "plt.show()"
   ]
  },
  {
   "cell_type": "markdown",
   "metadata": {},
   "source": [
    "#### Metode 3: Bruk en funksjon til å interpolere\n",
    "\n",
    "Vi bruker pandas sin fuksjon `interpolate` til å lineært interpolere `temp`. "
   ]
  },
  {
   "cell_type": "code",
   "execution_count": 29,
   "metadata": {},
   "outputs": [],
   "source": [
    "temp=np.copy(data[:,2])\n",
    "\n",
    "# For å bruke funksjonen interpolate() må verdiene i \"temp\" være floats \n",
    "temp=np.array(temp, dtype='float64')\n",
    "\n",
    "# Fjern de siste ti verdiene (den siste spiken)\n",
    "temp=temp[:-10]\n",
    "\n",
    "# Sett verdiene i den midterste spiken til NaN\n",
    "temp[1299:1436+1]=np.nan"
   ]
  },
  {
   "cell_type": "code",
   "execution_count": 30,
   "metadata": {},
   "outputs": [],
   "source": [
    "# Gjør arrayet \"temp\" om til en Pandas DataFrame slik at Pandas sine funksjoner\n",
    "# kan brukes\n",
    "temp=pd.DataFrame(temp)\n",
    "\n",
    "# Lineært interpoler temp\n",
    "temp=temp.interpolate()"
   ]
  },
  {
   "cell_type": "code",
   "execution_count": 31,
   "metadata": {},
   "outputs": [
    {
     "data": {
      "image/png": "[encoded data removed]",
      "text/plain": [
       "<Figure size 432x288 with 1 Axes>"
      ]
     },
     "metadata": {
      "needs_background": "light"
     },
     "output_type": "display_data"
    }
   ],
   "source": [
    "plt.plot(temp)\n",
    "plt.ylabel('Temperatur')\n",
    "plt.show()"
   ]
  },
  {
   "cell_type": "markdown",
   "metadata": {},
   "source": [
    "## Oppgave 2\n",
    "Konverter temp tilbake til et `Numpy` array. Finn igjen gjennomsnittet, medianen og standardsvviket til temp og sammenlign verdiene med det du fant før spikene i datasettet var tatt vekk. Var det verdt det å fjerne spikene? Hvorfor?"
   ]
  },
  {
   "cell_type": "code",
   "execution_count": 32,
   "metadata": {},
   "outputs": [],
   "source": [
    "temp=temp.to_numpy()"
   ]
  },
  {
   "cell_type": "code",
   "execution_count": 33,
   "metadata": {},
   "outputs": [
    {
     "data": {
      "text/plain": [
       "(1.0, 0.4676287051482059, 2.1916122530585462)"
      ]
     },
     "execution_count": 33,
     "metadata": {},
     "output_type": "execute_result"
    }
   ],
   "source": [
    "np.median(temp), np.mean(temp), np.std(temp)"
   ]
  },
  {
   "cell_type": "markdown",
   "metadata": {},
   "source": [
    "## Oppgave 3\n",
    "I cellen under blir det introdusert et par ekstra feil. Identifiser feilene og bruk de metodene du vil til å fjerne dem. Du kan prøve å fjerne flere på en gang med samme metode, eller du kan fjerne ulike feil med ulike metoder. "
   ]
  },
  {
   "cell_type": "code",
   "execution_count": 34,
   "metadata": {},
   "outputs": [],
   "source": [
    "temp[:7]=11"
   ]
  },
  {
   "cell_type": "code",
   "execution_count": 35,
   "metadata": {},
   "outputs": [],
   "source": [
    "temp[(temp>=-2.7)&(temp<=-2)]=-5"
   ]
  },
  {
   "cell_type": "code",
   "execution_count": 36,
   "metadata": {},
   "outputs": [],
   "source": [
    "temp[temp==0.5]=-7"
   ]
  },
  {
   "cell_type": "code",
   "execution_count": 37,
   "metadata": {},
   "outputs": [
    {
     "data": {
      "image/png": "[encoded data removed]",
      "text/plain": [
       "<Figure size 432x288 with 1 Axes>"
      ]
     },
     "metadata": {
      "needs_background": "light"
     },
     "output_type": "display_data"
    }
   ],
   "source": [
    "plt.plot(temp)\n",
    "plt.ylabel('Temperatur')\n",
    "plt.show()"
   ]
  },
  {
   "cell_type": "code",
   "execution_count": null,
   "metadata": {},
   "outputs": [],
   "source": []
  }
 ],
 "metadata": {
  "kernelspec": {
   "display_name": "Python 3",
   "language": "python",
   "name": "python3"
  },
  "language_info": {
   "codemirror_mode": {
    "name": "ipython",
    "version": 3
   },
   "file_extension": ".py",
   "mimetype": "text/x-python",
   "name": "python",
   "nbconvert_exporter": "python",
   "pygments_lexer": "ipython3",
   "version": "3.8.5"
  }
 },
 "nbformat": 4,
 "nbformat_minor": 4
}

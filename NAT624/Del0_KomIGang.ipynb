{
 "cells": [
  {
   "cell_type": "markdown",
   "id": "a34b2163",
   "metadata": {},
   "source": [
    "### Jupyter notebook og programmering i Python\n",
    "\n",
    "I dette kurset bruker vi Jupyter Notebooks til å skrive kode i Python. **Python** er programmeringsspråket, og **Jupyter Notebook** er programmet du skriver kode i. Vi bruker notebooks fordi da kan vi skrive kode, vanlig tekst og vise figurer og data i ett og samme dokument. \n",
    "\n",
    "En notebook består av **celler**. Disse cellene er enten **kode**-celler skrevet i python eller **markdown**-celler med text (som denne cellen). Cellene er automatisk kode-celler. For å gjøre en kode-celle om til en tekst-celle trykker du på **Esc+m**.\n",
    "\n",
    "For å kjøre en kode-celle eller formattere en tekst-celle, trykk **Shift+Enter**.\n",
    "\n",
    "Du kan bruke piltastene for å navigere mellom celler, eller trykke direkte i en celle. For å **editere** en celle, trykk **Enter** eller dobbelklikk.\n",
    "\n",
    "Cellen under er et eksempel på en kode-celle:"
   ]
  },
  {
   "cell_type": "code",
   "execution_count": 1,
   "id": "e4bdda99",
   "metadata": {},
   "outputs": [
    {
     "name": "stdout",
     "output_type": "stream",
     "text": [
      "Dette er Python-kode\n"
     ]
    }
   ],
   "source": [
    "print('Dette er Python-kode')"
   ]
  },
  {
   "cell_type": "markdown",
   "id": "0b342dbf",
   "metadata": {},
   "source": []
  }
 ],
 "metadata": {
  "kernelspec": {
   "display_name": "Python 3",
   "language": "python",
   "name": "python3"
  },
  "language_info": {
   "codemirror_mode": {
    "name": "ipython",
    "version": 3
   },
   "file_extension": ".py",
   "mimetype": "text/x-python",
   "name": "python",
   "nbconvert_exporter": "python",
   "pygments_lexer": "ipython3",
   "version": "3.8.8"
  }
 },
 "nbformat": 4,
 "nbformat_minor": 5
}

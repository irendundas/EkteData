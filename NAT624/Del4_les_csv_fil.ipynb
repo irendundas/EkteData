{
 "cells": [
  {
   "cell_type": "markdown",
   "metadata": {},
   "source": [
    "## Notater til NAT624-timen om innlasting av nye data\n",
    "\n",
    "Dette oppgavesettet er oprinnelig notater til en type-along session for å gå gjennom hvordan man laster inn csv-filer i python. Derfor er det litt mindre forklaring underveis, men skriptet kan likevel brukes som en oppskrift for å komme igang med å bruke csv-filer. csv står for Comma-Separates-Values, og er det filformatet dataene NAT624-studentene samler selv kommer på. Flere andre kilder bruker også dette filformatet, for eksempel [Seklima.no](seklima.met.no). I denne oppgaven laster vi inn ett datasett fra Seklima.no, og ett datasett samlet med loggerne NAT624-studentene bruker. \n",
    "\n",
    "__________\n",
    "\n",
    "I denne oppgaven skal vi:\n",
    "\n",
    "1) laste ned et datasett fra seklima.met.no\n",
    "\n",
    "2) inspisere datasettet\n",
    "\n",
    "3) lese datasettet inn i Python med pandas\n",
    "\n",
    "4) konvertere datasettet til numpy\n",
    "\n",
    "5) lage en figur\n",
    "\n",
    "6) lese inn datasettet som Ragnhild har samlet inn\n",
    "\n",
    "7) lage en figur med data fra både seklima.no og Ragnhild sin hage. \n",
    "\n",
    "\n",
    "\n",
    "### Del 1: Laste ned et datasett fra seklima.no\n",
    "\n",
    "Velg et sted, tidsperiode, og variabel du er interessert i. Alle muligheter finnes ikke for alle steder/variabler.\n",
    "I eksempelet under bruker vi disse valgene:\n",
    "- start: 4 Jan 22\n",
    "- slutt: 6 Jan 22\n",
    "- timesoppløsning\n",
    "- lufttemperatur\n",
    "- Bergen - Florida\n",
    "- vis resultat - sjekk at det er rett periode\n",
    "- Last ned csv.\n",
    "\n",
    "- kopier table.csv til mappen der du har EkteData filene dine\n",
    "- lag nytt og forståelig navn på filen. \n",
    "\n",
    "### Del 2: Inspiser datasettet\n",
    "\n",
    "Åpne filen i notepad (eller et lignende simpelt tekst-program) for å sjekke informasjon om format og om det er linjer med informasjon øverst i filen (\"header\"). Hva separerer kolonnene, hva brukes som desimaltegn, hva er navnet på kolonnen som beskriver tid, denne type informasjon finner vi når vi ser på filen i for eksempel notepad. \n",
    "\n",
    "### Del 3: lese datasettet inn i Python med pandas\n",
    "\n",
    "For å laste inn filen bruker vi et nytt bibliotek: *Pandas*. Dette er et bibliotek på samme linje som Numpy eller Matplotlib, og er nyttig å bruke når vi skal laste csv-filer inn i Python fordi de har en innebygd funksjon for nettopp dette. "
   ]
  },
  {
   "cell_type": "code",
   "execution_count": 1,
   "metadata": {},
   "outputs": [],
   "source": [
    "import pandas as pd\n",
    "import matplotlib.pyplot as plt\n",
    "import numpy as np"
   ]
  },
  {
   "cell_type": "markdown",
   "metadata": {},
   "source": [
    "**Tips:** Cellen under er veldig praktisk å inkludere hvis du skal lage en del figurer. Den gjør at all lik type figur-tekst automatisk settes til samme størrelse. "
   ]
  },
  {
   "cell_type": "code",
   "execution_count": 2,
   "metadata": {},
   "outputs": [],
   "source": [
    "SMALL_SIZE = 10\n",
    "MEDIUM_SIZE = 12\n",
    "BIGGER_SIZE = 14\n",
    "\n",
    "plt.rc('font', size=SMALL_SIZE)          # controls default text sizes\n",
    "plt.rc('axes', titlesize=MEDIUM_SIZE)    # fontsize of the axes title\n",
    "plt.rc('axes', labelsize=MEDIUM_SIZE)    # fontsize of the x and y labels\n",
    "plt.rc('xtick', labelsize=SMALL_SIZE)    # fontsize of the tick labels\n",
    "plt.rc('ytick', labelsize=SMALL_SIZE)    # fontsize of the tick labels\n",
    "plt.rc('legend', fontsize=SMALL_SIZE)    # legend fontsize\n",
    "plt.rc('figure', titlesize=BIGGER_SIZE)  # fontsize of the figure title"
   ]
  },
  {
   "cell_type": "code",
   "execution_count": 3,
   "metadata": {},
   "outputs": [
    {
     "data": {
      "text/plain": [
       "'W:/Work/Documents/EkteData/MyProg/timesnedbør_Bergen_Januar.csv'"
      ]
     },
     "execution_count": 3,
     "metadata": {},
     "output_type": "execute_result"
    }
   ],
   "source": [
    "# Endre denne stien til der du har EkteData filene på din PC\n",
    "sti='W:/Work/Documents/EkteData/MyProg'\n",
    "# Endre dette filnavnet til det du har kalt filen du nettopp lastet ned. \n",
    "fil='/timesnedbør_Bergen_Januar.csv'\n",
    "\n",
    "# Pass på at resultatet av sti+fil er nøyaktig det samme som der filen\n",
    "# faktisk ligger på PCen din. \n",
    "sti+fil"
   ]
  },
  {
   "cell_type": "markdown",
   "metadata": {},
   "source": [
    "I cellen under bruker vi Pandas sin innebygde funksjon pd.read_csv() til å lese inn filen vår. Denne funksjonen leser inn csv-filer og lagrer informasjonen i en variabel, f.eks. variabelen `df` dersom vi skriver `df=pd.read_csv(file)` slik som under. For å lese inn filen riktig må man angi informasjon om formatet til filen i tillegg til filnavnet (`sti+fil`). Under beskriver vi hva disse spesifikasjonene betyr.\n",
    "\n",
    "- `sep=';'` beskriver hva som deler kolonnene i filen. Hvis du åpner filen i f.eks. notepad ser du at dette er semikolon i vårt tilfelle, men det er ofte tab, komma (default), eller kolon. \n",
    "- `decimal=','` må være med fordi verdiene i denne csv-filen er lagret med komma som desimaltegn istedet for punktum. For at verdien skal tolkes som ett tall og ikke to må vi fortelle funksjonen pd.read_csv at den skal tolke komme som desimaltegn. \n",
    "- `parse_dates=['Tid(norsk normaltid)']` konverterer innholdet i denne kolonnen til dato-format.\n",
    "- `dayfirst=True` sørger for at datoen tolkes riktig. Uten denne tolkes det første tallet i datoen som måned som er default.\n",
    "\n",
    "Det finnes mange slike spesifiseringer som dette (se dokumentasjonen til funskjonen pd.read_csv [her](https://pandas.pydata.org/docs/reference/api/pandas.read_csv.html)). De spesifiseringene vi bruker i denne oppgaven fungere i vårt tilfelle, men det betyr ikke at det vil fungere i alle andre tilfeller. Helt sist i oppgaven laster vi inn et temperaturdatasett som Ragnhild har samlet inn, og der er spesifiseringene litt annerledes. Men oppsettet er likt. \n",
    "\n",
    "Noen ekstra spesifiseringer vi ikke trenger akkurat nå men som kan være nyttig andre ganger. \n",
    "- `na_values='-'`: Hvis du åpner dette datasettet i notepad ser du at dette datasettet setter manglende verdier av moddeltemperatur til `-`. Når man definerer `na_values='-'` forteller man koden at `'-'` betyr at en verdi mangler. Koden setter da alle instanser av `'-'` til `NaN` som står for Not a Number.\n",
    "- Med `index_col` bestemmer du hvilken kolonne du vil bruke som index. \n",
    "- `engine=python`: I datasettet NAT624-studentene samler inn selv er grader Celcius angitt med grad-tegn (special character). Denne detaljen gjør at man må spesifisere \"engine\".\n",
    "\n",
    "\n"
   ]
  },
  {
   "cell_type": "code",
   "execution_count": 4,
   "metadata": {},
   "outputs": [],
   "source": [
    "df = pd.read_csv(\n",
    "    sti+fil, \n",
    "    sep=';', \n",
    "    decimal=',', \n",
    "    parse_dates=['Tid(norsk normaltid)'],\n",
    "    dayfirst=True\n",
    ")"
   ]
  },
  {
   "cell_type": "code",
   "execution_count": 5,
   "metadata": {},
   "outputs": [
    {
     "data": {
      "text/html": [
       "<div>\n",
       "<style scoped>\n",
       "    .dataframe tbody tr th:only-of-type {\n",
       "        vertical-align: middle;\n",
       "    }\n",
       "\n",
       "    .dataframe tbody tr th {\n",
       "        vertical-align: top;\n",
       "    }\n",
       "\n",
       "    .dataframe thead th {\n",
       "        text-align: right;\n",
       "    }\n",
       "</style>\n",
       "<table border=\"1\" class=\"dataframe\">\n",
       "  <thead>\n",
       "    <tr style=\"text-align: right;\">\n",
       "      <th></th>\n",
       "      <th>Navn</th>\n",
       "      <th>Stasjon</th>\n",
       "      <th>Tid(norsk normaltid)</th>\n",
       "      <th>Lufttemperatur</th>\n",
       "    </tr>\n",
       "  </thead>\n",
       "  <tbody>\n",
       "    <tr>\n",
       "      <th>0</th>\n",
       "      <td>Bergen - Florida</td>\n",
       "      <td>SN50540</td>\n",
       "      <td>2022-01-04 01:00:00</td>\n",
       "      <td>2.5</td>\n",
       "    </tr>\n",
       "    <tr>\n",
       "      <th>1</th>\n",
       "      <td>Bergen - Florida</td>\n",
       "      <td>SN50540</td>\n",
       "      <td>2022-01-04 02:00:00</td>\n",
       "      <td>2.9</td>\n",
       "    </tr>\n",
       "    <tr>\n",
       "      <th>2</th>\n",
       "      <td>Bergen - Florida</td>\n",
       "      <td>SN50540</td>\n",
       "      <td>2022-01-04 03:00:00</td>\n",
       "      <td>3.6</td>\n",
       "    </tr>\n",
       "    <tr>\n",
       "      <th>3</th>\n",
       "      <td>Bergen - Florida</td>\n",
       "      <td>SN50540</td>\n",
       "      <td>2022-01-04 04:00:00</td>\n",
       "      <td>3.2</td>\n",
       "    </tr>\n",
       "    <tr>\n",
       "      <th>4</th>\n",
       "      <td>Bergen - Florida</td>\n",
       "      <td>SN50540</td>\n",
       "      <td>2022-01-04 05:00:00</td>\n",
       "      <td>3.3</td>\n",
       "    </tr>\n",
       "    <tr>\n",
       "      <th>...</th>\n",
       "      <td>...</td>\n",
       "      <td>...</td>\n",
       "      <td>...</td>\n",
       "      <td>...</td>\n",
       "    </tr>\n",
       "    <tr>\n",
       "      <th>68</th>\n",
       "      <td>Bergen - Florida</td>\n",
       "      <td>SN50540</td>\n",
       "      <td>2022-01-06 21:00:00</td>\n",
       "      <td>3.1</td>\n",
       "    </tr>\n",
       "    <tr>\n",
       "      <th>69</th>\n",
       "      <td>Bergen - Florida</td>\n",
       "      <td>SN50540</td>\n",
       "      <td>2022-01-06 22:00:00</td>\n",
       "      <td>3.5</td>\n",
       "    </tr>\n",
       "    <tr>\n",
       "      <th>70</th>\n",
       "      <td>Bergen - Florida</td>\n",
       "      <td>SN50540</td>\n",
       "      <td>2022-01-06 23:00:00</td>\n",
       "      <td>3.1</td>\n",
       "    </tr>\n",
       "    <tr>\n",
       "      <th>71</th>\n",
       "      <td>Bergen - Florida</td>\n",
       "      <td>SN50540</td>\n",
       "      <td>2022-01-07 00:00:00</td>\n",
       "      <td>2.4</td>\n",
       "    </tr>\n",
       "    <tr>\n",
       "      <th>72</th>\n",
       "      <td>Data er gyldig per 22.02.2022 (CC BY 4.0), Met...</td>\n",
       "      <td>NaN</td>\n",
       "      <td>NaT</td>\n",
       "      <td>NaN</td>\n",
       "    </tr>\n",
       "  </tbody>\n",
       "</table>\n",
       "<p>73 rows × 4 columns</p>\n",
       "</div>"
      ],
      "text/plain": [
       "                                                 Navn  Stasjon  \\\n",
       "0                                    Bergen - Florida  SN50540   \n",
       "1                                    Bergen - Florida  SN50540   \n",
       "2                                    Bergen - Florida  SN50540   \n",
       "3                                    Bergen - Florida  SN50540   \n",
       "4                                    Bergen - Florida  SN50540   \n",
       "..                                                ...      ...   \n",
       "68                                   Bergen - Florida  SN50540   \n",
       "69                                   Bergen - Florida  SN50540   \n",
       "70                                   Bergen - Florida  SN50540   \n",
       "71                                   Bergen - Florida  SN50540   \n",
       "72  Data er gyldig per 22.02.2022 (CC BY 4.0), Met...      NaN   \n",
       "\n",
       "   Tid(norsk normaltid)  Lufttemperatur  \n",
       "0   2022-01-04 01:00:00             2.5  \n",
       "1   2022-01-04 02:00:00             2.9  \n",
       "2   2022-01-04 03:00:00             3.6  \n",
       "3   2022-01-04 04:00:00             3.2  \n",
       "4   2022-01-04 05:00:00             3.3  \n",
       "..                  ...             ...  \n",
       "68  2022-01-06 21:00:00             3.1  \n",
       "69  2022-01-06 22:00:00             3.5  \n",
       "70  2022-01-06 23:00:00             3.1  \n",
       "71  2022-01-07 00:00:00             2.4  \n",
       "72                  NaT             NaN  \n",
       "\n",
       "[73 rows x 4 columns]"
      ]
     },
     "execution_count": 5,
     "metadata": {},
     "output_type": "execute_result"
    }
   ],
   "source": [
    "df # Vi kaller variabelen \"df\" for \"DataFrame\""
   ]
  },
  {
   "cell_type": "markdown",
   "metadata": {},
   "source": [
    "Man får ut en fin tabell. Informasjonen som lå i headeren har kommet som titler på kolonnene, og man ser indeksen til hver rad helt til venstre.\n",
    "\n",
    "For å få tak i en av kolonnene skriver man som dette:\n"
   ]
  },
  {
   "cell_type": "code",
   "execution_count": 6,
   "metadata": {},
   "outputs": [
    {
     "data": {
      "text/plain": [
       "0    2022-01-04 01:00:00\n",
       "1    2022-01-04 02:00:00\n",
       "2    2022-01-04 03:00:00\n",
       "3    2022-01-04 04:00:00\n",
       "4    2022-01-04 05:00:00\n",
       "             ...        \n",
       "68   2022-01-06 21:00:00\n",
       "69   2022-01-06 22:00:00\n",
       "70   2022-01-06 23:00:00\n",
       "71   2022-01-07 00:00:00\n",
       "72                   NaT\n",
       "Name: Tid(norsk normaltid), Length: 73, dtype: datetime64[ns]"
      ]
     },
     "execution_count": 6,
     "metadata": {},
     "output_type": "execute_result"
    }
   ],
   "source": [
    "df['Tid(norsk normaltid)']"
   ]
  },
  {
   "cell_type": "code",
   "execution_count": 7,
   "metadata": {},
   "outputs": [
    {
     "data": {
      "text/plain": [
       "0     2.5\n",
       "1     2.9\n",
       "2     3.6\n",
       "3     3.2\n",
       "4     3.3\n",
       "     ... \n",
       "68    3.1\n",
       "69    3.5\n",
       "70    3.1\n",
       "71    2.4\n",
       "72    NaN\n",
       "Name: Lufttemperatur, Length: 73, dtype: float64"
      ]
     },
     "execution_count": 7,
     "metadata": {},
     "output_type": "execute_result"
    }
   ],
   "source": [
    "df['Lufttemperatur']"
   ]
  },
  {
   "cell_type": "markdown",
   "metadata": {},
   "source": [
    "Vi lagrer kolonnen med tid som `tid_Florida` og kolonnen med temperatur som `temp_Florida`. Vi utelukker det siste elementet i begge radene fordi dette bare er NaN. I panda DataFrames angir man navnet til kolonnen først, og så hvilke rader man vil se på. Dette er litt forvirrende siden standard indeksering i python bruker \"row\" så \"column\". Men i pandas DataFrame betyr altså `df['Lufttemperatur'][:-1]` \"kolonnen for Lufttemperatur\" (`['Lufttemperatur']`), og \"alle rader utenom den siste\" (`[:-1]`). "
   ]
  },
  {
   "cell_type": "code",
   "execution_count": 8,
   "metadata": {},
   "outputs": [],
   "source": [
    "tid_Florida=df['Tid(norsk normaltid)'][:-1]\n",
    "temp_Florida=df['Lufttemperatur'][:-1]"
   ]
  },
  {
   "cell_type": "code",
   "execution_count": 9,
   "metadata": {},
   "outputs": [
    {
     "data": {
      "text/plain": [
       "(0    2022-01-04 01:00:00\n",
       " 1    2022-01-04 02:00:00\n",
       " 2    2022-01-04 03:00:00\n",
       " 3    2022-01-04 04:00:00\n",
       " 4    2022-01-04 05:00:00\n",
       "              ...        \n",
       " 67   2022-01-06 20:00:00\n",
       " 68   2022-01-06 21:00:00\n",
       " 69   2022-01-06 22:00:00\n",
       " 70   2022-01-06 23:00:00\n",
       " 71   2022-01-07 00:00:00\n",
       " Name: Tid(norsk normaltid), Length: 72, dtype: datetime64[ns],\n",
       " 0     2.5\n",
       " 1     2.9\n",
       " 2     3.6\n",
       " 3     3.2\n",
       " 4     3.3\n",
       "      ... \n",
       " 67    3.0\n",
       " 68    3.1\n",
       " 69    3.5\n",
       " 70    3.1\n",
       " 71    2.4\n",
       " Name: Lufttemperatur, Length: 72, dtype: float64)"
      ]
     },
     "execution_count": 9,
     "metadata": {},
     "output_type": "execute_result"
    }
   ],
   "source": [
    "tid_Florida, temp_Florida"
   ]
  },
  {
   "cell_type": "markdown",
   "metadata": {},
   "source": [
    "### Del 4: Konverter variablene du trenger til Numpy\n",
    "med funksjonen `df.to_numpy()`\n",
    "\n",
    "Vi vil konvertere Pandas DataFrame (variabelene `df`, `tid_Florida` og `temp_Florida` er alle DataFrames) til et numpy array fordi plottebiblioteket vi bruker, `Matplotlib`, er flinkere til å behandle data på `Numpy`-format enn på `Pandas`-format. Dersom f.eks. tiden mellom måletidspunkt ikke er konstant vil `Pandas` likevel plotte dette med jevne intervall, mens `Numpy` tar stilling til selve tidverdien og plotter datapunktene med så stor avstand de skal ha. Derfor konverterer vi variablene våre fra `pandas` til `Numpy` arrays. \n",
    "Denne konverteringen er også praktisk hvis du f.eks. skal sammenligne et datasett som dette med et du har lest inn som numpy array. \n",
    "\n",
    "Hvis df er en DataFrame konverterer vi til numpy array med denne funksjonen: `df.to_numpy()`.\n",
    "\n",
    "For å konvertere motsatt vei bruker man `pd.DataFrame(array)`, hvor \"array\" er et numpy array."
   ]
  },
  {
   "cell_type": "code",
   "execution_count": 10,
   "metadata": {},
   "outputs": [],
   "source": [
    "tid_Florida=tid_Florida.to_numpy()"
   ]
  },
  {
   "cell_type": "code",
   "execution_count": 11,
   "metadata": {},
   "outputs": [],
   "source": [
    "temp_Florida=temp_Florida.to_numpy()"
   ]
  },
  {
   "cell_type": "code",
   "execution_count": 12,
   "metadata": {},
   "outputs": [
    {
     "data": {
      "text/plain": [
       "array([ 2.5,  2.9,  3.6,  3.2,  3.3,  3.8,  2.9,  3.4,  2.9,  1.5,  2.7,\n",
       "        3.5,  4.7,  3.6,  3.8,  2.8,  3.7,  3.6,  2.7,  2.4,  2.4,  2.5,\n",
       "        2.1,  2.2,  2.3,  2. ,  2.3,  1.8,  2.1,  2.3,  2.4,  2.2,  2.5,\n",
       "        2.3,  2.6,  2.3,  3. ,  2.9,  2.6,  2.5,  2.4,  2.5,  0.9,  0.1,\n",
       "        1.4,  1. ,  0.7,  0.3, -1.1, -1.3, -1.6, -1.9, -2.4, -2.3, -2.3,\n",
       "       -2.5, -2.1, -2.2, -0.8,  0.7,  0.9,  1. ,  1.4,  1.5,  1.7,  2.4,\n",
       "        2.6,  3. ,  3.1,  3.5,  3.1,  2.4])"
      ]
     },
     "execution_count": 12,
     "metadata": {},
     "output_type": "execute_result"
    }
   ],
   "source": [
    "temp_Florida"
   ]
  },
  {
   "cell_type": "code",
   "execution_count": 13,
   "metadata": {},
   "outputs": [
    {
     "data": {
      "text/plain": [
       "((72,), (72,))"
      ]
     },
     "execution_count": 13,
     "metadata": {},
     "output_type": "execute_result"
    }
   ],
   "source": [
    "tid_Florida.shape, temp_Florida.shape"
   ]
  },
  {
   "cell_type": "markdown",
   "metadata": {},
   "source": [
    "### Del 5: lag en figur\n",
    "og sammenlign med figuren på seklima.met.no sine nettsider."
   ]
  },
  {
   "cell_type": "code",
   "execution_count": 14,
   "metadata": {},
   "outputs": [
    {
     "data": {
      "image/png": "[encoded data removed]",
      "text/plain": [
       "<Figure size 720x216 with 1 Axes>"
      ]
     },
     "metadata": {
      "needs_background": "light"
     },
     "output_type": "display_data"
    }
   ],
   "source": [
    "plt.figure(figsize=(10,3))\n",
    "plt.plot(tid_Florida,temp_Florida)\n",
    "plt.grid()\n",
    "plt.xlim(tid_Florida[0], tid_Florida[-1])\n",
    "plt.show()"
   ]
  },
  {
   "cell_type": "markdown",
   "metadata": {},
   "source": [
    "### Del 6: Les inn datasettet til Ragnhild"
   ]
  },
  {
   "cell_type": "code",
   "execution_count": 3,
   "metadata": {},
   "outputs": [],
   "source": [
    "# Husk å endre sti og filnavn slik at det stemmer med oppsettet på din PC\n",
    "sti='W:/Work/Documents/EkteData/EkteData/data'\n",
    "fil='/4-6_januar_Temperaturegistrering_AB-vei.csv'"
   ]
  },
  {
   "cell_type": "markdown",
   "metadata": {},
   "source": [
    "Datasettet til Ragnhild Hannaas er satt opp litt annerledes enn datasettene til seklima.no. Men begge datsettene er på csv-format, så vi bruker fremdeles funksjonen `pd.read_csv()`. Spesifiseringene vi tregner nå er:\n",
    "- `sep=','`: kolonnene i csv-filen er skilt med komma. Dette er default for csv-filer, så denne spesifiseringen er strengt tatt overflødig.\n",
    "- `engine=python`: siden Celcius en angitt med grad-tegn (special character) må man spesifisere engine.\n",
    "- `parse:dates=['Time']`: konverterer kolonnen med tid til \"Timestamp\" som er lett å jobbe med for tid.\n",
    "\n",
    "Dette er ikke spesifiseringer man husker i hodet. Istedet bruker man dokumentasjonen, ser på hva man får ut eller feilmeldingen, og justerer til man får ut en tabell som inneholder all informasjonen i datafilen du leser inn. Som en tommelfingerregel trenger man nesten alltid `sep=''` og `parse_dates=['']`."
   ]
  },
  {
   "cell_type": "code",
   "execution_count": 4,
   "metadata": {},
   "outputs": [],
   "source": [
    "df=pd.read_csv(\n",
    "    sti+fil, sep=',', engine='python',\n",
    "    parse_dates=['Time']\n",
    ")"
   ]
  },
  {
   "cell_type": "code",
   "execution_count": 5,
   "metadata": {},
   "outputs": [
    {
     "data": {
      "text/html": [
       "<div>\n",
       "<style scoped>\n",
       "    .dataframe tbody tr th:only-of-type {\n",
       "        vertical-align: middle;\n",
       "    }\n",
       "\n",
       "    .dataframe tbody tr th {\n",
       "        vertical-align: top;\n",
       "    }\n",
       "\n",
       "    .dataframe thead th {\n",
       "        text-align: right;\n",
       "    }\n",
       "</style>\n",
       "<table border=\"1\" class=\"dataframe\">\n",
       "  <thead>\n",
       "    <tr style=\"text-align: right;\">\n",
       "      <th></th>\n",
       "      <th>Temp AB-vei</th>\n",
       "      <th>Time</th>\n",
       "      <th>Celsius(°C)</th>\n",
       "      <th>Comments</th>\n",
       "      <th>Serial Number</th>\n",
       "    </tr>\n",
       "  </thead>\n",
       "  <tbody>\n",
       "    <tr>\n",
       "      <th>0</th>\n",
       "      <td>1</td>\n",
       "      <td>2022-01-04 15:00:00</td>\n",
       "      <td>4.0</td>\n",
       "      <td>NaN</td>\n",
       "      <td>60039020.0</td>\n",
       "    </tr>\n",
       "    <tr>\n",
       "      <th>1</th>\n",
       "      <td>2</td>\n",
       "      <td>2022-01-04 15:01:00</td>\n",
       "      <td>4.0</td>\n",
       "      <td>NaN</td>\n",
       "      <td>NaN</td>\n",
       "    </tr>\n",
       "    <tr>\n",
       "      <th>2</th>\n",
       "      <td>3</td>\n",
       "      <td>2022-01-04 15:02:00</td>\n",
       "      <td>4.0</td>\n",
       "      <td>NaN</td>\n",
       "      <td>NaN</td>\n",
       "    </tr>\n",
       "    <tr>\n",
       "      <th>3</th>\n",
       "      <td>4</td>\n",
       "      <td>2022-01-04 15:03:00</td>\n",
       "      <td>4.0</td>\n",
       "      <td>NaN</td>\n",
       "      <td>NaN</td>\n",
       "    </tr>\n",
       "    <tr>\n",
       "      <th>4</th>\n",
       "      <td>5</td>\n",
       "      <td>2022-01-04 15:04:00</td>\n",
       "      <td>4.0</td>\n",
       "      <td>NaN</td>\n",
       "      <td>NaN</td>\n",
       "    </tr>\n",
       "    <tr>\n",
       "      <th>...</th>\n",
       "      <td>...</td>\n",
       "      <td>...</td>\n",
       "      <td>...</td>\n",
       "      <td>...</td>\n",
       "      <td>...</td>\n",
       "    </tr>\n",
       "    <tr>\n",
       "      <th>2569</th>\n",
       "      <td>2570</td>\n",
       "      <td>2022-01-06 09:49:00</td>\n",
       "      <td>9.5</td>\n",
       "      <td>NaN</td>\n",
       "      <td>NaN</td>\n",
       "    </tr>\n",
       "    <tr>\n",
       "      <th>2570</th>\n",
       "      <td>2571</td>\n",
       "      <td>2022-01-06 09:50:00</td>\n",
       "      <td>10.5</td>\n",
       "      <td>NaN</td>\n",
       "      <td>NaN</td>\n",
       "    </tr>\n",
       "    <tr>\n",
       "      <th>2571</th>\n",
       "      <td>2572</td>\n",
       "      <td>2022-01-06 09:51:00</td>\n",
       "      <td>11.0</td>\n",
       "      <td>NaN</td>\n",
       "      <td>NaN</td>\n",
       "    </tr>\n",
       "    <tr>\n",
       "      <th>2572</th>\n",
       "      <td>2573</td>\n",
       "      <td>2022-01-06 09:52:00</td>\n",
       "      <td>12.0</td>\n",
       "      <td>NaN</td>\n",
       "      <td>NaN</td>\n",
       "    </tr>\n",
       "    <tr>\n",
       "      <th>2573</th>\n",
       "      <td>2574</td>\n",
       "      <td>2022-01-06 09:53:00</td>\n",
       "      <td>12.5</td>\n",
       "      <td>NaN</td>\n",
       "      <td>NaN</td>\n",
       "    </tr>\n",
       "  </tbody>\n",
       "</table>\n",
       "<p>2574 rows × 5 columns</p>\n",
       "</div>"
      ],
      "text/plain": [
       "      Temp AB-vei                Time  Celsius(°C)  Comments  Serial Number\n",
       "0               1 2022-01-04 15:00:00          4.0       NaN     60039020.0\n",
       "1               2 2022-01-04 15:01:00          4.0       NaN            NaN\n",
       "2               3 2022-01-04 15:02:00          4.0       NaN            NaN\n",
       "3               4 2022-01-04 15:03:00          4.0       NaN            NaN\n",
       "4               5 2022-01-04 15:04:00          4.0       NaN            NaN\n",
       "...           ...                 ...          ...       ...            ...\n",
       "2569         2570 2022-01-06 09:49:00          9.5       NaN            NaN\n",
       "2570         2571 2022-01-06 09:50:00         10.5       NaN            NaN\n",
       "2571         2572 2022-01-06 09:51:00         11.0       NaN            NaN\n",
       "2572         2573 2022-01-06 09:52:00         12.0       NaN            NaN\n",
       "2573         2574 2022-01-06 09:53:00         12.5       NaN            NaN\n",
       "\n",
       "[2574 rows x 5 columns]"
      ]
     },
     "execution_count": 5,
     "metadata": {},
     "output_type": "execute_result"
    }
   ],
   "source": [
    "df"
   ]
  },
  {
   "cell_type": "code",
   "execution_count": 6,
   "metadata": {},
   "outputs": [],
   "source": [
    "tid=df['Time']\n",
    "temp=df['Celsius(°C)']"
   ]
  },
  {
   "cell_type": "code",
   "execution_count": 7,
   "metadata": {},
   "outputs": [],
   "source": [
    "temp=temp.to_numpy()\n",
    "tid=tid.to_numpy()"
   ]
  },
  {
   "cell_type": "code",
   "execution_count": 8,
   "metadata": {},
   "outputs": [
    {
     "data": {
      "image/png": "[encoded data removed]",
      "text/plain": [
       "<Figure size 720x216 with 1 Axes>"
      ]
     },
     "metadata": {
      "needs_background": "light"
     },
     "output_type": "display_data"
    }
   ],
   "source": [
    "plt.figure(figsize=(10,3))\n",
    "plt.plot(tid,temp)\n",
    "plt.grid()\n",
    "plt.xlim(tid[0], tid[-1])\n",
    "plt.show()"
   ]
  },
  {
   "cell_type": "markdown",
   "metadata": {},
   "source": [
    "### Del 7: Lag en figur med både data fra seklima.no og Ragnhild sin hage."
   ]
  },
  {
   "cell_type": "code",
   "execution_count": 21,
   "metadata": {},
   "outputs": [
    {
     "data": {
      "image/png": "[encoded data removed]",
      "text/plain": [
       "<Figure size 720x216 with 1 Axes>"
      ]
     },
     "metadata": {
      "needs_background": "light"
     },
     "output_type": "display_data"
    }
   ],
   "source": [
    "plt.figure(figsize=(10,3))\n",
    "plt.plot(tid, temp, label='Ragnhild sin hage')\n",
    "plt.plot(tid_Florida,temp_Florida, label='Florida, Bergen')\n",
    "plt.grid()\n",
    "plt.ylabel('Temperatur')\n",
    "plt.xlim(tid[0], tid[-1])\n",
    "plt.legend()\n",
    "plt.show()"
   ]
  },
  {
   "cell_type": "markdown",
   "metadata": {},
   "source": [
    "Dette ser jo ikke så gale ut! Men hva skjedde ca kl 13 den 5. januar og kl 10 den 6. januar? Var været hos Ragnhild litt anneledes enn været på Florida? Kan det være en feilkilde? Var det skygge eller sol, eller ble instrumentet tatt inn før loggeren ble skrudd av? \n",
    "\n",
    "Det er viktig å ta litt notater iblant når man henter inn data (dersom det er mulig). Det kan gjøre det mye enklere å tolke dataene i etterkant!\n",
    "\n",
    "Vi ser mer på hvordan vi kan behandle slike data i oppgaven [Del7_databehandling_av_egne_data](https://github.com/irendundas/EkteData/blob/main/NAT624/Del7_databehandling_av_egne_data.ipynb)"
   ]
  },
  {
   "cell_type": "markdown",
   "metadata": {},
   "source": [
    "_________________\n",
    "#### Et lite notat:\n",
    "Man kan også konvertere hele dataframen (df) til numpy på en gang istedet for å plukke ut de kolonnene vi trenger og så konvertere disse (slik som vi gjorde over). Hvis man konvertere hele dataframen til numpy med en gang kan man indeksere kolonnene som vanlig:"
   ]
  },
  {
   "cell_type": "code",
   "execution_count": 22,
   "metadata": {},
   "outputs": [
    {
     "data": {
      "text/plain": [
       "array([[1, Timestamp('2022-01-04 15:00:00'), 4.0, nan, 60039020.0],\n",
       "       [2, Timestamp('2022-01-04 15:01:00'), 4.0, nan, nan],\n",
       "       [3, Timestamp('2022-01-04 15:02:00'), 4.0, nan, nan],\n",
       "       ...,\n",
       "       [2572, Timestamp('2022-01-06 09:51:00'), 11.0, nan, nan],\n",
       "       [2573, Timestamp('2022-01-06 09:52:00'), 12.0, nan, nan],\n",
       "       [2574, Timestamp('2022-01-06 09:53:00'), 12.5, nan, nan]],\n",
       "      dtype=object)"
      ]
     },
     "execution_count": 22,
     "metadata": {},
     "output_type": "execute_result"
    }
   ],
   "source": [
    "data=df.to_numpy()\n",
    "data"
   ]
  },
  {
   "cell_type": "code",
   "execution_count": 23,
   "metadata": {},
   "outputs": [
    {
     "data": {
      "text/plain": [
       "array([Timestamp('2022-01-04 15:00:00'), Timestamp('2022-01-04 15:01:00'),\n",
       "       Timestamp('2022-01-04 15:02:00'), ...,\n",
       "       Timestamp('2022-01-06 09:51:00'), Timestamp('2022-01-06 09:52:00'),\n",
       "       Timestamp('2022-01-06 09:53:00')], dtype=object)"
      ]
     },
     "execution_count": 23,
     "metadata": {},
     "output_type": "execute_result"
    }
   ],
   "source": [
    "# Vanlig indekseing: \":\" for alle radene, og \"1\" for kolonne med indeks 1\n",
    "tid=data[:,1] \n",
    "tid"
   ]
  },
  {
   "cell_type": "code",
   "execution_count": 24,
   "metadata": {},
   "outputs": [
    {
     "data": {
      "text/plain": [
       "array([4.0, 4.0, 4.0, ..., 11.0, 12.0, 12.5], dtype=object)"
      ]
     },
     "execution_count": 24,
     "metadata": {},
     "output_type": "execute_result"
    }
   ],
   "source": [
    "temp=data[:,2]\n",
    "temp"
   ]
  },
  {
   "cell_type": "code",
   "execution_count": 25,
   "metadata": {},
   "outputs": [
    {
     "data": {
      "image/png": "[encoded data removed]",
      "text/plain": [
       "<Figure size 720x216 with 1 Axes>"
      ]
     },
     "metadata": {
      "needs_background": "light"
     },
     "output_type": "display_data"
    }
   ],
   "source": [
    "plt.figure(figsize=(10,3))\n",
    "plt.plot(tid,temp)\n",
    "plt.show()"
   ]
  },
  {
   "cell_type": "code",
   "execution_count": null,
   "metadata": {},
   "outputs": [],
   "source": []
  }
 ],
 "metadata": {
  "kernelspec": {
   "display_name": "Python 3",
   "language": "python",
   "name": "python3"
  },
  "language_info": {
   "codemirror_mode": {
    "name": "ipython",
    "version": 3
   },
   "file_extension": ".py",
   "mimetype": "text/x-python",
   "name": "python",
   "nbconvert_exporter": "python",
   "pygments_lexer": "ipython3",
   "version": "3.8.5"
  }
 },
 "nbformat": 4,
 "nbformat_minor": 4
}

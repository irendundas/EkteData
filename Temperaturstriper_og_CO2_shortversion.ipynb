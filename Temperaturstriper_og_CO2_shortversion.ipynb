{
 "cells": [
  {
   "cell_type": "markdown",
   "metadata": {},
   "source": [
    "## Temperatur og CO2 lokalt og globalt\n",
    "\n",
    "Denne oppgaven er laget for Lærernes dag og MAT625-seminar 26. Januar.\n",
    "\n",
    "*Vår Dundas, stipendiat i fysisk oseanografi, Geofysisk Institutt, UiB*\n",
    "\n",
    "------------------\n",
    "Målet med oppgaven er å gi en intro til hvordan man kan jobbe med data i Python. Vi bruker data over temperatur og CO2 til å gå gjennom: \n",
    "- **Innlasting av data** 💾\n",
    "- **Bruk av bibliotek** 📖\n",
    "- **Bruk av funksjoner** 🎯\n",
    "- **Strukturere variabler** 🗃️\n",
    "- **Visualisering** 🎨\n",
    "\n",
    "Casene vi ser på er:\n",
    "- Temperaturanomalier fra Bergen og globalt\n",
    "- Trendlinjer for ulike tidsperioder\n",
    "- Anomalier i global CO2 i atmosfæren. \n",
    "- Ulike måter å presentere og sammenligne data på. \n",
    "\n",
    "Vi bruker fire datasett:\n",
    "- Temperaturdata for Bergen: [last ned her](https://github.com/irendundas/EkteData/blob/main/data/Bergen_temp1862_2022.txt). Dette datasettet er komilert av Helge Drange basert på data fra Meteorologisk institutt. \n",
    "- Temperaturdata globalt: [last ned her](https://climate.metoffice.cloud/temperature.html#datasets) (bla ned til \"Get the data\" og last ned HadCRUT5, NOAAGlobalTemp, eller GISTEMP. I eksempelet her bruker jeg HadCRUT5). \n",
    "- CO2 data frem til 2004 (NOAA): [last ned her](https://www1.ncdc.noaa.gov/pub/data/paleo/icecore/antarctica/law/law2006.txt). Disse datene er basert på iskjerner. Datasettet har mye informasjon vi ikke trenger, vi laster det inn på en ryddig måte ca halvveis i oppgaven. \n",
    "- CO2 data fra 1959 frem til idag (NOAA): [last ned her](https://gml.noaa.gov/webdata/ccgg/trends/co2/co2_annmean_mlo.txt) \n",
    "\n",
    "Temperaturstripe-figurene i denne oppgaven er inpirert av [Ed Hawkins sin figur](https://www.wfla.com/wp-content/uploads/sites/71/2022/06/PAGES2K-ED-HAWKINS-CLIMATE-STRIPES.jpg?w=900)\n"
   ]
  },
  {
   "cell_type": "code",
   "execution_count": null,
   "metadata": {},
   "outputs": [],
   "source": [
    "# Last inn bibliotekene du trenger 📖\n",
    "\n",
    "import numpy as np\n",
    "import matplotlib.pyplot as plt\n",
    "import pandas as pd\n",
    "from matplotlib.colors import ListedColormap"
   ]
  },
  {
   "cell_type": "code",
   "execution_count": null,
   "metadata": {},
   "outputs": [],
   "source": [
    "SMALL_SIZE = 13\n",
    "MEDIUM_SIZE = 17\n",
    "BIGGER_SIZE = 14\n",
    "\n",
    "plt.rc('font', size=SMALL_SIZE)          # controls default text sizes\n",
    "plt.rc('axes', titlesize=MEDIUM_SIZE)    # fontsize of the axes title\n",
    "plt.rc('axes', labelsize=MEDIUM_SIZE)    # fontsize of the x and y labels\n",
    "plt.rc('xtick', labelsize=SMALL_SIZE)    # fontsize of the tick labels\n",
    "plt.rc('ytick', labelsize=SMALL_SIZE)    # fontsize of the tick labels\n",
    "plt.rc('legend', fontsize=SMALL_SIZE)    # legend fontsize\n",
    "plt.rc('figure', titlesize=BIGGER_SIZE)  # fontsize of the figure title"
   ]
  },
  {
   "cell_type": "markdown",
   "metadata": {},
   "source": [
    "## Del 1: Temperatur\n",
    "I denne delen ser vi på temperatur-anomalier. Dette betyr at vi ser på temperaturavvik i forhold til en satt referanseperiode. For HadCRUT5 er referanseperioden 1961–1990 ([Morice et al., 2020](https://agupubs.onlinelibrary.wiley.com/doi/full/10.1029/2019JD032361)).\n",
    "\n",
    "### Last inn datasett over global temperatur \n",
    "Følg denne [lenken](https://climate.metoffice.cloud/temperature.html#datasets) og last ned et av datasettene under **Global mean temperature**. Pass på at du lagrer filen på et logisk sted. \n",
    "Under bruker jeg datasettet fra HadCRUT5.\n",
    "Last så datasettet over global temperatur inn i Python. Vi bruker biblioteket Pandas. Dette biblioteket er supert for data i 2D. Skal du laste inn data med flere dimensjoner er biblioteket \"xarray\" supert. Veldig mye av funksjonaliteten er lik, men spesialisert på flere dimensjoner."
   ]
  },
  {
   "cell_type": "code",
   "execution_count": null,
   "metadata": {},
   "outputs": [],
   "source": [
    "# Spesifiser hvilken fil du vil laste inn og hvor på PCen din den ligger. 💾\n",
    "\n",
    "# Endre denne stien til der du lastet ned filen med Global temperatur på din PC\n",
    "# NB: skråstrekene skal være '/' IKKE '\\'. På Windows er de automatisk feil vei - pass på at de er '/'. \n",
    "# Bruker du Mac eller Linux er skråstrekene automatisk riktig vei. \n",
    "sti='W:/Work/Documents/EkteData/ikkeGit/temperaturstriper'\n",
    "fil='/gmt_HadCRUT5.csv'\n",
    "\n",
    "# Pass på at resultatet av sti+fil er nøyaktig det samme som der filen\n",
    "# faktisk ligger på PCen din. \n",
    "sti+fil"
   ]
  },
  {
   "cell_type": "markdown",
   "metadata": {},
   "source": [
    "Se [her](https://pandas.pydata.org/docs/reference/api/pandas.read_csv.html) for forklaring på keywordene (sep, index_col etc).\n",
    "\n",
    "For å vite hvilke keyword arguments (**kwargs i dokumentasjonen) du skal bruke og oppgi må du vite hvordan filen din ser ut. Jeg pleier alltid å åpne filen i for eksempel notepad for å inspisere hvordan kolonner er inndelt, hva som er desimaltegn, om det er en header etc. Det hjelper ikke å åpne filen i excel - da ser du ikke denne informasjonen. "
   ]
  },
  {
   "cell_type": "code",
   "execution_count": null,
   "metadata": {},
   "outputs": [],
   "source": [
    "# Her laster du inn datasettet 💾\n",
    "df = pd.read_csv(\n",
    "    sti+fil, \n",
    "    sep=',', \n",
    "    decimal='.', \n",
    "    index_col=False, \n",
    "    header=4,\n",
    "    skipinitialspace=True # Skip spaces after delimiter.\n",
    ")\n",
    "\n",
    "# From the doc: index_col=False can be used to force pandas to not use the \n",
    "# first column as the index, e.g. when you have a malformed file with \n",
    "# delimiters at the end of each line."
   ]
  },
  {
   "cell_type": "code",
   "execution_count": null,
   "metadata": {},
   "outputs": [],
   "source": [
    "# Print ut datasettet for å se hvordan det ser ut. \n",
    "df"
   ]
  },
  {
   "cell_type": "code",
   "execution_count": null,
   "metadata": {},
   "outputs": [],
   "source": [
    "# 🗃️\n",
    "# Lag en \"dictionary\" for tid og temperatur for å slippe å holde styr på så mange \n",
    "# variabler når vi etterpå laster inn tid og temp for Bergen også.\n",
    "tid, temp={},{}"
   ]
  },
  {
   "cell_type": "code",
   "execution_count": null,
   "metadata": {},
   "outputs": [],
   "source": [
    "# Gi den første kolonnen (iloc[:,0]) til \"tid\" og den andre kolonnen (iloc[:,1]) til \"temp\" 🗃️\n",
    "tid['Global']=np.copy(df.iloc[:,0])\n",
    "temp['Global']=np.copy(df.iloc[:,1])"
   ]
  },
  {
   "cell_type": "code",
   "execution_count": null,
   "metadata": {
    "scrolled": false
   },
   "outputs": [],
   "source": [
    "# Lag en figur for å få et intrykk av datasettet 🎨\n",
    "plt.plot(tid['Global'], temp['Global'])"
   ]
  },
  {
   "cell_type": "markdown",
   "metadata": {},
   "source": [
    "### Last inn datasettet over temperatur i Bergen\n",
    "Du finner datasettet [her](github.com/irendundas/EkteData/blob/main/data/Bergen_temp1862_2022.txt).\n"
   ]
  },
  {
   "cell_type": "code",
   "execution_count": null,
   "metadata": {},
   "outputs": [],
   "source": [
    "# 💾\n",
    "sti='W:/Work/Documents/EkteData/EkteData/data'\n",
    "fil='/Bergen_temp1862_2022.txt'\n",
    "\n",
    "# \"Keyword arguments\" her er litt annerledes enn over fordi datasettet fra Bergen er litt\n",
    "# annerledes enn det Globale datasettet.\n",
    "df = pd.read_csv(\n",
    "    sti+fil, \n",
    "    sep=' ', \n",
    "    decimal='.', \n",
    "    index_col=False, \n",
    "    header=4,\n",
    "    skipinitialspace=True \n",
    ")"
   ]
  },
  {
   "cell_type": "code",
   "execution_count": null,
   "metadata": {},
   "outputs": [],
   "source": [
    "df"
   ]
  },
  {
   "cell_type": "code",
   "execution_count": null,
   "metadata": {},
   "outputs": [],
   "source": [
    "# Lagre tid og temperatur som egne variabler i \"dictionaryene\" tid og temp: 🗃️\n",
    "\n",
    "tid['Bergen']=np.copy(df.iloc[:,0])\n",
    "# Vi vil se på anomalier, så vi setter den tredje kolonnen til temp['Bergen']\n",
    "temp['Bergen']=np.copy(df.iloc[:,3]) "
   ]
  },
  {
   "cell_type": "code",
   "execution_count": null,
   "metadata": {},
   "outputs": [],
   "source": [
    "# Plot både global og Bergen sin temperatur i samme figur 🎨\n",
    "plt.figure(figsize=(10,5))\n",
    "\n",
    "plt.plot(tid['Global'], temp['Global'], label='Global')\n",
    "plt.plot(tid['Bergen'], temp['Bergen'], label='Bergen')\n",
    "plt.legend()\n",
    "plt.ylabel('Temperaturanomali')\n",
    "plt.xlim([1850,2023])\n",
    "plt.show()"
   ]
  },
  {
   "cell_type": "markdown",
   "metadata": {},
   "source": [
    "**Spørsmål**\n",
    "\n",
    "- Hvorfor varierer temperaturanomaliene så mye mer fra år til år i Bergen enn globalt? \n",
    "- Hvorfor er variabiliteten likevel så lik over lang tid?"
   ]
  },
  {
   "cell_type": "markdown",
   "metadata": {},
   "source": [
    "_____________\n",
    "## Del 2: Trend - langtidsvariasjonen i Bergen: \n",
    "\n",
    "**NB! For lærernes dag og MAT625 26. januar: Kjør raskt gjennom cellene frem til der det står \"Beskriver et andregradspolynom utviklingen av temperatur bedre?\" uten å gjøre oppgavene.** \n",
    "\n",
    "Legg på tre trendlinjer. F.eks.:\n",
    "- En for hele datasettet, \n",
    "- en for perioden fra jeg er født til idag, og\n",
    "- en for perioden fra dere er født (ca 1970?) til idag.\n"
   ]
  },
  {
   "cell_type": "code",
   "execution_count": null,
   "metadata": {},
   "outputs": [],
   "source": [
    "# Finn indeksen til år 1994, og 1970 🎯\n",
    "id94=np.where(tid['Bergen']==1994)[0][0]\n",
    "id70=np.where(tid['Bergen']==1970)[0][0]\n",
    "\n",
    "# Sjekk at indeksene vi har funnet stemmer\n",
    "tid['Bergen'][id94], tid['Bergen'][id70]"
   ]
  },
  {
   "cell_type": "code",
   "execution_count": null,
   "metadata": {},
   "outputs": [],
   "source": [
    "# 🎨\n",
    "plt.figure(figsize=(10,5))\n",
    "# Hele tidsserien\n",
    "plt.plot(tid['Bergen'], temp['Bergen'], 'C1', label='Bergen') \n",
    "# trenden til hele tidsserien 🎯\n",
    "a, b = np.polyfit(tid['Bergen'], temp['Bergen'], 1) \n",
    "plt.plot(tid['Bergen'], a*tid['Bergen'] + b, 'k', label='trend: 1860-2023')\n",
    " # trenden siden 1970\n",
    "a, b = np.polyfit(tid['Bergen'][id70:], temp['Bergen'][id70:], 1)\n",
    "plt.plot(\n",
    "    tid['Bergen'][id70:], a*tid['Bergen'][id70:] + b, \n",
    "    'k', label='trend: 1970-2023', ls=':'\n",
    ")\n",
    "# trenden siden 1994\n",
    "a, b = np.polyfit(tid['Bergen'][id94:], temp['Bergen'][id94:], 1) \n",
    "plt.plot(\n",
    "    tid['Bergen'][id94:], a*tid['Bergen'][id94:] + b, \n",
    "    'k', label='trend: 1994-2023', ls='--'\n",
    ")\n",
    "\n",
    "plt.legend()\n",
    "plt.ylabel('Temperaturanomali')\n",
    "\n",
    "plt.grid()\n",
    "plt.show()"
   ]
  },
  {
   "cell_type": "code",
   "execution_count": null,
   "metadata": {},
   "outputs": [],
   "source": [
    "a, b = np.polyfit(tid['Bergen'], temp['Bergen'], 1) # trenden til hele tidsserine\n",
    "x=(a*tid['Bergen'][-1] + b)-(a*tid['Bergen'][0] + b)\n",
    "x=\"{:.1f}\".format(x) # Skriv bare ut en desimal. 🎯\n",
    "\n",
    "print(\n",
    "    'Trenden indikerer at for hele perioden har temperaturen i Bergen økt med ', \n",
    "    x, 'grader'\n",
    ")"
   ]
  },
  {
   "cell_type": "code",
   "execution_count": null,
   "metadata": {},
   "outputs": [],
   "source": [
    "# Plottingen av figuren over blir ryddigere med en for-løkke 🎯🎨\n",
    "plt.figure(figsize=(10,5))\n",
    "\n",
    "plt.plot(tid['Bergen'], temp['Bergen'], 'C1', label='Bergen')\n",
    "\n",
    "idt=[0, id70, id94]\n",
    "labels=['trend: 1860-2023', 'trend: 1970-2023', 'trend: 1994-2023']\n",
    "ls=['-', ':', '--'] # Linestyle\n",
    "for count,start in enumerate(idt):\n",
    "    a, b = np.polyfit(tid['Bergen'][start:], temp['Bergen'][start:], 1)   \n",
    "    plt.plot(\n",
    "        tid['Bergen'][start:], a*tid['Bergen'][start:] + b, \n",
    "        'k', label=labels[count], lw=2, ls=ls[count]\n",
    "    )\n",
    "plt.ylabel('Temperaturanomali')\n",
    "plt.legend()\n",
    "plt.show()\n"
   ]
  },
  {
   "cell_type": "markdown",
   "metadata": {},
   "source": [
    "**Spørsmål**\n",
    "- Hva er forskjellen på trendlinjene?\n",
    "- Hva skjer med trendlinjene når startdatoen for beregningsperioden øker? \n",
    "- Hva betyr dette fysisk?\n",
    "\n",
    "**Kan du stole på trendlinjene?**\n",
    "- Beregn trenden for de to periodene 1977-2000 og 1990-2013. \n",
    "- Anta at begge trendene representerer endringen i temperatur for Bergen for de 160 årene vi har med data. \n",
    "    - I følge trend nr 1, hvor mye har temperaturen endret seg de siden starten av tidsserien?\n",
    "    - Hva med i følge trend nr 2?\n",
    "- Forskjellen er stor! Vær alltid obs på om trender du presenterer (eller får presentert) er robuste! Trender bør ikke være sterkt påvirket av valg av start og slutt. \n"
   ]
  },
  {
   "cell_type": "code",
   "execution_count": null,
   "metadata": {},
   "outputs": [],
   "source": [
    "# 🎨\n",
    "plt.figure(figsize=(10,5))\n",
    "# Hele tidsserien\n",
    "plt.plot(tid['Bergen'], temp['Bergen'], 'C1', label='Bergen') \n",
    "id1=np.where(tid['Bergen']==1990)[0][0]\n",
    "id2=np.where(tid['Bergen']==2013)[0][0]+1\n",
    "# trenden siden 1970\n",
    "a, b = np.polyfit(tid['Bergen'][id1:id2], temp['Bergen'][id1:id2], 1)\n",
    "print('endring de siste 160 årene: ', a*160, 'grader')\n",
    "plt.plot(\n",
    "    tid['Bergen'][id1:id2], a*tid['Bergen'][id1:id2] + b, \n",
    "    'k', label='trend: 1990-2013', ls='--'\n",
    ")\n",
    "id1=np.where(tid['Bergen']==1977)[0][0]\n",
    "id2=np.where(tid['Bergen']==2000)[0][0]+1\n",
    "# trenden siden 1994\n",
    "a, b = np.polyfit(tid['Bergen'][id1:id2], temp['Bergen'][id1:id2], 1)\n",
    "print('endring de siste 160 årene: ', a*160, 'grader')\n",
    "plt.plot(\n",
    "    tid['Bergen'][id1:id2], a*tid['Bergen'][id1:id2] + b, \n",
    "    'k', label='trend: 1977-2000', ls='-'\n",
    ")\n",
    "\n",
    "plt.legend()\n",
    "plt.ylabel('Temperaturanomali')\n",
    "plt.xlim(1960, 2023)\n",
    "plt.grid()\n",
    "plt.show()"
   ]
  },
  {
   "cell_type": "markdown",
   "metadata": {},
   "source": [
    "\n",
    "_____________\n",
    "### Beskriver et andregradspolynom utviklingen av temperatur bedre? "
   ]
  },
  {
   "cell_type": "code",
   "execution_count": null,
   "metadata": {},
   "outputs": [],
   "source": [
    "# 🎨\n",
    "plt.figure(figsize=(10,5))\n",
    "plt.plot(tid['Bergen'], temp['Bergen'], 'C1', label='Bergen')\n",
    "# trenden til hele tidsserine\n",
    "a, b = np.polyfit(tid['Bergen'], temp['Bergen'], 1) # 🎯\n",
    "plt.plot(tid['Bergen'], a*tid['Bergen'] + b, 'k', label='lineær tilpasning', ls='-')\n",
    "# Andregrads polynom tilpasset dataene\n",
    "a = np.polyfit(tid['Bergen'], temp['Bergen'], 2) \n",
    "plt.plot(\n",
    "    tid['Bergen'], \n",
    "    a[0]*tid['Bergen']**2 + a[1]*tid['Bergen'] + a[2], \n",
    "    'k', label='tilpasset annengrads polynom', ls='--'\n",
    ")\n",
    "plt.ylabel('Temperaturanomali')\n",
    "plt.legend()\n",
    "plt.show()"
   ]
  },
  {
   "cell_type": "markdown",
   "metadata": {},
   "source": [
    "**Spørsmål**\n",
    "- Hva slags informasjon får vi av andregradspolynomet som vi ikke fikk av den lineære trendlinjen over hele tidsserien? \n",
    "\n",
    "**Oppgave: Hva med trenden til den globale temperaturanomalien?**\n",
    "- Beregn trendlinjen for den globale tidsserien. \n",
    "- Plot trendlinjen globalt og for Bergen i samme figur for å sammeligne dem lettere. \n",
    "- Tips: start tidsseien i 1862 for at tidsseriene skal stemme overens. "
   ]
  },
  {
   "cell_type": "code",
   "execution_count": null,
   "metadata": {},
   "outputs": [],
   "source": [
    "tid['Bergen'][0], tid['Global'][0]"
   ]
  },
  {
   "cell_type": "code",
   "execution_count": null,
   "metadata": {},
   "outputs": [],
   "source": [
    "id62=np.where(tid['Global']==1862)[0][0] # 🎯\n",
    "\n",
    "a, b = np.polyfit(tid['Global'][id62:], temp['Global'][id62:], 1)   \n",
    "plt.plot(tid['Global'][id62:], a*tid['Global'][id62:] + b, label='Global')\n",
    "\n",
    "a, b = np.polyfit(tid['Bergen'], temp['Bergen'], 1)   \n",
    "plt.plot(tid['Bergen'], a*tid['Bergen'] + b, label='Bergen')\n",
    "plt.legend()\n",
    "plt.ylabel('Temperatur trend')\n",
    "\n",
    "plt.show()"
   ]
  },
  {
   "cell_type": "markdown",
   "metadata": {},
   "source": [
    "**Spørsmål**\n",
    "- Hva forteller de lineære trendlinjene oss om den globale temperaturendringen vs temperaturendringen i Bergen?\n",
    "\n",
    "______________"
   ]
  },
  {
   "cell_type": "markdown",
   "metadata": {},
   "source": [
    "### Temperaturstriper 🎨\n",
    "**Plot tidsserien som et histogram med fargene brukt i den originale \"temperaturstripe\"-figuren laget av [Ed Hawkins](https://www.wfla.com/wp-content/uploads/sites/71/2022/06/PAGES2K-ED-HAWKINS-CLIMATE-STRIPES.jpg?w=900).**"
   ]
  },
  {
   "cell_type": "code",
   "execution_count": null,
   "metadata": {},
   "outputs": [],
   "source": [
    "# Fargekart fra den originale tremperaturstripe-figuren \n",
    "# med 8 blå og 8 røde farger 🎯\n",
    "cmap = ListedColormap([\n",
    "    '#08306b', '#08519c', '#2171b5', '#4292c6',\n",
    "    '#6baed6', '#9ecae1', '#c6dbef', '#deebf7',\n",
    "    '#fee0d2', '#fcbba1', '#fc9272', '#fb6a4a',\n",
    "    '#ef3b2c', '#cb181d', '#a50f15', '#67000d',\n",
    "])\n"
   ]
  },
  {
   "cell_type": "markdown",
   "metadata": {},
   "source": [
    "Notat: I kodecellen under er denne linjen: `color=cmap((temp['Global']+span)/(2*span))`. \n",
    "Vi vil at alle temperaturanomalier som er under 0 skal bli blå, og at alle anomalier som er over 0 skal bli røde. \n",
    "Det er litt komplisert å forklare hvorfor dette fungerer, og det er heller ikke hovedpoenget med denne oppgaven. Under kommer en kort forklaring, men du må gjerne hoppe over å forstå akkurat denne sammenhengen. \n",
    "\n",
    "For å gjøre anomaliene over null røde og anomaliene under null blå normaliserer vi temperaturverdiene mellom 0 og 1. \n",
    "De ikke-normaliserte anomaliene i starten av tidsserien er nærme 0. Etter normaliseringen har anomaliene som var 0 blir til 0.5, i.e., midt mellom 0 og 1. Fargene i starten er derfor lyse fordi fargene på midten av vektoren cmap er lyse. Mot slutten av tidsserien er temperaturen godt over 0 (nærme 1 etter normaliseringen), og fargene blir derfor mørkerøde. \n",
    "Variabelen `max_anomaly` er den største temperatur-anomalien. Ved å bruke denne verdien til å normalisere får den største anomalien i plottet vårt den mørkeste røde fargen. \n",
    "\n"
   ]
  },
  {
   "cell_type": "code",
   "execution_count": null,
   "metadata": {},
   "outputs": [],
   "source": [
    "max_anomaly=max(temp['Global']) # 🎯"
   ]
  },
  {
   "cell_type": "code",
   "execution_count": null,
   "metadata": {},
   "outputs": [],
   "source": [
    "# Denne figuren viser at anomalier nærme 0 blir 0.5, mens max-anomaliene blir 1. 🎨\n",
    "# Hvis det fantes negative anomalier som var like sterke som den positive ville disse blitt 0. \n",
    "fig, ax=plt.subplots(1, 1, figsize=(10, 4))\n",
    "plt.plot((temp['Global']+max_anomaly)/(2*max_anomaly))\n"
   ]
  },
  {
   "cell_type": "code",
   "execution_count": null,
   "metadata": {},
   "outputs": [],
   "source": [
    "# 🎯🎨\n",
    "fig, ax=plt.subplots(1, 1, figsize=(10, 4))\n",
    "plt.bar(\n",
    "    tid['Global'], temp['Global'], \n",
    "    color=cmap((temp['Global']+max_anomaly)/(2*max_anomaly)) #normalize data values to the range [0, 1]\n",
    ") \n",
    "    \n",
    "plt.plot(tid['Global'], temp['Global'], 'k', linewidth=0.5)\n",
    "plt.ylabel('Temperaturanomali')\n",
    "plt.title('Global')\n",
    "plt.ylim(-2, 2.4)"
   ]
  },
  {
   "cell_type": "code",
   "execution_count": null,
   "metadata": {},
   "outputs": [],
   "source": [
    "# 🎯🎨\n",
    "fig, ax=plt.subplots(1, 1, figsize=(10, 4))\n",
    "plt.bar(tid['Bergen'], temp['Bergen'], color=cmap((temp['Bergen']+max_anomaly)/(2*max_anomaly)))\n",
    "plt.ylim(-2, 2.4)\n",
    "\n",
    "# Legg til trendlinjer fra tidligere\n",
    "idt=[0, id70]\n",
    "for count,start in enumerate(idt):\n",
    "    a, b = np.polyfit(tid['Bergen'][start:], temp['Bergen'][start:], 1)   \n",
    "    plt.plot(\n",
    "        tid['Bergen'][start:], a*tid['Bergen'][start:] + b, \n",
    "        'k', linewidth=1\n",
    "    )\n",
    "plt.ylabel('Temperaturanomali [°C]')\n",
    "plt.title('Bergen')\n"
   ]
  },
  {
   "cell_type": "markdown",
   "metadata": {},
   "source": [
    "________________________\n",
    "### Del 3: CO2 i atmosfæren 💾\n",
    "\n",
    "Temperatur er knyttet til CO2 i atmosfæren via drivhuseffekten som påvirker den globale strålingsbalansen. Dette blir tydelig dersom vi plotter temperaturanomaliene i samme figur som CO2.\n",
    "\n",
    "Vi må bruke to datasett over CO2 og sette dem sammen. Begge er tilgjengelig via NOAA. Det ene datasette er fra Law station i Antarktis og er basert på iskjerner. Dette datasettet slutter i 2004. Det andre datasetter er fra Mauna Loa og starter i 1959. "
   ]
  },
  {
   "cell_type": "code",
   "execution_count": null,
   "metadata": {},
   "outputs": [],
   "source": [
    "# Last inn datasettet over CO2 fra iskjerner tatt i Antarktis (1832-2004) 💾\n",
    "# Tips: Hvis du har windows (som meg) kan man slippe å bytte ut alle skråstrekene om man putter en 'r' foran. \n",
    "sti=r'W:\\Work\\Documents\\EkteData\\ikkeGit\\temperaturstriper'\n",
    "fil=r'\\LawCO2.txt'\n",
    "\n",
    "df = pd.read_csv(\n",
    "    sti+fil, \n",
    "    delim_whitespace=True,\n",
    "    decimal='.', \n",
    "    index_col=False, \n",
    "    skiprows=2013,\n",
    "    skipfooter=3676-2187,\n",
    "    engine='python'\n",
    ")"
   ]
  },
  {
   "cell_type": "code",
   "execution_count": null,
   "metadata": {},
   "outputs": [],
   "source": [
    "df"
   ]
  },
  {
   "cell_type": "code",
   "execution_count": null,
   "metadata": {},
   "outputs": [],
   "source": [
    "# 🗃️\n",
    "tidco2_law=np.copy(df.iloc[:,0])\n",
    "co2_law=np.copy(df.iloc[:,5])"
   ]
  },
  {
   "cell_type": "code",
   "execution_count": null,
   "metadata": {},
   "outputs": [],
   "source": [
    "# 🎨\n",
    "plt.plot(tidco2_law, co2_law)\n",
    "plt.ylabel('CO2')"
   ]
  },
  {
   "cell_type": "code",
   "execution_count": null,
   "metadata": {},
   "outputs": [],
   "source": [
    "# Last inn datasettet over CO2 fra instrumentelle målinger (1959-) 💾\n",
    "fil='/MaunaLoa_CO2.txt'\n",
    "\n",
    "df = pd.read_csv(\n",
    "    sti+fil, \n",
    "    sep=' ', \n",
    "    decimal='.', \n",
    "    skipinitialspace=True,\n",
    "    skiprows=55\n",
    ")"
   ]
  },
  {
   "cell_type": "code",
   "execution_count": null,
   "metadata": {},
   "outputs": [],
   "source": [
    "# 🗃️\n",
    "tidco2_noaa=np.copy(df.iloc[:,0])\n",
    "co2_noaa=np.copy(df.iloc[:,1])"
   ]
  },
  {
   "cell_type": "code",
   "execution_count": null,
   "metadata": {},
   "outputs": [],
   "source": [
    "# 🎨\n",
    "plt.plot(tidco2_law, co2_law)\n",
    "plt.plot(tidco2_noaa, co2_noaa)\n",
    "plt.ylabel('CO2')\n"
   ]
  },
  {
   "cell_type": "code",
   "execution_count": null,
   "metadata": {},
   "outputs": [],
   "source": [
    "print('Datasettene overlapper. Datasettet fra Law slutter i ',tidco2_law[-1], 'mens datasettet fra NOAA starte i ', tidco2_noaa[0])"
   ]
  },
  {
   "cell_type": "code",
   "execution_count": null,
   "metadata": {},
   "outputs": [],
   "source": [
    "# 🗃️ 🎯\n",
    "# For å sette datasettene sammen bruker vi gjennomsnittet av de to kildene i perioden som overlapper. \n",
    "# Vi lager to nye variabler: tidco2 og co2\n",
    "tidco2=np.arange(tidco2_law[0], tidco2_noaa[-1]+1, 1)"
   ]
  },
  {
   "cell_type": "code",
   "execution_count": null,
   "metadata": {},
   "outputs": [],
   "source": [
    "# Et array som vi kan fylle med CO2-data 🗃️ 🎯\n",
    "# Gi denne to kolonner slik at vi kan fylle inn data fra Law i den ene kolonnen og data fra Law i den andre.\n",
    "# Men: la dem ha samme tidsvektor og fyll inn med nan der de to respektive CO2-tidsseriene ikke har data!\n",
    "co2=np.nan*np.zeros((len(tidco2),2))"
   ]
  },
  {
   "cell_type": "code",
   "execution_count": null,
   "metadata": {},
   "outputs": [],
   "source": [
    "# 🗃️\n",
    "# Plugg inn data fra Law i kolonne 0\n",
    "# År 1832 til og med 2004\n",
    "id2004=np.where(tidco2_law==tidco2_law[-1])[0][0]+1 # +1 på grunn av \"til og MED\"\n",
    "co2[:id2004, 0]=co2_law\n",
    "\n",
    "# Plugg inn data fra NOAA i kolonne 1\n",
    "# År 1959 til og med 2022 (eller senere avhengig av når du lastet ned dataene)\n",
    "id1959=np.where(tidco2==tidco2_noaa[0])[0][0]\n",
    "co2[id1959:, 1]=co2_noaa\n",
    "\n",
    "# Redefiner variabelen c02 til gjennomsnittet av variabelen co2 🎯\n",
    "co2=np.nanmean(co2,1)"
   ]
  },
  {
   "cell_type": "code",
   "execution_count": null,
   "metadata": {},
   "outputs": [],
   "source": [
    "# 🎨\n",
    "# Plot CO2 fra law og NOAA som tynne svarte linjer i bakgrunnen\n",
    "plt.plot(tidco2_law, co2_law, 'k', lw=.5, label='Law')\n",
    "plt.plot(tidco2_noaa, co2_noaa, 'k', lw=.5, label='NOAA')\n",
    "# Plot CO2 som gjennomsnitt av Law og NOAA på toppen i blått \n",
    "# for å sjekke at estimatet ditt er fornuftig. \n",
    "plt.plot(tidco2, co2, label='Average')\n",
    "plt.ylabel('CO2')\n",
    "plt.legend()\n",
    "\n"
   ]
  },
  {
   "cell_type": "markdown",
   "metadata": {},
   "source": [
    "_____________________________\n",
    "### Alt oppsummert: \n",
    "Lag en figur med temperaturstriper, andre ordens tilpasset polynom og globalt CO2-nivå."
   ]
  },
  {
   "cell_type": "code",
   "execution_count": null,
   "metadata": {},
   "outputs": [],
   "source": [
    "# 🎨\n",
    "fig, ax=plt.subplots(1, 1, figsize=(10, 4))\n",
    "ax.bar(\n",
    "    tid['Global'], temp['Global'], \n",
    "    color=cmap((temp['Global']+max_anomaly)/(2*max_anomaly)) #normalize data values to the range [0, 1]\n",
    ") \n",
    "plt.title('Global')\n",
    "ax.set_ylim(-0.5, 1.4)\n",
    "\n",
    "# Legg til trendlinjer fra tidligere\n",
    "a = np.polyfit(tid['Global'], temp['Global'], 2)   \n",
    "ax.plot(\n",
    "    tid['Global'], a[0]*tid['Global']**2 \n",
    "    + a[1]*tid['Global'] + a[2], \n",
    "    'k'\n",
    ")\n",
    "ax.set_ylabel('Temperaturanomali \\n Globalt')\n",
    "    \n",
    "# Legg til global CO2\n",
    "ax2=ax.twinx()\n",
    "ax2.plot(tidco2, co2, 'C2', linewidth=3)\n",
    "# Tilpass aksene i figuren for å vise informasjonen tydeligere\n",
    "ax2.set_ylim(250, 430)\n",
    "ax2.spines['right'].set_color('C2')\n",
    "ax2.tick_params(axis='y', colors='C2')\n",
    "ax2.yaxis.label.set_color('C2')\n",
    "ax2.set_ylabel('Global CO2')\n",
    "\n",
    "\n",
    "plt.xlim(tid['Global'][0], tid['Global'][-1])\n",
    "plt.show()"
   ]
  },
  {
   "cell_type": "markdown",
   "metadata": {},
   "source": [
    "#### Ærlig visualisering\n",
    "Nå har vi justert grensene til både den høyre og venstre y-aksen slik at de tydelig viser det vi ønsker å formidle, i.e., at temperatur og CO2 henger sammen. Men hva synes du om å tilpasse aksene slik som over?\n",
    "\n",
    "Det er viktig å være bevisst på at man visualiserer data og resultater på en ærlig måte. Doble y-akser kan være en veldig god måte å vise sammenheng mellom to variabler på, men det kan også være en fallgruve:"
   ]
  },
  {
   "cell_type": "code",
   "execution_count": null,
   "metadata": {},
   "outputs": [],
   "source": [
    "# 🎨\n",
    "fig, axs = plt.subplots(1, 3, figsize=(10, 4))\n",
    "ylim=[(-0.5, 1.4), (-0.5, 1.4), (-5, 20)] # ylim for temperature\n",
    "ylim2=[(-500, 1000), (250, 430), (250, 430)] # ylim for CO2\n",
    "\n",
    "for count, ax in enumerate(axs):\n",
    "    ax.set_ylim(ylim[count])\n",
    "\n",
    "    # Legg til trendlinjer fra tidligere\n",
    "    a = np.polyfit(tid['Global'], temp['Global'], 2)   \n",
    "    ax.plot(\n",
    "        tid['Global'], a[0]*tid['Global']**2 \n",
    "        + a[1]*tid['Global'] + a[2], 'k'\n",
    "    )\n",
    "        \n",
    "    # Legg til global CO2\n",
    "    ax2=ax.twinx()\n",
    "    ax2.plot(tidco2, co2, 'C2', linewidth=3)\n",
    "    # Tilpass aksene i figuren for å vise informasjonen tydeligere\n",
    "    ax2.set_ylim(ylim2[count])\n",
    "    ax2.spines['right'].set_color('C2')\n",
    "    ax2.tick_params(axis='y', colors='C2')\n",
    "    ax2.yaxis.label.set_color('C2')\n",
    "\n",
    "\n",
    "    plt.xlim(tid['Global'][0], tid['Global'][-1])\n",
    "ax2.set_ylabel('Global CO2')\n",
    "axs[0].set_ylabel('Temperaturanomali \\n Globalt')\n",
    "axs[1].set_title('Global')\n",
    "plt.subplots_adjust(wspace=.8)\n",
    "\n",
    "plt.show()"
   ]
  },
  {
   "cell_type": "markdown",
   "metadata": {},
   "source": [
    "Inntrykket av sammenhengen mellom CO2 og Temperatur er helt avhengig av hvilke akser vi bruker. En sjekk vi kan gjøre for å se om endringene er sammenlignbare er å se på de normaliserte tidsseriene. Da får vi et mye bedre inntrykk av om endringen er betydelig i forhold til intern variasjon og gjennomsnittsverdi eller ikke. Figuren under viser at endringen i både temperaturtrendene og CO2 er på samme skala. Dette gir oss tiltro til at det er ok å bruke doble tilpassede akser. "
   ]
  },
  {
   "cell_type": "code",
   "execution_count": null,
   "metadata": {},
   "outputs": [],
   "source": [
    "# Normaliserte trendlinjer og CO2 🎨\n",
    "\n",
    "# Temp\n",
    "a = np.polyfit(tid['Global'], temp['Global'], 2)   \n",
    "var=a[0]*tid['Global']**2 + a[1]*tid['Global'] + a[2]\n",
    "# Normaliser: (var-mean)/std\n",
    "var=(var-np.mean(var))/np.std(var)\n",
    "plt.plot(tid['Global'], var, 'C0', label='Global')\n",
    "\n",
    "a = np.polyfit(tid['Bergen'], temp['Bergen'], 2)   \n",
    "var=a[0]*tid['Bergen']**2 + a[1]*tid['Bergen'] + a[2]\n",
    "var=(var-np.mean(var))/np.std(var)\n",
    "plt.plot(tid['Bergen'], var, 'C1', label='Bergen')\n",
    "\n",
    "# CO2\n",
    "var=(co2-np.mean(co2))/np.std(co2)\n",
    "plt.plot(tidco2, var, 'k', linewidth=3, label='CO2')\n",
    "\n",
    "plt.xlim(tid['Global'][0], tid['Global'][-1])\n",
    "plt.ylabel('Temperaturanomali \\n Globalt')\n",
    "plt.legend()\n",
    "\n",
    "plt.show()"
   ]
  },
  {
   "cell_type": "markdown",
   "metadata": {},
   "source": [
    "En annen ting å være særlig oppmerksom på er bruk av fargekart: ikke bruk rainbow/hsv/jet, i.e., \"Miscellaneous\" fargekart! Disse fargekartene har ujevne overganger mellom fargene og skaper et inntrykk av store endringer der det ikke nødvendigvis er sant. \n",
    "\n",
    "**Nå som vi er trygg på sammenhengen mellom endring i temperatur og CO2 lager vi samme figur for Bergen**"
   ]
  },
  {
   "cell_type": "code",
   "execution_count": null,
   "metadata": {},
   "outputs": [],
   "source": [
    "# 🎨\n",
    "fig, ax=plt.subplots(1, 1, figsize=(10, 4))\n",
    "ax.bar(\n",
    "    tid['Bergen'], temp['Bergen'], \n",
    "    color=cmap((temp['Bergen']+max_anomaly)/(2*max_anomaly)) #normalize data values to the range [0, 1]\n",
    ") \n",
    "plt.title('Bergen')\n",
    "ax.set_ylim(-1.5, 2.4)\n",
    "\n",
    "# Legg til trendlinjer fra tidligere\n",
    "a = np.polyfit(tid['Bergen'], temp['Bergen'], 2)   \n",
    "ax.plot(\n",
    "    tid['Bergen'], a[0]*tid['Bergen']**2 \n",
    "    + a[1]*tid['Bergen'] + a[2], 'k'\n",
    ")\n",
    "ax.set_ylabel('Temperaturanomali \\ni Bergen')\n",
    "    \n",
    "# Legg til global CO2\n",
    "ax2=ax.twinx()\n",
    "ax2.plot(tidco2, co2, 'C2', linewidth=3)\n",
    "ax2.set_ylim(200, 530)\n",
    "ax2.spines['right'].set_color('C2')\n",
    "ax2.tick_params(axis='y', colors='C2')\n",
    "ax2.yaxis.label.set_color('C2')\n",
    "ax2.set_ylabel('Bergen CO2')\n",
    "\n",
    "plt.xlim(tid['Bergen'][0], tid['Bergen'][-1])\n",
    "plt.show()"
   ]
  },
  {
   "cell_type": "markdown",
   "metadata": {},
   "source": [
    "**Spørsmål**\n",
    "- Hva tror du den globale temperaturanomalien vil være i 2040? Hvilke antakelser gjør du for å komme frem til svaret ditt? \n",
    "- Hva tror du temperaturanomalien i Bergen vil være i 2040?\n",
    "- Har du mest tiltro til svaret ditt for Bergen eller globalt? \n"
   ]
  },
  {
   "cell_type": "code",
   "execution_count": null,
   "metadata": {},
   "outputs": [],
   "source": []
  },
  {
   "cell_type": "code",
   "execution_count": null,
   "metadata": {},
   "outputs": [],
   "source": []
  }
 ],
 "metadata": {
  "kernelspec": {
   "display_name": "Python 3",
   "language": "python",
   "name": "python3"
  },
  "language_info": {
   "codemirror_mode": {
    "name": "ipython",
    "version": 3
   },
   "file_extension": ".py",
   "mimetype": "text/x-python",
   "name": "python",
   "nbconvert_exporter": "python",
   "pygments_lexer": "ipython3",
   "version": "3.8.5"
  }
 },
 "nbformat": 4,
 "nbformat_minor": 4
}

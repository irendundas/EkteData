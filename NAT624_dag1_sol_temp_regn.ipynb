{
 "cells": [
  {
   "cell_type": "markdown",
   "metadata": {},
   "source": [
    "### Intro til programmering i Python\n",
    "\n",
    "Tema: **csv-filer**, **seklima.no**, **pandas**, **numpy**\n",
    "\n",
    "\n",
    "Når du er ferdig med å installere jupyter notebook og satt det opp for bruk med Ekte Data kan du kjøre gjennom dette skriptet for å sjekke at alt er satt opp slik det skal. \n",
    "\n",
    "Dette skriptet inneholder forklaringer på en del av det som skjer, men ikke alt. Hovedpoenget med skriptet er å sjekke at ting fungerer, gi litt inspirasjon til hvordan man kan utforske et datasett, og sette bruken av programmering i naturfag litt i perspektiv. \n",
    "\n",
    "Vi kommer tilbake til detaljene i januar-samlingen. Da starter vi på begynnelsen med å introdusere programmering i Python, bruk av variabler, og indeksering. \n",
    "\n",
    "For å kjøre gjennom kode i jupyter notebook er det er par ting som er greit å vite:\n",
    "- trykk `Shift+Enter` for å kjøre en celle og hoppe ned til neste celle\n",
    "- trykk `Ctrl+Enter` for å kjøre en celle og bli værende i samme celle\n",
    "- alt med `#` foran blir ignorert i koden\n",
    "- når du skriver f.eks. `x=4` lager du variabelen `x`. Hvis du vil se innholdet i `x` kan du skrive `x` på bunnen i en celle du kjører, eller `print(x)` hvor som helst i cellen. Hvis du kun skriver `x=4` og kjører cellen er variabelen lagret selv om du ikke ser et output. \n",
    "- `string` er navnet på tekst\n",
    "- `float` og `integer` er navnet på desimaltall og heltall. \n",
    "- indekseingen starter på 0 og angis med brakkeparantes. Har man f.eks. `x=[3,4,5,6]` vil `x[0]` være lik 3. Men dette kommer vi tilbake til. \n",
    "- for å lage en kodecelle om til en tekstboks som dette trykk `Esc+m`, m for \"markdown\".\n",
    "- for å lage en ny kodecelle trykk `Esc+a` for kodecelle over den du står i, eller `Esc+b` for kodecelle under den du står i. \n",
    "\n",
    "Denne koden går gjennom flere steg\n",
    "- laster inn en fil fra seklima.no på csv-format - samme format som dataene dere henter inne selv. \n",
    "- lager enkle figurer som presenterer dataene\n",
    "- beregner akkumulert nedbør og presenterer dette i en ny figur\n",
    "- vurderer om beregningen virker riktig\n",
    "- lager figurer som viser flere variabler sammen for å se om det kan være en sammenheng mellom dem.\n",
    "- vurderer sammenhengene vi ser. \n",
    "\n",
    "-------------"
   ]
  },
  {
   "cell_type": "markdown",
   "metadata": {},
   "source": [
    "#### Last inn pakkene du trenger. \n",
    "Disse tre er alle veldig standard. \n",
    "- `pandas` er veldig god på noen typer databinnlesing, det er det vi bruker denne pakken til her, men den er også ofte nyttig f.eks. for å interpolere manglende verdier. \n",
    "- `matplotlib.pyplot` er (sannsynligvis) det aller mest brukte plotte-biblioteket. Med denne pakken kan du lage alt av linjeplot, histogram, scatterplot, kontur-plot, det meste du kan tenke deg. \n",
    "- `Numpy` er for \"alt\" av matematikk utover helt standard +-\\*. Finne min og max, gjennomsnitt den slags, men kanskje aller viktigst vektor- og matriseoperasjoner."
   ]
  },
  {
   "cell_type": "code",
   "execution_count": null,
   "metadata": {},
   "outputs": [],
   "source": [
    "import pandas as pd\n",
    "import matplotlib.pyplot as plt\n",
    "import numpy as np"
   ]
  },
  {
   "cell_type": "markdown",
   "metadata": {},
   "source": [
    "Dette er stien til filen du vil laste inn. Bytt den ut med stien til der du har lastet ned Ekte Data mappen fra GitHub. Det er også mulig å koble denne stien direkte opp til GitHub repositoriet, det gjør vi seinere. "
   ]
  },
  {
   "cell_type": "code",
   "execution_count": null,
   "metadata": {},
   "outputs": [],
   "source": [
    "sti='W:/Work/Documents/EkteData/EkteData/data'\n",
    "fil='/sol_nedbør_temp.csv'\n"
   ]
  },
  {
   "cell_type": "markdown",
   "metadata": {},
   "source": [
    "#### Bruk pandas til å lese csv-filen. \n",
    "\n",
    "Den første funksjonen vi skal bruke er `pd.read_csv()`. Denne leser csv-filer og lagrer informasjonen i en variabel, f.eks. variabelen `df` dersom vi skriver `df=pd.read_csv(file)` slik som under. For å lese inn filen riktig må man angi informasjon om formatet til filen. Dersom filen stemmer overens med default formatet til csv trengs ikke så mye spesifisering, men i vårt tilfelle er det en del informasjon vi må oppgi. \n",
    "\n",
    "Det er alltid lurt å åpne filen i f.eks. notepad for å finne ut hvilken format-spesifisering som er brukt i filen og hvilken informasjon som finnes i en eventuell header. \n",
    "\n",
    "\n",
    "- `sep=';'` beskriver hva som deler kolonnene i filen. Hvis du åpner filen i f.eks. notepad ser du at dette er semikolon i vårt tilfelle, men det er ofte tab, komma (default), eller kolon. \n",
    "- Med `index_col` bestemmer du hvilken kolonne du vil sette til venstre og bruke som index. \n",
    "- `decimal=','` må være med fordi verdiene i denne csv-filen er lagret med komma som desimaltegn istedet for punktum. For at verdien skal tolkes som ett tall og ikke to må komma endres til punktum. \n",
    "- `parse_dates=['Tid(norsk normaltid)']` konverterer innholdet i denne kolonnen til dato-format.\n",
    "- `dayfirst=True` sørger for at datoen tolkes riktig. Uten denne tolkes det første tallet i datoen som måned.\n",
    "- `na_values='-'`: Hvis du åpner dette datasettet i notepas ser du at dette datasettet setter manglende verdier av moddeltemperatur til `-`. Dette greier ikke `decimal=','` å tolke som et tall, og derfor tolkes hele denne kolonnen som tekst (string). I stedet for at den første temperaturverdien blir `-4.3` som er et tall, blir denne verdien tolket som `'-4,3'` som er en tekst-string. Men, når man definerer `na_values='-'` forteller man koden at `'-'` betyr at en verdi mangler. Koden setter da alle instanser av `'-'` til `NaN` som står for Not a Number. \n",
    "\n",
    "Dette holder for vårt bruk nå, men denne funksjonen har mange flere muligheter for spesifisering av hvordan filen skal leses inn. Alle disse mulighetene er det informasjon om [her](https://pandas.pydata.org/docs/reference/api/pandas.read_csv.html). Vi kommer tilbake til hvordan man leser dokumentasjon seinere, men det er greit å vite at slike sider som dette er ekstremt nyttige når man skal finne ut av hvordan ulike funksjoner brukes. Og ofte er dokumentasjonen mye enklere enn den over, `pd.read_csv()` har ekstremt mange valg."
   ]
  },
  {
   "cell_type": "code",
   "execution_count": null,
   "metadata": {},
   "outputs": [],
   "source": [
    "df = pd.read_csv(\n",
    "    sti+fil, sep=';', decimal=',', parse_dates=['Tid(norsk normaltid)'],\n",
    "    dayfirst=True, na_values='-'\n",
    ")"
   ]
  },
  {
   "cell_type": "markdown",
   "metadata": {},
   "source": [
    "`df` er nå en \"Pandas DataFrame\". Dette er en fin og oversiktlig måte å få oversikten over et datasett på. "
   ]
  },
  {
   "cell_type": "code",
   "execution_count": null,
   "metadata": {},
   "outputs": [],
   "source": [
    "df"
   ]
  },
  {
   "cell_type": "markdown",
   "metadata": {},
   "source": [
    "De to siste linjene i denne DataFram-en inneholder ikke gyldige verdier. Vi redefinerer defor `df` slik at de to siste linjene utelukkes. I panda DataFrames angir man navnet til kolonnen først, og så hvilke rader man vil se på. Dette er litt forvirrende siden standard indeksering i pythonbruker \"row\" så \"column\". Med pandas DataFrame betyr altså `df[:][:-1]` \"alle kolonner\" (`[:]`), og \"alle rader utenom de to siste\" (`[:-2]`). Indeksering er forvirrende å holde styr på i starten, men vi kommer tilbake til dette i den første samlingen med eksempler, øving, og reglene som gjelder. "
   ]
  },
  {
   "cell_type": "code",
   "execution_count": null,
   "metadata": {},
   "outputs": [],
   "source": [
    "df=df[:][:-2]\n",
    "df"
   ]
  },
  {
   "cell_type": "markdown",
   "metadata": {},
   "source": [
    "#### Pandas DataFrame til Numpy Array\n",
    "\n",
    "Vi vil konvertere Pandas DataFrame til et numpy array fordi plottebiblioteket matplotlib behandler f.eks. manglende verdier bedre enn de innebygde plotte-funksjonene til Pandas. Denne konverteringen er også praktisk hvis du f.eks. skal sammenligne et datasett som dette med et du har lest inn som numpy array. Man trenger i blant å konvertere mellom disse to formatene. \n",
    "\n",
    "Hvis df er en DataFrame slik som den vi har konverterer dette til numpy array: `df.to_numpy()`. \n",
    "\n",
    "For å konvertere motsatt vei kan man bruke `pd.DataFrame(array)` hvis array er et numpy array. "
   ]
  },
  {
   "cell_type": "code",
   "execution_count": null,
   "metadata": {},
   "outputs": [],
   "source": [
    "data=df.to_numpy()"
   ]
  },
  {
   "cell_type": "code",
   "execution_count": null,
   "metadata": {},
   "outputs": [],
   "source": [
    "print(data)\n",
    "print(' ')\n",
    "print('shape of array \"data\": ', data.shape)"
   ]
  },
  {
   "cell_type": "markdown",
   "metadata": {},
   "source": [
    "#### Lag nye variabler\n",
    "\n",
    "Akkurat som i DataFram-en er det 363 rader (en verdi per dag) og 6 kolonner (en for hver variabel/metadata). Når man vil se på en og en variabel av gangen er det ofte ryddig å lagre hver variabel fra matrisen til en *egen* variabel. Dette er det vi gjør i cellen under. \n",
    "\n",
    "`tid` er i kolonne nr 3. Siden Python starter indekseringen på 0 blir indeksen til kolonne 3 `2`. Derfor kan vi skrive `tid=data[:,2]` - alle radene tas med `:`, men kun kolonnen med indeks `2` tas med. Tilsvarende for soltimer, nedbør og temp. "
   ]
  },
  {
   "cell_type": "code",
   "execution_count": null,
   "metadata": {},
   "outputs": [],
   "source": [
    "tid=data[:,2]\n",
    "sol=data[:,3]\n",
    "nedbør=data[:,4]\n",
    "temp=data[:,5]"
   ]
  },
  {
   "cell_type": "code",
   "execution_count": null,
   "metadata": {},
   "outputs": [],
   "source": [
    "plt.figure(figsize=(10,3))\n",
    "plt.plot(tid,sol)\n",
    "plt.grid()\n",
    "plt.xlim(tid[0], tid[-1])\n",
    "plt.show()"
   ]
  },
  {
   "cell_type": "code",
   "execution_count": null,
   "metadata": {},
   "outputs": [],
   "source": [
    "plt.figure(figsize=(10,3))\n",
    "plt.plot(tid,nedbør)\n",
    "plt.grid()\n",
    "plt.xlim(tid[0], tid[-1])\n",
    "plt.show()"
   ]
  },
  {
   "cell_type": "code",
   "execution_count": null,
   "metadata": {},
   "outputs": [],
   "source": [
    "plt.figure(figsize=(10,3))\n",
    "plt.plot(tid,temp)\n",
    "plt.grid()\n",
    "plt.xlim(tid[0], tid[-1])\n",
    "plt.show()"
   ]
  },
  {
   "cell_type": "markdown",
   "metadata": {},
   "source": [
    "#### Prøv selv\n",
    "\n",
    "Nå som du har kjørt gjennom koden en gang kan du prøve å fjerne `na_values='-'` i celle nr 3 der du leser inn datasettet med `pd.csv_read()` og kjøre gjennom på nytt og se hva som skjer. Når du plotter den siste figuren blir det ganske tydelig at noe er galt. Det var dette som gjorde at jeg selv oppdaget at noe var galt og skjønte at jeg måtte oppdatere noe i innlesningen av datasettet. Slik prøving og feiling skjer hele tiden i programmering. \n",
    "\n",
    "Et triks når du skal fjerne `na_values='='` er å *kommentere ut* denne biten av koden. Det gjør man med `#`. I kodeceller blir alt med `#` foran ignorert. Man kan altså skrive:"
   ]
  },
  {
   "cell_type": "code",
   "execution_count": null,
   "metadata": {},
   "outputs": [],
   "source": [
    "df = pd.read_csv(\n",
    "    sti+fil, sep=';', decimal=',', parse_dates=['Tid(norsk normaltid)'],\n",
    "    dayfirst=True#, na_values='-'\n",
    ")"
   ]
  },
  {
   "cell_type": "markdown",
   "metadata": {},
   "source": [
    "All turkis tekst i italic blir altså ignorert. \n",
    "\n",
    "### Beregninger med et datasett\n",
    "\n",
    "Siden du endret innlesingen av datasettet slik at det ikke funker lengre må du endre det tilbake og kjøre gjennom på nytt før du fortsetter med seksjonen under. \n",
    "\n",
    "Nå har vi plottet dataene direkte, men vi kan også gjøre beregninger. Nedbør presenteres for eksempel ofte som akumulert nedbør, altså totalt hvor mye nedbør man har hatt så langt i år. \n",
    "\n",
    "Det kan man beregne på denne (litt rotete) måten:"
   ]
  },
  {
   "cell_type": "code",
   "execution_count": null,
   "metadata": {},
   "outputs": [],
   "source": [
    "akumulert_nedbør=nedbør[0]*np.ones(len(nedbør))\n",
    "for i in range(len(nedbør)-1):\n",
    "    akumulert_nedbør[i+1]=akumulert_nedbør[i]+nedbør[i+1]"
   ]
  },
  {
   "cell_type": "code",
   "execution_count": null,
   "metadata": {},
   "outputs": [],
   "source": [
    "plt.plot(tid, akumulert_nedbør)\n",
    "plt.show()"
   ]
  },
  {
   "cell_type": "markdown",
   "metadata": {},
   "source": [
    "Eller denne (også litt rotete) måten:"
   ]
  },
  {
   "cell_type": "code",
   "execution_count": null,
   "metadata": {},
   "outputs": [],
   "source": [
    "akumulert_nedbør=np.array(([nedbør[0]]))\n",
    "for i in range(len(nedbør)-1):\n",
    "    akumulert_nedbør=np.append(akumulert_nedbør,akumulert_nedbør[i]+nedbør[i+1])"
   ]
  },
  {
   "cell_type": "code",
   "execution_count": null,
   "metadata": {},
   "outputs": [],
   "source": [
    "plt.plot(tid, akumulert_nedbør)\n",
    "plt.show()"
   ]
  },
  {
   "cell_type": "markdown",
   "metadata": {},
   "source": [
    "Eller slik som dette, med en innebygd funksjon fra `numpy`:"
   ]
  },
  {
   "cell_type": "code",
   "execution_count": null,
   "metadata": {},
   "outputs": [],
   "source": [
    "akumulert_nedbør=np.cumsum(nedbør) # Cumulative sum\n",
    "plt.plot(tid, akumulert_nedbør)\n",
    "plt.show()"
   ]
  },
  {
   "cell_type": "markdown",
   "metadata": {},
   "source": [
    "Det er alltid flere muligheter for å komme frem til samme svar. Det kan være både befriene og frustrerende at det ikke alltid finnes en fasit. Når det kommer til innebygde funksjoner, slik som `np.cumsum` i eksempelet over er det en god regel å bruke disse. Det er lett å gjøre småfeil selv, men når man bruker funksjonene til disse store bibliotekene kan man være nokså sikre på at eventuelle feil er luket ut fordi det er så utrolig mange som bruker disse funksjonene, så om det var en feil ville nok noen funnet den allerede, gitt beskjed, og fått det fikset (dette er det som gjør open source så bra!). Og nettopp fordi disse funksjonene stort sett er til å stole på, er det god trening å øve seg på å gjøre slike beregninger selv fordi man har en fasit å sammenligne med. \n",
    "\n",
    "Det er imidlertid alltid bra å være litt skeptisk. Hvordan stemmer tidsserien av akumulert nedbør overens med figuren over daglig nedbør? Ser det ut til at beregningen er rett?"
   ]
  },
  {
   "cell_type": "code",
   "execution_count": null,
   "metadata": {},
   "outputs": [],
   "source": [
    "plt.plot(tid, akumulert_nedbør)\n",
    "plt.plot(tid, nedbør)\n",
    "plt.show()"
   ]
  },
  {
   "cell_type": "markdown",
   "metadata": {},
   "source": [
    "Det er veldig vanskelig å se når støreelsesordenen til nedbør og akumulert nedbør er så forskjellig. Vi prøver på nytt."
   ]
  },
  {
   "cell_type": "code",
   "execution_count": null,
   "metadata": {},
   "outputs": [],
   "source": [
    "fig, ax1 = plt.subplots(figsize=(10,3))\n",
    "ax2 = ax1.twinx()\n",
    "\n",
    "ax1.plot(tid, nedbør)\n",
    "ax2.plot(tid, akumulert_nedbør, color='orange')\n",
    "plt.show()"
   ]
  },
  {
   "cell_type": "markdown",
   "metadata": {},
   "source": [
    "Nå har vi lagt til en y-akse til høyre. Vi kommer tilbake til denne type figur-tekniske ting seinere. \n",
    "\n",
    "Dette ser ganske bra ut: når det regner lite er grafen over akumulert nedbør nesten horisontal. Når det regner mye stiger akumulert nedbør mye. Dette tyder på at beregningen vår er riktig. \n",
    "\n",
    "### Sammenlign ulike datasett\n",
    "\n",
    "Det er også ofte interessant å sammenligne ulike variabler. Sol og nedbør er for eksempel sannsynligvis relatert til hverandre: Når det er mye sol er det sannsynlig at det ikke regner så mye. Vi kan sammenligne grafene for å gjøre en kjapp sjekk:"
   ]
  },
  {
   "cell_type": "code",
   "execution_count": null,
   "metadata": {},
   "outputs": [],
   "source": [
    "fig, ax1 = plt.subplots(figsize=(10,3))\n",
    "ax2 = ax1.twinx()\n",
    "\n",
    "ax1.plot(tid, nedbør)\n",
    "ax2.plot(tid, sol, color='orange')\n",
    "plt.show()"
   ]
  },
  {
   "cell_type": "markdown",
   "metadata": {},
   "source": [
    "Ved første øyekast ser dette ut omtrent som forventet, spesielt frem til ca september. Her øker variabiliteten og det blir vanskeligere å se et system mellom de blå og gule linjene. Å zoome in kan helpe:"
   ]
  },
  {
   "cell_type": "code",
   "execution_count": null,
   "metadata": {},
   "outputs": [],
   "source": [
    "fig, ax1 = plt.subplots(figsize=(10,3))\n",
    "ax2 = ax1.twinx()\n",
    "\n",
    "ax1.plot(tid, nedbør)\n",
    "ax2.plot(tid, sol, color='orange')\n",
    "plt.xlim(tid[250], tid[-1])\n",
    "plt.show()"
   ]
  },
  {
   "cell_type": "markdown",
   "metadata": {},
   "source": [
    "Det er fremdeles ikke et helt entydig mønster mellom variasjon i nedbør og soltimer i denne biten av datasettet. Det tyder for eksempel på at det er flere ting som påvirker antall soltimer enn om det er regnskyer tilstede. Og dette stemmer jo med hva kan observerer her i Bergen: Man kan ha sol og regn om hverandre i løpet av en og samme dag, og enda mer typisk: byen er ofte dekket av et grått skydekke uten at det regner noe særlig. I tilleg er jo antall sotimer på en dag avhengig av sesongen. Å lage en hypotese om at det generelt regner lite når antall soltimer er over 10 timer gir for eksempel ikke mening om vinteren. Det er med andre ord viktig å ikke glemme de naturlige prosessene som ligger bak tallverdiene i datasettet man ser på!\n",
    "\n",
    "### Undesøk en hypotese\n",
    "\n",
    "Tilsvarende kan vi sammenligne nedbør og temperatur. Fra naturfag vet vi at varm luft kan holde på mer fuktighet, så vi kan lage oss en hypotese om at det regner mer når det er varmt: Det er varmt, så luften holder på mye fuktighet, luften treffer fjellene i Bergen og blir presset opp dit der er kaldere og det begynner å regne. Støtter datasettet vårt denne hypotesen?"
   ]
  },
  {
   "cell_type": "code",
   "execution_count": null,
   "metadata": {},
   "outputs": [],
   "source": [
    "fig, ax1 = plt.subplots(figsize=(10,3))\n",
    "ax2 = ax1.twinx()\n",
    "\n",
    "ax1.plot(tid, nedbør)\n",
    "ax2.plot(tid, temp, color='orange')\n",
    "plt.xlim(tid[0], tid[-1])\n",
    "plt.show()"
   ]
  },
  {
   "cell_type": "markdown",
   "metadata": {},
   "source": [
    "Ved første øyekast er svaret kanskje \"nei: det regner ikke mer når det er varmt\". Men ser man nærmere på dette er svaret litt mer innviklet. I starten av perioden ser det faktisk ut som om at hypotesen kan ha noe for seg. Dette gjelder også til en viss grad slutten av datasettet. I februar er det for eksempel en periode med veldig lite regn, og som også var en av de kaldeste periodene. Husk tilbake til solinnstrålingen: Denne perioden hadde også mye sol (for årstiden). Dette er vintervær i kjenner til, kaldt, tørt, og sol.\n",
    "\n",
    "I juni er det imidlertid helt motsatt: Det var varmt og det regnet nesten ingenting. Dette er sommervær vi kjenner til, varmt, tørt, og sol. \n",
    "\n",
    "Vi plotter alle tre tidsseriene sammen."
   ]
  },
  {
   "cell_type": "code",
   "execution_count": null,
   "metadata": {},
   "outputs": [],
   "source": [
    "fig, ax1 = plt.subplots(figsize=(15,5))\n",
    "ax2 = ax1.twinx()\n",
    "\n",
    "ax1.plot(tid, nedbør)\n",
    "ax2.plot(tid, temp, color='green')\n",
    "ax1.plot(tid, sol*2, color='orange')\n",
    "plt.xlim(tid[0], tid[-1])\n",
    "#ax1.set_ylim(-20,70)\n",
    "#ax2.set_ylim(-10,35)\n",
    "plt.show()"
   ]
  },
  {
   "cell_type": "markdown",
   "metadata": {},
   "source": [
    "Det virker som om at sammenhengen mellom nedbør og temperatur er sesongavhengig. Vi må modifisere hypotesen vår. En ny hypotese kan være: Om sommeren regner det mer når det er kaldt, mens om vinteren regner det mer når det er varmt. Men er det egentlig slik at det regner mer når det er kaldt om sommeren, eller blir det kaldt når det regner..? \n",
    "\n",
    "Å analysere datasett som dette er nyttig for å undersøke slike spørsmål, og det er helt nødvendig å sette dataanalysen som vi gjør Python i sammenheng med teorien vi har fra naturfag. Hvis ikke er det nokså umulig å lage gode og nyttige spørsmål som man må ha på plass før man setter i gang med programmeringen. Å undersøke datasett på denne måten kan imidlertid også sette oss på sporet av interessante spørsmål vi ikke ville kommet på dersom vi ikke kunne visualisere og undersøke dataene slik som vi kan med python. "
   ]
  }
 ],
 "metadata": {
  "kernelspec": {
   "display_name": "Python 3",
   "language": "python",
   "name": "python3"
  },
  "language_info": {
   "codemirror_mode": {
    "name": "ipython",
    "version": 3
   },
   "file_extension": ".py",
   "mimetype": "text/x-python",
   "name": "python",
   "nbconvert_exporter": "python",
   "pygments_lexer": "ipython3",
   "version": "3.8.5"
  }
 },
 "nbformat": 4,
 "nbformat_minor": 4
}

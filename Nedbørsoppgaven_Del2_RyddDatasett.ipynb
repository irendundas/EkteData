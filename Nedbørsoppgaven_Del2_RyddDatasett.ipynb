{
 "cells": [
  {
   "cell_type": "markdown",
   "metadata": {},
   "source": [
    "## Nedbørsoppgaven Del 2: Rydd datasettet\n",
    "\n",
    "*Nedbørsoppgavene Del 1 til 5 er laget som støtte-oppgaver til oppgaven \"Nedbør i Norge\". Oppgaven \"Nedbør i Norge\" er en lengre oppgave som kommer innom mange forskjellige programerings-elementer. Intensjonen er at hvis man først gjør deloppgavene 1 til 5 og så går gjennom det nokså omfattende eksempelet på starten av oppgaven \"Nedbør i Norge\" så vil det programeringstekniske i oppgaven \"Nedbør i Norge\" være repetisjon, slik at man kan fokusere på den naturvitenskaplige tolkningen av dataene. På denne måten får man både trening i programmering og erfaring med hvordan det kan brukes til å studere og forstå naturvitenskaplige prosesser.*\n",
    "\n",
    "-------------\n",
    "\n",
    "I denne oppgaven går vi gjennom et eksempel på:\n",
    "- Hvordan man kan gå frem for å få oversikten over datasettet man skal bruke, og\n",
    "- Hvordan man kan rydde i det om nødvendig (og når og hvorfor det i blant er nødvendig).\n",
    "\n",
    "Når man jobber med datasett med observasjoner fra naturen er det ofte slik at man mangler et par verdier. Har man f.eks. en gammel tidsserie over snødybde på et gitt sted kan det være at en dag mangler fordi det var storm og utrygt å gå ut for å måle snødybden. I dag har vi mange metoder for å automatisk hente inn data, men hull kan likevel oppstå i et datasett. Et skydekke vil hindre noen satellitter i å ta målinger, en alge kan legge seg over en sensor i havet og bli skylt vekk av en sterk strøm dager eller uker seinere, eller en is- eller sediment-kjerne kan knekke nettopp der du hadde tenkt å bore et hull for å måle temperatur. Mye kan skje, og det er viktig å sjekke om datasettet du skal bruke er \"good to go\" eller om det krever en gjennomgang før det kan brukes. \n",
    "\n",
    "I dette eksempelet bruker vi en tidsserie over temperatur i Bergen siden 1861. Datasettet har to kolonner: år og gjennomsnitlig års-temperatur.\n",
    "\n",
    "#### Last inn pakkene som trengs"
   ]
  },
  {
   "cell_type": "code",
   "execution_count": null,
   "metadata": {},
   "outputs": [],
   "source": [
    "import numpy as np # for matematikk, filinnlasting mm.\n",
    "import matplotlib.pyplot as plt # for figurer\n",
    "from EkteDataFunk import loadData # for filinnlasting"
   ]
  },
  {
   "cell_type": "markdown",
   "metadata": {},
   "source": [
    "#### 1. Last inn datasettet. \n",
    "\n",
    "Vi bruker funksjonen loadData som ligger i GitHub mappen til Ekte Data. Vi setter `rydd = 'N'` for at funksjonen ikke skal rydde datasettet automatisk. \n"
   ]
  },
  {
   "cell_type": "code",
   "execution_count": null,
   "metadata": {},
   "outputs": [],
   "source": [
    "file='TempBergenYearly.txt'\n",
    "data = loadData(file, rydd='N')\n"
   ]
  },
  {
   "cell_type": "markdown",
   "metadata": {},
   "source": [
    "Nå er filen lastet inn, og innholdet er lagret i variabelen `data`. Vi skriver den ut for å sjekke hvordan dataene våre er strukturert."
   ]
  },
  {
   "cell_type": "code",
   "execution_count": null,
   "metadata": {},
   "outputs": [],
   "source": [
    "data"
   ]
  },
  {
   "cell_type": "markdown",
   "metadata": {},
   "source": [
    "#### Oppgave 1. \n",
    "**Studer outputtet og undersøk punktene:**\n",
    "- Hva beskriver kolonne en og to?\n",
    "- Hvilken type dataformat er det?\n",
    "- Hva er dimensjonene?\n",
    "- Finnes det Nan-verdier eller andre verdier som representerer at data mangler?\n",
    "\n",
    "For å svare på punkt 1 er det lurt å åpne filen i notepad fordi det ofte er en *header* i .txt-filer som dette. I første linje til denne filen står det *Year* og *Temperature*, altså *år* og *temperatur*. Kolonne en er år, kolonne to er nedbør. Det varierer litt fra filformat til filformat hvor informasjon som dette ligger, og det er heller ikke alltid datafiler har en tydelig header. Men stort sett er dette lett tilgjengelig informasjon, og i datasettene vi bruker her vil det alltid enten være en header, eller så vil det stå i oppgaveteksten."
   ]
  },
  {
   "cell_type": "markdown",
   "metadata": {},
   "source": [
    "Punkt 2 er hvilket format vi har. Som det står når vi printer `data` er dette et array, altså en matrise. `data.shape` gir oss dimensjonene, altså `161 x 2` (punkt 3). Matrisen `data` har 161 rader og 2 kolonner."
   ]
  },
  {
   "cell_type": "code",
   "execution_count": null,
   "metadata": {},
   "outputs": [],
   "source": [
    "data.shape"
   ]
  },
  {
   "cell_type": "markdown",
   "metadata": {},
   "source": [
    "#### 2. Lagre dataene til variables\n",
    "For å gjøre datasettet enklere å jobbe med lagrer vi tid-kolonnen i vektoren *tid*, og temperatur-kolonnen i vektoren *temp*.  "
   ]
  },
  {
   "cell_type": "code",
   "execution_count": null,
   "metadata": {},
   "outputs": [],
   "source": [
    "tid=data[:,0]\n",
    "temp=data[:,1]"
   ]
  },
  {
   "cell_type": "markdown",
   "metadata": {},
   "source": [
    "#### 3. Lag en figur\n",
    "Nå som vi vet hva datasettet vårt inneholder kan vi lage en figur."
   ]
  },
  {
   "cell_type": "code",
   "execution_count": null,
   "metadata": {},
   "outputs": [],
   "source": [
    "plt.plot(tid, temp)\n",
    "plt.xlabel('År')\n",
    "plt.ylabel('Temperatur')\n",
    "plt.show()"
   ]
  },
  {
   "cell_type": "markdown",
   "metadata": {},
   "source": [
    "#### 4. Fyll-verdier og behandling av fyll-verdier\n",
    "Dette ser veldig rart ut. Ser vi tilbake på tabellen med dataverdier over, så ser vi at det står -999.99 flere steder. Den laveste teoretiske temperaturen man kan ha er -273.15. Dette finnes ikke naturlig, og i allefall ikke i Bergen. Disse verdiene er altså opplagt fyll-verdier som er satt inn fordi data mangler. Ved å sette inn slike verdier blir datasettet lett å jobbe med til tross for manglende verdier. Det hadde vært mye mer knotete om disse årene bare ble tatt ut. Da kunne man plutselig ha et hopp i tid fra f.eks 1923 til 1927 som man måtte identifisere før man kunne f.eks. plotte og analysere dataene. \n",
    "\n",
    "Dette oppsettet med fyll-verdier krever imidlertid litt opprenskning det også. Det enkleste er å sette alle steder med -999.99 til `NaN`. Da er det lett å utelukke verdiene i beregninger med numpy-pakken (np.nanmean, np.nanstd...), men det er også lett å lage figurer uten at man risikerer hopp i tid. \n",
    "\n",
    "#### 5. Logisk indeksering\n",
    "Vi setter -999.99 til `NaN` ved hjelp av *logisk indeksering*. Logisk indeksering vil si at man setter et kriterie, og sjekker om veridene i en variabel tilfredstiller kriteriet eller ikke. Svaret et alltid *True* eller *False*. Dette kalles også *Boolean logic*. Et kort eksempel viser dette bedre:"
   ]
  },
  {
   "cell_type": "code",
   "execution_count": null,
   "metadata": {},
   "outputs": [],
   "source": [
    "x=np.array([2,4,1,5,3,6]) # et array (i dette tilfellet en vektor)\n",
    "print(x)\n",
    "print(x==4) # Det doble likhetstegnet betyr at vi bruker logisk indeksering: \n",
    "            # \"For alle elementer i x, sjekk om ellementet er lik 4\"\n",
    "            # Resultatet er et array med like dimensjoner som x, men alle \n",
    "            # elementene er \"True\" eller \"False\". I dette eksempelet er kun \n",
    "            # element nr 1 \"True\", altså er x[1]=4. "
   ]
  },
  {
   "cell_type": "markdown",
   "metadata": {},
   "source": [
    "Dette er veldig nyttig når man skal gjøre noe med elementer som tilfredstiller et kriterie. Vil vi for eksempel at alle elementer som er 4 skal være 7 i stedet kan vi bruke den logiske rekken vår og si at der denne er \"True\" skal verdien byttes til 7. "
   ]
  },
  {
   "cell_type": "code",
   "execution_count": null,
   "metadata": {},
   "outputs": [],
   "source": [
    "ind = x==4 # Lagre den logiske vektoren som en variabel \"ind\" (for indeks)\n",
    "x[ind]=7 # Sett elementene i x der ind=True til 7\n",
    "x"
   ]
  },
  {
   "cell_type": "code",
   "execution_count": null,
   "metadata": {},
   "outputs": [],
   "source": [
    "# Dette kan også komprimeres til en linje\n",
    "x=np.array([2,4,1,5,3,6]) \n",
    "x[x==4]=7 # \"der x=4 skal verdien byttes til 7\"\n",
    "x"
   ]
  },
  {
   "cell_type": "markdown",
   "metadata": {},
   "source": [
    "Hvis man vil ha tak i selve indeksen kan man bruke np.where slik som vi så på i Del 1: Ideksering. \n",
    "I dette tilfelle er det imidlertid en litt mer knotete metode, men det viser at mye kan gjøres på mange ulike måter. "
   ]
  },
  {
   "cell_type": "code",
   "execution_count": null,
   "metadata": {},
   "outputs": [],
   "source": [
    "x=np.array([2,4,1,5,3,6]) \n",
    "ind=np.where(x==4)\n",
    "x[ind[0][0]]=7\n",
    "x"
   ]
  },
  {
   "cell_type": "markdown",
   "metadata": {},
   "source": [
    "Vi må bruke `ind[0][0]` av samme grunn som notatet i Oppgave 7 fra Del 1: Indeksering, altså for å komme på innsiden av parantesene som er rundt ind. Kjør cellen under for å se tydeligere hva som er forskjellen på `ind`, `ind[0]`, og `ind[0][0]`."
   ]
  },
  {
   "cell_type": "code",
   "execution_count": null,
   "metadata": {},
   "outputs": [],
   "source": [
    "print(ind)\n",
    "print(ind[0])\n",
    "print(ind[0][0])"
   ]
  },
  {
   "cell_type": "markdown",
   "metadata": {},
   "source": [
    "#### 6. Sett fyll-verdien `-999.99` til `NaN`\n",
    "Vi kan bruke logisk indeksering på datasettet vårt og si at \"der `x=-999.99` skal verdien byttes til `NaN`\""
   ]
  },
  {
   "cell_type": "code",
   "execution_count": null,
   "metadata": {},
   "outputs": [],
   "source": [
    "data[data==-999.99]=np.nan\n",
    "temp=data[:,1]"
   ]
  },
  {
   "cell_type": "code",
   "execution_count": null,
   "metadata": {},
   "outputs": [],
   "source": [
    "data\n"
   ]
  },
  {
   "cell_type": "markdown",
   "metadata": {},
   "source": [
    "Hvis vi nå plotter dataene igjen får vi mye mer informasjon. All variabiliteten (høye of lave verdier, trender etc.) vi ser her fantes også i figuren over, men den ble overskygget at -999.99 verdiene. Hadde vi zoomet inn på y-aksen, f.eks. satt `plt.ylim([6,10])`, ville vi fått noe som lignet på figuren under. \n",
    "\n",
    "Det er noen hull i figuren under, spesielt rundt 1940, men slik er det i blant - man har ikke alltid et fullstendig datasett - og dette gir oss likevel et godt inntrykk av temperatur mellom 1860 og 2020. Man kan estimere verdier som mangler med interpolasjon, men into til dette kommer i en annen oppgave. "
   ]
  },
  {
   "cell_type": "code",
   "execution_count": null,
   "metadata": {},
   "outputs": [],
   "source": [
    "plt.plot(tid, temp)\n",
    "plt.xlim([1860,2021])\n",
    "plt.xlabel('År')\n",
    "plt.ylabel('Temperatur')\n",
    "plt.show()"
   ]
  },
  {
   "cell_type": "markdown",
   "metadata": {},
   "source": [
    "Datasettet er nå klart til at vi kan sette igang å jobbe med det. I tillegg har vi fått oversikten over dimensjonene til datasettet og hva kolonnene inneholder.\n",
    "__________________________"
   ]
  },
  {
   "cell_type": "markdown",
   "metadata": {},
   "source": [
    "#### Oppgave 2.\n",
    "\n",
    "Gitt arrayet x under. Gjør slik at det istedet står 100 alle de stedene hvor det nå står 2."
   ]
  },
  {
   "cell_type": "code",
   "execution_count": null,
   "metadata": {},
   "outputs": [],
   "source": [
    "x=np.array([2,4,2,1,5,7,7,3,6,0,5,2,4,6,5,2,5,78,6,4,2,1,3,2,4])"
   ]
  },
  {
   "cell_type": "markdown",
   "metadata": {},
   "source": [
    "#### Oppgave 3.\n",
    "Gitt arrayet x under. Gjør slik at det står 100 alle stedene det står 7 i den andre kolonnen. Kolonne nr 1 skal ikke endre seg."
   ]
  },
  {
   "cell_type": "code",
   "execution_count": null,
   "metadata": {},
   "outputs": [],
   "source": [
    "x=np.array([[2,1,3,5,7,3,6,8,0,7],[2,7,8,6,5,6,8,8,7,7]])"
   ]
  },
  {
   "cell_type": "markdown",
   "metadata": {},
   "source": [
    "#### Oppgave 4.\n",
    "Prøv deg frem med datasettet: `PrecipVestlandYearly.txt`. Det ligner, men er ikke helt likt som det i eksempelet over."
   ]
  },
  {
   "cell_type": "code",
   "execution_count": null,
   "metadata": {},
   "outputs": [],
   "source": []
  }
 ],
 "metadata": {
  "kernelspec": {
   "display_name": "Python 3",
   "language": "python",
   "name": "python3"
  },
  "language_info": {
   "codemirror_mode": {
    "name": "ipython",
    "version": 3
   },
   "file_extension": ".py",
   "mimetype": "text/x-python",
   "name": "python",
   "nbconvert_exporter": "python",
   "pygments_lexer": "ipython3",
   "version": "3.8.5"
  }
 },
 "nbformat": 4,
 "nbformat_minor": 2
}

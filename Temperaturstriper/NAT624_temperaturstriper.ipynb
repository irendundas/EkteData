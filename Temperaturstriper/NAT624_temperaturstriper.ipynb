{
 "cells": [
  {
   "cell_type": "markdown",
   "metadata": {},
   "source": [
    "# Lag temperatur striper\n",
    "\n",
    "Takk til Kjersti Daae for originalversjonen til dette skriptet! Denne versjonen er tilpasset kurset NAT624 ved UiB. \n",
    "\n",
    "*Kjersti Daae: This notebooks reads data from output files of temperture and temperature anomaly from https://seklima.met.no/.\n",
    "Choose to download both mean temperature and mean temperature anomaly for a given station (e.g. Bergen) and a given resolution (yealy, seasonal, monthly,...) over a chosen time period.*\n",
    "\n",
    "*Here I show one example for yearly data and one for seasonal data in Bergen for the period 1980-2021.*\n",
    "\n",
    "*The plotting part is based on the scipt by Maximilian Nöthe which you can find here: https://matplotlib.org/matplotblog/posts/warming-stripes/*\n",
    "\n",
    "### 1) Last inn nødvendige python bibliotek"
   ]
  },
  {
   "cell_type": "code",
   "execution_count": 1,
   "metadata": {},
   "outputs": [],
   "source": [
    "import pandas as pd\n",
    "import numpy as np\n",
    "from datetime import datetime\n",
    "import matplotlib.pyplot as plt\n",
    "from matplotlib.patches import Rectangle\n",
    "from matplotlib.collections import PatchCollection\n",
    "from matplotlib.colors import ListedColormap"
   ]
  },
  {
   "cell_type": "code",
   "execution_count": 2,
   "metadata": {},
   "outputs": [],
   "source": [
    "SMALL_SIZE = 10\n",
    "MEDIUM_SIZE = 12\n",
    "BIGGER_SIZE = 14\n",
    "\n",
    "plt.rc('font', size=SMALL_SIZE)          # controls default text sizes\n",
    "plt.rc('axes', titlesize=MEDIUM_SIZE)    # fontsize of the axes title\n",
    "plt.rc('axes', labelsize=MEDIUM_SIZE)    # fontsize of the x and y labels\n",
    "plt.rc('xtick', labelsize=SMALL_SIZE)    # fontsize of the tick labels\n",
    "plt.rc('ytick', labelsize=SMALL_SIZE)    # fontsize of the tick labels\n",
    "plt.rc('legend', fontsize=SMALL_SIZE)    # legend fontsize\n",
    "plt.rc('figure', titlesize=BIGGER_SIZE)  # fontsize of the figure title"
   ]
  },
  {
   "cell_type": "code",
   "execution_count": 3,
   "metadata": {},
   "outputs": [
    {
     "data": {
      "text/plain": [
       "'W:/Work/Documents/EkteData/ikkeGit/temperaturstriper/Bergen_monthly_SN50540.csv'"
      ]
     },
     "execution_count": 3,
     "metadata": {},
     "output_type": "execute_result"
    }
   ],
   "source": [
    "# Endre denne stien til der du har EkteData filene på din PC\n",
    "sti='W:/Work/Documents/EkteData/ikkeGit/temperaturstriper'\n",
    "# Endre dette filnavnet til det du har kalt filen du nettopp lastet ned. \n",
    "fil='/Bergen_monthly_SN50540.csv'\n",
    "\n",
    "# Pass på at resultatet av sti+fil er nøyaktig det samme som der filen\n",
    "# faktisk ligger på PCen din. \n",
    "sti+fil"
   ]
  },
  {
   "cell_type": "markdown",
   "metadata": {},
   "source": [
    "I cellen under bruker vi Pandas sin innebygde funksjon pd.read_csv() til å lese inn filen vår. Denne funksjonen leser inn csv-filer og lagrer informasjonen i en variabel, f.eks. variabelen `df` dersom vi skriver `df=pd.read_csv(file)` slik som under. For å lese inn filen riktig må man angi informasjon om formatet til filen i tillegg til filnavnet (`sti+fil`). Under beskriver vi hva disse spesifikasjonene betyr.\n",
    "\n",
    "- `sep=';'` beskriver hva som deler kolonnene i filen. Hvis du åpner filen i f.eks. notepad ser du at dette er semikolon i vårt tilfelle, men det er ofte tab, komma (default), eller kolon. \n",
    "- `decimal=','` må være med fordi verdiene i denne csv-filen er lagret med komma som desimaltegn istedet for punktum. For at verdien skal tolkes som ett tall og ikke to må vi fortelle funksjonen pd.read_csv at den skal tolke komme som desimaltegn. \n",
    "\n",
    "\n"
   ]
  },
  {
   "cell_type": "code",
   "execution_count": 46,
   "metadata": {},
   "outputs": [],
   "source": [
    "df = pd.read_csv(\n",
    "    sti+fil, \n",
    "    sep=';', \n",
    "    decimal=',', \n",
    ")"
   ]
  },
  {
   "cell_type": "code",
   "execution_count": 47,
   "metadata": {},
   "outputs": [
    {
     "data": {
      "text/html": [
       "<div>\n",
       "<style scoped>\n",
       "    .dataframe tbody tr th:only-of-type {\n",
       "        vertical-align: middle;\n",
       "    }\n",
       "\n",
       "    .dataframe tbody tr th {\n",
       "        vertical-align: top;\n",
       "    }\n",
       "\n",
       "    .dataframe thead th {\n",
       "        text-align: right;\n",
       "    }\n",
       "</style>\n",
       "<table border=\"1\" class=\"dataframe\">\n",
       "  <thead>\n",
       "    <tr style=\"text-align: right;\">\n",
       "      <th></th>\n",
       "      <th>Navn</th>\n",
       "      <th>Stasjon</th>\n",
       "      <th>Tid(norsk normaltid)</th>\n",
       "      <th>Middeltemperatur (mnd)</th>\n",
       "      <th>Middeltemperatur, avvik fra normalen 1991-2020 (mnd)</th>\n",
       "      <th>Nedbør (mnd)</th>\n",
       "      <th>Nedbør i forhold til normalen 1991-2020 (mnd)</th>\n",
       "    </tr>\n",
       "  </thead>\n",
       "  <tbody>\n",
       "    <tr>\n",
       "      <th>0</th>\n",
       "      <td>Bergen - Florida</td>\n",
       "      <td>SN50540</td>\n",
       "      <td>jan.1980</td>\n",
       "      <td>0.9</td>\n",
       "      <td>-1.7</td>\n",
       "      <td>-</td>\n",
       "      <td>-</td>\n",
       "    </tr>\n",
       "    <tr>\n",
       "      <th>1</th>\n",
       "      <td>Bergen - Florida</td>\n",
       "      <td>SN50540</td>\n",
       "      <td>feb.1980</td>\n",
       "      <td>1.1</td>\n",
       "      <td>-1.2</td>\n",
       "      <td>-</td>\n",
       "      <td>-</td>\n",
       "    </tr>\n",
       "    <tr>\n",
       "      <th>2</th>\n",
       "      <td>Bergen - Florida</td>\n",
       "      <td>SN50540</td>\n",
       "      <td>mar.1980</td>\n",
       "      <td>2.1</td>\n",
       "      <td>-1.7</td>\n",
       "      <td>-</td>\n",
       "      <td>-</td>\n",
       "    </tr>\n",
       "    <tr>\n",
       "      <th>3</th>\n",
       "      <td>Bergen - Florida</td>\n",
       "      <td>SN50540</td>\n",
       "      <td>apr.1980</td>\n",
       "      <td>6.4</td>\n",
       "      <td>-0.8</td>\n",
       "      <td>-</td>\n",
       "      <td>-</td>\n",
       "    </tr>\n",
       "    <tr>\n",
       "      <th>4</th>\n",
       "      <td>Bergen - Florida</td>\n",
       "      <td>SN50540</td>\n",
       "      <td>mai.1980</td>\n",
       "      <td>10.8</td>\n",
       "      <td>0.1</td>\n",
       "      <td>-</td>\n",
       "      <td>-</td>\n",
       "    </tr>\n",
       "    <tr>\n",
       "      <th>...</th>\n",
       "      <td>...</td>\n",
       "      <td>...</td>\n",
       "      <td>...</td>\n",
       "      <td>...</td>\n",
       "      <td>...</td>\n",
       "      <td>...</td>\n",
       "      <td>...</td>\n",
       "    </tr>\n",
       "    <tr>\n",
       "      <th>512</th>\n",
       "      <td>Bergen - Florida</td>\n",
       "      <td>SN50540</td>\n",
       "      <td>sep.2022</td>\n",
       "      <td>12.9</td>\n",
       "      <td>0.3</td>\n",
       "      <td>163,7</td>\n",
       "      <td>66</td>\n",
       "    </tr>\n",
       "    <tr>\n",
       "      <th>513</th>\n",
       "      <td>Bergen - Florida</td>\n",
       "      <td>SN50540</td>\n",
       "      <td>okt.2022</td>\n",
       "      <td>9.9</td>\n",
       "      <td>1.3</td>\n",
       "      <td>304,6</td>\n",
       "      <td>113,7</td>\n",
       "    </tr>\n",
       "    <tr>\n",
       "      <th>514</th>\n",
       "      <td>Bergen - Florida</td>\n",
       "      <td>SN50540</td>\n",
       "      <td>nov.2022</td>\n",
       "      <td>7.8</td>\n",
       "      <td>2.5</td>\n",
       "      <td>190,7</td>\n",
       "      <td>69,3</td>\n",
       "    </tr>\n",
       "    <tr>\n",
       "      <th>515</th>\n",
       "      <td>Bergen - Florida</td>\n",
       "      <td>SN50540</td>\n",
       "      <td>des.2022</td>\n",
       "      <td>-0.1</td>\n",
       "      <td>-3.8</td>\n",
       "      <td>2,4</td>\n",
       "      <td>0,8</td>\n",
       "    </tr>\n",
       "    <tr>\n",
       "      <th>516</th>\n",
       "      <td>Data er gyldig per 08.12.2022 (CC BY 4.0), Met...</td>\n",
       "      <td>NaN</td>\n",
       "      <td>NaN</td>\n",
       "      <td>NaN</td>\n",
       "      <td>NaN</td>\n",
       "      <td>NaN</td>\n",
       "      <td>NaN</td>\n",
       "    </tr>\n",
       "  </tbody>\n",
       "</table>\n",
       "<p>517 rows × 7 columns</p>\n",
       "</div>"
      ],
      "text/plain": [
       "                                                  Navn  Stasjon  \\\n",
       "0                                     Bergen - Florida  SN50540   \n",
       "1                                     Bergen - Florida  SN50540   \n",
       "2                                     Bergen - Florida  SN50540   \n",
       "3                                     Bergen - Florida  SN50540   \n",
       "4                                     Bergen - Florida  SN50540   \n",
       "..                                                 ...      ...   \n",
       "512                                   Bergen - Florida  SN50540   \n",
       "513                                   Bergen - Florida  SN50540   \n",
       "514                                   Bergen - Florida  SN50540   \n",
       "515                                   Bergen - Florida  SN50540   \n",
       "516  Data er gyldig per 08.12.2022 (CC BY 4.0), Met...      NaN   \n",
       "\n",
       "    Tid(norsk normaltid)  Middeltemperatur (mnd)  \\\n",
       "0               jan.1980                     0.9   \n",
       "1               feb.1980                     1.1   \n",
       "2               mar.1980                     2.1   \n",
       "3               apr.1980                     6.4   \n",
       "4               mai.1980                    10.8   \n",
       "..                   ...                     ...   \n",
       "512             sep.2022                    12.9   \n",
       "513             okt.2022                     9.9   \n",
       "514             nov.2022                     7.8   \n",
       "515             des.2022                    -0.1   \n",
       "516                  NaN                     NaN   \n",
       "\n",
       "     Middeltemperatur, avvik fra normalen 1991-2020 (mnd) Nedbør (mnd)  \\\n",
       "0                                                 -1.7               -   \n",
       "1                                                 -1.2               -   \n",
       "2                                                 -1.7               -   \n",
       "3                                                 -0.8               -   \n",
       "4                                                  0.1               -   \n",
       "..                                                 ...             ...   \n",
       "512                                                0.3           163,7   \n",
       "513                                                1.3           304,6   \n",
       "514                                                2.5           190,7   \n",
       "515                                               -3.8             2,4   \n",
       "516                                                NaN             NaN   \n",
       "\n",
       "    Nedbør i forhold til normalen 1991-2020 (mnd)  \n",
       "0                                               -  \n",
       "1                                               -  \n",
       "2                                               -  \n",
       "3                                               -  \n",
       "4                                               -  \n",
       "..                                            ...  \n",
       "512                                            66  \n",
       "513                                         113,7  \n",
       "514                                          69,3  \n",
       "515                                           0,8  \n",
       "516                                           NaN  \n",
       "\n",
       "[517 rows x 7 columns]"
      ]
     },
     "execution_count": 47,
     "metadata": {},
     "output_type": "execute_result"
    }
   ],
   "source": [
    "df # Vi kaller variabelen \"df\" som er kort for \"DataFrame\""
   ]
  },
  {
   "cell_type": "markdown",
   "metadata": {},
   "source": [
    "Man får ut en fin tabell. Informasjonen som lå i headeren har kommet som titler på kolonnene, og man ser indeksen til hver rad helt til venstre.\n",
    "\n",
    "For å få tak i en av kolonnene skriver man som dette:\n"
   ]
  },
  {
   "cell_type": "code",
   "execution_count": 6,
   "metadata": {},
   "outputs": [
    {
     "data": {
      "text/plain": [
       "0      jan.1980\n",
       "1      feb.1980\n",
       "2      mar.1980\n",
       "3      apr.1980\n",
       "4      mai.1980\n",
       "         ...   \n",
       "512    sep.2022\n",
       "513    okt.2022\n",
       "514    nov.2022\n",
       "515    des.2022\n",
       "516         NaN\n",
       "Name: Tid(norsk normaltid), Length: 517, dtype: object"
      ]
     },
     "execution_count": 6,
     "metadata": {},
     "output_type": "execute_result"
    }
   ],
   "source": [
    "df['Tid(norsk normaltid)']"
   ]
  },
  {
   "cell_type": "markdown",
   "metadata": {},
   "source": [
    "Eller: "
   ]
  },
  {
   "cell_type": "code",
   "execution_count": 49,
   "metadata": {},
   "outputs": [
    {
     "data": {
      "text/plain": [
       "0      jan.1980\n",
       "1      feb.1980\n",
       "2      mar.1980\n",
       "3      apr.1980\n",
       "4      mai.1980\n",
       "         ...   \n",
       "512    sep.2022\n",
       "513    okt.2022\n",
       "514    nov.2022\n",
       "515    des.2022\n",
       "516         NaN\n",
       "Name: Tid(norsk normaltid), Length: 517, dtype: object"
      ]
     },
     "execution_count": 49,
     "metadata": {},
     "output_type": "execute_result"
    }
   ],
   "source": [
    "df.iloc[:,2]\n",
    "# alle radene og kolonne nr 2. Denne skrivemåten er praktisk dersom det er lange\n",
    "# variabelnavn eller speialtegn i variabelnavnene"
   ]
  },
  {
   "cell_type": "code",
   "execution_count": 50,
   "metadata": {},
   "outputs": [
    {
     "data": {
      "text/plain": [
       "0     -1.7\n",
       "1     -1.2\n",
       "2     -1.7\n",
       "3     -0.8\n",
       "4      0.1\n",
       "      ... \n",
       "512    0.3\n",
       "513    1.3\n",
       "514    2.5\n",
       "515   -3.8\n",
       "516    NaN\n",
       "Name: Middeltemperatur, avvik fra normalen 1991-2020 (mnd), Length: 517, dtype: float64"
      ]
     },
     "execution_count": 50,
     "metadata": {},
     "output_type": "execute_result"
    }
   ],
   "source": [
    "df['Middeltemperatur, avvik fra normalen 1991-2020 (mnd)']"
   ]
  },
  {
   "cell_type": "markdown",
   "metadata": {},
   "source": [
    "Vi lagrer kolonnen med tid som `tid` og kolonnen med temperatur som `temp`. Vi utelukker det siste elementet i begge radene fordi dette bare er NaN. "
   ]
  },
  {
   "cell_type": "code",
   "execution_count": 52,
   "metadata": {},
   "outputs": [],
   "source": [
    "tid=df.iloc[:,2][:-1]\n",
    "temp=df.iloc[:,3][:-1]\n",
    "temp_anomali=df.iloc[:,4][:-1]"
   ]
  },
  {
   "cell_type": "code",
   "execution_count": 54,
   "metadata": {},
   "outputs": [
    {
     "data": {
      "text/plain": [
       "(0      jan.1980\n",
       " 1      feb.1980\n",
       " 2      mar.1980\n",
       " 3      apr.1980\n",
       " 4      mai.1980\n",
       "          ...   \n",
       " 511    aug.2022\n",
       " 512    sep.2022\n",
       " 513    okt.2022\n",
       " 514    nov.2022\n",
       " 515    des.2022\n",
       " Name: Tid(norsk normaltid), Length: 516, dtype: object,\n",
       " 0       0.9\n",
       " 1       1.1\n",
       " 2       2.1\n",
       " 3       6.4\n",
       " 4      10.8\n",
       "        ... \n",
       " 511    15.6\n",
       " 512    12.9\n",
       " 513     9.9\n",
       " 514     7.8\n",
       " 515    -0.1\n",
       " Name: Middeltemperatur (mnd), Length: 516, dtype: float64)"
      ]
     },
     "execution_count": 54,
     "metadata": {},
     "output_type": "execute_result"
    }
   ],
   "source": [
    "tid, temp"
   ]
  },
  {
   "cell_type": "markdown",
   "metadata": {},
   "source": [
    "### Del 4: Konverter variablene du trenger til Numpy\n",
    "med funksjonen `df.to_numpy()`\n",
    "\n",
    "Vi vil konvertere Pandas DataFrame (variabelene `df`, `tid`, `temp`, og `temp_anomali` er alle DataFrames) til et numpy array fordi plottebiblioteket vi bruker, `Matplotlib`, er flinkere til å behandle data på `Numpy`-format enn på `Pandas`-format. Dersom f.eks. tiden mellom måletidspunkt ikke er konstant vil `Pandas` likevel plotte dette med jevne intervall, mens `Numpy` tar stilling til selve tidverdien og plotter datapunktene med så stor avstand de skal ha. Derfor konverterer vi variablene våre fra `pandas` til `Numpy` arrays. \n",
    "Denne konverteringen er også praktisk hvis du f.eks. skal sammenligne et datasett som dette med et du har lest inn som numpy array. \n",
    "\n",
    "Hvis df er en DataFrame konverterer vi til numpy array med denne funksjonen: `df.to_numpy()`.\n",
    "\n",
    "For å konvertere motsatt vei bruker man `pd.DataFrame(array)`, hvor \"array\" er et numpy array."
   ]
  },
  {
   "cell_type": "code",
   "execution_count": 55,
   "metadata": {},
   "outputs": [],
   "source": [
    "tid=tid.to_numpy()"
   ]
  },
  {
   "cell_type": "code",
   "execution_count": 56,
   "metadata": {},
   "outputs": [],
   "source": [
    "temp=temp.to_numpy()"
   ]
  },
  {
   "cell_type": "code",
   "execution_count": 57,
   "metadata": {
    "scrolled": true
   },
   "outputs": [
    {
     "data": {
      "text/plain": [
       "array(['jan.1980', 'feb.1980', 'mar.1980', 'apr.1980', 'mai.1980',\n",
       "       'jun.1980', 'jul.1980', 'aug.1980', 'sep.1980', 'okt.1980',\n",
       "       'nov.1980', 'des.1980', 'jan.1981', 'feb.1981', 'mar.1981',\n",
       "       'apr.1981', 'mai.1981', 'jun.1981', 'jul.1981', 'aug.1981',\n",
       "       'sep.1981', 'okt.1981', 'nov.1981', 'des.1981', 'jan.1982',\n",
       "       'feb.1982', 'mar.1982', 'apr.1982', 'mai.1982', 'jun.1982',\n",
       "       'jul.1982', 'aug.1982', 'sep.1982', 'okt.1982', 'nov.1982',\n",
       "       'des.1982', 'jan.1983', 'feb.1983', 'mar.1983', 'apr.1983',\n",
       "       'mai.1983', 'jun.1983', 'jul.1983', 'aug.1983', 'sep.1983',\n",
       "       'okt.1983', 'nov.1983', 'des.1983', 'jan.1984', 'feb.1984',\n",
       "       'mar.1984', 'apr.1984', 'mai.1984', 'jun.1984', 'jul.1984',\n",
       "       'aug.1984', 'sep.1984', 'okt.1984', 'nov.1984', 'des.1984',\n",
       "       'jan.1985', 'feb.1985', 'mar.1985', 'apr.1985', 'mai.1985',\n",
       "       'jun.1985', 'jul.1985', 'aug.1985', 'sep.1985', 'okt.1985',\n",
       "       'nov.1985', 'des.1985', 'jan.1986', 'feb.1986', 'mar.1986',\n",
       "       'apr.1986', 'mai.1986', 'jun.1986', 'jul.1986', 'aug.1986',\n",
       "       'sep.1986', 'okt.1986', 'nov.1986', 'des.1986', 'jan.1987',\n",
       "       'feb.1987', 'mar.1987', 'apr.1987', 'mai.1987', 'jun.1987',\n",
       "       'jul.1987', 'aug.1987', 'sep.1987', 'okt.1987', 'nov.1987',\n",
       "       'des.1987', 'jan.1988', 'feb.1988', 'mar.1988', 'apr.1988',\n",
       "       'mai.1988', 'jun.1988', 'jul.1988', 'aug.1988', 'sep.1988',\n",
       "       'okt.1988', 'nov.1988', 'des.1988', 'jan.1989', 'feb.1989',\n",
       "       'mar.1989', 'apr.1989', 'mai.1989', 'jun.1989', 'jul.1989',\n",
       "       'aug.1989', 'sep.1989', 'okt.1989', 'nov.1989', 'des.1989',\n",
       "       'jan.1990', 'feb.1990', 'mar.1990', 'apr.1990', 'mai.1990',\n",
       "       'jun.1990', 'jul.1990', 'aug.1990', 'sep.1990', 'okt.1990',\n",
       "       'nov.1990', 'des.1990', 'jan.1991', 'feb.1991', 'mar.1991',\n",
       "       'apr.1991', 'mai.1991', 'jun.1991', 'jul.1991', 'aug.1991',\n",
       "       'sep.1991', 'okt.1991', 'nov.1991', 'des.1991', 'jan.1992',\n",
       "       'feb.1992', 'mar.1992', 'apr.1992', 'mai.1992', 'jun.1992',\n",
       "       'jul.1992', 'aug.1992', 'sep.1992', 'okt.1992', 'nov.1992',\n",
       "       'des.1992', 'jan.1993', 'feb.1993', 'mar.1993', 'apr.1993',\n",
       "       'mai.1993', 'jun.1993', 'jul.1993', 'aug.1993', 'sep.1993',\n",
       "       'okt.1993', 'nov.1993', 'des.1993', 'jan.1994', 'feb.1994',\n",
       "       'mar.1994', 'apr.1994', 'mai.1994', 'jun.1994', 'jul.1994',\n",
       "       'aug.1994', 'sep.1994', 'okt.1994', 'nov.1994', 'des.1994',\n",
       "       'jan.1995', 'feb.1995', 'mar.1995', 'apr.1995', 'mai.1995',\n",
       "       'jun.1995', 'jul.1995', 'aug.1995', 'sep.1995', 'okt.1995',\n",
       "       'nov.1995', 'des.1995', 'jan.1996', 'feb.1996', 'mar.1996',\n",
       "       'apr.1996', 'mai.1996', 'jun.1996', 'jul.1996', 'aug.1996',\n",
       "       'sep.1996', 'okt.1996', 'nov.1996', 'des.1996', 'jan.1997',\n",
       "       'feb.1997', 'mar.1997', 'apr.1997', 'mai.1997', 'jun.1997',\n",
       "       'jul.1997', 'aug.1997', 'sep.1997', 'okt.1997', 'nov.1997',\n",
       "       'des.1997', 'jan.1998', 'feb.1998', 'mar.1998', 'apr.1998',\n",
       "       'mai.1998', 'jun.1998', 'jul.1998', 'aug.1998', 'sep.1998',\n",
       "       'okt.1998', 'nov.1998', 'des.1998', 'jan.1999', 'feb.1999',\n",
       "       'mar.1999', 'apr.1999', 'mai.1999', 'jun.1999', 'jul.1999',\n",
       "       'aug.1999', 'sep.1999', 'okt.1999', 'nov.1999', 'des.1999',\n",
       "       'jan.2000', 'feb.2000', 'mar.2000', 'apr.2000', 'mai.2000',\n",
       "       'jun.2000', 'jul.2000', 'aug.2000', 'sep.2000', 'okt.2000',\n",
       "       'nov.2000', 'des.2000', 'jan.2001', 'feb.2001', 'mar.2001',\n",
       "       'apr.2001', 'mai.2001', 'jun.2001', 'jul.2001', 'aug.2001',\n",
       "       'sep.2001', 'okt.2001', 'nov.2001', 'des.2001', 'jan.2002',\n",
       "       'feb.2002', 'mar.2002', 'apr.2002', 'mai.2002', 'jun.2002',\n",
       "       'jul.2002', 'aug.2002', 'sep.2002', 'okt.2002', 'nov.2002',\n",
       "       'des.2002', 'jan.2003', 'feb.2003', 'mar.2003', 'apr.2003',\n",
       "       'mai.2003', 'jun.2003', 'jul.2003', 'aug.2003', 'sep.2003',\n",
       "       'okt.2003', 'nov.2003', 'des.2003', 'jan.2004', 'feb.2004',\n",
       "       'mar.2004', 'apr.2004', 'mai.2004', 'jun.2004', 'jul.2004',\n",
       "       'aug.2004', 'sep.2004', 'okt.2004', 'nov.2004', 'des.2004',\n",
       "       'jan.2005', 'feb.2005', 'mar.2005', 'apr.2005', 'mai.2005',\n",
       "       'jun.2005', 'jul.2005', 'aug.2005', 'sep.2005', 'okt.2005',\n",
       "       'nov.2005', 'des.2005', 'jan.2006', 'feb.2006', 'mar.2006',\n",
       "       'apr.2006', 'mai.2006', 'jun.2006', 'jul.2006', 'aug.2006',\n",
       "       'sep.2006', 'okt.2006', 'nov.2006', 'des.2006', 'jan.2007',\n",
       "       'feb.2007', 'mar.2007', 'apr.2007', 'mai.2007', 'jun.2007',\n",
       "       'jul.2007', 'aug.2007', 'sep.2007', 'okt.2007', 'nov.2007',\n",
       "       'des.2007', 'jan.2008', 'feb.2008', 'mar.2008', 'apr.2008',\n",
       "       'mai.2008', 'jun.2008', 'jul.2008', 'aug.2008', 'sep.2008',\n",
       "       'okt.2008', 'nov.2008', 'des.2008', 'jan.2009', 'feb.2009',\n",
       "       'mar.2009', 'apr.2009', 'mai.2009', 'jun.2009', 'jul.2009',\n",
       "       'aug.2009', 'sep.2009', 'okt.2009', 'nov.2009', 'des.2009',\n",
       "       'jan.2010', 'feb.2010', 'mar.2010', 'apr.2010', 'mai.2010',\n",
       "       'jun.2010', 'jul.2010', 'aug.2010', 'sep.2010', 'okt.2010',\n",
       "       'nov.2010', 'des.2010', 'jan.2011', 'feb.2011', 'mar.2011',\n",
       "       'apr.2011', 'mai.2011', 'jun.2011', 'jul.2011', 'aug.2011',\n",
       "       'sep.2011', 'okt.2011', 'nov.2011', 'des.2011', 'jan.2012',\n",
       "       'feb.2012', 'mar.2012', 'apr.2012', 'mai.2012', 'jun.2012',\n",
       "       'jul.2012', 'aug.2012', 'sep.2012', 'okt.2012', 'nov.2012',\n",
       "       'des.2012', 'jan.2013', 'feb.2013', 'mar.2013', 'apr.2013',\n",
       "       'mai.2013', 'jun.2013', 'jul.2013', 'aug.2013', 'sep.2013',\n",
       "       'okt.2013', 'nov.2013', 'des.2013', 'jan.2014', 'feb.2014',\n",
       "       'mar.2014', 'apr.2014', 'mai.2014', 'jun.2014', 'jul.2014',\n",
       "       'aug.2014', 'sep.2014', 'okt.2014', 'nov.2014', 'des.2014',\n",
       "       'jan.2015', 'feb.2015', 'mar.2015', 'apr.2015', 'mai.2015',\n",
       "       'jun.2015', 'jul.2015', 'aug.2015', 'sep.2015', 'okt.2015',\n",
       "       'nov.2015', 'des.2015', 'jan.2016', 'feb.2016', 'mar.2016',\n",
       "       'apr.2016', 'mai.2016', 'jun.2016', 'jul.2016', 'aug.2016',\n",
       "       'sep.2016', 'okt.2016', 'nov.2016', 'des.2016', 'jan.2017',\n",
       "       'feb.2017', 'mar.2017', 'apr.2017', 'mai.2017', 'jun.2017',\n",
       "       'jul.2017', 'aug.2017', 'sep.2017', 'okt.2017', 'nov.2017',\n",
       "       'des.2017', 'jan.2018', 'feb.2018', 'mar.2018', 'apr.2018',\n",
       "       'mai.2018', 'jun.2018', 'jul.2018', 'aug.2018', 'sep.2018',\n",
       "       'okt.2018', 'nov.2018', 'des.2018', 'jan.2019', 'feb.2019',\n",
       "       'mar.2019', 'apr.2019', 'mai.2019', 'jun.2019', 'jul.2019',\n",
       "       'aug.2019', 'sep.2019', 'okt.2019', 'nov.2019', 'des.2019',\n",
       "       'jan.2020', 'feb.2020', 'mar.2020', 'apr.2020', 'mai.2020',\n",
       "       'jun.2020', 'jul.2020', 'aug.2020', 'sep.2020', 'okt.2020',\n",
       "       'nov.2020', 'des.2020', 'jan.2021', 'feb.2021', 'mar.2021',\n",
       "       'apr.2021', 'mai.2021', 'jun.2021', 'jul.2021', 'aug.2021',\n",
       "       'sep.2021', 'okt.2021', 'nov.2021', 'des.2021', 'jan.2022',\n",
       "       'feb.2022', 'mar.2022', 'apr.2022', 'mai.2022', 'jun.2022',\n",
       "       'jul.2022', 'aug.2022', 'sep.2022', 'okt.2022', 'nov.2022',\n",
       "       'des.2022'], dtype=object)"
      ]
     },
     "execution_count": 57,
     "metadata": {},
     "output_type": "execute_result"
    }
   ],
   "source": [
    "tid"
   ]
  },
  {
   "cell_type": "markdown",
   "metadata": {},
   "source": [
    "#### Lag en ny tidsserie for tid fordi dataformatet i den originale filen er upraktisk\n",
    "Sjekk start og slutt-tid for datasettet"
   ]
  },
  {
   "cell_type": "code",
   "execution_count": 58,
   "metadata": {},
   "outputs": [
    {
     "data": {
      "text/plain": [
       "('jan.1980', 'des.2022')"
      ]
     },
     "execution_count": 58,
     "metadata": {},
     "output_type": "execute_result"
    }
   ],
   "source": [
    "tid[0], tid[-1]"
   ]
  },
  {
   "cell_type": "markdown",
   "metadata": {},
   "source": [
    "Datasettet spenner alle månedene fra januar 1980 til desember 2022. Dette blir det samme som en serie med tall fra 1980 til 2023 med 1/12 mellom hver verdi fordi det er 12 måneder i hvert år. "
   ]
  },
  {
   "cell_type": "code",
   "execution_count": 59,
   "metadata": {},
   "outputs": [],
   "source": [
    "tid=np.arange(1980, 2023, 1/12)"
   ]
  },
  {
   "cell_type": "markdown",
   "metadata": {},
   "source": [
    "Sjekk at start og sluttverdi stemmer"
   ]
  },
  {
   "cell_type": "code",
   "execution_count": 60,
   "metadata": {},
   "outputs": [
    {
     "data": {
      "text/plain": [
       "(1980.0, 2022.9166666666276)"
      ]
     },
     "execution_count": 60,
     "metadata": {},
     "output_type": "execute_result"
    }
   ],
   "source": [
    "tid[0], tid[-1]"
   ]
  },
  {
   "cell_type": "markdown",
   "metadata": {},
   "source": [
    "Sjekk at vektoren tid som vi har laget har samme lengde som temperaturvektoren"
   ]
  },
  {
   "cell_type": "code",
   "execution_count": 61,
   "metadata": {},
   "outputs": [
    {
     "data": {
      "text/plain": [
       "((516,), (516,))"
      ]
     },
     "execution_count": 61,
     "metadata": {},
     "output_type": "execute_result"
    }
   ],
   "source": [
    "tid.shape, temp.shape"
   ]
  },
  {
   "cell_type": "markdown",
   "metadata": {},
   "source": [
    "### Del 5: lag en figur av temperatur anomaliene for å sjekke temperatur-ranget og som referanse til temperaturstipene lengre ned"
   ]
  },
  {
   "cell_type": "code",
   "execution_count": 62,
   "metadata": {},
   "outputs": [
    {
     "data": {
      "image/png": "[encoded data removed]",
      "text/plain": [
       "<Figure size 720x216 with 1 Axes>"
      ]
     },
     "metadata": {
      "needs_background": "light"
     },
     "output_type": "display_data"
    }
   ],
   "source": [
    "plt.figure(figsize=(10,3))\n",
    "plt.plot(tid,temp_anomali)\n",
    "plt.grid()\n",
    "plt.xlim(tid[0], tid[-1])\n",
    "plt.show()"
   ]
  },
  {
   "cell_type": "markdown",
   "metadata": {},
   "source": [
    "### 5) Plot the temperture stripe\n",
    "NB: Vær obs på at hvis du endrer tidsintervallet du plotter endrer du også hvilken temperatur som har hvilken farge. "
   ]
  },
  {
   "cell_type": "code",
   "execution_count": 72,
   "metadata": {},
   "outputs": [
    {
     "data": {
      "image/png": "[encoded data removed]",
      "text/plain": [
       "<Figure size 720x144 with 1 Axes>"
      ]
     },
     "metadata": {
      "needs_background": "light"
     },
     "output_type": "display_data"
    }
   ],
   "source": [
    "#choose time period and temperature range to fit your data\n",
    "FIRST = 1980 #first year to include\n",
    "LAST  = 2021 #last year to include\n",
    "# include temperature from +-LIM degrees (From the figure above we see \n",
    "# that +-2 degrees is adequate)\n",
    "LIM = 2 \n",
    "\n",
    "#colormap from the classical temperture stripes containing 8 blue \n",
    "# and 8 red colors\n",
    "cmap = ListedColormap([\n",
    "    '#08306b', '#08519c', '#2171b5', '#4292c6',\n",
    "    '#6baed6', '#9ecae1', '#c6dbef', '#deebf7',\n",
    "    '#fee0d2', '#fcbba1', '#fc9272', '#fb6a4a',\n",
    "    '#ef3b2c', '#cb181d', '#a50f15', '#67000d',\n",
    "])\n",
    "\n",
    "fig = plt.figure(figsize=(10, 2))\n",
    "ax = fig.add_axes([0, 0, 1, 1])\n",
    "# Uncomment below if you want a clean figure without ticks and ticklabels\n",
    "#ax.set_axis_off() \n",
    "\n",
    "# Create a collection with a rectangle for each stripe\n",
    "# Set the width of each stripe. For annual data you typically choose width=1, \n",
    "# for monthly you choose width=1/12\n",
    "width=1/12 \n",
    "col = PatchCollection([\n",
    "    Rectangle((y, 0), width, 1)\n",
    "    for y in np.arange(FIRST, LAST + 1,width)\n",
    "])\n",
    "\n",
    "# set data, colormap and color limits\n",
    "col.set_array(temp_anomali)\n",
    "col.set_cmap(cmap)\n",
    "col.set_clim(- LIM, LIM) # set the temperature range\n",
    "ax.add_collection(col) #this is where you add the colors\n",
    "\n",
    "ax.set_ylim(0, 1)\n",
    "ax.set_yticks([]) #no need for yticks\n",
    "ax.set_xlim(FIRST, LAST + 1) #set the time range\n",
    "plt.show()\n",
    "\n"
   ]
  },
  {
   "cell_type": "code",
   "execution_count": null,
   "metadata": {},
   "outputs": [],
   "source": []
  }
 ],
 "metadata": {
  "kernelspec": {
   "display_name": "Python 3",
   "language": "python",
   "name": "python3"
  },
  "language_info": {
   "codemirror_mode": {
    "name": "ipython",
    "version": 3
   },
   "file_extension": ".py",
   "mimetype": "text/x-python",
   "name": "python",
   "nbconvert_exporter": "python",
   "pygments_lexer": "ipython3",
   "version": "3.8.5"
  }
 },
 "nbformat": 4,
 "nbformat_minor": 4
}

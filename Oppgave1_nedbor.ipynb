{
 "cells": [
  {
   "cell_type": "markdown",
   "metadata": {},
   "source": [
    "# Nedbør i Norge. \n",
    "\n",
    "I denne oppgaven ser vi på tre ting:\n",
    "- Hvordan tolke trendlinjer?\n",
    "- Hva betyr egentlig standardavik?\n",
    "- Hvordan kan vi bruke trendlinjer og standardavvik til å si noe om ekstremnedbør fremover?\n",
    "\n",
    "I tillegg til eksempeloppgaven i første halvdel av denne oppgaven er \"Nedbørsoppgaven Del 1-5\" laget som en hjelp til å gjøre denne oppgaven. Intensjonen er at man kan gjøre Del 1 til 5 først, så kjøre gjennom eksempelet under, og til slutt gjøre selve oppgaven \"Nedbør i Norge\". Da vil man ha gått gjennom det programmeringstekniske på forhånd, og kan fokusere mest på det naturvitenskaplige i oppgaven \"Nedbør i Norge\".\n",
    "__________________\n",
    "\n",
    "Tilbakemelding fra lærerne 11. mars\n",
    "- veldig variert nivå blant elevene\n",
    "- begynne litt enklere med å se på tallene! Skap litt diskusjon rundt hvorfor vi i det hele tatt skal se på disse tallene. Så begynn på oppgaven. Men la elevene diskutere litt fritt først.\n",
    "\n",
    "- Hva er nyttig? Hva vil dere ha? \n",
    "- (eksempel på oppgavetema: redusjonstid)\n",
    "- Lag noen korte små biter: små programmerings-konseptbaserte oppgaver\n",
    "\n"
   ]
  },
  {
   "cell_type": "markdown",
   "metadata": {},
   "source": [
    "Først må vi laste inn et par python-pakker for å kunne gjøre matematiske operasjoner og lage figurer."
   ]
  },
  {
   "cell_type": "code",
   "execution_count": null,
   "metadata": {},
   "outputs": [],
   "source": [
    "import numpy as np # for matematikk\n",
    "import matplotlib.pyplot as plt # for figurer"
   ]
  },
  {
   "cell_type": "markdown",
   "metadata": {},
   "source": [
    "## Et eksempel før vi setter igang\n",
    "Dette eksempelet er ment som hjelp til å løse dette oppgavesettet. Eksempelet bruker et annet datasett, men formatet er likt til det dere skal bruke, og python-kommandoene i eksempelet vil defor kunne brukes på samme måte når dere skal løse oppgavene under. Eksempelet dreier seg utelukkende om å vise hvordan man kan behandle data og lage figurer som presenterer resultatene på en måte man kan tolke videre. Oppgaver rundt selve tolkningen og diskusjon er kuttet fra eksempelet og kommer i hovedoppgaven. \n",
    "\n",
    "NOTE: Jeg bruker filen PrecipVestlandMonthly.txt selv om dette også er en nedbørsfil fordi denne har samme format. Jeg vil helst bruke en annen fil med samme format, men over en annen variabel. Da blir det et bedre eksempel å følge uten at det blir så lett å kopiere nøyaktig fra eksempelet.\n",
    "\n",
    "Dette er stegene i eksempelet:\n",
    "- Last inn filen vi vil bruke\n",
    "- Orienter deg i datasettet: hva beskriver verdiene i radene, og hva med verdiene i kolonnene?\n",
    "- Lag variabler hvor du lagrer dataene i kolonnene/radene du vil bruke seinere. \n",
    "- Bruk disse variablene til å lage figurer og gjøre beregninger. \n",
    "\n",
    "For å gjøre disse stegene riktig er det viktig å holde kontroll på indeksering i Python. Her er er par nyttige huskeregler:\n",
    "- Første indeks er alltid 0. Har du f.eks. listen `x=[1,2,3,4,5,6]` vil `x[0]=1`. \n",
    "- Hvis du kun vil bruke de tre første elementene i x, så skriver du `x[0:3]`. \n",
    "- Hvis du kun vil bruke de to siste elementene i x, så skriver du `x[4:]`. Dette er det samme som `x[4:6]`. \n",
    "- Den siste indeksen du oppgir blir altså ikke med i resultatet: skriver du `x[2:5]` velger du ut element 2 til MEN IKKE MED element 5. \n",
    "\n",
    "Test dette gjerne ut i cellen under før du setter igang, det er fort gjort å bli forvirra her. "
   ]
  },
  {
   "cell_type": "code",
   "execution_count": null,
   "metadata": {},
   "outputs": [],
   "source": [
    "x=np.array([1.,2.,3.,4.,5.,6.]) # Her definerer du variabelen 'x'. Punktumene bak hver tall spesifiserer at det ikke er desimaler.\n",
    "print('x =',x) # Print betyr enkelt og greit \"skriv dette\". \n",
    "               # Når du bruker hermetegn tolker Python det som bokstaver, istedetfor verdiene som ligger \n",
    "               # i variabelen 'x' som du nettopp lagde. På denne måten kan du kombinere tekst og variabel-verdier. \n",
    "print('x[0:3] = ',x[0:3])\n",
    "print('x[3:]  = x[3:6] = ',x[3:])\n",
    "print('x[2:5] = ',x[2:5])"
   ]
  },
  {
   "cell_type": "markdown",
   "metadata": {},
   "source": [
    "# Del 1: Klargjør datasettet\n",
    "Nå laster vi inn datasettet vi skal bruke i eksempelet. Det er mange måter å gjøre dette på, og forskjellige fil-typer krever ulike metoder for enkel innlastning. Siden dataene vi bruker i denne oppgaven er .txt-filer bruker vi NumPy sin pakke \"genfromtxt\". Da får vi inn dataene som en tabell (en matrise) der hver rad i data-filen er en liste. Dette gjør det enkelt å velge ut biter av datasettet. Det er ikke alltid praktisk å se på hele datasettet på en gang. Kanskje man bare vil se på januar-verdier, eller kanskje bare fra 2000 til 2020? Dette får vi bruk for seinere i oppgaven."
   ]
  },
  {
   "cell_type": "code",
   "execution_count": null,
   "metadata": {},
   "outputs": [],
   "source": [
    "data = np.genfromtxt('https://raw.githubusercontent.com/irendundas/EkteData/main/PrecipVestlandMonthly.txt', dtype=float)\n",
    "data # Man trenger ikke skrive \"print\" for å vise en variabel: det holder å bare skrive variabelnavnet. "
   ]
  },
  {
   "cell_type": "markdown",
   "metadata": {},
   "source": [
    "Dette datasettet har flere kolonner og rader enn det notebook kan vise på en gang, derfor vises bare hjørnene til tabellen, og \"...\" for å vise at det egentlig er flere verdier mellom de oppgitte tallene. For å finne ut av de faktiske dimensjonene til tabellen er kommandoen shape kjempenyttig. "
   ]
  },
  {
   "cell_type": "code",
   "execution_count": null,
   "metadata": {},
   "outputs": [],
   "source": [
    "print(data.shape) \n",
    "print(data.shape[0]) # Antall rader\n",
    "print(data.shape[1]) # Antall kolonner"
   ]
  },
  {
   "cell_type": "markdown",
   "metadata": {},
   "source": [
    "Variablen \"data\" er altså en tabell (\"array\") med to dimensjoner. Det første tallet viser til rader, og det andre til kolonner (søyler). \"data\" har 122 rader, og 13 kolonner. Dette datasettet er organisert slik at de 122 radene er år, fra 1899 til 2020. Første kolonne er alle disse årene. De 12 andre kolonnene er månedene i året. Kolonne to er januar, nr 3 er februar osv. \n",
    "\n",
    "Av og til mangler et par verdier i et datasett. For å fylle opp tabellen selv om det ikke finnes verdier for alle datapunktene settes ofte \"NaN\" (not a number) til disse datapunktene. I dette datasettet er disse verdiene satt til -999.99. Det gjør det tydelig at det ikke er ekte datapunkt (det kan ikke regne -999.99 mm), men det gjør at datasettet blir vanskelig å jobbe med. Vi erstatter derfor alle tilfeller av -999.99 med NaN i cellen under. Det doble likhetstegnet er en viktig funksjon i programering. `data==-999.99` betyr \"alle indekser i variablen 'data' som har verdi -999.99\". Resultatet er en tabell med samme dimensjoner som \"data\", men hvor alle datapunkt er erstattet med enten \"True\" eller \"False\". Om verdien til et datapunkt er -999.99 erstattes det med \"True\", om det er alt annet erstattes det med \"False\". Når man så skriver `data[data==-999.99]=np.nan` setter man alle datapunkt som er \"True\" til NaN, mens alle andre datapunkt lar man være i fred. Dette er lettest å forstå med et enkelt eksempel:"
   ]
  },
  {
   "cell_type": "code",
   "execution_count": null,
   "metadata": {},
   "outputs": [],
   "source": [
    "print('x = ',x)\n",
    "print('x==3. = ',x==3.)\n",
    "x[x==3.]=np.nan #Setter alle tilfeller av 3 til NaN.\n",
    "print('x = ',x)"
   ]
  },
  {
   "cell_type": "code",
   "execution_count": null,
   "metadata": {},
   "outputs": [],
   "source": [
    "data[data==-999.99]=np.nan \n",
    "data # Nå er det et par nan i starten og slutten av datasettet, og kanskje et par steder midt i? "
   ]
  },
  {
   "cell_type": "markdown",
   "metadata": {},
   "source": [
    "Det er lett å sjekke om det er nan-verdier i datasettet ditt. Med en gang en nan-verdi er inkludert i en matematiske operasjon vil resultatet bli nan - med mindre du spesifiserer at du vil utelukke nanverdier i utregningen din. \n",
    "\n",
    "I cellen under er\n",
    "- rad 1: den totale summen uten å spesifisere noe om nan-verdier\n",
    "- rad 2: den totale summen men alle nan-verdier utelukket fra utregningen \n",
    "- rad 3: den første og siste raden er ekskludert fra summen, og resultatet er et tall. Dette betyr at det ikke finnes nan-verdier andre steder enn i første og siste rad i datasettet. I dette tilfellet er det fordi datasettet beskriver nedbør fra desember 1899 til og med oktober 2020. Resten av månedene i 1899 og 2020 er satt til NaN. "
   ]
  },
  {
   "cell_type": "code",
   "execution_count": null,
   "metadata": {},
   "outputs": [],
   "source": [
    "print(np.sum(data))\n",
    "print(np.nansum(data))\n",
    "print(np.sum(data[1:data.shape[0]-1,:]))"
   ]
  },
  {
   "cell_type": "markdown",
   "metadata": {},
   "source": [
    "### Nå setter vi i gang med eksempelet på ekte\n",
    "\n",
    "I dette eksempelet skal vi først lage en figur med en tidsserie av gjennomsnittlig nedbør per måned. Tid er langs x-aksen og nedbør langs y-aksen. En ryddig måte å gjøre dette på er å først dele \"data\" i to tidsserier, en for tid, og en for gjennomsnitlig månedsnedbør. Husk fra celle 2 hvordan man henter ut data fra en tabell basert på indeksering. \"Celle 2\" er boks nr 2 med kode. "
   ]
  },
  {
   "cell_type": "code",
   "execution_count": null,
   "metadata": {},
   "outputs": [],
   "source": [
    "nedbør=data[:,1:] # Hele datasettet utenom den første kolonnen som er årene\n",
    "nedbør=np.nanmean(nedbør, axis=1) # Gjennomsnittlig månedsnedbør per år. axis=1 beskriver at vi vil ta gjennomsnittet av alle\n",
    "                                  # kolonnene slik at det blir en verdi per år. axis=0 ville gitt gjenomsnitt over radene.\n",
    "tid=data[:,0]                     # Den første kolonnen"
   ]
  },
  {
   "cell_type": "code",
   "execution_count": null,
   "metadata": {},
   "outputs": [],
   "source": [
    "plt.plot(tid,nedbør) # plot nedbør som en funksjon av tid\n",
    "plt.xlim(1899,2020)  # definer grensene til x-aksen. Hvis dette ikke defineres er det ofte et tomrom på hver side\n",
    "plt.xlabel('Tid')                   # navn på x-aksen\n",
    "plt.ylabel('Nedbør [mm]')           # navn på y-aksen\n",
    "plt.title('Gjennomsnittlig månedsnedbør (Vestlandet: 1900-2020)') # Tittel\n",
    "plt.grid(True) # Vis rutenett i bakgrunnen. Om du ikke vil ha det, skriv plt.grid(False)."
   ]
  },
  {
   "cell_type": "markdown",
   "metadata": {},
   "source": [
    "# Del 2: Trendlinjer\n",
    "I dette eksempelet og i selve oppgaven ser vi ikke på hvordan man lager en regresjonslinje til datapunkt (dette kan du jobbe med i f.eks oppgave...), men vi diskuterer resultatene vi får når vi bruker NumPy til å lage regresjonslinjene for oss. \n",
    "Figuren under viser samme figur som over, men med en trendlinje. Vi bruker np.polyfit for å finne koeffisientene \"a\" og \"b\" som vi trenger for å lage trendlinjen. I denne oppgaven trenger du ikke tenke over nøyaktig hvordan funksjonen np.polyfit fungerer. Det som er viktig i denne omgang er hva \"a\" og \"b\" beskriver, og tolkningen av hva denne og andre trendlinjer beskriver. Husk ligningen for å beskrive en linje: `y=ax+b`."
   ]
  },
  {
   "cell_type": "code",
   "execution_count": null,
   "metadata": {},
   "outputs": [],
   "source": [
    "plt.plot(tid,nedbør,label='Nedbør') # Siden vi plotter to ting i denne figuren må vi ha med en tekstboks som forklarer hva hvert\n",
    "                                    # element (i dette tilfellet linjer) beskriver (en \"legend\"). Beskrivelsen av hvert element\n",
    "                                    # settes med label=\" \", i dette tilfellet Nedbør og Trend.\n",
    "a, b = np.polyfit(tid, nedbør, 1)   # Ett-tallet betyr at vi vil ha en første ordens tilpasset linje til datasettet. \n",
    "plt.plot(tid, a*tid + b,label='Trend') # y=ax+b\n",
    "plt.legend(loc='upper left')        # \"legend\" er tekstboksen som beskriver hvilket element som hører til hvilken parameter. \n",
    "                                    # \"loc\" står for \"location\".  \n",
    "plt.xlim(1899,2020)\n",
    "plt.xlabel('Tid')\n",
    "plt.ylabel('Nedbør [mm]')\n",
    "plt.title('Gjennomsnittlig månedsnedbør (Vestlandet: 1900-2020)')\n",
    "plt.grid(True)"
   ]
  },
  {
   "cell_type": "markdown",
   "metadata": {},
   "source": [
    "En annen ting du får nytte av i oppgaven er \"for-løkker\". Det er nyttig hvis du skal gjøre nesten det samme flere ganger. Koden din blir både mer ryddig og mer effektiv*. \n",
    "Hvis du vil studere f.eks. halve tidsperioden av gangen og lage en trendlinje for hver halvdel av tidsserien kan dette gjøres med en for-løkke der du først regner ut trendlinjen til 1900-1960, og så 1960-2020. Ofte er det viktig å lagre resutatet som elementer i en liste (vektor) etter hver iterasjon i for-løkken, hvis ikke vil resultatet overskrives ved neste iterasjon. I denne oppgaven er imidlertid hovedoppgaven å tolke resultatet, og vi plotter derfor figuren direkte i for-løkken. Derfor trenger vi ikke lagre m og b i en liste akkurat nå. Vi kommer tilbake til hvordan vi kan lagre verdiene underveis litt seinere i eksempelet.\n",
    "\n",
    "Når vi under skriver \"`for i in range(2):`\" betyr dette \"for i=0, gjør operasjonen beskrevet under. Når det er ferdig, gjør det samme for i=1\". F.eks. range(2) er altså 0 og 1. range(5) er tilsvarende 0 til og med 4. \n",
    "\n",
    "\\* Dette er ikke alltid sant. Hvis du kan bruke vektoroperasjoner eller \"true/false\"-operasjoner istedet er dette stort sett mer effektivt. For-løkker er effektive der alternativet er å skrive ut hver enkelt nesten helt like linje i sin helhet. Dette trenger du ikke ta stilling til i denne oppgaven, men det er greit å ha i bakhodet i videre programmering."
   ]
  },
  {
   "cell_type": "code",
   "execution_count": null,
   "metadata": {},
   "outputs": [],
   "source": [
    "plt.plot(tid,nedbør,label='Nedbør')\n",
    "string=('Trend 1900-1960','Trend 1960-2020') # Dette er en liste med to tekstlinjer (\"string\") som skal brukes som \"label\" \n",
    "                                             # inne i \"for-løkken\" under. \n",
    "id=[0,\n",
    "    int(np.round(len(tid)/2)),\n",
    "    len(tid)-1] # - Denne linjen er ny i forhold til forrige deleksempel. \n",
    "                # - \"id\" blir en liste som gjør det lett å dele datasettet inn i to like lange tidsserier - som er nettopp det \n",
    "                #   vi vil: å se på 1900-1960 og 1960-2020 hver for seg. \n",
    "                # - 0 er starten på datasettet\n",
    "                # - int(np.round(len(tid)/2)) = 61 er midten av datasettet. \n",
    "                # - np.round gjør at vi får et heltall, som er nødvendig for indeksering. \n",
    "                # - int gjør at vi får en \"integer\": et tall uten desimaler, også nødvendig for indeksering. \n",
    "                # - len(tid)-1 er slutten av datasettet. Husk: -1 er med fordi python begynner indekseringen sin med 0. \n",
    "                \n",
    "print('id = ',id)\n",
    "                # - tid[0:61] = tid[id[0]:id[1]] og tid[61:121] = tid[id[1]:id[2]]. \n",
    "                #   Når i=0 er også f.eks. tid[0:61] = tid[id[0]:id[1]] = tid[id[i]:id[i+1]]\n",
    "                #   Dette er viktig å klart for seg for å forstå for-løkken under\n",
    "\n",
    "\n",
    "for i in range(2):\n",
    "    # I første runde (i=0) finner vi m og b for 1900-1960. I andre runde (i=1) finner vi m og b for 1960-2020.\n",
    "    a, b = np.polyfit(tid[id[i]:id[i+1]], nedbør[id[i]:id[i+1]], 1) \n",
    "    # I første runde plotter vi den oransje trendlinjen, i andre linje plotter vi den grønne trendlinjen.\n",
    "    plt.plot(tid[id[i]:id[i+1]], a*tid[id[i]:id[i+1]] + b,label=string[i]) \n",
    "    \n",
    "plt.legend(loc='upper left')\n",
    "plt.xlim(1899,2020)\n",
    "plt.xlabel('Tid')\n",
    "plt.ylabel('Nedbør [mm]')\n",
    "plt.title('Gjennomsnittlig månedsnedbør (Vestlandet: 1900-2020)')\n",
    "plt.grid(True)"
   ]
  },
  {
   "cell_type": "markdown",
   "metadata": {},
   "source": [
    "### Lagre variabler i for-løkke\n",
    "Når man trenger å lagre resultater underveis i en for-løkke må man først lage en tom liste/tabell som kan fylle opp. Du må derfor vite hvilke dimensjoner det totale resultatet ditt skal ha. Vil du for eksempel dele tidsserien over inn i fire istedet for to, og lagre koeffisientene \"a\" og \"b\" til alle fire trendlinjene må \"a\" og \"b\" lagres i lister med fire element. Når man lager lister på forhånd som man siden fyller med resultat er det tre veldig nyttige funksjoner man kan bruke: `np.zeros`, `np.ones` og `np.empty`. `np.empty` gir tilfeldige verdier, og er et raskt alternativ når det er snakk om store datamengder. Vi holder oss til `np.zeros` og `np.ones`, som gir en tabell fylt med 0 eller 1 i de dimensjonene du spesifiserer. Ved å bruke disse funksjonene er det lett å sjekke om du har fått til å gjøre det du ville: om elementene fremdeles er 0 eller 1 (eller nan, hvis du har ganget listen din med nan) etter at du har kjørt koden din er det sannsynlig at noe er gått galt, og at resultatene dine ikke er blitt skrevet inn i den tomme tabellen din slik du ville. "
   ]
  },
  {
   "cell_type": "code",
   "execution_count": null,
   "metadata": {},
   "outputs": [],
   "source": [
    "a = np.zeros(shape=(4)) # lag en liste med 4 elemeter, ett for hver av de fire trendlinjene\n",
    "a[:] = np.nan # sett hvert element til NaN. Istedetfor disse to linjene kunne du også skrevet: m = np.nan*np.zeros((4))\n",
    "b = np.nan*np.zeros(shape=(4))\n",
    "\n",
    "id=[0,                             # Her gjør vi nøyaktig det samme som i cellen over, bare at vi finner indeksene vi trenger  \n",
    "    int(np.round(len(tid)/4)),     # for å dele tidsserien inn i fire like deler istedet for to like deler.  \n",
    "    int(np.round(len(tid)/2)),\n",
    "    3*int(np.round(len(tid)/4)),\n",
    "    len(tid)-1] \n",
    "\n",
    "print(id)\n",
    "\n",
    "for i in range(4):\n",
    "    # ved å skrive m[i] og b[i] lagrer vi m og b til de fire trendlinjene i de to listene med NaN vi definerte rett over. \n",
    "    a[i], b[i] = np.polyfit(tid[id[i]:id[i+1]], nedbør[id[i]:id[i+1]], 1)\n",
    "    \n",
    "print('a=',a)\n",
    "print('b=',b)"
   ]
  },
  {
   "cell_type": "code",
   "execution_count": null,
   "metadata": {},
   "outputs": [],
   "source": [
    "string=('Trend 1900-1930','Trend 1930-1960','Trend 1960-1990','Trend 1990-2020') \n",
    "plt.plot(tid,nedbør,label='Nedbør')\n",
    "\n",
    "for i in range(4):\n",
    "    plt.plot(tid[id[i]:id[i+1]], a[i]*tid[id[i]:id[i+1]] + b[i],label=string[i])\n",
    "    \n",
    "plt.legend(loc='upper left')\n",
    "plt.xlim(1899,2020)\n",
    "plt.xlabel('Tid')\n",
    "plt.ylabel('Nedbør [mm]')\n",
    "plt.title('Gjennomsnittlig månedsnedbør (Vestlandet: 1900-2020)')\n",
    "plt.grid(True)"
   ]
  },
  {
   "cell_type": "markdown",
   "metadata": {},
   "source": [
    "Nå kan \"a\" og \"b\" undersøkes videre for å for eksempel se på hvordan stigningstallene til trendlinjene har endret seg over tidsperioden 1900-2020"
   ]
  },
  {
   "cell_type": "code",
   "execution_count": null,
   "metadata": {},
   "outputs": [],
   "source": [
    "string=('1900-1930','1930-1960','1960-1990','1990-2020')\n",
    "x=np.linspace(1,6,6) # Dette er kun en liste fra 1 til 6 med steg 1. Vi lager den slik at vi kan plotte stigningstallene jevnt.\n",
    "                     # Selv om vi kun skal plotte 4 markører lager vi den seks steg lang. Dette er for å få plottet til å se\n",
    "                     # ryddig ut: vi plotter sevstendige markører og ikke linjer, og da er det fint med litt rom på sidene. \n",
    "\n",
    "for i in range(4):\n",
    "    plt.plot(x[i+1],a[i],'C'+str(i)+'*',label=string[i],markersize=12) # Her får vi bruk for at vi lagde x 6 steg lang: vi \n",
    "                                                                       # plotter markørene til de fire midterste x-verdiene: \n",
    "                                                                       # 2,3,4 og 5. \n",
    "                                                                       # Da kan man etterpå la xlim være fra 1 til 6\n",
    "    # 'C'+str(i)+'*' definerer farge: 'C'+str(i) og markør: '*'. \n",
    "    # Se denne linken for python sine default farger (C0 til C9): https://matplotlib.org/stable/users/dflt_style_changes.html\n",
    "\n",
    "plt.legend(loc='upper right')\n",
    "plt.xlim(x[0],x[len(x)-1])    # (x[0],x[len(x)-1]) er det samme som (1,6)\n",
    "plt.grid(True)\n",
    "labels=[string[0],string[1],string[2],string[3]] # Vi vil ikke ha tallene 1 til 6 på x-aksen, men tidsperiodene \"a\" er beregnet\n",
    "                                                 # ut ifra. \n",
    "plt.xticks([2,3,4,5], labels) # Her definerer vi hvilke x-verdier som skal markeres langs aksen, og hvilken tekst som skal stå. \n",
    "                              # Hadde vi beregnet mangle flere trendlinjer kunne det f.eks vært mer oversiktlig å kun markere \n",
    "                              # annenhver indeks. Da ville man skrevet labels=[string[0],string[2]] og plt.xticks([1,3], labels)\n",
    "plt.xlabel('Tidsperiode')\n",
    "plt.ylabel('Stigningstall')\n",
    "plt.title('Endring i nedbør over Vestlandet (1900-2020)')\n",
    "plt.show()"
   ]
  },
  {
   "cell_type": "markdown",
   "metadata": {},
   "source": [
    "# Del 3: Standardavvik (std). \n",
    "Standardavvik (std) sier noe om hvor mye verdiene til en parameter varierer i forhold til gjennomsnittet, eller spredningen til datapunktene. Dette kan være variasjon over et geografisk område, variasjon over høyde eller dyp, eller variasjon med tid. Vi skal bruke std til å se på variasjon i nedbør over tid.  \n",
    "\n",
    "I del 1 av denne oppgaven så vi at trendlinjene avhenger mye av hvilken periode vi ser på, og hvilken måned av gangen. Vi tar utgangspunkt i kode-cellen der vi delte tidsserien i to og så på trendlinjer før og etter 1960 (celle nr 11), og sjekker hvordan std var for disse to periodene. "
   ]
  },
  {
   "cell_type": "code",
   "execution_count": null,
   "metadata": {},
   "outputs": [],
   "source": [
    "x = np.empty(shape=(2)) # En tom liste med plass til to tall\n",
    "y = np.empty(shape=(2))\n",
    "\n",
    "id=[0,\n",
    "    int(np.round(len(tid)/2)),\n",
    "    len(tid)-1]\n",
    "\n",
    "# I for-løkken under gjør vi to matematiske operasjoner etter hverandre for å finne både x og y: \n",
    "# for x tar vi først gjennomsnitt og så runder vi til nærmeste heltall.\n",
    "# for y tar vi først standardavvik og så runder vi til nærmeste heltall.\n",
    "# Operasjonen som er inderst gjøres først, så operasjonen(e) utenfor. Dette komprimerer koden og gjør at man slipper å lage\n",
    "# så mange mellomsteg-variabler som man egentlig ikke trenger å lagre. \n",
    "for i in range(2):\n",
    "    x[i]=np.round(np.mean(nedbør[id[i]:id[i+1]])) # Gjennomsnitt over periode #1 (i=0), og gjennomsnitt over periode #2 (i=2) \n",
    "    y[i]=np.round(np.std(nedbør[id[i]:id[i+1]]))  # Standardavvik over periode #1 og #2. \n",
    "\n",
    "print('Gjennomsnitt: x = ',x)\n",
    "print('Standsrdavvik: y = ',y)"
   ]
  },
  {
   "cell_type": "markdown",
   "metadata": {},
   "source": [
    "En vanlig måte å fremstille disse statistiske verdiene på er å markere gjennomsnittet og std som punkter, slik som i figuren under. Her er de røde stjernene gjennomsnittet, og de grønne prikkene pluss/minus std. "
   ]
  },
  {
   "cell_type": "code",
   "execution_count": null,
   "metadata": {},
   "outputs": [],
   "source": [
    "plt.plot(1,x[0],'r*',markersize=12) # plott gjennomsnitt for periode #1\n",
    "                                    # 'r*' beskriver markøren: r=rød, *=stjerne\n",
    "plt.plot(1,x[0]-y[0],'go')          # plott gjennomsnitt minus standardavviket for periode #1. \n",
    "                                    # 'go' beskriver markøren: g=grønn, o=dot\n",
    "plt.plot(1,x[0]+y[0],'go')          # plott gjennomsnitt pluss standardavviket for periode #1\n",
    "plt.plot(2,x[1],'r*',markersize=12) # Samme som over men for periode #2.\n",
    "plt.plot(2,x[1]-y[1],'go')\n",
    "plt.plot(2,x[1]+y[1],'go')\n",
    "plt.xlim(0,3)\n",
    "labels=['1900-1960', '1960-2020']\n",
    "plt.xticks([1,2], labels)\n",
    "plt.xlabel('Tidsperiode')\n",
    "plt.ylabel('Nedbør [mm]')\n",
    "plt.title('Nedbør over Vestlandet (1900-1960 og 1960-2020)')\n",
    "plt.grid(True)\n",
    "\n",
    "# Vi trenger en legend i denne figuren også, men vi vil unngå å ha fire grønne og to røde elementer i legenden. \n",
    "# Derfor plotter vi et grønt og et rødt merke, men vi plotter det ved (nan,nan) i griddet slik at elementet ikke synes. \n",
    "# Dette er en oversiktlig måte å ha oversikt på legenden. \n",
    "plt.plot(np.nan,np.nan,'r*',markersize=12,label='Gj.snitt') \n",
    "plt.plot(np.nan,np.nan,'go',label='Std')\n",
    "plt.legend(loc='upper left')"
   ]
  },
  {
   "cell_type": "markdown",
   "metadata": {},
   "source": [
    "I koden over er det mange, nesten helt like linjer. Når det ser slik ut kan koden ofte gjøres mer effektiv, for eksempel med en for-løkke. Den kan for eksempel se ut som dette. Legg merke til at figuren ser helt lik ut, selv om det er færre kode-linjer."
   ]
  },
  {
   "cell_type": "code",
   "execution_count": null,
   "metadata": {},
   "outputs": [],
   "source": [
    "for i in range(2):\n",
    "    plt.plot(i+1,x[i],'r*',markersize=12)\n",
    "    plt.plot(i+1,x[i]-y[i],'go')\n",
    "    plt.plot(i+1,x[i]+y[i],'go')\n",
    "    \n",
    "plt.xlim(0,3)\n",
    "labels=['1900-1960', '1960-2020']\n",
    "plt.xticks([1,2], labels)\n",
    "plt.xlabel('Tidsperiode')\n",
    "plt.ylabel('Nedbør [mm]')\n",
    "plt.title('Nedbør over Vestlandet (1900-1960 og 1960-2020)')\n",
    "plt.grid(True)\n",
    "\n",
    "plt.plot(np.nan,np.nan,'r*',markersize=12,label='Gj.snitt') \n",
    "plt.plot(np.nan,np.nan,'go',label='Std')\n",
    "plt.legend(loc='upper left')"
   ]
  },
  {
   "cell_type": "markdown",
   "metadata": {},
   "source": [
    "Nå representerer hver stjerne 60 år med nedbørsdata. \n",
    "\n",
    "Tatt i betraktning den tydelige forskjellen i trendlinjene til disse to periodene er 60 år ganske lenge. Hva skjer hvis vi istedet ser på ti år av gangen? Vi modifiserer koden over der vi delte tidsperioden inn i to (celle nr 11), og deler den i stedet inn i 12, for 12 tiår. \n",
    "\n",
    "Før man lager en figur er det ofte nyttig å se på dataene man har, hvis størrelsen på datasettet tillater det."
   ]
  },
  {
   "cell_type": "code",
   "execution_count": null,
   "metadata": {},
   "outputs": [],
   "source": [
    "x = np.empty(shape=(12))\n",
    "y = np.empty(shape=(12))\n",
    "t = np.empty(shape=(12))\n",
    "\n",
    "id=np.linspace(1,len(tid)-1,13) # Vi har brukt np.linspace tidligere for å lage lister mellom to verdier med steg 1. \n",
    "                                # I dette tilfellet skal vi imidlertid finne indekser til å skille hvert tiår. \n",
    "                                # Dette blir altså fra 1 til 120 \"len(tid)\" med 13 steg. Vi kutter 1899 og begynner i 1900\n",
    "                                # for at tiårene skal bli logisk inndelte. Siden 1899 stort sett har \"NaN\"-verdier kan dette \n",
    "                                # valget lett forsvares.\n",
    "                \n",
    "print('id = ',id)               # Vi printer \"id\" her for å kotrollere at resultatet er slik vi vil.\n",
    "\n",
    "for i in range(12):\n",
    "    x[i]=np.round(np.mean(nedbør[int(id[i]):int(id[i+1])])) # Gjennomsnittet for hvert tiår\n",
    "    y[i]=np.round(np.std(nedbør[int(id[i]):int(id[i+1])]))  # Standardavviket for hvert tiår    \n",
    "\n",
    "print('x = ',x)\n",
    "print('y = ',y)\n",
    "\n",
    "t=np.linspace(1905,2015,12) # Midtpunktet av hvert tiår\n",
    "\n",
    "print(t)"
   ]
  },
  {
   "cell_type": "markdown",
   "metadata": {},
   "source": [
    "Etter å ha sett på dataene og fått oversikten lager vi en ny figur."
   ]
  },
  {
   "cell_type": "code",
   "execution_count": null,
   "metadata": {},
   "outputs": [],
   "source": [
    "for i in range(12):\n",
    "    plt.plot(t[i],x[i],'r*',markersize=12)  # plott gjennomsnitt for periode #1\n",
    "    plt.plot(t[i],x[i]-y[i],'go')           # plott gjennomsnitt minus standardavviket for periode #1. \n",
    "    plt.plot(t[i],x[i]+y[i],'go')           # plott gjennomsnitt pluss standardavviket for periode #1\n",
    "    \n",
    "plt.xlim(1900,2020)\n",
    "plt.xlabel('Tid')\n",
    "plt.ylabel('Nedbør [mm]')\n",
    "plt.title('Nedbør over Vestlandet per tiår (1900-2020)')\n",
    "plt.grid(True)\n",
    "\n",
    "plt.plot(np.nan,np.nan,'r*',markersize=12,label='Gj.snitt') \n",
    "plt.plot(np.nan,np.nan,'go',label='Std')\n",
    "plt.legend(loc='upper left')"
   ]
  },
  {
   "cell_type": "markdown",
   "metadata": {},
   "source": [
    "# Del 4: Får vi snø til jul og varme somre fremover?\n",
    "\n",
    "For å vurdere dette ser vi på endring i standardavvik for hver årstid hver for seg."
   ]
  },
  {
   "cell_type": "code",
   "execution_count": null,
   "metadata": {},
   "outputs": [],
   "source": [
    "# Vi definerer variablen \"nedbør\" på nytt som all nedbørsdata (frem til nå var \"nedbør\" månedsgjennomsnitt per år)\n",
    "nedbør=data[:,1:]\n",
    "\n",
    "# Del datasettet inn i årstider\n",
    "winter2=nedbør[1:,1:3] # Vinter er litt tricky siden januar og februar, og desember samme år ikke hører til samme vinter. \n",
    "winter1=nedbør[0:len(nedbør)-1,12:] # Vi må ha med \":\" etter 12 for å få det på tabell-format (array) slik som \"winter2\" og \n",
    "                                    # ikke en liste. Siden vi skal sette \"winter1\" og \"winter2\" sammen til en tabell rett under\n",
    "                                    # er det viktig at \"winter1\" og \"winter2\" er på samme format. \n",
    "# Nå er \"winter2\" alle januar og februarmånedene fra og med 1900, mens \"winter1\" er desember fra 1899 til 2019.\n",
    "\n",
    "# np.concatenate setter sammen to tabeller. \"axis\" bestemmer langs hvilken akse de skal settes sammen.\n",
    "winter=np.concatenate((winter1,winter2),axis=1) "
   ]
  },
  {
   "cell_type": "code",
   "execution_count": null,
   "metadata": {},
   "outputs": [],
   "source": [
    "# Vi viser dette med et kort eksempel:\n",
    "x1=np.array([[1.,2.,3.],[4.,5.,6.]]) # \"x1\" og \"x2\" er begge 2x3 tabeller\n",
    "x2=np.array([[0,0,0],[0,0,0]])\n",
    "x=np.concatenate((x1,x2),axis=0) \n",
    "print('concatenate langs akse 0: ',)\n",
    "print(x)\n",
    "x=np.concatenate((x1,x2),axis=1) \n",
    "print('concatenate langs akse 1: ',)\n",
    "print(x)"
   ]
  },
  {
   "cell_type": "code",
   "execution_count": null,
   "metadata": {},
   "outputs": [],
   "source": [
    "# Vi kutter 1899 siden alle verdiene for disse årstidene er NaN. \n",
    "spring=nedbør[1:,2:5] # 2:5 representerer mars, april og mai\n",
    "summer=nedbør[1:,5:8]\n",
    "fall=nedbør[1:,8:11]\n",
    "\n",
    "# Ta gjennomsnitt av hver årstid\n",
    "winter=np.mean(winter,axis=1) \n",
    "spring=np.mean(spring,axis=1)\n",
    "summer=np.mean(summer,axis=1)\n",
    "fall=np.nanmean(fall,axis=1)   # for \"fall\" bruker vi np.nanmean fordi vi inkluderer en NaN-verdi i 2020. Når man ikke er helt \n",
    "                               # sikker på hvor det er NaN i datasettet kan man ha som praksis å alltid bruke nanmean i \n",
    "                               # tilfeller som dette. Men det beste er stort sett å skaffe seg oversikt over datasettet før man\n",
    "                               # man begynner å jobbe med dataene (slik som vi gjorde i starten av dette eksempelet), så vet du\n",
    "                               # når du trenger å bruke \"nanmean\" og når \"mean\" holder. "
   ]
  },
  {
   "cell_type": "markdown",
   "metadata": {},
   "source": [
    "Figuren under viser nedbør over Norge midlet over årstidene."
   ]
  },
  {
   "cell_type": "code",
   "execution_count": null,
   "metadata": {},
   "outputs": [],
   "source": [
    "string=('Vinter','Vår','Sommer','Høst')\n",
    "plt.plot(tid[1:],winter, label=string[0]) # Vi bruker tid[1:] siden vi rett over valgte å kutte ut 1899.\n",
    "plt.plot(tid[1:],spring, label=string[1])\n",
    "plt.plot(tid[1:],summer, label=string[2])\n",
    "plt.plot(tid[1:],fall, label=string[3])\n",
    "plt.legend(loc='upper left')\n",
    "plt.xlim(1900,2020)\n",
    "plt.xlabel('Tid')\n",
    "plt.ylabel('Nedbør [mm]')\n",
    "plt.title('Nedbør over Vestlandet (1900-2020)')\n",
    "plt.grid(True)"
   ]
  },
  {
   "cell_type": "markdown",
   "metadata": {},
   "source": [
    "Vi ser til slutt på standardavvik for hvert tiår, for hver årstid."
   ]
  },
  {
   "cell_type": "code",
   "execution_count": null,
   "metadata": {},
   "outputs": [],
   "source": [
    "seasons = np.empty(shape=(121,4)) # En tom tabell som vi fyller verdiene fra sesongene inn i\n",
    "seasons[:,0]=winter # Kolonne 0: vinter-veridiene\n",
    "seasons[:,1]=spring # Kolonne 1: vår-veridiene\n",
    "seasons[:,2]=summer\n",
    "seasons[:,3]=fall\n",
    "\n",
    "# En tom tabell med 12 rader: årene, og 4 kolonner: årstidene. Her fyller vi seinere inn verdier for standardavvik\n",
    "y = np.empty(shape=(12,4))\n",
    "\n",
    "\n",
    "id=np.linspace(0,len(tid)-1,13) # Dette er den samme listen som vi lagde tidligeresom vi brukte for å dele årene inn i tiår.\n",
    "t=np.linspace(1905,2015,12)     # Midtpunktet av hvert tiår (Også lik en liste vi lagde over)"
   ]
  },
  {
   "cell_type": "markdown",
   "metadata": {},
   "source": [
    "Under har vi en dobbel for-løkke. Husk at vi rett over definerte \"y\" der radene er tiårs-bolker, og kolonnene er årstidene. Når vi under skriver \"`for j in range(4)`\" refererer dette til de fire kolonnene/årstidne. \"`for i in range(12)`\" refererer til de 12 tiårs-bolkene.\n",
    "\n",
    "Den eneste forskjellen her fra det vi har gjort tidligere er at vi først tar stilling til vinter (`seasons[j=0]`), så vår (`seasons[j=1]`), så sommer (`seasons[j=2]`) og til slutt høst (`seasons[j=3]`).\n",
    "Mellomstegsvariablen \"a\" lager vi for å være ryddig og lage litt bedre oversikt over hva for-løkkene beregner hvor.\n",
    "\n",
    "Resultatet lagres i tabellen \"y\" som vi lagde rett over. "
   ]
  },
  {
   "cell_type": "code",
   "execution_count": null,
   "metadata": {},
   "outputs": [],
   "source": [
    "for j in range(4): # Vi itererer gjennom de fire årstidene\n",
    "    a=seasons[:,j] # Runde 1 (j=0) setter vi a=vinter, runde 2: a=vår osv. \n",
    "    for i in range(12):\n",
    "        y[i,j]=np.round(np.nanstd(a[int(id[i]):int(id[i+1])])) \n"
   ]
  },
  {
   "cell_type": "code",
   "execution_count": null,
   "metadata": {},
   "outputs": [],
   "source": [
    "string=('Vinter','Vår','Sommer','Høst')\n",
    "\n",
    "# Så plotter vi resultatet: standardavvik for hver årstid (først vinter, så vår osv.) over tid. \n",
    "for j in range(4):\n",
    "    plt.plot(t,y[:,j],label=string[j])\n",
    "    \n",
    "plt.legend(loc='upper left')\n",
    "plt.xlim(1900,2020)\n",
    "plt.xlabel('Tid')\n",
    "plt.ylabel('Std')\n",
    "plt.title('Std av nedbør over Vestlandet per årstid (1900-2020)')\n",
    "plt.grid(True)"
   ]
  },
  {
   "cell_type": "markdown",
   "metadata": {},
   "source": [
    "# Start: Oppgave 1\n",
    "\n",
    "Denne oppgaven er basert på eksempelet over: Alle problemer som har med programmering å gjøre skal det finnes svar på over. Husk også at det ikke er meningen at du skal huske alle kommandoer og detaljer i hoder. Alle som jobber med programmering bruker konstant gamle koder de har skrevet som \"oppslagsverk\" og googler konstant. Når du googler kan du ofte være veldig spesifikk, det er stort sett noen som har lurt på nøyaktig det du lurer på før, og Q&A-forum er ofte veldig gode. Hvis det er en spesifikk funksjon du trenger å vite hvordan fungerer (f.eks np.round, np.std eller np.concatenate) så er det nyttig å slenge på kodeordet \"documentation\" så kommer du til selve beskrivelsen av siden og styrer unna Q&A-forum. Her er f.eks. siden til np.concatenate: https://numpy.org/doc/stable/reference/generated/numpy.concatenate.html. Disse sidene har også ofte enkle og greie eksempler. \n",
    "\n",
    "Ellers, husk at `x.shape` og `print(x)` er veldig nyttige, for å få oversikt over hva slags data det egentlig er du jobber med, og hvordan en tabell eller liste endrer seg som følge av en funksjon. \n"
   ]
  },
  {
   "cell_type": "markdown",
   "metadata": {},
   "source": [
    "### Del 1: gjør klar datasettet\n",
    "a) Last inn datasettet `PrecipNorgeMonthly.txt` med np.genfromtxt."
   ]
  },
  {
   "cell_type": "code",
   "execution_count": null,
   "metadata": {},
   "outputs": [],
   "source": []
  },
  {
   "cell_type": "markdown",
   "metadata": {},
   "source": [
    "b) Sett verdier som er -999.99 til NaN."
   ]
  },
  {
   "cell_type": "code",
   "execution_count": null,
   "metadata": {},
   "outputs": [],
   "source": []
  },
  {
   "cell_type": "markdown",
   "metadata": {},
   "source": [
    "c) Sjekk hvor i datasettet du nå har NaN-verdier slik at du seinere vet når du må ta stilling til NaN."
   ]
  },
  {
   "cell_type": "code",
   "execution_count": null,
   "metadata": {},
   "outputs": [],
   "source": []
  },
  {
   "cell_type": "markdown",
   "metadata": {},
   "source": [
    "d) Lag to variabler: en for tid, og en for gjennomsnittlig månedsnedbør per år."
   ]
  },
  {
   "cell_type": "code",
   "execution_count": null,
   "metadata": {},
   "outputs": [],
   "source": []
  },
  {
   "cell_type": "markdown",
   "metadata": {},
   "source": [
    "### Del 2: undersøk gjennomsnittsveridier og trendlinjer\n",
    "I denne oppgaven ser vi ikke på hvordan man lager en regresjonslinje til datapunkt (dette kan du jobbe med i f.eks oppgave...), men vi diskuterer resultatene vi får når vi bruker NumPy til å lage regresjonslinjene for oss. Vi bruker np.polyfit for å finne koeffisientene \"m\" og \"b\" som vi trenger for å lage trendlinjen. I denne oppgaven trenger du ikke tenke over nøyaktig hvordan funksjonen np.polyfit fungerer. Det som er viktig i denne omgang er hva \"m\" og \"b\" beskriver, og tolkningen av hva denne og andre trendlinjer beskriver. Husk ligningen for å beskrive en linje: `y=ax+b`.\n",
    "\n",
    "a) Lag en figur som viser gjennomsnittlig månedsnedbør som en funksjon av tid. Husk å gjøre figuren oversiktlig med tittel, tekst på aksene osv. En person som ikke har lest oppgaveteksten skal kunne se på figuren og skjønne hva den beskriver. "
   ]
  },
  {
   "cell_type": "code",
   "execution_count": null,
   "metadata": {},
   "outputs": [],
   "source": []
  },
  {
   "cell_type": "markdown",
   "metadata": {},
   "source": [
    "b) Lag samme figure på nytt, men inkluder en første ordens trendlinje. Husk \"legend\".\n",
    "\n",
    "Hvordan vil du si at nedbør har endret seg siden 1900?"
   ]
  },
  {
   "cell_type": "code",
   "execution_count": null,
   "metadata": {},
   "outputs": [],
   "source": []
  },
  {
   "cell_type": "markdown",
   "metadata": {},
   "source": [
    "c) Lag igjen samme figur, men inkluder to trendlinjer: en for 1900-1960 og en for 1960-2020. Her er det nyttig å bruke en for-løkke (slik vi gjorde i eksempelet), men du kan også gjøre dette uten en slik for-løkke. Lag gjerne figuren både med og uten en for-løkke. \n",
    "\n",
    "Hvordan tolker du denne figuren i forhold til den forrige med tanke på endring i nedbørsmengde?"
   ]
  },
  {
   "cell_type": "code",
   "execution_count": null,
   "metadata": {},
   "outputs": [],
   "source": []
  },
  {
   "cell_type": "markdown",
   "metadata": {},
   "source": [
    "d) Lag samme figur, men med fire trendlinjer. Gjør det slik at du lagrer koeffisientene til trendlinjene for seinere bruk. \n",
    "\n",
    "Hvilket inntrykk gir trendlinjene nå? Blir det mer eller mindre regn? Kommenter svaret du ga på oppgave 2b."
   ]
  },
  {
   "cell_type": "code",
   "execution_count": null,
   "metadata": {},
   "outputs": [],
   "source": []
  },
  {
   "cell_type": "markdown",
   "metadata": {},
   "source": [
    "e) Plot stigningstallet til de fire trendlinjene som punkter. Velg andre farger og symboler for markørene enn det som er brukt i eksempelet. \n",
    "\n",
    "Hvilken tidsperiode har bidratt mest til nedbørsøkningen? Husk at mengde nedbør og nedbørsØKNING ikke er det samme."
   ]
  },
  {
   "cell_type": "code",
   "execution_count": null,
   "metadata": {},
   "outputs": [],
   "source": []
  },
  {
   "cell_type": "markdown",
   "metadata": {},
   "source": [
    "En ekstra utfordring: beregn stigningstallet til trendlinjene for hver måned hver for seg. \n",
    "- Bidrar månedene ulikt til nedbørsøkningen? \n",
    "- Har noen måned negativt bidrag? "
   ]
  },
  {
   "cell_type": "code",
   "execution_count": null,
   "metadata": {},
   "outputs": [],
   "source": []
  },
  {
   "cell_type": "markdown",
   "metadata": {},
   "source": [
    "### Del 3: standardavvik\n",
    "Standardavvik (std) sier noe om hvor mye verdiene til en parameter varierer i forhold til gjennomsnittet. Dette kan være variasjon over et geografisk område, variasjon over høyde eller dyp, eller variasjon med tid. Vi skal bruke std til å se på variasjon i nedbør over tid\n",
    "\n",
    "Noter deg deg den matematiske definisjonen på standardavvik, men kom også opp med et praktisk eksempel på når det kan være nyttig å se på standardavviket til en parameter. Tenk f.eks. på hva den fysiske betydningen av en situasjon der gjennomsnittet ikke endrer seg, men std øker.\n",
    "\n",
    "a) Finn gjennomsnitt og standardsvvik (std) for 1900-1960 og for 1960-2020. Gjør det gjerne i en for-løkke, og pass på at du lagrer resultatene (altså de 4 tallene) for seinere bruk. \n",
    "\n",
    "Studer resultatet: Hvilken fysisk betydning har endringen i std? Med andre ord, hva betyr det at standardavviket har økt/minket?"
   ]
  },
  {
   "cell_type": "code",
   "execution_count": null,
   "metadata": {},
   "outputs": [],
   "source": []
  },
  {
   "cell_type": "markdown",
   "metadata": {},
   "source": [
    "b) Plot gjennomsnitt pluss/minus std for de to tidsperiodene. Gjør det både uten, og ved hjelp av en for-løkke. "
   ]
  },
  {
   "cell_type": "code",
   "execution_count": null,
   "metadata": {},
   "outputs": [],
   "source": []
  },
  {
   "cell_type": "markdown",
   "metadata": {},
   "source": [
    "Nå representerer hver stjerne 60 år med nedbørsdata. Tatt i betraktning den tydelige forskjellen i trendlinjene til disse to periodene er 60 år ganske lenge. Se derfor på hver tiende år av gangen istedet.\n",
    "\n",
    "c) Plot samme figur, men del inn i tiår istedet for to tidsperiode. Dette blir 12 perioder, så her bør du absolutt bruke en for-løkke."
   ]
  },
  {
   "cell_type": "code",
   "execution_count": null,
   "metadata": {},
   "outputs": [],
   "source": []
  },
  {
   "cell_type": "markdown",
   "metadata": {},
   "source": [
    "En slik fremstilling er veldig nyttig når man vil se på endring i nedbørsmengde, men det kan være vanskelig å se hvordan std aleine utvikler seg når det er fremstilt sammen med gjennomsnitt slik som dette. \n",
    "\n",
    "d) Plot tidsserien av std aleine (uten gjennomsnitt). "
   ]
  },
  {
   "cell_type": "code",
   "execution_count": null,
   "metadata": {},
   "outputs": [],
   "source": []
  },
  {
   "cell_type": "markdown",
   "metadata": {},
   "source": [
    "Hva forteller dette deg:\n",
    "\n",
    "- Vil du si at det har skjedd en endring siden 1900, er det en trend i standardavvik?\n",
    "- Gi en fysisk forklaring på det denne figuren beskriver.\n",
    "- Tenk på hva ekstremvær egentlig er. Hva forteller figuren over noe om fremtidsutsiktene våre til ekstremnedbør i Norge?\n",
    "- Se på denne og forrige figur samtidig. Blir det mye stabilt vær, blir det våtere, tørrere?"
   ]
  },
  {
   "cell_type": "markdown",
   "metadata": {},
   "source": [
    "### Del 4: Får vi snø til jul og varme somre fremover?\n",
    "For å vurdere dette ser vi på endring i standardavvik for hver årstid hver for seg istedet for endringen basert på hele år.. \n",
    "\n",
    "a) Lag en steg-for-steg liste for hvordan du skal gå frem for å gjøre dette. Det er mye lettere å bygge opp en bit med kode når man først har laget en plan for hva man vil at koden skal gjøre, hvilke steg man vil gjøre, og i hvilken rekkefølge man vil gjøre dem. Denne listen trenger imidlertid ikke å være veldig detaljert: mange småpromlemer oppdager man først etter at man har satt igang. Det er helt ok, slike problemer løses underveis, men er overordnet plan er alltid lurt å ha i bakhodet."
   ]
  },
  {
   "cell_type": "code",
   "execution_count": null,
   "metadata": {},
   "outputs": [],
   "source": []
  },
  {
   "cell_type": "markdown",
   "metadata": {},
   "source": [
    "b) Lag fire nye variabler basert på det opprinnelige datasettet: en for gjennomsnitt over vimtermånedene, en for vår, en for sommer og en for høst. Husk at vinter-variabelen ikke er helt rett frem siden januar og februar og desember fra samme år ikke hører til samme vinter. "
   ]
  },
  {
   "cell_type": "code",
   "execution_count": null,
   "metadata": {},
   "outputs": [],
   "source": []
  },
  {
   "cell_type": "markdown",
   "metadata": {},
   "source": [
    "c) Lag en figur som viser nedbør for hver årstid som en funksjon av tid. "
   ]
  },
  {
   "cell_type": "code",
   "execution_count": null,
   "metadata": {},
   "outputs": [],
   "source": []
  },
  {
   "cell_type": "markdown",
   "metadata": {},
   "source": [
    "d) Beregn standardavvik for hvert tiår for hver årstid hver for seg. "
   ]
  },
  {
   "cell_type": "code",
   "execution_count": null,
   "metadata": {},
   "outputs": [],
   "source": []
  },
  {
   "cell_type": "markdown",
   "metadata": {},
   "source": [
    "e) Plot nå endring i std over tid for hver årstid slik at man kan sammenligne endringen i årstidene mot hverandre"
   ]
  },
  {
   "cell_type": "code",
   "execution_count": null,
   "metadata": {},
   "outputs": [],
   "source": []
  },
  {
   "cell_type": "markdown",
   "metadata": {},
   "source": [
    "Studer disse to siste figurene, og ta utgangspunkt i hva du vet om ekstremnedbør og tørke: \n",
    "- Hvordan tror du været var rundt 1960? \n",
    "- Hvordan tror du det var i 1980? Og hva med i 2050? \n",
    "- I eksempelet så vi på data fra Østlandet. Si noe om forskjellen mellom endringen som har skjedd på østlandet i forhold til Norge som helhet. \n",
    "\n",
    "Bruk figuren over, og de andre figurene i denne oppgaven til å fortelle om du tror vi får mer ekstremnedbør i 2050. Om du synes du ikke har tilstrekkelig med informasjon for å uttale deg: Hva gjør at du er usikker? Hvilken informasjon savner du for å gjøre deg opp en mening?\n",
    "\n",
    "_______________________________________"
   ]
  },
  {
   "cell_type": "markdown",
   "metadata": {},
   "source": [
    "Som nevnt innledningsvis kan det også være praktisk å se på en og en måned av gangen. Fra analysen over ser vi at nedbør over Norge har økt. Men bidrar hver måned like mye til denne økningen? Kanskje har det tvert imot blitt mindre nedbør i enkelte måneder? Dette vil vi sjekke. "
   ]
  },
  {
   "cell_type": "code",
   "execution_count": null,
   "metadata": {},
   "outputs": [],
   "source": [
    "string=('jan','feb','mar','apr','may','jun','jul','aug','sept','oct','nov','dec')\n",
    "for i in range(1,13):\n",
    "    idx = np.isfinite(precip[:,i])\n",
    "    \n",
    "    m, b = np.polyfit(time[idx], precip[idx,i], 1)\n",
    "    plt.plot(time[idx], m*time[idx] + b, label=string[i-1])\n",
    "    plt.legend(loc='lower right')\n",
    "plt.xlim(time[0],time[len(time)-1])\n",
    "plt.xlabel('Tid')\n",
    "plt.ylabel('Nedbør [mm]')\n",
    "plt.title('Trend i nedbør over Norge (1900-2020)')\n",
    "plt.grid(True)"
   ]
  },
  {
   "cell_type": "markdown",
   "metadata": {},
   "source": [
    "Hva vil du si, bidrar noen måneder mer til nedbørøkningen enn andre? Husk at mengde nedbør og nedbørsØKNING ikke er det samme. \n",
    "En graf som dette kan fort bli kaotisk å se på. En enkelt parameter kan være enklere å tolke. I dette tilfelle er stigningstallet en slik hjelpsom parameter. Ved å regne ut stigningstallet til hver av disse trendlinjene blir det letter å sammenligne bidraget fra hver enkelt måned til nedbørsøkningen. \n",
    "I en annengradsligning er y=ax+b. Fra utregningen over, identifiser stigningstallet \"a\"."
   ]
  },
  {
   "cell_type": "markdown",
   "metadata": {},
   "source": [
    "- Hva sier disse stigningstallene deg om de forskjellige månedene sitt bidrag til nedbørsøkningen?\n",
    "- Hvilken måned og hvilken tidsperiode har bidratt mest til nedbørsøkingnen?"
   ]
  },
  {
   "cell_type": "code",
   "execution_count": null,
   "metadata": {},
   "outputs": [],
   "source": []
  }
 ],
 "metadata": {
  "kernelspec": {
   "display_name": "Python 3",
   "language": "python",
   "name": "python3"
  },
  "language_info": {
   "codemirror_mode": {
    "name": "ipython",
    "version": 3
   },
   "file_extension": ".py",
   "mimetype": "text/x-python",
   "name": "python",
   "nbconvert_exporter": "python",
   "pygments_lexer": "ipython3",
   "version": "3.8.5"
  }
 },
 "nbformat": 4,
 "nbformat_minor": 4
}

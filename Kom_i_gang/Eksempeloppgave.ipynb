{
 "cells": [
  {
   "cell_type": "markdown",
   "metadata": {
    "id": "WBgkPQFiSN9r"
   },
   "source": [
    "**Programmeringsoppgaver i Ekte Data**\n",
    "\n",
    "Først må vi laste inn *numpy* og *matplotlib.pyplot*"
   ]
  },
  {
   "cell_type": "code",
   "execution_count": 1,
   "metadata": {
    "id": "NH-FiuJMRutp"
   },
   "outputs": [],
   "source": [
    "import numpy as np # for matematikk\n",
    "import matplotlib.pyplot as plt # for figurer\n",
    "\n",
    "import sys\n",
    "# !!! VIKTIG !!! \n",
    "# Bytt ut stien under (C:\\Users\\iren_\\Documents\\EkteData\\Funksjoner)\n",
    "# slik at den peker på hvor på din PC du har lagret mappen \"Funksjoner\".\n",
    "sys.path.append(r\"C:\\Users\\iren_\\Documents\\EkteData\\Funksjoner\")\n",
    "from EkteDataFunk import loadData # for filinnlasting\n"
   ]
  },
  {
   "cell_type": "markdown",
   "metadata": {
    "id": "Oj8dH_lHSLN8"
   },
   "source": [
    "Så må vi laste inn et datasett. Flere datasett som er enkle å bruke og som brukes i andre av Ekte Data programmeringsoppgaver finnes på samme link. "
   ]
  },
  {
   "cell_type": "code",
   "execution_count": null,
   "metadata": {
    "id": "fIs2ORE9R0Jf"
   },
   "outputs": [],
   "source": [
    "    \n",
    "file='PrecipVestlandMonthly.txt'\n",
    "data = loadData(file, rydd='N')\n",
    "print(data.shape)  # Dette gir dimensjonene til datasettet. Man må skrive \n",
    "                   # \"print()\" rundt fordi bare den siste linjen i en celle \n",
    "                   # printes ut automatisk\n",
    "data   # Dette printer ut alle verdiene i \"data\"\n"
   ]
  },
  {
   "cell_type": "markdown",
   "metadata": {
    "id": "L5WeVm-VSymZ"
   },
   "source": [
    "Sorter datasettet i en tidsvektor og en data-vektor, og ta stilling til fyll-verdier."
   ]
  },
  {
   "cell_type": "code",
   "execution_count": null,
   "metadata": {
    "id": "s5mGg8rLR3rM"
   },
   "outputs": [],
   "source": [
    "data[data==-999.99]=np.nan \n",
    "\n",
    "# Hele datasettet utenom den første kolonnen som er årene\n",
    "nedbør=data[:,1:] \n",
    "\n",
    "# Gjennomsnittlig månedsnedbør per år. axis=1 beskriver at vi vil ta \n",
    "# gjennomsnittet av alle kolonnene slik at det blir en verdi per år. axis=0 \n",
    "# ville gitt gjenomsnitt over radene.\n",
    "nedbør=np.nanmean(nedbør, axis=1) \n",
    "\n",
    "# Den første kolonnen\n",
    "tid=data[:,0]                     "
   ]
  },
  {
   "cell_type": "markdown",
   "metadata": {
    "id": "Jkwk9KuqTGOp"
   },
   "source": [
    "Lag en figur!"
   ]
  },
  {
   "cell_type": "code",
   "execution_count": null,
   "metadata": {
    "colab": {
     "base_uri": "https://localhost:8080/",
     "height": 296
    },
    "id": "9sjFWk0ATCji",
    "outputId": "9e99f223-a236-4e3c-b534-7783fcb293fc"
   },
   "outputs": [],
   "source": [
    "plt.plot(tid,nedbør) # plot nedbør som en funksjon av tid\n",
    "plt.xlim(1899,2020)  # definer min/max til x-aksen for å unngå tomrom på sidene\n",
    "plt.xlabel('Tid')                   # navn på x-aksen\n",
    "plt.ylabel('Nedbør [mm]')           # navn på y-aksen\n",
    "plt.title('Gjennomsnittlig månedsnedbør (Vestlandet: 1900-2020)') # Tittel\n",
    "plt.grid(True) # Vis rutenett. Om du ikke vil ha det, skriv plt.grid(False)."
   ]
  },
  {
   "cell_type": "code",
   "execution_count": null,
   "metadata": {
    "id": "QlZUbx4DTIAy"
   },
   "outputs": [],
   "source": []
  },
  {
   "cell_type": "code",
   "execution_count": null,
   "metadata": {},
   "outputs": [],
   "source": []
  }
 ],
 "metadata": {
  "colab": {
   "collapsed_sections": [],
   "name": "Eksempeloppgave.ipynb",
   "provenance": []
  },
  "kernelspec": {
   "display_name": "Python 3",
   "language": "python",
   "name": "python3"
  },
  "language_info": {
   "codemirror_mode": {
    "name": "ipython",
    "version": 3
   },
   "file_extension": ".py",
   "mimetype": "text/x-python",
   "name": "python",
   "nbconvert_exporter": "python",
   "pygments_lexer": "ipython3",
   "version": "3.7.4"
  }
 },
 "nbformat": 4,
 "nbformat_minor": 1
}

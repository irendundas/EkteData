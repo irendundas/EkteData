{
 "cells": [
  {
   "cell_type": "markdown",
   "metadata": {},
   "source": [
    "#### Dette er en samling med nyttige huskeregler for Python"
   ]
  },
  {
   "cell_type": "markdown",
   "metadata": {},
   "source": [
    "#### Generelle regler\n",
    "\n",
    "- Bruk `Shift+Enter` for å kjøre en celle og gå ned til neste celle, og \n",
    "- `Ctrl+Enter` for å kjøre cellen og bli i samme celle. \n",
    "- Tekstblokkene er også celler som kan kjøres med disse kommandoene, men det eneste som skjer er at teksten formatteres. \n",
    "- Husk å kjøre cellene i kronologisk rekkefølge.\n",
    "\n",
    "- For å lage nye celler for å lage en variabel eller gjøre en beregning kan du enten trykke på `+`-tegnet oppe til venstre, eller du kan trykke `Esc+b` for en ny celle under den du er i, eller `Esc+a` for en ny celle over den du står i."
   ]
  },
  {
   "cell_type": "markdown",
   "metadata": {},
   "source": [
    "#### Indeksering\n",
    "- Man bruker klammeparanteser `[]` rundt indekser. \n",
    "- Første indeks er alltid 0. Har du f.eks. listen `x=[5, 12, 4, 7, 3, 0]` vil `x[0]=5`. \n",
    "- Hvis du kun vil bruke de tre første elementene i x, så skriver du `x[:3]`. \n",
    "- Hvis du kun vil bruke de to siste elementene i x, så skriver du `x[4:]`. \n",
    "- Den siste indeksen du oppgir blir ikke med i resultatet: skriver du `x[2:5]` velger du ut element 2 til MEN IKKE MED element 5. `x[2:5]=4, 7, 3`.\n",
    "- Man kan telle baklengs fra slutten av et array: Det siste elementet har indeks `-1`. Det nest siste har indeks `-2`. "
   ]
  },
  {
   "cell_type": "code",
   "execution_count": null,
   "metadata": {},
   "outputs": [],
   "source": []
  }
 ],
 "metadata": {
  "kernelspec": {
   "display_name": "Python 3",
   "language": "python",
   "name": "python3"
  },
  "language_info": {
   "codemirror_mode": {
    "name": "ipython",
    "version": 3
   },
   "file_extension": ".py",
   "mimetype": "text/x-python",
   "name": "python",
   "nbconvert_exporter": "python",
   "pygments_lexer": "ipython3",
   "version": "3.8.5"
  }
 },
 "nbformat": 4,
 "nbformat_minor": 4
}

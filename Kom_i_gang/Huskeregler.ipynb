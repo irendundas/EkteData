{
 "cells": [
  {
   "cell_type": "markdown",
   "metadata": {},
   "source": [
    "## Dette er en samling med nyttige huskeregler for Python\n",
    "\n",
    "______________\n",
    "\n",
    "**Huskeregel nr 1:** Det er ikke meningen at du skal måtte huske hvordan alle funksjoner fungerer!! \n",
    "\n",
    "**Huskeregel nr 2:** Det er *nesten* alltid noen som har lurt på det du lurer på allerede. \n",
    "\n",
    "______________"
   ]
  },
  {
   "cell_type": "markdown",
   "metadata": {},
   "source": [
    "#### Generelle regler\n",
    "\n",
    "- Bruk `Shift+Enter` for å kjøre en celle og gå ned til neste celle, og \n",
    "- `Ctrl+Enter` for å kjøre cellen og bli i samme celle. \n",
    "- alt med `#` foran blir ignorert i koden\n",
    "- Tekstblokkene er også celler som kan kjøres med disse kommandoene, men det eneste som skjer er at teksten formatteres. \n",
    "- Husk å kjøre cellene i kronologisk rekkefølge.\n",
    "\n",
    "- For å lage nye celler for å lage en variabel eller gjøre en beregning kan du enten trykke på `+`-tegnet oppe til venstre, eller du kan trykke `Esc+b` for en ny celle under den du er i, eller `Esc+a` for en ny celle over den du står i.\n",
    "- For å lage en kodecelle om til en tekstboks som dette trykker du `Esc+m`. m står for \"markdown\" som betyr tekstcelle.\n",
    "\n",
    "\n",
    "- `string` er navnet på tekst\n",
    "- `float` og `integer` er navnet på desimaltall og heltall. \n",
    "- Integer = heltall\n",
    "- Float = desimaltall"
   ]
  },
  {
   "cell_type": "markdown",
   "metadata": {},
   "source": [
    "**Variabler**\n",
    "- For å lage en variabel `x` skriver du f.eks. `x=4`. Hvis du vil se innholdet i `x` kan du skrive `x` på bunnen i en celle du kjører, eller `print(x)` hvor som helst i cellen. Hvis du kun skriver `x=4` og kjører cellen er variabelen laget selv om du ikke ser et output. \n"
   ]
  },
  {
   "cell_type": "markdown",
   "metadata": {},
   "source": [
    "#### Hva er en \"sti\"?\n",
    "- \"Stien\" til en fil eller en mappe beskriver hvor på PCen din du finner filen eller mappen. \n",
    "- Har du for eksempel en mappe \"Documents\" på C-disken som inneholder en annen mappe \"Oppgaver\" som inneholder en fil \"nedbør_data.txt\" vil stien til filen \"nedbør_data.txt\" være \"C:/Documents/Oppgaver/nedbør_data.txt\"\n",
    "- Denne stien vil vi trenger hvis vi skal laste datasettet \"nedbør_data\" inn i Python for å jobbe med dataene. \n",
    "- Siden vi trenger stien til filer (og i blant funksjoner) for å laste dem inn, trenger vi også å vite hvor på PCen vi har lagt filene våre. \n",
    "- I Windows står alltid stien til mappen man er i helt øverst i filutforskeren."
   ]
  },
  {
   "cell_type": "markdown",
   "metadata": {},
   "source": [
    "#### Indeksering\n",
    "- Man bruker klammeparanteser `[]` rundt indekser. \n",
    "- Første indeks er alltid 0. Har du f.eks. listen `x=[5, 12, 4, 7, 3, 0]` vil `x[0]=5`. \n",
    "- Hvis du kun vil bruke de tre første elementene i x, så skriver du `x[:3]`. \n",
    "- Hvis du kun vil bruke de to siste elementene i x, så skriver du `x[4:]`. \n",
    "- Den siste indeksen du oppgir blir ikke med i resultatet: skriver du `x[2:5]` velger du ut element 2 til MEN IKKE MED element 5. `x[2:5]=4, 7, 3`.\n",
    "- Man kan telle baklengs fra slutten av et array: Det siste elementet har indeks `-1`. Det nest siste har indeks `-2`. \n",
    "- Indekser MÅ være integers - altså det kan ikke være noen desimaler, og det holder ikke at desimalen er 0. \n",
    "\n",
    "- `[start:stop:step]`: Man kan velge ut verdier fra et array med et fast intervall. Vil du ha annenhver verdi fra `x` skriver du `x[::2]`. Dette betyr *fra start til slutt, hver andre verdi*. De to kolonene på rad ser litt rart ut, men dette er for å spesifisere at både start og slutt skal med. \n",
    "\n",
    "#### 2D-indeksering\n",
    "- I en matrise med to dimensjoner er den første indeksen alltid **r**adene, mens den andre indeksen er **k**olonnene. Tenk f.eks. \"**R**ace **C**ar\", altså \"**R**ow **C**olumn\"\n",
    "- Skal man ha alle indekser i en rad eller kolonne bruker man kolon.\n",
    "- Hvis man har en matrise og skal ha tak i rad `a` til men ikke med `b`, og alle kolonnene skriver man  `[a:b,:]`. Rader og kolonner skilles med komma. \n",
    "- Vil man ha alle elementer fra start frem til (og ikke med) en indeks skriver man `[:a]`. Vil man ha fra (og med) en indeks til slutten skriver man `[a:]`. \n"
   ]
  },
  {
   "cell_type": "markdown",
   "metadata": {},
   "source": [
    "#### Dokumentasjon\n",
    "\n",
    "- Hvis du lurer på hvordan du bruker en funksjon, eller om det finnes en funksjon for noe du vil gjøre, eller hvilke input du kan gi en spesifikk funksjon - bruk Google. \n",
    "- Inkluder alltid \"python\" eller navnet på biblioteket du vil bruke (hvis du vet hvilket bibliotek du vil bruke) som ett av søkeordene.  \n",
    "- Trenger du f.eks. å plotte en vertikal linje? Google \"plot vertical line Matplotlib\". \n",
    "- Lurer du på hvordan du kan endre markøren til datapunkt i et plot? Google \"change marker matplotlib\".\n",
    "- Hvordan man beregner forskjellen fra verdi til verdi i en vektor? Google \"difference between values in array numpy\".\n",
    "\n",
    "- Sider som stort sett har nyttig informasjon er dokumentasjonssidene til Numpy og Matplotlib, og Stackoverflow. Stackoverflow er et forum der folk stiller spørsmål og får svar. Scroll litt gjennom svarene, det er ikke alltid det enkleste svaret er på topp. "
   ]
  },
  {
   "cell_type": "markdown",
   "metadata": {},
   "source": [
    "**pd.read_csv()**\n",
    "\n",
    "Se dokumentasjonen til funskjonen pd.read_csv [her](https://pandas.pydata.org/docs/reference/api/pandas.read_csv.html). Under er noen spesifiseringer vi kommer innom i oppgavene. \n",
    "\n",
    "- `sep=';'` beskriver hva som deler kolonnene i filen. Hvis du åpner filen i f.eks. notepad ser du at dette er semikolon i vårt tilfelle, men det er ofte tab, komma (default), eller kolon. \n",
    "- `decimal=','` må være med fordi verdiene i denne csv-filen er lagret med komma som desimaltegn istedet for punktum. For at verdien skal tolkes som ett tall og ikke to må vi fortelle funksjonen pd.read_csv at den skal tolke komme som desimaltegn. \n",
    "- `parse_dates=['Tid(norsk normaltid)']` konverterer innholdet i denne kolonnen til dato-format.\n",
    "- `dayfirst=True` sørger for at datoen tolkes riktig. Uten denne tolkes det første tallet i datoen som måned som er default.\n",
    "\n",
    "\n",
    "- `na_values='-'`: Hvis du åpner dette datasettet i notepad ser du at dette datasettet setter manglende verdier av moddeltemperatur til `-`. Når man definerer `na_values='-'` forteller man koden at `'-'` betyr at en verdi mangler. Koden setter da alle instanser av `'-'` til `NaN` som står for Not a Number.\n",
    "- Med `index_col` bestemmer du hvilken kolonne du vil bruke som index. \n",
    "- `engine=python`: I datasettet NAT624-studentene samler inn selv er grader Celcius angitt med grad-tegn (special character). Denne detaljen gjør at man må spesifisere \"engine\"."
   ]
  },
  {
   "cell_type": "code",
   "execution_count": null,
   "metadata": {},
   "outputs": [],
   "source": []
  }
 ],
 "metadata": {
  "kernelspec": {
   "display_name": "Python 3",
   "language": "python",
   "name": "python3"
  },
  "language_info": {
   "codemirror_mode": {
    "name": "ipython",
    "version": 3
   },
   "file_extension": ".py",
   "mimetype": "text/x-python",
   "name": "python",
   "nbconvert_exporter": "python",
   "pygments_lexer": "ipython3",
   "version": "3.8.5"
  }
 },
 "nbformat": 4,
 "nbformat_minor": 4
}

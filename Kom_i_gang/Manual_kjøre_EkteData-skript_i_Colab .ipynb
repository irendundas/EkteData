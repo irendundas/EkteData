{
 "cells": [
  {
   "cell_type": "markdown",
   "metadata": {},
   "source": [
    "## Manual for å kjøre EkteData-skript med Google Colab \n",
    "___________________________________________________ \n",
    "\n",
    "1. Gå inn på den oppgaven du vil gjøre på denne [siden](https://ektedata.uib.no/oppgaver/?_sft_oppgavetype=programmering). Skroll helt ned og trykk på “open med Google Colab”. \n",
    "\n",
    "2. Trykk `ctrl+s` for å lagre. I boksen “Cannot save changes” trykk “Save a copy in Drive”. \n",
    "\n",
    "3. Trykk på all teksten øverst I oppgaven, og så `+ Code` øverst til venstre. Da kommer det opp et tomt felt (celle) under teksten. Her limer du inn:  \n",
    "`!git clone https://github.com/irendundas/EkteData.git` \n",
    "Trykk `shift+enter` \n",
    "\n",
    "4. Trykk `ctrl+s` og refresh siden.  \n",
    "\n",
    "5. I cellen under erstatt linjen  \n",
    "`from EkteDataFunk import loadData # for filinnlasting`\n",
    "med  \n",
    "`from EkteData.EkteDataFunk import loadData # for filinnlasting`\n",
    "\n",
    "Nå skal alt være klart for å kjøre resten av skriptet. "
   ]
  },
  {
   "cell_type": "code",
   "execution_count": null,
   "metadata": {},
   "outputs": [],
   "source": []
  }
 ],
 "metadata": {
  "kernelspec": {
   "display_name": "Python 3",
   "language": "python",
   "name": "python3"
  },
  "language_info": {
   "codemirror_mode": {
    "name": "ipython",
    "version": 3
   },
   "file_extension": ".py",
   "mimetype": "text/x-python",
   "name": "python",
   "nbconvert_exporter": "python",
   "pygments_lexer": "ipython3",
   "version": "3.8.5"
  }
 },
 "nbformat": 4,
 "nbformat_minor": 4
}

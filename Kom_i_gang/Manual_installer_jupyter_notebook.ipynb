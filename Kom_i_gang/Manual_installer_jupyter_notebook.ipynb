{
 "cells": [
  {
   "cell_type": "markdown",
   "metadata": {},
   "source": [
    "### Dette er en oppskrift på å sette opp jupyter notebook for bruk med Ekte Data sine programmeringsoppgaver.\n",
    "\n",
    "#### 1) Få tak i filene \n",
    "- Lag en mappe lokalt som heter f.eks. EkteData_Prog \n",
    "- Følg [denne lenken](https://github.com/irendundas/EkteData), trykk den grønne \"Code\" knappen og Download ZIP \n",
    "- Pakk ut mappen du nettopp lastet ned (EkteData-main) i EkteData_Prog-mappen. (Høyreklikk på EkteData-main mappen, velg \"Extract all\", klikk \"Browse\" i det nye vinduet som åpnes, og velg \"EkteData_Prog\" mappen som destinasjon). \n",
    "- Lag en ny mappe under EkteData_Prog som heter f.eks. NAT624. Her kan du ha alt ditt eget arbeid. La innholdet i EkteData-main være som det er - bruk filene kun som referanse. Denne mappen oppdaterer jeg jevnlig, så for at du skal unngå å miste arbeid/få rot i systemet er det best la denne være. Kopier filene du ønsker å endre/jobbe med til NAT624-mappen din. \n",
    "\n",
    "#### 2) Sett opp Jupyter Notebook \n",
    "- Følg [denne lenken](https://www.anaconda.com/products/individual#Downloads) og velg 64-Bit Graphical Installer \n",
    "- Følg [disse](https://docs.anaconda.com/anaconda/install/windows/) stegene, men hopp over steg nr 11.\n",
    "- Pass på detaljene i **steg 7** at det ikke skal være mellomrom i stien der du lagrer anaconda3. \n",
    "- **Steg 9** (installasjonen) kan ta en del tid. For meg tok det ca 15 min.  \n",
    "- For **steg 13** velger du selv om du vil gå gjennom \"tutorial\" og \"getting started\". Vi går gjennom det du trenger i oppgavene (NAT624/Del0 kom i gang), så det er strengt ikke nødvendig. \n",
    "- For det siste steget, **nr 14**, gjør dette: trykk på start-knappen, søk etter Anaconda Prompt og åpne. Dette svarte vinduet er terminalen. (Noter at om du får problemer lengre nede kan det hende du må åpne som administrator, men dette var ikke nødvendig for meg.)  \n",
    "- I terminalen, skriv `python + Enter`. Sjekk at du ser informasjon om hvilken versjon av python du har og skriv så `quit() + Enter`.\n",
    "- Restart maskinen. \n",
    "\n",
    "\n",
    "- Du har nå to valg for å åpne jupyter notebook. Jeg liker alternativ 1 best: \n",
    "    - **1)** Åpne Anaconda Prompt (`start-knappen + “Anaconda prompt”`). Gå til mappen EkteData-main (`cd + stien/til/mappen + enter`, for meg er denne *stien*: C:/Users/vdu001/Documents/EkteData/EkteData_prog/EkteData-main). Stien finner du nesten øverst i filutforskeren. I terminalen, skriv `jupyter notebook + Enter`.\n",
    "    - **2)** Åpne Anaconda navigator. Etter litt tid åpnes en side med muligheter for å åpne python med anaconda. Trykk “Launch” i boksen med “notebook”. \n",
    " \n",
    " \n",
    "- For begge alternativer åpner det seg så et vindu i forrige nettleservindu du brukte. Her ser du innholdet i EkteData-main-mappen og du kan trykke deg innpå filene – og kjøre gjennom skriptene! Prøv for eksempel **Eksempeloppgave.ipynb** som ligger i mappen Kom_i_gang. Husk å oppdatere **stien** til der mappen **Funksjoner** ligger på din PC. \n",
    "- Når du vil lage din egen fil går du i stedet til mappen NAT624 i terminalen (e.g.: cd C:\\Users\\hakon\\Documents\\EkteData_Prog\\NAT624) før du skriver jupyter notebook. \n",
    "- Du kan da opprette en helt ny fil ved å trykke på New-knappen høyt oppe på siden til høyre, eller du kan kopiere en av filene fra EkteData-main og prøve deg frem i dette skriptet, skrive notater, endre variabler, osv. Du kan så klart endre ting og prøve deg frem i filene i EkteData-main også, men da vil dette bli overskrevet hvis du ønsker å oppdatere denne mappen. Men det er jo ikke noe problem hvis det ikke er endringer du vil lagre, men kun litt testing og feiling.  \n",
    "\n",
    "#### 3) Lag et miljø\n",
    "Det kan hende vi etter hvert trenger å bruke moduler/pakker som ikke er automatisk tilgjengelig i anaconda sitt “miljø/environment”. I dette tilfellet må vi følge stegene nedenfor \n",
    "\n",
    "- Åpne Anaconda Prompt. Gå til mappen EkteData_Programmering (`cd + stien til mappen + Enter`)\n",
    "- Skriv `conda create –n EkteData + Enter`.\n",
    "- Dette lager et miljø for arbeidet ditt med programmeringsoppgaver denne våren. Når man jobber i Python må man laste ned pakker med de funksjonene og koden man trenger. Vil man for eksempel lage en figur må man laste ned et bibliotek for plotting, “matplotlib”. For det meste av matematiske operasjoner trenger man “numpy” og “scipy”.  \n",
    "- Skriv `conda activate EkteData + Enter`. Dette aktiverer miljøet du nettopp lagde. \n",
    "- Skriv \n",
    "    \n",
    "    `\n",
    "    conda install -c anaconda jupyter  + Enter\n",
    "    conda install -c anaconda numpy  + Enter\n",
    "    conda install -c anaconda matplotlib + Enter\n",
    "    pip install git+https://github.com/wckd/python-yt.git + Enter`\n",
    "    \n",
    "\n",
    "- Neste gang du skal åpne jupyter notebook i dette miljøet må du først skrive `conda activate EkteData + Enter` i teminalen og så `jupyter notebook + Enter`\n",
    " \n",
    "\n",
    "\n"
   ]
  },
  {
   "cell_type": "code",
   "execution_count": null,
   "metadata": {},
   "outputs": [],
   "source": []
  }
 ],
 "metadata": {
  "kernelspec": {
   "display_name": "Python 3",
   "language": "python",
   "name": "python3"
  },
  "language_info": {
   "codemirror_mode": {
    "name": "ipython",
    "version": 3
   },
   "file_extension": ".py",
   "mimetype": "text/x-python",
   "name": "python",
   "nbconvert_exporter": "python",
   "pygments_lexer": "ipython3",
   "version": "3.8.5"
  }
 },
 "nbformat": 4,
 "nbformat_minor": 4
}

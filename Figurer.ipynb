{
 "cells": [
  {
   "cell_type": "markdown",
   "metadata": {},
   "source": [
    "# Figurer i Python\n",
    "Når man skal jobbe med et datasett er å lage figurer et av de viktigste verktøyene man har. Dette gjelder i starten når man prøver å få oversikten over dataene, men også seinere når man skal presentere resultater. \n",
    "\n",
    "I denne oppgaven skal vi se på et par forskjellige måter å visualisere data. "
   ]
  },
  {
   "cell_type": "code",
   "execution_count": null,
   "metadata": {},
   "outputs": [],
   "source": [
    "import numpy as np # for regneoperasjoner\n",
    "import matplotlib.pyplot as plt # for figurer\n",
    "import matplotlib\n",
    "import requests # for filinnlasting\n",
    "import io # for filinnlasting\n",
    "from EkteDataFunk import loadData # for filinnlasting"
   ]
  },
  {
   "cell_type": "markdown",
   "metadata": {},
   "source": [
    "Last inn et datasett å jobbe med. I denne oppgaven bruker vi års-temperatur i Bergen fra 1860 til 2020. "
   ]
  },
  {
   "cell_type": "code",
   "execution_count": null,
   "metadata": {},
   "outputs": [],
   "source": [
    "file='TempBergenYearlyNonan.txt'\n",
    "temp,tid = loadData(file)"
   ]
  },
  {
   "cell_type": "markdown",
   "metadata": {},
   "source": [
    "#### Linjeplot\n",
    "En av de aller enkleste figurene er et linjeplot. For en funksjon f(x) er x langs første-aksen, og f(x) langs andre-aksen. I dette eksempelet har vi temperatur som en funksjon av tid, så vi får tid langs første-aksen og temperatur langs andre-aksen. "
   ]
  },
  {
   "cell_type": "code",
   "execution_count": null,
   "metadata": {},
   "outputs": [],
   "source": [
    "ax=plt.axes() # Lag akser å plotte i\n",
    "\n",
    "# Plot tidsserien\n",
    "ax.plot(tid, temp)\n",
    "\n",
    "# Definer grid, tekst etc.\n",
    "ax.set(\n",
    "    title='Temperatur 1860-2020',\n",
    "    xlabel='År',\n",
    "    ylabel='Temperatur [\\u2103]', # \\u2103 er koden for grader celcius. \n",
    "    xlim=[1860,2020], # Sett grense for x-aksen\n",
    "    ylim=[5.5,10.5]) # Sett grense for y-aksen\n",
    "ax.grid() # Legg til rutenett (grid) i bakgrunnen\n",
    "plt.show() # Denne linjen er kun med så vi slipper unødvendig tekstoutput. \n",
    "           # Du kan jo kommentere den ut for å se om du vil. "
   ]
  },
  {
   "cell_type": "markdown",
   "metadata": {},
   "source": [
    "Men har mye valgfrihet når man skal lage figurer. Alle farger, tekststørrelse, figurstørrelse, akser, grenser, verdier/tekst langs aksene og mye mer kan endres. Det enkleste å gjøre når man skal finne ut hvordan man skal endre på noe er å lese dokumentasjon til funksjoner i `matplotlib`. `matplotlib` er et stort bibliotek for plotting av figurer i python, og det meste du trenger finnes her. Det skal sies at det å lese dokumentasjon er en treningssak. Det kan være overveldende i starten, og vanskelig å finne ut hvor i all informasjonen den informasjonen du er på jakt etter finnes, men dette blir lettere etterhvert.\n",
    "\n",
    "Si at du vil at linjen heller skal være oransje og at alle faktiske datapunkt skal være markert med en grønn femkant. Da ville jeg googlet f.eks. \"matplotlib line color python\", trykket meg inn på dokumentasjonslinken som kommer opp. I dette tilfellet kommer jeg til denne nettsiden https://matplotlib.org/stable/api/_as_gen/matplotlib.pyplot.plot.html. Dette er en under-side i dokumentasjonen til Matplotlib. Ganske tidlig på siden er det noen eksempler på å endre linjefarge og sette markør, men for å finne informasjon om hvordan jeg setter markøren til en famkant og gjøre den grønn må man skrolle lengre ned på siden til man finner \"Other Parameters:\". Under ** kwargs (keyword arguemts) kommer en lang liste. Kolonnen \"Properties\" er det vi er ute etter. Detter er alle \"keywordene\" man kan gi til plt.plot, f.eks \"color\". Måten man bruker dette er f.eks. `plt.plot(tid,temp), color='green')`. Dette gir en grønn linje istedet for en blå. `color='green'` er et \"keyword argument pair\". For informasjon om hvert enkelt keyword trykker man på lenken deres og finner hvile mulige input de kan få. "
   ]
  },
  {
   "cell_type": "code",
   "execution_count": null,
   "metadata": {},
   "outputs": [],
   "source": [
    "ax=plt.axes()\n",
    "\n",
    "# Plot tidsserien, og definer hvordan linjen skal se ut\n",
    "ax.plot(\n",
    "    tid,temp,\n",
    "    color='orange',\n",
    "    marker='p',\n",
    "    markerfacecolor='green')\n",
    "\n",
    "# Definer grid, tekst etc.\n",
    "ax.set(\n",
    "    title='Temperatur 1860-2020',\n",
    "    xlabel='År',\n",
    "    ylabel='Temperatur [\\u2103]', # \\u2103 er koden for grader celcius. \n",
    "    xlim=[1860,2020], # sett grense for x-aksen\n",
    "    ylim=[5.5,10.5]) # sett grense for y-aksen\n",
    "ax.grid() # legg til rutenett (grid) i bakgrunnen\n",
    "plt.show() "
   ]
  },
  {
   "cell_type": "markdown",
   "metadata": {},
   "source": [
    "#### Oppgave 1: \n",
    "Lag samme figur som over, men bruk røde stjerner som markør og ingen linje istedet. "
   ]
  },
  {
   "cell_type": "code",
   "execution_count": null,
   "metadata": {},
   "outputs": [],
   "source": []
  },
  {
   "cell_type": "markdown",
   "metadata": {},
   "source": [
    "#### Oppgave 2:\n",
    "Lag samme figur som over, men lag tittlen større. Dette krever et nytt søk i dokumentasjonen. Tips: inkluder \"title\" og \"fontsize\" i søkeordene dine. Plot i nye farger, markører og linjestil. Ha også forskjellig farge på selve markøren og kanten til markøren. "
   ]
  },
  {
   "cell_type": "code",
   "execution_count": null,
   "metadata": {},
   "outputs": [],
   "source": []
  },
  {
   "cell_type": "markdown",
   "metadata": {},
   "source": [
    "#### Histogram\n",
    "En annen måte å presentere data på er med histogram. Her byttes informasjon om endringer med tid ut mot informasjon om hvilke verdier som er vanlige, og hvor sannsynlig det er med ekstreme verdier.\n",
    "\n",
    "Den enkleste versjonen ser slik som dette ut. "
   ]
  },
  {
   "cell_type": "code",
   "execution_count": null,
   "metadata": {},
   "outputs": [],
   "source": [
    "ax=plt.axes()\n",
    "ax.hist(temp)\n",
    "ax.set(\n",
    "    title='Temperaturfordeling 1860-2020',\n",
    "    ylabel='Antall observasjoner',\n",
    "    xlabel='Temperatur [\\u2103]', # \\u2103 er koden for grader celcius. \n",
    "    ylim=[0,35], # sett grense for x-aksen\n",
    "    xlim=[5.5,10.5]) # sett grense for y-aksen\n",
    "plt.show()"
   ]
  },
  {
   "cell_type": "markdown",
   "metadata": {},
   "source": [
    "Det er ganske grovt inndelt, og blir \"boksete\". Dette kan man endre på ved å lage flere intervall enn 10 som er default. Her er det 15 intervall, eller \"bins\"."
   ]
  },
  {
   "cell_type": "code",
   "execution_count": null,
   "metadata": {},
   "outputs": [],
   "source": [
    "ax=plt.axes()\n",
    "ax.hist(temp, bins=15)\n",
    "ax.set(\n",
    "    title='Temperaturfordeling 1860-2020',\n",
    "    ylabel='Antall observasjoner',\n",
    "    xlabel='Temperatur [\\u2103]', # \\u2103 er koden for grader celcius. \n",
    "    ylim=[0,35], # sett grense for x-aksen\n",
    "    xlim=[5.5,10.5]) # sett grense for y-aksen\n",
    "plt.show()"
   ]
  },
  {
   "cell_type": "markdown",
   "metadata": {},
   "source": [
    "Det er fremdeles ganske grovt. Dette har med lengden på tidsserien å gjøre - den er bare 160 steg lang. Hva skjer om vi istedet laster inn datasettet som har månedsverdier? Legg merke til at grensene for aksene er like i denne og forrige figur. Dette kan være nyttig for å se tydelig hvordan antall observasjoner er fordelt mellom temperaturintervallene. Ofte er imidlertid det man er mest interessert i når man ser på histogram den statistiske fordelingen - ikke nøyaktig hvor mange observasjoner det finnes i det ene eller det andre intervallet.  "
   ]
  },
  {
   "cell_type": "code",
   "execution_count": null,
   "metadata": {},
   "outputs": [],
   "source": [
    "# Last inn det samme datasettet men med månedsverdier. \n",
    "file='TempBergen.txt'\n",
    "temp,tid = loadData(file)\n",
    "\n",
    "# For å bruke funksjonen np.reshape og få ett histogram med alle verdiene må de samles i en lang vektor. \n",
    "# Plot gjerne temp direkte for å se hvordan np.hist da plotter ett histogram for hver kolonne på samme x-akse. \n",
    "temp_vec=np.reshape(temp,(1,12*len(temp))) \n",
    "temp_vec=temp_vec[0] # Man må \"rydde vekk\" en dimensjon etter reshape. "
   ]
  },
  {
   "cell_type": "markdown",
   "metadata": {},
   "source": [
    "#### Oppgave 3:\n",
    "Som nevnt over er histogram en måte å vise statistisk fordeling. Vanlige første ordens statistiske parametre er gjennomsnitt, median og standardavvik. Regn ut disse tre for den nye vektoren `temp_vec`. Bruk funksjonene som finens i numpy."
   ]
  },
  {
   "cell_type": "code",
   "execution_count": null,
   "metadata": {},
   "outputs": [],
   "source": []
  },
  {
   "cell_type": "markdown",
   "metadata": {},
   "source": [
    "#### Oppgave 4:\n",
    "Lag et histogragm av `temp_vec` og prøv deg frem med forskjellige antall bins frem til du finner et antall som du synes passer fint. \n",
    "Forklar:\n",
    "- Hvorfor du valgte dette antallet bins\n",
    "- Hva figuren viser. Diskuter blant annet hva som kan være grunnen til de to toppene i fordeling, og hvorfor forskjellen mellom å se på månedlige verdier og års-verdier er så stor. "
   ]
  },
  {
   "cell_type": "code",
   "execution_count": null,
   "metadata": {},
   "outputs": [],
   "source": []
  },
  {
   "cell_type": "markdown",
   "metadata": {},
   "source": [
    "#### Oppgave 5:\n",
    "Se tilbake på verdiene av gjennomsnitt, median og standardavvik fra oppgave 3. Diskuter hvorfor du synes disse verdiene beskriver variabiliteten i datasettet godt eller dårlig? Tror du de tilsvarende statistiske parametrene ville vært mer eller mindre beskrivende for de årlige gjennomsnittsverdiene? Ut ifra dette: noter noen tanker om hvorfor det kan være nyttig å studere histogrammet til et datasett du skal begynne å jobbe med, og hvordan histogram og linjeplot (f.esk. en tidsserie) utfyller hverandre. "
   ]
  },
  {
   "cell_type": "code",
   "execution_count": null,
   "metadata": {},
   "outputs": [],
   "source": []
  },
  {
   "cell_type": "markdown",
   "metadata": {},
   "source": [
    "### Scatterplot\n",
    "Hvis man har to forskjellige variable kan det være nyttig å undersøke om det er en sammenheng mellom dem. Kanskje påvirkes den ene variablen av den andre? I GitHub mappen til Ekte Data finnes det datsett for flere variable enn temperatur som vi har sett på frem til nå, for eksempel nedbør. Under henter vi inn dette og lager et \"scatterplot\". I et scatterplot er den ene variabelen langs x-aksen og den andre langs y-aksen. Så lager man et punkt for hver verdi man har. I vårt tilfelle har vi to tidsserier - en for temperatur, en for nedbør. Vi lar temperatur være langs x-aksen og nedbør langs y-aksen, og lager en prikk for hvert tidssteg. \n",
    "\n",
    "Det er viktig at de to tidsseriene er like lange. For nedbør har vi bare verdier fra 1899. Vi må derfor kutte tidsserien for temperatur slik at de to tidsseriene dekker de samme årene. "
   ]
  },
  {
   "cell_type": "code",
   "execution_count": null,
   "metadata": {},
   "outputs": [],
   "source": [
    "file='PrecipVestlandYearlyNonan.txt'\n",
    "precip, tid_p = loadData(file)\n",
    "\n",
    "file='TempBergenYearlyNonan.txt'\n",
    "temp,tid_t = loadData(file)"
   ]
  },
  {
   "cell_type": "code",
   "execution_count": null,
   "metadata": {},
   "outputs": [],
   "source": [
    "print(tid_p[0])\n",
    "print(tid_p[-1])\n",
    "print(tid_t[0])\n",
    "print(tid_t[-1])\n",
    "\n",
    "start=np.nonzero(tid_t==tid_p[0]) # Finn indeksen der tid_t er lik det første året i tid_p\n",
    "start=start[0][0] # [0][0] må med for å få tak i kun tallet\n",
    "\n",
    "temp=temp[start:] # Slett starten av temperatur-tidsserien\n",
    "tid_t=tid_t[start:]"
   ]
  },
  {
   "cell_type": "code",
   "execution_count": null,
   "metadata": {},
   "outputs": [],
   "source": [
    "ax=plt.axes()\n",
    "ax.scatter(temp,precip)\n",
    "ax.set(\n",
    "    title='Temperatur og nedbør 1899-2020',\n",
    "    ylabel='Nedbør [mm]',\n",
    "    xlabel='Temperatur [\\u2103]', # \\u2103 er koden for grader celcius. \n",
    ") \n",
    "plt.show()"
   ]
  },
  {
   "cell_type": "markdown",
   "metadata": {},
   "source": [
    "#### Oppgave 6: \n",
    "Ser du et mønster her? Kan du si noe om forholdet mellom temperatur og nedbør? \"Når temperturen er høy er ...\". Tenk over hva du ville forvente - er inntrykket ditt at det regner mest når det er varmt eller kaldt? \n",
    "\n",
    "\n",
    "En vanlig ting å gjøre når man lager slike plot som dette er å fargekode prikkene. I figuren vår representerer hver prikk et år. Så vi kan fargekode prikkene etter år. "
   ]
  },
  {
   "cell_type": "code",
   "execution_count": null,
   "metadata": {},
   "outputs": [],
   "source": [
    "from matplotlib import cm # Denne pakken trengs for å lage fargeskalaen\n",
    "cmap=cm.get_cmap('plasma',len(temp)) # cmap står for \"colormap\". Her definerer du hvilken fargeskala du vil bruke. \n",
    "\n",
    "colors = tid_t # Her definerer du at fargeskalaen skal basere seg på tidsvektoren din\n",
    "ax=plt.axes()\n",
    "\n",
    "# I linjen under plottes precip som en funksjon av temp, fargeskalaen settes til colors (definert rett over), fargekartet settes\n",
    "# til cmap som du definerte over, og du setter min og makx grenser til fargeksalaen. \n",
    "sc=ax.scatter(temp,precip,c=colors,cmap=cmap,vmin=min(tid_t), vmax=max(tid_t)) \n",
    "ax.set(\n",
    "    title='Temperatur og nedbør 1899-2020',\n",
    "    ylabel='Nedbør [mm]',\n",
    "    xlabel='Temperatur [\\u2103]', # \\u2103 er koden for grader celcius. \n",
    ") \n",
    "plt.colorbar(sc, label='År') # denne linjen gjør at fargeskalaen vises til høyre. \n",
    "plt.show()"
   ]
  },
  {
   "cell_type": "markdown",
   "metadata": {},
   "source": [
    "#### Oppgave 7: \n",
    "Nå er lilla prikker starten av tidsserien og gule prikker nåtid. Hvilket system ser du nå? \n",
    "\n",
    "Dette kan man snu og vente på slik man vil. Hadde datasettet hatt enda en variabel, for eksempel soldager kunne man prøvd seg frem med å skifte på hvilke variabler som er langs aksene og hvilke som er fargekodet. Man kan også definere variabler med forskjellig størrelse på prikkene. Dette kunne funket for soldager - jo flere soldager, jo større plikk. Det kan imidlertid være en idé å ikke prøve å vise all informasjonen man har på en gang, da blir det etterhvert uoversiktlig. Men man kan prøve seg frem og lete etter systemer på denne måten! \n",
    "\n",
    "#### Oppgave 8: \n",
    "Bytt om få skriptet over slik at tid er langs x-aksen, temperatur langs y-aksen, og nedbør er fargekodet. Hvilket system ser du nå? Er det et system? Tenk på både ting som trendlinjer og fordeling av farge. "
   ]
  },
  {
   "cell_type": "code",
   "execution_count": null,
   "metadata": {},
   "outputs": [],
   "source": []
  },
  {
   "cell_type": "markdown",
   "metadata": {},
   "source": [
    "### Kontur-plot\n",
    "Den siste måten å fremstille data på som vi går gjennom i denne oppgaven er \"Filled Contour\"-plot. Kommendoen for disse er `contourf`. Dette er en god måte å vise to-dimensjonale datasett på hvor man har en variabel som er avhengig av to parametre. Variabsjon i variabelen vises med farger. I dette eksempelet har vi tid langs både x- og y-aksen. Det er ikke det mest typiske, vanligvis har man to ulike parametre her, for eksempel tid og dyp, tid og koordinat, eller lengdegrader og breddegrader. Dette er bare tre eksempler - man kan ha hva som helst langs disse to aksene, så lenge man har en tredje variabel som er avhengig av begge disse to parametrene. Her er temperatur denne variabelen som er avhengig av to ting: hvilken måned man er i, og hvilket år. I figuren er måneder langs x-aksen, år langs y-aksen, og selve temperaturen vises med farger definert med fargeskalaen til høyre: blått er kaldt, lysegrønn er varmt. I slike plot som dette må man *alltid* ha med en fargeskala - hvis ikke gir ikke fargene i selve figuren noen informasjon man kan bruke. "
   ]
  },
  {
   "cell_type": "code",
   "execution_count": null,
   "metadata": {},
   "outputs": [],
   "source": [
    "file='TempVestlandMonthly.txt'\n",
    "temp,tid = loadData(file)"
   ]
  },
  {
   "cell_type": "code",
   "execution_count": null,
   "metadata": {},
   "outputs": [],
   "source": [
    "ax=plt.axes()\n",
    "c=ax.contourf(np.linspace(1,12,12),tid,temp)\n",
    "cbar=plt.colorbar(c)\n",
    "cbar.set_label('Temperatur 1860-2020')\n",
    "ax.set(\n",
    "    title='Temperaturfordeling 1860-2020',\n",
    "    ylabel='År',\n",
    "    xlabel='Måned')\n",
    "plt.show()"
   ]
  },
  {
   "cell_type": "markdown",
   "metadata": {},
   "source": [
    "#### Oppgave 6:\n",
    "\n",
    "Blått og grønt er kanskje ikke de mest intuitive fargene å bruke for å vise temperatur, men dette kan endres med å definere et annet `colormap`. Matplotlib sitt default colormap er det over, og heter \"viridis\". Klikk deg inn på https://matplotlib.org/stable/tutorials/colors/colormaps.html og finn et fint fargekart. Bytt ut 'X' i koden under med navnet på kartet du har valgt. "
   ]
  },
  {
   "cell_type": "code",
   "execution_count": null,
   "metadata": {},
   "outputs": [],
   "source": [
    "ax=plt.axes()\n",
    "cmap=cm.get_cmap('X')\n",
    "c=ax.contourf(\n",
    "    np.linspace(1,12,12),tid,temp,\n",
    "    cmap=cmap, # Her definerer du at fargekartet du har valgt skal brukes i denne figuren\n",
    "    levels=15) # Angi hvor fin inndeling du vil ha på fargeskalaen\n",
    "cbar=plt.colorbar(c)\n",
    "cbar.set_label('Temperatur 1860-2020')\n",
    "ax.set(\n",
    "    title='Temperaturfordeling 1860-2020',\n",
    "    ylabel='År',\n",
    "    xlabel='Måned')\n",
    "plt.show()"
   ]
  },
  {
   "cell_type": "markdown",
   "metadata": {},
   "source": [
    "Å velge eller lage gode fargekart og sette fargeskalaen kan være nokså knotete i python. Det kan være nyttig å angi grenser til fargeskalaen, for eksempel la den gå fra -10 til 20 istedet for -6 til 20 som her, men da er det veldig viktig å være obs på at man gjør samme endringen på selve figuren og fargeskalaen (colorbaren). Dette krever et par work-arounds som vi ikke skal se på nå, men det er greit å være obs på at dette ikke alltid går som man vil automatisk - det trengs ofte veldig sydelig og detaljert definering siden fargeskalaen ikke oppdateres automatisk med nye grenser selv om man setter dette til contourf. \n",
    "\n",
    "Man bør også tenke på slike ting som hvilke farger som representerer hvilke verdier. Velger du f.eks. fargekartet \"rwb\" (red white blue) i oppgaven over uten å endre på \"levels\" så havner hvit på temperaturer mellom 6 og 8 grader. Intuitivt vil man tro at hvit er på null. Igjen, vi går ikke gjennom hvordan man kan endre dette i denne oppgaven, men slike ting bør tenkes over. \n"
   ]
  },
  {
   "cell_type": "code",
   "execution_count": null,
   "metadata": {},
   "outputs": [],
   "source": [
    "temp.shape"
   ]
  },
  {
   "cell_type": "code",
   "execution_count": null,
   "metadata": {},
   "outputs": [],
   "source": []
  }
 ],
 "metadata": {
  "kernelspec": {
   "display_name": "Python 3",
   "language": "python",
   "name": "python3"
  },
  "language_info": {
   "codemirror_mode": {
    "name": "ipython",
    "version": 3
   },
   "file_extension": ".py",
   "mimetype": "text/x-python",
   "name": "python",
   "nbconvert_exporter": "python",
   "pygments_lexer": "ipython3",
   "version": "3.8.5"
  }
 },
 "nbformat": 4,
 "nbformat_minor": 5
}

{
 "cells": [
  {
   "cell_type": "markdown",
   "metadata": {},
   "source": [
    "# Funksjoner\n",
    "\n",
    "I flere av disse konsept-oppgavene er en del av oppgaven å dele tidsperioden inn i seksjoner som en måte å filtrere rådataene på. Hva om vi hadde en funksjon som gjorde dette for oss automatisk? Dette bruker vi som utgangspunkt til et eksempel og en oppgave som dreier seg om hvordan enkle funksjoner kan bygges i python. \n",
    "\n",
    "Å lage funksjoner er veldig praktisk når man har en operasjon man har bruk for ofte. Det er lurt å lage funsjonene sine generelle og ikke for omfattende - hvis de blir for spesifikke vil de bare fungere i helt spesielle tilfeller, og man får bruk for dem sjelden. "
   ]
  },
  {
   "cell_type": "code",
   "execution_count": 1,
   "metadata": {},
   "outputs": [],
   "source": [
    "import numpy as np # for regneoperasjoner\n",
    "import matplotlib.pyplot as plt # for figurer\n",
    "import matplotlib"
   ]
  },
  {
   "cell_type": "markdown",
   "metadata": {},
   "source": [
    "Denne funksjonen skal\n",
    "- lese inn et datasett fra github mappen\n",
    "- dele datasettet inn i bolker med lengde angitt av dT (antall år)\n",
    "- kunne håndtere både datasettene med års- og måneds-gjennomsnitt\n",
    "- putte \"rest år\" i en siste bolk detsom lengden ikke går opp med dT, og skrive ut en beskjed om hvilke år som er i denne bolken (dersom aktuelt)\n",
    "- jeg vil gjerne at den skal kunne sjekke om den trenger å ta vekk header osv selv, men per nå må man ha input på det."
   ]
  },
  {
   "cell_type": "code",
   "execution_count": 6,
   "metadata": {},
   "outputs": [],
   "source": [
    "def array_mean(\n",
    "    file,dT,filetype, \n",
    "    filepath='https://raw.githubusercontent.com/irendundas/EkteData/main/'\n",
    "):\n",
    "    \n",
    "    '''\n",
    "    Denne funksjonen skal\n",
    "    - lese inn et datasett fra github mappen til Ekte Data.\n",
    "    - dele datasettet inn i bolker med lengde angitt av dT (antall år).\n",
    "    - kunne håndtere både datasettene med års- og måneds-gjennomsnitt.\n",
    "    - putte \"rest år\" i en siste bolk dersom lengden ikke går opp med dT, \n",
    "      og skrive ut en beskjed om hvilke år som er i denne bolken (dersom \n",
    "      aktuelt).\n",
    "    - jeg vil gjerne at den skal kunne sjekke om den trenger å ta vekk header \n",
    "      osv selv, men per nå må man ha input på det.\n",
    "    \n",
    "    Input \n",
    "    file     : the name of the txt-file, not including the path, which is \n",
    "    constant and set below. \n",
    "    dT       : the timestep, i.e., the number of years to average across. \n",
    "    filetype : 'M' if the dataset has monthly resolution, or 'Y' if it has \n",
    "    yearly resolution.\n",
    "    \n",
    "    Output\n",
    "    meanVal  : gjennomsnittsverdier i bolker med lengde bestemt av dT.\n",
    "    time     : en tidsvektor med midtpunktene av hver tidsbolk.\n",
    "    \n",
    "    '''\n",
    "    \n",
    "    \n",
    "    if filetype == 'Y':\n",
    "        data = np.genfromtxt(filepath+file, \n",
    "                             dtype=float, delimiter=',',skip_header=1)\n",
    "    elif filetype == 'M':\n",
    "        data = np.genfromtxt(filepath+file, dtype=float)\n",
    "        \n",
    "    data[data==-999.99]=np.nan\n",
    "    T=len(data) # Antall år i datasettet\n",
    "    \n",
    "    start=0 # startindeks\n",
    "    stop=T  # stopindeks\n",
    "    \n",
    "    # Start- og slutt-indeks til hver av de \"N\" \"dT\"-års-bolkene\n",
    "    ind=np.arange(start,stop,dT) \n",
    "\n",
    "    # In this case dT doesn't add up into T, and some years will be left out. We \n",
    "    # want to take the mean over these as well, and include them at the end of \n",
    "    # the averaged time series. \n",
    "    if T-ind[-1] > 0: \n",
    "        rest=T-ind[-1] # nr of years left out\n",
    "    \n",
    "        if rest < dT/2:\n",
    "            ind[-1]=T\n",
    "            print(\n",
    "                'Dividing the datset into sections of length',dT,'leaves out',\n",
    "                rest,'year(s) at the end of the time series. The last element in', \n",
    "                'the output is the average of these/this',rest,'year(s) combined', \n",
    "                'with the last full period.'\n",
    "            )\n",
    "            print((\n",
    "                f'Dividing æpajspgiaj {dT} leaves out'\n",
    "                f'ny kine {rest}'\n",
    "            ))\n",
    "        elif rest > dT/2:\n",
    "            ind=np.append(ind,len(data)) \n",
    "            print(\n",
    "                'Dividing the datset into sections of length',dT,'leaves out',\n",
    "                rest,'year(s) at the end of the time series. The last element ',\n",
    "                'in the output is the average of these/this',rest,'year(s).'\n",
    "            )\n",
    "    \n",
    "    \n",
    "    \n",
    "    meanVal=np.zeros((len(ind)-1,data.shape[1]-1)) # dT-bolker x 1 eller 12 avhengig av om det skal bli års- eller månedssnitt\n",
    "    \n",
    "    if data.shape[1]==2:\n",
    "        for i in range(len(ind)-1): \n",
    "             # for e.g., i=0 blir dette data[ind[0]:ind[1],1]=data[0:dT,1]\n",
    "            meanVal[i]=np.nanmean(data[int(ind[i]):int(ind[i+1]),1]) \n",
    "            \n",
    "    elif data.shape[1]==13:\n",
    "        for mo in range(12): # iterer gjennom månedene\n",
    "            for i in range(len(ind)-1): # iterer gjennom dT-årsperiodene\n",
    "                # vi begynner på \"data\" sin kolonne mo+1 fordi første kolonne i \"data\" er årstallene \n",
    "                meanVal[i,mo]=np.nanmean(data[int(ind[i]):int(ind[i+1]),mo+1]) \n",
    "                \n",
    "                \n",
    "    # I tilegg til å returnere gjennomsnittsverdiene vil vi ha en vektor med tid. \n",
    "    # Dette gir midtpunktene i hver bolk. \n",
    "    timeid = np.round(np.arange(start+dT/2,stop-dT/2,dT))\n",
    "    timeid = timeid.astype(int)\n",
    "    time=data[timeid,0]\n",
    "    \n",
    "    return meanVal, time"
   ]
  },
  {
   "cell_type": "code",
   "execution_count": 7,
   "metadata": {},
   "outputs": [
    {
     "name": "stdout",
     "output_type": "stream",
     "text": [
      "Dividing the datset into sections of length 10 leaves out 1 year(s) at the end of the time series. The last element in the output is the average of these/this 1 year(s) combined with the last full period.\n",
      "Dividing æpajspgiaj 10 leaves outny kine 1\n"
     ]
    },
    {
     "data": {
      "text/plain": [
       "(array([[7.17037037],\n",
       "        [7.08333333],\n",
       "        [7.28666667],\n",
       "        [7.25648148],\n",
       "        [7.1475    ],\n",
       "        [7.25277778],\n",
       "        [7.08095238],\n",
       "        [7.83055556],\n",
       "        [7.98541667],\n",
       "        [7.72037037],\n",
       "        [7.38916667],\n",
       "        [7.62166667],\n",
       "        [7.7462963 ],\n",
       "        [8.08083333],\n",
       "        [8.296875  ],\n",
       "        [8.84166667]]),\n",
       " array([1866., 1876., 1886., 1896., 1906., 1916., 1926., 1936., 1946.,\n",
       "        1956., 1966., 1976., 1986., 1996., 2006., 2016.]))"
      ]
     },
     "execution_count": 7,
     "metadata": {},
     "output_type": "execute_result"
    }
   ],
   "source": [
    "array_mean(file='TempBergenYearly.txt',dT=10,filetype='Y')"
   ]
  },
  {
   "cell_type": "code",
   "execution_count": null,
   "metadata": {},
   "outputs": [],
   "source": []
  }
 ],
 "metadata": {
  "kernelspec": {
   "display_name": "Python 3",
   "language": "python",
   "name": "python3"
  },
  "language_info": {
   "codemirror_mode": {
    "name": "ipython",
    "version": 3
   },
   "file_extension": ".py",
   "mimetype": "text/x-python",
   "name": "python",
   "nbconvert_exporter": "python",
   "pygments_lexer": "ipython3",
   "version": "3.8.5"
  }
 },
 "nbformat": 4,
 "nbformat_minor": 4
}

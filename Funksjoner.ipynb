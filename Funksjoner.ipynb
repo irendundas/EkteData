{
 "cells": [
  {
   "cell_type": "markdown",
   "metadata": {},
   "source": [
    "# Funksjoner\n",
    "\n",
    "Vi starter så godt som hver oppgave med å laste ned et datasett fra GitHub-mappen til Ekte Data. Hva om vi hadde en funksjon som gjorde dette for oss, så vi slapp å bruke np.genfromtxt, sortere dataene inn i tid og dataverdier, og sette fyll-verdier til NaN gang på gang? Dette lager vi i denne oppgaven.\n",
    "\n",
    "Å lage funksjoner er veldig praktisk når man har en operasjon man har bruk for ofte. Det er lurt å lage funsjonene sine generelle og ikke for omfattende - hvis de blir for spesifikke vil de bare fungere i helt spesielle tilfeller, og man får bruk for dem sjelden. "
   ]
  },
  {
   "cell_type": "code",
   "execution_count": 1,
   "metadata": {},
   "outputs": [],
   "source": [
    "import numpy as np # for regneoperasjoner\n",
    "import matplotlib.pyplot as plt # for figurer\n",
    "import matplotlib"
   ]
  },
  {
   "cell_type": "markdown",
   "metadata": {},
   "source": [
    "### Funksjon #1\n",
    "\n",
    "Denne funksjonen skal kun lese inn et datasett fra githubmappen til Ekte Data og gi to output: tidsvektoren og selve dataene. \n",
    "\n",
    "Fra tidligere vet vi at de månedlige og de årlige datasettene må leses inn litt forskjellig: i det årlige trenger vi litt ekstra info om datasettet, nemlig at kolonnene for tid og variabel-veridene deles av komma, og at det er en linje med header øverst. Vi vet hva slags datasett vi skal laste inn, så det kan vi oppgi til funksjonen ved å sette `filetype='Y'` eller `filetype='M'`. Funksjonen starter derfor med en if-løkke som sjekker `filetype`: er det `'Y'` inkluderer den `delimeter` og `skip_header`, hvis `filetype` er `'M'` utelukker den `delimeter` og `skip_header`. "
   ]
  },
  {
   "cell_type": "code",
   "execution_count": 2,
   "metadata": {},
   "outputs": [],
   "source": [
    "def loadData(file,filetype):\n",
    "    \n",
    "    '''\n",
    "    Denne funksjonen skal\n",
    "    - Lese inn et datasett fra github mappen til Ekte Data.\n",
    "    - Returnere en tidsvektor og en matrise med selve verdiene.\n",
    "\n",
    "    Input \n",
    "    file     : Navnet på .txt-filen (ikke inkluder stien her, kun filnavnet)\n",
    "    filetype : 'M' hvis datasettet har månedlig oppløsning og 'Y' hvis det har \n",
    "    årlig oppløsning.\n",
    "    \n",
    "    Output\n",
    "    data      : En vektor eller matrise (avhengig av om datasettet som leses inn\n",
    "    er årlig eller månedlige gjennomsnitt) med alle verdiene i datasettet\n",
    "    tid     : Tidsvektoren til datasettet.\n",
    "    \n",
    "    '''\n",
    "    \n",
    "    # Last inn dataene med np.genfromtxt som vi har brukt før\n",
    "    if filetype == 'Y':\n",
    "        data = np.genfromtxt(\n",
    "            'https://raw.githubusercontent.com/irendundas/EkteData/main/'+file, \n",
    "            dtype=float, delimiter=',',skip_header=1)\n",
    "    \n",
    "    elif filetype == 'M':\n",
    "        data = np.genfromtxt(\n",
    "            'https://raw.githubusercontent.com/irendundas/EkteData/main/'+file, \n",
    "            dtype=float)\n",
    "        \n",
    "    # Sett alle \"fyll-verdier\" til NaN\n",
    "    data[data==-999.99]=np.nan     \n",
    "    \n",
    "    # Tidsvektor med desimaler\n",
    "    tid=data[:,0]\n",
    "    \n",
    "    # Selve dataene\n",
    "    data=data[:,1:]\n",
    "    \n",
    "    return data, tid\n",
    "    \n",
    "    "
   ]
  },
  {
   "cell_type": "markdown",
   "metadata": {},
   "source": [
    "Nå kan vi bruke funksjonen vår:"
   ]
  },
  {
   "cell_type": "code",
   "execution_count": 3,
   "metadata": {},
   "outputs": [],
   "source": [
    "data,tid = loadData(file='TempBergenYearly.txt',filetype='Y')"
   ]
  },
  {
   "cell_type": "code",
   "execution_count": 4,
   "metadata": {},
   "outputs": [
    {
     "data": {
      "text/plain": [
       "array([[       nan],\n",
       "       [7.71666667],\n",
       "       [7.75833333],\n",
       "       [6.86666667],\n",
       "       [7.225     ],\n",
       "       [7.41666667],\n",
       "       [6.55      ],\n",
       "       [7.975     ],\n",
       "       [6.45      ],\n",
       "       [6.575     ],\n",
       "       [       nan],\n",
       "       [       nan],\n",
       "       [7.83333333],\n",
       "       [7.175     ],\n",
       "       [7.01666667],\n",
       "       [6.78333333],\n",
       "       [6.55      ],\n",
       "       [       nan],\n",
       "       [6.69166667],\n",
       "       [7.53333333],\n",
       "       [6.36666667],\n",
       "       [7.9       ],\n",
       "       [7.6       ],\n",
       "       [8.20833333],\n",
       "       [6.70833333],\n",
       "       [6.83333333],\n",
       "       [6.99166667],\n",
       "       [6.55      ],\n",
       "       [7.925     ],\n",
       "       [7.78333333],\n",
       "       [7.73333333],\n",
       "       [6.26666667],\n",
       "       [7.49166667],\n",
       "       [8.33333333],\n",
       "       [       nan],\n",
       "       [7.40833333],\n",
       "       [7.25      ],\n",
       "       [7.15      ],\n",
       "       [6.96666667],\n",
       "       [6.70833333],\n",
       "       [7.675     ],\n",
       "       [6.40833333],\n",
       "       [7.18333333],\n",
       "       [6.89166667],\n",
       "       [7.08333333],\n",
       "       [7.38333333],\n",
       "       [6.95      ],\n",
       "       [7.575     ],\n",
       "       [6.53333333],\n",
       "       [7.79166667],\n",
       "       [7.56666667],\n",
       "       [7.59166667],\n",
       "       [7.81666667],\n",
       "       [7.93333333],\n",
       "       [5.95833333],\n",
       "       [7.1       ],\n",
       "       [       nan],\n",
       "       [7.5       ],\n",
       "       [6.125     ],\n",
       "       [7.68333333],\n",
       "       [7.2       ],\n",
       "       [6.425     ],\n",
       "       [6.46666667],\n",
       "       [7.28333333],\n",
       "       [7.85833333],\n",
       "       [       nan],\n",
       "       [7.19166667],\n",
       "       [7.14166667],\n",
       "       [       nan],\n",
       "       [       nan],\n",
       "       [6.70833333],\n",
       "       [7.58333333],\n",
       "       [8.25833333],\n",
       "       [8.55833333],\n",
       "       [7.69166667],\n",
       "       [8.275     ],\n",
       "       [7.98333333],\n",
       "       [8.30833333],\n",
       "       [       nan],\n",
       "       [7.10833333],\n",
       "       [6.975     ],\n",
       "       [       nan],\n",
       "       [8.2       ],\n",
       "       [       nan],\n",
       "       [8.275     ],\n",
       "       [7.93333333],\n",
       "       [7.94166667],\n",
       "       [8.15833333],\n",
       "       [8.125     ],\n",
       "       [8.275     ],\n",
       "       [7.6       ],\n",
       "       [7.125     ],\n",
       "       [8.625     ],\n",
       "       [7.70833333],\n",
       "       [7.3       ],\n",
       "       [7.225     ],\n",
       "       [7.93333333],\n",
       "       [7.4       ],\n",
       "       [8.56666667],\n",
       "       [       nan],\n",
       "       [8.25833333],\n",
       "       [7.01666667],\n",
       "       [7.23333333],\n",
       "       [7.525     ],\n",
       "       [7.25      ],\n",
       "       [6.90833333],\n",
       "       [7.725     ],\n",
       "       [7.48333333],\n",
       "       [7.4       ],\n",
       "       [7.09166667],\n",
       "       [7.775     ],\n",
       "       [7.83333333],\n",
       "       [7.39166667],\n",
       "       [8.59166667],\n",
       "       [8.20833333],\n",
       "       [7.5       ],\n",
       "       [7.46666667],\n",
       "       [7.36666667],\n",
       "       [6.40833333],\n",
       "       [7.675     ],\n",
       "       [6.9       ],\n",
       "       [8.1       ],\n",
       "       [       nan],\n",
       "       [7.95833333],\n",
       "       [6.8       ],\n",
       "       [7.10833333],\n",
       "       [7.23333333],\n",
       "       [8.225     ],\n",
       "       [8.475     ],\n",
       "       [8.91666667],\n",
       "       [8.15833333],\n",
       "       [8.53333333],\n",
       "       [7.56666667],\n",
       "       [7.675     ],\n",
       "       [7.75      ],\n",
       "       [7.16666667],\n",
       "       [8.59166667],\n",
       "       [7.975     ],\n",
       "       [8.575     ],\n",
       "       [8.81666667],\n",
       "       [7.68333333],\n",
       "       [       nan],\n",
       "       [8.73333333],\n",
       "       [       nan],\n",
       "       [8.4       ],\n",
       "       [9.31666667],\n",
       "       [8.4       ],\n",
       "       [8.875     ],\n",
       "       [8.6       ],\n",
       "       [6.36666667],\n",
       "       [8.78333333],\n",
       "       [       nan],\n",
       "       [7.96666667],\n",
       "       [9.90833333],\n",
       "       [8.73333333],\n",
       "       [8.6       ],\n",
       "       [8.625     ],\n",
       "       [8.69166667],\n",
       "       [8.83333333],\n",
       "       [9.43333333],\n",
       "       [       nan]])"
      ]
     },
     "execution_count": 4,
     "metadata": {},
     "output_type": "execute_result"
    }
   ],
   "source": [
    "data"
   ]
  },
  {
   "cell_type": "code",
   "execution_count": 5,
   "metadata": {},
   "outputs": [
    {
     "data": {
      "text/plain": [
       "array([1861., 1862., 1863., 1864., 1865., 1866., 1867., 1868., 1869.,\n",
       "       1870., 1871., 1872., 1873., 1874., 1875., 1876., 1877., 1878.,\n",
       "       1879., 1880., 1881., 1882., 1883., 1884., 1885., 1886., 1887.,\n",
       "       1888., 1889., 1890., 1891., 1892., 1893., 1894., 1895., 1896.,\n",
       "       1897., 1898., 1899., 1900., 1901., 1902., 1903., 1904., 1905.,\n",
       "       1906., 1907., 1908., 1909., 1910., 1911., 1912., 1913., 1914.,\n",
       "       1915., 1916., 1917., 1918., 1919., 1920., 1921., 1922., 1923.,\n",
       "       1924., 1925., 1926., 1927., 1928., 1929., 1930., 1931., 1932.,\n",
       "       1933., 1934., 1935., 1936., 1937., 1938., 1939., 1940., 1941.,\n",
       "       1942., 1943., 1944., 1945., 1946., 1947., 1948., 1949., 1950.,\n",
       "       1951., 1952., 1953., 1954., 1955., 1956., 1957., 1958., 1959.,\n",
       "       1960., 1961., 1962., 1963., 1964., 1965., 1966., 1967., 1968.,\n",
       "       1969., 1970., 1971., 1972., 1973., 1974., 1975., 1976., 1977.,\n",
       "       1978., 1979., 1980., 1981., 1982., 1983., 1984., 1985., 1986.,\n",
       "       1987., 1988., 1989., 1990., 1991., 1992., 1993., 1994., 1995.,\n",
       "       1996., 1997., 1998., 1999., 2000., 2001., 2002., 2003., 2004.,\n",
       "       2005., 2006., 2007., 2008., 2009., 2010., 2011., 2012., 2013.,\n",
       "       2014., 2015., 2016., 2017., 2018., 2019., 2020., 2021.])"
      ]
     },
     "execution_count": 5,
     "metadata": {},
     "output_type": "execute_result"
    }
   ],
   "source": [
    "tid"
   ]
  },
  {
   "cell_type": "markdown",
   "metadata": {},
   "source": [
    "### Oppgave 1 \n",
    "Bruk funksjonen til å laste inn datasettet TempBergen.txt og skriv ut de to variablene data og tid. "
   ]
  },
  {
   "cell_type": "code",
   "execution_count": null,
   "metadata": {},
   "outputs": [],
   "source": []
  },
  {
   "cell_type": "markdown",
   "metadata": {},
   "source": [
    "### Funksjon #2\n",
    "\n",
    "Vi kan gjøre denne funksjonen litt enklere å bruke ved å utelukke `filetype` som input. Da må funksjonen selv sjekke om den trenger å inkludere `delimeter` og `skip_header`. Funksjonen trenger da et kriterie den kan sjekke som forteller den om det er en månedlig eller årlig fil den skal lese inn. Dette kan (som alt annet) sannsynligvis gjøres på mange ulige måter, men et sted å starte for å finne et passende kriterie er å se hva som skjer hvis vi prøver å laste inn et årlig datasett *uten* `delimeter` og `skip_header`:"
   ]
  },
  {
   "cell_type": "code",
   "execution_count": 6,
   "metadata": {},
   "outputs": [
    {
     "data": {
      "text/plain": [
       "array([nan, nan, nan, nan, nan, nan, nan, nan, nan, nan, nan, nan, nan,\n",
       "       nan, nan, nan, nan, nan, nan, nan, nan, nan, nan, nan, nan, nan,\n",
       "       nan, nan, nan, nan, nan, nan, nan, nan, nan, nan, nan, nan, nan,\n",
       "       nan, nan, nan, nan, nan, nan, nan, nan, nan, nan, nan, nan, nan,\n",
       "       nan, nan, nan, nan, nan, nan, nan, nan, nan, nan, nan, nan, nan,\n",
       "       nan, nan, nan, nan, nan, nan, nan, nan, nan, nan, nan, nan, nan,\n",
       "       nan, nan, nan, nan, nan, nan, nan, nan, nan, nan, nan, nan, nan,\n",
       "       nan, nan, nan, nan, nan, nan, nan, nan, nan, nan, nan, nan, nan,\n",
       "       nan, nan, nan, nan, nan, nan, nan, nan, nan, nan, nan, nan, nan,\n",
       "       nan, nan, nan, nan, nan, nan, nan, nan, nan, nan, nan, nan, nan,\n",
       "       nan, nan, nan, nan, nan, nan, nan, nan, nan, nan, nan, nan, nan,\n",
       "       nan, nan, nan, nan, nan, nan, nan, nan, nan, nan, nan, nan, nan,\n",
       "       nan, nan, nan, nan, nan, nan])"
      ]
     },
     "execution_count": 6,
     "metadata": {},
     "output_type": "execute_result"
    }
   ],
   "source": [
    "data=np.genfromtxt(\n",
    "    'https://raw.githubusercontent.com/irendundas/EkteData/main/'+\n",
    "    'TempBergenYearly.txt',dtype=float)\n",
    "data"
   ]
  },
  {
   "cell_type": "markdown",
   "metadata": {},
   "source": [
    "Alt blir NaN. Dette er et fint kriterie å bruke: dersom **alt** blir nan må man laste inn på metoden for årlig data. Det er viktig å presisere at kriteriet må være at **alt** er NaN - det kan jo være at datasettet inneholder et par NaN uten at det betyr at det er lastet inn feil. "
   ]
  },
  {
   "cell_type": "code",
   "execution_count": 7,
   "metadata": {},
   "outputs": [
    {
     "data": {
      "text/plain": [
       "(array([  0,   1,   2,   3,   4,   5,   6,   7,   8,   9,  10,  11,  12,\n",
       "         13,  14,  15,  16,  17,  18,  19,  20,  21,  22,  23,  24,  25,\n",
       "         26,  27,  28,  29,  30,  31,  32,  33,  34,  35,  36,  37,  38,\n",
       "         39,  40,  41,  42,  43,  44,  45,  46,  47,  48,  49,  50,  51,\n",
       "         52,  53,  54,  55,  56,  57,  58,  59,  60,  61,  62,  63,  64,\n",
       "         65,  66,  67,  68,  69,  70,  71,  72,  73,  74,  75,  76,  77,\n",
       "         78,  79,  80,  81,  82,  83,  84,  85,  86,  87,  88,  89,  90,\n",
       "         91,  92,  93,  94,  95,  96,  97,  98,  99, 100, 101, 102, 103,\n",
       "        104, 105, 106, 107, 108, 109, 110, 111, 112, 113, 114, 115, 116,\n",
       "        117, 118, 119, 120, 121, 122, 123, 124, 125, 126, 127, 128, 129,\n",
       "        130, 131, 132, 133, 134, 135, 136, 137, 138, 139, 140, 141, 142,\n",
       "        143, 144, 145, 146, 147, 148, 149, 150, 151, 152, 153, 154, 155,\n",
       "        156, 157, 158, 159, 160, 161], dtype=int64),)"
      ]
     },
     "execution_count": 7,
     "metadata": {},
     "output_type": "execute_result"
    }
   ],
   "source": [
    "# Alle verdier på disse indeksene er NaN\n",
    "np.nonzero(data)"
   ]
  },
  {
   "cell_type": "markdown",
   "metadata": {},
   "source": [
    "Men er **alle** indeksene i \"data\" NaN? \n",
    "Vi sjekker det ved å sjekke om lengden av vektoren `np.nonzero(data)` er like lang som \"data\"-vektoren. "
   ]
  },
  {
   "cell_type": "code",
   "execution_count": 8,
   "metadata": {},
   "outputs": [
    {
     "name": "stdout",
     "output_type": "stream",
     "text": [
      "162\n",
      "162\n"
     ]
    }
   ],
   "source": [
    "print(len(data))\n",
    "\n",
    "# Under må vi ha med [0] for å kutte vekk dtype=int64 etc.\n",
    "print(len(np.nonzero(data)[0]))"
   ]
  },
  {
   "cell_type": "markdown",
   "metadata": {},
   "source": [
    "Vi sjekker det også med en if-løkke."
   ]
  },
  {
   "cell_type": "code",
   "execution_count": 9,
   "metadata": {},
   "outputs": [
    {
     "name": "stdout",
     "output_type": "stream",
     "text": [
      "Alle verdier i data er NaN\n"
     ]
    }
   ],
   "source": [
    "if len(data) == len(np.nonzero(data)[0]):\n",
    "    print('Alle verdier i data er NaN')"
   ]
  },
  {
   "cell_type": "markdown",
   "metadata": {},
   "source": [
    "Vi kan nå oppdatere funsjonen vår slik at vi slipper å oppgi om det er månedlig eller årlig oppløsning på datasettet vårt!"
   ]
  },
  {
   "cell_type": "code",
   "execution_count": 10,
   "metadata": {},
   "outputs": [],
   "source": [
    "def loadData(file):\n",
    "    \n",
    "    '''\n",
    "    Denne funksjonen skal\n",
    "    - Lese inn et datasett fra github mappen til Ekte Data.\n",
    "    - Returnere en tidsvektor og en matrise med selve verdiene.\n",
    "\n",
    "    Input \n",
    "    file     : Navnet på .txt-filen (ikke inkluder stien her, kun filnavnet)\n",
    "    filetype : 'M' hvis datasettet har månedlig oppløsning og 'Y' hvis det har \n",
    "    årlig oppløsning.\n",
    "    \n",
    "    Output\n",
    "    data      : En vektor eller matrise (avhengig av om datasettet som leses inn\n",
    "    er årlig eller månedlige gjennomsnitt) med alle verdiene i datasettet\n",
    "    tid     : Tidsvektoren til datasettet.\n",
    "    \n",
    "    '''\n",
    "    \n",
    "    # Last inn dataene med np.genfromtxt som vi har brukt før\n",
    "    # Prøv først å laste det inn uten å opggi info om delimeter og skip_header\n",
    "    data = np.genfromtxt(\n",
    "            'https://raw.githubusercontent.com/irendundas/EkteData/main/'+file, \n",
    "            dtype=float)\n",
    "    \n",
    "    # Sjekk om dette funket eller om alt ble NaN.  Dersom alt ble NaN laster vi\n",
    "    # inn datasettet på nytt og inkluderer info om delimeter og skip_header\n",
    "    if len(data) == len(np.nonzero(data)[0]):\n",
    "        data = np.genfromtxt(\n",
    "            'https://raw.githubusercontent.com/irendundas/EkteData/main/'+file, \n",
    "            dtype=float, delimiter=',',skip_header=1)\n",
    "        \n",
    "    # Sett alle \"fyll-verdier\" til NaN\n",
    "    data[data==-999.99]=np.nan     \n",
    "    \n",
    "    # Tidsvektor med desimaler\n",
    "    tid=data[:,0]\n",
    "    \n",
    "    # Selve dataene\n",
    "    data=data[:,1:]\n",
    "    \n",
    "    return data, tid\n",
    "    "
   ]
  },
  {
   "cell_type": "code",
   "execution_count": 11,
   "metadata": {},
   "outputs": [],
   "source": [
    "data,tid = loadData(file='TempBergen.txt')"
   ]
  },
  {
   "cell_type": "code",
   "execution_count": 12,
   "metadata": {},
   "outputs": [
    {
     "data": {
      "text/plain": [
       "array([[ nan,  1.1,  3.1, ..., 10.9,  2.8,  4.7],\n",
       "       [ 0.4,  0.8,  1.9, ...,  9.3,  4. ,  4.5],\n",
       "       [ 2.4,  3.3,  3.6, ...,  9.5,  5.9,  2.2],\n",
       "       ...,\n",
       "       [ 2.6,  5.3,  4.6, ...,  8. ,  3. ,  5. ],\n",
       "       [ 5.5,  4. ,  4.7, ...,  9.9,  7.9,  5.2],\n",
       "       [-0.8,  nan,  nan, ...,  nan,  nan,  nan]])"
      ]
     },
     "execution_count": 12,
     "metadata": {},
     "output_type": "execute_result"
    }
   ],
   "source": [
    "data"
   ]
  },
  {
   "cell_type": "code",
   "execution_count": 13,
   "metadata": {},
   "outputs": [
    {
     "data": {
      "text/plain": [
       "array([1861., 1862., 1863., 1864., 1865., 1866., 1867., 1868., 1869.,\n",
       "       1870., 1871., 1872., 1873., 1874., 1875., 1876., 1877., 1878.,\n",
       "       1879., 1880., 1881., 1882., 1883., 1884., 1885., 1886., 1887.,\n",
       "       1888., 1889., 1890., 1891., 1892., 1893., 1894., 1895., 1896.,\n",
       "       1897., 1898., 1899., 1900., 1901., 1902., 1903., 1904., 1905.,\n",
       "       1906., 1907., 1908., 1909., 1910., 1911., 1912., 1913., 1914.,\n",
       "       1915., 1916., 1917., 1918., 1919., 1920., 1921., 1922., 1923.,\n",
       "       1924., 1925., 1926., 1927., 1928., 1929., 1930., 1931., 1932.,\n",
       "       1933., 1934., 1935., 1936., 1937., 1938., 1939., 1940., 1941.,\n",
       "       1942., 1943., 1944., 1945., 1946., 1947., 1948., 1949., 1950.,\n",
       "       1951., 1952., 1953., 1954., 1955., 1956., 1957., 1958., 1959.,\n",
       "       1960., 1961., 1962., 1963., 1964., 1965., 1966., 1967., 1968.,\n",
       "       1969., 1970., 1971., 1972., 1973., 1974., 1975., 1976., 1977.,\n",
       "       1978., 1979., 1980., 1981., 1982., 1983., 1984., 1985., 1986.,\n",
       "       1987., 1988., 1989., 1990., 1991., 1992., 1993., 1994., 1995.,\n",
       "       1996., 1997., 1998., 1999., 2000., 2001., 2002., 2003., 2004.,\n",
       "       2005., 2006., 2007., 2008., 2009., 2010., 2011., 2012., 2013.,\n",
       "       2014., 2015., 2016., 2017., 2018., 2019., 2020., 2021.])"
      ]
     },
     "execution_count": 13,
     "metadata": {},
     "output_type": "execute_result"
    }
   ],
   "source": [
    "tid"
   ]
  },
  {
   "cell_type": "markdown",
   "metadata": {},
   "source": [
    "### Oppgave 2\n",
    "\n",
    "Ta utgangspunkt i funksjon #2 men utvid den slik at den også returnerer en gjennomsnittsverdi \"dataMean\". For årsdatasettet skal den returnere det totale gjennomsnittet over alle årene (én verdi), mens for månedsdatasettet skal den returnere gjennomsnittet for hver måned (12 verdier)\n"
   ]
  },
  {
   "cell_type": "code",
   "execution_count": null,
   "metadata": {},
   "outputs": [],
   "source": []
  },
  {
   "cell_type": "markdown",
   "metadata": {},
   "source": [
    "### Behandling av output\n",
    "\n",
    "To ting om output:\n",
    "- Selv om vi skriver `return data, tid`, kan vi kalle disse variablene hva vi vil når vi bruker funksjonen. Vet vi f.eks at vi laster inn et datasett over temperatur kan vi skrive `temp, tid = loadData(...)` istedet for `data, tid = loadData(...)`. Da skjønner funksjonen at `temp` er variabelnavnet på outputen `data`. \n",
    "- Vi trenger \"hente ut\" alle return-verdiene. Er vi kun interessert i tidsvektoren kan vi skrive `_,tid = loadData(...)`. Hvis vi ikke vet nøyaktig hva funksjonen inneholder kan vi også skrive `data = loadData()`: da kommer alle outputverdiene ut i rekkefølgen spesifisert av `return`.\n",
    "\n",
    "### Oppgave 3\n",
    "\n",
    "Funksjonen fra oppgave 2 gir tre output: data, tid og dataMean. \n",
    "- Skriv ut kun `data`-variabelen, men kall den `temp`. \n",
    "- Skriv ut alle variablene i en variabel som du kaller `vars`. Plukk så ut `temp`, `tid`, og `meanTemp` fra `vars`."
   ]
  },
  {
   "cell_type": "markdown",
   "metadata": {},
   "source": [
    "### Oppgave 4\n",
    "\n",
    "I introen nevnte vi at det er lurt å lage funksjonene sine generelle. Å inkludere å ta gjennomsnittet inni `loadData` gjør den litt mindre generell. Det kan være ryddig å kun la `loadData` laste inn data, og istedet lage en ny funksjon som tar gjennomsnittet av disse dataene. \n",
    "\n",
    "Lag en ny funksjon som gjør to ting: \n",
    "- først skal den bruke funksjonen `loadData` til å hente inn datafilen, \n",
    "- så skal den ta gjennomsnittet på samme måte som i oppgave 2. \n",
    "\n",
    "Input variabelen blir `file`, og output variabelen blir kun `dataMean`.\n",
    "\n",
    "Denne funksjonen skal altså bruke en annen funksjon inni seg, og så gi et nytt output. Et hint for å komme igang er at funksjonen `loadData` gjør jo også dette: både np.genfromtxt og np.nonzero er funksjoner som gir output som brukes videre i `loadData`."
   ]
  },
  {
   "cell_type": "markdown",
   "metadata": {},
   "source": [
    "________________\n",
    "\n",
    "### Prosjektoppgave: Funksjon for gjennomsnitt i seksjoner\n",
    "\n",
    "I flere av disse konsept-oppgavene er en del av oppgaven å dele tidsperioden inn i seksjoner som en måte å filtrere rådataene på. Dette kan vi lage en funksjon for slik at det gjøres automatisk. Vi tar utgangspunkt i funksjonene vi har over, og inkludere metoder for å finne indekser som deler inn datasettet i for eksempel tiårs-bolker som vi har gjort i f.eks. \"for-løkke\" oppgaven. \n",
    "\n",
    "Ting å tenke på:\n",
    "- Hvilke ekstra input trengs?\n",
    "- Hvilke output vil vi ha? \n",
    "- Hva skal funksjonen gjøre dersom antall år i hver bolk ikke går opp i antall år i datasettet?\n",
    "- Skal den behandle \"rest-årene\" likt uavhengig av hvor mange det er? Hvis man f.eks. vil dele inn i tiårs-bolker - skal funksjonen gjøre det samme uavhengig av om det er 2 eller 9 restår?"
   ]
  },
  {
   "cell_type": "markdown",
   "metadata": {},
   "source": [
    "### Løsnings*forslag*\n",
    "Husk igjen - denne prosjektoppgaven kan løses på \n",
    "\n",
    "som i oppg 4\n",
    "\n",
    "Denne funksjonen skal\n",
    "- lese inn et datasett fra github mappen til Ekte Data\n",
    "- dele datasettet inn i bolker med lengde angitt av dT (antall år)\n",
    "- kunne håndtere både datasettene med års- og måneds-gjennomsnitt\n",
    "- putte \"rest år\" i en siste bolk dersom lengden ikke går opp med dT, og skrive ut en beskjed om hvilke år som er i denne bolken (dersom aktuelt). Dersom det er færre enn dT/2 restår - legg dem til den siste bolken, dersom det er dT/2 eller flere restår - lag en ny liten bolk. "
   ]
  },
  {
   "cell_type": "code",
   "execution_count": null,
   "metadata": {},
   "outputs": [],
   "source": [
    "def array_mean(\n",
    "    file,dT, \n",
    "    filepath='https://raw.githubusercontent.com/irendundas/EkteData/main/'\n",
    "):\n",
    "    \n",
    "    '''\n",
    "    Denne funksjonen skal\n",
    "    - lese inn et datasett fra github mappen til Ekte Data.\n",
    "    - dele datasettet inn i bolker med lengde angitt av dT (antall år).\n",
    "    - kunne håndtere både datasettene med års- og måneds-gjennomsnitt.\n",
    "    - putte \"rest år\" i en siste bolk dersom lengden ikke går opp med dT, \n",
    "      og skrive ut en beskjed om hvilke år som er i denne bolken (dersom \n",
    "      aktuelt).\n",
    "    - jeg vil gjerne at den skal kunne sjekke om den trenger å ta vekk header \n",
    "      osv selv, men per nå må man ha input på det.\n",
    "    \n",
    "    Input \n",
    "    file     : the name of the txt-file, not including the path, which is \n",
    "    constant and set below. \n",
    "    dT       : the timestep, i.e., the number of years to average across. \n",
    "    \n",
    "    Output\n",
    "    meanVal  : gjennomsnittsverdier i bolker med lengde bestemt av dT.\n",
    "    time     : en tidsvektor med midtpunktene av hver tidsbolk.\n",
    "    \n",
    "    '''\n",
    "    \n",
    "    \n",
    "    # Last inn dataene med np.genfromtxt som vi har brukt før\n",
    "    # Prøv først å laste det inn uten å opggi info om delimeter og skip_header\n",
    "    data = np.genfromtxt(filepath+file, dtype=float)\n",
    "    \n",
    "    # Sjekk om dette funket eller om alt ble NaN.  Dersom alt ble NaN laster vi\n",
    "    # inn datasettet på nytt og inkluderer info om delimeter og skip_header\n",
    "    if len(data) == len(np.nonzero(data)[0]):\n",
    "        data = np.genfromtxt(filepath+file, \n",
    "                             dtype=float, delimiter=',',skip_header=1)\n",
    "        \n",
    "        \n",
    "    data[data==-999.99]=np.nan\n",
    "    T=len(data) # Antall år i datasettet\n",
    "    \n",
    "    start=0 # startindeks\n",
    "    stop=T  # stopindeks\n",
    "    \n",
    "    # Start- og slutt-indeks til hver av \"dT\"-års-bolkene\n",
    "    ind=np.arange(start,stop,dT) \n",
    "    \n",
    "    \n",
    "    # I tilegg til å returnere gjennomsnittsverdiene vil vi ha en vektor med \n",
    "    # tid. Dette gir midtpunktene i hver bolk med desimaler.\n",
    "    time=np.arange(data[0,0]+dT/2,2021,10)\n",
    "    \n",
    "\n",
    "    # In this case dT doesn't add up into T, and some years will be left out. \n",
    "    # We want to take the mean over these as well, and include them at the end \n",
    "    # of the averaged time series. \n",
    "    if T-ind[-1] > 0: \n",
    "        rest=T-ind[-1] # nr of years left out\n",
    "        if rest < dT/2:\n",
    "            ind[-1]=T\n",
    "            print((\n",
    "                f'Dividing the datset into sections of length {dT} leaves out '\n",
    "                f'{rest} year(s) at the end of the time series. The last ' \n",
    "                f'element in the output is the average of these/this {rest} '\n",
    "                f'year(s) combined with the last full period.'\n",
    "            ))\n",
    "        elif rest >= dT/2:\n",
    "            ind=np.append(ind,len(data)) \n",
    "            # Må få med en ekstra tidsperiode i de tilfellene hvor jeg legger \n",
    "            # til en ekstra bolk\n",
    "            time=np.append(time,time[-1]+rest/2)\n",
    "            print((\n",
    "                f'Dividing the datset into sections of length {dT} leaves out '\n",
    "                f'{rest} year(s) at the end of the time series. The last '\n",
    "                f'element in the output is the average of these/this {rest} '\n",
    "                f'year(s).'\n",
    "            ))\n",
    "    \n",
    "    \n",
    "    # dT-bolker x 1 eller 12 avhengig av om det skal bli års- eller månedssnitt\n",
    "    meanVal=np.zeros((len(ind)-1,data.shape[1]-1)) \n",
    "    \n",
    "    if data.shape[1]==2:\n",
    "        for i in range(len(ind)-1): \n",
    "            # for e.g., i=0 blir dette data[ind[0]:ind[1],1]=data[0:dT,1]\n",
    "            meanVal[i]=np.nanmean(data[int(ind[i]):int(ind[i+1]),1]) \n",
    "            \n",
    "    elif data.shape[1]==13:\n",
    "        for mo in range(12): # iterer gjennom månedene\n",
    "            for i in range(len(ind)-1): # iterer gjennom dT-årsperiodene\n",
    "                # vi begynner på \"data\" sin kolonne mo+1 fordi første kolonne i\n",
    "                # \"data\" er årstallene \n",
    "                meanVal[i,mo]=np.nanmean(data[int(ind[i]):int(ind[i+1]),mo+1]) \n",
    "                \n",
    "    # vi vil også gi ut en tidsvektor i heltall avrundet fra \"time\"-vektoren   \n",
    "    #time=np.arange(start+dT/2,stop-dT/2,dT)\n",
    "    meanTime = np.round(np.nextafter(time, time+1))\n",
    "    #timeid = timeid.astype(int)\n",
    "    #meanTime=data[timeid,0]\n",
    "    \n",
    "    return meanVal, time, meanTime"
   ]
  },
  {
   "cell_type": "code",
   "execution_count": null,
   "metadata": {},
   "outputs": [],
   "source": [
    "array_mean(file='TempBergenYearly.txt',dT=13)"
   ]
  },
  {
   "cell_type": "code",
   "execution_count": null,
   "metadata": {},
   "outputs": [],
   "source": []
  }
 ],
 "metadata": {
  "kernelspec": {
   "display_name": "Python 3",
   "language": "python",
   "name": "python3"
  },
  "language_info": {
   "codemirror_mode": {
    "name": "ipython",
    "version": 3
   },
   "file_extension": ".py",
   "mimetype": "text/x-python",
   "name": "python",
   "nbconvert_exporter": "python",
   "pygments_lexer": "ipython3",
   "version": "3.8.5"
  }
 },
 "nbformat": 4,
 "nbformat_minor": 4
}

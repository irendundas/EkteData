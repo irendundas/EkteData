{
 "cells": [
  {
   "cell_type": "markdown",
   "metadata": {},
   "source": [
    "# Funksjoner\n",
    "\n",
    "Vi starter så godt som hver oppgave med å laste ned et datasett fra GitHub-mappen til Ekte Data. Hva om vi hadde en funksjon som gjorde dette for oss, så vi slapp å bruke np.genfromtxt, sortere dataene inn i tid og dataverdier, og sette fyll-verdier til NaN gang på gang? Dette lager vi i denne oppgaven.\n",
    "\n",
    "Å lage funksjoner er veldig praktisk når man har en operasjon man har bruk for ofte. Det er lurt å lage funsjonene sine generelle og ikke for omfattende - hvis de blir for spesifikke vil de bare fungere i helt spesielle tilfeller, og man får bruk for dem sjelden. "
   ]
  },
  {
   "cell_type": "code",
   "execution_count": null,
   "metadata": {},
   "outputs": [],
   "source": [
    "import numpy as np # for regneoperasjoner\n",
    "import matplotlib.pyplot as plt # for figurer\n",
    "import matplotlib"
   ]
  },
  {
   "cell_type": "markdown",
   "metadata": {},
   "source": [
    "### Funksjon #1\n",
    "\n",
    "Denne funksjonen skal kun lese inn et datasett fra githubmappen til Ekte Data og gi to output: tidsvektoren og selve dataene. \n",
    "\n",
    "Fra tidligere vet vi at de månedlige og de årlige datasettene må leses inn litt forskjellig: i det årlige trenger vi litt ekstra info om datasettet, nemlig at kolonnene for tid og variabel-veridene deles av komma, og at det er en linje med header øverst. Vi vet hva slags datasett vi skal laste inn, så det kan vi oppgi til funksjonen ved å sette `filetype='Y'` eller `filetype='M'`. Funksjonen starter derfor med en if-løkke som sjekker `filetype`: er det `'Y'` inkluderer den `delimeter` og `skip_header`, hvis `filetype` er `'M'` utelukker den `delimeter` og `skip_header`. "
   ]
  },
  {
   "cell_type": "code",
   "execution_count": null,
   "metadata": {},
   "outputs": [],
   "source": [
    "def loadData(file,filetype):\n",
    "    \n",
    "    '''\n",
    "    Denne funksjonen skal\n",
    "    - Lese inn et datasett fra github mappen til Ekte Data.\n",
    "    - Returnere en tidsvektor og en matrise med selve verdiene.\n",
    "\n",
    "    Input \n",
    "    file     : Navnet på .txt-filen (ikke inkluder stien her, kun filnavnet)\n",
    "    filetype : 'M' hvis datasettet har månedlig oppløsning og 'Y' hvis det har \n",
    "    årlig oppløsning.\n",
    "    \n",
    "    Output\n",
    "    data      : En vektor eller matrise (avhengig av om datasettet som leses inn\n",
    "    er årlig eller månedlige gjennomsnitt) med alle verdiene i datasettet\n",
    "    tid     : Tidsvektoren til datasettet.\n",
    "    \n",
    "    '''\n",
    "    \n",
    "    # Last inn dataene med np.genfromtxt som vi har brukt før\n",
    "    if filetype == 'Y':\n",
    "        data = np.genfromtxt(\n",
    "            'https://raw.githubusercontent.com/irendundas/EkteData/main/'+file, \n",
    "            dtype=float, delimiter=',',skip_header=1)\n",
    "    \n",
    "    elif filetype == 'M':\n",
    "        data = np.genfromtxt(\n",
    "            'https://raw.githubusercontent.com/irendundas/EkteData/main/'+file, \n",
    "            dtype=float)\n",
    "        \n",
    "    # Sett alle \"fyll-verdier\" til NaN\n",
    "    data[data==-999.99]=np.nan     \n",
    "    \n",
    "    # Tidsvektor med desimaler\n",
    "    tid=data[:,0]\n",
    "    \n",
    "    # Selve dataene\n",
    "    data=data[:,1:]\n",
    "    \n",
    "    return data, tid\n",
    "    \n",
    "    "
   ]
  },
  {
   "cell_type": "markdown",
   "metadata": {},
   "source": [
    "Nå kan vi bruke funksjonen vår:"
   ]
  },
  {
   "cell_type": "code",
   "execution_count": null,
   "metadata": {},
   "outputs": [],
   "source": [
    "data,tid = loadData(file='TempBergenYearly.txt',filetype='Y')"
   ]
  },
  {
   "cell_type": "code",
   "execution_count": null,
   "metadata": {},
   "outputs": [],
   "source": [
    "data"
   ]
  },
  {
   "cell_type": "code",
   "execution_count": null,
   "metadata": {},
   "outputs": [],
   "source": [
    "tid"
   ]
  },
  {
   "cell_type": "markdown",
   "metadata": {},
   "source": [
    "### Oppgave 1 \n",
    "Bruk funksjonen til å laste inn datasettet TempBergen.txt og skriv ut de to variablene data og tid. "
   ]
  },
  {
   "cell_type": "code",
   "execution_count": null,
   "metadata": {},
   "outputs": [],
   "source": []
  },
  {
   "cell_type": "markdown",
   "metadata": {},
   "source": [
    "### Funksjon #2\n",
    "\n",
    "Vi kan gjøre denne funksjonen litt enklere å bruke ved å utelukke `filetype` som input. Da må funksjonen selv sjekke om den trenger å inkludere `delimeter` og `skip_header`. Funksjonen trenger da et kriterie den kan sjekke som forteller den om det er en månedlig eller årlig fil den skal lese inn. Dette kan (som alt annet) sannsynligvis gjøres på mange ulige måter, men et sted å starte for å finne et passende kriterie er å se hva som skjer hvis vi prøver å laste inn et årlig datasett *uten* `delimeter` og `skip_header`:"
   ]
  },
  {
   "cell_type": "code",
   "execution_count": null,
   "metadata": {},
   "outputs": [],
   "source": [
    "data=np.genfromtxt(\n",
    "    'https://raw.githubusercontent.com/irendundas/EkteData/main/'+\n",
    "    'TempBergenYearly.txt',dtype=float)\n",
    "data"
   ]
  },
  {
   "cell_type": "markdown",
   "metadata": {},
   "source": [
    "Alt blir NaN. Dette er et fint kriterie å bruke: dersom **alt** blir nan må man laste inn på metoden for årlig data. Det er viktig å presisere at kriteriet må være at **alt** er NaN - det kan jo være at datasettet inneholder et par NaN uten at det betyr at det er lastet inn feil. "
   ]
  },
  {
   "cell_type": "code",
   "execution_count": null,
   "metadata": {},
   "outputs": [],
   "source": [
    "# Alle verdier på disse indeksene er NaN\n",
    "np.nonzero(data)"
   ]
  },
  {
   "cell_type": "markdown",
   "metadata": {},
   "source": [
    "Men er **alle** indeksene i \"data\" NaN? \n",
    "Vi sjekker det ved å sjekke om lengden av vektoren `np.nonzero(data)` er like lang som \"data\"-vektoren. "
   ]
  },
  {
   "cell_type": "code",
   "execution_count": null,
   "metadata": {},
   "outputs": [],
   "source": [
    "print(len(data))\n",
    "\n",
    "# Under må vi ha med [0] for å kutte vekk dtype=int64 etc.\n",
    "print(len(np.nonzero(data)[0]))"
   ]
  },
  {
   "cell_type": "markdown",
   "metadata": {},
   "source": [
    "Vi sjekker det også med en if-løkke."
   ]
  },
  {
   "cell_type": "code",
   "execution_count": null,
   "metadata": {},
   "outputs": [],
   "source": [
    "if len(data) == len(np.nonzero(data)[0]):\n",
    "    print('Alle verdier i data er NaN')"
   ]
  },
  {
   "cell_type": "markdown",
   "metadata": {},
   "source": [
    "Vi kan nå oppdatere funsjonen vår slik at vi slipper å oppgi om det er månedlig eller årlig oppløsning på datasettet vårt!"
   ]
  },
  {
   "cell_type": "code",
   "execution_count": null,
   "metadata": {},
   "outputs": [],
   "source": [
    "def loadData(file):\n",
    "    \n",
    "    '''\n",
    "    Denne funksjonen skal\n",
    "    - Lese inn et datasett fra github mappen til Ekte Data.\n",
    "    - Returnere en tidsvektor og en matrise med selve verdiene.\n",
    "\n",
    "    Input \n",
    "    file     : Navnet på .txt-filen (ikke inkluder stien her, kun filnavnet)\n",
    "    filetype : 'M' hvis datasettet har månedlig oppløsning og 'Y' hvis det har \n",
    "    årlig oppløsning.\n",
    "    \n",
    "    Output\n",
    "    data      : En vektor eller matrise (avhengig av om datasettet som leses inn\n",
    "    er årlig eller månedlige gjennomsnitt) med alle verdiene i datasettet\n",
    "    tid     : Tidsvektoren til datasettet.\n",
    "    \n",
    "    '''\n",
    "    \n",
    "    # Last inn dataene med np.genfromtxt som vi har brukt før\n",
    "    # Prøv først å laste det inn uten å opggi info om delimeter og skip_header\n",
    "    data = np.genfromtxt(\n",
    "            'https://raw.githubusercontent.com/irendundas/EkteData/main/'+file, \n",
    "            dtype=float)\n",
    "    \n",
    "    # Sjekk om dette funket eller om alt ble NaN.  Dersom alt ble NaN laster vi\n",
    "    # inn datasettet på nytt og inkluderer info om delimeter og skip_header\n",
    "    if len(data) == len(np.nonzero(data)[0]):\n",
    "        data = np.genfromtxt(\n",
    "            'https://raw.githubusercontent.com/irendundas/EkteData/main/'+file, \n",
    "            dtype=float, delimiter=',',skip_header=1)\n",
    "        \n",
    "    # Sett alle \"fyll-verdier\" til NaN\n",
    "    data[data==-999.99]=np.nan     \n",
    "    \n",
    "    # Tidsvektor med desimaler\n",
    "    tid=data[:,0]\n",
    "    \n",
    "    # Selve dataene\n",
    "    data=data[:,1:]\n",
    "    \n",
    "    return data, tid\n",
    "    "
   ]
  },
  {
   "cell_type": "code",
   "execution_count": null,
   "metadata": {},
   "outputs": [],
   "source": [
    "data,tid = loadData(file='TempBergen.txt')"
   ]
  },
  {
   "cell_type": "code",
   "execution_count": null,
   "metadata": {},
   "outputs": [],
   "source": [
    "data"
   ]
  },
  {
   "cell_type": "code",
   "execution_count": null,
   "metadata": {},
   "outputs": [],
   "source": [
    "tid"
   ]
  },
  {
   "cell_type": "markdown",
   "metadata": {},
   "source": [
    "### Oppgave 2\n",
    "\n",
    "Ta utgangspunkt i funksjon #2 men utvid den slik at den også returnerer en gjennomsnittsverdi \"dataMean\". For årsdatasettet skal den returnere det totale gjennomsnittet over alle årene (én verdi), mens for månedsdatasettet skal den returnere gjennomsnittet for hver måned (12 verdier)\n"
   ]
  },
  {
   "cell_type": "code",
   "execution_count": null,
   "metadata": {},
   "outputs": [],
   "source": []
  },
  {
   "cell_type": "markdown",
   "metadata": {},
   "source": [
    "### Behandling av output\n",
    "\n",
    "To ting om output:\n",
    "- Selv om vi skriver `return data, tid`, kan vi kalle disse variablene hva vi vil når vi bruker funksjonen. Vet vi f.eks at vi laster inn et datasett over temperatur kan vi skrive `temp, tid = loadData(...)` istedet for `data, tid = loadData(...)`. Da skjønner funksjonen at `temp` er variabelnavnet på outputen `data`. \n",
    "- Vi trenger \"hente ut\" alle return-verdiene. Er vi kun interessert i tidsvektoren kan vi skrive `_,tid = loadData(...)`. Hvis vi ikke vet nøyaktig hva funksjonen inneholder kan vi også skrive `data = loadData()`: da kommer alle outputverdiene ut i rekkefølgen spesifisert av `return`.\n",
    "\n",
    "### Oppgave 3\n",
    "\n",
    "Funksjonen fra oppgave 2 gir tre output: data, tid og dataMean. \n",
    "- Skriv ut kun `data`-variabelen, men kall den `temp`. \n",
    "- Skriv ut alle variablene i en variabel som du kaller `vars`. Plukk så ut `temp`, `tid`, og `meanTemp` fra `vars`."
   ]
  },
  {
   "cell_type": "markdown",
   "metadata": {},
   "source": [
    "### Oppgave 4\n",
    "\n",
    "I introen nevnte vi at det er lurt å lage funksjonene sine generelle. Å inkludere å ta gjennomsnittet inni `loadData` gjør den litt mindre generell. Det kan være ryddig å kun la `loadData` laste inn data, og istedet lage en ny funksjon som tar gjennomsnittet av disse dataene. \n",
    "\n",
    "Lag en ny funksjon som gjør to ting: \n",
    "- først skal den bruke funksjonen `loadData` til å hente inn datafilen, \n",
    "- så skal den ta gjennomsnittet på samme måte som i oppgave 2. \n",
    "\n",
    "Input variabelen blir `file`, og output variabelen blir kun `dataMean`.\n",
    "\n",
    "Denne funksjonen skal altså bruke en annen funksjon inni seg, og så gi et nytt output. Et hint for å komme igang er at funksjonen `loadData` gjør jo også dette: både np.genfromtxt og np.nonzero er funksjoner som gir output som brukes videre i `loadData`."
   ]
  },
  {
   "cell_type": "markdown",
   "metadata": {},
   "source": [
    "________________\n",
    "\n",
    "### Prosjektoppgave: Funksjon for gjennomsnitt i seksjoner\n",
    "\n",
    "I flere av disse konsept-oppgavene er en del av oppgaven å dele tidsperioden inn i seksjoner som en måte å filtrere rådataene på. Dette kan vi lage en funksjon for slik at det gjøres automatisk. Vi tar utgangspunkt i funksjonene vi har over, og inkludere metoder for å finne indekser som deler inn datasettet i for eksempel tiårs-bolker som vi har gjort i f.eks. \"for-løkke\" oppgaven. \n",
    "\n",
    "Ting å tenke på:\n",
    "- Hvilke ekstra input trengs?\n",
    "- Hvilke output vil vi ha? \n",
    "- Hva skal funksjonen gjøre dersom antall år i hver bolk ikke går opp i antall år i datasettet?\n",
    "- Skal den behandle \"rest-årene\" likt uavhengig av hvor mange det er? Hvis man f.eks. vil dele inn i tiårs-bolker - skal funksjonen gjøre det samme uavhengig av om det er 2 eller 9 restår?"
   ]
  },
  {
   "cell_type": "markdown",
   "metadata": {},
   "source": [
    "### Løsnings*forslag*\n",
    "Husk igjen - denne prosjektoppgaven kan løses på \n",
    "\n",
    "som i oppg 4 kan gjøre dette ryddigere og penere. \n",
    "\n",
    "Denne funksjonen skal\n",
    "- lese inn et datasett fra github mappen til Ekte Data\n",
    "- dele datasettet inn i bolker med lengde angitt av dT (antall år)\n",
    "- kunne håndtere både datasettene med års- og måneds-gjennomsnitt\n",
    "- putte \"rest år\" i en siste bolk dersom lengden ikke går opp med dT, og skrive ut en beskjed om hvilke år som er i denne bolken (dersom aktuelt). Dersom det er færre enn dT/2 restår - legg dem til den siste bolken, dersom det er dT/2 eller flere restår - lag en ny liten bolk. "
   ]
  },
  {
   "cell_type": "code",
   "execution_count": null,
   "metadata": {},
   "outputs": [],
   "source": [
    "def array_mean(\n",
    "    file,dT, \n",
    "    filepath='https://raw.githubusercontent.com/irendundas/EkteData/main/'\n",
    "):\n",
    "    \n",
    "    '''\n",
    "    Denne funksjonen skal\n",
    "    - lese inn et datasett fra github mappen til Ekte Data.\n",
    "    - dele datasettet inn i bolker med lengde angitt av dT (antall år).\n",
    "    - kunne håndtere både datasettene med års- og måneds-gjennomsnitt.\n",
    "    - putte \"rest år\" i en siste bolk dersom lengden ikke går opp med dT, \n",
    "      og skrive ut en beskjed om hvilke år som er i denne bolken (dersom \n",
    "      aktuelt).\n",
    "    - jeg vil gjerne at den skal kunne sjekke om den trenger å ta vekk header \n",
    "      osv selv, men per nå må man ha input på det.\n",
    "    \n",
    "    Input \n",
    "    file     : the name of the txt-file, not including the path, which is \n",
    "    constant and set below. \n",
    "    dT       : the timestep, i.e., the number of years to average across. \n",
    "    \n",
    "    Output\n",
    "    meanVal  : gjennomsnittsverdier i bolker med lengde bestemt av dT.\n",
    "    time     : en tidsvektor med midtpunktene av hver tidsbolk.\n",
    "    \n",
    "    '''\n",
    "    \n",
    "    \n",
    "    # Last inn dataene med np.genfromtxt som vi har brukt før\n",
    "    # Prøv først å laste det inn uten å opggi info om delimeter og skip_header\n",
    "    data = np.genfromtxt(filepath+file, dtype=float)\n",
    "    \n",
    "    # Sjekk om dette funket eller om alt ble NaN.  Dersom alt ble NaN laster vi\n",
    "    # inn datasettet på nytt og inkluderer info om delimeter og skip_header\n",
    "    if len(data) == len(np.nonzero(data)[0]):\n",
    "        data = np.genfromtxt(filepath+file, \n",
    "                             dtype=float, delimiter=',',skip_header=1)\n",
    "        \n",
    "        \n",
    "    data[data==-999.99]=np.nan\n",
    "    T=len(data) # Antall år i datasettet\n",
    "    \n",
    "    start=0 # startindeks\n",
    "    stop=T  # stopindeks\n",
    "    \n",
    "    # Start- og slutt-indeks til hver av \"dT\"-års-bolkene\n",
    "    ind=np.arange(start,stop,dT) \n",
    "    \n",
    "    \n",
    "    # I tilegg til å returnere gjennomsnittsverdiene vil vi ha en vektor med \n",
    "    # tid. Dette gir midtpunktene i hver bolk med desimaler.\n",
    "    time=np.arange(data[0,0]+dT/2,2021,10)\n",
    "    \n",
    "\n",
    "    # In this case dT doesn't add up into T, and some years will be left out. \n",
    "    # We want to take the mean over these as well, and include them at the end \n",
    "    # of the averaged time series. \n",
    "    if T-ind[-1] > 0: \n",
    "        rest=T-ind[-1] # nr of years left out\n",
    "        if rest < dT/2:\n",
    "            ind[-1]=T\n",
    "            print((\n",
    "                f'Dividing the datset into sections of length {dT} leaves out '\n",
    "                f'{rest} year(s) at the end of the time series. The last ' \n",
    "                f'element in the output is the average of these/this {rest} '\n",
    "                f'year(s) combined with the last full period.'\n",
    "            ))\n",
    "        elif rest >= dT/2:\n",
    "            ind=np.append(ind,len(data)) \n",
    "            # Må få med en ekstra tidsperiode i de tilfellene hvor jeg legger \n",
    "            # til en ekstra bolk\n",
    "            time=np.append(time,time[-1]+rest/2)\n",
    "            print((\n",
    "                f'Dividing the datset into sections of length {dT} leaves out '\n",
    "                f'{rest} year(s) at the end of the time series. The last '\n",
    "                f'element in the output is the average of these/this {rest} '\n",
    "                f'year(s).'\n",
    "            ))\n",
    "    \n",
    "    \n",
    "    # dT-bolker x 1 eller 12 avhengig av om det skal bli års- eller månedssnitt\n",
    "    meanVal=np.zeros((len(ind)-1,data.shape[1]-1)) \n",
    "    \n",
    "    if data.shape[1]==2:\n",
    "        for i in range(len(ind)-1): \n",
    "            # for e.g., i=0 blir dette data[ind[0]:ind[1],1]=data[0:dT,1]\n",
    "            meanVal[i]=np.nanmean(data[int(ind[i]):int(ind[i+1]),1]) \n",
    "            \n",
    "    elif data.shape[1]==13:\n",
    "        for mo in range(12): # iterer gjennom månedene\n",
    "            for i in range(len(ind)-1): # iterer gjennom dT-årsperiodene\n",
    "                # vi begynner på \"data\" sin kolonne mo+1 fordi første kolonne i\n",
    "                # \"data\" er årstallene \n",
    "                meanVal[i,mo]=np.nanmean(data[int(ind[i]):int(ind[i+1]),mo+1]) \n",
    "                \n",
    "    # vi vil også gi ut en tidsvektor i heltall avrundet fra \"time\"-vektoren   \n",
    "    #time=np.arange(start+dT/2,stop-dT/2,dT)\n",
    "    meanTime = np.round(np.nextafter(time, time+1))\n",
    "    #timeid = timeid.astype(int)\n",
    "    #meanTime=data[timeid,0]\n",
    "    \n",
    "    return meanVal, time, meanTime"
   ]
  },
  {
   "cell_type": "code",
   "execution_count": null,
   "metadata": {},
   "outputs": [],
   "source": [
    "array_mean(file='TempBergenYearly.txt',dT=13)"
   ]
  },
  {
   "cell_type": "code",
   "execution_count": null,
   "metadata": {},
   "outputs": [],
   "source": []
  }
 ],
 "metadata": {
  "kernelspec": {
   "display_name": "Python 3",
   "language": "python",
   "name": "python3"
  },
  "language_info": {
   "codemirror_mode": {
    "name": "ipython",
    "version": 3
   },
   "file_extension": ".py",
   "mimetype": "text/x-python",
   "name": "python",
   "nbconvert_exporter": "python",
   "pygments_lexer": "ipython3",
   "version": "3.8.5"
  }
 },
 "nbformat": 4,
 "nbformat_minor": 4
}

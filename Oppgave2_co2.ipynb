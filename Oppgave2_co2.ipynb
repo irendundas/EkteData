{
 "cells": [
  {
   "cell_type": "markdown",
   "metadata": {},
   "source": [
    "# Oppgave 2: CO2 og temperatur globalt\n",
    "Målet med denne oppgaven er \n",
    "- å se på når det kan være nyttig med høy oppløsning på data, og når lavere oppløsning gir mest informasjon\n",
    "- forståelse rundt anomalier: Hva beskriver det, og når er det nyttig\n",
    "- bevissthet rundt hvordan man velger å dele opp datasett man bruker, og hvordan man fremstiller resultat"
   ]
  },
  {
   "cell_type": "code",
   "execution_count": 4,
   "metadata": {},
   "outputs": [],
   "source": [
    "import numpy as np\n",
    "import matplotlib.pyplot as plt\n",
    "from EkteDataFunk import loadData # for filinnlasting\n"
   ]
  },
  {
   "cell_type": "code",
   "execution_count": 6,
   "metadata": {},
   "outputs": [],
   "source": [
    "file='CO2GlobalMonthly.txt'\n",
    "data = loadData(file, rydd='N')"
   ]
  },
  {
   "cell_type": "code",
   "execution_count": 8,
   "metadata": {},
   "outputs": [
    {
     "data": {
      "text/plain": [
       "(488, 5)"
      ]
     },
     "execution_count": 8,
     "metadata": {},
     "output_type": "execute_result"
    }
   ],
   "source": [
    "data.shape"
   ]
  },
  {
   "cell_type": "markdown",
   "metadata": {},
   "source": [
    "Denne datafilen er organisert slik at først kolonne er år, og andre kolonne er måned-nummer. For å få en tids-vektor som er praktisk å plotte med lager vi en ny. "
   ]
  },
  {
   "cell_type": "code",
   "execution_count": 12,
   "metadata": {},
   "outputs": [
    {
     "name": "stdout",
     "output_type": "stream",
     "text": [
      "startyear:  1980.0\n",
      "endyear:  2020.0\n",
      "startmonth:  1.0\n",
      "endmonth:  8.0\n"
     ]
    }
   ],
   "source": [
    "time=data[:,0]\n",
    "print('startyear: ',time[0])\n",
    "print('endyear: ',time[-1])\n",
    "print('startmonth: ',data[0,1])\n",
    "print('endmonth: ',data[-1,1])\n",
    "co2=data[:,3]"
   ]
  },
  {
   "cell_type": "markdown",
   "metadata": {},
   "source": []
  },
  {
   "cell_type": "code",
   "execution_count": 18,
   "metadata": {},
   "outputs": [],
   "source": [
    "import pandas as pd\n",
    "import datetime\n",
    "date=pd.date_range(start=time[0],end=time[-1]).tolist()\n"
   ]
  },
  {
   "cell_type": "code",
   "execution_count": 19,
   "metadata": {},
   "outputs": [
    {
     "data": {
      "text/plain": [
       "[Timestamp('1970-01-01 00:00:00.000001980', freq='D')]"
      ]
     },
     "execution_count": 19,
     "metadata": {},
     "output_type": "execute_result"
    }
   ],
   "source": [
    "date"
   ]
  },
  {
   "cell_type": "code",
   "execution_count": null,
   "metadata": {},
   "outputs": [],
   "source": []
  }
 ],
 "metadata": {
  "kernelspec": {
   "display_name": "Python 3",
   "language": "python",
   "name": "python3"
  },
  "language_info": {
   "codemirror_mode": {
    "name": "ipython",
    "version": 3
   },
   "file_extension": ".py",
   "mimetype": "text/x-python",
   "name": "python",
   "nbconvert_exporter": "python",
   "pygments_lexer": "ipython3",
   "version": "3.8.5"
  }
 },
 "nbformat": 4,
 "nbformat_minor": 4
}

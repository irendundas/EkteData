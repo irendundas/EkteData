{
 "cells": [
  {
   "cell_type": "markdown",
   "metadata": {},
   "source": [
    "# Del 0: Kom i gang\n",
    "\n",
    "## Jupyter notebook og programmering i Python\n",
    "\n",
    "I NAT624 bruker vi Jupyter Notebooks til å skrive kode i Python. **Python** er programmeringsspråket, og **Jupyter Notebook** er programmet du skriver kode i. Vi bruker notebooks fordi da kan vi skrive kode, vanlig tekst og vise figurer og data i ett og samme dokument. \n",
    "\n",
    "I denne notebooken går vi gjennom litt terminologi og generelle kjøreregler for programmering i python. Introduksjon til hvordan man faktisk arbeider med variabler og data kommer i neste del: [Del1 Introduksjon til programmering i python](https://github.com/irendundas/EkteData/blob/main/Level1_Temperaturoppgaven/Del1_Intro_til_programmering_i_python.ipynb).\n",
    "\n",
    "\n",
    "___________\n",
    "\n",
    "### 1. Komponentene i en Jupyter notebook\n",
    "\n",
    "En notebook består av **celler**. Disse cellene er enten **kode**-celler skrevet i python eller **markdown**-celler med text (som denne cellen). Cellene er automatisk kode-celler. For å gjøre en kode-celle om til en tekst-celle trykker du på **Esc+m**. Det finnes mange slike snarveier. **Esc** setter deg i **Command mode** og gjør at du kan navigere mellom celler, legge til celler, fjerne celler etc. Trykker du **Enter** er du i **edit mode** som betyr at du gjør endringen inne i den cellen du står i. For en oversikt over snarveier trykk **Esc+H**. \n",
    "\n",
    "**Skriptet** er hele denne filen med alle kode- og tekstcellene.\n",
    "\n",
    "**Kjøringen** starter idet du åpner skriptet og frem til du lagrer og lukker skriptet. \n",
    "\n",
    "For å kjøre en kode-celle eller formattere en tekst-celle, trykk **Shift+Enter**. Du kan bruke piltastene for å navigere mellom celler, eller trykke direkte i en celle. \n",
    "\n",
    "For å **editere** en celle, trykk **Enter** eller dobbelklikk. Prøv dette i denne cellen for å se hvordan overskriften og tjukk skrift er spesifisert. Kjør så cellen for å formatter den igjen.  \n",
    "\n",
    "Cellen under er et eksempel på en kode-celle:"
   ]
  },
  {
   "cell_type": "code",
   "execution_count": 1,
   "metadata": {},
   "outputs": [
    {
     "name": "stdout",
     "output_type": "stream",
     "text": [
      "Dette er Python-kode\n"
     ]
    }
   ],
   "source": [
    "print('Dette er Python-kode')"
   ]
  },
  {
   "cell_type": "code",
   "execution_count": 2,
   "metadata": {},
   "outputs": [],
   "source": [
    "# Du kan skrive kommentarer i kode-celler ved å skrive \"#\" først"
   ]
  },
  {
   "cell_type": "markdown",
   "metadata": {},
   "source": [
    "Kommentarer i kode-celler er nyttig for å forklare hva som skjer på spesifikke linjer i koden. Selv om du husker hva koden gjør i det du skriver den, så husker du sannsynligvis ikke detaljene om en uke eller to. Da er det greit med noen forklarende kommentarer slik som under:"
   ]
  },
  {
   "cell_type": "code",
   "execution_count": 3,
   "metadata": {},
   "outputs": [],
   "source": [
    "Temp=3 # temperaturen er 3 grader C"
   ]
  },
  {
   "cell_type": "markdown",
   "metadata": {},
   "source": [
    "`Temp` er nå er **variabel**. Det betyr at `Temp` er lagret i denne kjøringen. Neste gang du åpner dette skriptet må du kjøre linjen på nytt for at koden skal vite at `Temp=3`. Mer om variabler kommer i neste [del](https://github.com/irendundas/EkteData/blob/main/NAT624/Del1_Intro_til_programmering_i_python.ipynb). "
   ]
  },
  {
   "cell_type": "markdown",
   "metadata": {},
   "source": [
    "### 2. Syntax og rekkefølge\n",
    "\n",
    "**Syntax** er gramatikk for koding. For eksempel når vi skriver `print('hei')` er `print('')` syntaksen for å skrive ut tekst i kode."
   ]
  },
  {
   "cell_type": "code",
   "execution_count": 4,
   "metadata": {},
   "outputs": [
    {
     "name": "stdout",
     "output_type": "stream",
     "text": [
      "hei\n"
     ]
    }
   ],
   "source": [
    "print('hei')"
   ]
  },
  {
   "cell_type": "markdown",
   "metadata": {},
   "source": [
    "Syntaksen må være **korrekt**. Python skjønner ikke forskjell på f.eks. en ny variabel og en skrivefeil. Dette er nyttig fordi det gjør at vi vet nøyaktig hva programmet gjør - det gjør kun akkurat det vi har spesifisert. "
   ]
  },
  {
   "cell_type": "code",
   "execution_count": 5,
   "metadata": {},
   "outputs": [
    {
     "ename": "SyntaxError",
     "evalue": "unexpected EOF while parsing (<ipython-input-5-e46b86369fef>, line 2)",
     "output_type": "error",
     "traceback": [
      "\u001b[1;36m  File \u001b[1;32m\"<ipython-input-5-e46b86369fef>\"\u001b[1;36m, line \u001b[1;32m2\u001b[0m\n\u001b[1;33m    print('hei'\u001b[0m\n\u001b[1;37m               ^\u001b[0m\n\u001b[1;31mSyntaxError\u001b[0m\u001b[1;31m:\u001b[0m unexpected EOF while parsing\n"
     ]
    }
   ],
   "source": [
    "# hva skjer hvis vi bruker feil syntax, f.eks. glemmer en slutt-parantes?\n",
    "print('hei'"
   ]
  },
  {
   "cell_type": "code",
   "execution_count": null,
   "metadata": {},
   "outputs": [],
   "source": [
    "# Hva skjer hvis vi skriver variabelen Temp som vi definerte over med liten t?\n",
    "temp"
   ]
  },
  {
   "cell_type": "code",
   "execution_count": null,
   "metadata": {},
   "outputs": [],
   "source": [
    "Temp"
   ]
  },
  {
   "cell_type": "markdown",
   "metadata": {},
   "source": [
    "Python-syntaxen er **case-sensitive**. `T` er f.eks. ikke lik `t`. "
   ]
  },
  {
   "cell_type": "markdown",
   "metadata": {},
   "source": [
    "**Rekkefølge** er viktig når man koder. Python vet kun nøyaktig det du har spesifisert. \n",
    "\n",
    "Hver gang du åpner et skript du jobber med må du kjøre gjennom cellene i kronologisk rekkefølge. Jobber du f.eks. med et datasett må du laste inn datasettet i koden på nytt hver gang - programmet husker ikke dette fra gang til gang. "
   ]
  },
  {
   "cell_type": "code",
   "execution_count": null,
   "metadata": {},
   "outputs": [],
   "source": [
    "# Eksempel: Python kjører én og én linje. Selv om all informasjonen som trengs \n",
    "# for addere a og b finnes i samme kodecelle kan ikke python addere a og b når\n",
    "# b defineres til slutt. \n",
    "a=4\n",
    "print(a+b)\n",
    "b=2"
   ]
  },
  {
   "cell_type": "code",
   "execution_count": null,
   "metadata": {},
   "outputs": [],
   "source": [
    "a=4\n",
    "b=2\n",
    "print(a+b)"
   ]
  },
  {
   "cell_type": "markdown",
   "metadata": {},
   "source": [
    "### 3. Bibliotek og funksjoner\n",
    "\n",
    "I så godt som alle python-skript må du starte med å laste inn **bibliotek**. Dette er python-kode som andre har utviklet og som vi trenger for å gjøre regneoperasjoner og databehandling. Når folk snakker om **bibliotek** og **pakker** mener de det samme. "
   ]
  },
  {
   "cell_type": "code",
   "execution_count": null,
   "metadata": {},
   "outputs": [],
   "source": [
    "import numpy \n",
    "import matplotlib"
   ]
  },
  {
   "cell_type": "markdown",
   "metadata": {},
   "source": [
    "**numpy** og **matplotlib** er to slike bibliotek. Akkurat disse bruker vi til å gjøre matematiske operasjoner og å lage figurer. For å bruke funksjonene som numpy og matplotlob inneholder må vi først kjøre cellen over. "
   ]
  },
  {
   "cell_type": "markdown",
   "metadata": {},
   "source": [
    "En **funksjon** er en operasjon eller metode. Man kan lage funksjoner selv og bruke funksjoner fra pakker som `Numpy` og `matplotlib`."
   ]
  },
  {
   "cell_type": "code",
   "execution_count": null,
   "metadata": {},
   "outputs": [],
   "source": [
    "numpy.max([2, 6, 11, 9])"
   ]
  },
  {
   "cell_type": "markdown",
   "metadata": {},
   "source": [
    "Disse bruker **dot-notasjon**: for å bruke en funksjon fra et bibliotek skriver man navnet til biblioteket, så et punktum, og så navnet på funksjonen. "
   ]
  },
  {
   "cell_type": "code",
   "execution_count": null,
   "metadata": {},
   "outputs": [],
   "source": [
    "# Numpy har en funksjon som tar gjennomsnitt\n",
    "numpy.mean([3, 7, 1, -5])"
   ]
  },
  {
   "cell_type": "code",
   "execution_count": null,
   "metadata": {},
   "outputs": [],
   "source": [
    "# Vanligvis forkorter man numpy til np:\n",
    "import numpy as np"
   ]
  },
  {
   "cell_type": "code",
   "execution_count": null,
   "metadata": {},
   "outputs": [],
   "source": [
    "np.mean([5, 2, 7, -12])"
   ]
  },
  {
   "cell_type": "markdown",
   "metadata": {},
   "source": [
    "**Matplotlib** har en undermappe som heter **Pyplot** - her ligger nesten alle funksjonene vi trenger fra Matplotlib, så vanligvis importerer vi denne direkte, og forkorter den til **plt**:"
   ]
  },
  {
   "cell_type": "code",
   "execution_count": null,
   "metadata": {},
   "outputs": [],
   "source": [
    "import matplotlib.pyplot as plt"
   ]
  },
  {
   "cell_type": "markdown",
   "metadata": {},
   "source": [
    "**plt** har bl.a. en funksjon som heter **plot** som vi bruker til linjeplot:"
   ]
  },
  {
   "cell_type": "code",
   "execution_count": null,
   "metadata": {},
   "outputs": [],
   "source": [
    "plt.plot([1, 2, 3, 4, 5], [5, 3, 2, 1.5, 1.3])"
   ]
  },
  {
   "cell_type": "markdown",
   "metadata": {},
   "source": [
    "Vi kommer tilbake til hvordan vi lager finere figurer seinere, og er du spesielt nteressert i dette kan du se på oppgavene [Konseptoppgaver/Figurer.ipynb](https://github.com/irendundas/EkteData/blob/main/Konseptoppgaver/Figurer.ipynb) og [Level 2: Nedbørsoppgaven/Del3 Plotting av tidsserier](https://github.com/irendundas/EkteData/blob/main/Level2_Nedb%C3%B8rsoppgaven/Del3_Plotting_av_tidsserier.ipynb)."
   ]
  },
  {
   "cell_type": "markdown",
   "metadata": {},
   "source": [
    "Med kjennskap til disse grunnleggende konseptene og begrepene har vi kontroll på hvordan vi skal sette i gang med å jobbe med Python :D"
   ]
  },
  {
   "cell_type": "code",
   "execution_count": null,
   "metadata": {},
   "outputs": [],
   "source": []
  }
 ],
 "metadata": {
  "kernelspec": {
   "display_name": "Python 3",
   "language": "python",
   "name": "python3"
  },
  "language_info": {
   "codemirror_mode": {
    "name": "ipython",
    "version": 3
   },
   "file_extension": ".py",
   "mimetype": "text/x-python",
   "name": "python",
   "nbconvert_exporter": "python",
   "pygments_lexer": "ipython3",
   "version": "3.8.5"
  }
 },
 "nbformat": 4,
 "nbformat_minor": 5
}

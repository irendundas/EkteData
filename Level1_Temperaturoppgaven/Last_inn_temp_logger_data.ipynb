{
 "cells": [
  {
   "cell_type": "markdown",
   "metadata": {},
   "source": [
    "## Dette er en mal på hvordan laste inn dataset fra temperaturloggerne brukt i 2023"
   ]
  },
  {
   "cell_type": "code",
   "execution_count": 9,
   "metadata": {},
   "outputs": [],
   "source": [
    "import matplotlib.pyplot as plt \n",
    "import pandas as pd\n",
    "import numpy as np\n",
    "from datetime import datetime"
   ]
  },
  {
   "cell_type": "code",
   "execution_count": 54,
   "metadata": {},
   "outputs": [],
   "source": [
    "# !!! Endre dette til der du har din fil på din PC !!!\n",
    "sti='C:/Users/vdu001/Downloads'\n",
    "fil='/testing excel ark - fritt fram testing csv.csv'"
   ]
  },
  {
   "cell_type": "code",
   "execution_count": 55,
   "metadata": {},
   "outputs": [],
   "source": [
    "# Vi kommer tilbake til hvordan denne funksjonen funker\n",
    "# Ta evt en titt på oppgave 4 og 5 for mer info\n",
    "df=pd.read_csv(\n",
    "    sti+fil, index_col=0, delimiter=';', \n",
    "    skiprows=26, engine='python', decimal=\",\"\n",
    ")"
   ]
  },
  {
   "cell_type": "code",
   "execution_count": 56,
   "metadata": {},
   "outputs": [
    {
     "data": {
      "text/html": [
       "<div>\n",
       "<style scoped>\n",
       "    .dataframe tbody tr th:only-of-type {\n",
       "        vertical-align: middle;\n",
       "    }\n",
       "\n",
       "    .dataframe tbody tr th {\n",
       "        vertical-align: top;\n",
       "    }\n",
       "\n",
       "    .dataframe thead th {\n",
       "        text-align: right;\n",
       "    }\n",
       "</style>\n",
       "<table border=\"1\" class=\"dataframe\">\n",
       "  <thead>\n",
       "    <tr style=\"text-align: right;\">\n",
       "      <th></th>\n",
       "      <th>Time</th>\n",
       "      <th>TemperatureÂ°C</th>\n",
       "      <th>Unnamed: 3</th>\n",
       "      <th>Unnamed: 4</th>\n",
       "      <th>Unnamed: 5</th>\n",
       "      <th>Unnamed: 6</th>\n",
       "    </tr>\n",
       "    <tr>\n",
       "      <th>No.</th>\n",
       "      <th></th>\n",
       "      <th></th>\n",
       "      <th></th>\n",
       "      <th></th>\n",
       "      <th></th>\n",
       "      <th></th>\n",
       "    </tr>\n",
       "  </thead>\n",
       "  <tbody>\n",
       "    <tr>\n",
       "      <th>1</th>\n",
       "      <td>2023-02-05 10:00:01</td>\n",
       "      <td>1.6</td>\n",
       "      <td>NaN</td>\n",
       "      <td>NaN</td>\n",
       "      <td>NaN</td>\n",
       "      <td>NaN</td>\n",
       "    </tr>\n",
       "    <tr>\n",
       "      <th>2</th>\n",
       "      <td>2023-02-05 10:05:01</td>\n",
       "      <td>1.6</td>\n",
       "      <td>NaN</td>\n",
       "      <td>NaN</td>\n",
       "      <td>NaN</td>\n",
       "      <td>NaN</td>\n",
       "    </tr>\n",
       "    <tr>\n",
       "      <th>3</th>\n",
       "      <td>2023-02-05 10:10:01</td>\n",
       "      <td>1.6</td>\n",
       "      <td>NaN</td>\n",
       "      <td>Testing av regning</td>\n",
       "      <td>NaN</td>\n",
       "      <td>NaN</td>\n",
       "    </tr>\n",
       "    <tr>\n",
       "      <th>4</th>\n",
       "      <td>2023-02-05 10:15:01</td>\n",
       "      <td>1.7</td>\n",
       "      <td>NaN</td>\n",
       "      <td>Gjennomsnittstemperatur</td>\n",
       "      <td>4.92</td>\n",
       "      <td>NaN</td>\n",
       "    </tr>\n",
       "    <tr>\n",
       "      <th>5</th>\n",
       "      <td>2023-02-05 10:20:01</td>\n",
       "      <td>1.7</td>\n",
       "      <td>NaN</td>\n",
       "      <td>NaN</td>\n",
       "      <td>NaN</td>\n",
       "      <td>NaN</td>\n",
       "    </tr>\n",
       "    <tr>\n",
       "      <th>...</th>\n",
       "      <td>...</td>\n",
       "      <td>...</td>\n",
       "      <td>...</td>\n",
       "      <td>...</td>\n",
       "      <td>...</td>\n",
       "      <td>...</td>\n",
       "    </tr>\n",
       "    <tr>\n",
       "      <th>2260</th>\n",
       "      <td>2023-02-13 06:15:01</td>\n",
       "      <td>5.9</td>\n",
       "      <td>NaN</td>\n",
       "      <td>NaN</td>\n",
       "      <td>NaN</td>\n",
       "      <td>NaN</td>\n",
       "    </tr>\n",
       "    <tr>\n",
       "      <th>2261</th>\n",
       "      <td>2023-02-13 06:20:01</td>\n",
       "      <td>11.6</td>\n",
       "      <td>NaN</td>\n",
       "      <td>NaN</td>\n",
       "      <td>NaN</td>\n",
       "      <td>NaN</td>\n",
       "    </tr>\n",
       "    <tr>\n",
       "      <th>2262</th>\n",
       "      <td>2023-02-13 06:25:01</td>\n",
       "      <td>15.0</td>\n",
       "      <td>NaN</td>\n",
       "      <td>NaN</td>\n",
       "      <td>NaN</td>\n",
       "      <td>NaN</td>\n",
       "    </tr>\n",
       "    <tr>\n",
       "      <th>2263</th>\n",
       "      <td>2023-02-13 06:30:01</td>\n",
       "      <td>18.1</td>\n",
       "      <td>NaN</td>\n",
       "      <td>NaN</td>\n",
       "      <td>NaN</td>\n",
       "      <td>NaN</td>\n",
       "    </tr>\n",
       "    <tr>\n",
       "      <th>2264</th>\n",
       "      <td>2023-02-13 06:35:01</td>\n",
       "      <td>21.3</td>\n",
       "      <td>NaN</td>\n",
       "      <td>NaN</td>\n",
       "      <td>NaN</td>\n",
       "      <td>NaN</td>\n",
       "    </tr>\n",
       "  </tbody>\n",
       "</table>\n",
       "<p>2264 rows × 6 columns</p>\n",
       "</div>"
      ],
      "text/plain": [
       "                     Time  TemperatureÂ°C  Unnamed: 3  \\\n",
       "No.                                                     \n",
       "1     2023-02-05 10:00:01             1.6         NaN   \n",
       "2     2023-02-05 10:05:01             1.6         NaN   \n",
       "3     2023-02-05 10:10:01             1.6         NaN   \n",
       "4     2023-02-05 10:15:01             1.7         NaN   \n",
       "5     2023-02-05 10:20:01             1.7         NaN   \n",
       "...                   ...             ...         ...   \n",
       "2260  2023-02-13 06:15:01             5.9         NaN   \n",
       "2261  2023-02-13 06:20:01            11.6         NaN   \n",
       "2262  2023-02-13 06:25:01            15.0         NaN   \n",
       "2263  2023-02-13 06:30:01            18.1         NaN   \n",
       "2264  2023-02-13 06:35:01            21.3         NaN   \n",
       "\n",
       "                   Unnamed: 4  Unnamed: 5  Unnamed: 6  \n",
       "No.                                                    \n",
       "1                         NaN         NaN         NaN  \n",
       "2                         NaN         NaN         NaN  \n",
       "3          Testing av regning         NaN         NaN  \n",
       "4     Gjennomsnittstemperatur        4.92         NaN  \n",
       "5                         NaN         NaN         NaN  \n",
       "...                       ...         ...         ...  \n",
       "2260                      NaN         NaN         NaN  \n",
       "2261                      NaN         NaN         NaN  \n",
       "2262                      NaN         NaN         NaN  \n",
       "2263                      NaN         NaN         NaN  \n",
       "2264                      NaN         NaN         NaN  \n",
       "\n",
       "[2264 rows x 6 columns]"
      ]
     },
     "execution_count": 56,
     "metadata": {},
     "output_type": "execute_result"
    }
   ],
   "source": [
    "df"
   ]
  },
  {
   "cell_type": "code",
   "execution_count": 57,
   "metadata": {},
   "outputs": [
    {
     "data": {
      "text/plain": [
       "No.\n",
       "1       2023-02-05 10:00:01\n",
       "2       2023-02-05 10:05:01\n",
       "3       2023-02-05 10:10:01\n",
       "4       2023-02-05 10:15:01\n",
       "5       2023-02-05 10:20:01\n",
       "               ...         \n",
       "2260    2023-02-13 06:15:01\n",
       "2261    2023-02-13 06:20:01\n",
       "2262    2023-02-13 06:25:01\n",
       "2263    2023-02-13 06:30:01\n",
       "2264    2023-02-13 06:35:01\n",
       "Name: Time, Length: 2264, dtype: object"
      ]
     },
     "execution_count": 57,
     "metadata": {},
     "output_type": "execute_result"
    }
   ],
   "source": [
    "# Lagre den første kolonnen som \"tid\"\n",
    "tid=df.iloc[:,0]\n",
    "tid"
   ]
  },
  {
   "cell_type": "code",
   "execution_count": 41,
   "metadata": {},
   "outputs": [],
   "source": [
    "# Konverter informasjonen i vektoren \"tid\" til et format som python \n",
    "# greier å tolke som en dato\n",
    "tid=[datetime.strptime(tid[i], '%Y-%m-%d %H:%M:%S') for i in range(1,len(tid)+1)]"
   ]
  },
  {
   "cell_type": "code",
   "execution_count": 42,
   "metadata": {},
   "outputs": [
    {
     "data": {
      "text/plain": [
       "No.\n",
       "1        1.6\n",
       "2        1.6\n",
       "3        1.6\n",
       "4        1.7\n",
       "5        1.7\n",
       "        ... \n",
       "2260     5.9\n",
       "2261    11.6\n",
       "2262    15.0\n",
       "2263    18.1\n",
       "2264    21.3\n",
       "Name: TemperatureÂ°C, Length: 2264, dtype: float64"
      ]
     },
     "execution_count": 42,
     "metadata": {},
     "output_type": "execute_result"
    }
   ],
   "source": [
    "# Lagre den andre kolonnen som \"temp\"\n",
    "temp=df.iloc[:,1]\n",
    "temp"
   ]
  },
  {
   "cell_type": "code",
   "execution_count": 43,
   "metadata": {},
   "outputs": [
    {
     "data": {
      "image/png": "[encoded data removed]",
      "text/plain": [
       "<Figure size 432x288 with 1 Axes>"
      ]
     },
     "metadata": {
      "needs_background": "light"
     },
     "output_type": "display_data"
    }
   ],
   "source": [
    "# Lage en figur for å ta en titt på dataene\n",
    "plt.plot(tid, temp)\n",
    "plt.xticks(rotation = 45)\n",
    "plt.show()"
   ]
  },
  {
   "cell_type": "markdown",
   "metadata": {},
   "source": [
    "#### Eksempel med en fil på et litt annet format"
   ]
  },
  {
   "cell_type": "code",
   "execution_count": 2,
   "metadata": {},
   "outputs": [],
   "source": [
    "sti=r'W:\\Work\\Documents\\EkteData\\ikkeGit\\div_Data'\n",
    "fil=r'\\Temperaturmåling2.txt'"
   ]
  },
  {
   "cell_type": "code",
   "execution_count": 3,
   "metadata": {},
   "outputs": [],
   "source": [
    "df=pd.read_csv(\n",
    "    sti+fil, delimiter=',', \n",
    "    engine='python', parse_dates=['Dato'], dayfirst=True\n",
    ")"
   ]
  },
  {
   "cell_type": "code",
   "execution_count": 4,
   "metadata": {},
   "outputs": [
    {
     "data": {
      "text/html": [
       "<div>\n",
       "<style scoped>\n",
       "    .dataframe tbody tr th:only-of-type {\n",
       "        vertical-align: middle;\n",
       "    }\n",
       "\n",
       "    .dataframe tbody tr th {\n",
       "        vertical-align: top;\n",
       "    }\n",
       "\n",
       "    .dataframe thead th {\n",
       "        text-align: right;\n",
       "    }\n",
       "</style>\n",
       "<table border=\"1\" class=\"dataframe\">\n",
       "  <thead>\n",
       "    <tr style=\"text-align: right;\">\n",
       "      <th></th>\n",
       "      <th>Dato</th>\n",
       "      <th>temp</th>\n",
       "      <th>desimal</th>\n",
       "    </tr>\n",
       "  </thead>\n",
       "  <tbody>\n",
       "    <tr>\n",
       "      <th>0</th>\n",
       "      <td>2023-02-01 00:08:40</td>\n",
       "      <td>2</td>\n",
       "      <td>4.0</td>\n",
       "    </tr>\n",
       "    <tr>\n",
       "      <th>1</th>\n",
       "      <td>2023-02-01 00:18:40</td>\n",
       "      <td>2</td>\n",
       "      <td>2.0</td>\n",
       "    </tr>\n",
       "    <tr>\n",
       "      <th>2</th>\n",
       "      <td>2023-02-01 00:28:40</td>\n",
       "      <td>2</td>\n",
       "      <td>1.0</td>\n",
       "    </tr>\n",
       "    <tr>\n",
       "      <th>3</th>\n",
       "      <td>2023-02-01 00:38:40</td>\n",
       "      <td>2</td>\n",
       "      <td>2.0</td>\n",
       "    </tr>\n",
       "    <tr>\n",
       "      <th>4</th>\n",
       "      <td>2023-02-01 00:48:40</td>\n",
       "      <td>2</td>\n",
       "      <td>3.0</td>\n",
       "    </tr>\n",
       "    <tr>\n",
       "      <th>...</th>\n",
       "      <td>...</td>\n",
       "      <td>...</td>\n",
       "      <td>...</td>\n",
       "    </tr>\n",
       "    <tr>\n",
       "      <th>2155</th>\n",
       "      <td>2023-02-15 23:18:40</td>\n",
       "      <td>4</td>\n",
       "      <td>4.0</td>\n",
       "    </tr>\n",
       "    <tr>\n",
       "      <th>2156</th>\n",
       "      <td>2023-02-15 23:28:40</td>\n",
       "      <td>4</td>\n",
       "      <td>4.0</td>\n",
       "    </tr>\n",
       "    <tr>\n",
       "      <th>2157</th>\n",
       "      <td>2023-02-15 23:38:40</td>\n",
       "      <td>4</td>\n",
       "      <td>4.0</td>\n",
       "    </tr>\n",
       "    <tr>\n",
       "      <th>2158</th>\n",
       "      <td>2023-02-15 23:48:40</td>\n",
       "      <td>4</td>\n",
       "      <td>5.0</td>\n",
       "    </tr>\n",
       "    <tr>\n",
       "      <th>2159</th>\n",
       "      <td>2023-02-15 23:58:40</td>\n",
       "      <td>4</td>\n",
       "      <td>5.0</td>\n",
       "    </tr>\n",
       "  </tbody>\n",
       "</table>\n",
       "<p>2160 rows × 3 columns</p>\n",
       "</div>"
      ],
      "text/plain": [
       "                    Dato   temp   desimal\n",
       "0    2023-02-01 00:08:40      2       4.0\n",
       "1    2023-02-01 00:18:40      2       2.0\n",
       "2    2023-02-01 00:28:40      2       1.0\n",
       "3    2023-02-01 00:38:40      2       2.0\n",
       "4    2023-02-01 00:48:40      2       3.0\n",
       "...                  ...    ...       ...\n",
       "2155 2023-02-15 23:18:40      4       4.0\n",
       "2156 2023-02-15 23:28:40      4       4.0\n",
       "2157 2023-02-15 23:38:40      4       4.0\n",
       "2158 2023-02-15 23:48:40      4       5.0\n",
       "2159 2023-02-15 23:58:40      4       5.0\n",
       "\n",
       "[2160 rows x 3 columns]"
      ]
     },
     "execution_count": 4,
     "metadata": {},
     "output_type": "execute_result"
    }
   ],
   "source": [
    "df"
   ]
  },
  {
   "cell_type": "code",
   "execution_count": 5,
   "metadata": {},
   "outputs": [
    {
     "data": {
      "text/plain": [
       "0      2023-02-01 00:08:40\n",
       "1      2023-02-01 00:18:40\n",
       "2      2023-02-01 00:28:40\n",
       "3      2023-02-01 00:38:40\n",
       "4      2023-02-01 00:48:40\n",
       "               ...        \n",
       "2155   2023-02-15 23:18:40\n",
       "2156   2023-02-15 23:28:40\n",
       "2157   2023-02-15 23:38:40\n",
       "2158   2023-02-15 23:48:40\n",
       "2159   2023-02-15 23:58:40\n",
       "Name: Dato, Length: 2160, dtype: datetime64[ns]"
      ]
     },
     "execution_count": 5,
     "metadata": {},
     "output_type": "execute_result"
    }
   ],
   "source": [
    "# Lagre den første kolonnen som \"tid\"\n",
    "tid=df.iloc[:,0]\n",
    "tid"
   ]
  },
  {
   "cell_type": "code",
   "execution_count": 6,
   "metadata": {},
   "outputs": [
    {
     "data": {
      "text/plain": [
       "0       2\n",
       "1       2\n",
       "2       2\n",
       "3       2\n",
       "4       2\n",
       "       ..\n",
       "2155    4\n",
       "2156    4\n",
       "2157    4\n",
       "2158    4\n",
       "2159    4\n",
       "Name:  temp, Length: 2160, dtype: int64"
      ]
     },
     "execution_count": 6,
     "metadata": {},
     "output_type": "execute_result"
    }
   ],
   "source": [
    "# Lagre den andre kolonnen som \"temp\"\n",
    "temp=df.iloc[:,1]\n",
    "temp"
   ]
  },
  {
   "cell_type": "code",
   "execution_count": 11,
   "metadata": {},
   "outputs": [
    {
     "data": {
      "text/plain": [
       "array([4., 2., 1., ..., 4., 5., 5.])"
      ]
     },
     "execution_count": 11,
     "metadata": {},
     "output_type": "execute_result"
    }
   ],
   "source": [
    "desimal=np.copy(df.iloc[:,2])\n",
    "desimal"
   ]
  },
  {
   "cell_type": "code",
   "execution_count": 12,
   "metadata": {},
   "outputs": [],
   "source": [
    "# Der det ikke er noen desimaler blir dette NaN. Sett dette til 0 istedet \n",
    "# slik at \"temp\" ikke ender opp som NaN der det ikke er desimaler. \n",
    "desimal[np.isnan(desimal)]=0"
   ]
  },
  {
   "cell_type": "code",
   "execution_count": 13,
   "metadata": {},
   "outputs": [
    {
     "data": {
      "text/plain": [
       "0       2.4\n",
       "1       2.2\n",
       "2       2.1\n",
       "3       2.2\n",
       "4       2.3\n",
       "       ... \n",
       "2155    4.4\n",
       "2156    4.4\n",
       "2157    4.4\n",
       "2158    4.5\n",
       "2159    4.5\n",
       "Name:  temp, Length: 2160, dtype: float64"
      ]
     },
     "execution_count": 13,
     "metadata": {},
     "output_type": "execute_result"
    }
   ],
   "source": [
    "temp=temp+0.1*desimal\n",
    "temp"
   ]
  },
  {
   "cell_type": "code",
   "execution_count": 14,
   "metadata": {},
   "outputs": [
    {
     "data": {
      "image/png": "[encoded data removed]",
      "text/plain": [
       "<Figure size 432x288 with 1 Axes>"
      ]
     },
     "metadata": {
      "needs_background": "light"
     },
     "output_type": "display_data"
    }
   ],
   "source": [
    "# Lage en figur for å ta en titt på dataene\n",
    "plt.plot(tid, temp)\n",
    "plt.xticks(rotation = 45)\n",
    "plt.show()"
   ]
  },
  {
   "cell_type": "code",
   "execution_count": null,
   "metadata": {},
   "outputs": [],
   "source": []
  }
 ],
 "metadata": {
  "kernelspec": {
   "display_name": "Python 3",
   "language": "python",
   "name": "python3"
  },
  "language_info": {
   "codemirror_mode": {
    "name": "ipython",
    "version": 3
   },
   "file_extension": ".py",
   "mimetype": "text/x-python",
   "name": "python",
   "nbconvert_exporter": "python",
   "pygments_lexer": "ipython3",
   "version": "3.8.5"
  }
 },
 "nbformat": 4,
 "nbformat_minor": 4
}

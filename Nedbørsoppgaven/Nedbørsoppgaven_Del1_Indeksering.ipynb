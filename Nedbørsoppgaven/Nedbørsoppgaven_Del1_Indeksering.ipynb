{
 "cells": [
  {
   "cell_type": "markdown",
   "metadata": {},
   "source": [
    "## Nedbørsoppgaven Del 1: Indeksering\n",
    "\n",
    "*Nedbørsoppgavene Del 1 til 5 er laget som støtte-oppgaver til oppgaven \"Nedbør i Norge\". Oppgaven \"Nedbør i Norge\" er en lengre oppgave som kommer innom mange forskjellige programerings-elementer. Intensjonen er at hvis man først gjør deloppgavene 1 til 5 og så går gjennom det nokså omfattende eksempelet på starten av oppgaven \"Nedbør i Norge\" så vil det programeringstekniske i oppgaven \"Nedbør i Norge\" være repetisjon, slik at man kan fokusere på den naturvitenskaplige tolkningen av dataene. På denne måten får man både trening i programmering og erfaring med hvordan det kan brukes til å studere og forstå naturvitenskaplige prosesser.*\n",
    "\n",
    "-----------\n",
    "\n",
    "**Generelle regler for indeksering i Python:**\n",
    "- Når man angir indekser i Python bruker man brakkeparanteser `[]`. \n",
    "- Indekser MÅ være integers - altså det kan ikke være noen desimaler, og det holder ikke at desimalen er 0. \n",
    "- Python starter indekseringen sin på 0. \n",
    "- Den siste indeksen er -1. Den nest siste er -2 etc. \n",
    "- Skal man ha alle indekser i en rad eller kolonne bruker man kolon.\n",
    "- I en matrise med to dimensjoner er den første indeksen alltid **r**adene, mens den andre indeksen er **k**olonnene. Tenk f.eks. \"**R**ace **C**ar\", altså \"**R**ow **C**olumn\"\n",
    "- Skal man ha tak i mer enn en, men ikke alle, elementene skriver man `[a:b]`. Dette betyr element `a` til *men ikke med* `b`. \n",
    "- Hvis man har en matrise og skal ha tak i rad `a` til men ikke med `b`, og alle kolonnene skriver man  `[a:b,:]`. Rader og kolonner skilles altså med komma. \n",
    "- Vil man ha fra start frem til (og ikke med) en indeks skriver man `[:a]`. Vil man ha fra (og med) en indeks til slutten skriver man `[a:]`. \n",
    "\n",
    "Vi bruker datasettet over årlig temperatur i Bergen til å gå gjennom disse punktene. \n",
    "\n",
    "#### Last inn pakkene som trengs"
   ]
  },
  {
   "cell_type": "code",
   "execution_count": null,
   "metadata": {},
   "outputs": [],
   "source": [
    "import numpy as np # for matematikk m.m.\n",
    "import matplotlib.pyplot as plt # for figurer\n",
    "from EkteDataFunk import loadData # for filinnlasting\n"
   ]
  },
  {
   "cell_type": "markdown",
   "metadata": {},
   "source": [
    "#### 1. Last inn et datasett\n",
    "\n",
    "Last inn datasettet \"TempBergenYearlyNonan.txt\". I oppgaven \"RyddDatasett\" og \"Funksjoner\" er det detaljer på hvordan filinnlastingen fungerer (se https://github.com/irendundas/EkteData). "
   ]
  },
  {
   "cell_type": "code",
   "execution_count": null,
   "metadata": {},
   "outputs": [],
   "source": [
    "file='TempBergenYearlyNonan.txt'\n",
    "data = loadData(file, rydd='N')\n",
    "print(data.shape)  # Dette gir dimensjonene til datasettet. Man må skrive \n",
    "                   # \"print()\" rundt fordi bare den siste linjen i en celle \n",
    "                   # printes ut automatisk\n",
    "data   # Dette printer ut alle verdiene i \"data\""
   ]
  },
  {
   "cell_type": "markdown",
   "metadata": {},
   "source": [
    "Outputet av `data.shape` er (160, 2). Det betyr at \"data\" er en matrise med 160 rader og 2 kolonner. \"data\" har altså to dimensjoner."
   ]
  },
  {
   "cell_type": "markdown",
   "metadata": {},
   "source": [
    "#### 2. Lag en figur av dataene\n",
    "Dette er lurt for å visualisere hva du faktisk jobber med.\n",
    "Linjen under plotter alle dataene i kolone 2 av vektoren \"data\" (y-aksen) som\n",
    "en funksjon av indeks-nummer (x-aksen). \n",
    "\":\" betyr \"alle radene\", \"1\" betyr \"kolonne med indeks 1\", altså kolonne nr 2"
   ]
  },
  {
   "cell_type": "code",
   "execution_count": null,
   "metadata": {},
   "outputs": [],
   "source": [
    "plt.plot(data[:,1])\n",
    "\n",
    "plt.show() # Denne linjen gjør bare at en tekst-linje man ikke trenger ikke \n",
    "           # blir printet ut. Prøv selv å kjøre denne cellen uten denne linjen \n",
    "           # (kommenter den ut med \"#\") om du vil."
   ]
  },
  {
   "cell_type": "markdown",
   "metadata": {},
   "source": [
    "#### 3. Lagre dataene til variabler\n",
    "\n",
    "`data.shape` viste oss at datasettet over temperatur har 160 rader og 2 kolonner. Hvis vi vil ha tak i alle årene og lagre dem i en vektor som vi kaller \"tid\" skriver vi `tid=data[:,0]`, altså *alle radene* (:), men kun den *første kolonnen* (0)\n"
   ]
  },
  {
   "cell_type": "code",
   "execution_count": null,
   "metadata": {},
   "outputs": [],
   "source": [
    "tid=data[:,0]\n",
    "tid"
   ]
  },
  {
   "cell_type": "markdown",
   "metadata": {},
   "source": [
    "#### Oppgave 1.\n",
    "Skriv ut \n",
    "- de fem første radene til `data` og begge kolonnene\n",
    "- de to siste verdiene til `tid`\n",
    "- år nummer 5 til 10 i tidsserien"
   ]
  },
  {
   "cell_type": "code",
   "execution_count": null,
   "metadata": {},
   "outputs": [],
   "source": []
  },
  {
   "cell_type": "markdown",
   "metadata": {},
   "source": [
    "#### Oppgave 2.\n",
    "Lag en variabel \"temp\" som inneholder den andre kolonnen med temperatur."
   ]
  },
  {
   "cell_type": "code",
   "execution_count": null,
   "metadata": {},
   "outputs": [],
   "source": [
    "temp=data[:,1]"
   ]
  },
  {
   "cell_type": "markdown",
   "metadata": {},
   "source": [
    "#### 4. Se på en utvalgt del av datasettet\n",
    "\n",
    "Her har vi 160 år med data. Det er ikke alltid man vil studere alle årene på en gang. Kanskje har vi en mistanke om at det skjedde noe veldig spennende mellom 1873 - 1947? Da kan vi plukke ut de radene som tilsvarer disse årene og kun plotte disse. For å plukke ut de rette radene må vi finne indeksen til 1873 og 1947 i vektoren \"tid\". Det finnes alltid mange måter å gjøre slikt på, og vi skal se på to forskjellige måter. \n",
    "\n",
    "**Metode 1:** \n",
    "Denne er kanskje mest intuitiv, men ikke så effektiv, og heller ikke så robust i kompliserte koder\n",
    "\n",
    "Finn indeksen til 1873 og 1947 i vektoren \"tid\". Siden tidssteget i \"tid\" er i hele år kan man finne differensen mellom det året man er ute etter og startåret i vektoren. Dette gir antall år i mellom, som da tilsvarer indeksen til året du er ute etter. \n"
   ]
  },
  {
   "cell_type": "code",
   "execution_count": null,
   "metadata": {},
   "outputs": [],
   "source": [
    "idt1=1873-tid[0] # tanken bak navnet \"idt1\" er \"id=index\", \"t=tid\", \"1=start\"\n",
    "idt2=1947-tid[0]\n",
    "idt1, idt2"
   ]
  },
  {
   "cell_type": "markdown",
   "metadata": {},
   "source": [
    "`tid1` er 12 og `tid2` er 86. Da skal `tid[12]=tid[idt1]=1873` og `tid[86]=tid[idt2]=1947`. Vi prøver:"
   ]
  },
  {
   "cell_type": "code",
   "execution_count": null,
   "metadata": {},
   "outputs": [],
   "source": [
    "tid[idt1]"
   ]
  },
  {
   "cell_type": "markdown",
   "metadata": {},
   "source": [
    "Dette gir en feilmelding. Problemet er at `tid1=12.0` som er en *float-verdi*, altså et desimaltall, mens indekser kun kan være \"integers, slices (`:`), ellipsis (`...`), numpy.newaxis (`None`) and integer or boolean arrays\". En *float-verdi* har desimaler, mens *integer-verdier* er heltall. Hvis vi konverterer *tid1* fra *float* til *integer* løser vi altså problemet. Dette gjør vi med den innebygde kommandoen `int`."
   ]
  },
  {
   "cell_type": "code",
   "execution_count": null,
   "metadata": {},
   "outputs": [],
   "source": [
    "idt1=int(idt1)\n",
    "idt2=int(idt2)\n",
    "idt1, idt2"
   ]
  },
  {
   "cell_type": "markdown",
   "metadata": {},
   "source": [
    "Nå kan vi bruke indeksene tid1 og tid2:"
   ]
  },
  {
   "cell_type": "code",
   "execution_count": null,
   "metadata": {},
   "outputs": [],
   "source": [
    "tid[idt1], tid[idt2]"
   ]
  },
  {
   "cell_type": "markdown",
   "metadata": {},
   "source": [
    "Husk at indeksering `[x:y]` **ikke** inkluderer y. Så for å dekke alle indeksene \"fra tid1 til *og med* tid2\" må man skrive `[idt1:idt2+1]` "
   ]
  },
  {
   "cell_type": "code",
   "execution_count": null,
   "metadata": {},
   "outputs": [],
   "source": [
    "plt.plot(tid[idt1:idt2+1], temp[idt1:idt2+1])\n",
    "plt.show()"
   ]
  },
  {
   "cell_type": "markdown",
   "metadata": {},
   "source": [
    "**Metode 2:**\n",
    "Denne metoden er mer effektiv og veldig anvennelig i store datasett, og robust i kompliserte koder. \n",
    "\n",
    "Men vi må introdusere en ny funksjon: *np.where*. \n",
    "\n",
    "Denne funksjonen lar deg finne verdier som oppfyller et kriterie, for eksempel at tid skal være 1873 eller større. Eller 1947 eller mindre. Alle verdier i *tid* som oppfyller begge disse kriteriene er de indeksene vi vil ha."
   ]
  },
  {
   "cell_type": "code",
   "execution_count": null,
   "metadata": {},
   "outputs": [],
   "source": [
    "idt=np.where((tid>=1873) & (tid<=1947))\n",
    "idt"
   ]
  },
  {
   "cell_type": "code",
   "execution_count": null,
   "metadata": {},
   "outputs": [],
   "source": [
    "np.where(tid<=1870)"
   ]
  },
  {
   "cell_type": "markdown",
   "metadata": {},
   "source": [
    "Disse indeksene kan vi så mate tilbake til *tid*. "
   ]
  },
  {
   "cell_type": "code",
   "execution_count": null,
   "metadata": {},
   "outputs": [],
   "source": [
    "tid[idt]"
   ]
  },
  {
   "cell_type": "code",
   "execution_count": null,
   "metadata": {},
   "outputs": [],
   "source": [
    "# Indeksering basert på Metode 1\n",
    "plt.plot(tid[idt1:idt2+1], temp[idt1:idt2+1])\n",
    "\n",
    "# Indeksering basert på Metode 2\n",
    "plt.plot(tid[idt], temp[idt])\n",
    "plt.show()\n",
    "\n",
    "# Det er kun en linje her, selv om vi har plottet to. Det er fordi outputtet av\n",
    "# begge indekseringsmetodene er det samme"
   ]
  },
  {
   "cell_type": "markdown",
   "metadata": {},
   "source": [
    "#### Oppgave 3.\n",
    "Skriv ut årene og temperatur for alle årene fra året du ble født frem til 2016. Bruk både metode 1 og 2. "
   ]
  },
  {
   "cell_type": "code",
   "execution_count": null,
   "metadata": {},
   "outputs": [],
   "source": [
    "# Metode 1\n"
   ]
  },
  {
   "cell_type": "code",
   "execution_count": null,
   "metadata": {},
   "outputs": [],
   "source": [
    "# Metode 2:\n"
   ]
  },
  {
   "cell_type": "markdown",
   "metadata": {},
   "source": [
    "#### Oppgave 3. \n",
    "Skriv ut årene og temperatur for alle årene fra året du ble født frem til og med slutten av datasettet. Bruk den metoden du vil, men pass på at det siste året blir med. "
   ]
  },
  {
   "cell_type": "code",
   "execution_count": null,
   "metadata": {},
   "outputs": [],
   "source": []
  },
  {
   "cell_type": "markdown",
   "metadata": {},
   "source": [
    "#### Oppgave 5. \n",
    "Finn tidsserien for temperatur på hele 1900-tallet. Skriv også ut årene. "
   ]
  },
  {
   "cell_type": "code",
   "execution_count": null,
   "metadata": {},
   "outputs": [],
   "source": []
  },
  {
   "cell_type": "markdown",
   "metadata": {},
   "source": [
    "#### 5. Velg ut datapunkt med et jevnt intervall\n",
    "\n",
    "Iblant trenger man å hente ut data med jevne intervall - f.eks. hvis man har et datasett med daglig oppløsning og bare vil ha tak i onsdagene, eller man bare vil ha tak i bursdagen sin fra en tidsserie med daglig oppløsning som spenner over flere år. Eller kanskje man vil hente ut data fra kl 12 for å sjekke solstyrke midt på dagen... \n",
    "\n",
    "Med indeksering kan man bruke to eller tre verdier. Bruker man to angir man kun start og stop: `[start:stop]`. Bruker man tre angir man også intervallet av verdier man er interessert i: `[start:stop:step]`. Skal man f.eks. ha annenhver verdi mellom indeks `a` og `b` skriver man `[a:b:2]`. Husk at det fremdeles er `a` *til og ikke med* `b`. Hvis `a=5` og `b=20` blir dette:"
   ]
  },
  {
   "cell_type": "code",
   "execution_count": null,
   "metadata": {},
   "outputs": [],
   "source": [
    "tid[5:20:2]"
   ]
  },
  {
   "cell_type": "markdown",
   "metadata": {},
   "source": [
    "#### Oppgave 6. \n",
    "Finn temperaturen for hvert tiende år fra starten til slutten av tidsserien. Skriv ut årene i tillegg (for å sjekke at indekseringen du har satt stemmer)."
   ]
  },
  {
   "cell_type": "code",
   "execution_count": null,
   "metadata": {},
   "outputs": [],
   "source": []
  },
  {
   "cell_type": "markdown",
   "metadata": {},
   "source": [
    "#### Oppgave 7. \n",
    "Finn temperaturen for hvert tiende år siden 1870 frem til 2016. Skriv igjen ut årene i tillegg (for å sjekke at indekseringen du har satt stemmer).\n",
    "\n",
    "Her kan du igjen benytte Metode 1 eller 2 for å finne årene mellom 1870 og 2020. Du kan enten finne indeksen til 1870 og indeksen il 2016 separat og så printe ut hvert tiende år/hver tiende temperatur mellom disse indeksene, ELLER, du kan finne indeksen til alle år mellom 1870 og 2016 og plugge hver tidende av disse indeksene inn i \"tid\". \n",
    "\n",
    "Du kan komme til å støte på dette problemet: du får en output av idt som er `idt=(array([9, 10, 11, ...]))`. For å velge bestemte indekser av dette outputtet må den ytterste parantesen vekk. For å få til dette skriver man `idt=idt[0]`. Da går man \"et nivå ned\" i \"itd\" og unngår den ytterste parantesen. Du kan nå indeksere idt. "
   ]
  },
  {
   "cell_type": "code",
   "execution_count": null,
   "metadata": {},
   "outputs": [],
   "source": []
  },
  {
   "cell_type": "markdown",
   "metadata": {},
   "source": [
    "*Et notat til cellen over: man trenger ikke alltid lage variabler for alt. Man trenger for eksempel ikke \"omdøpe\" `idt[0]` til `idt`, man kan bruke `idt[0]` direkte. Har du for eksempel en vektor med indekser via Metode 2, men vil bare ha annenhver verdi kan du skrive `tid[idt[0][0::2]]`. Dette er det samme som `tid[idt[0][0:-1:2]]`. `idt[0]` gjør at du unngår den ytterste parantesen du får når du bruker np.where. `idt[0][0::2]` gjør at at du unngår den første parantesen, og velger ut annenhver indeks fra start til slutt. `tid[idt[0][0::2]]` gjør at du ikke bare får indeksene men de faktiske tids-verdiene. Ved å skrive alt dette i en linje slipper man mange mellomvariabler, som kan gjøre koden ryddig og oversiktlig. Det finnes selvfølgelig en grense - blir koden FOR kompakt og linjene FOR lange blir det fort uoversiktlig. Men dette er litt smak og behag, og så lenge man kommenterer godt i koden sin og forklarer hva som skjer blir det meste bra.*"
   ]
  },
  {
   "cell_type": "markdown",
   "metadata": {},
   "source": [
    "#### Oppgave 8. \n",
    "Lag en figur som viser hele temperaturtidsserien, men plot også hvert tiende år på samme figur. Synes du tidsserien blir godt representert ved å bare se på hvert tiende år? I en seinere oppgave, f.eks. den om for-løkker (Del 5), ser vi på hvordan man kan representere datasettet ved å ta gjennomsnittet over tiårsperioder. Hvordan tror du denne tidsserien representerer datasettet i forhold til den figuren vi har her?"
   ]
  },
  {
   "cell_type": "code",
   "execution_count": null,
   "metadata": {},
   "outputs": [],
   "source": []
  },
  {
   "cell_type": "markdown",
   "metadata": {},
   "source": [
    "#### 6. Del et datasett inn i et gitt antall like lange perioder\n",
    "I stedet for å se på f.eks. hvert tiende, tyvende, 55te,  etc. år kan det være man vil dele tidsserien inn i f.eks. fire like lange tidsperioder. Da må man ta utgangspunkt i lengden til tidsseerien, og finne indeksene som deler tidsserien inn i så mange bolker som man er ute etter. Siden det ikke er sikkert at lengden til tidsserien er perfekt delelig på antall tidsperioder du vil dele den inn i må man passe på at inndelingen man finner kan brukes som indekser, altså være heltall. \n",
    "\n",
    "Vi tar utganspunkt i at vi vil dele tidsserien vår i tre like bolker."
   ]
  },
  {
   "cell_type": "code",
   "execution_count": null,
   "metadata": {},
   "outputs": [],
   "source": [
    "ind=[0,           # startindeks\n",
    "    len(tid)/3,   # indeksen som markerer den første tredelen \n",
    "    2*len(tid)/3, # indeksen som markerer den andre tredelen\n",
    "    len(tid)]     # sluttindeksen\n",
    "ind"
   ]
  },
  {
   "cell_type": "markdown",
   "metadata": {},
   "source": [
    "Disse veridene kan ikke brukes som indekser. De må både rundes av til heltall og konverteres fra *float* til *integer*."
   ]
  },
  {
   "cell_type": "code",
   "execution_count": null,
   "metadata": {},
   "outputs": [],
   "source": [
    "ind=[0,\n",
    "    int(np.round(len(tid)/3)),  \n",
    "    2*int(np.round(len(tid)/3)),\n",
    "    len(tid)] \n",
    "ind"
   ]
  },
  {
   "cell_type": "markdown",
   "metadata": {},
   "source": [
    "Disse KAN brukes som indekser. Vil man f.eks plotte kun siste tredel av tidperioden kan man nå skrive:"
   ]
  },
  {
   "cell_type": "code",
   "execution_count": null,
   "metadata": {},
   "outputs": [],
   "source": [
    "plt.plot(tid[ind[2]:ind[-1]], temp[ind[2]:ind[-1]])\n",
    "plt.show()\n"
   ]
  },
  {
   "cell_type": "markdown",
   "metadata": {},
   "source": [
    "Man kunne også skrevet som under, men i blant har man behov for å lagre indeksen til alle inndelingene, for eksempel hvis man vil plotte alle tidsperiodene i samme figur. Dette gir mening hvis man f.eks. vil plotte standardavviket til hver periode, trenglinjer til hver periode, eller andre variabler basert på tidsserien man har."
   ]
  },
  {
   "cell_type": "code",
   "execution_count": null,
   "metadata": {},
   "outputs": [],
   "source": [
    "plt.plot(tid[2*int(np.round(len(tid)/3)):], temp[2*int(np.round(len(tid)/3)):])\n",
    "plt.show()"
   ]
  },
  {
   "cell_type": "markdown",
   "metadata": {},
   "source": [
    "#### Oppgave 9. \n",
    "Del tidsserien inn i fire like lange bolker og plot de to midterste bolkene i samme figur.\n",
    "For å vise tydeligere at dette er de to midterste bolkene: plot hele tidsserien i bakgrunnen. "
   ]
  },
  {
   "cell_type": "code",
   "execution_count": null,
   "metadata": {},
   "outputs": [],
   "source": []
  }
 ],
 "metadata": {
  "kernelspec": {
   "display_name": "Python 3",
   "language": "python",
   "name": "python3"
  },
  "language_info": {
   "codemirror_mode": {
    "name": "ipython",
    "version": 3
   },
   "file_extension": ".py",
   "mimetype": "text/x-python",
   "name": "python",
   "nbconvert_exporter": "python",
   "pygments_lexer": "ipython3",
   "version": "3.8.5"
  }
 },
 "nbformat": 4,
 "nbformat_minor": 4
}

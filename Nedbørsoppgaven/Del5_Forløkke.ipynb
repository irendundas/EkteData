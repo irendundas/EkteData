{
 "cells": [
  {
   "cell_type": "markdown",
   "metadata": {},
   "source": [
    "## Nedbørsoppgaven Del 5: For-løkker\n",
    "\n",
    "*Nedbørsoppgavene Del 1 til 5 er laget som støtte-oppgaver til oppgaven \"Nedbør i Norge\". Oppgaven \"Nedbør i Norge\" er en lengre oppgave som kommer innom mange forskjellige programerings-elementer. Intensjonen er at hvis man først gjør deloppgavene 1 til 5 og så går gjennom det nokså omfattende eksempelet på starten av oppgaven \"Nedbør i Norge\" så vil det programeringstekniske i oppgaven \"Nedbør i Norge\" være repetisjon, slik at man kan fokusere på den naturvitenskaplige tolkningen av dataene. På denne måten får man både trening i programmering og erfaring med hvordan det kan brukes til å studere og forstå naturvitenskaplige prosesser.*\n",
    "\n",
    "-------------\n",
    "\n",
    "For-løkker er nyttige når man skal gjøre nesten det samme flere ganger på rad. Det gjør koden ryddig og oversiktlig, og det blir enklere å holde oversikten på hvilke beregninger som egentlig gjøres. I blant kan de samme operasjonene gjøres med både for-løkker og vektoroperasjoner. \n",
    "\n",
    "Det kan bli forvirrende å holde kontroll på indekseringen til forløkker i starten, særlig hvis det er flere \"nivåer\" med for-løkker (\"nested\" loops). \n",
    "\n",
    "I denne oppgaven bruker vi data av årlig gjennomsnittstemperatur i Bergen fra 1861 til 2021 for å vise et eksempel på hvordan en for-løkke kan brukes. Til slutt bruker vi et tilsvarende datasett inndelt i måneder for et eksempel på en dobbel for-løkke. \n"
   ]
  },
  {
   "cell_type": "code",
   "execution_count": 1,
   "metadata": {},
   "outputs": [],
   "source": [
    "import numpy as np # for regneoperasjoner\n",
    "import matplotlib.pyplot as plt # for figurer\n",
    "import matplotlib\n",
    "\n",
    "import sys\n",
    "# Bytt ut stien under slik at den peker på hvor på din PC du har \n",
    "# lagret mappen \"Funksjoner\".\n",
    "#sys.path.append(r\"W:\\Work\\Documents\\EkteData\\EkteData\\Funksjoner\")\n",
    "sys.path.append(r\"C:\\Users\\iren_\\Documents\\EkteData\\Funksjoner\")\n",
    "from EkteDataFunk import loadData # for filinnlasting"
   ]
  },
  {
   "cell_type": "code",
   "execution_count": 3,
   "metadata": {},
   "outputs": [
    {
     "data": {
      "text/plain": [
       "((160,), (160,))"
      ]
     },
     "execution_count": 3,
     "metadata": {},
     "output_type": "execute_result"
    }
   ],
   "source": [
    "file='TempBergenYearlyNonan.txt'\n",
    "temp,tid = loadData(file)\n",
    "temp=np.squeeze(temp)\n",
    "temp.shape, tid.shape"
   ]
  },
  {
   "cell_type": "markdown",
   "metadata": {},
   "source": [
    "Tenk deg at du vil gjøre en beregning (for ekesmpel ta gjennomsnittet) over hvert tiår med data. Da må du 1) dele datasettet inn i tiårs-bolker, og 2) ta gjennomsnittet over hver bolk."
   ]
  },
  {
   "cell_type": "markdown",
   "metadata": {},
   "source": [
    "For å finne gjennomsnittstemperaturen for hver av de 16 tiårsperiodene kan man bruke en for-løkke."
   ]
  },
  {
   "cell_type": "markdown",
   "metadata": {},
   "source": [
    "#### 1. Kjør en for-løkke\n",
    "Vi går først gjennom fire små eksempler for å forklare hvordan en for-løkke fungerer. "
   ]
  },
  {
   "cell_type": "code",
   "execution_count": 6,
   "metadata": {},
   "outputs": [
    {
     "name": "stdout",
     "output_type": "stream",
     "text": [
      "Example 1\n",
      "0\n",
      "1\n",
      "2\n",
      "3\n"
     ]
    }
   ],
   "source": [
    "# Print ut en og en verdi i listen [0, 1, 2, 3]\n",
    "print('Example 1')\n",
    "for i in [0,1,2,3]:\n",
    "    print(i)    "
   ]
  },
  {
   "cell_type": "code",
   "execution_count": 8,
   "metadata": {},
   "outputs": [
    {
     "name": "stdout",
     "output_type": "stream",
     "text": [
      "Example 2\n",
      "0\n",
      "1\n",
      "2\n",
      "3\n"
     ]
    }
   ],
   "source": [
    "# Print ut en og en verdi i range(4). range(4) betyr fire verdier fra og med 0\n",
    "print('Example 2')\n",
    "for i in range(4):\n",
    "    print(i)    "
   ]
  },
  {
   "cell_type": "code",
   "execution_count": 9,
   "metadata": {},
   "outputs": [
    {
     "name": "stdout",
     "output_type": "stream",
     "text": [
      "Example 3\n",
      "8.336363636363636\n",
      "7.716666666666666\n",
      "7.758333333333334\n",
      "6.866666666666667\n"
     ]
    }
   ],
   "source": [
    "# Print ut verdiene i temperaturvektoren med indekser 0, 1, 2, 3 \n",
    "print('Example 3')\n",
    "for i in range(4):\n",
    "    print(temp[i])"
   ]
  },
  {
   "cell_type": "code",
   "execution_count": 12,
   "metadata": {},
   "outputs": [
    {
     "name": "stdout",
     "output_type": "stream",
     "text": [
      "Example 4\n",
      "7.733333333333333\n",
      "6.266666666666666\n",
      "7.491666666666666\n",
      "8.333333333333334\n",
      "6.758333333333334\n",
      "7.408333333333334\n",
      "7.25\n",
      "7.150000000000001\n",
      "6.966666666666668\n",
      "6.708333333333333\n"
     ]
    }
   ],
   "source": [
    "# Print ut verdiene i tids-vektoren med indekser 30 til og ikke med 40\n",
    "print('Example 4')\n",
    "for i in temp[30:40]:\n",
    "    print(i)"
   ]
  },
  {
   "cell_type": "markdown",
   "metadata": {},
   "source": [
    "Eksempel 3 og 4 illustrerer to viktige ting. I linjen `for a in b:` kan `b` være både en liste med indekser som i eksempel 3 og en liste med faktiske verdier som i eksempel 4. Legg merke til at i eksempel 3 printer vi ut `temp[i]` mens i eksempel 4 printer vi `i` direkte.\n",
    "\n",
    "\n",
    "#### Oppgave 1.\n",
    "Lag tre for-løkker.\n",
    "- en som printer ut de første fem temperaturene i \"temp\""
   ]
  },
  {
   "cell_type": "code",
   "execution_count": null,
   "metadata": {},
   "outputs": [],
   "source": []
  },
  {
   "cell_type": "markdown",
   "metadata": {},
   "source": [
    "- samme som over, men med en annerledes for-løkke"
   ]
  },
  {
   "cell_type": "code",
   "execution_count": null,
   "metadata": {},
   "outputs": [],
   "source": []
  },
  {
   "cell_type": "markdown",
   "metadata": {},
   "source": [
    "- en som printer ut både år og temperatur mellom år 1876 og 1883"
   ]
  },
  {
   "cell_type": "code",
   "execution_count": null,
   "metadata": {},
   "outputs": [],
   "source": []
  },
  {
   "cell_type": "markdown",
   "metadata": {},
   "source": [
    "#### 2. Del datasettet inn i tiårs-bolker\n",
    "\n",
    "Tilbake til hovedoppgaven: Vi lager en vektor `ind10` (index 10, 10 fordi vi seinere skal gjøre det samme med 20-års bolker) med indeksene som skiller hver 10års bolk.\n",
    "\n",
    "Vi bruker funksjonen `np.linspace(start, stop, lengde)` til å lage vektoren med indekser som gir oss start og slutt på alle 10års-bolkene våre. `lengde` beskriver hvor mange 10års-bolker vi har plass til i tidsserien vår. "
   ]
  },
  {
   "cell_type": "code",
   "execution_count": 18,
   "metadata": {},
   "outputs": [
    {
     "data": {
      "text/plain": [
       "array([  0.,  10.,  20.,  30.,  40.,  50.,  60.,  70.,  80.,  90., 100.,\n",
       "       110., 120., 130., 140., 150., 160.])"
      ]
     },
     "execution_count": 18,
     "metadata": {},
     "output_type": "execute_result"
    }
   ],
   "source": [
    "start=0\n",
    "stop=len(tid)\n",
    "\n",
    "# \"lengde\" må være en integer, altså et heltall uten desimaler. \n",
    "# Vi må legge til 1 for å få inndelingen rett: siden vi vil ha med \n",
    "# endepunktet trenger vi en ekstra verdi.\n",
    "lengde=int(stop/10)+1\n",
    "    \n",
    "# Husk: np.linspace(start, stop, antall verdier)\n",
    "ind10=np.linspace(start, stop, lengde) \n",
    "\n",
    "# ind10 består nå av start- og slutt-indeks til hver av de 16 tiårs-bolkene \n",
    "# (0 er start-indeks og 10 er slutt-indeks til den første bolken etc)\n",
    "ind10 "
   ]
  },
  {
   "cell_type": "code",
   "execution_count": 19,
   "metadata": {},
   "outputs": [],
   "source": [
    "# Husk fra Del 1 om indeksering: indekser MÅ være integers\n",
    "ind10=ind10.astype(int) "
   ]
  },
  {
   "cell_type": "code",
   "execution_count": 20,
   "metadata": {},
   "outputs": [
    {
     "data": {
      "text/plain": [
       "array([  0,  10,  20,  30,  40,  50,  60,  70,  80,  90, 100, 110, 120,\n",
       "       130, 140, 150, 160])"
      ]
     },
     "execution_count": 20,
     "metadata": {},
     "output_type": "execute_result"
    }
   ],
   "source": [
    "ind10"
   ]
  },
  {
   "cell_type": "markdown",
   "metadata": {},
   "source": [
    "Vi kunne fått det samme resultatet ved å bruke f.eks. `np.arange` istedet. Da må vi bruke `stop + 1` istedet for `stop` for å definere at vi vil ha med endepunktet. \n",
    "\n",
    "**Notat:** Tidsserien vi har på 160 år kan deles perfekt inn i 10års-bolker. I andre tilfeller måtte man tatt stilling til hva man skulle gjort med rest-verdier, f.eks. hvis datasettet var 167 tidssteg langt. Skal man la de 7 siste årene gjelde som en tiårspreiode, eller skal man kutte disse årene ut fra analysen?"
   ]
  },
  {
   "cell_type": "code",
   "execution_count": 21,
   "metadata": {},
   "outputs": [
    {
     "data": {
      "text/plain": [
       "array([  0,  10,  20,  30,  40,  50,  60,  70,  80,  90, 100, 110, 120,\n",
       "       130, 140, 150, 160])"
      ]
     },
     "execution_count": 21,
     "metadata": {},
     "output_type": "execute_result"
    }
   ],
   "source": [
    "np.arange(start,stop+1,10)"
   ]
  },
  {
   "cell_type": "markdown",
   "metadata": {},
   "source": [
    "#### Oppgave 2:\n",
    "Hva skjer dersom du ikke legger til 1 i beregningen av `lengde`? Prøv!"
   ]
  },
  {
   "cell_type": "code",
   "execution_count": null,
   "metadata": {},
   "outputs": [],
   "source": []
  },
  {
   "cell_type": "code",
   "execution_count": 23,
   "metadata": {},
   "outputs": [],
   "source": [
    "# Kjør denne cellen for å resette feilen du introduserte i oppgave 2\n",
    "start=0\n",
    "stop=len(tid)\n",
    "lengde=int(stop/10)+1 \n",
    "    \n",
    "ind10=np.linspace(start, stop, lengde)\n",
    "ind10=ind10.astype(int)"
   ]
  },
  {
   "cell_type": "markdown",
   "metadata": {},
   "source": [
    "#### 3. Bruk en for-løkke til å finne gjennomsnittstemperaturen for hver av de 16 tiårsperiodene\n",
    "\n",
    "For-løkken i cellen under betyr: \"`for` hvert element `i` i `range(16)=[0,1,2,...,15]`, skriv ut gjennomsnittsverdien av temperatur i perioden med indeks `ind[i]` til `ind[i+1]`\". \n",
    "\n",
    "For f.eks. `i=3` betyr dette: skriv ut gjennomsnittet av temperatur fra `ind[3]` til `ind[4]`. Dette er det samme som `30` til `40`, altså `temp[30:40]`, som er det samme som temperaturen fra  1891-1900. Denne utregningen gjøres for alle `i` mellom 0 og 15 (16 elementer i `range(16)`). Hver gang utregningen gjøres heter en **iterasjon**. Siden utregningen her gjøres 16 ganger er det 16 iterasjoner i denne for-løkken. \n",
    "\n",
    "Vi må ta gjennomsnitt med nanmean fordi det er NaN-verdier i datasettet.\n"
   ]
  },
  {
   "cell_type": "code",
   "execution_count": 24,
   "metadata": {},
   "outputs": [
    {
     "name": "stdout",
     "output_type": "stream",
     "text": [
      "7.286969696969697\n",
      "7.2570454545454535\n",
      "7.286666666666667\n",
      "7.206666666666666\n",
      "7.147499999999999\n",
      "7.188333333333334\n",
      "7.285000000000001\n",
      "7.8708333333333345\n",
      "7.811666666666667\n",
      "7.7666666666666675\n",
      "7.389166666666666\n",
      "7.621666666666667\n",
      "7.75\n",
      "8.080833333333334\n",
      "8.364166666666668\n",
      "8.740833333333333\n"
     ]
    }
   ],
   "source": [
    "for i in range(16):\n",
    "    print(np.nanmean(temp[ind10[i]:ind10[i+1]]))"
   ]
  },
  {
   "cell_type": "markdown",
   "metadata": {},
   "source": [
    "#### Oppgave 3.\n",
    "Skriv ut gjennomsnittstemperaturen for de 9 første tiårsperiodene ved å bruke en for-løkke. Skriv også ut året hver disse 9 tiårsperiodene starter. "
   ]
  },
  {
   "cell_type": "code",
   "execution_count": null,
   "metadata": {},
   "outputs": [],
   "source": []
  },
  {
   "cell_type": "markdown",
   "metadata": {},
   "source": [
    "#### 4. Lagre verdiene fra en for-løkke\n",
    "I cellene over skriver vi ut verdiene, men i blant trenger man å lagre verdiene for seinere bruk. Da må man skrive resultatet til en ny variabel etter hver iterasjon. For en effektiv kode er det lurt å lage en variabel på forhånd som du kan skrive resultatene inn i underveis. Dette funker dersom man vet dimensjonene til resultatet på forhånd, noe man ikke alltid gjør - da må man istedet la variablen bygge på dimensjonene sine underveis, og det er ofte tidkrevende. Vi trenger imidlertid ikke ta stilling til det her, fordi vi vet hvor stor resultat-matrisen vår skal være: (16, 1) for 16 tiårsperioder.\n"
   ]
  },
  {
   "cell_type": "markdown",
   "metadata": {},
   "source": [
    "Vi ser først på tre metoder for å beregne gjennomsnittstemperatur for hver av de 9 første tiårs-bolkene ved hjelp av en for-løkke, og lagrer resultatet i `test`."
   ]
  },
  {
   "cell_type": "code",
   "execution_count": 27,
   "metadata": {},
   "outputs": [],
   "source": [
    "test=np.zeros((9,1)) "
   ]
  },
  {
   "cell_type": "markdown",
   "metadata": {},
   "source": [
    "**Metode 1:**\n",
    "I denne metoden er `i` selve de 9 første elementene i `ind=0,10,20,...,80`. Indeksen til `test` blir da `int(i/10)=0,1,2,...,8`."
   ]
  },
  {
   "cell_type": "code",
   "execution_count": 29,
   "metadata": {},
   "outputs": [],
   "source": [
    "for i in ind10[:9]: \n",
    "\n",
    "    # temp[i:i+10] er temperaturen fra startåret og ti år frem i tid. \n",
    "    # Er f.eks. i=40 blir dette temp[40:50]=temp fra 1901 til 1910. \n",
    "    test[int(i/10)]=np.nanmean(temp[i:i+10]) \n"
   ]
  },
  {
   "cell_type": "code",
   "execution_count": 31,
   "metadata": {},
   "outputs": [
    {
     "data": {
      "text/plain": [
       "((9, 1),\n",
       " array([[7.2869697 ],\n",
       "        [7.25704545],\n",
       "        [7.28666667],\n",
       "        [7.20666667],\n",
       "        [7.1475    ],\n",
       "        [7.18833333],\n",
       "        [7.285     ],\n",
       "        [7.87083333],\n",
       "        [7.81166667]]))"
      ]
     },
     "execution_count": 31,
     "metadata": {},
     "output_type": "execute_result"
    }
   ],
   "source": [
    "test.shape, test"
   ]
  },
  {
   "cell_type": "markdown",
   "metadata": {},
   "source": [
    "**Metode 2:** Cellen under er en annen for-løkke som gir nøyaktig samme resultat. Denne metoden ligner mer på eksempelet i seksjon 3 der vi ikke skrev resultatene til en variabel."
   ]
  },
  {
   "cell_type": "code",
   "execution_count": 32,
   "metadata": {},
   "outputs": [],
   "source": [
    "for i in range(9): # range(9) = fra 0 til og IKKE med 9, i.e., 9 elementer. \n",
    "    \n",
    "    # for e.g., i=0 blir dette temp[ind[0]:ind[1]]=temp[0:10]\n",
    "    test[i]=np.nanmean(temp[ind10[i]:ind10[i+1]]) \n"
   ]
  },
  {
   "cell_type": "code",
   "execution_count": 33,
   "metadata": {},
   "outputs": [
    {
     "data": {
      "text/plain": [
       "array([[7.2869697 ],\n",
       "       [7.25704545],\n",
       "       [7.28666667],\n",
       "       [7.20666667],\n",
       "       [7.1475    ],\n",
       "       [7.18833333],\n",
       "       [7.285     ],\n",
       "       [7.87083333],\n",
       "       [7.81166667]])"
      ]
     },
     "execution_count": 33,
     "metadata": {},
     "output_type": "execute_result"
    }
   ],
   "source": [
    "test"
   ]
  },
  {
   "cell_type": "markdown",
   "metadata": {},
   "source": [
    "#### Metode 3:\n",
    "Istedet for å iterere gjennom *enten* indekser *eller* faktiske verdier (`range(9)` vs `ind10[:9]`) kan man gjøre begge deler på en gang med `np.enumerate()`. Vi går gjennom et enkelt eksempel først:"
   ]
  },
  {
   "cell_type": "code",
   "execution_count": 38,
   "metadata": {},
   "outputs": [
    {
     "name": "stdout",
     "output_type": "stream",
     "text": [
      "count= 0 , val= 0\n",
      "count= 1 , val= 10\n",
      "count= 2 , val= 20\n",
      "count= 3 , val= 30\n",
      "count= 4 , val= 40\n",
      "count= 5 , val= 50\n",
      "count= 6 , val= 60\n",
      "count= 7 , val= 70\n",
      "count= 8 , val= 80\n",
      "count= 9 , val= 90\n",
      "count= 10 , val= 100\n",
      "count= 11 , val= 110\n",
      "count= 12 , val= 120\n",
      "count= 13 , val= 130\n",
      "count= 14 , val= 140\n",
      "count= 15 , val= 150\n",
      "count= 16 , val= 160\n"
     ]
    }
   ],
   "source": [
    "for count, val in enumerate(ind10):\n",
    "    print('count=', count, ', val=', val, )"
   ]
  },
  {
   "cell_type": "markdown",
   "metadata": {},
   "source": [
    "Her er `val` selve verdien til `ind10`, og `count` teller gjennom antall iterasjoner. \n",
    "\n",
    "Eksempelet med gjennomsnittet for hver av de første 9 10års-periodene blir da: "
   ]
  },
  {
   "cell_type": "code",
   "execution_count": 42,
   "metadata": {},
   "outputs": [
    {
     "data": {
      "text/plain": [
       "array([[7.2869697 ],\n",
       "       [7.25704545],\n",
       "       [7.28666667],\n",
       "       [7.20666667],\n",
       "       [7.1475    ],\n",
       "       [7.18833333],\n",
       "       [7.285     ],\n",
       "       [7.87083333],\n",
       "       [7.81166667]])"
      ]
     },
     "execution_count": 42,
     "metadata": {},
     "output_type": "execute_result"
    }
   ],
   "source": [
    "for count, val in enumerate(ind10[:9]):\n",
    "    test[count]=np.nanmean(temp[val:val+10]) \n",
    "\n",
    "test"
   ]
  },
  {
   "cell_type": "markdown",
   "metadata": {},
   "source": [
    "#### Oppgave 4.\n",
    "Lag en for-løkke som lagrer gjennomsnittstemperaturen av ikke bare de 9 første, men alle de 16 tiårsperiodene til variablen `meanTemp10`."
   ]
  },
  {
   "cell_type": "markdown",
   "metadata": {},
   "source": [
    "I cellen under lager vi en variabel som du etterpå kan skrive gjennomsnittsverdiene til inni for-løkken. Først er de 16 plassene bare fylt med 0. "
   ]
  },
  {
   "cell_type": "code",
   "execution_count": 43,
   "metadata": {},
   "outputs": [
    {
     "data": {
      "text/plain": [
       "(16, 1)"
      ]
     },
     "execution_count": 43,
     "metadata": {},
     "output_type": "execute_result"
    }
   ],
   "source": [
    "meanTemp10=np.zeros((16, 1)) \n",
    "meanTemp10.shape"
   ]
  },
  {
   "cell_type": "code",
   "execution_count": 48,
   "metadata": {},
   "outputs": [
    {
     "name": "stdout",
     "output_type": "stream",
     "text": [
      "forslag1: [[7.2869697 ]\n",
      " [7.25704545]\n",
      " [7.28666667]\n",
      " [7.20666667]\n",
      " [7.1475    ]\n",
      " [7.18833333]\n",
      " [7.285     ]\n",
      " [7.87083333]\n",
      " [7.81166667]\n",
      " [7.76666667]\n",
      " [7.38916667]\n",
      " [7.62166667]\n",
      " [7.75      ]\n",
      " [8.08083333]\n",
      " [8.36416667]\n",
      " [8.74083333]]\n"
     ]
    }
   ],
   "source": [
    "# Forslag 1\n",
    "for i in ind10[:16]: \n",
    "    meanTemp10[int(i/10)]=np.nanmean(temp[i:i+10]) \n",
    "   \n",
    "print('forslag1:',meanTemp10)"
   ]
  },
  {
   "cell_type": "code",
   "execution_count": 45,
   "metadata": {},
   "outputs": [],
   "source": [
    "# Forslag 2\n"
   ]
  },
  {
   "cell_type": "markdown",
   "metadata": {},
   "source": [
    "#### 5. Plot dataene"
   ]
  },
  {
   "cell_type": "markdown",
   "metadata": {},
   "source": [
    "For å plotte dataene tenger vi en tidsvektor med midtpunktet av hver tiårs-bolk.\n",
    "\n",
    "Vi starter på `tid[4]` og slutter på `tid[-5]` fordi dette er midtpunktene til den første og den siste tiårsperioden. "
   ]
  },
  {
   "cell_type": "code",
   "execution_count": 46,
   "metadata": {},
   "outputs": [
    {
     "name": "stdout",
     "output_type": "stream",
     "text": [
      "1865.0\n",
      "2016.0\n"
     ]
    },
    {
     "data": {
      "text/plain": [
       "array([1865., 1875., 1885., 1895., 1905., 1915., 1925., 1935., 1945.,\n",
       "       1955., 1965., 1975., 1985., 1995., 2005., 2015.])"
      ]
     },
     "execution_count": 46,
     "metadata": {},
     "output_type": "execute_result"
    }
   ],
   "source": [
    "print(tid[4]), print(tid[-5])\n",
    "T10=np.arange(tid[4],tid[-5],10)\n",
    "# For å dobbeltsjekke hvordan np.arange funker, sjekk dokumentasjonen. Her \n",
    "# finner du at inputene er (start,stop,step).\n",
    "T10"
   ]
  },
  {
   "cell_type": "code",
   "execution_count": 49,
   "metadata": {},
   "outputs": [
    {
     "data": {
      "image/png": "[encoded data removed]",
      "text/plain": [
       "<Figure size 432x288 with 1 Axes>"
      ]
     },
     "metadata": {
      "needs_background": "light"
     },
     "output_type": "display_data"
    }
   ],
   "source": [
    "plt.plot(T10,meanTemp10)\n",
    "plt.title('Temperatur 1860-2020')\n",
    "plt.xlabel('År')\n",
    "plt.ylabel('Temperatur [\\u2103]') \n",
    "plt.xlim([1860,2020]) \n",
    "plt.ylim([7,9]) \n",
    "plt.show() "
   ]
  },
  {
   "cell_type": "markdown",
   "metadata": {},
   "source": [
    "For å kontrollere at dette gjennomsnittet gjenspeiler de faktiske dataene på en god måte kan det være lurt å plotte begge linjene i samme figur."
   ]
  },
  {
   "cell_type": "code",
   "execution_count": 51,
   "metadata": {},
   "outputs": [
    {
     "data": {
      "image/png": "[encoded data removed]",
      "text/plain": [
       "<Figure size 432x288 with 1 Axes>"
      ]
     },
     "metadata": {
      "needs_background": "light"
     },
     "output_type": "display_data"
    }
   ],
   "source": [
    "plt.plot(tid, temp, label='årlig') # legg til de originale dataene i bakgrunnen.\n",
    "plt.plot(T10, meanTemp10, label='hvert tiår')\n",
    "plt.title('Temperatur 1860-2020')\n",
    "plt.xlabel('År')\n",
    "plt.ylabel('Temperatur [\\u2103]')\n",
    "plt.xlim([1860,2020])\n",
    "plt.ylim([5.5,10])\n",
    "plt.legend()\n",
    "plt.show()"
   ]
  },
  {
   "cell_type": "markdown",
   "metadata": {},
   "source": [
    "#### Oppgave 5:\n",
    "Se tilbake på [Nedbørsoppgaven Del 3](https://github.com/irendundas/EkteData/blob/main/Nedb%C3%B8rsoppgaven/Del3_Plotting_av_tidsserier.ipynb) der vi plottet hvert tiende datapunkt. Kommenter på forskjellene mellom denne figuren og figuren rett over."
   ]
  },
  {
   "cell_type": "code",
   "execution_count": null,
   "metadata": {},
   "outputs": [],
   "source": []
  },
  {
   "cell_type": "markdown",
   "metadata": {},
   "source": [
    "#### Oppgave 6:\n",
    "Beregn temperatur for tjueårs-bolker. Bruk den metoden som er mest intuitiv/logisk for deg. Om du gjør det på en annen måte enn i eksemplene over er det helt ok. For å sjekke at metoden din funker kan du gjøre det likt som over og se om du får samme resultat med begge fremgangsmåter. "
   ]
  },
  {
   "cell_type": "code",
   "execution_count": null,
   "metadata": {},
   "outputs": [],
   "source": []
  },
  {
   "cell_type": "markdown",
   "metadata": {},
   "source": [
    "#### Oppgave 7:\n",
    "Lag en figur der du viser de originale dataene, gjennomsnittet over tiårsbolkene, og gjennomsnittet over tjueårs-bolkene i samme figur. "
   ]
  },
  {
   "cell_type": "code",
   "execution_count": null,
   "metadata": {},
   "outputs": [],
   "source": []
  },
  {
   "cell_type": "markdown",
   "metadata": {},
   "source": [
    "#### 6. Dobbel for-løkke\n",
    "\n",
    "Vi vil nå gjøre det samme som over (gjennomsnitt over tiårs-bolker), men vi vil gjøre det for hver måned individuelt slik at vi står igjen med gjennomsnittlig temperatur for januar, februar, mars etc. i 1860-1870, og tilsvarende for alle tiårsperiodene fremover. Vi laster inn datasettet [TempBergen.txt](https://github.com/irendundas/EkteData/blob/main/data/TempBergen.txt) som har verdier for hver måned fra 1861 til 2021. \n",
    "\n",
    "Utenom inndelingen i måneder er dette datasettet likt det vi brukte over bortsettfra at 2021 er inkludert. Inspeksjon av [datasettet](https://github.com/irendundas/EkteData/blob/main/data/TempBergen.txt) viser at nesten alle verdiene i 2021 er `NaN`. Vi kutter derfor ut 2021 for å gjøre ting litt enklere, uten at vi egentlig ser vekk ifra noe særlig informasjon."
   ]
  },
  {
   "cell_type": "code",
   "execution_count": 52,
   "metadata": {},
   "outputs": [
    {
     "name": "stdout",
     "output_type": "stream",
     "text": [
      "(161, 12)\n"
     ]
    }
   ],
   "source": [
    "file='TempBergen.txt'\n",
    "temp,tid = loadData(file)\n",
    "print(temp.shape)"
   ]
  },
  {
   "cell_type": "markdown",
   "metadata": {},
   "source": [
    "For hver måned skal vi beregne gjennomsnittet over ti år: I cellen under midler vi over de ti første januar-månedene, så de neste ti januar-månedene, etc. Så midler vi over de ti første februar-månedene, så de neste ti februar-månedene, etc. \n",
    "\n",
    "Derfor har vi for-løkken som itererer gjennom 12 indekser ytterst, og for-løkken som itererer gjennom tiårsperiodene innerst. Det gjør at vi gjør oss ferdig med en og en måned av gangen. \n",
    "\n",
    "Man kan også gjøre dette motsatt: gjøre seg ferdig med en og en tiårsperiode av gangen. Å gjøre dette er siste del av oppgaven.\n",
    "\n",
    "MeanTemp må få en ny dimensjon siden vi nå har med alle månedene. I sted var den 16 elementer lang - nå må den være 16 elementer lang *for hver måned*. Den må altså være 16 x 12 elementer stor totalt.\n",
    "\n",
    "Men først ser vi på tre enklere eksempler:\n",
    "\n",
    "**Eksempel: dobbel for-løkke**"
   ]
  },
  {
   "cell_type": "code",
   "execution_count": null,
   "metadata": {},
   "outputs": [],
   "source": [
    "for i in range(3):\n",
    "    for j in range(4):\n",
    "        print('i=',i,'j=',j)"
   ]
  },
  {
   "cell_type": "markdown",
   "metadata": {},
   "source": [
    "**Eksempel: lagre verdier fra en dobbel for-løkke**\n",
    "Siden vi looper gjennom `range(3)` og `range(4)` må resultat-matrisen ha tre rader og fire kolonner. Når `i=0` og `j=0` plasseres resultatet i `test[0,0]`, altså øvre venstre hjørne av matrisen. Når f.eks. `i=2` og `j=3` plasseres resultatet i `test[2,3]`, altså nedre høyre hjørne. Husk **R**ace **C**ar (**R**ow **C**olumn)."
   ]
  },
  {
   "cell_type": "code",
   "execution_count": null,
   "metadata": {},
   "outputs": [],
   "source": [
    "test=np.zeros((3,4))\n",
    "for i in range(3):\n",
    "    for j in range(4):\n",
    "        test[i,j]=i*j\n",
    "        \n",
    "test"
   ]
  },
  {
   "cell_type": "markdown",
   "metadata": {},
   "source": [
    "**Eksempel: rekkefølgen av løkkene**\n",
    "Det er viktig å holde orden på rekkefølgen av løkkene. Lar vi f.eks. resultat-matrisen `test` ha dimensjoner (4, 3), vil ikke loopen fungere lengre. "
   ]
  },
  {
   "cell_type": "code",
   "execution_count": null,
   "metadata": {},
   "outputs": [],
   "source": [
    "test=np.zeros((4,3))\n",
    "for i in range(3):\n",
    "    for j in range(4):\n",
    "        test[i,j]=i*j\n",
    "        \n"
   ]
  },
  {
   "cell_type": "markdown",
   "metadata": {},
   "source": [
    "#### 7. Beregn gjennomsnittet over ti år for hver måned: \n",
    "\n",
    "I loopen under blir `meanTemp[0,0]` nå gjennomsnittet over de ti første januarmånedene. `meanTemp [-1,-1]` blir gjennomsnittet over de ti siste desembermånedene."
   ]
  },
  {
   "cell_type": "code",
   "execution_count": null,
   "metadata": {},
   "outputs": [],
   "source": [
    "meanTemp10=np.zeros((len(ind10)-1,12)) # 17-1 x 12"
   ]
  },
  {
   "cell_type": "code",
   "execution_count": null,
   "metadata": {},
   "outputs": [],
   "source": [
    "for mo in range(12): # iterer gjennom månedene\n",
    "    for i in range(len(ind10)-1): # iterer gjennom tiårsperiodene\n",
    "        meanTemp10[i,mo]=np.nanmean(temp[ind10[i]:ind10[i+1],mo]) \n",
    "    \n",
    "meanTemp10.shape"
   ]
  },
  {
   "cell_type": "markdown",
   "metadata": {},
   "source": [
    "\n",
    "\n",
    "#### 8. Lag en figur over de månedlige tiårsperiodene\n",
    "\n",
    "Vi kan nå lage en figur som viser innholdet i `meanTemp`."
   ]
  },
  {
   "cell_type": "code",
   "execution_count": null,
   "metadata": {},
   "outputs": [],
   "source": [
    "# Denne listen med \"strings\" (tekst) bruker vi i \"label\" for hver linje\n",
    "string=[\n",
    "    'Jan','Feb','Mar','Apr','Mai','Jun','Jul','Aug','Sep','Okt','Nov','Des'] "
   ]
  },
  {
   "cell_type": "markdown",
   "metadata": {},
   "source": [
    "Dersom vi ikke spesifiserer fargene til figuren plotter python i sine standard-farger. Disse er det ti av, så i vårt tilfelle, hvor vi vil plotte 12 linjer, vil linjene for januar og november, og februar og desember blir like. Derfor må vi lage en vektor med 12 ulike fargekoder på forhånd. \n",
    "\n",
    "Matplotlib har et bibilitek med fargekart, se f.eks. her: https://matplotlib.org/stable/gallery/color/colormap_reference.html. \n",
    "Vi bruker karted \"Paired\" fordi dette har tolv diskrete farger. Man kan såklart bygge sin egen farge-vektor med bedre farger, men for enkelhets skyld bruker vi dette nå. "
   ]
  },
  {
   "cell_type": "code",
   "execution_count": null,
   "metadata": {},
   "outputs": [],
   "source": [
    "n = 12 # 12 farger\n",
    "colors = matplotlib.cm.Paired(np.linspace(0,1,n))"
   ]
  },
  {
   "cell_type": "code",
   "execution_count": null,
   "metadata": {},
   "outputs": [],
   "source": [
    "for mo in range(12):\n",
    "    plt.plot(T10,meanTemp10[:,mo], color=colors[mo], label=string[mo])\n",
    "\n",
    "    \n",
    "plt.title('Temperatur 1860-2020')\n",
    "plt.xlabel('År')\n",
    "plt.ylabel('Temperatur [\\u2103]')\n",
    "plt.xlim([1860,2020])\n",
    "\n",
    "# Linjen under gjør at legend kommer utenfor figuren \n",
    "# og at teksten blir litt større. \n",
    "plt.legend(bbox_to_anchor=(1.02, 0, 0.2, 1), loc='lower left',  \n",
    "           ncol=1, borderaxespad=0.,fontsize=11.4)             \n",
    "\n",
    "plt.show()"
   ]
  },
  {
   "cell_type": "markdown",
   "metadata": {},
   "source": [
    "Denne figuren viser nå temperatur for hver måned som et gjennomsnitt av hver tiårsperiode mellom 1860 og 2020. \n",
    "\n",
    "#### Oppgave 8\n",
    "\n",
    "Bruk informasjon fra figuren til å diskutere spørsmålene under. Gjør også beregninger med datasettet om det hjelper deg i å gi et godt begrunnet svar. \n",
    "- Hvordan har utviktlingen i temperatur i Bergen vært siden 1860? Er det forskjell på første og andre 80-års periode?\n",
    "- Er det noen varme eller kalde perioder som skiller seg ut? \n",
    "- Hvilken måned har størst endring?\n",
    "\n",
    "Sammenlign dette med figurene over.\n",
    "- Hvilket inntrykk gir det totale gjennomsnittet (figurene i seksjon 3) av endring i temperatur over tid i forhold til hvordan endringen når perioden er inndelt i måneder?\n",
    "- I figurene i seksjon 3 var det en tydelig endring rundt 1940, og en sterk økning fra 1960. Hvor er disse elementene blitt av i figuren over?"
   ]
  },
  {
   "cell_type": "markdown",
   "metadata": {},
   "source": [
    "#### Oppgave 9\n",
    "Beregn gjennomsnittet over alle månedene og lag en ny figur der år 1860-2020 er langs x-aksen og gjennomsnittet av temperatur langs y-aksen). Svar på forrige spørsmål på nytt."
   ]
  },
  {
   "cell_type": "code",
   "execution_count": null,
   "metadata": {},
   "outputs": [],
   "source": []
  },
  {
   "cell_type": "markdown",
   "metadata": {},
   "source": [
    "#### Oppgave 10\n",
    "\n",
    "Gjør tilsvarende som i seksjon 7, men lag den doble for-løkken motsatt slik at man beregner gjennomsnittet av hver måned for en og en tiårsperiode av gangen. \n",
    "Lag en figur. \n"
   ]
  },
  {
   "cell_type": "code",
   "execution_count": null,
   "metadata": {},
   "outputs": [],
   "source": []
  },
  {
   "cell_type": "code",
   "execution_count": null,
   "metadata": {},
   "outputs": [],
   "source": []
  }
 ],
 "metadata": {
  "kernelspec": {
   "display_name": "Python 3",
   "language": "python",
   "name": "python3"
  },
  "language_info": {
   "codemirror_mode": {
    "name": "ipython",
    "version": 3
   },
   "file_extension": ".py",
   "mimetype": "text/x-python",
   "name": "python",
   "nbconvert_exporter": "python",
   "pygments_lexer": "ipython3",
   "version": "3.8.8"
  }
 },
 "nbformat": 4,
 "nbformat_minor": 2
}

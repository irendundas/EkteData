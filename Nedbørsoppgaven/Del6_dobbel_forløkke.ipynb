{
 "cells": [
  {
   "cell_type": "markdown",
   "id": "dc8aa0ac",
   "metadata": {},
   "source": [
    "## Nedbørsoppgaven Del 6: Doble for-løkker\n",
    "\n",
    "*Nedbørsoppgavene Del 1 til 6 er laget som støtte-oppgaver til oppgaven \"Nedbør i Norge\". Oppgaven \"Nedbør i Norge\" er en lengre oppgave som kommer innom mange forskjellige programerings-elementer. Intensjonen er at hvis man først gjør deloppgavene 1 til 6 og så går gjennom det nokså omfattende eksempelet på starten av oppgaven \"Nedbør i Norge\" så vil det programeringstekniske i oppgaven \"Nedbør i Norge\" være repetisjon, slik at man kan fokusere på den naturvitenskaplige tolkningen av dataene. På denne måten får man både trening i programmering og erfaring med hvordan det kan brukes til å studere og forstå naturvitenskaplige prosesser.*\n",
    "\n",
    "-------------"
   ]
  },
  {
   "cell_type": "markdown",
   "id": "786415ff",
   "metadata": {},
   "source": [
    "I denne oppgaven gjør vi nesten det samme som i [Del 5](https://github.com/irendundas/EkteData/blob/main/Nedb%C3%B8rsoppgaven/Del5_Forl%C3%B8kke.ipynb) (gjennomsnitt over tiårs-bolker), men vi beregner gjennomsnittet for hver måned individuelt slik at vi står igjen med gjennomsnittlig temperatur for januar, februar, mars etc. i 1860-1870, og tilsvarende for alle tiårsperiodene fremover. Vi laster inn datasettet [TempBergen.txt](https://github.com/irendundas/EkteData/blob/main/data/TempBergen.txt) som har verdier for hver måned fra 1861 til 2021.\n",
    "\n",
    "Utenom inndelingen i måneder er dette datasettet likt det vi brukte i Del 5 bortsettfra at 2021 er inkludert. Inspeksjon av datasettet viser at nesten alle verdiene i 2021 er NaN. Vi kutter derfor ut 2021 for å gjøre ting litt enklere, uten at vi egentlig ser vekk ifra noe særlig informasjon."
   ]
  },
  {
   "cell_type": "code",
   "execution_count": 1,
   "id": "fb576aa6",
   "metadata": {},
   "outputs": [],
   "source": [
    "import numpy as np # for regneoperasjoner\n",
    "import matplotlib.pyplot as plt # for figurer\n",
    "import matplotlib\n",
    "\n",
    "import sys\n",
    "# Bytt ut stien under slik at den peker på hvor på din PC du har \n",
    "# lagret mappen \"Funksjoner\".\n",
    "#sys.path.append(r\"W:\\Work\\Documents\\EkteData\\EkteData\\Funksjoner\")\n",
    "sys.path.append(r\"C:\\Users\\iren_\\Documents\\EkteData\\Funksjoner\")\n",
    "from EkteDataFunk import loadData # for filinnlasting"
   ]
  },
  {
   "cell_type": "markdown",
   "id": "eb31fe2b",
   "metadata": {},
   "source": [
    "Før vi setter igang med datasettet med månedlig oppløsning  ser vi på tre korte eksempler:\n",
    "\n",
    "#### Eksempel 1:\n",
    "Print ut et sett med indekser: \n",
    "- først er `i=0`. Skriv ut en og en av verdiene i `range(4)`\n",
    "- så er `i=1`. Skriv igjen ut en og en av verdiene i `range(4)`\n",
    "- til slutt er `i=2`. Skriv igjen ut en og en av verdiene i `range(4)`"
   ]
  },
  {
   "cell_type": "code",
   "execution_count": 2,
   "id": "041b41ce",
   "metadata": {},
   "outputs": [
    {
     "name": "stdout",
     "output_type": "stream",
     "text": [
      "i= 0 j= 0\n",
      "i= 0 j= 1\n",
      "i= 0 j= 2\n",
      "i= 0 j= 3\n",
      "i= 1 j= 0\n",
      "i= 1 j= 1\n",
      "i= 1 j= 2\n",
      "i= 1 j= 3\n",
      "i= 2 j= 0\n",
      "i= 2 j= 1\n",
      "i= 2 j= 2\n",
      "i= 2 j= 3\n"
     ]
    }
   ],
   "source": [
    "for i in range(3):\n",
    "    for j in range(4):\n",
    "        print('i=',i,'j=',j)"
   ]
  },
  {
   "cell_type": "markdown",
   "id": "e2f0db97",
   "metadata": {},
   "source": [
    "#### Eksempel 2: lagre verdier fra en dobbel for-løkke i en ny matrise \"test\"\n",
    "Siden vi looper gjennom `range(3)` og `range(4)` må resultat-matrisen ha tre rader og fire kolonner. Når `i=0` og `j=0` plasseres resultatet i `test[0,0]`, altså øvre venstre hjørne av matrisen. Når f.eks. `i=2` og `j=3` plasseres resultatet i `test[2,3]`, altså nedre høyre hjørne. Husk **R**ace **C**ar (**R**ow **C**olumn)."
   ]
  },
  {
   "cell_type": "code",
   "execution_count": 3,
   "id": "8b086756",
   "metadata": {},
   "outputs": [
    {
     "data": {
      "text/plain": [
       "array([[0., 0., 0., 0.],\n",
       "       [0., 1., 2., 3.],\n",
       "       [0., 2., 4., 6.]])"
      ]
     },
     "execution_count": 3,
     "metadata": {},
     "output_type": "execute_result"
    }
   ],
   "source": [
    "test=np.zeros((3,4))\n",
    "for i in range(3):\n",
    "    for j in range(4):\n",
    "        test[i,j]=i*j\n",
    "        \n",
    "test"
   ]
  },
  {
   "cell_type": "markdown",
   "id": "e6a7eef5",
   "metadata": {},
   "source": [
    "#### Eksempel 3: rekkefølgen av løkkene\n",
    "Det er viktig å holde orden på rekkefølgen av løkkene. Lar vi f.eks. resultat-matrisen `test` ha dimensjoner (4, 3), vil ikke loopen fungere lengre. "
   ]
  },
  {
   "cell_type": "code",
   "execution_count": 4,
   "id": "d3fe658e",
   "metadata": {},
   "outputs": [
    {
     "ename": "IndexError",
     "evalue": "index 3 is out of bounds for axis 1 with size 3",
     "output_type": "error",
     "traceback": [
      "\u001b[1;31m---------------------------------------------------------------------------\u001b[0m",
      "\u001b[1;31mIndexError\u001b[0m                                Traceback (most recent call last)",
      "\u001b[1;32m<ipython-input-4-00b56b7b966b>\u001b[0m in \u001b[0;36m<module>\u001b[1;34m\u001b[0m\n\u001b[0;32m      2\u001b[0m \u001b[1;32mfor\u001b[0m \u001b[0mi\u001b[0m \u001b[1;32min\u001b[0m \u001b[0mrange\u001b[0m\u001b[1;33m(\u001b[0m\u001b[1;36m3\u001b[0m\u001b[1;33m)\u001b[0m\u001b[1;33m:\u001b[0m\u001b[1;33m\u001b[0m\u001b[1;33m\u001b[0m\u001b[0m\n\u001b[0;32m      3\u001b[0m     \u001b[1;32mfor\u001b[0m \u001b[0mj\u001b[0m \u001b[1;32min\u001b[0m \u001b[0mrange\u001b[0m\u001b[1;33m(\u001b[0m\u001b[1;36m4\u001b[0m\u001b[1;33m)\u001b[0m\u001b[1;33m:\u001b[0m\u001b[1;33m\u001b[0m\u001b[1;33m\u001b[0m\u001b[0m\n\u001b[1;32m----> 4\u001b[1;33m         \u001b[0mtest\u001b[0m\u001b[1;33m[\u001b[0m\u001b[0mi\u001b[0m\u001b[1;33m,\u001b[0m\u001b[0mj\u001b[0m\u001b[1;33m]\u001b[0m\u001b[1;33m=\u001b[0m\u001b[0mi\u001b[0m\u001b[1;33m*\u001b[0m\u001b[0mj\u001b[0m\u001b[1;33m\u001b[0m\u001b[1;33m\u001b[0m\u001b[0m\n\u001b[0m\u001b[0;32m      5\u001b[0m \u001b[1;33m\u001b[0m\u001b[0m\n",
      "\u001b[1;31mIndexError\u001b[0m: index 3 is out of bounds for axis 1 with size 3"
     ]
    }
   ],
   "source": [
    "test=np.zeros((4,3))\n",
    "for i in range(3):\n",
    "    for j in range(4):\n",
    "        test[i,j]=i*j\n",
    "        \n"
   ]
  },
  {
   "cell_type": "markdown",
   "id": "2133cae7",
   "metadata": {},
   "source": [
    "#### 1. Plot gjennomsnitts-temperaturen til hver måned i hver 10års-periode med en dobbel for-løkke\n",
    "Tilbake til det ekte datasettet."
   ]
  },
  {
   "cell_type": "code",
   "execution_count": 5,
   "id": "a3bb2400",
   "metadata": {},
   "outputs": [
    {
     "name": "stdout",
     "output_type": "stream",
     "text": [
      "(161, 12)\n"
     ]
    }
   ],
   "source": [
    "file='TempBergen.txt'\n",
    "temp,tid = loadData(file)\n",
    "print(temp.shape)"
   ]
  },
  {
   "cell_type": "markdown",
   "id": "6c601cba",
   "metadata": {},
   "source": [
    "Vi finner indeksene som deler inn 10års-periodene og tidsvektoren som i [Del 5](https://github.com/irendundas/EkteData/blob/main/Nedb%C3%B8rsoppgaven/Del5_Forl%C3%B8kke.ipynb)."
   ]
  },
  {
   "cell_type": "code",
   "execution_count": 9,
   "id": "a1febf76",
   "metadata": {},
   "outputs": [],
   "source": [
    "# Finn indeksene som deler de 160 årene inn i 10års-perioder. \n",
    "start=0\n",
    "stop=len(tid)\n",
    "lengde=int(stop/10)+1 \n",
    "    \n",
    "ind10=np.linspace(start, stop, lengde)\n",
    "ind10=ind10.astype(int)"
   ]
  },
  {
   "cell_type": "code",
   "execution_count": 10,
   "id": "4207d1a3",
   "metadata": {},
   "outputs": [],
   "source": [
    "# Tidsvektoren med midtpunktet av hver 10års-periode\n",
    "T10=np.arange(tid[4],tid[-5],10)"
   ]
  },
  {
   "cell_type": "code",
   "execution_count": 6,
   "id": "82107518",
   "metadata": {},
   "outputs": [],
   "source": [
    "# Denne listen med \"strings\" (tekst) bruker vi i \"label\" for hver linje\n",
    "string=[\n",
    "    'Jan','Feb','Mar','Apr','Mai','Jun','Jul','Aug','Sep','Okt','Nov','Des'\n",
    "] "
   ]
  },
  {
   "cell_type": "markdown",
   "id": "e43e0c0a",
   "metadata": {},
   "source": [
    "Dersom vi ikke spesifiserer fargene til figuren plotter python i sine standard-farger. Disse er det ti av, så i vårt tilfelle, hvor vi vil plotte verdier som tilhører 12 måneder, vil punktene for januar og november, og februar og desember blir like. Derfor må vi lage en vektor med 12 ulike fargekoder på forhånd. \n",
    "\n",
    "Matplotlib har et bibilitek med fargekart, se f.eks. [her](https://matplotlib.org/stable/gallery/color/colormap_reference.html). \n",
    "Vi bruker karted \"Paired\" fordi dette har tolv diskrete farger. Man kan bygge sin egen farge-vektor med bedre farger, men for enkelhets skyld bruker vi dette nå. Alle farger kan beskrives med tre tall mellom 0 og 1 som angir hvor mye rødt, grønt, og blått du vil bruke (RGB). Under har vi fire tall (RGBA). Det siste tallet beskriver om fargen skal være gjennomsiktig (A for alpha). 1 er ikke gjennomsiktig, 0 er helt gjennomsiktig. "
   ]
  },
  {
   "cell_type": "code",
   "execution_count": 7,
   "id": "520e4065",
   "metadata": {},
   "outputs": [
    {
     "data": {
      "text/plain": [
       "array([[0.65098039, 0.80784314, 0.89019608, 1.        ],\n",
       "       [0.12156863, 0.47058824, 0.70588235, 1.        ],\n",
       "       [0.69803922, 0.8745098 , 0.54117647, 1.        ],\n",
       "       [0.2       , 0.62745098, 0.17254902, 1.        ],\n",
       "       [0.98431373, 0.60392157, 0.6       , 1.        ],\n",
       "       [0.89019608, 0.10196078, 0.10980392, 1.        ],\n",
       "       [0.99215686, 0.74901961, 0.43529412, 1.        ],\n",
       "       [1.        , 0.49803922, 0.        , 1.        ],\n",
       "       [0.79215686, 0.69803922, 0.83921569, 1.        ],\n",
       "       [0.41568627, 0.23921569, 0.60392157, 1.        ],\n",
       "       [1.        , 1.        , 0.6       , 1.        ],\n",
       "       [0.69411765, 0.34901961, 0.15686275, 1.        ]])"
      ]
     },
     "execution_count": 7,
     "metadata": {},
     "output_type": "execute_result"
    }
   ],
   "source": [
    "n = 12 # 12 farger\n",
    "colors = matplotlib.cm.Paired(np.linspace(0,1,n))\n",
    "colors"
   ]
  },
  {
   "cell_type": "code",
   "execution_count": 11,
   "id": "8b16b3c5",
   "metadata": {},
   "outputs": [
    {
     "data": {
      "text/plain": [
       "((16,), (161, 12), (17,))"
      ]
     },
     "execution_count": 11,
     "metadata": {},
     "output_type": "execute_result"
    }
   ],
   "source": [
    "T10.shape, temp.shape, ind10.shape"
   ]
  },
  {
   "cell_type": "markdown",
   "id": "d250f286",
   "metadata": {},
   "source": [
    "For hver måned skal vi beregne gjennomsnittet over ti år: I cellen under midler vi over de ti første januar-månedene, så de neste ti januar-månedene, etc. Så midler vi over de ti første februar-månedene, så de neste ti februar-månedene, etc.\n",
    "\n",
    "Derfor har vi for-løkken som itererer gjennom 12 indekser ytterst, og for-løkken som itererer gjennom tiårsperiodene innerst. På den måten gjør vi oss ferdig med en og en måned av gangen."
   ]
  },
  {
   "cell_type": "code",
   "execution_count": 12,
   "id": "9735d313",
   "metadata": {},
   "outputs": [
    {
     "data": {
      "image/png": "[encoded data removed]",
      "text/plain": [
       "<Figure size 432x288 with 1 Axes>"
      ]
     },
     "metadata": {
      "needs_background": "light"
     },
     "output_type": "display_data"
    }
   ],
   "source": [
    "# for hver måned ...\n",
    "for mo in range(12):\n",
    "    # ... plot gjennomsnittstemperaturen til hver tiårsperiode\n",
    "    for i in range(16):\n",
    "        # Beregn gjennomsnittstemperaturen for perioden i måned \"mo\" mellom\n",
    "        # år ind10[i] og ind10[i+1]\n",
    "        tempmean=np.nanmean(temp[ind10[i]:ind10[i+1], mo])\n",
    "        # Plot verdien du nettopp beregnet \n",
    "        plt.plot(T10[i], tempmean, color=colors[mo], marker='p')\n",
    "\n",
    "    \n",
    "plt.title('Temperatur 1860-2020')\n",
    "plt.xlabel('År')\n",
    "plt.ylabel('Temperatur [\\u2103]')\n",
    "plt.xlim([1860,2020])       \n",
    "\n",
    "plt.show()"
   ]
  },
  {
   "cell_type": "markdown",
   "id": "5e6095df",
   "metadata": {},
   "source": [
    "#### 2. Presenter figuren over som linjer istedet for punkter"
   ]
  },
  {
   "cell_type": "markdown",
   "id": "7f206a01",
   "metadata": {},
   "source": [
    "Vi lager en matrise `MeanTemp10` som vi kan fylle gjennomsnittsverdiene inn i slik at vi etterpå kan lage et linjeplot. Den må ha dimensjoner 16 x 12: 16 10års-perioder, 12 måneder. \n",
    "\n",
    "I loopen under blir `meanTemp10[0,0]` nå gjennomsnittet over de ti første januarmånedene. `meanTemp10[-1,-1]` blir gjennomsnittet over de ti siste desembermånedene."
   ]
  },
  {
   "cell_type": "code",
   "execution_count": 13,
   "id": "e93ad5be",
   "metadata": {},
   "outputs": [
    {
     "data": {
      "text/plain": [
       "(16, 12)"
      ]
     },
     "execution_count": 13,
     "metadata": {},
     "output_type": "execute_result"
    }
   ],
   "source": [
    "meanTemp10=np.zeros((16, 12)) # 16 x 12\n",
    "\n",
    "for mo in range(12): # iterer gjennom månedene\n",
    "    for i in range(16): # iterer gjennom tiårsperiodene\n",
    "        meanTemp10[i,mo]=np.nanmean(temp[ind10[i]:ind10[i+1], mo]) \n",
    "    \n",
    "meanTemp10.shape"
   ]
  },
  {
   "cell_type": "markdown",
   "id": "ff84af0d",
   "metadata": {},
   "source": [
    "Vi kan nå lage en figur som viser innholdet i `meanTemp`."
   ]
  },
  {
   "cell_type": "code",
   "execution_count": 21,
   "id": "657e7cb2",
   "metadata": {},
   "outputs": [
    {
     "data": {
      "image/png": "[encoded data removed]",
      "text/plain": [
       "<Figure size 432x288 with 1 Axes>"
      ]
     },
     "metadata": {
      "needs_background": "light"
     },
     "output_type": "display_data"
    }
   ],
   "source": [
    "# for hver måned, plot \n",
    "for mo in range(12):\n",
    "    plt.plot(T10, meanTemp10[:,mo], color=colors[mo], label=string[mo])\n",
    "\n",
    "    \n",
    "plt.title('Temperatur 1860-2020')\n",
    "plt.xlabel('År')\n",
    "plt.ylabel('Temperatur [\\u2103]')\n",
    "plt.xlim([1860,2020])\n",
    "\n",
    "# Linjen under gjør at legend kommer utenfor figuren \n",
    "# og at teksten blir litt større. \n",
    "plt.legend(bbox_to_anchor=(1.02, 0, 0.2, 1), loc='lower left',  \n",
    "           ncol=1, borderaxespad=0., fontsize=11)             \n",
    "\n",
    "plt.show()"
   ]
  },
  {
   "cell_type": "markdown",
   "id": "61f890b8",
   "metadata": {},
   "source": [
    "Denne figuren viser nå temperatur for hver måned som et gjennomsnitt av hver tiårsperiode mellom 1860 og 2020.\n",
    "\n",
    "#### Oppgave 1\n",
    "Bruk informasjon fra figuren til å diskutere spørsmålene under. Gjør også beregninger med datasettet om det hjelper deg i å gi et godt begrunnet svar.\n",
    "\n",
    "- Hvordan har utviktlingen i temperatur i Bergen vært siden 1860? Er det forskjell på første og andre 80-års periode?\n",
    "- Er det noen varme eller kalde perioder som skiller seg ut?\n",
    "- Hvilken måned har størst endring?\n",
    "\n",
    "Sammenlign dette med hva de tilsvarende figurene basert på årsgjennomsnitt i seksjon 5 i oppgaven [Del 5 forløkker](https://github.com/irendundas/EkteData/blob/main/Nedb%C3%B8rsoppgaven/Del5_Forl%C3%B8kke.ipynb) viser:\n",
    "\n",
    "- Hvilket inntrykk gir det totale gjennomsnittet av endring i temperatur over tid i forhold til hvordan endringen når perioden er inndelt i måneder?\n",
    "- I figurene i seksjon 5 var det en tydelig endring rundt 1940, og en sterk økning fra 1960. Hvor er disse elementene blitt av i figuren over?"
   ]
  },
  {
   "cell_type": "markdown",
   "id": "51018886",
   "metadata": {},
   "source": [
    "#### Oppgave 2\n",
    "Beregn gjennomsnittet over alle månedene og lag en ny figur der år 1860-2020 er langs x-aksen og gjennomsnittet av temperatur langs y-aksen). Svar på forrige spørsmål på nytt."
   ]
  },
  {
   "cell_type": "code",
   "execution_count": null,
   "id": "a17552fa",
   "metadata": {},
   "outputs": [],
   "source": []
  },
  {
   "cell_type": "markdown",
   "id": "a34f0ea9",
   "metadata": {},
   "source": [
    "#### Oppgave 3\n",
    "Gjør tilsvarende som i seksjon 2, men lag den doble for-løkken motsatt slik at man beregner gjennomsnittet av hver måned for en og en tiårsperiode av gangen. Lag en figur."
   ]
  },
  {
   "cell_type": "code",
   "execution_count": null,
   "id": "f92cc318",
   "metadata": {},
   "outputs": [],
   "source": []
  },
  {
   "cell_type": "markdown",
   "id": "84e1138c",
   "metadata": {},
   "source": [
    "#### Oppgave 4"
   ]
  },
  {
   "cell_type": "markdown",
   "id": "1d93843c",
   "metadata": {},
   "source": [
    "Identifiser måneden og 10årsperioden med høyest standardavvik. \n",
    "\n",
    "*Tips:* Bruk tilsvarende metode som da vi beregnet gjennomsnittsverider til hver 10års-periode for hver måned. "
   ]
  },
  {
   "cell_type": "code",
   "execution_count": null,
   "id": "3bcdbe83",
   "metadata": {},
   "outputs": [],
   "source": []
  }
 ],
 "metadata": {
  "kernelspec": {
   "display_name": "Python 3",
   "language": "python",
   "name": "python3"
  },
  "language_info": {
   "codemirror_mode": {
    "name": "ipython",
    "version": 3
   },
   "file_extension": ".py",
   "mimetype": "text/x-python",
   "name": "python",
   "nbconvert_exporter": "python",
   "pygments_lexer": "ipython3",
   "version": "3.8.8"
  }
 },
 "nbformat": 4,
 "nbformat_minor": 5
}

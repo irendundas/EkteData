{
 "cells": [
  {
   "cell_type": "markdown",
   "metadata": {},
   "source": [
    "Når du er ferdig med å installere jupyter notebook og satt det opp for bruk med Ekte Data kan du kjøre gjennom dette skriptet for å sjekke at alt er satt opp slik det skal. \n",
    "\n",
    "Denne koden går gjennom flere steg\n",
    "- laster ned værdata fra yr.no via yr sin modul som gjør dette veldig enkelt for oss. \n",
    "- lager en enkel figur som presenterer dataene\n",
    "- beregner akkumulert nedbør og presenterer dette i en ny figur\n",
    "- beregner noe fancy basert på temperatur for å vise nytte\n",
    "- lager en figur med temperatur sammen med en sinuskurve for å vise en måte å beskrive variasjon\n",
    "- lager en figur som viser temperatur og nedbør sammen for å se om det er noen sammenheng. \n",
    "\n",
    "Så om det fremdeles er tid kan du prøve å gjøre alt dette med data fra der du er fra. \n"
   ]
  },
  {
   "cell_type": "markdown",
   "metadata": {},
   "source": [
    "##### Yr fungerer ikke, så bruker data fra seklima.no istedet"
   ]
  },
  {
   "cell_type": "markdown",
   "metadata": {},
   "source": [
    "Last inn pakkene du trenger. Disse tre er alle veldig standard. `pandas` er veldig god på noen typer databinnlesing, det er det vi bruker denne pakken til her, men den er også ofte nyttig f.eks. for å interpolere manglende verdier. `matplotlib.pyplot` er (sannsynligvis) det aller mest brukte plotte-biblioteket. Med denne pakken kan du lage alt av linjeplot, histogram, scatterplot, kontur-plot, det meste du kan tenke deg. `Numpy` er for \"alt\" av matematikk utover helt standard +-\\*. Finne min og max, gjennomsnitt den slags, men kanskje aller viktigst vektor- og matriseoperasjoner."
   ]
  },
  {
   "cell_type": "code",
   "execution_count": 1,
   "metadata": {},
   "outputs": [],
   "source": [
    "import pandas as pd\n",
    "import matplotlib.pyplot as plt\n",
    "import numpy as np\n"
   ]
  },
  {
   "cell_type": "markdown",
   "metadata": {},
   "source": [
    "Dette er stien til filen du vil laste inn. Bytt den ut med stien til der du har lastet ned Ekte Data mappen fra GitHub. Det er også mulig å koble denne stien direkte opp til GitHub repositoriet, det gjør vi seinere. "
   ]
  },
  {
   "cell_type": "code",
   "execution_count": 17,
   "metadata": {},
   "outputs": [],
   "source": [
    "sti='W:/Work/Documents/EkteData/EkteData'\n",
    "fil='/sol_nedbør_temp.csv'\n"
   ]
  },
  {
   "cell_type": "markdown",
   "metadata": {},
   "source": [
    "Bruk pandas til å lese csv-filen. \n",
    "- `sep=';'` beskriver hva som deler kolonnene i filen. Hvis du åpner filen i f.eks. notepad ser du at dette er semikolon i vårt tilfelle, men det er ofte tab, komma (default), eller kolon. \n",
    "- Med `index_col` bestemmer du hvilken kolonne du vil sette til venstre og bruke som index. \n",
    "- `decimal=','` må være med fordi verdiene i denne csv-filen er lagret med komma som desimaltegn istedet for punktum. For at verdien skal tolkes som ett tall og ikke to må komma endres til punktum. \n",
    "- `parse_dates=['Tid(norsk normaltid)']` konverterer innholdet i denne kolonnen til dato-format.\n",
    "- `dayfirst=True` sørger for at datoen tolkes riktig. Uten denne tolkes det første tallet i datoen som måned. "
   ]
  },
  {
   "cell_type": "code",
   "execution_count": 31,
   "metadata": {},
   "outputs": [],
   "source": [
    "df = pd.read_csv(\n",
    "    sti+fil, sep=';', decimal=',', parse_dates=['Tid(norsk normaltid)'],\n",
    "    dayfirst=True, na_values='-'\n",
    ")"
   ]
  },
  {
   "cell_type": "markdown",
   "metadata": {},
   "source": [
    "df er nå en \"Pandas DataFrame\". Dette er en fin og oversiktlig måte å få oversikten over et datasett på. "
   ]
  },
  {
   "cell_type": "code",
   "execution_count": 32,
   "metadata": {},
   "outputs": [
    {
     "data": {
      "text/html": [
       "<div>\n",
       "<style scoped>\n",
       "    .dataframe tbody tr th:only-of-type {\n",
       "        vertical-align: middle;\n",
       "    }\n",
       "\n",
       "    .dataframe tbody tr th {\n",
       "        vertical-align: top;\n",
       "    }\n",
       "\n",
       "    .dataframe thead th {\n",
       "        text-align: right;\n",
       "    }\n",
       "</style>\n",
       "<table border=\"1\" class=\"dataframe\">\n",
       "  <thead>\n",
       "    <tr style=\"text-align: right;\">\n",
       "      <th></th>\n",
       "      <th>Navn</th>\n",
       "      <th>Stasjon</th>\n",
       "      <th>Tid(norsk normaltid)</th>\n",
       "      <th>Solskinnstid (døgn)</th>\n",
       "      <th>Nedbør (døgn)</th>\n",
       "      <th>Middeltemperatur (døgn)</th>\n",
       "    </tr>\n",
       "  </thead>\n",
       "  <tbody>\n",
       "    <tr>\n",
       "      <th>0</th>\n",
       "      <td>Flesland</td>\n",
       "      <td>SN50500</td>\n",
       "      <td>2021-01-06</td>\n",
       "      <td>3.3</td>\n",
       "      <td>0.0</td>\n",
       "      <td>-4.3</td>\n",
       "    </tr>\n",
       "    <tr>\n",
       "      <th>1</th>\n",
       "      <td>Flesland</td>\n",
       "      <td>SN50500</td>\n",
       "      <td>2021-01-07</td>\n",
       "      <td>2.8</td>\n",
       "      <td>0.0</td>\n",
       "      <td>-1.4</td>\n",
       "    </tr>\n",
       "    <tr>\n",
       "      <th>2</th>\n",
       "      <td>Flesland</td>\n",
       "      <td>SN50500</td>\n",
       "      <td>2021-01-08</td>\n",
       "      <td>3.2</td>\n",
       "      <td>0.0</td>\n",
       "      <td>-2.5</td>\n",
       "    </tr>\n",
       "    <tr>\n",
       "      <th>3</th>\n",
       "      <td>Flesland</td>\n",
       "      <td>SN50500</td>\n",
       "      <td>2021-01-09</td>\n",
       "      <td>0.0</td>\n",
       "      <td>0.0</td>\n",
       "      <td>0.7</td>\n",
       "    </tr>\n",
       "    <tr>\n",
       "      <th>4</th>\n",
       "      <td>Flesland</td>\n",
       "      <td>SN50500</td>\n",
       "      <td>2021-01-10</td>\n",
       "      <td>0.0</td>\n",
       "      <td>12.1</td>\n",
       "      <td>0.4</td>\n",
       "    </tr>\n",
       "    <tr>\n",
       "      <th>...</th>\n",
       "      <td>...</td>\n",
       "      <td>...</td>\n",
       "      <td>...</td>\n",
       "      <td>...</td>\n",
       "      <td>...</td>\n",
       "      <td>...</td>\n",
       "    </tr>\n",
       "    <tr>\n",
       "      <th>362</th>\n",
       "      <td>Flesland</td>\n",
       "      <td>SN50500</td>\n",
       "      <td>2022-01-03</td>\n",
       "      <td>0.0</td>\n",
       "      <td>2.6</td>\n",
       "      <td>4.5</td>\n",
       "    </tr>\n",
       "    <tr>\n",
       "      <th>363</th>\n",
       "      <td>Flesland</td>\n",
       "      <td>SN50500</td>\n",
       "      <td>2022-01-04</td>\n",
       "      <td>0.0</td>\n",
       "      <td>12.8</td>\n",
       "      <td>3.2</td>\n",
       "    </tr>\n",
       "    <tr>\n",
       "      <th>364</th>\n",
       "      <td>Flesland</td>\n",
       "      <td>SN50500</td>\n",
       "      <td>2022-01-05</td>\n",
       "      <td>2.5</td>\n",
       "      <td>8.5</td>\n",
       "      <td>1.8</td>\n",
       "    </tr>\n",
       "    <tr>\n",
       "      <th>365</th>\n",
       "      <td>Flesland</td>\n",
       "      <td>SN50500</td>\n",
       "      <td>2022-01-06</td>\n",
       "      <td>0.0</td>\n",
       "      <td>0.0</td>\n",
       "      <td>NaN</td>\n",
       "    </tr>\n",
       "    <tr>\n",
       "      <th>366</th>\n",
       "      <td>Data er gyldig per 06.01.2022 (CC BY 4.0), Met...</td>\n",
       "      <td>NaN</td>\n",
       "      <td>NaT</td>\n",
       "      <td>NaN</td>\n",
       "      <td>NaN</td>\n",
       "      <td>NaN</td>\n",
       "    </tr>\n",
       "  </tbody>\n",
       "</table>\n",
       "<p>367 rows × 6 columns</p>\n",
       "</div>"
      ],
      "text/plain": [
       "                                                  Navn  Stasjon  \\\n",
       "0                                             Flesland  SN50500   \n",
       "1                                             Flesland  SN50500   \n",
       "2                                             Flesland  SN50500   \n",
       "3                                             Flesland  SN50500   \n",
       "4                                             Flesland  SN50500   \n",
       "..                                                 ...      ...   \n",
       "362                                           Flesland  SN50500   \n",
       "363                                           Flesland  SN50500   \n",
       "364                                           Flesland  SN50500   \n",
       "365                                           Flesland  SN50500   \n",
       "366  Data er gyldig per 06.01.2022 (CC BY 4.0), Met...      NaN   \n",
       "\n",
       "    Tid(norsk normaltid)  Solskinnstid (døgn)  Nedbør (døgn)  \\\n",
       "0             2021-01-06                  3.3            0.0   \n",
       "1             2021-01-07                  2.8            0.0   \n",
       "2             2021-01-08                  3.2            0.0   \n",
       "3             2021-01-09                  0.0            0.0   \n",
       "4             2021-01-10                  0.0           12.1   \n",
       "..                   ...                  ...            ...   \n",
       "362           2022-01-03                  0.0            2.6   \n",
       "363           2022-01-04                  0.0           12.8   \n",
       "364           2022-01-05                  2.5            8.5   \n",
       "365           2022-01-06                  0.0            0.0   \n",
       "366                  NaT                  NaN            NaN   \n",
       "\n",
       "     Middeltemperatur (døgn)  \n",
       "0                       -4.3  \n",
       "1                       -1.4  \n",
       "2                       -2.5  \n",
       "3                        0.7  \n",
       "4                        0.4  \n",
       "..                       ...  \n",
       "362                      4.5  \n",
       "363                      3.2  \n",
       "364                      1.8  \n",
       "365                      NaN  \n",
       "366                      NaN  \n",
       "\n",
       "[367 rows x 6 columns]"
      ]
     },
     "execution_count": 32,
     "metadata": {},
     "output_type": "execute_result"
    }
   ],
   "source": [
    "df"
   ]
  },
  {
   "cell_type": "markdown",
   "metadata": {},
   "source": [
    "De to siste linjene i denne DataFram-en inneholder ikke gyldige verdier. Vi redefinerer defor `df` slik at de to siste linjene utelukkes. I panda DataFrames angir man navnet til kolonnen først, og så hvilke rader man vil se på. Dette er litt forvirrende siden standard indeksering i pythonbruker \"row\" så \"column\". Med pandas DataFrame betyr altså `df[:][:-1]` \"alle kolonner\" (`[:]`), og \"alle rader utenom de to siste\" (`[:-2]`). Indeksering er forvirrende å holde styr på i starten, men vi kommer tilbake til dette i den første samlingen med eksempler, øving, og reglene som gjelder. "
   ]
  },
  {
   "cell_type": "code",
   "execution_count": 28,
   "metadata": {},
   "outputs": [
    {
     "data": {
      "text/html": [
       "<div>\n",
       "<style scoped>\n",
       "    .dataframe tbody tr th:only-of-type {\n",
       "        vertical-align: middle;\n",
       "    }\n",
       "\n",
       "    .dataframe tbody tr th {\n",
       "        vertical-align: top;\n",
       "    }\n",
       "\n",
       "    .dataframe thead th {\n",
       "        text-align: right;\n",
       "    }\n",
       "</style>\n",
       "<table border=\"1\" class=\"dataframe\">\n",
       "  <thead>\n",
       "    <tr style=\"text-align: right;\">\n",
       "      <th></th>\n",
       "      <th>Navn</th>\n",
       "      <th>Stasjon</th>\n",
       "      <th>Tid(norsk normaltid)</th>\n",
       "      <th>Solskinnstid (døgn)</th>\n",
       "      <th>Nedbør (døgn)</th>\n",
       "      <th>Middeltemperatur (døgn)</th>\n",
       "    </tr>\n",
       "  </thead>\n",
       "  <tbody>\n",
       "    <tr>\n",
       "      <th>0</th>\n",
       "      <td>Flesland</td>\n",
       "      <td>SN50500</td>\n",
       "      <td>2021-01-06</td>\n",
       "      <td>3.3</td>\n",
       "      <td>0.0</td>\n",
       "      <td>-4.3</td>\n",
       "    </tr>\n",
       "    <tr>\n",
       "      <th>1</th>\n",
       "      <td>Flesland</td>\n",
       "      <td>SN50500</td>\n",
       "      <td>2021-01-07</td>\n",
       "      <td>2.8</td>\n",
       "      <td>0.0</td>\n",
       "      <td>-1.4</td>\n",
       "    </tr>\n",
       "    <tr>\n",
       "      <th>2</th>\n",
       "      <td>Flesland</td>\n",
       "      <td>SN50500</td>\n",
       "      <td>2021-01-08</td>\n",
       "      <td>3.2</td>\n",
       "      <td>0.0</td>\n",
       "      <td>-2.5</td>\n",
       "    </tr>\n",
       "    <tr>\n",
       "      <th>3</th>\n",
       "      <td>Flesland</td>\n",
       "      <td>SN50500</td>\n",
       "      <td>2021-01-09</td>\n",
       "      <td>0.0</td>\n",
       "      <td>0.0</td>\n",
       "      <td>0.7</td>\n",
       "    </tr>\n",
       "    <tr>\n",
       "      <th>4</th>\n",
       "      <td>Flesland</td>\n",
       "      <td>SN50500</td>\n",
       "      <td>2021-01-10</td>\n",
       "      <td>0.0</td>\n",
       "      <td>12.1</td>\n",
       "      <td>0.4</td>\n",
       "    </tr>\n",
       "    <tr>\n",
       "      <th>...</th>\n",
       "      <td>...</td>\n",
       "      <td>...</td>\n",
       "      <td>...</td>\n",
       "      <td>...</td>\n",
       "      <td>...</td>\n",
       "      <td>...</td>\n",
       "    </tr>\n",
       "    <tr>\n",
       "      <th>360</th>\n",
       "      <td>Flesland</td>\n",
       "      <td>SN50500</td>\n",
       "      <td>2022-01-01</td>\n",
       "      <td>0.0</td>\n",
       "      <td>1.7</td>\n",
       "      <td>4.6</td>\n",
       "    </tr>\n",
       "    <tr>\n",
       "      <th>361</th>\n",
       "      <td>Flesland</td>\n",
       "      <td>SN50500</td>\n",
       "      <td>2022-01-02</td>\n",
       "      <td>0.0</td>\n",
       "      <td>4.9</td>\n",
       "      <td>7.5</td>\n",
       "    </tr>\n",
       "    <tr>\n",
       "      <th>362</th>\n",
       "      <td>Flesland</td>\n",
       "      <td>SN50500</td>\n",
       "      <td>2022-01-03</td>\n",
       "      <td>0.0</td>\n",
       "      <td>2.6</td>\n",
       "      <td>4.5</td>\n",
       "    </tr>\n",
       "    <tr>\n",
       "      <th>363</th>\n",
       "      <td>Flesland</td>\n",
       "      <td>SN50500</td>\n",
       "      <td>2022-01-04</td>\n",
       "      <td>0.0</td>\n",
       "      <td>12.8</td>\n",
       "      <td>3.2</td>\n",
       "    </tr>\n",
       "    <tr>\n",
       "      <th>364</th>\n",
       "      <td>Flesland</td>\n",
       "      <td>SN50500</td>\n",
       "      <td>2022-01-05</td>\n",
       "      <td>2.5</td>\n",
       "      <td>8.5</td>\n",
       "      <td>1.8</td>\n",
       "    </tr>\n",
       "  </tbody>\n",
       "</table>\n",
       "<p>365 rows × 6 columns</p>\n",
       "</div>"
      ],
      "text/plain": [
       "         Navn  Stasjon Tid(norsk normaltid)  Solskinnstid (døgn)  \\\n",
       "0    Flesland  SN50500           2021-01-06                  3.3   \n",
       "1    Flesland  SN50500           2021-01-07                  2.8   \n",
       "2    Flesland  SN50500           2021-01-08                  3.2   \n",
       "3    Flesland  SN50500           2021-01-09                  0.0   \n",
       "4    Flesland  SN50500           2021-01-10                  0.0   \n",
       "..        ...      ...                  ...                  ...   \n",
       "360  Flesland  SN50500           2022-01-01                  0.0   \n",
       "361  Flesland  SN50500           2022-01-02                  0.0   \n",
       "362  Flesland  SN50500           2022-01-03                  0.0   \n",
       "363  Flesland  SN50500           2022-01-04                  0.0   \n",
       "364  Flesland  SN50500           2022-01-05                  2.5   \n",
       "\n",
       "     Nedbør (døgn)  Middeltemperatur (døgn)  \n",
       "0              0.0                     -4.3  \n",
       "1              0.0                     -1.4  \n",
       "2              0.0                     -2.5  \n",
       "3              0.0                      0.7  \n",
       "4             12.1                      0.4  \n",
       "..             ...                      ...  \n",
       "360            1.7                      4.6  \n",
       "361            4.9                      7.5  \n",
       "362            2.6                      4.5  \n",
       "363           12.8                      3.2  \n",
       "364            8.5                      1.8  \n",
       "\n",
       "[365 rows x 6 columns]"
      ]
     },
     "execution_count": 28,
     "metadata": {},
     "output_type": "execute_result"
    }
   ],
   "source": [
    "df=df[:][:-2]\n",
    "df"
   ]
  },
  {
   "cell_type": "markdown",
   "metadata": {},
   "source": [
    "#### Pandas DataFrame til Numpy Array\n",
    "\n",
    "Vi vil konvertere Pandas DataFrame til et numpy array fordi plottebiblioteket matplotlib behandler f.eks. manglende verdier bedre. Denne konverteringen er også praktisk hvis du f.eks. skal sammenligne et datasett som dette med et du har lest inn som numpy array. Man trenger i blant å konvertere mellom disse to formatene. \n",
    "\n",
    "Hvis df er en DataFrame slik som den vi har konverterer dette til numpy array: df.to_numpy. \n",
    "\n",
    "For å konvertere motsatt vei kan man bruke pd.DataFrame(array) hvis array er et numpy array. "
   ]
  },
  {
   "cell_type": "code",
   "execution_count": 21,
   "metadata": {},
   "outputs": [],
   "source": [
    "data=df.to_numpy()"
   ]
  },
  {
   "cell_type": "code",
   "execution_count": 22,
   "metadata": {},
   "outputs": [
    {
     "name": "stdout",
     "output_type": "stream",
     "text": [
      "[['Flesland' 'SN50500' Timestamp('2021-01-06 00:00:00') 3.3 0.0 '-4,3']\n",
      " ['Flesland' 'SN50500' Timestamp('2021-01-07 00:00:00') 2.8 0.0 '-1,4']\n",
      " ['Flesland' 'SN50500' Timestamp('2021-01-08 00:00:00') 3.2 0.0 '-2,5']\n",
      " ...\n",
      " ['Flesland' 'SN50500' Timestamp('2022-01-03 00:00:00') 0.0 2.6 '4,5']\n",
      " ['Flesland' 'SN50500' Timestamp('2022-01-04 00:00:00') 0.0 12.8 '3,2']\n",
      " ['Flesland' 'SN50500' Timestamp('2022-01-05 00:00:00') 2.5 8.5 '1,8']]\n",
      " \n",
      "shape of array \"data\":  (365, 6)\n"
     ]
    }
   ],
   "source": [
    "print(data)\n",
    "print(' ')\n",
    "print('shape of array \"data\": ', data.shape)"
   ]
  },
  {
   "cell_type": "markdown",
   "metadata": {},
   "source": [
    "Akkurat som i DataFram-en er det 363 rader (en verdi per dag) og 6 kolonner (en for hver variabel/metadata). Når man vil se på en og en variabel av gangen er det ofte ryddig å lagre hver variabel fra matrisen til en *egen* variabel. Dette er det vi gjør i cellen under. \n",
    "\n",
    "`tid` er i kolonne nr 3. Siden Python starter indekseringen på 0 blir indeksen til kolonne 2 `3`. Derfor kan vi skrive `tid=data[:,2]` - alle radene tas med `:`, men kun kolonnen med indeks `2` tas med. Tilsvarende for sol, nedbør og temp. "
   ]
  },
  {
   "cell_type": "code",
   "execution_count": 23,
   "metadata": {},
   "outputs": [],
   "source": [
    "tid=data[:,2]\n",
    "sol=data[:,3]\n",
    "nedbør=data[:,4]\n",
    "temp=data[:,5]"
   ]
  },
  {
   "cell_type": "code",
   "execution_count": 76,
   "metadata": {},
   "outputs": [],
   "source": [
    "for i in range(len(temp)):\n",
    "    temp[i]=float(temp[i].replace(',','.'))\n"
   ]
  },
  {
   "cell_type": "code",
   "execution_count": 77,
   "metadata": {},
   "outputs": [
    {
     "data": {
      "image/png": "[encoded data removed]",
      "text/plain": [
       "<Figure size 720x216 with 1 Axes>"
      ]
     },
     "metadata": {
      "needs_background": "light"
     },
     "output_type": "display_data"
    }
   ],
   "source": [
    "plt.figure(figsize=(10,3))\n",
    "plt.plot(tid,sol)\n",
    "plt.grid()\n",
    "plt.xlim(tid[0], tid[-1])\n",
    "plt.show()"
   ]
  },
  {
   "cell_type": "code",
   "execution_count": 78,
   "metadata": {},
   "outputs": [
    {
     "data": {
      "image/png": "[encoded data removed]",
      "text/plain": [
       "<Figure size 720x216 with 1 Axes>"
      ]
     },
     "metadata": {
      "needs_background": "light"
     },
     "output_type": "display_data"
    }
   ],
   "source": [
    "plt.figure(figsize=(10,3))\n",
    "plt.plot(tid,nedbør)\n",
    "plt.grid()\n",
    "plt.xlim(tid[0], tid[-1])\n",
    "plt.show()"
   ]
  },
  {
   "cell_type": "code",
   "execution_count": 79,
   "metadata": {},
   "outputs": [
    {
     "data": {
      "image/png": "[encoded data removed]",
      "text/plain": [
       "<Figure size 720x216 with 1 Axes>"
      ]
     },
     "metadata": {
      "needs_background": "light"
     },
     "output_type": "display_data"
    }
   ],
   "source": [
    "plt.figure(figsize=(10,3))\n",
    "plt.plot(tid,temp)\n",
    "plt.grid()\n",
    "plt.xlim(tid[0], tid[-1])\n",
    "plt.show()"
   ]
  },
  {
   "cell_type": "code",
   "execution_count": 2,
   "metadata": {},
   "outputs": [],
   "source": [
    "from yr.libyr import Yr\n",
    "import numpy as np\n",
    "#import json\n"
   ]
  },
  {
   "cell_type": "code",
   "execution_count": 5,
   "metadata": {
    "scrolled": false
   },
   "outputs": [
    {
     "name": "stdout",
     "output_type": "stream",
     "text": [
      "{\n",
      "    \"@datatype\": \"forecast\",\n",
      "    \"@from\": \"2022-01-06T16:00:00Z\",\n",
      "    \"@to\": \"2022-01-06T16:00:00Z\",\n",
      "    \"location\": {\n",
      "        \"@altitude\": \"303\",\n",
      "        \"@latitude\": \"60\",\n",
      "        \"@longitude\": \"14\",\n",
      "        \"temperature\": {\n",
      "            \"@id\": \"TTT\",\n",
      "            \"@unit\": \"celsius\",\n",
      "            \"@value\": \"-8.8\"\n",
      "        },\n",
      "        \"windDirection\": {\n",
      "            \"@id\": \"dd\",\n",
      "            \"@deg\": \"297.1\",\n",
      "            \"@name\": \"NW\"\n",
      "        },\n",
      "        \"windSpeed\": {\n",
      "            \"@id\": \"ff\",\n",
      "            \"@mps\": \"2.3\",\n",
      "            \"@beaufort\": \"2\",\n",
      "            \"@name\": \"Svak vind\"\n",
      "        },\n",
      "        \"windGust\": {\n",
      "            \"@id\": \"ff_gust\",\n",
      "            \"@mps\": \"5.5\"\n",
      "        },\n",
      "        \"humidity\": {\n",
      "            \"@unit\": \"percent\",\n",
      "            \"@value\": \"89.5\"\n",
      "        },\n",
      "        \"pressure\": {\n",
      "            \"@id\": \"pr\",\n",
      "            \"@unit\": \"hPa\",\n",
      "            \"@value\": \"1010.9\"\n",
      "        },\n",
      "        \"cloudiness\": {\n",
      "            \"@id\": \"NN\",\n",
      "            \"@percent\": \"0.1\"\n",
      "        },\n",
      "        \"fog\": {\n",
      "            \"@id\": \"FOG\",\n",
      "            \"@percent\": \"0.0\"\n",
      "        },\n",
      "        \"lowClouds\": {\n",
      "            \"@id\": \"LOW\",\n",
      "            \"@percent\": \"0.0\"\n",
      "        },\n",
      "        \"mediumClouds\": {\n",
      "            \"@id\": \"MEDIUM\",\n",
      "            \"@percent\": \"0.0\"\n",
      "        },\n",
      "        \"highClouds\": {\n",
      "            \"@id\": \"HIGH\",\n",
      "            \"@percent\": \"0.0\"\n",
      "        },\n",
      "        \"dewpointTemperature\": {\n",
      "            \"@id\": \"TD\",\n",
      "            \"@unit\": \"celsius\",\n",
      "            \"@value\": \"-10.9\"\n",
      "        }\n",
      "    }\n",
      "}\n"
     ]
    }
   ],
   "source": [
    "weather = Yr(coordinates=[60,14])\n",
    "now = weather.now(as_json=True)\n",
    "\n",
    "print(now)"
   ]
  },
  {
   "cell_type": "code",
   "execution_count": 6,
   "metadata": {},
   "outputs": [],
   "source": [
    "weather = Yr(location_name='Norge/Telemark/Skien/Skien')\n"
   ]
  },
  {
   "cell_type": "code",
   "execution_count": 5,
   "metadata": {},
   "outputs": [],
   "source": [
    "now={\n",
    "    \"@from\": \"2014-06-04T08:00:00\",\n",
    "    \"@to\": \"2014-06-04T12:00:00\",\n",
    "    \"@period\": \"1\",\n",
    "    \"symbol\": {\n",
    "        \"@number\": \"3\",\n",
    "        \"@numberEx\": \"3\",\n",
    "        \"@name\": \"Partly cloudy\",\n",
    "        \"@var\": \"03d\"\n",
    "    },\n",
    "    \"precipitation\": {\n",
    "        \"@value\": \"0\",\n",
    "        \"@minvalue\": \"0\",\n",
    "        \"@maxvalue\": \"0.1\"\n",
    "    },\n",
    "    \"windDirection\": {\n",
    "        \"@deg\": \"159.4\",\n",
    "        \"@code\": \"SSE\",\n",
    "        \"@name\": \"South-southeast\"\n",
    "    },\n",
    "    \"windSpeed\": {\n",
    "        \"@mps\": \"1.3\",\n",
    "        \"@name\": \"Light air\"\n",
    "    },\n",
    "    \"temperature\": {\n",
    "        \"@unit\": \"celsius\",\n",
    "        \"@value\": \"13\"\n",
    "    },\n",
    "    \"pressure\": {\n",
    "        \"@unit\": \"hPa\",\n",
    "        \"@value\": \"1012.1\"\n",
    "    }\n",
    "}"
   ]
  },
  {
   "cell_type": "code",
   "execution_count": 6,
   "metadata": {},
   "outputs": [
    {
     "data": {
      "text/plain": [
       "{'@from': '2014-06-04T08:00:00',\n",
       " '@to': '2014-06-04T12:00:00',\n",
       " '@period': '1',\n",
       " 'symbol': {'@number': '3',\n",
       "  '@numberEx': '3',\n",
       "  '@name': 'Partly cloudy',\n",
       "  '@var': '03d'},\n",
       " 'precipitation': {'@value': '0', '@minvalue': '0', '@maxvalue': '0.1'},\n",
       " 'windDirection': {'@deg': '159.4',\n",
       "  '@code': 'SSE',\n",
       "  '@name': 'South-southeast'},\n",
       " 'windSpeed': {'@mps': '1.3', '@name': 'Light air'},\n",
       " 'temperature': {'@unit': 'celsius', '@value': '13'},\n",
       " 'pressure': {'@unit': 'hPa', '@value': '1012.1'}}"
      ]
     },
     "execution_count": 6,
     "metadata": {},
     "output_type": "execute_result"
    }
   ],
   "source": [
    "now"
   ]
  },
  {
   "cell_type": "code",
   "execution_count": 13,
   "metadata": {},
   "outputs": [
    {
     "data": {
      "text/plain": [
       "159.4"
      ]
     },
     "execution_count": 13,
     "metadata": {},
     "output_type": "execute_result"
    }
   ],
   "source": [
    "np.float(now['windDirection']['@deg'])"
   ]
  },
  {
   "cell_type": "code",
   "execution_count": null,
   "metadata": {},
   "outputs": [],
   "source": []
  }
 ],
 "metadata": {
  "kernelspec": {
   "display_name": "Python 3",
   "language": "python",
   "name": "python3"
  },
  "language_info": {
   "codemirror_mode": {
    "name": "ipython",
    "version": 3
   },
   "file_extension": ".py",
   "mimetype": "text/x-python",
   "name": "python",
   "nbconvert_exporter": "python",
   "pygments_lexer": "ipython3",
   "version": "3.8.5"
  }
 },
 "nbformat": 4,
 "nbformat_minor": 4
}

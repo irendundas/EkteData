{
 "cells": [
  {
   "cell_type": "markdown",
   "metadata": {},
   "source": [
    "### Les inn csv-filer\n",
    "Vi bruker seklima.no til å laste ned data vi kan se på i sammenheng med selvinnhentede data over nedbør og temperatur. \n",
    "Dette er en oppskrift for hvordan man leser csv-filer inn i python etter at man har lastet ned datasettet. "
   ]
  },
  {
   "cell_type": "code",
   "execution_count": 1,
   "metadata": {},
   "outputs": [],
   "source": [
    "import pandas as pd\n",
    "import matplotlib.pyplot as plt"
   ]
  },
  {
   "cell_type": "markdown",
   "metadata": {},
   "source": [
    "Pass på at backslashene går rett vei. Dette er windows din default: \\. Det blir feil. Vi må bruke denne: /. Eventuelt kan vi skrive en dobbel windows slash: \\\\, eller sette en 'r' foran stien. Det er best standard å bruke unix syntax, altså /."
   ]
  },
  {
   "cell_type": "code",
   "execution_count": 2,
   "metadata": {},
   "outputs": [],
   "source": [
    "sti='W:/Work/Documents/EkteData/EkteData/data'\n",
    "fil='/soltimer.csv'\n",
    "\n",
    "sti='W:\\\\Work\\\\Documents\\\\EkteData\\\\EkteData\\\\data'\n",
    "fil='\\\\soltimer.csv'\n",
    "\n",
    "sti=r'W:\\Work\\Documents\\EkteData\\EkteData\\data'\n",
    "fil='\\soltimer.csv'"
   ]
  },
  {
   "cell_type": "markdown",
   "metadata": {},
   "source": [
    "Bruk pandas til å lese csv-filen. \n",
    "- `sep=';'` beskriver hva som deler kolonnene i filen. Hvis du åpner filen i f.eks. notepad ser du at dette er semikolon i vårt tilfelle, men det er ofte tab, komma (default), eller kolon. \n",
    "- Med `index_col` bestemmer du hvilken kolonne du vil sette til venstre og bruke som index. \n",
    "- `decimal=','` må være med fordi verdiene i denne csv-filen er lagret med komma som desimaltegn istedet for punktum. For at verdien skal tolkes som ett tall og ikke to må komma endres til punktum. \n",
    "- `dayfirst=True` sørger for at datoen tolkes riktig. Uten denne tolkes det første tallet i datoen som måned. "
   ]
  },
  {
   "cell_type": "code",
   "execution_count": 3,
   "metadata": {},
   "outputs": [],
   "source": [
    "df = pd.read_csv(\n",
    "    sti+fil, sep=';', index_col='Tid(norsk normaltid)', \n",
    "    dayfirst=True, decimal=','\n",
    ")"
   ]
  },
  {
   "cell_type": "markdown",
   "metadata": {},
   "source": [
    "df er nå en \"Pandas DataFrame\""
   ]
  },
  {
   "cell_type": "code",
   "execution_count": 116,
   "metadata": {},
   "outputs": [
    {
     "data": {
      "text/html": [
       "<div>\n",
       "<style scoped>\n",
       "    .dataframe tbody tr th:only-of-type {\n",
       "        vertical-align: middle;\n",
       "    }\n",
       "\n",
       "    .dataframe tbody tr th {\n",
       "        vertical-align: top;\n",
       "    }\n",
       "\n",
       "    .dataframe thead th {\n",
       "        text-align: right;\n",
       "    }\n",
       "</style>\n",
       "<table border=\"1\" class=\"dataframe\">\n",
       "  <thead>\n",
       "    <tr style=\"text-align: right;\">\n",
       "      <th></th>\n",
       "      <th>Navn</th>\n",
       "      <th>Stasjon</th>\n",
       "      <th>Solskinnstid (døgn)</th>\n",
       "    </tr>\n",
       "    <tr>\n",
       "      <th>Tid(norsk normaltid)</th>\n",
       "      <th></th>\n",
       "      <th></th>\n",
       "      <th></th>\n",
       "    </tr>\n",
       "  </thead>\n",
       "  <tbody>\n",
       "    <tr>\n",
       "      <th>29.12.2021</th>\n",
       "      <td>Flesland</td>\n",
       "      <td>SN50500</td>\n",
       "      <td>0.9</td>\n",
       "    </tr>\n",
       "    <tr>\n",
       "      <th>30.12.2021</th>\n",
       "      <td>Flesland</td>\n",
       "      <td>SN50500</td>\n",
       "      <td>0.0</td>\n",
       "    </tr>\n",
       "    <tr>\n",
       "      <th>31.12.2021</th>\n",
       "      <td>Flesland</td>\n",
       "      <td>SN50500</td>\n",
       "      <td>0.0</td>\n",
       "    </tr>\n",
       "    <tr>\n",
       "      <th>01.01.2022</th>\n",
       "      <td>Flesland</td>\n",
       "      <td>SN50500</td>\n",
       "      <td>0.0</td>\n",
       "    </tr>\n",
       "    <tr>\n",
       "      <th>04.01.2022</th>\n",
       "      <td>Flesland</td>\n",
       "      <td>SN50500</td>\n",
       "      <td>0.0</td>\n",
       "    </tr>\n",
       "    <tr>\n",
       "      <th>NaN</th>\n",
       "      <td>Data er gyldig per 04.01.2022 (CC BY 4.0), Met...</td>\n",
       "      <td>NaN</td>\n",
       "      <td>NaN</td>\n",
       "    </tr>\n",
       "  </tbody>\n",
       "</table>\n",
       "</div>"
      ],
      "text/plain": [
       "                                                                   Navn  \\\n",
       "Tid(norsk normaltid)                                                      \n",
       "29.12.2021                                                     Flesland   \n",
       "30.12.2021                                                     Flesland   \n",
       "31.12.2021                                                     Flesland   \n",
       "01.01.2022                                                     Flesland   \n",
       "04.01.2022                                                     Flesland   \n",
       "NaN                   Data er gyldig per 04.01.2022 (CC BY 4.0), Met...   \n",
       "\n",
       "                      Stasjon  Solskinnstid (døgn)  \n",
       "Tid(norsk normaltid)                                \n",
       "29.12.2021            SN50500                  0.9  \n",
       "30.12.2021            SN50500                  0.0  \n",
       "31.12.2021            SN50500                  0.0  \n",
       "01.01.2022            SN50500                  0.0  \n",
       "04.01.2022            SN50500                  0.0  \n",
       "NaN                       NaN                  NaN  "
      ]
     },
     "execution_count": 116,
     "metadata": {},
     "output_type": "execute_result"
    }
   ],
   "source": [
    "df"
   ]
  },
  {
   "cell_type": "markdown",
   "metadata": {},
   "source": [
    "Hvis du nå vil ha tak i f.eks. kun verdien for Solskinnstid den 29 desmeber 2021 skriver du slik:\n"
   ]
  },
  {
   "cell_type": "code",
   "execution_count": 117,
   "metadata": {},
   "outputs": [
    {
     "data": {
      "text/plain": [
       "0.9"
      ]
     },
     "execution_count": 117,
     "metadata": {},
     "output_type": "execute_result"
    }
   ],
   "source": [
    "df['Solskinnstid (døgn)'][0]"
   ]
  },
  {
   "cell_type": "code",
   "execution_count": 118,
   "metadata": {},
   "outputs": [
    {
     "data": {
      "text/plain": [
       "Tid(norsk normaltid)\n",
       "29.12.2021    0.9\n",
       "30.12.2021    0.0\n",
       "31.12.2021    0.0\n",
       "01.01.2022    0.0\n",
       "04.01.2022    0.0\n",
       "NaN           NaN\n",
       "Name: Solskinnstid (døgn), dtype: float64"
      ]
     },
     "execution_count": 118,
     "metadata": {},
     "output_type": "execute_result"
    }
   ],
   "source": [
    "df['Solskinnstid (døgn)']"
   ]
  },
  {
   "cell_type": "markdown",
   "metadata": {},
   "source": [
    "Hvis vi vil plotte disse dataene må vi i dette tilfellet ta vekk den siste linjen med informasjon. Legg merke til at det mangler et par vedier: 2 og 3 januar er falt ut av dette datasettet. Figuren under må leses med dette i bakhodet."
   ]
  },
  {
   "cell_type": "code",
   "execution_count": 119,
   "metadata": {},
   "outputs": [
    {
     "data": {
      "image/png": "[encoded data removed]",
      "text/plain": [
       "<Figure size 432x288 with 1 Axes>"
      ]
     },
     "metadata": {
      "needs_background": "light"
     },
     "output_type": "display_data"
    }
   ],
   "source": [
    "plt.plot(df['Solskinnstid (døgn)'][:-1])\n",
    "plt.show()"
   ]
  },
  {
   "cell_type": "markdown",
   "metadata": {},
   "source": [
    "Vi kan også redefinere df så vi slipper å tenke på denne siste linjen. I panda DataFrames angir man navnet til kolonnen først, og så hvilke rader man vil se på. Dette er litt forvirrende siden standard indeksering bruker \"row\" så \"column\". `df[:][:-1]` betyr altså \"alle kolonner\" (`[:]`), og \"alle rader utenom den siste\" (`[:-1]`)."
   ]
  },
  {
   "cell_type": "code",
   "execution_count": 120,
   "metadata": {},
   "outputs": [],
   "source": [
    "df=df[:][:-1]"
   ]
  },
  {
   "cell_type": "code",
   "execution_count": 121,
   "metadata": {},
   "outputs": [
    {
     "data": {
      "image/png": "[encoded data removed]",
      "text/plain": [
       "<Figure size 432x288 with 1 Axes>"
      ]
     },
     "metadata": {
      "needs_background": "light"
     },
     "output_type": "display_data"
    }
   ],
   "source": [
    "plt.plot(df['Solskinnstid (døgn)'])\n",
    "plt.show()"
   ]
  },
  {
   "cell_type": "code",
   "execution_count": 122,
   "metadata": {},
   "outputs": [
    {
     "data": {
      "image/png": "[encoded data removed]",
      "text/plain": [
       "<Figure size 432x288 with 1 Axes>"
      ]
     },
     "metadata": {
      "needs_background": "light"
     },
     "output_type": "display_data"
    }
   ],
   "source": [
    "df.plot(kind='bar', y='Solskinnstid (døgn)')\n",
    "plt.show()"
   ]
  },
  {
   "cell_type": "markdown",
   "metadata": {},
   "source": [
    "#### Pandas DataFrame til Numpy Array\n",
    "\n",
    "Du kan gjøre om Pandas DataFrame til et numpy array. Dette er praktisk hvis du f.eks. skal sammenligne et datasett som dette med et du har lest inn som numpy array. Man trenger i blant å konvertere mellom disse to formatene. "
   ]
  },
  {
   "cell_type": "code",
   "execution_count": 123,
   "metadata": {},
   "outputs": [
    {
     "data": {
      "text/plain": [
       "array([['Flesland', 'SN50500', 0.9],\n",
       "       ['Flesland', 'SN50500', 0.0],\n",
       "       ['Flesland', 'SN50500', 0.0],\n",
       "       ['Flesland', 'SN50500', 0.0],\n",
       "       ['Flesland', 'SN50500', 0.0]], dtype=object)"
      ]
     },
     "execution_count": 123,
     "metadata": {},
     "output_type": "execute_result"
    }
   ],
   "source": [
    "df.to_numpy()"
   ]
  },
  {
   "cell_type": "markdown",
   "metadata": {},
   "source": [
    "Siden vi har satt tiden til å være index kommer ikke denne med ved konverteringen. Derfor må vi laste inn csv-filen på nytt uten å spesifisere `index_col` slik at tiden kommer med. "
   ]
  },
  {
   "cell_type": "code",
   "execution_count": 130,
   "metadata": {},
   "outputs": [
    {
     "data": {
      "text/html": [
       "<div>\n",
       "<style scoped>\n",
       "    .dataframe tbody tr th:only-of-type {\n",
       "        vertical-align: middle;\n",
       "    }\n",
       "\n",
       "    .dataframe tbody tr th {\n",
       "        vertical-align: top;\n",
       "    }\n",
       "\n",
       "    .dataframe thead th {\n",
       "        text-align: right;\n",
       "    }\n",
       "</style>\n",
       "<table border=\"1\" class=\"dataframe\">\n",
       "  <thead>\n",
       "    <tr style=\"text-align: right;\">\n",
       "      <th></th>\n",
       "      <th>Navn</th>\n",
       "      <th>Stasjon</th>\n",
       "      <th>Tid(norsk normaltid)</th>\n",
       "      <th>Solskinnstid (døgn)</th>\n",
       "    </tr>\n",
       "  </thead>\n",
       "  <tbody>\n",
       "    <tr>\n",
       "      <th>0</th>\n",
       "      <td>Flesland</td>\n",
       "      <td>SN50500</td>\n",
       "      <td>2021-12-29</td>\n",
       "      <td>0.9</td>\n",
       "    </tr>\n",
       "    <tr>\n",
       "      <th>1</th>\n",
       "      <td>Flesland</td>\n",
       "      <td>SN50500</td>\n",
       "      <td>2021-12-30</td>\n",
       "      <td>0.0</td>\n",
       "    </tr>\n",
       "    <tr>\n",
       "      <th>2</th>\n",
       "      <td>Flesland</td>\n",
       "      <td>SN50500</td>\n",
       "      <td>2021-12-31</td>\n",
       "      <td>0.0</td>\n",
       "    </tr>\n",
       "    <tr>\n",
       "      <th>3</th>\n",
       "      <td>Flesland</td>\n",
       "      <td>SN50500</td>\n",
       "      <td>2022-01-01</td>\n",
       "      <td>0.0</td>\n",
       "    </tr>\n",
       "    <tr>\n",
       "      <th>4</th>\n",
       "      <td>Flesland</td>\n",
       "      <td>SN50500</td>\n",
       "      <td>2022-01-04</td>\n",
       "      <td>0.0</td>\n",
       "    </tr>\n",
       "  </tbody>\n",
       "</table>\n",
       "</div>"
      ],
      "text/plain": [
       "       Navn  Stasjon Tid(norsk normaltid)  Solskinnstid (døgn)\n",
       "0  Flesland  SN50500           2021-12-29                  0.9\n",
       "1  Flesland  SN50500           2021-12-30                  0.0\n",
       "2  Flesland  SN50500           2021-12-31                  0.0\n",
       "3  Flesland  SN50500           2022-01-01                  0.0\n",
       "4  Flesland  SN50500           2022-01-04                  0.0"
      ]
     },
     "execution_count": 130,
     "metadata": {},
     "output_type": "execute_result"
    }
   ],
   "source": [
    "df = pd.read_csv(\n",
    "    sti+fil, sep=';', decimal=',', parse_dates=['Tid(norsk normaltid)'],\n",
    "    dayfirst=True\n",
    ")\n",
    "df=df[:][:-1]\n",
    "df"
   ]
  },
  {
   "cell_type": "markdown",
   "metadata": {},
   "source": [
    "Konverter fra DataFrame til numpy array på nytt"
   ]
  },
  {
   "cell_type": "code",
   "execution_count": 131,
   "metadata": {},
   "outputs": [],
   "source": [
    "data=df.to_numpy()"
   ]
  },
  {
   "cell_type": "code",
   "execution_count": 132,
   "metadata": {},
   "outputs": [
    {
     "data": {
      "text/plain": [
       "array([['Flesland', 'SN50500', Timestamp('2021-12-29 00:00:00'), 0.9],\n",
       "       ['Flesland', 'SN50500', Timestamp('2021-12-30 00:00:00'), 0.0],\n",
       "       ['Flesland', 'SN50500', Timestamp('2021-12-31 00:00:00'), 0.0],\n",
       "       ['Flesland', 'SN50500', Timestamp('2022-01-01 00:00:00'), 0.0],\n",
       "       ['Flesland', 'SN50500', Timestamp('2022-01-04 00:00:00'), 0.0]],\n",
       "      dtype=object)"
      ]
     },
     "execution_count": 132,
     "metadata": {},
     "output_type": "execute_result"
    }
   ],
   "source": [
    "data"
   ]
  },
  {
   "cell_type": "code",
   "execution_count": 133,
   "metadata": {},
   "outputs": [
    {
     "data": {
      "text/plain": [
       "(0.9, 0.9)"
      ]
     },
     "execution_count": 133,
     "metadata": {},
     "output_type": "execute_result"
    }
   ],
   "source": [
    "data[0][-1], data[0,-1]"
   ]
  },
  {
   "cell_type": "code",
   "execution_count": 134,
   "metadata": {},
   "outputs": [
    {
     "data": {
      "text/plain": [
       "array([['Flesland', 'SN50500', Timestamp('2021-12-29 00:00:00'), 0.9],\n",
       "       ['Flesland', 'SN50500', Timestamp('2021-12-30 00:00:00'), 0.0],\n",
       "       ['Flesland', 'SN50500', Timestamp('2021-12-31 00:00:00'), 0.0]],\n",
       "      dtype=object)"
      ]
     },
     "execution_count": 134,
     "metadata": {},
     "output_type": "execute_result"
    }
   ],
   "source": [
    "data[0:3]"
   ]
  },
  {
   "cell_type": "markdown",
   "metadata": {},
   "source": [
    "Hvis du nå plotter en ny figur med numpy arrayet ser du at 2 og 3 januar (der det mangler verdier) tas hensyn til. "
   ]
  },
  {
   "cell_type": "code",
   "execution_count": 137,
   "metadata": {},
   "outputs": [
    {
     "data": {
      "image/png": "[encoded data removed]",
      "text/plain": [
       "<Figure size 720x216 with 1 Axes>"
      ]
     },
     "metadata": {
      "needs_background": "light"
     },
     "output_type": "display_data"
    }
   ],
   "source": [
    "plt.figure(figsize=(10,3))\n",
    "plt.plot(data[:,2],data[:,3], '*-')\n",
    "plt.grid()\n",
    "plt.show()"
   ]
  },
  {
   "cell_type": "code",
   "execution_count": 100,
   "metadata": {},
   "outputs": [
    {
     "data": {
      "text/plain": [
       "array([0.9, 0.0, 0.0, 0.0, 0.0], dtype=object)"
      ]
     },
     "execution_count": 100,
     "metadata": {},
     "output_type": "execute_result"
    }
   ],
   "source": [
    "data[:,-1]"
   ]
  },
  {
   "cell_type": "code",
   "execution_count": null,
   "metadata": {},
   "outputs": [],
   "source": []
  }
 ],
 "metadata": {
  "kernelspec": {
   "display_name": "Python 3",
   "language": "python",
   "name": "python3"
  },
  "language_info": {
   "codemirror_mode": {
    "name": "ipython",
    "version": 3
   },
   "file_extension": ".py",
   "mimetype": "text/x-python",
   "name": "python",
   "nbconvert_exporter": "python",
   "pygments_lexer": "ipython3",
   "version": "3.8.5"
  }
 },
 "nbformat": 4,
 "nbformat_minor": 4
}
